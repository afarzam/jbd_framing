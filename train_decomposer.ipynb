{
 "cells": [
  {
   "cell_type": "markdown",
   "metadata": {},
   "source": [
    "## Session Setup"
   ]
  },
  {
   "cell_type": "code",
   "execution_count": null,
   "metadata": {},
   "outputs": [
    {
     "name": "stdout",
     "output_type": "stream",
     "text": [
      "Devices visible: 4,5,6,7\n",
      "torch.cuda.device_count(): 4\n"
     ]
    }
   ],
   "source": [
    "# Check to make sure there are multiple gpus available\n",
    "import torch, os\n",
    "!export CUDA_LAUNCH_BLOCKING=1\n",
    "\n",
    "import gc, torch, os\n",
    "torch.cuda.empty_cache()\n",
    "gc.collect()\n",
    "\n",
    "os.environ[\"CUDA_LAUNCH_BLOCKING\"] = \"1\"\n",
    "os.environ[\"CUDA_VISIBLE_DEVICES\"] = \"4,5\"\n",
    "os.chdir(\"/mnt/home/amir/framingdecomp/framingDecomp\")\n",
    "\n",
    "print(\"Devices visible:\", os.environ.get(\"CUDA_VISIBLE_DEVICES\"))\n",
    "print(\"torch.cuda.device_count():\", torch.cuda.device_count())\n"
   ]
  },
  {
   "cell_type": "code",
   "execution_count": 2,
   "metadata": {},
   "outputs": [
    {
     "name": "stdout",
     "output_type": "stream",
     "text": [
      "2025-07-21 20:31:34,052 — INFO — Log file created at logs/decomposer_20250721_203134.log\n",
      "2025-07-21 20:31:34,066 — INFO — Config loaded and seeds set.\n"
     ]
    }
   ],
   "source": [
    "# ==== Cell: [Session setup] ====\n",
    "\n",
    "import os, sys, logging, random, yaml, time, uuid, json\n",
    "from pathlib import Path\n",
    "\n",
    "import torch\n",
    "import numpy as np\n",
    "\n",
    "# ——— switches you may tune ——————————————————————————\n",
    "USE_MULTIGPU     = True          # False → single-GPU\n",
    "# VISIBLE_DEVICES  = \"0,1,2,3\"\n",
    "# CFG_PATH         = \"configs/decomposer3.yaml\"\n",
    "CFG_PATH         = \"configs/decomposer_main.yaml\"\n",
    "# ————————————————————————————————————————————————\n",
    "\n",
    "\n",
    "# device = \"cuda\" if torch.cuda.is_available() else \"cpu\"\n",
    "# print(f\"Device: {device}, GPUs: {torch.cuda.device_count()}\")\n",
    "\n",
    "# ---------- logging ----------\n",
    "Path(\"logs\").mkdir(exist_ok=True)\n",
    "ts = time.strftime(\"%Y%m%d_%H%M%S\")\n",
    "log_path = Path(f\"logs/decomposer_{ts}.log\")\n",
    "\n",
    "# root logger -> both console and file\n",
    "logging.basicConfig(\n",
    "    level=logging.INFO,\n",
    "    format=\"%(asctime)s — %(levelname)s — %(message)s\",\n",
    "    handlers=[\n",
    "        logging.StreamHandler(sys.stdout),\n",
    "        logging.FileHandler(log_path, mode=\"w\")\n",
    "    ]\n",
    ")\n",
    "logger = logging.getLogger(\"train_decomposer\")\n",
    "logger.info(\"Log file created at %s\", log_path)\n",
    "\n",
    "\n",
    "# --- config, seeds, logging -----------------------------------\n",
    "with open(CFG_PATH, \"r\") as f:\n",
    "    config = yaml.safe_load(f)\n",
    "\n",
    "seed = config[\"experiment\"][\"seed\"]\n",
    "torch.manual_seed(seed)\n",
    "np.random.seed(seed)\n",
    "random.seed(seed)\n",
    "\n",
    "logger.info(\"Config loaded and seeds set.\")"
   ]
  },
  {
   "cell_type": "markdown",
   "metadata": {},
   "source": [
    "## Data Loading and Preprocessing"
   ]
  },
  {
   "cell_type": "code",
   "execution_count": null,
   "metadata": {},
   "outputs": [
    {
     "name": "stdout",
     "output_type": "stream",
     "text": [
      "2025-07-21 20:31:34,214 — INFO — Total processed samples: 528\n"
     ]
    }
   ],
   "source": [
    "# ==== Cell: [Data loading & preprocessing] ====\n",
    "\n",
    "import json\n",
    "from typing import List, Dict\n",
    "\n",
    "def load_jsonl(path: str) -> List[Dict]:\n",
    "    with open(path, \"r\") as f:\n",
    "        return [json.loads(l) for l in f if l.strip() and not l.strip().startswith(\"#\")]\n",
    "\n",
    "data_cfg = config[\"data\"]\n",
    "\n",
    "raw_F_harm  = load_jsonl(data_cfg[\"input_path_varyFraming\"])\n",
    "raw_G_harm  = load_jsonl(data_cfg[\"input_path_varyGoal\"])\n",
    "raw_F_ben   = load_jsonl(data_cfg[\"input_path_varyFraming_benign\"])\n",
    "raw_G_ben   = load_jsonl(data_cfg[\"input_path_varyGoal_benign\"])\n",
    "\n",
    "for e in raw_F_harm + raw_F_ben: e[\"split\"] = \"varyF\"\n",
    "for e in raw_G_harm + raw_G_ben: e[\"split\"] = \"varyG\"\n",
    "\n",
    "def _preprocess(entries: List[Dict], max_f_idx: int):\n",
    "    processed = []\n",
    "    for ent in entries:\n",
    "        req = [\"prompt\",\"goal\",\"goal_index\",\"framing_index\",\"split\"]\n",
    "        if not all(k in ent for k in req): \n",
    "            continue\n",
    "        g, f = ent[\"goal_index\"], ent[\"framing_index\"]\n",
    "        if ent[\"split\"] == \"varyF\":                 # re-index framings\n",
    "            f = g if f == 0 else max_f_idx + 1\n",
    "            max_f_idx = max(max_f_idx, f)\n",
    "        processed.append({\n",
    "            \"text\":  ent[\"prompt\"],\n",
    "            \"goal\":  ent[\"goal\"],\n",
    "            \"goal_index\": g,\n",
    "            \"framing_index\": f,\n",
    "            \"label\": ent.get(\"jailbroken\", False),\n",
    "            \"split\": ent[\"split\"],\n",
    "        })\n",
    "    return processed, max_f_idx\n",
    "\n",
    "max_idx = max(e[\"framing_index\"]\n",
    "              for e in raw_F_harm + raw_G_harm + raw_F_ben + raw_G_ben)\n",
    "\n",
    "P_F_harm, max_idx = _preprocess(raw_F_harm, max_idx)\n",
    "P_G_harm, max_idx = _preprocess(raw_G_harm, max_idx)\n",
    "P_F_ben , max_idx = _preprocess(raw_F_ben , max_idx)\n",
    "P_G_ben , max_idx = _preprocess(raw_G_ben , max_idx)\n",
    "\n",
    "all_samples = P_F_harm + P_G_harm + P_F_ben + P_G_ben\n",
    "n_total = len(all_samples)\n",
    "n_sample = int(n_total * config.get('sample_prop', 1.))\n",
    "n_sample = max(n_sample, 500)\n",
    "if n_sample < n_total:\n",
    "    logger.info(\"Sampling %d out of %d total samples\", n_sample, n_total)\n",
    "    all_samples = random.sample(all_samples, n_sample)\n",
    "logger.info(\"Total processed samples: %d\", len(all_samples))"
   ]
  },
  {
   "cell_type": "markdown",
   "metadata": {},
   "source": [
    "## Dataloader"
   ]
  },
  {
   "cell_type": "code",
   "execution_count": 4,
   "metadata": {},
   "outputs": [
    {
     "name": "stdout",
     "output_type": "stream",
     "text": [
      "2025-07-21 20:31:34,307 — INFO — Goal pairs: 807   Frame pairs: 986   Total pairs: 1793\n"
     ]
    }
   ],
   "source": [
    "# ==== Cell: [Dataset & dataloader] ====\n",
    "\n",
    "from collections import defaultdict\n",
    "from typing import Tuple\n",
    "from torch.utils.data import Dataset, DataLoader\n",
    "\n",
    "class DualPairDataset(Dataset):\n",
    "    \"\"\"\n",
    "    Returns (sample_a, sample_b, pair_type)\n",
    "      pair_type = 0 → same-goal / diff-frame  (from varyF)\n",
    "      pair_type = 1 → same-frame / diff-goal  (from varyG)\n",
    "    \"\"\"\n",
    "    def __init__(self, samples, stratified_capping=True):\n",
    "        self.samples = samples\n",
    "        self.goal_pairs, self.frame_pairs = [], []\n",
    "\n",
    "        by_goal_F  = defaultdict(list)\n",
    "        by_frame_G = defaultdict(list)\n",
    "\n",
    "        for idx, s in enumerate(samples):\n",
    "            if s[\"split\"] == \"varyF\":  by_goal_F [s[\"goal_index\"]   ].append(idx)\n",
    "            else:                      by_frame_G[s[\"framing_index\"]].append(idx)\n",
    "\n",
    "        for lst in by_goal_F.values():\n",
    "            self.goal_pairs  += [(a,b,0) for a in lst for b in lst if a<b]\n",
    "        for lst in by_frame_G.values():\n",
    "            self.frame_pairs += [(a,b,1) for a in lst for b in lst if a<b]\n",
    "\n",
    "        # --- stratified capping ---------------------------------\n",
    "        # this improved the performance a bit\n",
    "        if stratified_capping:\n",
    "            cap = int(np.median([len(v) for v in by_goal_F.values()]))\n",
    "            for g, lst in by_goal_F.items():\n",
    "                if len(lst) > cap:               # down-sample heavy goals\n",
    "                    by_goal_F[g] = random.sample(lst, cap)\n",
    "        # --------------------------------------------------------------\n",
    "\n",
    "        self.all_pairs = self.goal_pairs + self.frame_pairs\n",
    "\n",
    "    def __len__(self): return len(self.all_pairs)\n",
    "    def __getitem__(self, k): return self.all_pairs[k]\n",
    "\n",
    "def collate_dual(batch) -> Tuple[list,str,str,torch.Tensor]:\n",
    "    \"\"\"\n",
    "    batch → (texts, goal_ids, frame_ids, pair_types)\n",
    "    \"\"\"\n",
    "    texts, gid, fid, ptype = [], [], [], []\n",
    "    for a,b,t in batch:\n",
    "        sa, sb = all_samples[a], all_samples[b]\n",
    "        texts.extend([sa[\"text\"], sb[\"text\"]])\n",
    "        gid.extend([sa[\"goal_cid\"], sb[\"goal_cid\"]])\n",
    "        fid.extend([sa[\"framing_index\"], sb[\"framing_index\"]])\n",
    "        ptype.append(t)\n",
    "    return (texts,\n",
    "            torch.tensor(gid),\n",
    "            torch.tensor(fid),\n",
    "            torch.tensor(ptype))\n",
    "\n",
    "# contiguous goal ids\n",
    "unique_goals = sorted({s[\"goal_index\"] for s in all_samples})\n",
    "goal2cid     = {g:i for i,g in enumerate(unique_goals)}\n",
    "for s in all_samples: s[\"goal_cid\"] = goal2cid[s[\"goal_index\"]]\n",
    "\n",
    "train_ds = DualPairDataset(all_samples)\n",
    "logger.info(\"Goal pairs: %d   Frame pairs: %d   Total pairs: %d\",\n",
    "            len(train_ds.goal_pairs),\n",
    "            len(train_ds.frame_pairs),\n",
    "            len(train_ds))"
   ]
  },
  {
   "cell_type": "markdown",
   "metadata": {},
   "source": [
    "## Training and Launcher"
   ]
  },
  {
   "cell_type": "code",
   "execution_count": null,
   "metadata": {},
   "outputs": [],
   "source": [
    "# ==== Cell: [Training worker & launch] ====\n",
    "\n",
    "from accelerate import notebook_launcher\n",
    "import torch.multiprocessing as mp\n",
    "mp.set_start_method(\"spawn\", force=True)\n",
    "from utils.misc import seed_worker, set_seed\n",
    "\n",
    "\n",
    "MODEL_JOB_PREFIXES = {\n",
    "    \"meta-llama/Llama-3-8B-Instruct\": \"ll3\",\n",
    "    \"meta-llama/Llama-2-7b-chat-hf\": \"ll2\", \n",
    "    \"lmsys/vicuna-13b-v1.5\": \"vic13\",\n",
    "    \"lmsys/vicuna-7b-v1.5\": \"vic7\",\n",
    "    \"mistralai/Mistral-7B-v0.1\": \"mis\",\n",
    "    \"deepseek-ai/deepseek-llm-7b-chat\": \"dsk\",\n",
    "    \"gpt2-medium\": \"gpt2\",\n",
    "    \"google/gemma-2-9b\": \"gem9\",\n",
    "    \"google/gemma-2-2b\": \"gem2\"\n",
    "}\n",
    "ts = None\n",
    "run_id = None\n",
    "global run_id, ts, MODEL_JOB_PREFIXES\n",
    "\n",
    "def train_worker():\n",
    "    import gc, yaml, torch, torch.distributed as dist\n",
    "    from torch.optim import AdamW\n",
    "    from torch.optim.lr_scheduler import CosineAnnealingLR\n",
    "    from torch.nn.parallel import DistributedDataParallel as DDP\n",
    "    from train_test.decomposer_training import train_decomposer\n",
    "    from utils.model_utils import load_model_multiGPU\n",
    "    from models.encoder import HFEncoder_notPooled\n",
    "    from models.decomposer import NonlinearDecomposer, NonlinearDecomposer_tiny\n",
    "\n",
    "    gc.collect(); torch.cuda.empty_cache()\n",
    "\n",
    "    local_rank = int(os.environ[\"LOCAL_RANK\"])\n",
    "    world_size = int(os.environ.get(\"WORLD_SIZE\", \"1\"))\n",
    "    distributed = world_size > 1\n",
    "\n",
    "    if distributed:\n",
    "        dist.init_process_group(\n",
    "            backend=\"nccl\", init_method=\"env://\",\n",
    "            rank=local_rank, world_size=world_size,\n",
    "        )\n",
    "\n",
    "    torch.cuda.set_device(local_rank)\n",
    "    device = torch.device(\"cuda\", local_rank)\n",
    "\n",
    "    # ——— load LLM once per rank ———\n",
    "    model, tokenizer = load_model_multiGPU(\n",
    "        model_name=config[\"model\"][\"name\"],\n",
    "        local_rank=local_rank,\n",
    "        load_in_8bit=False,\n",
    "        load_in_4bit=False,\n",
    "    )\n",
    "    logger.info(\"Loaded model %s \", config[\"model\"][\"name\"])\n",
    "    \n",
    "    config[\"model\"][\"layers\"] = 'all'\n",
    "    if config[\"model\"][\"layers\"] == 'all':\n",
    "        num_layers = model.config.num_hidden_layers\n",
    "        layers = list(range(num_layers))\n",
    "    else:\n",
    "        layers = config[\"model\"][\"layers\"]\n",
    "        if isinstance(layers, int): layers = [layers]\n",
    "    \n",
    "    # --- Set arguments # TODO: Delete and instead fix the config\n",
    "    config['experiment']['use_sae'] = config['experiment'].get('use_sae', False)  # use Sparse Autoencoder\n",
    "    config['training']['num_epochs'] = 3\n",
    "    init_lambda_orth = config['lambda_orth']\n",
    "    config['lambda_repulse'] = config.get('lambda_repulse', 6.0) \n",
    "    config['lambda_adv'] = config.get('lambda_adv', 2.0)  \n",
    "    config['lambda_sparse'] = config.get('lambda_sparse', None)  \n",
    "    config['lambda_recon'] = config.get('lambda_recon', 1.0)  \n",
    "    config['lambda_Worth'] = config.get('lambda_Worth', 0.05)\n",
    "    config['grad_accum_steps'] = config.get('grad_accum_steps', 8)\n",
    "    config['model']['layers'] = 'all'\n",
    "    config['model']['layer_combine'] = config['model'].get('layer_combine', 'mean')\n",
    "    config['model']['last_token'] = config['model'].get('last_token', False)\n",
    "    config['training']['num_epochs']   = 3\n",
    "    config['training']['batch_size']   = 8\n",
    "    # ---\n",
    "    \n",
    "    for layer in layers:\n",
    "        torch.manual_seed(config['experiment']['seed'])\n",
    "        torch.cuda.manual_seed_all(config['experiment']['seed'])\n",
    "        np.random.seed(config['experiment']['seed'])\n",
    "        random.seed(config['experiment']['seed'])\n",
    "        torch.backends.cudnn.deterministic = True\n",
    "        torch.backends.cudnn.benchmark = False\n",
    "    \n",
    "        logger.info(f\"Training decomposer for layer {layer}\")\n",
    "        encoder = HFEncoder_notPooled(\n",
    "            model=model,\n",
    "            tokenizer=tokenizer,\n",
    "            device=device,\n",
    "            layers=[layer],\n",
    "            layer_combine=config[\"model\"].get(\"layer_combine\", \"mean\"),\n",
    "            last_token=config[\"model\"].get(\"last_token\", True),\n",
    "        )\n",
    "        encoder.eval()\n",
    "\n",
    "        # ——— decomposer ———\n",
    "        enc_dim = model.config.hidden_size\n",
    "        dec = NonlinearDecomposer(\n",
    "            enc_dim=enc_dim,\n",
    "            d_g=config[\"d_g\"],\n",
    "            d_f=config[\"d_f\"],\n",
    "            hidden_dim=config.get(\"hidden_dim\", 1024),\n",
    "            dropout=config.get(\"dropout\", 0.1),\n",
    "        ).to(device)\n",
    "        d_f = dec.Wf(torch.randn(4096).to(device)).shape[0]\n",
    "        dec = DDP(dec, device_ids=[local_rank])\n",
    "\n",
    "        # ——— dataloader ———\n",
    "        from torch.utils.data import DistributedSampler\n",
    "        sampler = DistributedSampler(train_ds, rank=local_rank,\n",
    "                                        num_replicas=world_size, shuffle=True, seed=config['experiment']['seed'])\n",
    "        gen = torch.Generator()\n",
    "        gen.manual_seed(config['experiment']['seed']) \n",
    "        train_loader = DataLoader(\n",
    "            train_ds,\n",
    "            batch_size=config[\"training\"][\"batch_size\"],\n",
    "            sampler=sampler,\n",
    "            collate_fn=collate_dual,\n",
    "            num_workers=8,\n",
    "            pin_memory=True,\n",
    "            shuffle=False,\n",
    "            worker_init_fn=lambda wid: set_seed(config['experiment']['seed'] + wid),#seed_worker,\n",
    "            generator=gen,\n",
    "        )\n",
    "\n",
    "        # ——— optim & sched ———\n",
    "        opt = AdamW(dec.parameters(), lr=config[\"lr\"])\n",
    "        sched = CosineAnnealingLR(opt,\n",
    "                                    T_max=len(train_ds)*config[\"training\"][\"num_epochs\"])\n",
    "\n",
    "        # adversarial classifier\n",
    "        n_goals = len(unique_goals)\n",
    "        adv_clf = torch.nn.Linear(d_f, n_goals).to(device)\n",
    "        adv_clf = DDP(adv_clf, device_ids=[local_rank])\n",
    "        adv_opt = AdamW(adv_clf.parameters(), lr=1e-4)\n",
    "\n",
    "        # ——— train ———\n",
    "        stats = train_decomposer(\n",
    "            encoder     = encoder,\n",
    "            decomposer  = dec,\n",
    "            dataloader  = train_loader,\n",
    "            optimizer   = opt,\n",
    "            adv_clf     = adv_clf,\n",
    "            adv_opt     = adv_opt,\n",
    "            lambda_adv  = config.get('lambda_adv', 2.0),\n",
    "            scheduler   = sched,\n",
    "            device      = device,\n",
    "            epochs      = config['training']['num_epochs'],\n",
    "            lambda_g    = config['lambda_g'],\n",
    "            lambda_f    = config['lambda_f'],\n",
    "            lambda_repulse = config.get('lambda_repulse', 6.0),  # optional\n",
    "            lambda_orth = config['lambda_orth']*10,\n",
    "            lambda_recon = config.get('lambda_recon', 1.0),  # optional\n",
    "            lambda_Worth = config.get('lambda_Worth', 0.25),\n",
    "            grad_clip   = config['grad_clip'],\n",
    "            grad_accum_steps = config[\"training\"].get('grad_accum_steps', 4),\n",
    "            log_every   = 50,\n",
    "            info        = logger.info,\n",
    "            layer_str= f\"{layer}\",\n",
    "        )\n",
    "\n",
    "        # ——— checkpoint (rank-0 only) ———\n",
    "        if local_rank == 0:\n",
    "            # ts = time.strftime(\"%Y%m%d_%H%M%S\")\n",
    "            # run_id = str(uuid.uuid4())\n",
    "            global run_id, ts, MODEL_JOB_PREFIXES\n",
    "            model_short = MODEL_JOB_PREFIXES.get(config[\"model\"][\"name\"], \"unknownModel\")\n",
    "            ckpt_dir = Path(f\"checkpoints/decomposer_simple/{model_short}_decomposer_layer{layer}_{ts}_{run_id}\")\n",
    "            ckpt_dir.mkdir(parents=True, exist_ok=True)\n",
    "            \n",
    "            if layer == 0:\n",
    "                config_filename = f\"./output/config_{model_short}_{ts}_{run_id}.yaml\"\n",
    "                with open(config_filename, \"w\") as f:\n",
    "                    yaml.safe_dump(config, f)\n",
    "\n",
    "            torch.save({k: v.cpu() for k, v in dec.module.state_dict().items()},\n",
    "                        ckpt_dir / \"weights.pt\")\n",
    "            with open(ckpt_dir / \"train_stats.json\", \"w\") as f:\n",
    "                json.dump(stats, f)\n",
    "            logger.info(\"Checkpoint for layer %d saved to %s\", layer, ckpt_dir)\n",
    "\n",
    "    if distributed:\n",
    "        dist.destroy_process_group()\n",
    "\n"
   ]
  },
  {
   "cell_type": "code",
   "execution_count": 7,
   "metadata": {},
   "outputs": [
    {
     "name": "stdout",
     "output_type": "stream",
     "text": [
      "Launching training on 2 GPUs.\n"
     ]
    },
    {
     "name": "stderr",
     "output_type": "stream",
     "text": [
      "[W721 20:31:36.154646833 socket.cpp:200] [c10d] The hostname of the client socket cannot be retrieved. err=-3\n",
      "[W721 20:31:36.155032780 socket.cpp:200] [c10d] The hostname of the client socket cannot be retrieved. err=-3\n",
      "[W721 20:31:38.670671036 socket.cpp:200] [c10d] The hostname of the client socket cannot be retrieved. err=-3\n",
      "[W721 20:31:38.671116813 socket.cpp:200] [c10d] The hostname of the client socket cannot be retrieved. err=-3\n",
      "[W721 20:31:38.696770116 socket.cpp:200] [c10d] The hostname of the client socket cannot be retrieved. err=-3\n",
      "[W721 20:31:38.696964803 socket.cpp:200] [c10d] The hostname of the client socket cannot be retrieved. err=-3\n",
      "/mnt/home/amir/jupyter-env/lib/python3.11/site-packages/transformers/models/auto/tokenization_auto.py:902: FutureWarning: The `use_auth_token` argument is deprecated and will be removed in v5 of Transformers. Please use `token` instead.\n",
      "  warnings.warn(\n",
      "/mnt/home/amir/jupyter-env/lib/python3.11/site-packages/transformers/models/auto/tokenization_auto.py:902: FutureWarning: The `use_auth_token` argument is deprecated and will be removed in v5 of Transformers. Please use `token` instead.\n",
      "  warnings.warn(\n",
      "/mnt/home/amir/jupyter-env/lib/python3.11/site-packages/transformers/models/auto/auto_factory.py:476: FutureWarning: The `use_auth_token` argument is deprecated and will be removed in v5 of Transformers. Please use `token` instead.\n",
      "  warnings.warn(\n",
      "/mnt/home/amir/jupyter-env/lib/python3.11/site-packages/transformers/models/auto/auto_factory.py:476: FutureWarning: The `use_auth_token` argument is deprecated and will be removed in v5 of Transformers. Please use `token` instead.\n",
      "  warnings.warn(\n"
     ]
    },
    {
     "data": {
      "application/vnd.jupyter.widget-view+json": {
       "model_id": "2e591dd42777436c8effedb1f3fd2262",
       "version_major": 2,
       "version_minor": 0
      },
      "text/plain": [
       "Loading checkpoint shards:   0%|          | 0/2 [00:00<?, ?it/s]"
      ]
     },
     "metadata": {},
     "output_type": "display_data"
    },
    {
     "data": {
      "application/vnd.jupyter.widget-view+json": {
       "model_id": "fa3852fd5c014186bd8517632b8248dc",
       "version_major": 2,
       "version_minor": 0
      },
      "text/plain": [
       "Loading checkpoint shards:   0%|          | 0/2 [00:00<?, ?it/s]"
      ]
     },
     "metadata": {},
     "output_type": "display_data"
    },
    {
     "name": "stdout",
     "output_type": "stream",
     "text": [
      "2025-07-21 20:31:45,613 — INFO — Training decomposer for layer -1\n",
      "2025-07-21 20:31:45,743 — INFO — Training decomposer for layer -1\n"
     ]
    },
    {
     "name": "stderr",
     "output_type": "stream",
     "text": [
      "/mnt/home/amir/framingdecomp/framingDecomp/train_test/decomposer_training.py:113: FutureWarning: `torch.cuda.amp.GradScaler(args...)` is deprecated. Please use `torch.amp.GradScaler('cuda', args...)` instead.\n",
      "  scaler = torch.cuda.amp.GradScaler()\n",
      "/mnt/home/amir/framingdecomp/framingDecomp/train_test/decomposer_training.py:113: FutureWarning: `torch.cuda.amp.GradScaler(args...)` is deprecated. Please use `torch.amp.GradScaler('cuda', args...)` instead.\n",
      "  scaler = torch.cuda.amp.GradScaler()\n",
      "epoch 0, layer -1:   0%|                                                                                               | 0/113 [00:00<?, ?it/s]/mnt/home/amir/framingdecomp/framingDecomp/train_test/decomposer_training.py:141: FutureWarning: `torch.cuda.amp.autocast(args...)` is deprecated. Please use `torch.amp.autocast('cuda', args...)` instead.\n",
      "  with torch.cuda.amp.autocast():\n",
      "/mnt/home/amir/framingdecomp/framingDecomp/train_test/decomposer_training.py:141: FutureWarning: `torch.cuda.amp.autocast(args...)` is deprecated. Please use `torch.amp.autocast('cuda', args...)` instead.\n",
      "  with torch.cuda.amp.autocast():\n",
      "epoch 0, layer -1:  43%|████████████████████████████████▉                                           | 49/113 [00:09<00:10,  6.23it/s, loss=103]"
     ]
    },
    {
     "name": "stdout",
     "output_type": "stream",
     "text": [
      "2025-07-21 20:31:56,421 — INFO — layer -1, [0:49], loss=196.6031\n",
      "2025-07-21 20:31:56,421 — INFO — layer -1, [0:49], loss=57.0091\n"
     ]
    },
    {
     "name": "stderr",
     "output_type": "stream",
     "text": [
      "epoch 0, layer -1:  88%|██████████████████████████████████████████████████████████████████▌         | 99/113 [00:17<00:02,  6.23it/s, loss=172]"
     ]
    },
    {
     "name": "stdout",
     "output_type": "stream",
     "text": [
      "2025-07-21 20:32:04,403 — INFO — layer -1, [0:99], loss=238.3431\n",
      "2025-07-21 20:32:04,403 — INFO — layer -1, [0:99], loss=211.8772\n"
     ]
    },
    {
     "name": "stderr",
     "output_type": "stream",
     "text": [
      "                                                                                                                                               "
     ]
    },
    {
     "name": "stdout",
     "output_type": "stream",
     "text": [
      "2025-07-21 20:32:06,353 — INFO — Checkpoint for layer -1 saved to checkpoints/decomposer_simple/decomposer_layer-1_20250721_203135_bcc3b110-b035-436e-9bbc-d4626b566cad\n"
     ]
    }
   ],
   "source": [
    "# ——— launch ———\n",
    "# from random import randint\n",
    "# os.environ[\"MASTER_PORT\"] = str(15000 + randint(0, 10000))\n",
    "\n",
    "# num_proc = torch.cuda.device_count() if USE_MULTIGPU else 1\n",
    "\n",
    "global run_id, ts\n",
    "ts = time.strftime(\"%Y%m%d_%H%M%S\")\n",
    "run_id = str(uuid.uuid4())\n",
    "num_proc=2\n",
    "notebook_launcher(train_worker, num_processes=num_proc)"
   ]
  },
  {
   "cell_type": "code",
   "execution_count": 8,
   "metadata": {},
   "outputs": [
    {
     "data": {
      "text/plain": [
       "<Logger train_decomposer (INFO)>"
      ]
     },
     "execution_count": 8,
     "metadata": {},
     "output_type": "execute_result"
    }
   ],
   "source": [
    "logger"
   ]
  },
  {
   "cell_type": "markdown",
   "metadata": {},
   "source": []
  }
 ],
 "metadata": {
  "kernelspec": {
   "display_name": "My Venv",
   "language": "python",
   "name": "mykernel"
  }
 },
 "nbformat": 4,
 "nbformat_minor": 4
}
