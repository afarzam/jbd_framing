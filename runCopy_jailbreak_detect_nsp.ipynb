{
 "cells": [
  {
   "cell_type": "markdown",
   "id": "e41a15ab",
   "metadata": {},
   "source": [
    "# Jailbreak Detect"
   ]
  },
  {
   "cell_type": "markdown",
   "id": "e890a919",
   "metadata": {},
   "source": [
    "## Session setup"
   ]
  },
  {
   "cell_type": "code",
   "execution_count": 1,
   "id": "0c717f64",
   "metadata": {},
   "outputs": [],
   "source": [
    "!export CUDA_LAUNCH_BLOCKING=1\n",
    "\n",
    "import os\n",
    "os.environ[\"CUDA_LAUNCH_BLOCKING\"] = \"1\"\n",
    "os.chdir(\"/mnt/home/amir/framingdecomp/framingDecomp\")\n",
    "\n",
    "import sys\n",
    "sys.path.append(os.getcwd())"
   ]
  },
  {
   "cell_type": "code",
   "execution_count": 2,
   "id": "60c86a17",
   "metadata": {},
   "outputs": [
    {
     "name": "stdout",
     "output_type": "stream",
     "text": [
      "Devices visible: 7\n",
      "torch.cud:a.device_count(): 1\n"
     ]
    }
   ],
   "source": [
    "# Check to make sure there are multiple gpus available\n",
    "import torch, os\n",
    "print(\"Devices visible:\", os.environ.get(\"CUDA_VISIBLE_DEVICES\"))\n",
    "print(\"torch.cud:a.device_count():\", torch.cuda.device_count())\n",
    "\n",
    "# os.environ[\"CUDA_VISIBLE_DEVICES\"] = \"6\"\n",
    "device = \"cuda\" if torch.cuda.is_available() else \"cpu\"\n",
    "# device = \"cuda\" if torch.cuda.is_available() else \"cpu\"\n"
   ]
  },
  {
   "cell_type": "code",
   "execution_count": 3,
   "id": "fe74d09f",
   "metadata": {},
   "outputs": [
    {
     "data": {
      "text/plain": [
       "'7'"
      ]
     },
     "execution_count": 3,
     "metadata": {},
     "output_type": "execute_result"
    }
   ],
   "source": [
    "os.environ.get(\"CUDA_VISIBLE_DEVICES\")"
   ]
  },
  {
   "cell_type": "code",
   "execution_count": 4,
   "id": "414edfb7",
   "metadata": {},
   "outputs": [
    {
     "data": {
      "text/plain": [
       "'/mnt/home/amir/framingdecomp/framingDecomp'"
      ]
     },
     "execution_count": 4,
     "metadata": {},
     "output_type": "execute_result"
    }
   ],
   "source": [
    "os.getcwd()"
   ]
  },
  {
   "cell_type": "code",
   "execution_count": 5,
   "id": "006d9847",
   "metadata": {},
   "outputs": [
    {
     "name": "stderr",
     "output_type": "stream",
     "text": [
      "INFO:__main__:Session setup complete.\n"
     ]
    },
    {
     "name": "stdout",
     "output_type": "stream",
     "text": [
      "Device: cuda, GPUs available: 1\n"
     ]
    }
   ],
   "source": [
    "# ==== Cell: [Session setup] ====\n",
    "\n",
    "import os\n",
    "import sys\n",
    "import logging\n",
    "import yaml\n",
    "import json\n",
    "import uuid\n",
    "import time\n",
    "import pickle\n",
    "import random\n",
    "from pathlib import Path\n",
    "from datetime import datetime\n",
    "\n",
    "import torch\n",
    "import numpy as np\n",
    "import pandas as pd\n",
    "from tqdm import tqdm\n",
    "\n",
    "from accelerate import notebook_launcher\n",
    "from transformers import AutoModelForCausalLM, AutoTokenizer\n",
    "from sklearn.decomposition import PCA\n",
    "from sklearn.metrics import roc_auc_score\n",
    "from scipy.stats import chi2\n",
    "import matplotlib.pyplot as plt\n",
    "\n",
    "from utils.misc import set_seed\n",
    "from utils.model_utils import load_model\n",
    "from models.encoder import HFEncoder_notPooled\n",
    "from models.decomposer import NonlinearDecomposer, NonlinearDecomposer_tiny\n",
    "\n",
    "# ——— Configuration switches ———\n",
    "USE_MULTIGPU       = False\n",
    "VISIBLE_DEVICES    = os.environ.get(\"CUDA_VISIBLE_DEVICES\")#\"0,1,2,3,4,5,6,7\"\n",
    "MIXED_PRECISION    = \"fp16\"\n",
    "DETECT_VIA_FRAMING = True\n",
    "\n",
    "# ——— GPU setup ———\n",
    "os.environ[\"CUDA_LAUNCH_BLOCKING\"] = \"1\"\n",
    "if USE_MULTIGPU:\n",
    "    os.environ[\"CUDA_VISIBLE_DEVICES\"] = VISIBLE_DEVICES\n",
    "\n",
    "device = \"cuda\" if torch.cuda.is_available() else \"cpu\"\n",
    "print(f\"Device: {device}, GPUs available: {torch.cuda.device_count()}\")\n",
    "\n",
    "# ——— Paths & IDs ———\n",
    "CFG_PATH    = \"configs/jb_detect.yaml\"\n",
    "# UNIQUE_ID = \"20250719_232328_fc7e001b-2263-4f0d-a7e3-7a614ea80326\" # all layers llama 2\n",
    "# UNIQUE_ID = \"20250721_204859_8666ba39-8c81-4293-8a3f-714efcc5f6f9\" # all layers vicuna 7b\n",
    "# UNIQUE_ID = \"20250722_025458_074a110c-2578-4143-87f1-763b1c892868\" # all layers Llama 3 8b\n",
    "UNIQUE_ID = \"20250722_171500_d895e0d2-babf-4915-b4f4-79de5c156b86\" # all layers vicuna 13b\n",
    "# UNIQUE_ID = \"20250722_164739_1a86b97e-6703-4060-8cc0-21ed0a7bc089\" # all layers Mistral 7b\n",
    "\n",
    "DECOMP_CKPT = Path(f\"./checkpoints/decomposer_simple/decomposer_{UNIQUE_ID}\")\n",
    "\n",
    "cfg_unique_id = UNIQUE_ID\n",
    "# cfg_unique_id = \"20250719_003746_3355037c-77e8-4595-85e9-7b1fd94e8bff\" # llama 2\n",
    "# cfg_unique_id = \"20250721_204859_8666ba39-8c81-4293-8a3f-714efcc5f6f9\" # vicuna 7b\n",
    "# cfg_unique_id = \"20250722_025458_074a110c-2578-4143-87f1-763b1c892868\" # all layers Llama 3 8b\n",
    "cfg_unique_id = \"vic13_20250722_171500_d895e0d2-babf-4915-b4f4-79de5c156b86\" # all layers vicuna 13b\n",
    "# cfg_unique_id = \"20250722_164739_1a86b97e-6703-4060-8cc0-21ed0a7bc089\" # all layers Mistral 7b\n",
    "CFG_OUT     = Path(f\"output/config_{cfg_unique_id}.yaml\")\n",
    "\n",
    "# ——— Load configs ———\n",
    "with open(CFG_OUT, 'r') as f:\n",
    "    cfg_out = yaml.safe_load(f)\n",
    "with open(CFG_PATH, 'r') as f:\n",
    "    config = yaml.safe_load(f)\n",
    "\n",
    "# override any layer settings from the output config\n",
    "config['model']['layers']         = cfg_out['model'].get('layers', 'last')\n",
    "config['model']['layer_combine']  = cfg_out['model'].get('layer_combine', 'mean')\n",
    "config['d_g'] = cfg_out['d_g']\n",
    "config['d_f'] = cfg_out['d_f']\n",
    "# config['hidden_dim'] = cfg_out['hidden_dim']\n",
    "ENC_LLM_NAME = cfg_out['model']['name']\n",
    "\n",
    "# ——— Logging & seeds ———\n",
    "logging.basicConfig(\n",
    "    level=logging.INFO,\n",
    "    format='%(asctime)s — %(name)s — %(levelname)s — %(message)s'\n",
    ")\n",
    "logger = logging.getLogger(__name__)\n",
    "\n",
    "seed = config['experiment']['seed']\n",
    "torch.manual_seed(seed)\n",
    "np.random.seed(seed)\n",
    "random.seed(seed)\n",
    "set_seed(seed)\n",
    "\n",
    "logger.info(\"Session setup complete.\")\n"
   ]
  },
  {
   "cell_type": "markdown",
   "id": "b9bff442",
   "metadata": {},
   "source": [
    "## Load Data"
   ]
  },
  {
   "cell_type": "markdown",
   "id": "f5bf6ac7",
   "metadata": {},
   "source": [
    "### Split again and reorganize by cats"
   ]
  },
  {
   "cell_type": "code",
   "execution_count": null,
   "id": "a8f070c9",
   "metadata": {},
   "outputs": [],
   "source": [
    "# # ==== Cell: [Data Loading & Preprocessing] ====\n",
    "\n",
    "# def load_jsonl(path: str):\n",
    "#     with open(path, 'r') as f:\n",
    "#         return [\n",
    "#             json.loads(line)\n",
    "#             for line in f\n",
    "#             if line.strip() and not line.strip().startswith('#')\n",
    "#         ]\n",
    "\n",
    "# # paths from config\n",
    "# data_cfg = config['data']\n",
    "# rawF_id            = load_jsonl(data_cfg[\"input_path_varyFraming_id\"])\n",
    "# rawG_id            = load_jsonl(data_cfg[\"input_path_varyGoal_id\"])\n",
    "# rawF_benign_id     = load_jsonl(data_cfg[\"input_path_varyFraming_benign_id\"])\n",
    "# rawG_benign_id     = load_jsonl(data_cfg[\"input_path_varyGoal_benign_id\"])\n",
    "# rawF_ood           = load_jsonl(data_cfg[\"input_path_varyFraming_ood\"])\n",
    "# rawG_ood           = load_jsonl(data_cfg[\"input_path_varyGoal_ood\"])\n",
    "# rawF_benign_ood    = load_jsonl(data_cfg[\"input_path_varyFraming_benign_ood\"])\n",
    "# rawG_benign_ood    = load_jsonl(data_cfg[\"input_path_varyGoal_benign_ood\"])\n",
    "\n",
    "\n",
    "# all_F_benign   = rawF_benign_id + rawF_benign_ood\n",
    "# all_G_benign   = rawG_benign_id + rawG_benign_ood\n",
    "# all_F_jailbrks = rawF_id        + rawF_ood\n",
    "# all_G_jailbrks = rawG_id        + rawG_ood\n",
    "\n",
    "# categories_F_benign = set([x['category'] for x in all_F_benign])\n",
    "# categories_G_benign = set([x['category'] for x in all_G_benign])\n",
    "# categories_F_jailbrks = set([x['category'] for x in all_F_jailbrks])\n",
    "# categories_G_jailbrks = set([x['category'] for x in all_G_jailbrks])\n",
    "# intersection = categories_F_benign.intersection(categories_G_benign)\n",
    "# intersection = intersection.intersection(categories_F_jailbrks)\n",
    "# intersection = intersection.intersection(categories_G_jailbrks)\n",
    "# import random\n",
    "# random.seed(seed)\n",
    "# ood_cats = set(random.sample(list(intersection), len(intersection) // 3))\n",
    "# id_cats = intersection.difference(ood_cats)\n",
    "\n",
    "\n",
    "# rawF_id            = [entry for entry in rawF_id\n",
    "#                       if entry['category'] in id_cats]\n",
    "# rawG_id            = [entry for entry in rawG_id\n",
    "#                       if entry['category'] in id_cats]\n",
    "# rawF_benign_id     = [entry for entry in rawF_benign_id\n",
    "#                             if entry['category'] in id_cats]\n",
    "# rawG_benign_id     = [entry for entry in rawG_benign_id\n",
    "#                       if entry['category'] in id_cats]\n",
    "# rawF_ood           = [entry for entry in rawF_ood\n",
    "#                       if entry['category'] in ood_cats]\n",
    "# rawG_ood           = [entry for entry in rawG_ood\n",
    "#                       if entry['category'] in ood_cats]\n",
    "# rawF_benign_ood    = [entry for entry in rawF_benign_ood\n",
    "#                             if entry['category'] in ood_cats]\n",
    "# rawG_benign_ood    = [entry for entry in rawG_benign_ood\n",
    "#                       if entry['category'] in ood_cats]"
   ]
  },
  {
   "cell_type": "code",
   "execution_count": 42,
   "id": "2a2dfad1",
   "metadata": {},
   "outputs": [
    {
     "name": "stdout",
     "output_type": "stream",
     "text": [
      "len(benign_id)=1778, len(jailbrks_id)=1743\n",
      "len(benign_ood)=192, len(jailbrks_ood)=167\n"
     ]
    }
   ],
   "source": [
    "# combine and flag\n",
    "benign_id    = rawF_benign_id + rawG_benign_id\n",
    "jailbrks_id  = rawF_id          + rawG_id\n",
    "benign_ood   = rawF_benign_ood  + rawG_benign_ood\n",
    "jailbrks_ood = rawF_ood         + rawG_ood\n",
    "\n",
    "print(f\"{len(benign_id)=}, {len(jailbrks_id)=}\")\n",
    "print(f\"{len(benign_ood)=}, {len(jailbrks_ood)=}\")\n",
    "\n",
    "# balance ID splits\n",
    "min_id = min(len(benign_id), len(jailbrks_id))\n",
    "benign_id   = random.sample(benign_id, min_id)\n",
    "jailbrks_id = random.sample(jailbrks_id, min_id)\n",
    "\n",
    "# extract raw prompts\n",
    "get_prompts = lambda items: [e[\"prompt\"] for e in items]\n",
    "ben_ID   = get_prompts(benign_id)\n",
    "jb_ID    = get_prompts(jailbrks_id)\n",
    "ben_OOD  = get_prompts(benign_ood)\n",
    "jb_OOD   = get_prompts(jailbrks_ood)\n"
   ]
  },
  {
   "cell_type": "markdown",
   "id": "c724872d",
   "metadata": {},
   "source": [
    "#### Load the original PAIR data"
   ]
  },
  {
   "cell_type": "code",
   "execution_count": null,
   "id": "b975980d",
   "metadata": {},
   "outputs": [],
   "source": [
    "# import os\n",
    "# import json\n",
    "# from pathlib import Path\n",
    "\n",
    "# def load_all_pair_prompts(black_box_dir=\"./data/artifacts/attack-artifacts/PAIR/black_box/\"):\n",
    "#     prompts = []\n",
    "#     for file in Path(black_box_dir).glob(\"*.json\"):\n",
    "#         with open(file, \"r\") as f:\n",
    "#             data = json.load(f)\n",
    "#             for jb in data.get(\"jailbreaks\", []):\n",
    "#                 if jb.get(\"prompt\") is not None:\n",
    "#                     prompts.append(jb[\"prompt\"])\n",
    "#     return prompts\n",
    "\n",
    "# all_pair_prompts = load_all_pair_prompts()\n",
    "# jb_ID = all_pair_prompts\n",
    "# jb_OOD = all_pair_prompts"
   ]
  },
  {
   "cell_type": "markdown",
   "id": "a7fce2e6",
   "metadata": {},
   "source": [
    "### Keep the same splits"
   ]
  },
  {
   "cell_type": "code",
   "execution_count": 6,
   "id": "667a2a3a",
   "metadata": {},
   "outputs": [
    {
     "name": "stdout",
     "output_type": "stream",
     "text": [
      "len(benign_id)=2562, len(jailbrks_id)=2724\n",
      "len(benign_ood)=672, len(jailbrks_ood)=705\n"
     ]
    }
   ],
   "source": [
    "# ==== Cell: [Data Loading & Preprocessing] ====\n",
    "\n",
    "def load_jsonl(path: str):\n",
    "    with open(path, 'r') as f:\n",
    "        return [\n",
    "            json.loads(line)\n",
    "            for line in f\n",
    "            if line.strip() and not line.strip().startswith('#')\n",
    "        ]\n",
    "\n",
    "# paths from config\n",
    "data_cfg = config['data']\n",
    "rawF_id            = load_jsonl(data_cfg[\"input_path_varyFraming_id\"])\n",
    "rawG_id            = load_jsonl(data_cfg[\"input_path_varyGoal_id\"])\n",
    "rawF_benign_id     = load_jsonl(data_cfg[\"input_path_varyFraming_benign_id\"])\n",
    "rawG_benign_id     = load_jsonl(data_cfg[\"input_path_varyGoal_benign_id\"])\n",
    "rawF_ood           = load_jsonl(data_cfg[\"input_path_varyFraming_ood\"])\n",
    "rawG_ood           = load_jsonl(data_cfg[\"input_path_varyGoal_ood\"])\n",
    "rawF_benign_ood    = load_jsonl(data_cfg[\"input_path_varyFraming_benign_ood\"])\n",
    "rawG_benign_ood    = load_jsonl(data_cfg[\"input_path_varyGoal_benign_ood\"])\n",
    "\n",
    "# combine and flag\n",
    "benign_id    = rawF_benign_id + rawG_benign_id\n",
    "jailbrks_id  = rawF_id          + rawG_id\n",
    "benign_ood   = rawF_benign_ood  + rawG_benign_ood\n",
    "jailbrks_ood = rawF_ood         + rawG_ood\n",
    "\n",
    "print(f\"{len(benign_id)=}, {len(jailbrks_id)=}\")\n",
    "print(f\"{len(benign_ood)=}, {len(jailbrks_ood)=}\")\n",
    "\n",
    "# balance ID splits\n",
    "min_id = min(len(benign_id), len(jailbrks_id))\n",
    "benign_id   = random.sample(benign_id, min_id)\n",
    "jailbrks_id = random.sample(jailbrks_id, min_id)\n",
    "\n",
    "# extract raw prompts\n",
    "get_prompts = lambda items: [e[\"prompt\"] for e in items]\n",
    "ben_ID   = get_prompts(benign_id)\n",
    "jb_ID    = get_prompts(jailbrks_id)\n",
    "ben_OOD  = get_prompts(benign_ood)\n",
    "jb_OOD   = get_prompts(jailbrks_ood)\n",
    "\n"
   ]
  },
  {
   "cell_type": "markdown",
   "id": "121948f8",
   "metadata": {},
   "source": [
    "## Load Model"
   ]
  },
  {
   "cell_type": "code",
   "execution_count": 7,
   "id": "5a8679c4",
   "metadata": {},
   "outputs": [
    {
     "name": "stderr",
     "output_type": "stream",
     "text": [
      "INFO:utils.model_utils:Loading model: lmsys/vicuna-13b-v1.5 on cuda\n",
      "/mnt/home/amir/jupyter-env/lib/python3.11/site-packages/transformers/models/auto/tokenization_auto.py:902: FutureWarning: The `use_auth_token` argument is deprecated and will be removed in v5 of Transformers. Please use `token` instead.\n",
      "  warnings.warn(\n",
      "/mnt/home/amir/jupyter-env/lib/python3.11/site-packages/transformers/models/auto/auto_factory.py:476: FutureWarning: The `use_auth_token` argument is deprecated and will be removed in v5 of Transformers. Please use `token` instead.\n",
      "  warnings.warn(\n"
     ]
    },
    {
     "data": {
      "application/vnd.jupyter.widget-view+json": {
       "model_id": "e8f26938e9444be0b55863234dd36f88",
       "version_major": 2,
       "version_minor": 0
      },
      "text/plain": [
       "Loading checkpoint shards:   0%|          | 0/3 [00:00<?, ?it/s]"
      ]
     },
     "metadata": {},
     "output_type": "display_data"
    },
    {
     "name": "stderr",
     "output_type": "stream",
     "text": [
      "The following generation flags are not valid and may be ignored: ['temperature', 'top_p']. Set `TRANSFORMERS_VERBOSITY=info` for more details.\n",
      "The following generation flags are not valid and may be ignored: ['temperature', 'top_p']. Set `TRANSFORMERS_VERBOSITY=info` for more details.\n"
     ]
    }
   ],
   "source": [
    "# # ==== Cell: [Model & Decomposer Initialization] ====\n",
    "\n",
    "# load LLM encoder\n",
    "model_llm, tokenizer = load_model(ENC_LLM_NAME, device=device)\n",
    "encoder = HFEncoder_notPooled(\n",
    "    model=model_llm,\n",
    "    tokenizer=tokenizer,\n",
    "    device=device,\n",
    "    layers=\"last\",#config['model']['layers'],\n",
    "    layer_combine=config['model']['layer_combine'],\n",
    ")\n",
    "\n",
    "# # load decomposer weights\n",
    "# ckpt = torch.load(DECOMP_CKPT / \"weights.pt\", map_location=device)\n",
    "# enc_dim_ckpt = ckpt[\"Wg.0.weight\"].shape[1]\n",
    "\n",
    "# decomposer = NonlinearDecomposer(\n",
    "#     enc_dim    = enc_dim_ckpt,\n",
    "#     d_g        = config['d_g'],\n",
    "#     d_f        = config['d_f'],\n",
    "#     hidden_dim = config.get('hidden_dim', 1024),\n",
    "#     dropout    = config.get('dropout', 0.1),\n",
    "# ).to(device)\n",
    "# # decomposer = NonlinearDecomposer_tiny(\n",
    "# #     enc_dim    = enc_dim_ckpt,\n",
    "# # ).to(device)\n",
    "\n",
    "# decomposer.load_state_dict(ckpt)\n",
    "# decomposer.half().eval()\n",
    "# decomposer.eval()\n",
    "# encoder.eval()\n",
    "\n",
    "# logger.info(f\"Loaded encoder + decomposer (enc_dim={enc_dim_ckpt}).\")\n"
   ]
  },
  {
   "cell_type": "markdown",
   "id": "0b918293",
   "metadata": {},
   "source": [
    "#### Find critical layer - nsp dist"
   ]
  },
  {
   "cell_type": "code",
   "execution_count": 8,
   "id": "9ddd9942",
   "metadata": {},
   "outputs": [],
   "source": [
    "# RUN_ID_dec = \"20250719\" # UNIQUE_ID # for llama2 only\n",
    "RUN_ID_dec = UNIQUE_ID # for llama2 only\n",
    "import re, glob, os\n",
    "\n",
    "pattern = re.compile(r\"decomposer_layer(\\d+)_\")\n",
    "ckpt_by_layer = {}\n",
    "# for p in glob.glob(f\"./checkpoints/decomposer_simple/decomposer_layer*{RUN_ID_dec}*\"):\n",
    "for p in glob.glob(f\"./checkpoints/decomposer_simple/vic13_decomposer_layer*{RUN_ID_dec}*\"): # for vicuna 13b only\n",
    "    m = pattern.search(os.path.basename(p))\n",
    "    if m: ckpt_by_layer[int(m.group(1))] = p"
   ]
  },
  {
   "cell_type": "code",
   "execution_count": 9,
   "id": "0477711d",
   "metadata": {},
   "outputs": [
    {
     "name": "stdout",
     "output_type": "stream",
     "text": [
      "\n",
      "\n",
      "\n",
      "layer 0:\n",
      "\n"
     ]
    },
    {
     "name": "stderr",
     "output_type": "stream",
     "text": [
      "100%|██████████████████████████████████████████████████████████████████████████████████████████████████████████████████████████████████████████████████████| 1/1 [00:03<00:00,  3.48s/it]\n"
     ]
    },
    {
     "name": "stdout",
     "output_type": "stream",
     "text": [
      "layer  0:   framing=1.9976 , goal=2.5273\n",
      "Best G: {'encoder_l': 0, 'score': np.float64(2.5273423966078457)}, Best F: {'encoder_l': 0, 'score': np.float64(1.9975943890248253)}\n",
      "\n",
      "\n",
      "\n",
      "layer 1:\n",
      "\n"
     ]
    },
    {
     "name": "stderr",
     "output_type": "stream",
     "text": [
      "100%|██████████████████████████████████████████████████████████████████████████████████████████████████████████████████████████████████████████████████████| 1/1 [00:03<00:00,  3.28s/it]\n"
     ]
    },
    {
     "name": "stdout",
     "output_type": "stream",
     "text": [
      "layer  1:   framing=6.3706 , goal=5.7617\n",
      "Best G: {'encoder_l': 1, 'score': np.float64(5.761684851224236)}, Best F: {'encoder_l': 1, 'score': np.float64(6.370583256595125)}\n",
      "\n",
      "\n",
      "\n",
      "layer 2:\n",
      "\n"
     ]
    },
    {
     "name": "stderr",
     "output_type": "stream",
     "text": [
      "100%|██████████████████████████████████████████████████████████████████████████████████████████████████████████████████████████████████████████████████████| 1/1 [00:03<00:00,  3.29s/it]\n"
     ]
    },
    {
     "name": "stdout",
     "output_type": "stream",
     "text": [
      "layer  2:   framing=7.1428 , goal=6.0072\n",
      "Best G: {'encoder_l': 2, 'score': np.float64(6.007231602901001)}, Best F: {'encoder_l': 2, 'score': np.float64(7.1428095201266295)}\n",
      "\n",
      "\n",
      "\n",
      "layer 3:\n",
      "\n"
     ]
    },
    {
     "name": "stderr",
     "output_type": "stream",
     "text": [
      "100%|██████████████████████████████████████████████████████████████████████████████████████████████████████████████████████████████████████████████████████| 1/1 [00:03<00:00,  3.15s/it]\n"
     ]
    },
    {
     "name": "stdout",
     "output_type": "stream",
     "text": [
      "layer  3:   framing=8.1389 , goal=6.6082\n",
      "Best G: {'encoder_l': 3, 'score': np.float64(6.608168451022776)}, Best F: {'encoder_l': 3, 'score': np.float64(8.138891393104446)}\n",
      "\n",
      "\n",
      "\n",
      "layer 4:\n",
      "\n"
     ]
    },
    {
     "name": "stderr",
     "output_type": "stream",
     "text": [
      "100%|██████████████████████████████████████████████████████████████████████████████████████████████████████████████████████████████████████████████████████| 1/1 [00:03<00:00,  3.29s/it]\n"
     ]
    },
    {
     "name": "stdout",
     "output_type": "stream",
     "text": [
      "layer  4:   framing=6.5323 , goal=6.2503\n",
      "Best G: {'encoder_l': 4, 'score': np.float64(6.2502800525968665)}, Best F: {'encoder_l': 4, 'score': np.float64(6.532277720822208)}\n",
      "\n",
      "\n",
      "\n",
      "layer 5:\n",
      "\n"
     ]
    },
    {
     "name": "stderr",
     "output_type": "stream",
     "text": [
      "100%|██████████████████████████████████████████████████████████████████████████████████████████████████████████████████████████████████████████████████████| 1/1 [00:03<00:00,  3.31s/it]\n"
     ]
    },
    {
     "name": "stdout",
     "output_type": "stream",
     "text": [
      "layer  5:   framing=5.3052 , goal=5.6883\n",
      "Best G: {'encoder_l': 5, 'score': np.float64(5.6883162694940985)}, Best F: {'encoder_l': 5, 'score': np.float64(5.305227021877235)}\n",
      "\n",
      "\n",
      "\n",
      "layer 6:\n",
      "\n"
     ]
    },
    {
     "name": "stderr",
     "output_type": "stream",
     "text": [
      "100%|██████████████████████████████████████████████████████████████████████████████████████████████████████████████████████████████████████████████████████| 1/1 [00:03<00:00,  3.23s/it]\n"
     ]
    },
    {
     "name": "stdout",
     "output_type": "stream",
     "text": [
      "layer  6:   framing=5.2965 , goal=5.8087\n",
      "Best G: {'encoder_l': 6, 'score': np.float64(5.808739079942538)}, Best F: {'encoder_l': 6, 'score': np.float64(5.296453330947226)}\n",
      "\n",
      "\n",
      "\n",
      "layer 7:\n",
      "\n"
     ]
    },
    {
     "name": "stderr",
     "output_type": "stream",
     "text": [
      "100%|██████████████████████████████████████████████████████████████████████████████████████████████████████████████████████████████████████████████████████| 1/1 [00:03<00:00,  3.30s/it]\n"
     ]
    },
    {
     "name": "stdout",
     "output_type": "stream",
     "text": [
      "layer  7:   framing=5.5928 , goal=5.4950\n",
      "Best G: {'encoder_l': 7, 'score': np.float64(5.494983959391104)}, Best F: {'encoder_l': 7, 'score': np.float64(5.592782978220041)}\n",
      "\n",
      "\n",
      "\n",
      "layer 8:\n",
      "\n"
     ]
    },
    {
     "name": "stderr",
     "output_type": "stream",
     "text": [
      "100%|██████████████████████████████████████████████████████████████████████████████████████████████████████████████████████████████████████████████████████| 1/1 [00:03<00:00,  3.30s/it]\n"
     ]
    },
    {
     "name": "stdout",
     "output_type": "stream",
     "text": [
      "layer  8:   framing=5.7589 , goal=5.3445\n",
      "Best G: {'encoder_l': 8, 'score': np.float64(5.344526047098769)}, Best F: {'encoder_l': 8, 'score': np.float64(5.758939438333123)}\n",
      "\n",
      "\n",
      "\n",
      "layer 9:\n",
      "\n"
     ]
    },
    {
     "name": "stderr",
     "output_type": "stream",
     "text": [
      "100%|██████████████████████████████████████████████████████████████████████████████████████████████████████████████████████████████████████████████████████| 1/1 [00:03<00:00,  3.29s/it]\n"
     ]
    },
    {
     "name": "stdout",
     "output_type": "stream",
     "text": [
      "layer  9:   framing=6.3387 , goal=5.1681\n",
      "Best G: {'encoder_l': 9, 'score': np.float64(5.168050448922689)}, Best F: {'encoder_l': 9, 'score': np.float64(6.338684822657897)}\n",
      "\n",
      "\n",
      "\n",
      "layer 10:\n",
      "\n"
     ]
    },
    {
     "name": "stderr",
     "output_type": "stream",
     "text": [
      "100%|██████████████████████████████████████████████████████████████████████████████████████████████████████████████████████████████████████████████████████| 1/1 [00:03<00:00,  3.25s/it]\n"
     ]
    },
    {
     "name": "stdout",
     "output_type": "stream",
     "text": [
      "layer 10:   framing=7.1624 , goal=5.3436\n",
      "Best G: {'encoder_l': 10, 'score': np.float64(5.34361037740408)}, Best F: {'encoder_l': 10, 'score': np.float64(7.162365139164139)}\n",
      "\n",
      "\n",
      "\n",
      "layer 11:\n",
      "\n"
     ]
    },
    {
     "name": "stderr",
     "output_type": "stream",
     "text": [
      "100%|██████████████████████████████████████████████████████████████████████████████████████████████████████████████████████████████████████████████████████| 1/1 [00:03<00:00,  3.31s/it]\n"
     ]
    },
    {
     "name": "stdout",
     "output_type": "stream",
     "text": [
      "layer 11:   framing=6.4171 , goal=4.6460\n",
      "Best G: {'encoder_l': 11, 'score': np.float64(4.64602007954663)}, Best F: {'encoder_l': 11, 'score': np.float64(6.417083931432585)}\n",
      "\n",
      "\n",
      "\n",
      "layer 12:\n",
      "\n"
     ]
    },
    {
     "name": "stderr",
     "output_type": "stream",
     "text": [
      "100%|██████████████████████████████████████████████████████████████████████████████████████████████████████████████████████████████████████████████████████| 1/1 [00:03<00:00,  3.31s/it]\n"
     ]
    },
    {
     "name": "stdout",
     "output_type": "stream",
     "text": [
      "layer 12:   framing=8.5848 , goal=4.5585\n",
      "Best G: {'encoder_l': 12, 'score': np.float64(4.558480224143569)}, Best F: {'encoder_l': 12, 'score': np.float64(8.584770052396378)}\n",
      "\n",
      "\n",
      "\n",
      "layer 13:\n",
      "\n"
     ]
    },
    {
     "name": "stderr",
     "output_type": "stream",
     "text": [
      "100%|██████████████████████████████████████████████████████████████████████████████████████████████████████████████████████████████████████████████████████| 1/1 [00:03<00:00,  3.29s/it]\n"
     ]
    },
    {
     "name": "stdout",
     "output_type": "stream",
     "text": [
      "layer 13:   framing=7.7814 , goal=3.9781\n",
      "Best G: {'encoder_l': 13, 'score': np.float64(3.978089898891533)}, Best F: {'encoder_l': 13, 'score': np.float64(7.781373625698689)}\n",
      "\n",
      "\n",
      "\n",
      "layer 14:\n",
      "\n"
     ]
    },
    {
     "name": "stderr",
     "output_type": "stream",
     "text": [
      "100%|██████████████████████████████████████████████████████████████████████████████████████████████████████████████████████████████████████████████████████| 1/1 [00:03<00:00,  3.17s/it]\n"
     ]
    },
    {
     "name": "stdout",
     "output_type": "stream",
     "text": [
      "layer 14:   framing=8.7971 , goal=5.1094\n",
      "Best G: {'encoder_l': 14, 'score': np.float64(5.109377850092858)}, Best F: {'encoder_l': 14, 'score': np.float64(8.797057915532655)}\n",
      "\n",
      "\n",
      "\n",
      "layer 15:\n",
      "\n"
     ]
    },
    {
     "name": "stderr",
     "output_type": "stream",
     "text": [
      "100%|██████████████████████████████████████████████████████████████████████████████████████████████████████████████████████████████████████████████████████| 1/1 [00:03<00:00,  3.31s/it]\n"
     ]
    },
    {
     "name": "stdout",
     "output_type": "stream",
     "text": [
      "layer 15:   framing=8.1994 , goal=4.9082\n",
      "Best G: {'encoder_l': 15, 'score': np.float64(4.908249234107173)}, Best F: {'encoder_l': 15, 'score': np.float64(8.199388646937935)}\n",
      "\n",
      "\n",
      "\n",
      "layer 16:\n",
      "\n"
     ]
    },
    {
     "name": "stderr",
     "output_type": "stream",
     "text": [
      "100%|██████████████████████████████████████████████████████████████████████████████████████████████████████████████████████████████████████████████████████| 1/1 [00:03<00:00,  3.16s/it]\n"
     ]
    },
    {
     "name": "stdout",
     "output_type": "stream",
     "text": [
      "layer 16:   framing=8.9589 , goal=5.1385\n",
      "Best G: {'encoder_l': 16, 'score': np.float64(5.138455951917531)}, Best F: {'encoder_l': 16, 'score': np.float64(8.95886791127011)}\n",
      "\n",
      "\n",
      "\n",
      "layer 17:\n",
      "\n"
     ]
    },
    {
     "name": "stderr",
     "output_type": "stream",
     "text": [
      "100%|██████████████████████████████████████████████████████████████████████████████████████████████████████████████████████████████████████████████████████| 1/1 [00:03<00:00,  3.22s/it]\n"
     ]
    },
    {
     "name": "stdout",
     "output_type": "stream",
     "text": [
      "layer 17:   framing=9.6740 , goal=4.1123\n",
      "Best G: {'encoder_l': 17, 'score': np.float64(4.11226702858375)}, Best F: {'encoder_l': 17, 'score': np.float64(9.67396200652483)}\n",
      "\n",
      "\n",
      "\n",
      "layer 18:\n",
      "\n"
     ]
    },
    {
     "name": "stderr",
     "output_type": "stream",
     "text": [
      "100%|██████████████████████████████████████████████████████████████████████████████████████████████████████████████████████████████████████████████████████| 1/1 [00:03<00:00,  3.31s/it]\n"
     ]
    },
    {
     "name": "stdout",
     "output_type": "stream",
     "text": [
      "layer 18:   framing=9.3009 , goal=4.6134\n",
      "Best G: {'encoder_l': 18, 'score': np.float64(4.61336754089305)}, Best F: {'encoder_l': 18, 'score': np.float64(9.300907608936857)}\n",
      "\n",
      "\n",
      "\n",
      "layer 19:\n",
      "\n"
     ]
    },
    {
     "name": "stderr",
     "output_type": "stream",
     "text": [
      "100%|██████████████████████████████████████████████████████████████████████████████████████████████████████████████████████████████████████████████████████| 1/1 [00:03<00:00,  3.86s/it]\n"
     ]
    },
    {
     "name": "stdout",
     "output_type": "stream",
     "text": [
      "layer 19:   framing=8.7936 , goal=4.0653\n",
      "Best G: {'encoder_l': 19, 'score': np.float64(4.065337006751308)}, Best F: {'encoder_l': 19, 'score': np.float64(8.793609551390126)}\n",
      "\n",
      "\n",
      "\n",
      "layer 20:\n",
      "\n"
     ]
    },
    {
     "name": "stderr",
     "output_type": "stream",
     "text": [
      "100%|██████████████████████████████████████████████████████████████████████████████████████████████████████████████████████████████████████████████████████| 1/1 [00:03<00:00,  3.31s/it]\n"
     ]
    },
    {
     "name": "stdout",
     "output_type": "stream",
     "text": [
      "layer 20:   framing=8.8121 , goal=4.6114\n",
      "Best G: {'encoder_l': 20, 'score': np.float64(4.611436322974303)}, Best F: {'encoder_l': 20, 'score': np.float64(8.812104096506749)}\n",
      "\n",
      "\n",
      "\n",
      "layer 21:\n",
      "\n"
     ]
    },
    {
     "name": "stderr",
     "output_type": "stream",
     "text": [
      "100%|██████████████████████████████████████████████████████████████████████████████████████████████████████████████████████████████████████████████████████| 1/1 [00:03<00:00,  3.25s/it]\n"
     ]
    },
    {
     "name": "stdout",
     "output_type": "stream",
     "text": [
      "layer 21:   framing=8.4729 , goal=4.4344\n",
      "Best G: {'encoder_l': 21, 'score': np.float64(4.434395165057689)}, Best F: {'encoder_l': 21, 'score': np.float64(8.472942064809132)}\n",
      "\n",
      "\n",
      "\n",
      "layer 22:\n",
      "\n"
     ]
    },
    {
     "name": "stderr",
     "output_type": "stream",
     "text": [
      "100%|██████████████████████████████████████████████████████████████████████████████████████████████████████████████████████████████████████████████████████| 1/1 [00:03<00:00,  3.29s/it]\n"
     ]
    },
    {
     "name": "stdout",
     "output_type": "stream",
     "text": [
      "layer 22:   framing=8.6753 , goal=3.9094\n",
      "Best G: {'encoder_l': 22, 'score': np.float64(3.9094315400554387)}, Best F: {'encoder_l': 22, 'score': np.float64(8.675289142300706)}\n",
      "\n",
      "\n",
      "\n",
      "layer 23:\n",
      "\n"
     ]
    },
    {
     "name": "stderr",
     "output_type": "stream",
     "text": [
      "100%|██████████████████████████████████████████████████████████████████████████████████████████████████████████████████████████████████████████████████████| 1/1 [00:03<00:00,  3.14s/it]\n"
     ]
    },
    {
     "name": "stdout",
     "output_type": "stream",
     "text": [
      "layer 23:   framing=8.5655 , goal=3.8244\n",
      "Best G: {'encoder_l': 23, 'score': np.float64(3.8244329783790465)}, Best F: {'encoder_l': 23, 'score': np.float64(8.565526193586699)}\n",
      "\n",
      "\n",
      "\n",
      "layer 24:\n",
      "\n"
     ]
    },
    {
     "name": "stderr",
     "output_type": "stream",
     "text": [
      "100%|██████████████████████████████████████████████████████████████████████████████████████████████████████████████████████████████████████████████████████| 1/1 [00:03<00:00,  3.30s/it]\n"
     ]
    },
    {
     "name": "stdout",
     "output_type": "stream",
     "text": [
      "layer 24:   framing=6.9276 , goal=4.0389\n",
      "Best G: {'encoder_l': 24, 'score': np.float64(4.038910397904468)}, Best F: {'encoder_l': 24, 'score': np.float64(6.927566420550147)}\n",
      "\n",
      "\n",
      "\n",
      "layer 25:\n",
      "\n"
     ]
    },
    {
     "name": "stderr",
     "output_type": "stream",
     "text": [
      "100%|██████████████████████████████████████████████████████████████████████████████████████████████████████████████████████████████████████████████████████| 1/1 [00:03<00:00,  3.24s/it]\n"
     ]
    },
    {
     "name": "stdout",
     "output_type": "stream",
     "text": [
      "layer 25:   framing=5.8596 , goal=3.7801\n",
      "Best G: {'encoder_l': 25, 'score': np.float64(3.780130073768209)}, Best F: {'encoder_l': 25, 'score': np.float64(5.859642837301982)}\n",
      "\n",
      "\n",
      "\n",
      "layer 26:\n",
      "\n"
     ]
    },
    {
     "name": "stderr",
     "output_type": "stream",
     "text": [
      "100%|██████████████████████████████████████████████████████████████████████████████████████████████████████████████████████████████████████████████████████| 1/1 [00:03<00:00,  3.33s/it]\n"
     ]
    },
    {
     "name": "stdout",
     "output_type": "stream",
     "text": [
      "layer 26:   framing=4.8046 , goal=3.7926\n",
      "Best G: {'encoder_l': 26, 'score': np.float64(3.792577989819254)}, Best F: {'encoder_l': 26, 'score': np.float64(4.80456772336025)}\n",
      "\n",
      "\n",
      "\n",
      "layer 27:\n",
      "\n"
     ]
    },
    {
     "name": "stderr",
     "output_type": "stream",
     "text": [
      "100%|██████████████████████████████████████████████████████████████████████████████████████████████████████████████████████████████████████████████████████| 1/1 [00:03<00:00,  3.19s/it]\n"
     ]
    },
    {
     "name": "stdout",
     "output_type": "stream",
     "text": [
      "layer 27:   framing=5.5186 , goal=3.5939\n",
      "Best G: {'encoder_l': 27, 'score': np.float64(3.593904079057346)}, Best F: {'encoder_l': 27, 'score': np.float64(5.5185849524163375)}\n",
      "\n",
      "\n",
      "\n",
      "layer 28:\n",
      "\n"
     ]
    },
    {
     "name": "stderr",
     "output_type": "stream",
     "text": [
      "100%|██████████████████████████████████████████████████████████████████████████████████████████████████████████████████████████████████████████████████████| 1/1 [00:03<00:00,  3.74s/it]\n"
     ]
    },
    {
     "name": "stdout",
     "output_type": "stream",
     "text": [
      "layer 28:   framing=4.8813 , goal=3.4730\n",
      "Best G: {'encoder_l': 28, 'score': np.float64(3.472973073340153)}, Best F: {'encoder_l': 28, 'score': np.float64(4.881288950259964)}\n",
      "\n",
      "\n",
      "\n",
      "layer 29:\n",
      "\n"
     ]
    },
    {
     "name": "stderr",
     "output_type": "stream",
     "text": [
      "100%|██████████████████████████████████████████████████████████████████████████████████████████████████████████████████████████████████████████████████████| 1/1 [00:03<00:00,  3.22s/it]\n"
     ]
    },
    {
     "name": "stdout",
     "output_type": "stream",
     "text": [
      "layer 29:   framing=5.6446 , goal=3.5067\n",
      "Best G: {'encoder_l': 29, 'score': np.float64(3.5067270352801945)}, Best F: {'encoder_l': 29, 'score': np.float64(5.644638932386899)}\n",
      "\n",
      "\n",
      "\n",
      "layer 30:\n",
      "\n"
     ]
    },
    {
     "name": "stderr",
     "output_type": "stream",
     "text": [
      "100%|██████████████████████████████████████████████████████████████████████████████████████████████████████████████████████████████████████████████████████| 1/1 [00:03<00:00,  3.16s/it]\n"
     ]
    },
    {
     "name": "stdout",
     "output_type": "stream",
     "text": [
      "layer 30:   framing=5.3546 , goal=3.3851\n",
      "Best G: {'encoder_l': 30, 'score': np.float64(3.385052819269075)}, Best F: {'encoder_l': 30, 'score': np.float64(5.354578487781947)}\n",
      "\n",
      "\n",
      "\n",
      "layer 31:\n",
      "\n"
     ]
    },
    {
     "name": "stderr",
     "output_type": "stream",
     "text": [
      "100%|██████████████████████████████████████████████████████████████████████████████████████████████████████████████████████████████████████████████████████| 1/1 [00:03<00:00,  3.16s/it]\n"
     ]
    },
    {
     "name": "stdout",
     "output_type": "stream",
     "text": [
      "layer 31:   framing=5.4019 , goal=3.4855\n",
      "Best G: {'encoder_l': 31, 'score': np.float64(3.485536312407987)}, Best F: {'encoder_l': 31, 'score': np.float64(5.401915928402939)}\n",
      "\n",
      "\n",
      "\n",
      "layer 32:\n",
      "\n"
     ]
    },
    {
     "name": "stderr",
     "output_type": "stream",
     "text": [
      "100%|██████████████████████████████████████████████████████████████████████████████████████████████████████████████████████████████████████████████████████| 1/1 [00:03<00:00,  3.23s/it]\n"
     ]
    },
    {
     "name": "stdout",
     "output_type": "stream",
     "text": [
      "layer 32:   framing=4.5155 , goal=3.6588\n",
      "Best G: {'encoder_l': 32, 'score': np.float64(3.658792492246247)}, Best F: {'encoder_l': 32, 'score': np.float64(4.515451154961106)}\n",
      "\n",
      "\n",
      "\n",
      "layer 33:\n",
      "\n"
     ]
    },
    {
     "name": "stderr",
     "output_type": "stream",
     "text": [
      "100%|██████████████████████████████████████████████████████████████████████████████████████████████████████████████████████████████████████████████████████| 1/1 [00:03<00:00,  3.31s/it]\n"
     ]
    },
    {
     "name": "stdout",
     "output_type": "stream",
     "text": [
      "layer 33:   framing=4.6890 , goal=3.4259\n",
      "Best G: {'encoder_l': 33, 'score': np.float64(3.4259492675281096)}, Best F: {'encoder_l': 33, 'score': np.float64(4.689000537887338)}\n",
      "\n",
      "\n",
      "\n",
      "layer 34:\n",
      "\n"
     ]
    },
    {
     "name": "stderr",
     "output_type": "stream",
     "text": [
      "100%|██████████████████████████████████████████████████████████████████████████████████████████████████████████████████████████████████████████████████████| 1/1 [00:03<00:00,  3.30s/it]\n"
     ]
    },
    {
     "name": "stdout",
     "output_type": "stream",
     "text": [
      "layer 34:   framing=5.4334 , goal=3.4756\n",
      "Best G: {'encoder_l': 34, 'score': np.float64(3.4755984573684406)}, Best F: {'encoder_l': 34, 'score': np.float64(5.4333794672587725)}\n",
      "\n",
      "\n",
      "\n",
      "layer 35:\n",
      "\n"
     ]
    },
    {
     "name": "stderr",
     "output_type": "stream",
     "text": [
      "100%|██████████████████████████████████████████████████████████████████████████████████████████████████████████████████████████████████████████████████████| 1/1 [00:03<00:00,  3.19s/it]\n"
     ]
    },
    {
     "name": "stdout",
     "output_type": "stream",
     "text": [
      "layer 35:   framing=4.7563 , goal=3.1414\n",
      "Best G: {'encoder_l': 35, 'score': np.float64(3.141367468628525)}, Best F: {'encoder_l': 35, 'score': np.float64(4.756328840955035)}\n",
      "\n",
      "\n",
      "\n",
      "layer 36:\n",
      "\n"
     ]
    },
    {
     "name": "stderr",
     "output_type": "stream",
     "text": [
      "100%|██████████████████████████████████████████████████████████████████████████████████████████████████████████████████████████████████████████████████████| 1/1 [00:03<00:00,  3.28s/it]\n"
     ]
    },
    {
     "name": "stdout",
     "output_type": "stream",
     "text": [
      "layer 36:   framing=4.0850 , goal=3.1012\n",
      "Best G: {'encoder_l': 36, 'score': np.float64(3.1011836110731057)}, Best F: {'encoder_l': 36, 'score': np.float64(4.084956000544779)}\n",
      "\n",
      "\n",
      "\n",
      "layer 37:\n",
      "\n"
     ]
    },
    {
     "name": "stderr",
     "output_type": "stream",
     "text": [
      "100%|██████████████████████████████████████████████████████████████████████████████████████████████████████████████████████████████████████████████████████| 1/1 [00:03<00:00,  3.88s/it]\n"
     ]
    },
    {
     "name": "stdout",
     "output_type": "stream",
     "text": [
      "layer 37:   framing=4.1352 , goal=3.0135\n",
      "Best G: {'encoder_l': 37, 'score': np.float64(3.0134902208497674)}, Best F: {'encoder_l': 37, 'score': np.float64(4.135165814692627)}\n",
      "\n",
      "\n",
      "\n",
      "layer 38:\n",
      "\n"
     ]
    },
    {
     "name": "stderr",
     "output_type": "stream",
     "text": [
      "100%|██████████████████████████████████████████████████████████████████████████████████████████████████████████████████████████████████████████████████████| 1/1 [00:03<00:00,  3.21s/it]\n"
     ]
    },
    {
     "name": "stdout",
     "output_type": "stream",
     "text": [
      "layer 38:   framing=3.8076 , goal=2.5369\n",
      "Best G: {'encoder_l': 38, 'score': np.float64(2.5368641681538624)}, Best F: {'encoder_l': 38, 'score': np.float64(3.8076459416621824)}\n",
      "\n",
      "\n",
      "\n",
      "layer 39:\n",
      "\n"
     ]
    },
    {
     "name": "stderr",
     "output_type": "stream",
     "text": [
      "100%|██████████████████████████████████████████████████████████████████████████████████████████████████████████████████████████████████████████████████████| 1/1 [00:03<00:00,  3.30s/it]"
     ]
    },
    {
     "name": "stdout",
     "output_type": "stream",
     "text": [
      "layer 39:   framing=2.7478 , goal=2.5116\n",
      "Best G: {'encoder_l': 39, 'score': np.float64(2.5115880768406518)}, Best F: {'encoder_l': 39, 'score': np.float64(2.7478119405947345)}\n"
     ]
    },
    {
     "name": "stderr",
     "output_type": "stream",
     "text": [
      "\n"
     ]
    }
   ],
   "source": [
    "N_CAL = 200              # or leave tunable in YAML\n",
    "cal_benign   = random.sample(ben_ID,    N_CAL//2)\n",
    "cal_jailbreak= random.sample(jb_ID,  N_CAL//2)\n",
    "\n",
    "from utils.critial_layer import find_critical_layers, find_critical_layers_dist\n",
    "\n",
    "layers = 'all'#config[\"model\"][\"layers\"]\n",
    "if layers == 'all':\n",
    "    num_layers = model_llm.config.num_hidden_layers\n",
    "    layers = list(range(num_layers))\n",
    "\n",
    "cl_outs = dict()\n",
    "best_g, best_f = dict(), dict()\n",
    "for layer in layers:\n",
    "    # ==== Cell: [Model & Decomposer Initialization] ====\n",
    "\n",
    "    # load decomposer weights\n",
    "    ckpt = torch.load(f\"{ckpt_by_layer[layer]}/weights.pt\", map_location=device)\n",
    "    enc_dim_ckpt = ckpt[\"Wg.0.weight\"].shape[1]\n",
    "\n",
    "    decomposer = NonlinearDecomposer(\n",
    "        enc_dim    = enc_dim_ckpt,\n",
    "        d_g        = config['d_g'],\n",
    "        d_f        = config['d_f'],\n",
    "        hidden_dim = config.get('hidden_dim', 1024),\n",
    "        dropout    = config.get('dropout', 0.1),\n",
    "    ).to(device)\n",
    "\n",
    "    decomposer.load_state_dict(ckpt)\n",
    "    decomposer.half().eval()\n",
    "    decomposer.eval()\n",
    "    \n",
    "    # logger.info(f\"Loaded encoder + decomposer (enc_dim={enc_dim_ckpt}).\")\n",
    "    print(f\"\\n\\n\\nlayer {layer}:\\n\")\n",
    "    with torch.no_grad():\n",
    "        cl_outs[layer] = find_critical_layers_dist(HFEncoder_notPooled, model_llm, tokenizer, device, \n",
    "                                                decomposer, cal_benign, cal_jailbreak, [layer],\n",
    "                                                criterion='cohen_d')\n",
    "        best_g[layer] = {\"encoder_l\": cl_outs[layer][\"best_layer_goal\"], \"score\": cl_outs[layer][\"score_goal\"]}\n",
    "        best_f[layer] = {\"encoder_l\": cl_outs[layer][\"best_layer_framing\"], \"score\": cl_outs[layer][\"score_framing\"]}\n",
    "        print(f\"Best G: {best_g[layer]}, Best F: {best_f[layer]}\")\n",
    "\n"
   ]
  },
  {
   "cell_type": "markdown",
   "id": "488b84bc",
   "metadata": {},
   "source": [
    "#### Find critical layer - cosine"
   ]
  },
  {
   "cell_type": "code",
   "execution_count": null,
   "id": "6287cea4",
   "metadata": {},
   "outputs": [],
   "source": [
    "# RUN_ID_dec = \"20250719\" # UNIQUE_ID # for llama2 only\n",
    "import re, glob, os\n",
    "\n",
    "pattern = re.compile(r\"decomposer_layer(\\d+)_\")\n",
    "ckpt_by_layer = {}\n",
    "for p in glob.glob(f\"./checkpoints/decomposer_simple/decomposer_layer*{RUN_ID_dec}*\"):\n",
    "# for p in glob.glob(f\"./checkpoints/decomposer_simple/vic13_decomposer_layer*{RUN_ID_dec}*\"): # for vicuna 13b only\n",
    "    m = pattern.search(os.path.basename(p))\n",
    "    if m: ckpt_by_layer[int(m.group(1))] = p"
   ]
  },
  {
   "cell_type": "code",
   "execution_count": 72,
   "id": "93ad3441",
   "metadata": {},
   "outputs": [
    {
     "name": "stdout",
     "output_type": "stream",
     "text": [
      "\n",
      "\n",
      "\n",
      "layer 0:\n",
      "\n"
     ]
    },
    {
     "name": "stderr",
     "output_type": "stream",
     "text": [
      "  0%|                                                                                                                                                              | 0/1 [00:00<?, ?it/s]"
     ]
    },
    {
     "name": "stderr",
     "output_type": "stream",
     "text": [
      "100%|██████████████████████████████████████████████████████████████████████████████████████████████████████████████████████████████████████████████████████| 1/1 [00:00<00:00,  1.39it/s]\n"
     ]
    },
    {
     "name": "stdout",
     "output_type": "stream",
     "text": [
      "layer 0: Δ_f: 1.38623046875, Δ_g: 0.56494140625\n",
      "Best G: {'encoder_l': 0, 'Δ': 0.56494140625}, Best F: {'encoder_l': 0, 'Δ': 1.38623046875}\n",
      "\n",
      "\n",
      "\n",
      "layer 1:\n",
      "\n"
     ]
    },
    {
     "name": "stderr",
     "output_type": "stream",
     "text": [
      "100%|██████████████████████████████████████████████████████████████████████████████████████████████████████████████████████████████████████████████████████| 1/1 [00:00<00:00,  1.44it/s]\n"
     ]
    },
    {
     "name": "stdout",
     "output_type": "stream",
     "text": [
      "layer 1: Δ_f: 1.39892578125, Δ_g: 0.695556640625\n",
      "Best G: {'encoder_l': 1, 'Δ': 0.695556640625}, Best F: {'encoder_l': 1, 'Δ': 1.39892578125}\n",
      "\n",
      "\n",
      "\n",
      "layer 2:\n",
      "\n"
     ]
    },
    {
     "name": "stderr",
     "output_type": "stream",
     "text": [
      "100%|██████████████████████████████████████████████████████████████████████████████████████████████████████████████████████████████████████████████████████| 1/1 [00:00<00:00,  1.43it/s]\n"
     ]
    },
    {
     "name": "stdout",
     "output_type": "stream",
     "text": [
      "layer 2: Δ_f: 1.34814453125, Δ_g: 0.760986328125\n",
      "Best G: {'encoder_l': 2, 'Δ': 0.760986328125}, Best F: {'encoder_l': 2, 'Δ': 1.34814453125}\n",
      "\n",
      "\n",
      "\n",
      "layer 3:\n",
      "\n"
     ]
    },
    {
     "name": "stderr",
     "output_type": "stream",
     "text": [
      "100%|██████████████████████████████████████████████████████████████████████████████████████████████████████████████████████████████████████████████████████| 1/1 [00:00<00:00,  1.44it/s]\n"
     ]
    },
    {
     "name": "stdout",
     "output_type": "stream",
     "text": [
      "layer 3: Δ_f: 1.3671875, Δ_g: 0.645263671875\n",
      "Best G: {'encoder_l': 3, 'Δ': 0.645263671875}, Best F: {'encoder_l': 3, 'Δ': 1.3671875}\n",
      "\n",
      "\n",
      "\n",
      "layer 4:\n",
      "\n"
     ]
    },
    {
     "name": "stderr",
     "output_type": "stream",
     "text": [
      "100%|██████████████████████████████████████████████████████████████████████████████████████████████████████████████████████████████████████████████████████| 1/1 [00:00<00:00,  1.43it/s]\n"
     ]
    },
    {
     "name": "stdout",
     "output_type": "stream",
     "text": [
      "layer 4: Δ_f: 1.3671875, Δ_g: 1.286376953125\n",
      "Best G: {'encoder_l': 4, 'Δ': 1.286376953125}, Best F: {'encoder_l': 4, 'Δ': 1.3671875}\n",
      "\n",
      "\n",
      "\n",
      "layer 5:\n",
      "\n"
     ]
    },
    {
     "name": "stderr",
     "output_type": "stream",
     "text": [
      "100%|██████████████████████████████████████████████████████████████████████████████████████████████████████████████████████████████████████████████████████| 1/1 [00:00<00:00,  1.43it/s]\n"
     ]
    },
    {
     "name": "stdout",
     "output_type": "stream",
     "text": [
      "layer 5: Δ_f: 1.36279296875, Δ_g: 0.964111328125\n",
      "Best G: {'encoder_l': 5, 'Δ': 0.964111328125}, Best F: {'encoder_l': 5, 'Δ': 1.36279296875}\n",
      "\n",
      "\n",
      "\n",
      "layer 6:\n",
      "\n"
     ]
    },
    {
     "name": "stderr",
     "output_type": "stream",
     "text": [
      "100%|██████████████████████████████████████████████████████████████████████████████████████████████████████████████████████████████████████████████████████| 1/1 [00:00<00:00,  1.44it/s]\n"
     ]
    },
    {
     "name": "stdout",
     "output_type": "stream",
     "text": [
      "layer 6: Δ_f: 1.364990234375, Δ_g: 0.8233642578125\n",
      "Best G: {'encoder_l': 6, 'Δ': 0.8233642578125}, Best F: {'encoder_l': 6, 'Δ': 1.364990234375}\n",
      "\n",
      "\n",
      "\n",
      "layer 7:\n",
      "\n"
     ]
    },
    {
     "name": "stderr",
     "output_type": "stream",
     "text": [
      "100%|██████████████████████████████████████████████████████████████████████████████████████████████████████████████████████████████████████████████████████| 1/1 [00:00<00:00,  1.43it/s]\n"
     ]
    },
    {
     "name": "stdout",
     "output_type": "stream",
     "text": [
      "layer 7: Δ_f: 1.326171875, Δ_g: 0.83837890625\n",
      "Best G: {'encoder_l': 7, 'Δ': 0.83837890625}, Best F: {'encoder_l': 7, 'Δ': 1.326171875}\n",
      "\n",
      "\n",
      "\n",
      "layer 8:\n",
      "\n"
     ]
    },
    {
     "name": "stderr",
     "output_type": "stream",
     "text": [
      "100%|██████████████████████████████████████████████████████████████████████████████████████████████████████████████████████████████████████████████████████| 1/1 [00:00<00:00,  1.43it/s]\n"
     ]
    },
    {
     "name": "stdout",
     "output_type": "stream",
     "text": [
      "layer 8: Δ_f: 1.35986328125, Δ_g: 0.79345703125\n",
      "Best G: {'encoder_l': 8, 'Δ': 0.79345703125}, Best F: {'encoder_l': 8, 'Δ': 1.35986328125}\n",
      "\n",
      "\n",
      "\n",
      "layer 9:\n",
      "\n"
     ]
    },
    {
     "name": "stderr",
     "output_type": "stream",
     "text": [
      "100%|██████████████████████████████████████████████████████████████████████████████████████████████████████████████████████████████████████████████████████| 1/1 [00:00<00:00,  1.43it/s]\n"
     ]
    },
    {
     "name": "stdout",
     "output_type": "stream",
     "text": [
      "layer 9: Δ_f: 1.357666015625, Δ_g: 0.87896728515625\n",
      "Best G: {'encoder_l': 9, 'Δ': 0.87896728515625}, Best F: {'encoder_l': 9, 'Δ': 1.357666015625}\n",
      "\n",
      "\n",
      "\n",
      "layer 10:\n",
      "\n"
     ]
    },
    {
     "name": "stderr",
     "output_type": "stream",
     "text": [
      "100%|██████████████████████████████████████████████████████████████████████████████████████████████████████████████████████████████████████████████████████| 1/1 [00:00<00:00,  1.43it/s]\n"
     ]
    },
    {
     "name": "stdout",
     "output_type": "stream",
     "text": [
      "layer 10: Δ_f: 1.341796875, Δ_g: 0.88372802734375\n",
      "Best G: {'encoder_l': 10, 'Δ': 0.88372802734375}, Best F: {'encoder_l': 10, 'Δ': 1.341796875}\n",
      "\n",
      "\n",
      "\n",
      "layer 11:\n",
      "\n"
     ]
    },
    {
     "name": "stderr",
     "output_type": "stream",
     "text": [
      "100%|██████████████████████████████████████████████████████████████████████████████████████████████████████████████████████████████████████████████████████| 1/1 [00:00<00:00,  1.44it/s]\n"
     ]
    },
    {
     "name": "stdout",
     "output_type": "stream",
     "text": [
      "layer 11: Δ_f: 1.358642578125, Δ_g: 0.965850830078125\n",
      "Best G: {'encoder_l': 11, 'Δ': 0.965850830078125}, Best F: {'encoder_l': 11, 'Δ': 1.358642578125}\n",
      "\n",
      "\n",
      "\n",
      "layer 12:\n",
      "\n"
     ]
    },
    {
     "name": "stderr",
     "output_type": "stream",
     "text": [
      "100%|██████████████████████████████████████████████████████████████████████████████████████████████████████████████████████████████████████████████████████| 1/1 [00:00<00:00,  1.43it/s]\n"
     ]
    },
    {
     "name": "stdout",
     "output_type": "stream",
     "text": [
      "layer 12: Δ_f: 1.34716796875, Δ_g: 0.896484375\n",
      "Best G: {'encoder_l': 12, 'Δ': 0.896484375}, Best F: {'encoder_l': 12, 'Δ': 1.34716796875}\n",
      "\n",
      "\n",
      "\n",
      "layer 13:\n",
      "\n"
     ]
    },
    {
     "name": "stderr",
     "output_type": "stream",
     "text": [
      "100%|██████████████████████████████████████████████████████████████████████████████████████████████████████████████████████████████████████████████████████| 1/1 [00:00<00:00,  1.44it/s]\n"
     ]
    },
    {
     "name": "stdout",
     "output_type": "stream",
     "text": [
      "layer 13: Δ_f: 1.364990234375, Δ_g: 0.944366455078125\n",
      "Best G: {'encoder_l': 13, 'Δ': 0.944366455078125}, Best F: {'encoder_l': 13, 'Δ': 1.364990234375}\n",
      "\n",
      "\n",
      "\n",
      "layer 14:\n",
      "\n"
     ]
    },
    {
     "name": "stderr",
     "output_type": "stream",
     "text": [
      "100%|██████████████████████████████████████████████████████████████████████████████████████████████████████████████████████████████████████████████████████| 1/1 [00:00<00:00,  1.44it/s]\n"
     ]
    },
    {
     "name": "stdout",
     "output_type": "stream",
     "text": [
      "layer 14: Δ_f: 1.378662109375, Δ_g: 0.9695892333984375\n",
      "Best G: {'encoder_l': 14, 'Δ': 0.9695892333984375}, Best F: {'encoder_l': 14, 'Δ': 1.378662109375}\n",
      "\n",
      "\n",
      "\n",
      "layer 15:\n",
      "\n"
     ]
    },
    {
     "name": "stderr",
     "output_type": "stream",
     "text": [
      "100%|██████████████████████████████████████████████████████████████████████████████████████████████████████████████████████████████████████████████████████| 1/1 [00:00<00:00,  1.44it/s]\n"
     ]
    },
    {
     "name": "stdout",
     "output_type": "stream",
     "text": [
      "layer 15: Δ_f: 1.3525390625, Δ_g: 0.8135986328125\n",
      "Best G: {'encoder_l': 15, 'Δ': 0.8135986328125}, Best F: {'encoder_l': 15, 'Δ': 1.3525390625}\n",
      "\n",
      "\n",
      "\n",
      "layer 16:\n",
      "\n"
     ]
    },
    {
     "name": "stderr",
     "output_type": "stream",
     "text": [
      "100%|██████████████████████████████████████████████████████████████████████████████████████████████████████████████████████████████████████████████████████| 1/1 [00:00<00:00,  1.43it/s]\n"
     ]
    },
    {
     "name": "stdout",
     "output_type": "stream",
     "text": [
      "layer 16: Δ_f: 1.36474609375, Δ_g: 0.8060302734375\n",
      "Best G: {'encoder_l': 16, 'Δ': 0.8060302734375}, Best F: {'encoder_l': 16, 'Δ': 1.36474609375}\n",
      "\n",
      "\n",
      "\n",
      "layer 17:\n",
      "\n"
     ]
    },
    {
     "name": "stderr",
     "output_type": "stream",
     "text": [
      "100%|██████████████████████████████████████████████████████████████████████████████████████████████████████████████████████████████████████████████████████| 1/1 [00:00<00:00,  1.43it/s]\n"
     ]
    },
    {
     "name": "stdout",
     "output_type": "stream",
     "text": [
      "layer 17: Δ_f: 1.37109375, Δ_g: 0.8775634765625\n",
      "Best G: {'encoder_l': 17, 'Δ': 0.8775634765625}, Best F: {'encoder_l': 17, 'Δ': 1.37109375}\n",
      "\n",
      "\n",
      "\n",
      "layer 18:\n",
      "\n"
     ]
    },
    {
     "name": "stderr",
     "output_type": "stream",
     "text": [
      "100%|██████████████████████████████████████████████████████████████████████████████████████████████████████████████████████████████████████████████████████| 1/1 [00:00<00:00,  1.42it/s]\n"
     ]
    },
    {
     "name": "stdout",
     "output_type": "stream",
     "text": [
      "layer 18: Δ_f: 1.369873046875, Δ_g: 0.8515625\n",
      "Best G: {'encoder_l': 18, 'Δ': 0.8515625}, Best F: {'encoder_l': 18, 'Δ': 1.369873046875}\n",
      "\n",
      "\n",
      "\n",
      "layer 19:\n",
      "\n"
     ]
    },
    {
     "name": "stderr",
     "output_type": "stream",
     "text": [
      "100%|██████████████████████████████████████████████████████████████████████████████████████████████████████████████████████████████████████████████████████| 1/1 [00:00<00:00,  1.43it/s]\n"
     ]
    },
    {
     "name": "stdout",
     "output_type": "stream",
     "text": [
      "layer 19: Δ_f: 1.323974609375, Δ_g: 0.582275390625\n",
      "Best G: {'encoder_l': 19, 'Δ': 0.582275390625}, Best F: {'encoder_l': 19, 'Δ': 1.323974609375}\n",
      "\n",
      "\n",
      "\n",
      "layer 20:\n",
      "\n"
     ]
    },
    {
     "name": "stderr",
     "output_type": "stream",
     "text": [
      "100%|██████████████████████████████████████████████████████████████████████████████████████████████████████████████████████████████████████████████████████| 1/1 [00:00<00:00,  1.43it/s]\n"
     ]
    },
    {
     "name": "stdout",
     "output_type": "stream",
     "text": [
      "layer 20: Δ_f: 1.310791015625, Δ_g: 0.9715576171875\n",
      "Best G: {'encoder_l': 20, 'Δ': 0.9715576171875}, Best F: {'encoder_l': 20, 'Δ': 1.310791015625}\n",
      "\n",
      "\n",
      "\n",
      "layer 21:\n",
      "\n"
     ]
    },
    {
     "name": "stderr",
     "output_type": "stream",
     "text": [
      "100%|██████████████████████████████████████████████████████████████████████████████████████████████████████████████████████████████████████████████████████| 1/1 [00:00<00:00,  1.44it/s]\n"
     ]
    },
    {
     "name": "stdout",
     "output_type": "stream",
     "text": [
      "layer 21: Δ_f: 1.26171875, Δ_g: 0.7861328125\n",
      "Best G: {'encoder_l': 21, 'Δ': 0.7861328125}, Best F: {'encoder_l': 21, 'Δ': 1.26171875}\n",
      "\n",
      "\n",
      "\n",
      "layer 22:\n",
      "\n"
     ]
    },
    {
     "name": "stderr",
     "output_type": "stream",
     "text": [
      "100%|██████████████████████████████████████████████████████████████████████████████████████████████████████████████████████████████████████████████████████| 1/1 [00:00<00:00,  1.43it/s]\n"
     ]
    },
    {
     "name": "stdout",
     "output_type": "stream",
     "text": [
      "layer 22: Δ_f: 1.25830078125, Δ_g: 0.9085693359375\n",
      "Best G: {'encoder_l': 22, 'Δ': 0.9085693359375}, Best F: {'encoder_l': 22, 'Δ': 1.25830078125}\n",
      "\n",
      "\n",
      "\n",
      "layer 23:\n",
      "\n"
     ]
    },
    {
     "name": "stderr",
     "output_type": "stream",
     "text": [
      "100%|██████████████████████████████████████████████████████████████████████████████████████████████████████████████████████████████████████████████████████| 1/1 [00:00<00:00,  1.44it/s]\n"
     ]
    },
    {
     "name": "stdout",
     "output_type": "stream",
     "text": [
      "layer 23: Δ_f: 1.367919921875, Δ_g: 0.735107421875\n",
      "Best G: {'encoder_l': 23, 'Δ': 0.735107421875}, Best F: {'encoder_l': 23, 'Δ': 1.367919921875}\n",
      "\n",
      "\n",
      "\n",
      "layer 24:\n",
      "\n"
     ]
    },
    {
     "name": "stderr",
     "output_type": "stream",
     "text": [
      "100%|██████████████████████████████████████████████████████████████████████████████████████████████████████████████████████████████████████████████████████| 1/1 [00:00<00:00,  1.43it/s]\n"
     ]
    },
    {
     "name": "stdout",
     "output_type": "stream",
     "text": [
      "layer 24: Δ_f: 1.37646484375, Δ_g: 0.93170166015625\n",
      "Best G: {'encoder_l': 24, 'Δ': 0.93170166015625}, Best F: {'encoder_l': 24, 'Δ': 1.37646484375}\n",
      "\n",
      "\n",
      "\n",
      "layer 25:\n",
      "\n"
     ]
    },
    {
     "name": "stderr",
     "output_type": "stream",
     "text": [
      "100%|██████████████████████████████████████████████████████████████████████████████████████████████████████████████████████████████████████████████████████| 1/1 [00:00<00:00,  1.43it/s]\n"
     ]
    },
    {
     "name": "stdout",
     "output_type": "stream",
     "text": [
      "layer 25: Δ_f: 1.37451171875, Δ_g: 0.932373046875\n",
      "Best G: {'encoder_l': 25, 'Δ': 0.932373046875}, Best F: {'encoder_l': 25, 'Δ': 1.37451171875}\n",
      "\n",
      "\n",
      "\n",
      "layer 26:\n",
      "\n"
     ]
    },
    {
     "name": "stderr",
     "output_type": "stream",
     "text": [
      "100%|██████████████████████████████████████████████████████████████████████████████████████████████████████████████████████████████████████████████████████| 1/1 [00:00<00:00,  1.44it/s]\n"
     ]
    },
    {
     "name": "stdout",
     "output_type": "stream",
     "text": [
      "layer 26: Δ_f: 1.311767578125, Δ_g: 0.728515625\n",
      "Best G: {'encoder_l': 26, 'Δ': 0.728515625}, Best F: {'encoder_l': 26, 'Δ': 1.311767578125}\n",
      "\n",
      "\n",
      "\n",
      "layer 27:\n",
      "\n"
     ]
    },
    {
     "name": "stderr",
     "output_type": "stream",
     "text": [
      "100%|██████████████████████████████████████████████████████████████████████████████████████████████████████████████████████████████████████████████████████| 1/1 [00:00<00:00,  1.44it/s]\n"
     ]
    },
    {
     "name": "stdout",
     "output_type": "stream",
     "text": [
      "layer 27: Δ_f: 1.394775390625, Δ_g: 0.6982421875\n",
      "Best G: {'encoder_l': 27, 'Δ': 0.6982421875}, Best F: {'encoder_l': 27, 'Δ': 1.394775390625}\n",
      "\n",
      "\n",
      "\n",
      "layer 28:\n",
      "\n"
     ]
    },
    {
     "name": "stderr",
     "output_type": "stream",
     "text": [
      "100%|██████████████████████████████████████████████████████████████████████████████████████████████████████████████████████████████████████████████████████| 1/1 [00:00<00:00,  1.44it/s]\n"
     ]
    },
    {
     "name": "stdout",
     "output_type": "stream",
     "text": [
      "layer 28: Δ_f: 1.37841796875, Δ_g: 0.91876220703125\n",
      "Best G: {'encoder_l': 28, 'Δ': 0.91876220703125}, Best F: {'encoder_l': 28, 'Δ': 1.37841796875}\n",
      "\n",
      "\n",
      "\n",
      "layer 29:\n",
      "\n"
     ]
    },
    {
     "name": "stderr",
     "output_type": "stream",
     "text": [
      "100%|██████████████████████████████████████████████████████████████████████████████████████████████████████████████████████████████████████████████████████| 1/1 [00:00<00:00,  1.44it/s]\n"
     ]
    },
    {
     "name": "stdout",
     "output_type": "stream",
     "text": [
      "layer 29: Δ_f: 1.223388671875, Δ_g: 0.796630859375\n",
      "Best G: {'encoder_l': 29, 'Δ': 0.796630859375}, Best F: {'encoder_l': 29, 'Δ': 1.223388671875}\n",
      "\n",
      "\n",
      "\n",
      "layer 30:\n",
      "\n"
     ]
    },
    {
     "name": "stderr",
     "output_type": "stream",
     "text": [
      "100%|██████████████████████████████████████████████████████████████████████████████████████████████████████████████████████████████████████████████████████| 1/1 [00:00<00:00,  1.44it/s]\n"
     ]
    },
    {
     "name": "stdout",
     "output_type": "stream",
     "text": [
      "layer 30: Δ_f: 1.354248046875, Δ_g: 0.9215087890625\n",
      "Best G: {'encoder_l': 30, 'Δ': 0.9215087890625}, Best F: {'encoder_l': 30, 'Δ': 1.354248046875}\n",
      "\n",
      "\n",
      "\n",
      "layer 31:\n",
      "\n"
     ]
    },
    {
     "name": "stderr",
     "output_type": "stream",
     "text": [
      "100%|██████████████████████████████████████████████████████████████████████████████████████████████████████████████████████████████████████████████████████| 1/1 [00:00<00:00,  1.44it/s]"
     ]
    },
    {
     "name": "stdout",
     "output_type": "stream",
     "text": [
      "layer 31: Δ_f: 1.3515625, Δ_g: 0.8277587890625\n",
      "Best G: {'encoder_l': 31, 'Δ': 0.8277587890625}, Best F: {'encoder_l': 31, 'Δ': 1.3515625}\n"
     ]
    },
    {
     "name": "stderr",
     "output_type": "stream",
     "text": [
      "\n"
     ]
    }
   ],
   "source": [
    "N_CAL = 100              # or leave tunable in YAML\n",
    "cal_benign   = random.sample(ben_ID,    N_CAL//2)\n",
    "cal_jailbreak= random.sample(jb_ID,  N_CAL//2)\n",
    "\n",
    "from utils.critial_layer import find_critical_layers\n",
    "\n",
    "layers = 'all'#config[\"model\"][\"layers\"]\n",
    "if layers == 'all':\n",
    "    num_layers = model_llm.config.num_hidden_layers\n",
    "    layers = list(range(num_layers))\n",
    "\n",
    "cl_outs = dict()\n",
    "best_g_cos, best_f_cos = dict(), dict()\n",
    "for layer in layers:\n",
    "    # ==== Cell: [Model & Decomposer Initialization] ====\n",
    "\n",
    "    # load decomposer weights\n",
    "    ckpt = torch.load(f\"{ckpt_by_layer[layer]}/weights.pt\", map_location=device)\n",
    "    enc_dim_ckpt = ckpt[\"Wg.0.weight\"].shape[1]\n",
    "\n",
    "    decomposer = NonlinearDecomposer(\n",
    "        enc_dim    = enc_dim_ckpt,\n",
    "        d_g        = config['d_g'],\n",
    "        d_f        = config['d_f'],\n",
    "        hidden_dim = config.get('hidden_dim', 1024),\n",
    "        dropout    = config.get('dropout', 0.1),\n",
    "    ).to(device)\n",
    "    # decomposer = NonlinearDecomposer_tiny(\n",
    "    #     enc_dim    = enc_dim_ckpt,\n",
    "    # ).to(device)\n",
    "\n",
    "    decomposer.load_state_dict(ckpt)\n",
    "    decomposer.half().eval()\n",
    "    decomposer.eval()\n",
    "    # encoder.eval()\n",
    "\n",
    "    # logger.info(f\"Loaded encoder + decomposer (enc_dim={enc_dim_ckpt}).\")\n",
    "    print(f\"\\n\\n\\nlayer {layer}:\\n\")\n",
    "    with torch.no_grad():\n",
    "        cl_outs[layer] = find_critical_layers(HFEncoder_notPooled, model_llm, tokenizer, device, \n",
    "                                                decomposer, cal_benign, cal_jailbreak, [layer])\n",
    "        best_g_cos[layer] = {\"encoder_l\": cl_outs[layer][\"l_g\"], \"Δ\": cl_outs[layer][\"Δ_g\"]}\n",
    "        best_f_cos[layer] = {\"encoder_l\": cl_outs[layer][\"l_f\"], \"Δ\": cl_outs[layer][\"Δ_f\"]}\n",
    "        print(f\"Best G: {best_g_cos[layer]}, Best F: {best_f_cos[layer]}\")\n",
    "\n"
   ]
  },
  {
   "cell_type": "markdown",
   "id": "f56aaff8",
   "metadata": {},
   "source": [
    "### Inspect each layer"
   ]
  },
  {
   "cell_type": "code",
   "execution_count": 14,
   "id": "9553d76a",
   "metadata": {},
   "outputs": [
    {
     "name": "stdout",
     "output_type": "stream",
     "text": [
      "\n",
      "Dec Layer 0:\n",
      "G   |   enc layer: 0, score: 2.5273423966078457\n",
      "F   |   enc layer: 0, score: 1.9975943890248253\n",
      "\n",
      "Dec Layer 1:\n",
      "G   |   enc layer: 1, score: 5.761684851224236\n",
      "F   |   enc layer: 1, score: 6.370583256595125\n",
      "\n",
      "Dec Layer 2:\n",
      "G   |   enc layer: 2, score: 6.007231602901001\n",
      "F   |   enc layer: 2, score: 7.1428095201266295\n",
      "\n",
      "Dec Layer 3:\n",
      "G   |   enc layer: 3, score: 6.608168451022776\n",
      "F   |   enc layer: 3, score: 8.138891393104446\n",
      "\n",
      "Dec Layer 4:\n",
      "G   |   enc layer: 4, score: 6.2502800525968665\n",
      "F   |   enc layer: 4, score: 6.532277720822208\n",
      "\n",
      "Dec Layer 5:\n",
      "G   |   enc layer: 5, score: 5.6883162694940985\n",
      "F   |   enc layer: 5, score: 5.305227021877235\n",
      "\n",
      "Dec Layer 6:\n",
      "G   |   enc layer: 6, score: 5.808739079942538\n",
      "F   |   enc layer: 6, score: 5.296453330947226\n",
      "\n",
      "Dec Layer 7:\n",
      "G   |   enc layer: 7, score: 5.494983959391104\n",
      "F   |   enc layer: 7, score: 5.592782978220041\n",
      "\n",
      "Dec Layer 8:\n",
      "G   |   enc layer: 8, score: 5.344526047098769\n",
      "F   |   enc layer: 8, score: 5.758939438333123\n",
      "\n",
      "Dec Layer 9:\n",
      "G   |   enc layer: 9, score: 5.168050448922689\n",
      "F   |   enc layer: 9, score: 6.338684822657897\n",
      "\n",
      "Dec Layer 10:\n",
      "G   |   enc layer: 10, score: 5.34361037740408\n",
      "F   |   enc layer: 10, score: 7.162365139164139\n",
      "\n",
      "Dec Layer 11:\n",
      "G   |   enc layer: 11, score: 4.64602007954663\n",
      "F   |   enc layer: 11, score: 6.417083931432585\n",
      "\n",
      "Dec Layer 12:\n",
      "G   |   enc layer: 12, score: 4.558480224143569\n",
      "F   |   enc layer: 12, score: 8.584770052396378\n",
      "\n",
      "Dec Layer 13:\n",
      "G   |   enc layer: 13, score: 3.978089898891533\n",
      "F   |   enc layer: 13, score: 7.781373625698689\n",
      "\n",
      "Dec Layer 14:\n",
      "G   |   enc layer: 14, score: 5.109377850092858\n",
      "F   |   enc layer: 14, score: 8.797057915532655\n",
      "\n",
      "Dec Layer 15:\n",
      "G   |   enc layer: 15, score: 4.908249234107173\n",
      "F   |   enc layer: 15, score: 8.199388646937935\n",
      "\n",
      "Dec Layer 16:\n",
      "G   |   enc layer: 16, score: 5.138455951917531\n",
      "F   |   enc layer: 16, score: 8.95886791127011\n",
      "\n",
      "Dec Layer 17:\n",
      "G   |   enc layer: 17, score: 4.11226702858375\n",
      "F   |   enc layer: 17, score: 9.67396200652483\n",
      "\n",
      "Dec Layer 18:\n",
      "G   |   enc layer: 18, score: 4.61336754089305\n",
      "F   |   enc layer: 18, score: 9.300907608936857\n",
      "\n",
      "Dec Layer 19:\n",
      "G   |   enc layer: 19, score: 4.065337006751308\n",
      "F   |   enc layer: 19, score: 8.793609551390126\n",
      "\n",
      "Dec Layer 20:\n",
      "G   |   enc layer: 20, score: 4.611436322974303\n",
      "F   |   enc layer: 20, score: 8.812104096506749\n",
      "\n",
      "Dec Layer 21:\n",
      "G   |   enc layer: 21, score: 4.434395165057689\n",
      "F   |   enc layer: 21, score: 8.472942064809132\n",
      "\n",
      "Dec Layer 22:\n",
      "G   |   enc layer: 22, score: 3.9094315400554387\n",
      "F   |   enc layer: 22, score: 8.675289142300706\n",
      "\n",
      "Dec Layer 23:\n",
      "G   |   enc layer: 23, score: 3.8244329783790465\n",
      "F   |   enc layer: 23, score: 8.565526193586699\n",
      "\n",
      "Dec Layer 24:\n",
      "G   |   enc layer: 24, score: 4.038910397904468\n",
      "F   |   enc layer: 24, score: 6.927566420550147\n",
      "\n",
      "Dec Layer 25:\n",
      "G   |   enc layer: 25, score: 3.780130073768209\n",
      "F   |   enc layer: 25, score: 5.859642837301982\n",
      "\n",
      "Dec Layer 26:\n",
      "G   |   enc layer: 26, score: 3.792577989819254\n",
      "F   |   enc layer: 26, score: 4.80456772336025\n",
      "\n",
      "Dec Layer 27:\n",
      "G   |   enc layer: 27, score: 3.593904079057346\n",
      "F   |   enc layer: 27, score: 5.5185849524163375\n",
      "\n",
      "Dec Layer 28:\n",
      "G   |   enc layer: 28, score: 3.472973073340153\n",
      "F   |   enc layer: 28, score: 4.881288950259964\n",
      "\n",
      "Dec Layer 29:\n",
      "G   |   enc layer: 29, score: 3.5067270352801945\n",
      "F   |   enc layer: 29, score: 5.644638932386899\n",
      "\n",
      "Dec Layer 30:\n",
      "G   |   enc layer: 30, score: 3.385052819269075\n",
      "F   |   enc layer: 30, score: 5.354578487781947\n",
      "\n",
      "Dec Layer 31:\n",
      "G   |   enc layer: 31, score: 3.485536312407987\n",
      "F   |   enc layer: 31, score: 5.401915928402939\n",
      "\n",
      "Dec Layer 32:\n",
      "G   |   enc layer: 32, score: 3.658792492246247\n",
      "F   |   enc layer: 32, score: 4.515451154961106\n",
      "\n",
      "Dec Layer 33:\n",
      "G   |   enc layer: 33, score: 3.4259492675281096\n",
      "F   |   enc layer: 33, score: 4.689000537887338\n",
      "\n",
      "Dec Layer 34:\n",
      "G   |   enc layer: 34, score: 3.4755984573684406\n",
      "F   |   enc layer: 34, score: 5.4333794672587725\n",
      "\n",
      "Dec Layer 35:\n",
      "G   |   enc layer: 35, score: 3.141367468628525\n",
      "F   |   enc layer: 35, score: 4.756328840955035\n",
      "\n",
      "Dec Layer 36:\n",
      "G   |   enc layer: 36, score: 3.1011836110731057\n",
      "F   |   enc layer: 36, score: 4.084956000544779\n",
      "\n",
      "Dec Layer 37:\n",
      "G   |   enc layer: 37, score: 3.0134902208497674\n",
      "F   |   enc layer: 37, score: 4.135165814692627\n",
      "\n",
      "Dec Layer 38:\n",
      "G   |   enc layer: 38, score: 2.5368641681538624\n",
      "F   |   enc layer: 38, score: 3.8076459416621824\n",
      "\n",
      "Dec Layer 39:\n",
      "G   |   enc layer: 39, score: 2.5115880768406518\n",
      "F   |   enc layer: 39, score: 2.7478119405947345\n"
     ]
    }
   ],
   "source": [
    "for l in best_f:\n",
    "    print(f\"\\nDec Layer {l}:\")\n",
    "    print(f\"G   |   enc layer: {best_g[l]['encoder_l']}, score: {best_g[l]['score']}\")\n",
    "    print(f\"F   |   enc layer: {best_f[l]['encoder_l']}, score: {best_f[l]['score']}\")"
   ]
  },
  {
   "cell_type": "code",
   "execution_count": 15,
   "id": "92157b83",
   "metadata": {},
   "outputs": [
    {
     "data": {
      "image/png": "[encoded data removed]",
      "text/plain": [
       "<Figure size 1200x600 with 1 Axes>"
      ]
     },
     "metadata": {},
     "output_type": "display_data"
    }
   ],
   "source": [
    "import matplotlib.pyplot as plt\n",
    "import numpy as np\n",
    "\n",
    "hf_to_common_model_name = {\n",
    "    \"meta-llama/Llama-2-7b-chat-hf\": \"Llama-2-7b\",\n",
    "    \"meta-llama/Meta-Llama-3-8B-Instruct\": \"Llama-3-8b\",\n",
    "    \"mistralai/Mistral-7B-v0.1\": \"Mistral-7b\",\n",
    "    \"lmsys/vicuna-13b-v1.5\": \"Vicuna-13b\",\n",
    "    \"lmsys/vicuna-7b-v1.5\": \"Vicuna-7b\"\n",
    "}\n",
    "\n",
    "short_name = hf_to_common_model_name.get(cfg_out['model']['name'], cfg_out['model']['name'])\n",
    "\n",
    "# Collect layers and delta values\n",
    "layers = sorted(best_g.keys())\n",
    "delta_g = [best_g[l]['score'] for l in layers]\n",
    "delta_f = [best_f[l]['score'] for l in layers]\n",
    "\n",
    "x = np.arange(len(layers))\n",
    "width = 0.35\n",
    "\n",
    "plt.figure(figsize=(12, 6))\n",
    "plt.bar(x - width/2, delta_g, width, label='Goal Score', color='#1f77b4', edgecolor='black', linewidth=1.2)\n",
    "plt.bar(x + width/2, delta_f, width, label='Framing Score', color='#ff7f0e', edgecolor='black', linewidth=1.2)\n",
    "\n",
    "plt.xlabel('Layer', fontsize=14, fontweight='bold')\n",
    "plt.ylabel(\"Cohen's d\", fontsize=14, fontweight='bold')\n",
    "plt.title(f'{short_name}: Layer-wise Score Comparison', fontsize=16, fontweight='bold', pad=20)\n",
    "plt.xticks(x, layers, fontsize=12)\n",
    "plt.yticks(fontsize=12)\n",
    "plt.legend(fontsize=13, frameon=True, loc='best')\n",
    "plt.grid(axis='y', linestyle='--', alpha=0.5)\n",
    "plt.tight_layout()\n",
    "\n",
    "os.makedirs(\"./results/figures/critical_layer/\", exist_ok=True)\n",
    "# plt.savefig(f\"./results/figures/critical_layer/critical_layer_{short_name}_dist.png\", dpi=200)\n",
    "plt.show()"
   ]
  },
  {
   "cell_type": "code",
   "execution_count": 16,
   "id": "f4fe4c43",
   "metadata": {},
   "outputs": [
    {
     "data": {
      "image/png": "[encoded data removed]",
      "text/plain": [
       "<Figure size 1200x600 with 1 Axes>"
      ]
     },
     "metadata": {},
     "output_type": "display_data"
    }
   ],
   "source": [
    "import matplotlib.pyplot as plt\n",
    "import numpy as np\n",
    "\n",
    "hf_to_common_model_name = {\n",
    "    \"meta-llama/Llama-2-7b-chat-hf\": \"Llama-2-7b\",\n",
    "    \"meta-llama/Meta-Llama-3-8B-Instruct\": \"Llama-3-8b\",\n",
    "    \"mistralai/Mistral-7B-v0.1\": \"Mistral-7b\",\n",
    "    \"lmsys/vicuna-13b-v1.5\": \"Vicuna-13b\",\n",
    "    \"lmsys/vicuna-7b-v1.5\": \"Vicuna-7b\"\n",
    "}\n",
    "\n",
    "short_name = hf_to_common_model_name.get(cfg_out['model']['name'], cfg_out['model']['name'])\n",
    "\n",
    "# Collect layers and delta values\n",
    "layers = sorted(best_g.keys())\n",
    "delta_g = [best_g[l]['score'] for l in layers]\n",
    "delta_f = [best_f[l]['score'] for l in layers]\n",
    "\n",
    "x = np.arange(len(layers))\n",
    "width = 0.35\n",
    "\n",
    "plt.figure(figsize=(12, 6))\n",
    "plt.bar(x - width/2, delta_g, width, label='Goal Score', color='#1f77b4', edgecolor='black', linewidth=1.2)\n",
    "plt.bar(x + width/2, delta_f, width, label='Framing Score', color='#ff7f0e', edgecolor='black', linewidth=1.2)\n",
    "\n",
    "plt.xlabel('Layer', fontsize=14, fontweight='bold')\n",
    "plt.ylabel(\"Cohen's d\", fontsize=14, fontweight='bold')\n",
    "plt.title(f'{short_name}: Layer-wise Score Comparison', fontsize=16, fontweight='bold', pad=20)\n",
    "plt.xticks(x, layers, fontsize=12)\n",
    "plt.yticks(fontsize=12)\n",
    "plt.legend(fontsize=13, frameon=True, loc='best')\n",
    "plt.grid(axis='y', linestyle='--', alpha=0.5)\n",
    "plt.tight_layout()\n",
    "\n",
    "os.makedirs(\"./results/figures/critical_layer/\", exist_ok=True)\n",
    "plt.savefig(f\"./results/figures/critical_layer/critical_layer_{short_name}_dist.png\", dpi=200)\n",
    "plt.show()"
   ]
  },
  {
   "cell_type": "code",
   "execution_count": null,
   "id": "e80bc7ee",
   "metadata": {},
   "outputs": [],
   "source": []
  },
  {
   "cell_type": "code",
   "execution_count": 75,
   "id": "cc1a9a25",
   "metadata": {},
   "outputs": [
    {
     "name": "stdout",
     "output_type": "stream",
     "text": [
      "\n",
      "Dec Layer 0:\n",
      "G   |   enc layer: 0, Δ: 0.56494140625\n",
      "F   |   enc layer: 0, Δ: 1.38623046875\n",
      "\n",
      "Dec Layer 1:\n",
      "G   |   enc layer: 1, Δ: 0.695556640625\n",
      "F   |   enc layer: 1, Δ: 1.39892578125\n",
      "\n",
      "Dec Layer 2:\n",
      "G   |   enc layer: 2, Δ: 0.760986328125\n",
      "F   |   enc layer: 2, Δ: 1.34814453125\n",
      "\n",
      "Dec Layer 3:\n",
      "G   |   enc layer: 3, Δ: 0.645263671875\n",
      "F   |   enc layer: 3, Δ: 1.3671875\n",
      "\n",
      "Dec Layer 4:\n",
      "G   |   enc layer: 4, Δ: 1.286376953125\n",
      "F   |   enc layer: 4, Δ: 1.3671875\n",
      "\n",
      "Dec Layer 5:\n",
      "G   |   enc layer: 5, Δ: 0.964111328125\n",
      "F   |   enc layer: 5, Δ: 1.36279296875\n",
      "\n",
      "Dec Layer 6:\n",
      "G   |   enc layer: 6, Δ: 0.8233642578125\n",
      "F   |   enc layer: 6, Δ: 1.364990234375\n",
      "\n",
      "Dec Layer 7:\n",
      "G   |   enc layer: 7, Δ: 0.83837890625\n",
      "F   |   enc layer: 7, Δ: 1.326171875\n",
      "\n",
      "Dec Layer 8:\n",
      "G   |   enc layer: 8, Δ: 0.79345703125\n",
      "F   |   enc layer: 8, Δ: 1.35986328125\n",
      "\n",
      "Dec Layer 9:\n",
      "G   |   enc layer: 9, Δ: 0.87896728515625\n",
      "F   |   enc layer: 9, Δ: 1.357666015625\n",
      "\n",
      "Dec Layer 10:\n",
      "G   |   enc layer: 10, Δ: 0.88372802734375\n",
      "F   |   enc layer: 10, Δ: 1.341796875\n",
      "\n",
      "Dec Layer 11:\n",
      "G   |   enc layer: 11, Δ: 0.965850830078125\n",
      "F   |   enc layer: 11, Δ: 1.358642578125\n",
      "\n",
      "Dec Layer 12:\n",
      "G   |   enc layer: 12, Δ: 0.896484375\n",
      "F   |   enc layer: 12, Δ: 1.34716796875\n",
      "\n",
      "Dec Layer 13:\n",
      "G   |   enc layer: 13, Δ: 0.944366455078125\n",
      "F   |   enc layer: 13, Δ: 1.364990234375\n",
      "\n",
      "Dec Layer 14:\n",
      "G   |   enc layer: 14, Δ: 0.9695892333984375\n",
      "F   |   enc layer: 14, Δ: 1.378662109375\n",
      "\n",
      "Dec Layer 15:\n",
      "G   |   enc layer: 15, Δ: 0.8135986328125\n",
      "F   |   enc layer: 15, Δ: 1.3525390625\n",
      "\n",
      "Dec Layer 16:\n",
      "G   |   enc layer: 16, Δ: 0.8060302734375\n",
      "F   |   enc layer: 16, Δ: 1.36474609375\n",
      "\n",
      "Dec Layer 17:\n",
      "G   |   enc layer: 17, Δ: 0.8775634765625\n",
      "F   |   enc layer: 17, Δ: 1.37109375\n",
      "\n",
      "Dec Layer 18:\n",
      "G   |   enc layer: 18, Δ: 0.8515625\n",
      "F   |   enc layer: 18, Δ: 1.369873046875\n",
      "\n",
      "Dec Layer 19:\n",
      "G   |   enc layer: 19, Δ: 0.582275390625\n",
      "F   |   enc layer: 19, Δ: 1.323974609375\n",
      "\n",
      "Dec Layer 20:\n",
      "G   |   enc layer: 20, Δ: 0.9715576171875\n",
      "F   |   enc layer: 20, Δ: 1.310791015625\n",
      "\n",
      "Dec Layer 21:\n",
      "G   |   enc layer: 21, Δ: 0.7861328125\n",
      "F   |   enc layer: 21, Δ: 1.26171875\n",
      "\n",
      "Dec Layer 22:\n",
      "G   |   enc layer: 22, Δ: 0.9085693359375\n",
      "F   |   enc layer: 22, Δ: 1.25830078125\n",
      "\n",
      "Dec Layer 23:\n",
      "G   |   enc layer: 23, Δ: 0.735107421875\n",
      "F   |   enc layer: 23, Δ: 1.367919921875\n",
      "\n",
      "Dec Layer 24:\n",
      "G   |   enc layer: 24, Δ: 0.93170166015625\n",
      "F   |   enc layer: 24, Δ: 1.37646484375\n",
      "\n",
      "Dec Layer 25:\n",
      "G   |   enc layer: 25, Δ: 0.932373046875\n",
      "F   |   enc layer: 25, Δ: 1.37451171875\n",
      "\n",
      "Dec Layer 26:\n",
      "G   |   enc layer: 26, Δ: 0.728515625\n",
      "F   |   enc layer: 26, Δ: 1.311767578125\n",
      "\n",
      "Dec Layer 27:\n",
      "G   |   enc layer: 27, Δ: 0.6982421875\n",
      "F   |   enc layer: 27, Δ: 1.394775390625\n",
      "\n",
      "Dec Layer 28:\n",
      "G   |   enc layer: 28, Δ: 0.91876220703125\n",
      "F   |   enc layer: 28, Δ: 1.37841796875\n",
      "\n",
      "Dec Layer 29:\n",
      "G   |   enc layer: 29, Δ: 0.796630859375\n",
      "F   |   enc layer: 29, Δ: 1.223388671875\n",
      "\n",
      "Dec Layer 30:\n",
      "G   |   enc layer: 30, Δ: 0.9215087890625\n",
      "F   |   enc layer: 30, Δ: 1.354248046875\n",
      "\n",
      "Dec Layer 31:\n",
      "G   |   enc layer: 31, Δ: 0.8277587890625\n",
      "F   |   enc layer: 31, Δ: 1.3515625\n"
     ]
    }
   ],
   "source": [
    "for l in best_f:\n",
    "    print(f\"\\nDec Layer {l}:\")\n",
    "    print(f\"G   |   enc layer: {best_g_cos[l]['encoder_l']}, Δ: {best_g_cos[l]['Δ']}\")\n",
    "    print(f\"F   |   enc layer: {best_f_cos[l]['encoder_l']}, Δ: {best_f_cos[l]['Δ']}\")"
   ]
  },
  {
   "cell_type": "code",
   "execution_count": 76,
   "id": "55b34d9b",
   "metadata": {},
   "outputs": [
    {
     "data": {
      "image/png": "[encoded data removed]",
      "text/plain": [
       "<Figure size 1200x600 with 1 Axes>"
      ]
     },
     "metadata": {},
     "output_type": "display_data"
    }
   ],
   "source": [
    "import matplotlib.pyplot as plt\n",
    "import numpy as np\n",
    "\n",
    "# Collect layers and delta values\n",
    "layers = sorted(best_g_cos.keys())\n",
    "delta_g = [best_g_cos[l]['Δ'] for l in layers]\n",
    "delta_f = [best_f_cos[l]['Δ'] for l in layers]\n",
    "\n",
    "x = np.arange(len(layers))\n",
    "width = 0.35\n",
    "\n",
    "plt.figure(figsize=(12, 6))\n",
    "plt.bar(x - width/2, delta_g, width, label='Goal Δ', color='#1f77b4', edgecolor='black', linewidth=1.2)\n",
    "plt.bar(x + width/2, delta_f, width, label='Framing Δ', color='#ff7f0e', edgecolor='black', linewidth=1.2)\n",
    "\n",
    "plt.xlabel('Layer', fontsize=14, fontweight='bold')\n",
    "plt.ylabel('Δ', fontsize=14, fontweight='bold')\n",
    "plt.title(f'{short_name}: Layer-wise Δ Comparison', fontsize=16, fontweight='bold', pad=20)\n",
    "plt.xticks(x, layers, fontsize=12)\n",
    "plt.yticks(fontsize=12)\n",
    "plt.legend(fontsize=13, frameon=True, loc='best')\n",
    "plt.grid(axis='y', linestyle='--', alpha=0.5)\n",
    "plt.tight_layout()\n",
    "\n",
    "os.makedirs(\"./results/figures/critical_layer/\", exist_ok=True)\n",
    "# plt.savefig(f\"./results/figures/critical_layer/critical_layer_{short_name}_cos.png\", dpi=200)\n",
    "plt.show()"
   ]
  },
  {
   "cell_type": "code",
   "execution_count": 18,
   "id": "9123046f",
   "metadata": {},
   "outputs": [
    {
     "data": {
      "image/png": "[encoded data removed]",
      "text/plain": [
       "<Figure size 1200x600 with 1 Axes>"
      ]
     },
     "metadata": {},
     "output_type": "display_data"
    }
   ],
   "source": [
    "import matplotlib.pyplot as plt\n",
    "import numpy as np\n",
    "\n",
    "# Collect layers and delta values\n",
    "layers = sorted(best_g_cos.keys())\n",
    "delta_g = [best_g_cos[l]['Δ'] for l in layers]\n",
    "delta_f = [best_f_cos[l]['Δ'] for l in layers]\n",
    "\n",
    "x = np.arange(len(layers))\n",
    "width = 0.35\n",
    "\n",
    "plt.figure(figsize=(12, 6))\n",
    "plt.bar(x - width/2, delta_g, width, label='Goal Δ', color='#1f77b4', edgecolor='black', linewidth=1.2)\n",
    "plt.bar(x + width/2, delta_f, width, label='Framing Δ', color='#ff7f0e', edgecolor='black', linewidth=1.2)\n",
    "\n",
    "plt.xlabel('Layer', fontsize=14, fontweight='bold')\n",
    "plt.ylabel('Δ', fontsize=14, fontweight='bold')\n",
    "plt.title(f'{short_name}: Layer-wise Δ Comparison', fontsize=16, fontweight='bold', pad=20)\n",
    "plt.xticks(x, layers, fontsize=12)\n",
    "plt.yticks(fontsize=12)\n",
    "plt.legend(fontsize=13, frameon=True, loc='best')\n",
    "plt.grid(axis='y', linestyle='--', alpha=0.5)\n",
    "plt.tight_layout()\n",
    "\n",
    "os.makedirs(\"./results/figures/critical_layer/\", exist_ok=True)\n",
    "plt.savefig(f\"./results/figures/critical_layer/critical_layer_{short_name}_cos.png\", dpi=200)\n",
    "plt.show()"
   ]
  },
  {
   "cell_type": "markdown",
   "id": "fac0be51",
   "metadata": {},
   "source": [
    "### Load selected encoder and decomposer"
   ]
  },
  {
   "cell_type": "code",
   "execution_count": 16,
   "id": "ba252798",
   "metadata": {},
   "outputs": [],
   "source": [
    "best_g_tups = sorted(best_g.items(), key=lambda x: x[1]['score'], reverse=True)\n",
    "best_f_tups = sorted(best_f.items(), key=lambda x: x[1]['score'], reverse=True)\n",
    "num_layers = model_llm.config.num_hidden_layers"
   ]
  },
  {
   "cell_type": "code",
   "execution_count": 24,
   "id": "44d5b8cf",
   "metadata": {},
   "outputs": [
    {
     "data": {
      "text/plain": [
       "39"
      ]
     },
     "execution_count": 24,
     "metadata": {},
     "output_type": "execute_result"
    }
   ],
   "source": [
    "DETECT_VIA_FRAMING = True\n",
    "USE_CRITICAL_LAYER = False\n",
    "\n",
    "if DETECT_VIA_FRAMING:\n",
    "    enc_layer = [l for l, _ in best_f_tups if l >= num_layers//2][0]\n",
    "else:\n",
    "    enc_layer = [l for l, _ in best_g_tups if l >= num_layers//2][0]\n",
    "\n",
    "if not USE_CRITICAL_LAYER:\n",
    "    enc_layer = max([l for l, _ in best_g_tups]) # last layer\n",
    "dec_layer = enc_layer\n",
    "enc_layer"
   ]
  },
  {
   "cell_type": "code",
   "execution_count": 25,
   "id": "9a03115b",
   "metadata": {},
   "outputs": [
    {
     "name": "stderr",
     "output_type": "stream",
     "text": [
      "INFO:utils.model_utils:Loading model: lmsys/vicuna-13b-v1.5 on cuda\n",
      "/mnt/home/amir/jupyter-env/lib/python3.11/site-packages/transformers/models/auto/tokenization_auto.py:902: FutureWarning: The `use_auth_token` argument is deprecated and will be removed in v5 of Transformers. Please use `token` instead.\n",
      "  warnings.warn(\n",
      "/mnt/home/amir/jupyter-env/lib/python3.11/site-packages/transformers/models/auto/auto_factory.py:476: FutureWarning: The `use_auth_token` argument is deprecated and will be removed in v5 of Transformers. Please use `token` instead.\n",
      "  warnings.warn(\n"
     ]
    },
    {
     "data": {
      "application/vnd.jupyter.widget-view+json": {
       "model_id": "0b31439dd825402bbe68c3afcf4f1e05",
       "version_major": 2,
       "version_minor": 0
      },
      "text/plain": [
       "Loading checkpoint shards:   0%|          | 0/3 [00:00<?, ?it/s]"
      ]
     },
     "metadata": {},
     "output_type": "display_data"
    },
    {
     "name": "stderr",
     "output_type": "stream",
     "text": [
      "The following generation flags are not valid and may be ignored: ['temperature', 'top_p']. Set `TRANSFORMERS_VERBOSITY=info` for more details.\n",
      "The following generation flags are not valid and may be ignored: ['temperature', 'top_p']. Set `TRANSFORMERS_VERBOSITY=info` for more details.\n"
     ]
    },
    {
     "data": {
      "text/plain": [
       "NonlinearDecomposer(\n",
       "  (Wg): Sequential(\n",
       "    (0): Linear(in_features=5120, out_features=512, bias=True)\n",
       "    (1): ELU(alpha=1.0)\n",
       "    (2): Linear(in_features=512, out_features=512, bias=True)\n",
       "  )\n",
       "  (Wf): Sequential(\n",
       "    (0): Linear(in_features=5120, out_features=512, bias=True)\n",
       "    (1): ELU(alpha=1.0)\n",
       "    (2): Linear(in_features=512, out_features=512, bias=True)\n",
       "  )\n",
       "  (recon): Sequential(\n",
       "    (0): Linear(in_features=1024, out_features=1024, bias=True)\n",
       "    (1): ELU(alpha=1.0)\n",
       "    (2): Dropout(p=0.1, inplace=False)\n",
       "    (3): Linear(in_features=1024, out_features=5120, bias=True)\n",
       "  )\n",
       ")"
      ]
     },
     "execution_count": 25,
     "metadata": {},
     "output_type": "execute_result"
    }
   ],
   "source": [
    "\n",
    "# RUN_ID_dec = \"20250719\" # UNIQUE_ID\n",
    "import re, glob, os\n",
    "\n",
    "pattern = re.compile(r\"decomposer_layer(\\d+)_\")\n",
    "ckpt_by_layer = {}\n",
    "# for p in glob.glob(f\"./checkpoints/decomposer_simple/decomposer_layer*{RUN_ID_dec}*\"):\n",
    "for p in glob.glob(f\"./checkpoints/decomposer_simple/vic13_decomposer_layer*{RUN_ID_dec}*\"): # for vicuna 13b only\n",
    "    m = pattern.search(os.path.basename(p))\n",
    "    if m: ckpt_by_layer[int(m.group(1))] = p\n",
    "\n",
    "# load LLM encoder\n",
    "model_llm, tokenizer = load_model(ENC_LLM_NAME, device=device)\n",
    "encoder = HFEncoder_notPooled(\n",
    "    model=model_llm,\n",
    "    tokenizer=tokenizer,\n",
    "    device=device,\n",
    "    layers=[enc_layer],\n",
    "    layer_combine=config['model']['layer_combine'],\n",
    ")\n",
    "\n",
    "# load decomposer weights\n",
    "ckpt = torch.load(f\"{ckpt_by_layer[dec_layer]}/weights.pt\", map_location=device)\n",
    "enc_dim_ckpt = ckpt[\"Wg.0.weight\"].shape[1]\n",
    "\n",
    "decomposer = NonlinearDecomposer(\n",
    "    enc_dim    = enc_dim_ckpt,\n",
    "    d_g        = config['d_g'],\n",
    "    d_f        = config['d_f'],\n",
    "    hidden_dim = config.get('hidden_dim', 1024),\n",
    "    dropout    = config.get('dropout', 0.1),\n",
    ").to(device)\n",
    "# decomposer = NonlinearDecomposer_tiny(\n",
    "#     enc_dim    = enc_dim_ckpt,\n",
    "# ).to(device)\n",
    "\n",
    "decomposer.load_state_dict(ckpt)\n",
    "decomposer.half().eval()\n",
    "decomposer.eval()"
   ]
  },
  {
   "cell_type": "markdown",
   "id": "77267814",
   "metadata": {},
   "source": [
    "## Build spaces"
   ]
  },
  {
   "cell_type": "code",
   "execution_count": 26,
   "id": "789187a0",
   "metadata": {},
   "outputs": [],
   "source": [
    "DETECT_VIA_FRAMING = True\n",
    "\n",
    "# if DETECT_VIA_FRAMING:\n",
    "#     enc_layer = [l for l, _ in best_f_tups if l > num_layers//2][0]\n",
    "# else:\n",
    "#     enc_layer = [l for l, _ in best_g_tups if l > num_layers//2][0]\n",
    "# dec_layer = enc_layer"
   ]
  },
  {
   "cell_type": "code",
   "execution_count": 27,
   "id": "40ade692",
   "metadata": {},
   "outputs": [
    {
     "name": "stderr",
     "output_type": "stream",
     "text": [
      "INFO:__main__:Built framing vectors for all splits.\n"
     ]
    }
   ],
   "source": [
    "# ==== Cell: [Build Framing Vectors] ====\n",
    "\n",
    "@torch.no_grad()\n",
    "def framing_vecs(texts: list[str], batch_size: int = 32) -> torch.Tensor:\n",
    "    all_v = []\n",
    "    for i in range(0, len(texts), batch_size):\n",
    "        batch = texts[i:i+batch_size]\n",
    "        rep   = encoder(batch)               # (B, D_enc) or (B, T, D_enc)\n",
    "        _, v_f, _ = decomposer(rep)          # framing component\n",
    "        if v_f.dim() == 3:                   # token-wise\n",
    "            v_f = v_f.mean(dim=1)\n",
    "        all_v.append(v_f.cpu())\n",
    "    return torch.cat(all_v, dim=0)\n",
    "\n",
    "@torch.no_grad()\n",
    "def goal_vecs(texts: list[str], batch_size: int = 32) -> torch.Tensor:\n",
    "    all_v = []\n",
    "    for i in range(0, len(texts), batch_size):\n",
    "        batch = texts[i:i+batch_size]\n",
    "        rep   = encoder(batch)               # (B, D_enc) or (B, T, D_enc)\n",
    "        v_g, _, _ = decomposer(rep)          # framing component\n",
    "        if v_g.dim() == 3:                   # token-wise\n",
    "            v_g = v_g.mean(dim=1)\n",
    "        all_v.append(v_g.cpu())\n",
    "    return torch.cat(all_v, dim=0)\n",
    "\n",
    "\n",
    "if DETECT_VIA_FRAMING:\n",
    "    v_ben_ID  = framing_vecs(ben_ID)\n",
    "    v_jb_ID   = framing_vecs(jb_ID)\n",
    "    v_ben_OOD = framing_vecs(ben_OOD)\n",
    "    v_jb_OOD  = framing_vecs(jb_OOD)\n",
    "    logger.info(\"Built framing vectors for all splits.\")\n",
    "else:\n",
    "    v_ben_ID  = goal_vecs(ben_ID)\n",
    "    v_jb_ID   = goal_vecs(jb_ID)\n",
    "    v_ben_OOD = goal_vecs(ben_OOD)\n",
    "    v_jb_OOD  = goal_vecs(jb_OOD)\n",
    "    logger.info(\"Built goal vectors for all splits.\")\n"
   ]
  },
  {
   "cell_type": "markdown",
   "id": "6c480584",
   "metadata": {},
   "source": [
    "### Whiten and PCA"
   ]
  },
  {
   "cell_type": "code",
   "execution_count": 30,
   "id": "c9bf576b",
   "metadata": {},
   "outputs": [],
   "source": [
    "from sklearn.covariance import LedoitWolf#, EmpiricalCovariance\n",
    "\n",
    "\n",
    "\n",
    "def fit_whiten_pca(X: np.ndarray, alpha: float = 0.9):\n",
    "    mu   = X.mean(axis=0, keepdims=True)\n",
    "    Xc   = X - mu\n",
    "    cov  = np.cov(Xc, rowvar=False) + 1e-5*np.eye(X.shape[1])\n",
    "    # lwcov = LedoitWolf()\n",
    "    # cov = lwcov.fit(X)\n",
    "    vals, vecs = np.linalg.eigh(cov)\n",
    "    W    = vecs @ np.diag(vals**-0.5) @ vecs.T\n",
    "    Z    = Xc @ W.T\n",
    "\n",
    "    pca  = PCA(whiten=False).fit(Z)\n",
    "    cum  = np.cumsum(pca.explained_variance_ratio_)\n",
    "    r    = int(np.searchsorted(cum, alpha)) + 1\n",
    "    P    = pca.components_[:r].T\n",
    "\n",
    "    return {\"mu\": mu, \"W\": W, \"P\": P}\n",
    "\n",
    "# fit detector on benign-ID\n",
    "# detector = fit_whiten_pca(v_ben_ID.numpy(), alpha=0.9)\n",
    "# alphas = [.5,.6,0.7,0.8,0.9,.95,.99]\n",
    "alphas = [0.7,0.9]\n",
    "detectors = {a: fit_whiten_pca(v_ben_ID.numpy(), alpha=a) for a in alphas}\n",
    "\n",
    "# pickle.dump(detector, open(\"checkpoints/nsp_detector.pkl\",\"wb\"))\n",
    "\n",
    "# precompute benign centroid\n",
    "def residual_vec(V: np.ndarray, det):\n",
    "    z    = (V - det[\"mu\"]) @ det[\"W\"].T\n",
    "    proj = det[\"P\"] @ (det[\"P\"].T @ z.T)\n",
    "    return z - proj.T\n",
    "\n",
    "R_ben_IDs = {a: residual_vec(v_ben_ID.numpy(), detectors[a])\n",
    "             for a in detectors}\n",
    "R_ben_IDs = {a: R_ben_IDs[a] / (np.linalg.norm(R_ben_IDs[a], axis=1, keepdims=True) + 1e-9)\n",
    "             for a in R_ben_IDs}\n",
    "centroids = {a: R_ben_IDs[a].mean(axis=0, keepdims=True)\n",
    "             for a in R_ben_IDs}\n"
   ]
  },
  {
   "cell_type": "markdown",
   "id": "12c6c8c8",
   "metadata": {},
   "source": [
    "### With L2"
   ]
  },
  {
   "cell_type": "markdown",
   "id": "9a935594",
   "metadata": {},
   "source": [
    "#### With Val Set "
   ]
  },
  {
   "cell_type": "code",
   "execution_count": 29,
   "id": "f92abae9",
   "metadata": {},
   "outputs": [
    {
     "name": "stdout",
     "output_type": "stream",
     "text": [
      "χ²-based τ (with val, alpha=0.8) = 14.0379\n",
      "χ²-based τ (with val, alpha=0.7) = 15.7152\n",
      "χ²-based τ (with val, alpha=0.9) = 11.8288\n",
      "alpha=0.8 , ID-val | Acc 0.779 F1 0.753 AUROC 0.848 Prec 0.853  Rec 0.674 TPR 0.674 FPR 0.116 TNR 0.884 FNR 0.326\n",
      "alpha=0.7 , ID-val | Acc 0.783 F1 0.770 AUROC 0.859 Prec 0.817  Rec 0.729 TPR 0.729 FPR 0.163 TNR 0.837 FNR 0.271\n",
      "alpha=0.9 , ID-val | Acc 0.775 F1 0.721 AUROC 0.855 Prec 0.949  Rec 0.581 TPR 0.581 FPR 0.031 TNR 0.969 FNR 0.419\n",
      "alpha=0.8 ,    OOD | Acc 0.780 F1 0.772 AUROC 0.860 Prec 0.823  Rec 0.726 TPR 0.726 FPR 0.164 TNR 0.836 FNR 0.274\n",
      "alpha=0.7 ,    OOD | Acc 0.753 F1 0.765 AUROC 0.862 Prec 0.746  Rec 0.784 TPR 0.784 FPR 0.280 TNR 0.720 FNR 0.216\n",
      "alpha=0.9 ,    OOD | Acc 0.786 F1 0.749 AUROC 0.859 Prec 0.938  Rec 0.623 TPR 0.623 FPR 0.043 TNR 0.957 FNR 0.377\n"
     ]
    }
   ],
   "source": [
    "# ==== Cell: [Detection – χ²-based L2 NSP (with validation split)] ====\n",
    "\n",
    "from sklearn.model_selection import train_test_split\n",
    "from sklearn.metrics import accuracy_score, precision_recall_fscore_support\n",
    "\n",
    "# 1) Split benign ID into train / val\n",
    "ben_ID_train, ben_ID_val = train_test_split(v_ben_ID, test_size=0.05, random_state=42)\n",
    "jb_ID_train,  jb_ID_val  = train_test_split(v_jb_ID,  test_size=0.05, random_state=42)\n",
    "\n",
    "# 2) Fit detector on train split\n",
    "# detector_l2_val = fit_whiten_pca(ben_ID_train.numpy(), alpha=0.9)\n",
    "# alphas = [0.7,.8, .85, 0.9, .95]\n",
    "alphas = [.8, 0.7, 0.9]\n",
    "detectors_l2_val = {a: fit_whiten_pca(ben_ID_train.numpy(), alpha=a) for a in alphas}\n",
    "\n",
    "\n",
    "# 3) χ² threshold (squared-L2 residual)\n",
    "chis_df_val = {a: ben_ID_train.shape[1] - detectors_l2_val[a][\"P\"].shape[1] for a in alphas}\n",
    "taus_l2_val = {a: chi2.ppf(0.95, df=chis_df_val[a]) ** 0.5 for a in alphas}\n",
    "for a in alphas:    \n",
    "    print(f\"χ²-based τ (with val, alpha={a}) = {taus_l2_val[a]:.4f}\")\n",
    "\n",
    "# 4) Scoring & evaluation\n",
    "def nsp_score_l2(V: np.ndarray, det) -> np.ndarray:\n",
    "    res = residual_vec(V, det)\n",
    "    return np.linalg.norm(res, axis=1)\n",
    "\n",
    "def eval_l2_with_val(v_ben, v_jb, name):\n",
    "    y_true = np.concatenate([np.zeros(len(v_ben)), np.ones(len(v_jb))])\n",
    "    scores = {a: np.concatenate([\n",
    "        nsp_score_l2(v_ben.numpy(), detectors_l2_val[a]),\n",
    "        nsp_score_l2(v_jb.numpy(), detectors_l2_val[a]),\n",
    "    ]) for a in detectors_l2_val}\n",
    "    y_pred = {a: (scores[a] > taus_l2_val[a]).astype(int) for a in alphas}\n",
    "\n",
    "    au   = {a: roc_auc_score(y_true, scores[a]) for a in alphas}\n",
    "    prec_rec_f1_ = {a: precision_recall_fscore_support(\n",
    "        y_true, y_pred[a], average=\"binary\", pos_label=1, zero_division=0\n",
    "    ) for a in alphas}\n",
    "    accs = {a: accuracy_score(y_true, y_pred[a]) for a in alphas}\n",
    "    tprs = {a: y_pred[a][len(v_ben):].mean() for a in alphas}\n",
    "    fprs = {a: y_pred[a][:len(v_ben)].mean() for a in alphas}\n",
    "    fnrs = {a: (1 - y_pred[a][len(v_ben):]).mean() for a in alphas}\n",
    "    tnrs = {a: (1 - y_pred[a][:len(v_ben)]).mean() for a in alphas}\n",
    "    for a in alphas:\n",
    "        print(f\"alpha={a:>2} , {name:>6} | Acc {accs[a]:.3f} F1 {prec_rec_f1_[a][2]:.3f} AUROC {au[a]:.3f} Prec {prec_rec_f1_[a][0]:.3f}  Rec {prec_rec_f1_[a][1]:.3f} TPR {tprs[a]:.3f} FPR {fprs[a]:.3f} TNR {tnrs[a]:.3f} FNR {fnrs[a]:.3f}\")\n",
    "\n",
    "# Eval on held-out ID val and full OOD\n",
    "eval_l2_with_val(ben_ID_val,  jb_ID_val,  \"ID-val\")\n",
    "eval_l2_with_val(v_ben_OOD,  v_jb_OOD,  \"OOD\")\n"
   ]
  },
  {
   "cell_type": "markdown",
   "id": "d9f1f32d",
   "metadata": {},
   "source": [
    "#### Without Val Set"
   ]
  },
  {
   "cell_type": "code",
   "execution_count": 55,
   "id": "514659a7",
   "metadata": {},
   "outputs": [
    {
     "name": "stdout",
     "output_type": "stream",
     "text": [
      "χ²-based τ (without val, alpha=0.5) = 18.3027\n",
      "χ²-based τ (without val, alpha=0.6) = 16.9671\n",
      "χ²-based τ (without val, alpha=0.7) = 15.4727\n",
      "χ²-based τ (without val, alpha=0.9) = 11.5437\n",
      "alpha=0.5 ,     ID | Acc 0.952 F1 0.950 AUROC 0.987 Prec 0.980  Rec 0.921 TPR 0.921 FPR 0.018 TNR 0.982 FNR 0.079\n",
      "alpha=0.6 ,     ID | Acc 0.956 F1 0.955 AUROC 0.991 Prec 0.995  Rec 0.917 TPR 0.917 FPR 0.005 TNR 0.995 FNR 0.083\n",
      "alpha=0.7 ,     ID | Acc 0.947 F1 0.944 AUROC 0.992 Prec 0.999  Rec 0.894 TPR 0.894 FPR 0.001 TNR 0.999 FNR 0.106\n",
      "alpha=0.9 ,     ID | Acc 0.866 F1 0.845 AUROC 0.994 Prec 1.000  Rec 0.731 TPR 0.731 FPR 0.000 TNR 1.000 FNR 0.269\n",
      "alpha=0.5 ,    OOD | Acc 0.510 F1 0.655 AUROC 0.852 Prec 0.487  Rec 1.000 TPR 1.000 FPR 0.917 TNR 0.083 FNR 0.000\n",
      "alpha=0.6 ,    OOD | Acc 0.518 F1 0.659 AUROC 0.849 Prec 0.491  Rec 1.000 TPR 1.000 FPR 0.901 TNR 0.099 FNR 0.000\n",
      "alpha=0.7 ,    OOD | Acc 0.524 F1 0.660 AUROC 0.851 Prec 0.494  Rec 0.994 TPR 0.994 FPR 0.885 TNR 0.115 FNR 0.006\n",
      "alpha=0.9 ,    OOD | Acc 0.638 F1 0.695 AUROC 0.830 Prec 0.571  Rec 0.886 TPR 0.886 FPR 0.578 TNR 0.422 FNR 0.114\n"
     ]
    }
   ],
   "source": [
    "# ==== Cell: [Detection – χ²-based L2 NSP (without validation split)] ====\n",
    "\n",
    "from sklearn.model_selection import train_test_split\n",
    "from sklearn.metrics import accuracy_score, precision_recall_fscore_support\n",
    "\n",
    "# 2) Fit detector on train split\n",
    "# detector_l2 = fit_whiten_pca(v_ben_ID.numpy(), alpha=0.9)\n",
    "alphas = [.5, .6,0.7,0.9]\n",
    "detectors_l2 = {a: fit_whiten_pca(v_ben_ID.numpy(), alpha=a) for a in alphas}\n",
    "# 3) χ² threshold (squared-L2 residual)\n",
    "chis_df = {a: v_ben_ID.shape[1] - detectors_l2[a][\"P\"].shape[1] for a in alphas}\n",
    "taus_l2 = {a: chi2.ppf(0.95, df=chis_df[a]) ** 0.5 for a in alphas}\n",
    "for a in alphas:\n",
    "    print(f\"χ²-based τ (without val, alpha={a}) = {taus_l2[a]:.4f}\")\n",
    "\n",
    "# 4) Scoring & evaluation\n",
    "def nsp_score_l2(V: np.ndarray, det) -> np.ndarray:\n",
    "    res = residual_vec(V, det)\n",
    "    return np.linalg.norm(res, axis=1)\n",
    "\n",
    "def eval_l2_without_val(v_ben, v_jb, name):\n",
    "    y_true = np.concatenate([np.zeros(len(v_ben)), np.ones(len(v_jb))])\n",
    "    scores = {a: np.concatenate([\n",
    "        nsp_score_l2(v_ben.numpy(), detectors_l2[a]),\n",
    "        nsp_score_l2(v_jb.numpy(), detectors_l2[a]),\n",
    "    ]) for a in detectors_l2}\n",
    "    y_pred = {a: (scores[a] > taus_l2[a]).astype(int) for a in alphas}\n",
    "\n",
    "    au   = {a: roc_auc_score(y_true, scores[a]) for a in alphas}\n",
    "    prec_rec_f1_ = {a: precision_recall_fscore_support(\n",
    "        y_true, y_pred[a], average=\"binary\", pos_label=1, zero_division=0\n",
    "    ) for a in alphas}\n",
    "    accs = {a: accuracy_score(y_true, y_pred[a]) for a in alphas}\n",
    "    tprs = {a: y_pred[a][len(v_ben):].mean() for a in alphas}\n",
    "    fprs = {a: y_pred[a][:len(v_ben)].mean() for a in alphas}\n",
    "    fnrs = {a: (1 - y_pred[a][len(v_ben):]).mean() for a in alphas}\n",
    "    tnrs = {a: (1 - y_pred[a][:len(v_ben)]).mean() for a in alphas}\n",
    "    for a in alphas:\n",
    "        print(f\"alpha={a:>2} , {name:>6} | Acc {accs[a]:.3f} F1 {prec_rec_f1_[a][2]:.3f} AUROC {au[a]:.3f} Prec {prec_rec_f1_[a][0]:.3f}  Rec {prec_rec_f1_[a][1]:.3f} TPR {tprs[a]:.3f} FPR {fprs[a]:.3f} TNR {tnrs[a]:.3f} FNR {fnrs[a]:.3f}\")\n",
    " \n",
    "# Eval on held-out ID val and full OOD\n",
    "eval_l2_without_val(v_ben_ID,  v_jb_ID,  \"ID\")\n",
    "eval_l2_without_val(v_ben_OOD,  v_jb_OOD,  \"OOD\")\n"
   ]
  },
  {
   "cell_type": "markdown",
   "id": "acd14280",
   "metadata": {},
   "source": []
  },
  {
   "cell_type": "markdown",
   "id": "8d296867",
   "metadata": {},
   "source": []
  }
 ],
 "metadata": {
  "kernelspec": {
   "display_name": "My Venv",
   "language": "python",
   "name": "mykernel"
  },
  "language_info": {
   "codemirror_mode": {
    "name": "ipython",
    "version": 3
   },
   "file_extension": ".py",
   "mimetype": "text/x-python",
   "name": "python",
   "nbconvert_exporter": "python",
   "pygments_lexer": "ipython3",
   "version": "3.11.9"
  }
 },
 "nbformat": 4,
 "nbformat_minor": 5
}
