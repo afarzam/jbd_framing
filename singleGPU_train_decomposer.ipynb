{
 "cells": [
  {
   "cell_type": "markdown",
   "metadata": {},
   "source": [
    "## Session Setup"
   ]
  },
  {
   "cell_type": "code",
   "execution_count": 1,
   "metadata": {},
   "outputs": [
    {
     "name": "stdout",
     "output_type": "stream",
     "text": [
      "Devices visible: 7\n",
      "torch.cuda.device_count(): 1\n"
     ]
    }
   ],
   "source": [
    "# Check to make sure there are multiple gpus available\n",
    "import torch, os\n",
    "!export CUDA_LAUNCH_BLOCKING=1\n",
    "\n",
    "import gc, torch, os\n",
    "torch.cuda.empty_cache()\n",
    "gc.collect()\n",
    "\n",
    "os.environ[\"CUDA_LAUNCH_BLOCKING\"] = \"1\"\n",
    "os.environ[\"CUDA_VISIBLE_DEVICES\"] = \"7\"\n",
    "os.chdir(\"/mnt/home/amir/framingdecomp/framingDecomp\")\n",
    "\n",
    "print(\"Devices visible:\", os.environ.get(\"CUDA_VISIBLE_DEVICES\"))\n",
    "print(\"torch.cuda.device_count():\", torch.cuda.device_count())\n",
    "\n"
   ]
  },
  {
   "cell_type": "code",
   "execution_count": 2,
   "metadata": {},
   "outputs": [
    {
     "name": "stdout",
     "output_type": "stream",
     "text": [
      "2025-07-21 19:58:41,300 — INFO — Log file created at logs/decomposer_20250721_195841.log\n",
      "2025-07-21 19:58:41,321 — INFO — Config loaded and seeds set.\n"
     ]
    }
   ],
   "source": [
    "# ==== Cell: [Session setup] ====\n",
    "\n",
    "import os, sys, logging, random, yaml, time, uuid, json\n",
    "from pathlib import Path\n",
    "\n",
    "import torch\n",
    "import numpy as np\n",
    "\n",
    "# ——— switches you may tune ——————————————————————————\n",
    "USE_MULTIGPU     = True          # False → single-GPU\n",
    "VISIBLE_DEVICES  = \"7\"#\"0,1,2,3\"\n",
    "CFG_PATH         = \"configs/decomposer_main.yaml\"\n",
    "# ————————————————————————————————————————————————\n",
    "\n",
    "\n",
    "# device = \"cuda\" if torch.cuda.is_available() else \"cpu\"\n",
    "# print(f\"Device: {device}, GPUs: {torch.cuda.device_count()}\")\n",
    "\n",
    "# ---------- logging ----------\n",
    "Path(\"logs\").mkdir(exist_ok=True)\n",
    "ts = time.strftime(\"%Y%m%d_%H%M%S\")\n",
    "log_path = Path(f\"logs/decomposer_{ts}.log\")\n",
    "\n",
    "# root logger -> both console and file\n",
    "logging.basicConfig(\n",
    "    level=logging.INFO,\n",
    "    format=\"%(asctime)s — %(levelname)s — %(message)s\",\n",
    "    handlers=[\n",
    "        logging.StreamHandler(sys.stdout),\n",
    "        logging.FileHandler(log_path, mode=\"w\")\n",
    "    ]\n",
    ")\n",
    "logger = logging.getLogger(\"train_decomposer\")\n",
    "logger.info(\"Log file created at %s\", log_path)\n",
    "\n",
    "\n",
    "# --- config, seeds, logging -----------------------------------\n",
    "with open(CFG_PATH, \"r\") as f:\n",
    "    config = yaml.safe_load(f)\n",
    "\n",
    "seed = config[\"experiment\"][\"seed\"]\n",
    "torch.manual_seed(seed)\n",
    "np.random.seed(seed)\n",
    "random.seed(seed)\n",
    "\n",
    "logger.info(\"Config loaded and seeds set.\")"
   ]
  },
  {
   "cell_type": "markdown",
   "metadata": {},
   "source": [
    "## Data Loading and Preprocessing"
   ]
  },
  {
   "cell_type": "code",
   "execution_count": null,
   "metadata": {},
   "outputs": [
    {
     "name": "stdout",
     "output_type": "stream",
     "text": [
      "2025-07-21 19:58:41,497 — INFO — Total processed samples: 528\n"
     ]
    }
   ],
   "source": [
    "# ==== Cell: [Data loading & preprocessing] ====\n",
    "\n",
    "import json\n",
    "from typing import List, Dict\n",
    "\n",
    "def load_jsonl(path: str) -> List[Dict]:\n",
    "    with open(path, \"r\") as f:\n",
    "        return [json.loads(l) for l in f if l.strip() and not l.strip().startswith(\"#\")]\n",
    "\n",
    "data_cfg = config[\"data\"]\n",
    "\n",
    "raw_F_harm  = load_jsonl(data_cfg[\"input_path_varyFraming\"])\n",
    "raw_G_harm  = load_jsonl(data_cfg[\"input_path_varyGoal\"])\n",
    "raw_F_ben   = load_jsonl(data_cfg[\"input_path_varyFraming_benign\"])\n",
    "raw_G_ben   = load_jsonl(data_cfg[\"input_path_varyGoal_benign\"])\n",
    "\n",
    "for e in raw_F_harm + raw_F_ben: e[\"split\"] = \"varyF\"\n",
    "for e in raw_G_harm + raw_G_ben: e[\"split\"] = \"varyG\"\n",
    "\n",
    "def _preprocess(entries: List[Dict], max_f_idx: int):\n",
    "    processed = []\n",
    "    for ent in entries:\n",
    "        req = [\"prompt\",\"goal\",\"goal_index\",\"framing_index\",\"split\"]\n",
    "        if not all(k in ent for k in req): \n",
    "            continue\n",
    "        g, f = ent[\"goal_index\"], ent[\"framing_index\"]\n",
    "        if ent[\"split\"] == \"varyF\":                 # re-index framings\n",
    "            f = g if f == 0 else max_f_idx + 1\n",
    "            max_f_idx = max(max_f_idx, f)\n",
    "        processed.append({\n",
    "            \"text\":  ent[\"prompt\"],\n",
    "            \"goal\":  ent[\"goal\"],\n",
    "            \"goal_index\": g,\n",
    "            \"framing_index\": f,\n",
    "            \"label\": ent.get(\"jailbroken\", False),\n",
    "            \"split\": ent[\"split\"],\n",
    "        })\n",
    "    return processed, max_f_idx\n",
    "\n",
    "max_idx = max(e[\"framing_index\"]\n",
    "              for e in raw_F_harm + raw_G_harm + raw_F_ben + raw_G_ben)\n",
    "\n",
    "P_F_harm, max_idx = _preprocess(raw_F_harm, max_idx)\n",
    "P_G_harm, max_idx = _preprocess(raw_G_harm, max_idx)\n",
    "P_F_ben , max_idx = _preprocess(raw_F_ben , max_idx)\n",
    "P_G_ben , max_idx = _preprocess(raw_G_ben , max_idx)\n",
    "\n",
    "all_samples = P_F_harm + P_G_harm + P_F_ben + P_G_ben\n",
    "n_total = len(all_samples)\n",
    "n_sample = int(n_total * config.get('sample_prop', 1.))\n",
    "n_sample = max(n_sample, 500)\n",
    "if n_sample < n_total:\n",
    "    logger.info(\"Sampling %d out of %d total samples\", n_sample, n_total)\n",
    "    all_samples = random.sample(all_samples, n_sample)\n",
    "logger.info(\"Total processed samples: %d\", len(all_samples))"
   ]
  },
  {
   "cell_type": "markdown",
   "metadata": {},
   "source": [
    "## Dataloader"
   ]
  },
  {
   "cell_type": "code",
   "execution_count": 4,
   "metadata": {},
   "outputs": [
    {
     "name": "stdout",
     "output_type": "stream",
     "text": [
      "2025-07-21 19:58:41,595 — INFO — Goal pairs: 807   Frame pairs: 986   Total pairs: 1793\n"
     ]
    }
   ],
   "source": [
    "# ==== Cell: [Dataset & dataloader] ====\n",
    "\n",
    "# from utils.misc import DualPairDataset, collate_dual\n",
    "\n",
    "from collections import defaultdict\n",
    "from typing import Tuple\n",
    "from torch.utils.data import Dataset, DataLoader\n",
    "\n",
    "class DualPairDataset(Dataset):\n",
    "    \"\"\"\n",
    "    Returns (sample_a, sample_b, pair_type)\n",
    "      pair_type = 0 → same-goal / diff-frame  (from varyF)\n",
    "      pair_type = 1 → same-frame / diff-goal  (from varyG)\n",
    "    \"\"\"\n",
    "    def __init__(self, samples, stratified_capping=True):\n",
    "        self.samples = samples\n",
    "        self.goal_pairs, self.frame_pairs = [], []\n",
    "\n",
    "        by_goal_F  = defaultdict(list)\n",
    "        by_frame_G = defaultdict(list)\n",
    "\n",
    "        for idx, s in enumerate(samples):\n",
    "            if s[\"split\"] == \"varyF\":  by_goal_F [s[\"goal_index\"]   ].append(idx)\n",
    "            else:                      by_frame_G[s[\"framing_index\"]].append(idx)\n",
    "\n",
    "        for lst in by_goal_F.values():\n",
    "            self.goal_pairs  += [(a,b,0) for a in lst for b in lst if a<b]\n",
    "        for lst in by_frame_G.values():\n",
    "            self.frame_pairs += [(a,b,1) for a in lst for b in lst if a<b]\n",
    "\n",
    "        # --- stratified capping ---------------------------------\n",
    "        # this improved the performance a bit\n",
    "        if stratified_capping:\n",
    "            cap = int(np.median([len(v) for v in by_goal_F.values()]))\n",
    "            for g, lst in by_goal_F.items():\n",
    "                if len(lst) > cap:               # down-sample heavy goals\n",
    "                    by_goal_F[g] = random.sample(lst, cap)\n",
    "        # --------------------------------------------------------------\n",
    "\n",
    "        self.all_pairs = self.goal_pairs + self.frame_pairs\n",
    "\n",
    "    def __len__(self): return len(self.all_pairs)\n",
    "    def __getitem__(self, k): return self.all_pairs[k]\n",
    "\n",
    "def collate_dual(batch) -> Tuple[list,str,str,torch.Tensor]:\n",
    "    \"\"\"\n",
    "    batch → (texts, goal_ids, frame_ids, pair_types)\n",
    "    \"\"\"\n",
    "    texts, gid, fid, ptype = [], [], [], []\n",
    "    for a,b,t in batch:\n",
    "        sa, sb = all_samples[a], all_samples[b]\n",
    "        texts.extend([sa[\"text\"], sb[\"text\"]])\n",
    "        gid.extend([sa[\"goal_cid\"], sb[\"goal_cid\"]])\n",
    "        fid.extend([sa[\"framing_index\"], sb[\"framing_index\"]])\n",
    "        ptype.append(t)\n",
    "    return (texts,\n",
    "            torch.tensor(gid),\n",
    "            torch.tensor(fid),\n",
    "            torch.tensor(ptype))\n",
    "\n",
    "# contiguous goal ids\n",
    "unique_goals = sorted({s[\"goal_index\"] for s in all_samples})\n",
    "goal2cid     = {g:i for i,g in enumerate(unique_goals)}\n",
    "for s in all_samples: s[\"goal_cid\"] = goal2cid[s[\"goal_index\"]]\n",
    "\n",
    "train_ds = DualPairDataset(all_samples)\n",
    "logger.info(\"Goal pairs: %d   Frame pairs: %d   Total pairs: %d\",\n",
    "            len(train_ds.goal_pairs),\n",
    "            len(train_ds.frame_pairs),\n",
    "            len(train_ds))"
   ]
  },
  {
   "cell_type": "markdown",
   "metadata": {},
   "source": [
    "## Training and Launcher"
   ]
  },
  {
   "cell_type": "code",
   "execution_count": 5,
   "metadata": {},
   "outputs": [],
   "source": [
    "# from models.decomposer import NonlinearDecomposer, NonlinearDecomposer_tiny\n",
    "# dec = NonlinearDecomposer_tiny(enc_dim=4096)"
   ]
  },
  {
   "cell_type": "code",
   "execution_count": null,
   "metadata": {},
   "outputs": [],
   "source": [
    "# ==== Cell: [Training worker & launch] ====\n",
    "\n",
    "from utils.misc import set_seed\n",
    "from accelerate import notebook_launcher\n",
    "import torch.multiprocessing as mp\n",
    "mp.set_start_method(\"spawn\", force=True)\n",
    "\n",
    "ts = None\n",
    "run_id = None\n",
    "global run_id, ts\n",
    "\n",
    "def train_worker():\n",
    "    import gc, yaml, torch, torch.distributed as dist\n",
    "    from torch.optim import AdamW\n",
    "    from torch.optim.lr_scheduler import CosineAnnealingLR\n",
    "    from torch.nn.parallel import DistributedDataParallel as DDP\n",
    "    from train_test.decomposer_training import train_decomposer\n",
    "    from utils.model_utils import load_model_multiGPU\n",
    "    from models.encoder import HFEncoder_notPooled\n",
    "    from models.decomposer import NonlinearDecomposer, NonlinearDecomposer_tiny\n",
    "\n",
    "    gc.collect(); torch.cuda.empty_cache()\n",
    "\n",
    "    local_rank = int(os.environ.get(\"LOCAL_RANK\", 0))\n",
    "    world_size = int(os.environ.get(\"WORLD_SIZE\", \"1\"))\n",
    "    distributed = world_size > 1\n",
    "\n",
    "    if distributed:\n",
    "        dist.init_process_group(\n",
    "            backend=\"nccl\", init_method=\"env://\",\n",
    "            rank=local_rank, world_size=world_size,\n",
    "        )\n",
    "\n",
    "    torch.cuda.set_device(local_rank)\n",
    "    device = torch.device(\"cuda\", local_rank)\n",
    "\n",
    "    # ——— load LLM once per rank ———\n",
    "    model, tokenizer = load_model_multiGPU(\n",
    "        model_name=config[\"model\"][\"name\"],\n",
    "        local_rank=local_rank,\n",
    "        load_in_8bit=False,\n",
    "        load_in_4bit=False,\n",
    "    )\n",
    "    \n",
    "    config[\"model\"][\"layers\"] = 'all'#[-1]\n",
    "    if config[\"model\"][\"layers\"] == 'all':\n",
    "        num_layers = model.config.num_hidden_layers\n",
    "        layers = list(range(num_layers))\n",
    "    else:\n",
    "        layers = config[\"model\"][\"layers\"]\n",
    "        if isinstance(layers, int): layers = [layers]\n",
    "    \n",
    "    # --- Set arguments # TODO: Delete and instead fix the config\n",
    "    config['experiment']['use_sae'] = config['experiment'].get('use_sae', False)  # use Sparse Autoencoder\n",
    "    config['training']['num_epochs'] = 3\n",
    "    init_lambda_orth = config['lambda_orth']\n",
    "    config['lambda_repulse'] = config.get('lambda_repulse', 6.0) \n",
    "    config['lambda_adv'] = config.get('lambda_adv', 2.0)  \n",
    "    config['lambda_sparse'] = config.get('lambda_sparse', None)  \n",
    "    config['lambda_recon'] = config.get('lambda_recon', 1.0)  \n",
    "    config['lambda_Worth'] = config.get('lambda_Worth', 0.05)\n",
    "    config['grad_accum_steps'] = config.get('grad_accum_steps', 8)\n",
    "    config['model']['layers'] = layers\n",
    "    config['model']['layer_combine'] = config['model'].get('layer_combine', 'mean')\n",
    "    config['model']['last_token'] = config['model'].get('last_token', False)\n",
    "    config['training']['num_epochs']   = 3\n",
    "    config['training']['batch_size']   = 8\n",
    "    # ---\n",
    "    \n",
    "    for layer in layers:\n",
    "        torch.manual_seed(config['experiment']['seed'])\n",
    "        torch.cuda.manual_seed_all(config['experiment']['seed'])\n",
    "        np.random.seed(config['experiment']['seed'])\n",
    "        random.seed(config['experiment']['seed'])\n",
    "        torch.backends.cudnn.deterministic = True\n",
    "        torch.backends.cudnn.benchmark = False\n",
    "    \n",
    "        logger.info(f\"Training decomposer for layer {layer}\")\n",
    "        encoder = HFEncoder_notPooled(\n",
    "            model=model,\n",
    "            tokenizer=tokenizer,\n",
    "            device=device,\n",
    "            layers=[layer],\n",
    "            layer_combine=config[\"model\"].get(\"layer_combine\", \"mean\"),\n",
    "            last_token=config[\"model\"].get(\"last_token\", True),\n",
    "        )\n",
    "        encoder.eval()\n",
    "\n",
    "        # ——— decomposer ———\n",
    "        enc_dim = model.config.hidden_size\n",
    "        dec = NonlinearDecomposer(\n",
    "            enc_dim=enc_dim,\n",
    "            d_g=config[\"d_g\"],\n",
    "            d_f=config[\"d_f\"],\n",
    "            hidden_dim=config.get(\"hidden_dim\", 1024),\n",
    "            dropout=config.get(\"dropout\", 0.1),\n",
    "        ).to(device)\n",
    "        d_f = dec.Wf(torch.randn(4096).to(device)).shape[0]\n",
    "        \n",
    "        gen = torch.Generator()\n",
    "        gen.manual_seed(config['experiment']['seed']) \n",
    "        if distributed:\n",
    "            dec = DDP(dec, device_ids=[local_rank])\n",
    "            # ——— dataloader ———\n",
    "            from torch.utils.data import DistributedSampler\n",
    "            sampler = DistributedSampler(train_ds, rank=local_rank,\n",
    "                                            num_replicas=world_size, shuffle=True, seed=config['experiment']['seed'])\n",
    "            train_loader = DataLoader(\n",
    "                train_ds,\n",
    "                batch_size=config[\"training\"][\"batch_size\"],\n",
    "                sampler=sampler,\n",
    "                collate_fn=collate_dual,\n",
    "                num_workers=8,\n",
    "                pin_memory=True,\n",
    "                shuffle=False,\n",
    "                worker_init_fn=lambda wid: set_seed(config['experiment']['seed'] + wid),#seed_worker,\n",
    "                generator=gen,\n",
    "            )\n",
    "        else:\n",
    "            dec.__dict__[\"module\"] = dec\n",
    "            # from torch.utils.data import DistributedSampler\n",
    "            # sampler = DistributedSampler(train_ds, rank=0,\n",
    "            #                             num_replicas=1, shuffle=True)\n",
    "            train_loader  = DataLoader(train_ds,\n",
    "                                 batch_size=config[\"training\"][\"batch_size\"], \n",
    "                                 collate_fn=collate_dual,\n",
    "                                 num_workers=0, pin_memory=False, shuffle=True, sampler=None,\n",
    "                                 worker_init_fn=lambda wid: set_seed(config['experiment']['seed'] + wid),\n",
    "                                 generator=gen)\n",
    "\n",
    "        # ——— optim & sched ———\n",
    "        opt = AdamW(dec.parameters(), lr=config[\"lr\"])\n",
    "        sched = CosineAnnealingLR(opt,\n",
    "                                    T_max=len(train_ds)*config[\"training\"][\"num_epochs\"])\n",
    "\n",
    "        # adversarial classifier\n",
    "        n_goals = len(unique_goals)\n",
    "        adv_clf = torch.nn.Linear(d_f, n_goals).to(device)\n",
    "        if distributed:\n",
    "            adv_clf = DDP(adv_clf, device_ids=[local_rank])\n",
    "        adv_opt = AdamW(adv_clf.parameters(), lr=1e-4)\n",
    "\n",
    "        # ——— train ———\n",
    "        stats = train_decomposer(\n",
    "            encoder     = encoder,\n",
    "            decomposer  = dec,\n",
    "            dataloader  = train_loader,\n",
    "            optimizer   = opt,\n",
    "            adv_clf     = adv_clf,\n",
    "            adv_opt     = adv_opt,\n",
    "            lambda_adv  = config.get('lambda_adv', 2.0),\n",
    "            scheduler   = sched,\n",
    "            device      = device,\n",
    "            epochs      = config['training']['num_epochs'],\n",
    "            lambda_g    = config['lambda_g'],\n",
    "            lambda_f    = config['lambda_f'],\n",
    "            lambda_repulse = config.get('lambda_repulse', 6.0),  # optional\n",
    "            lambda_orth = config['lambda_orth']*10,\n",
    "            lambda_recon = config.get('lambda_recon', 1.0),  # optional\n",
    "            lambda_Worth = config.get('lambda_Worth', 0.25),\n",
    "            grad_clip   = config['grad_clip'],\n",
    "            grad_accum_steps = config[\"training\"].get('grad_accum_steps', 4),\n",
    "            log_every   = 50,\n",
    "            info        = logger.info,\n",
    "            layer_str= f\"{layer}\",\n",
    "        )\n",
    "\n",
    "        # ——— checkpoint (rank-0 only) ———\n",
    "        if local_rank == 0:\n",
    "            # ts = time.strftime(\"%Y%m%d_%H%M%S\")\n",
    "            # run_id = str(uuid.uuid4())\n",
    "            global run_id, ts\n",
    "            ckpt_dir = Path(f\"checkpoints/decomposer_simple/decomposer_layer{layer}_{ts}_{run_id}\")\n",
    "            ckpt_dir.mkdir(parents=True, exist_ok=True)\n",
    "            \n",
    "            if layer == 0:\n",
    "                config_filename = f\"./output/config_{ts}_{run_id}.yaml\"\n",
    "                with open(config_filename, \"w\") as f:\n",
    "                    yaml.safe_dump(config, f)\n",
    "\n",
    "            torch.save({k: v.cpu() for k, v in dec.module.state_dict().items()},\n",
    "                        ckpt_dir / \"weights.pt\")\n",
    "            with open(ckpt_dir / \"train_stats.json\", \"w\") as f:\n",
    "                json.dump(stats, f)\n",
    "            logger.info(\"Checkpoint for layer %d saved to %s\", layer, ckpt_dir)\n",
    "\n",
    "    if distributed:\n",
    "        dist.destroy_process_group()\n",
    "\n"
   ]
  },
  {
   "cell_type": "code",
   "execution_count": 7,
   "metadata": {},
   "outputs": [],
   "source": [
    "# import sys\n",
    "# sys.path.append('/mnt/home/amir/framingdecomp/framingDecomp')\n",
    "# # import os\n",
    "# # os.environ['PYTHONPATH'] = '/mnt/home/amir/framingdecomp/framingDecomp'"
   ]
  },
  {
   "cell_type": "code",
   "execution_count": 8,
   "metadata": {},
   "outputs": [
    {
     "name": "stdout",
     "output_type": "stream",
     "text": [
      "Launching training on one GPU.\n"
     ]
    },
    {
     "name": "stderr",
     "output_type": "stream",
     "text": [
      "/mnt/home/amir/jupyter-env/lib/python3.11/site-packages/transformers/models/auto/tokenization_auto.py:902: FutureWarning: The `use_auth_token` argument is deprecated and will be removed in v5 of Transformers. Please use `token` instead.\n",
      "  warnings.warn(\n",
      "/mnt/home/amir/jupyter-env/lib/python3.11/site-packages/transformers/models/auto/auto_factory.py:476: FutureWarning: The `use_auth_token` argument is deprecated and will be removed in v5 of Transformers. Please use `token` instead.\n",
      "  warnings.warn(\n"
     ]
    },
    {
     "data": {
      "application/vnd.jupyter.widget-view+json": {
       "model_id": "693adfb92b2b4231bb36683391f16e7d",
       "version_major": 2,
       "version_minor": 0
      },
      "text/plain": [
       "Loading checkpoint shards:   0%|          | 0/2 [00:00<?, ?it/s]"
      ]
     },
     "metadata": {},
     "output_type": "display_data"
    },
    {
     "name": "stdout",
     "output_type": "stream",
     "text": [
      "2025-07-21 19:58:51,749 — INFO — Training decomposer for layer -1\n"
     ]
    },
    {
     "name": "stderr",
     "output_type": "stream",
     "text": [
      "/mnt/home/amir/framingdecomp/framingDecomp/train_test/decomposer_training.py:113: FutureWarning: `torch.cuda.amp.GradScaler(args...)` is deprecated. Please use `torch.amp.GradScaler('cuda', args...)` instead.\n",
      "  scaler = torch.cuda.amp.GradScaler()\n",
      "epoch 0, layer -1:   0%|                                                                                               | 0/225 [00:00<?, ?it/s]Traceback (most recent call last):\n",
      "  File \"<string>\", line 1, in <module>\n",
      "  File \"/mnt/home/amir/python311/lib/python3.11/multiprocessing/spawn.py\", line 122, in spawn_main\n",
      "    exitcode = _main(fd, parent_sentinel)\n",
      "               ^^^^^^^^^^^^^^^^^^^^^^^^^^\n",
      "  File \"/mnt/home/amir/python311/lib/python3.11/multiprocessing/spawn.py\", line 132, in _main\n",
      "    self = reduction.pickle.load(from_parent)\n",
      "           ^^^^^^^^^^^^^^^^^^^^^^^^^^^^^^^^^^\n",
      "AttributeError: Can't get attribute 'DualPairDataset' on <module '__main__' (built-in)>\n",
      "                                                                                                                                               \r"
     ]
    },
    {
     "ename": "KeyboardInterrupt",
     "evalue": "",
     "output_type": "error",
     "traceback": [
      "\u001b[31m---------------------------------------------------------------------------\u001b[39m",
      "\u001b[31mKeyboardInterrupt\u001b[39m                         Traceback (most recent call last)",
      "\u001b[36mCell\u001b[39m\u001b[36m \u001b[39m\u001b[32mIn[8]\u001b[39m\u001b[32m, line 11\u001b[39m\n\u001b[32m      9\u001b[39m run_id = \u001b[38;5;28mstr\u001b[39m(uuid.uuid4())\n\u001b[32m     10\u001b[39m num_proc=\u001b[32m1\u001b[39m\n\u001b[32m---> \u001b[39m\u001b[32m11\u001b[39m \u001b[43mnotebook_launcher\u001b[49m\u001b[43m(\u001b[49m\u001b[43mtrain_worker\u001b[49m\u001b[43m,\u001b[49m\u001b[43m \u001b[49m\u001b[43mnum_processes\u001b[49m\u001b[43m=\u001b[49m\u001b[43mnum_proc\u001b[49m\u001b[43m)\u001b[49m\n",
      "\u001b[36mFile \u001b[39m\u001b[32m~/jupyter-env/lib/python3.11/site-packages/accelerate/launchers.py:266\u001b[39m, in \u001b[36mnotebook_launcher\u001b[39m\u001b[34m(function, args, num_processes, mixed_precision, use_port, master_addr, node_rank, num_nodes, rdzv_backend, rdzv_endpoint, rdzv_conf, rdzv_id, max_restarts, monitor_interval, log_line_prefix_template)\u001b[39m\n\u001b[32m    264\u001b[39m \u001b[38;5;28;01melse\u001b[39;00m:\n\u001b[32m    265\u001b[39m     \u001b[38;5;28mprint\u001b[39m(\u001b[33m\"\u001b[39m\u001b[33mLaunching training on CPU.\u001b[39m\u001b[33m\"\u001b[39m)\n\u001b[32m--> \u001b[39m\u001b[32m266\u001b[39m \u001b[43mfunction\u001b[49m\u001b[43m(\u001b[49m\u001b[43m*\u001b[49m\u001b[43margs\u001b[49m\u001b[43m)\u001b[49m\n",
      "\u001b[36mCell\u001b[39m\u001b[36m \u001b[39m\u001b[32mIn[6]\u001b[39m\u001b[32m, line 149\u001b[39m, in \u001b[36mtrain_worker\u001b[39m\u001b[34m()\u001b[39m\n\u001b[32m    146\u001b[39m adv_opt = AdamW(adv_clf.parameters(), lr=\u001b[32m1e-4\u001b[39m)\n\u001b[32m    148\u001b[39m \u001b[38;5;66;03m# ——— train ———\u001b[39;00m\n\u001b[32m--> \u001b[39m\u001b[32m149\u001b[39m stats = \u001b[43mtrain_decomposer\u001b[49m\u001b[43m(\u001b[49m\n\u001b[32m    150\u001b[39m \u001b[43m    \u001b[49m\u001b[43mencoder\u001b[49m\u001b[43m     \u001b[49m\u001b[43m=\u001b[49m\u001b[43m \u001b[49m\u001b[43mencoder\u001b[49m\u001b[43m,\u001b[49m\n\u001b[32m    151\u001b[39m \u001b[43m    \u001b[49m\u001b[43mdecomposer\u001b[49m\u001b[43m  \u001b[49m\u001b[43m=\u001b[49m\u001b[43m \u001b[49m\u001b[43mdec\u001b[49m\u001b[43m,\u001b[49m\n\u001b[32m    152\u001b[39m \u001b[43m    \u001b[49m\u001b[43mdataloader\u001b[49m\u001b[43m  \u001b[49m\u001b[43m=\u001b[49m\u001b[43m \u001b[49m\u001b[43mtrain_loader\u001b[49m\u001b[43m,\u001b[49m\n\u001b[32m    153\u001b[39m \u001b[43m    \u001b[49m\u001b[43moptimizer\u001b[49m\u001b[43m   \u001b[49m\u001b[43m=\u001b[49m\u001b[43m \u001b[49m\u001b[43mopt\u001b[49m\u001b[43m,\u001b[49m\n\u001b[32m    154\u001b[39m \u001b[43m    \u001b[49m\u001b[43madv_clf\u001b[49m\u001b[43m     \u001b[49m\u001b[43m=\u001b[49m\u001b[43m \u001b[49m\u001b[43madv_clf\u001b[49m\u001b[43m,\u001b[49m\n\u001b[32m    155\u001b[39m \u001b[43m    \u001b[49m\u001b[43madv_opt\u001b[49m\u001b[43m     \u001b[49m\u001b[43m=\u001b[49m\u001b[43m \u001b[49m\u001b[43madv_opt\u001b[49m\u001b[43m,\u001b[49m\n\u001b[32m    156\u001b[39m \u001b[43m    \u001b[49m\u001b[43mlambda_adv\u001b[49m\u001b[43m  \u001b[49m\u001b[43m=\u001b[49m\u001b[43m \u001b[49m\u001b[43mconfig\u001b[49m\u001b[43m.\u001b[49m\u001b[43mget\u001b[49m\u001b[43m(\u001b[49m\u001b[33;43m'\u001b[39;49m\u001b[33;43mlambda_adv\u001b[39;49m\u001b[33;43m'\u001b[39;49m\u001b[43m,\u001b[49m\u001b[43m \u001b[49m\u001b[32;43m2.0\u001b[39;49m\u001b[43m)\u001b[49m\u001b[43m,\u001b[49m\n\u001b[32m    157\u001b[39m \u001b[43m    \u001b[49m\u001b[43mscheduler\u001b[49m\u001b[43m   \u001b[49m\u001b[43m=\u001b[49m\u001b[43m \u001b[49m\u001b[43msched\u001b[49m\u001b[43m,\u001b[49m\n\u001b[32m    158\u001b[39m \u001b[43m    \u001b[49m\u001b[43mdevice\u001b[49m\u001b[43m      \u001b[49m\u001b[43m=\u001b[49m\u001b[43m \u001b[49m\u001b[43mdevice\u001b[49m\u001b[43m,\u001b[49m\n\u001b[32m    159\u001b[39m \u001b[43m    \u001b[49m\u001b[43mepochs\u001b[49m\u001b[43m      \u001b[49m\u001b[43m=\u001b[49m\u001b[43m \u001b[49m\u001b[43mconfig\u001b[49m\u001b[43m[\u001b[49m\u001b[33;43m'\u001b[39;49m\u001b[33;43mtraining\u001b[39;49m\u001b[33;43m'\u001b[39;49m\u001b[43m]\u001b[49m\u001b[43m[\u001b[49m\u001b[33;43m'\u001b[39;49m\u001b[33;43mnum_epochs\u001b[39;49m\u001b[33;43m'\u001b[39;49m\u001b[43m]\u001b[49m\u001b[43m,\u001b[49m\n\u001b[32m    160\u001b[39m \u001b[43m    \u001b[49m\u001b[43mlambda_g\u001b[49m\u001b[43m    \u001b[49m\u001b[43m=\u001b[49m\u001b[43m \u001b[49m\u001b[43mconfig\u001b[49m\u001b[43m[\u001b[49m\u001b[33;43m'\u001b[39;49m\u001b[33;43mlambda_g\u001b[39;49m\u001b[33;43m'\u001b[39;49m\u001b[43m]\u001b[49m\u001b[43m,\u001b[49m\n\u001b[32m    161\u001b[39m \u001b[43m    \u001b[49m\u001b[43mlambda_f\u001b[49m\u001b[43m    \u001b[49m\u001b[43m=\u001b[49m\u001b[43m \u001b[49m\u001b[43mconfig\u001b[49m\u001b[43m[\u001b[49m\u001b[33;43m'\u001b[39;49m\u001b[33;43mlambda_f\u001b[39;49m\u001b[33;43m'\u001b[39;49m\u001b[43m]\u001b[49m\u001b[43m,\u001b[49m\n\u001b[32m    162\u001b[39m \u001b[43m    \u001b[49m\u001b[43mlambda_repulse\u001b[49m\u001b[43m \u001b[49m\u001b[43m=\u001b[49m\u001b[43m \u001b[49m\u001b[43mconfig\u001b[49m\u001b[43m.\u001b[49m\u001b[43mget\u001b[49m\u001b[43m(\u001b[49m\u001b[33;43m'\u001b[39;49m\u001b[33;43mlambda_repulse\u001b[39;49m\u001b[33;43m'\u001b[39;49m\u001b[43m,\u001b[49m\u001b[43m \u001b[49m\u001b[32;43m6.0\u001b[39;49m\u001b[43m)\u001b[49m\u001b[43m,\u001b[49m\u001b[43m  \u001b[49m\u001b[38;5;66;43;03m# optional\u001b[39;49;00m\n\u001b[32m    163\u001b[39m \u001b[43m    \u001b[49m\u001b[43mlambda_orth\u001b[49m\u001b[43m \u001b[49m\u001b[43m=\u001b[49m\u001b[43m \u001b[49m\u001b[43mconfig\u001b[49m\u001b[43m[\u001b[49m\u001b[33;43m'\u001b[39;49m\u001b[33;43mlambda_orth\u001b[39;49m\u001b[33;43m'\u001b[39;49m\u001b[43m]\u001b[49m\u001b[43m*\u001b[49m\u001b[32;43m10\u001b[39;49m\u001b[43m,\u001b[49m\n\u001b[32m    164\u001b[39m \u001b[43m    \u001b[49m\u001b[43mlambda_recon\u001b[49m\u001b[43m \u001b[49m\u001b[43m=\u001b[49m\u001b[43m \u001b[49m\u001b[43mconfig\u001b[49m\u001b[43m.\u001b[49m\u001b[43mget\u001b[49m\u001b[43m(\u001b[49m\u001b[33;43m'\u001b[39;49m\u001b[33;43mlambda_recon\u001b[39;49m\u001b[33;43m'\u001b[39;49m\u001b[43m,\u001b[49m\u001b[43m \u001b[49m\u001b[32;43m1.0\u001b[39;49m\u001b[43m)\u001b[49m\u001b[43m,\u001b[49m\u001b[43m  \u001b[49m\u001b[38;5;66;43;03m# optional\u001b[39;49;00m\n\u001b[32m    165\u001b[39m \u001b[43m    \u001b[49m\u001b[43mlambda_Worth\u001b[49m\u001b[43m \u001b[49m\u001b[43m=\u001b[49m\u001b[43m \u001b[49m\u001b[43mconfig\u001b[49m\u001b[43m.\u001b[49m\u001b[43mget\u001b[49m\u001b[43m(\u001b[49m\u001b[33;43m'\u001b[39;49m\u001b[33;43mlambda_Worth\u001b[39;49m\u001b[33;43m'\u001b[39;49m\u001b[43m,\u001b[49m\u001b[43m \u001b[49m\u001b[32;43m0.25\u001b[39;49m\u001b[43m)\u001b[49m\u001b[43m,\u001b[49m\n\u001b[32m    166\u001b[39m \u001b[43m    \u001b[49m\u001b[43mgrad_clip\u001b[49m\u001b[43m   \u001b[49m\u001b[43m=\u001b[49m\u001b[43m \u001b[49m\u001b[43mconfig\u001b[49m\u001b[43m[\u001b[49m\u001b[33;43m'\u001b[39;49m\u001b[33;43mgrad_clip\u001b[39;49m\u001b[33;43m'\u001b[39;49m\u001b[43m]\u001b[49m\u001b[43m,\u001b[49m\n\u001b[32m    167\u001b[39m \u001b[43m    \u001b[49m\u001b[43mgrad_accum_steps\u001b[49m\u001b[43m \u001b[49m\u001b[43m=\u001b[49m\u001b[43m \u001b[49m\u001b[43mconfig\u001b[49m\u001b[43m[\u001b[49m\u001b[33;43m\"\u001b[39;49m\u001b[33;43mtraining\u001b[39;49m\u001b[33;43m\"\u001b[39;49m\u001b[43m]\u001b[49m\u001b[43m.\u001b[49m\u001b[43mget\u001b[49m\u001b[43m(\u001b[49m\u001b[33;43m'\u001b[39;49m\u001b[33;43mgrad_accum_steps\u001b[39;49m\u001b[33;43m'\u001b[39;49m\u001b[43m,\u001b[49m\u001b[43m \u001b[49m\u001b[32;43m4\u001b[39;49m\u001b[43m)\u001b[49m\u001b[43m,\u001b[49m\n\u001b[32m    168\u001b[39m \u001b[43m    \u001b[49m\u001b[43mlog_every\u001b[49m\u001b[43m   \u001b[49m\u001b[43m=\u001b[49m\u001b[43m \u001b[49m\u001b[32;43m50\u001b[39;49m\u001b[43m,\u001b[49m\n\u001b[32m    169\u001b[39m \u001b[43m    \u001b[49m\u001b[43minfo\u001b[49m\u001b[43m        \u001b[49m\u001b[43m=\u001b[49m\u001b[43m \u001b[49m\u001b[43mlogger\u001b[49m\u001b[43m.\u001b[49m\u001b[43minfo\u001b[49m\u001b[43m,\u001b[49m\n\u001b[32m    170\u001b[39m \u001b[43m    \u001b[49m\u001b[43mlayer_str\u001b[49m\u001b[43m=\u001b[49m\u001b[43m \u001b[49m\u001b[33;43mf\u001b[39;49m\u001b[33;43m\"\u001b[39;49m\u001b[38;5;132;43;01m{\u001b[39;49;00m\u001b[43mlayer\u001b[49m\u001b[38;5;132;43;01m}\u001b[39;49;00m\u001b[33;43m\"\u001b[39;49m\u001b[43m,\u001b[49m\n\u001b[32m    171\u001b[39m \u001b[43m\u001b[49m\u001b[43m)\u001b[49m\n\u001b[32m    173\u001b[39m \u001b[38;5;66;03m# ——— checkpoint (rank-0 only) ———\u001b[39;00m\n\u001b[32m    174\u001b[39m \u001b[38;5;28;01mif\u001b[39;00m local_rank == \u001b[32m0\u001b[39m:\n\u001b[32m    175\u001b[39m     \u001b[38;5;66;03m# ts = time.strftime(\"%Y%m%d_%H%M%S\")\u001b[39;00m\n\u001b[32m    176\u001b[39m     \u001b[38;5;66;03m# run_id = str(uuid.uuid4())\u001b[39;00m\n",
      "\u001b[36mFile \u001b[39m\u001b[32m~/framingdecomp/framingDecomp/train_test/decomposer_training.py:125\u001b[39m, in \u001b[36mtrain_decomposer\u001b[39m\u001b[34m(encoder, decomposer, dataloader, optimizer, adv_clf, adv_opt, lambda_adv, device, epochs, lambda_g, lambda_f, lambda_repulse, lambda_orth, lambda_recon, lambda_Worth, use_negative_queue, grad_clip, grad_accum_steps, layer_norm, scheduler, log_every, info, layer_str)\u001b[39m\n\u001b[32m    122\u001b[39m     random.shuffle(dataloader.dataset.all_pairs)\n\u001b[32m    124\u001b[39m pbar = tqdm(dataloader, desc=\u001b[33mf\u001b[39m\u001b[33m\"\u001b[39m\u001b[33mepoch \u001b[39m\u001b[38;5;132;01m{\u001b[39;00mepoch\u001b[38;5;132;01m}\u001b[39;00m\u001b[33m, layer \u001b[39m\u001b[38;5;132;01m{\u001b[39;00mlayer_str\u001b[38;5;132;01m}\u001b[39;00m\u001b[33m\"\u001b[39m, leave=\u001b[38;5;28;01mFalse\u001b[39;00m)\n\u001b[32m--> \u001b[39m\u001b[32m125\u001b[39m \u001b[43m\u001b[49m\u001b[38;5;28;43;01mfor\u001b[39;49;00m\u001b[43m \u001b[49m\u001b[43mbatch_idx\u001b[49m\u001b[43m,\u001b[49m\u001b[43m \u001b[49m\u001b[43mbatch\u001b[49m\u001b[43m \u001b[49m\u001b[38;5;129;43;01min\u001b[39;49;00m\u001b[43m \u001b[49m\u001b[38;5;28;43menumerate\u001b[39;49m\u001b[43m(\u001b[49m\u001b[43mpbar\u001b[49m\u001b[43m)\u001b[49m\u001b[43m:\u001b[49m\n\u001b[32m    126\u001b[39m \u001b[43m    \u001b[49m\u001b[43mglobal_step\u001b[49m\u001b[43m \u001b[49m\u001b[43m+\u001b[49m\u001b[43m=\u001b[49m\u001b[43m \u001b[49m\u001b[32;43m1\u001b[39;49m\n\u001b[32m    128\u001b[39m \u001b[43m    \u001b[49m\u001b[38;5;66;43;03m# Support either a pure text batch or (text, goal_id, …)\u001b[39;49;00m\n",
      "\u001b[36mFile \u001b[39m\u001b[32m~/jupyter-env/lib/python3.11/site-packages/tqdm/std.py:1181\u001b[39m, in \u001b[36mtqdm.__iter__\u001b[39m\u001b[34m(self)\u001b[39m\n\u001b[32m   1178\u001b[39m time = \u001b[38;5;28mself\u001b[39m._time\n\u001b[32m   1180\u001b[39m \u001b[38;5;28;01mtry\u001b[39;00m:\n\u001b[32m-> \u001b[39m\u001b[32m1181\u001b[39m \u001b[43m    \u001b[49m\u001b[38;5;28;43;01mfor\u001b[39;49;00m\u001b[43m \u001b[49m\u001b[43mobj\u001b[49m\u001b[43m \u001b[49m\u001b[38;5;129;43;01min\u001b[39;49;00m\u001b[43m \u001b[49m\u001b[43miterable\u001b[49m\u001b[43m:\u001b[49m\n\u001b[32m   1182\u001b[39m \u001b[43m        \u001b[49m\u001b[38;5;28;43;01myield\u001b[39;49;00m\u001b[43m \u001b[49m\u001b[43mobj\u001b[49m\n\u001b[32m   1183\u001b[39m \u001b[43m        \u001b[49m\u001b[38;5;66;43;03m# Update and possibly print the progressbar.\u001b[39;49;00m\n\u001b[32m   1184\u001b[39m \u001b[43m        \u001b[49m\u001b[38;5;66;43;03m# Note: does not call self.update(1) for speed optimisation.\u001b[39;49;00m\n",
      "\u001b[36mFile \u001b[39m\u001b[32m~/jupyter-env/lib/python3.11/site-packages/torch/utils/data/dataloader.py:493\u001b[39m, in \u001b[36mDataLoader.__iter__\u001b[39m\u001b[34m(self)\u001b[39m\n\u001b[32m    491\u001b[39m     \u001b[38;5;28;01mreturn\u001b[39;00m \u001b[38;5;28mself\u001b[39m._iterator\n\u001b[32m    492\u001b[39m \u001b[38;5;28;01melse\u001b[39;00m:\n\u001b[32m--> \u001b[39m\u001b[32m493\u001b[39m     \u001b[38;5;28;01mreturn\u001b[39;00m \u001b[38;5;28;43mself\u001b[39;49m\u001b[43m.\u001b[49m\u001b[43m_get_iterator\u001b[49m\u001b[43m(\u001b[49m\u001b[43m)\u001b[49m\n",
      "\u001b[36mFile \u001b[39m\u001b[32m~/jupyter-env/lib/python3.11/site-packages/torch/utils/data/dataloader.py:424\u001b[39m, in \u001b[36mDataLoader._get_iterator\u001b[39m\u001b[34m(self)\u001b[39m\n\u001b[32m    422\u001b[39m \u001b[38;5;28;01melse\u001b[39;00m:\n\u001b[32m    423\u001b[39m     \u001b[38;5;28mself\u001b[39m.check_worker_number_rationality()\n\u001b[32m--> \u001b[39m\u001b[32m424\u001b[39m     \u001b[38;5;28;01mreturn\u001b[39;00m \u001b[43m_MultiProcessingDataLoaderIter\u001b[49m\u001b[43m(\u001b[49m\u001b[38;5;28;43mself\u001b[39;49m\u001b[43m)\u001b[49m\n",
      "\u001b[36mFile \u001b[39m\u001b[32m~/jupyter-env/lib/python3.11/site-packages/torch/utils/data/dataloader.py:1171\u001b[39m, in \u001b[36m_MultiProcessingDataLoaderIter.__init__\u001b[39m\u001b[34m(self, loader)\u001b[39m\n\u001b[32m   1164\u001b[39m w.daemon = \u001b[38;5;28;01mTrue\u001b[39;00m\n\u001b[32m   1165\u001b[39m \u001b[38;5;66;03m# NB: Process.start() actually take some time as it needs to\u001b[39;00m\n\u001b[32m   1166\u001b[39m \u001b[38;5;66;03m#     start a process and pass the arguments over via a pipe.\u001b[39;00m\n\u001b[32m   1167\u001b[39m \u001b[38;5;66;03m#     Therefore, we only add a worker to self._workers list after\u001b[39;00m\n\u001b[32m   1168\u001b[39m \u001b[38;5;66;03m#     it started, so that we do not call .join() if program dies\u001b[39;00m\n\u001b[32m   1169\u001b[39m \u001b[38;5;66;03m#     before it starts, and __del__ tries to join but will get:\u001b[39;00m\n\u001b[32m   1170\u001b[39m \u001b[38;5;66;03m#     AssertionError: can only join a started process.\u001b[39;00m\n\u001b[32m-> \u001b[39m\u001b[32m1171\u001b[39m \u001b[43mw\u001b[49m\u001b[43m.\u001b[49m\u001b[43mstart\u001b[49m\u001b[43m(\u001b[49m\u001b[43m)\u001b[49m\n\u001b[32m   1172\u001b[39m \u001b[38;5;28mself\u001b[39m._index_queues.append(index_queue)\n\u001b[32m   1173\u001b[39m \u001b[38;5;28mself\u001b[39m._workers.append(w)\n",
      "\u001b[36mFile \u001b[39m\u001b[32m~/python311/lib/python3.11/multiprocessing/process.py:121\u001b[39m, in \u001b[36mBaseProcess.start\u001b[39m\u001b[34m(self)\u001b[39m\n\u001b[32m    118\u001b[39m \u001b[38;5;28;01massert\u001b[39;00m \u001b[38;5;129;01mnot\u001b[39;00m _current_process._config.get(\u001b[33m'\u001b[39m\u001b[33mdaemon\u001b[39m\u001b[33m'\u001b[39m), \\\n\u001b[32m    119\u001b[39m        \u001b[33m'\u001b[39m\u001b[33mdaemonic processes are not allowed to have children\u001b[39m\u001b[33m'\u001b[39m\n\u001b[32m    120\u001b[39m _cleanup()\n\u001b[32m--> \u001b[39m\u001b[32m121\u001b[39m \u001b[38;5;28mself\u001b[39m._popen = \u001b[38;5;28;43mself\u001b[39;49m\u001b[43m.\u001b[49m\u001b[43m_Popen\u001b[49m\u001b[43m(\u001b[49m\u001b[38;5;28;43mself\u001b[39;49m\u001b[43m)\u001b[49m\n\u001b[32m    122\u001b[39m \u001b[38;5;28mself\u001b[39m._sentinel = \u001b[38;5;28mself\u001b[39m._popen.sentinel\n\u001b[32m    123\u001b[39m \u001b[38;5;66;03m# Avoid a refcycle if the target function holds an indirect\u001b[39;00m\n\u001b[32m    124\u001b[39m \u001b[38;5;66;03m# reference to the process object (see bpo-30775)\u001b[39;00m\n",
      "\u001b[36mFile \u001b[39m\u001b[32m~/python311/lib/python3.11/multiprocessing/context.py:224\u001b[39m, in \u001b[36mProcess._Popen\u001b[39m\u001b[34m(process_obj)\u001b[39m\n\u001b[32m    222\u001b[39m \u001b[38;5;129m@staticmethod\u001b[39m\n\u001b[32m    223\u001b[39m \u001b[38;5;28;01mdef\u001b[39;00m\u001b[38;5;250m \u001b[39m\u001b[34m_Popen\u001b[39m(process_obj):\n\u001b[32m--> \u001b[39m\u001b[32m224\u001b[39m     \u001b[38;5;28;01mreturn\u001b[39;00m \u001b[43m_default_context\u001b[49m\u001b[43m.\u001b[49m\u001b[43mget_context\u001b[49m\u001b[43m(\u001b[49m\u001b[43m)\u001b[49m\u001b[43m.\u001b[49m\u001b[43mProcess\u001b[49m\u001b[43m.\u001b[49m\u001b[43m_Popen\u001b[49m\u001b[43m(\u001b[49m\u001b[43mprocess_obj\u001b[49m\u001b[43m)\u001b[49m\n",
      "\u001b[36mFile \u001b[39m\u001b[32m~/python311/lib/python3.11/multiprocessing/context.py:288\u001b[39m, in \u001b[36mSpawnProcess._Popen\u001b[39m\u001b[34m(process_obj)\u001b[39m\n\u001b[32m    285\u001b[39m \u001b[38;5;129m@staticmethod\u001b[39m\n\u001b[32m    286\u001b[39m \u001b[38;5;28;01mdef\u001b[39;00m\u001b[38;5;250m \u001b[39m\u001b[34m_Popen\u001b[39m(process_obj):\n\u001b[32m    287\u001b[39m     \u001b[38;5;28;01mfrom\u001b[39;00m\u001b[38;5;250m \u001b[39m\u001b[34;01m.\u001b[39;00m\u001b[34;01mpopen_spawn_posix\u001b[39;00m\u001b[38;5;250m \u001b[39m\u001b[38;5;28;01mimport\u001b[39;00m Popen\n\u001b[32m--> \u001b[39m\u001b[32m288\u001b[39m     \u001b[38;5;28;01mreturn\u001b[39;00m \u001b[43mPopen\u001b[49m\u001b[43m(\u001b[49m\u001b[43mprocess_obj\u001b[49m\u001b[43m)\u001b[49m\n",
      "\u001b[36mFile \u001b[39m\u001b[32m~/python311/lib/python3.11/multiprocessing/popen_spawn_posix.py:32\u001b[39m, in \u001b[36mPopen.__init__\u001b[39m\u001b[34m(self, process_obj)\u001b[39m\n\u001b[32m     30\u001b[39m \u001b[38;5;28;01mdef\u001b[39;00m\u001b[38;5;250m \u001b[39m\u001b[34m__init__\u001b[39m(\u001b[38;5;28mself\u001b[39m, process_obj):\n\u001b[32m     31\u001b[39m     \u001b[38;5;28mself\u001b[39m._fds = []\n\u001b[32m---> \u001b[39m\u001b[32m32\u001b[39m     \u001b[38;5;28;43msuper\u001b[39;49m\u001b[43m(\u001b[49m\u001b[43m)\u001b[49m\u001b[43m.\u001b[49m\u001b[34;43m__init__\u001b[39;49m\u001b[43m(\u001b[49m\u001b[43mprocess_obj\u001b[49m\u001b[43m)\u001b[49m\n",
      "\u001b[36mFile \u001b[39m\u001b[32m~/python311/lib/python3.11/multiprocessing/popen_fork.py:19\u001b[39m, in \u001b[36mPopen.__init__\u001b[39m\u001b[34m(self, process_obj)\u001b[39m\n\u001b[32m     17\u001b[39m \u001b[38;5;28mself\u001b[39m.returncode = \u001b[38;5;28;01mNone\u001b[39;00m\n\u001b[32m     18\u001b[39m \u001b[38;5;28mself\u001b[39m.finalizer = \u001b[38;5;28;01mNone\u001b[39;00m\n\u001b[32m---> \u001b[39m\u001b[32m19\u001b[39m \u001b[38;5;28;43mself\u001b[39;49m\u001b[43m.\u001b[49m\u001b[43m_launch\u001b[49m\u001b[43m(\u001b[49m\u001b[43mprocess_obj\u001b[49m\u001b[43m)\u001b[49m\n",
      "\u001b[36mFile \u001b[39m\u001b[32m~/python311/lib/python3.11/multiprocessing/popen_spawn_posix.py:62\u001b[39m, in \u001b[36mPopen._launch\u001b[39m\u001b[34m(self, process_obj)\u001b[39m\n\u001b[32m     60\u001b[39m     \u001b[38;5;28mself\u001b[39m.sentinel = parent_r\n\u001b[32m     61\u001b[39m     \u001b[38;5;28;01mwith\u001b[39;00m \u001b[38;5;28mopen\u001b[39m(parent_w, \u001b[33m'\u001b[39m\u001b[33mwb\u001b[39m\u001b[33m'\u001b[39m, closefd=\u001b[38;5;28;01mFalse\u001b[39;00m) \u001b[38;5;28;01mas\u001b[39;00m f:\n\u001b[32m---> \u001b[39m\u001b[32m62\u001b[39m         \u001b[43mf\u001b[49m\u001b[43m.\u001b[49m\u001b[43mwrite\u001b[49m\u001b[43m(\u001b[49m\u001b[43mfp\u001b[49m\u001b[43m.\u001b[49m\u001b[43mgetbuffer\u001b[49m\u001b[43m(\u001b[49m\u001b[43m)\u001b[49m\u001b[43m)\u001b[49m\n\u001b[32m     63\u001b[39m \u001b[38;5;28;01mfinally\u001b[39;00m:\n\u001b[32m     64\u001b[39m     fds_to_close = []\n",
      "\u001b[31mKeyboardInterrupt\u001b[39m: "
     ]
    }
   ],
   "source": [
    "# ——— launch ———\n",
    "# from random import randint\n",
    "# os.environ[\"MASTER_PORT\"] = str(15000 + randint(0, 10000))\n",
    "\n",
    "# num_proc = torch.cuda.device_count() if USE_MULTIGPU else 1\n",
    "\n",
    "global run_id, ts\n",
    "ts = time.strftime(\"%Y%m%d_%H%M%S\")\n",
    "run_id = str(uuid.uuid4())\n",
    "num_proc=1\n",
    "notebook_launcher(train_worker, num_processes=num_proc)"
   ]
  },
  {
   "cell_type": "code",
   "execution_count": null,
   "metadata": {},
   "outputs": [
    {
     "data": {
      "text/plain": [
       "<Logger train_decomposer (INFO)>"
      ]
     },
     "execution_count": 8,
     "metadata": {},
     "output_type": "execute_result"
    }
   ],
   "source": [
    "logger"
   ]
  },
  {
   "cell_type": "markdown",
   "metadata": {},
   "source": []
  }
 ],
 "metadata": {
  "kernelspec": {
   "display_name": "My Venv",
   "language": "python",
   "name": "mykernel"
  },
  "language_info": {
   "codemirror_mode": {
    "name": "ipython",
    "version": 3
   },
   "file_extension": ".py",
   "mimetype": "text/x-python",
   "name": "python",
   "nbconvert_exporter": "python",
   "pygments_lexer": "ipython3",
   "version": "3.11.9"
  }
 },
 "nbformat": 4,
 "nbformat_minor": 4
}
