{
 "cells": [
  {
   "cell_type": "markdown",
   "metadata": {},
   "source": [
    "## Session Setup"
   ]
  },
  {
   "cell_type": "code",
   "execution_count": 1,
   "metadata": {},
   "outputs": [
    {
     "name": "stdout",
     "output_type": "stream",
     "text": [
      "Devices visible: 4,5\n",
      "torch.cuda.device_count(): 0\n"
     ]
    },
    {
     "name": "stderr",
     "output_type": "stream",
     "text": [
      "/mnt/home/amir/jupyter-env/lib/python3.11/site-packages/torch/cuda/__init__.py:789: UserWarning: Can't initialize NVML\n",
      "  warnings.warn(\"Can't initialize NVML\")\n"
     ]
    }
   ],
   "source": [
    "# Check to make sure there are multiple gpus available\n",
    "import torch, os\n",
    "!export CUDA_LAUNCH_BLOCKING=1\n",
    "\n",
    "import gc, torch, os\n",
    "torch.cuda.empty_cache()\n",
    "gc.collect()\n",
    "\n",
    "os.environ[\"CUDA_LAUNCH_BLOCKING\"] = \"1\"\n",
    "os.environ[\"CUDA_VISIBLE_DEVICES\"] = \"4,5\"\n",
    "os.chdir(\"/mnt/home/amir/framingdecomp/framingDecomp\")\n",
    "\n",
    "print(\"Devices visible:\", os.environ.get(\"CUDA_VISIBLE_DEVICES\"))\n",
    "print(\"torch.cuda.device_count():\", torch.cuda.device_count())\n"
   ]
  },
  {
   "cell_type": "code",
   "execution_count": 3,
   "metadata": {},
   "outputs": [
    {
     "name": "stdout",
     "output_type": "stream",
     "text": [
      "2025-07-29 23:49:40,990 — INFO — Log file created at logs/decomposer_20250729_234940.log\n",
      "2025-07-29 23:49:40,994 — INFO — Config loaded and seeds set.\n"
     ]
    }
   ],
   "source": [
    "# ==== Cell: [Session setup] ====\n",
    "\n",
    "import os, sys, logging, random, yaml, time, uuid, json\n",
    "from pathlib import Path\n",
    "\n",
    "import torch\n",
    "import numpy as np\n",
    "\n",
    "# ——— switches you may tune ——————————————————————————\n",
    "USE_MULTIGPU     = True          # False → single-GPU\n",
    "# VISIBLE_DEVICES  = \"0,1,2,3\"\n",
    "# CFG_PATH         = \"configs/decomposer3.yaml\"\n",
    "CFG_PATH         = \"configs/decomposer_main.yaml\"\n",
    "# ————————————————————————————————————————————————\n",
    "\n",
    "\n",
    "# device = \"cuda\" if torch.cuda.is_available() else \"cpu\"\n",
    "# print(f\"Device: {device}, GPUs: {torch.cuda.device_count()}\")\n",
    "\n",
    "# ---------- logging ----------\n",
    "Path(\"logs\").mkdir(exist_ok=True)\n",
    "ts = time.strftime(\"%Y%m%d_%H%M%S\")\n",
    "log_path = Path(f\"logs/decomposer_{ts}.log\")\n",
    "\n",
    "# root logger -> both console and file\n",
    "logging.basicConfig(\n",
    "    level=logging.INFO,\n",
    "    format=\"%(asctime)s — %(levelname)s — %(message)s\",\n",
    "    handlers=[\n",
    "        logging.StreamHandler(sys.stdout),\n",
    "        logging.FileHandler(log_path, mode=\"w\")\n",
    "    ]\n",
    ")\n",
    "logger = logging.getLogger(\"train_decomposer\")\n",
    "logger.info(\"Log file created at %s\", log_path)\n",
    "\n",
    "\n",
    "# --- config, seeds, logging -----------------------------------\n",
    "with open(CFG_PATH, \"r\") as f:\n",
    "    config = yaml.safe_load(f)\n",
    "\n",
    "seed = config[\"experiment\"][\"seed\"]\n",
    "torch.manual_seed(seed)\n",
    "np.random.seed(seed)\n",
    "random.seed(seed)\n",
    "\n",
    "logger.info(\"Config loaded and seeds set.\")"
   ]
  },
  {
   "cell_type": "markdown",
   "metadata": {},
   "source": [
    "## Data Loading and Preprocessing"
   ]
  },
  {
   "cell_type": "code",
   "execution_count": 3,
   "metadata": {},
   "outputs": [
    {
     "name": "stdout",
     "output_type": "stream",
     "text": [
      "2025-07-21 20:48:58,730 — INFO — Total processed samples: 5286\n"
     ]
    }
   ],
   "source": [
    "# ==== Cell: [Data loading & preprocessing] ====\n",
    "\n",
    "import json\n",
    "from typing import List, Dict\n",
    "\n",
    "def load_jsonl(path: str) -> List[Dict]:\n",
    "    with open(path, \"r\") as f:\n",
    "        return [json.loads(l) for l in f if l.strip() and not l.strip().startswith(\"#\")]\n",
    "\n",
    "data_cfg = config[\"data\"]\n",
    "\n",
    "raw_F_harm  = load_jsonl(data_cfg[\"input_path_varyFraming\"])\n",
    "raw_G_harm  = load_jsonl(data_cfg[\"input_path_varyGoal\"])\n",
    "raw_F_ben   = load_jsonl(data_cfg[\"input_path_varyFraming_benign\"])\n",
    "raw_G_ben   = load_jsonl(data_cfg[\"input_path_varyGoal_benign\"])\n",
    "\n",
    "for e in raw_F_harm + raw_F_ben: e[\"split\"] = \"varyF\"\n",
    "for e in raw_G_harm + raw_G_ben: e[\"split\"] = \"varyG\"\n",
    "\n",
    "def _preprocess(entries: List[Dict], max_f_idx: int):\n",
    "    processed = []\n",
    "    for ent in entries:\n",
    "        req = [\"prompt\",\"goal\",\"goal_index\",\"framing_index\",\"split\"]\n",
    "        if not all(k in ent for k in req): \n",
    "            continue\n",
    "        g, f = ent[\"goal_index\"], ent[\"framing_index\"]\n",
    "        if ent[\"split\"] == \"varyF\":                 # re-index framings\n",
    "            f = g if f == 0 else max_f_idx + 1\n",
    "            max_f_idx = max(max_f_idx, f)\n",
    "        processed.append({\n",
    "            \"text\":  ent[\"prompt\"],\n",
    "            \"goal\":  ent[\"goal\"],\n",
    "            \"goal_index\": g,\n",
    "            \"framing_index\": f,\n",
    "            \"label\": ent.get(\"jailbroken\", False),\n",
    "            \"split\": ent[\"split\"],\n",
    "        })\n",
    "    return processed, max_f_idx\n",
    "\n",
    "max_idx = max(e[\"framing_index\"]\n",
    "              for e in raw_F_harm + raw_G_harm + raw_F_ben + raw_G_ben)\n",
    "\n",
    "P_F_harm, max_idx = _preprocess(raw_F_harm, max_idx)\n",
    "P_G_harm, max_idx = _preprocess(raw_G_harm, max_idx)\n",
    "P_F_ben , max_idx = _preprocess(raw_F_ben , max_idx)\n",
    "P_G_ben , max_idx = _preprocess(raw_G_ben , max_idx)\n",
    "\n",
    "all_samples = P_F_harm + P_G_harm + P_F_ben + P_G_ben\n",
    "n_total = len(all_samples)\n",
    "n_sample = int(n_total * config.get('sample_prop', 1.))\n",
    "n_sample = max(n_sample, 500)\n",
    "if n_sample < n_total:\n",
    "    logger.info(\"Sampling %d out of %d total samples\", n_sample, n_total)\n",
    "    all_samples = random.sample(all_samples, n_sample)\n",
    "logger.info(\"Total processed samples: %d\", len(all_samples))"
   ]
  },
  {
   "cell_type": "markdown",
   "metadata": {},
   "source": [
    "## Dataloader"
   ]
  },
  {
   "cell_type": "code",
   "execution_count": 4,
   "metadata": {},
   "outputs": [
    {
     "name": "stdout",
     "output_type": "stream",
     "text": [
      "2025-07-21 20:48:58,761 — INFO — Goal pairs: 86824   Frame pairs: 89419   Total pairs: 176243\n"
     ]
    }
   ],
   "source": [
    "# ==== Cell: [Dataset & dataloader] ====\n",
    "\n",
    "from collections import defaultdict\n",
    "from typing import Tuple\n",
    "from torch.utils.data import Dataset, DataLoader\n",
    "\n",
    "class DualPairDataset(Dataset):\n",
    "    \"\"\"\n",
    "    Returns (sample_a, sample_b, pair_type)\n",
    "      pair_type = 0 → same-goal / diff-frame  (from varyF)\n",
    "      pair_type = 1 → same-frame / diff-goal  (from varyG)\n",
    "    \"\"\"\n",
    "    def __init__(self, samples, stratified_capping=True):\n",
    "        self.samples = samples\n",
    "        self.goal_pairs, self.frame_pairs = [], []\n",
    "\n",
    "        by_goal_F  = defaultdict(list)\n",
    "        by_frame_G = defaultdict(list)\n",
    "\n",
    "        for idx, s in enumerate(samples):\n",
    "            if s[\"split\"] == \"varyF\":  by_goal_F [s[\"goal_index\"]   ].append(idx)\n",
    "            else:                      by_frame_G[s[\"framing_index\"]].append(idx)\n",
    "\n",
    "        for lst in by_goal_F.values():\n",
    "            self.goal_pairs  += [(a,b,0) for a in lst for b in lst if a<b]\n",
    "        for lst in by_frame_G.values():\n",
    "            self.frame_pairs += [(a,b,1) for a in lst for b in lst if a<b]\n",
    "\n",
    "        # --- stratified capping ---------------------------------\n",
    "        # this improved the performance a bit\n",
    "        if stratified_capping:\n",
    "            cap = int(np.median([len(v) for v in by_goal_F.values()]))\n",
    "            for g, lst in by_goal_F.items():\n",
    "                if len(lst) > cap:               # down-sample heavy goals\n",
    "                    by_goal_F[g] = random.sample(lst, cap)\n",
    "        # --------------------------------------------------------------\n",
    "\n",
    "        self.all_pairs = self.goal_pairs + self.frame_pairs\n",
    "\n",
    "    def __len__(self): return len(self.all_pairs)\n",
    "    def __getitem__(self, k): return self.all_pairs[k]\n",
    "\n",
    "def collate_dual(batch) -> Tuple[list,str,str,torch.Tensor]:\n",
    "    \"\"\"\n",
    "    batch → (texts, goal_ids, frame_ids, pair_types)\n",
    "    \"\"\"\n",
    "    texts, gid, fid, ptype = [], [], [], []\n",
    "    for a,b,t in batch:\n",
    "        sa, sb = all_samples[a], all_samples[b]\n",
    "        texts.extend([sa[\"text\"], sb[\"text\"]])\n",
    "        gid.extend([sa[\"goal_cid\"], sb[\"goal_cid\"]])\n",
    "        fid.extend([sa[\"framing_index\"], sb[\"framing_index\"]])\n",
    "        ptype.append(t)\n",
    "    return (texts,\n",
    "            torch.tensor(gid),\n",
    "            torch.tensor(fid),\n",
    "            torch.tensor(ptype))\n",
    "\n",
    "# contiguous goal ids\n",
    "unique_goals = sorted({s[\"goal_index\"] for s in all_samples})\n",
    "goal2cid     = {g:i for i,g in enumerate(unique_goals)}\n",
    "for s in all_samples: s[\"goal_cid\"] = goal2cid[s[\"goal_index\"]]\n",
    "\n",
    "train_ds = DualPairDataset(all_samples)\n",
    "logger.info(\"Goal pairs: %d   Frame pairs: %d   Total pairs: %d\",\n",
    "            len(train_ds.goal_pairs),\n",
    "            len(train_ds.frame_pairs),\n",
    "            len(train_ds))"
   ]
  },
  {
   "cell_type": "markdown",
   "metadata": {},
   "source": [
    "## Training and Launcher"
   ]
  },
  {
   "cell_type": "code",
   "execution_count": 5,
   "metadata": {},
   "outputs": [],
   "source": [
    "# ==== Cell: [Training worker & launch] ====\n",
    "\n",
    "from accelerate import notebook_launcher\n",
    "import torch.multiprocessing as mp\n",
    "mp.set_start_method(\"spawn\", force=True)\n",
    "from utils.misc import seed_worker, set_seed\n",
    "\n",
    "\n",
    "MODEL_JOB_PREFIXES = {\n",
    "    \"meta-llama/Llama-3-8B-Instruct\": \"ll3\",\n",
    "    \"meta-llama/Llama-2-7b-chat-hf\": \"ll2\", \n",
    "    \"lmsys/vicuna-13b-v1.5\": \"vic13\",\n",
    "    \"lmsys/vicuna-7b-v1.5\": \"vic7\",\n",
    "    \"mistralai/Mistral-7B-v0.1\": \"mis\",\n",
    "    \"deepseek-ai/deepseek-llm-7b-chat\": \"dsk\",\n",
    "    \"gpt2-medium\": \"gpt2\",\n",
    "    \"google/gemma-2-9b\": \"gem9\",\n",
    "    \"google/gemma-2-2b\": \"gem2\"\n",
    "}\n",
    "\n",
    "ts = None\n",
    "run_id = None\n",
    "global run_id, ts, MODEL_JOB_PREFIXES\n",
    "\n",
    "def train_worker():\n",
    "    import gc, yaml, torch, torch.distributed as dist\n",
    "    from torch.optim import AdamW\n",
    "    from torch.optim.lr_scheduler import CosineAnnealingLR\n",
    "    from torch.nn.parallel import DistributedDataParallel as DDP\n",
    "    from train_test.decomposer_training import train_decomposer\n",
    "    from utils.model_utils import load_model_multiGPU\n",
    "    from models.encoder import HFEncoder_notPooled\n",
    "    from models.decomposer import NonlinearDecomposer, NonlinearDecomposer_tiny\n",
    "\n",
    "    gc.collect(); torch.cuda.empty_cache()\n",
    "\n",
    "    local_rank = int(os.environ[\"LOCAL_RANK\"])\n",
    "    world_size = int(os.environ.get(\"WORLD_SIZE\", \"1\"))\n",
    "    distributed = world_size > 1\n",
    "\n",
    "    if distributed:\n",
    "        dist.init_process_group(\n",
    "            backend=\"nccl\", init_method=\"env://\",\n",
    "            rank=local_rank, world_size=world_size,\n",
    "        )\n",
    "\n",
    "    torch.cuda.set_device(local_rank)\n",
    "    device = torch.device(\"cuda\", local_rank)\n",
    "\n",
    "    # ——— load LLM once per rank ———\n",
    "    model, tokenizer = load_model_multiGPU(\n",
    "        model_name=config[\"model\"][\"name\"],\n",
    "        local_rank=local_rank,\n",
    "        load_in_8bit=False,\n",
    "        load_in_4bit=False,\n",
    "    )\n",
    "    logger.info(\"Loaded model %s \", config[\"model\"][\"name\"])\n",
    "    \n",
    "    config[\"model\"][\"layers\"] = 'all'\n",
    "    if config[\"model\"][\"layers\"] == 'all':\n",
    "        num_layers = model.config.num_hidden_layers\n",
    "        layers = list(range(num_layers))\n",
    "    else:\n",
    "        layers = config[\"model\"][\"layers\"]\n",
    "        if isinstance(layers, int): layers = [layers]\n",
    "    \n",
    "    # --- Set arguments # TODO: Delete and instead fix the config\n",
    "    config['experiment']['use_sae'] = config['experiment'].get('use_sae', False)  # use Sparse Autoencoder\n",
    "    config['training']['num_epochs'] = 3\n",
    "    init_lambda_orth = config['lambda_orth']\n",
    "    config['lambda_repulse'] = config.get('lambda_repulse', 6.0) \n",
    "    config['lambda_adv'] = config.get('lambda_adv', 2.0)  \n",
    "    config['lambda_sparse'] = config.get('lambda_sparse', None)  \n",
    "    config['lambda_recon'] = config.get('lambda_recon', 1.0)  \n",
    "    config['lambda_Worth'] = config.get('lambda_Worth', 0.05)\n",
    "    config['grad_accum_steps'] = config.get('grad_accum_steps', 8)\n",
    "    config['model']['layers'] = [-1]#layers\n",
    "    config['model']['layer_combine'] = config['model'].get('layer_combine', 'mean')\n",
    "    config['model']['last_token'] = config['model'].get('last_token', False)\n",
    "    config['training']['num_epochs']   = 3\n",
    "    config['training']['batch_size']   = 8\n",
    "    # ---\n",
    "    \n",
    "    for layer in layers:\n",
    "        torch.manual_seed(config['experiment']['seed'])\n",
    "        torch.cuda.manual_seed_all(config['experiment']['seed'])\n",
    "        np.random.seed(config['experiment']['seed'])\n",
    "        random.seed(config['experiment']['seed'])\n",
    "        torch.backends.cudnn.deterministic = True\n",
    "        torch.backends.cudnn.benchmark = False\n",
    "    \n",
    "        logger.info(f\"Training decomposer for layer {layer}\")\n",
    "        encoder = HFEncoder_notPooled(\n",
    "            model=model,\n",
    "            tokenizer=tokenizer,\n",
    "            device=device,\n",
    "            layers=[layer],\n",
    "            layer_combine=config[\"model\"].get(\"layer_combine\", \"mean\"),\n",
    "            last_token=config[\"model\"].get(\"last_token\", True),\n",
    "        )\n",
    "        encoder.eval()\n",
    "\n",
    "        # ——— decomposer ———\n",
    "        enc_dim = model.config.hidden_size\n",
    "        dec = NonlinearDecomposer(\n",
    "            enc_dim=enc_dim,\n",
    "            d_g=config[\"d_g\"],\n",
    "            d_f=config[\"d_f\"],\n",
    "            hidden_dim=config.get(\"hidden_dim\", 1024),\n",
    "            dropout=config.get(\"dropout\", 0.1),\n",
    "        ).to(device)\n",
    "        d_f = dec.Wf(torch.randn(4096).to(device)).shape[0]\n",
    "        dec = DDP(dec, device_ids=[local_rank])\n",
    "\n",
    "        # ——— dataloader ———\n",
    "        from torch.utils.data import DistributedSampler\n",
    "        sampler = DistributedSampler(train_ds, rank=local_rank,\n",
    "                                        num_replicas=world_size, shuffle=True, seed=config['experiment']['seed'])\n",
    "        gen = torch.Generator()\n",
    "        gen.manual_seed(config['experiment']['seed']) \n",
    "        train_loader = DataLoader(\n",
    "            train_ds,\n",
    "            batch_size=config[\"training\"][\"batch_size\"],\n",
    "            sampler=sampler,\n",
    "            collate_fn=collate_dual,\n",
    "            num_workers=8,\n",
    "            pin_memory=True,\n",
    "            shuffle=False,\n",
    "            worker_init_fn=lambda wid: set_seed(config['experiment']['seed'] + wid),#seed_worker,\n",
    "            generator=gen,\n",
    "        )\n",
    "\n",
    "        # ——— optim & sched ———\n",
    "        opt = AdamW(dec.parameters(), lr=config[\"lr\"])\n",
    "        sched = CosineAnnealingLR(opt,\n",
    "                                    T_max=len(train_ds)*config[\"training\"][\"num_epochs\"])\n",
    "\n",
    "        # adversarial classifier\n",
    "        n_goals = len(unique_goals)\n",
    "        adv_clf = torch.nn.Linear(d_f, n_goals).to(device)\n",
    "        adv_clf = DDP(adv_clf, device_ids=[local_rank])\n",
    "        adv_opt = AdamW(adv_clf.parameters(), lr=1e-4)\n",
    "\n",
    "        # ——— train ———\n",
    "        stats = train_decomposer(\n",
    "            encoder     = encoder,\n",
    "            decomposer  = dec,\n",
    "            dataloader  = train_loader,\n",
    "            optimizer   = opt,\n",
    "            adv_clf     = adv_clf,\n",
    "            adv_opt     = adv_opt,\n",
    "            lambda_adv  = config.get('lambda_adv', 2.0),\n",
    "            scheduler   = sched,\n",
    "            device      = device,\n",
    "            epochs      = config['training']['num_epochs'],\n",
    "            lambda_g    = config['lambda_g'],\n",
    "            lambda_f    = config['lambda_f'],\n",
    "            lambda_repulse = config.get('lambda_repulse', 6.0),  # optional\n",
    "            lambda_orth = config['lambda_orth']*10,\n",
    "            lambda_recon = config.get('lambda_recon', 1.0),  # optional\n",
    "            lambda_Worth = config.get('lambda_Worth', 0.25),\n",
    "            grad_clip   = config['grad_clip'],\n",
    "            grad_accum_steps = config[\"training\"].get('grad_accum_steps', 4),\n",
    "            log_every   = 50,\n",
    "            info        = logger.info,\n",
    "            layer_str= f\"{layer}\",\n",
    "        )\n",
    "\n",
    "        # ——— checkpoint (rank-0 only) ———\n",
    "        if local_rank == 0:\n",
    "            # ts = time.strftime(\"%Y%m%d_%H%M%S\")\n",
    "            # run_id = str(uuid.uuid4())\n",
    "            global run_id, ts, MODEL_JOB_PREFIXES\n",
    "            model_short = MODEL_JOB_PREFIXES.get(config[\"model\"][\"name\"], \"unknownModel\")\n",
    "            ckpt_dir = Path(f\"checkpoints/decomposer_simple/{model_short}_decomposer_layer{layer}_{ts}_{run_id}\")\n",
    "            ckpt_dir.mkdir(parents=True, exist_ok=True)\n",
    "            \n",
    "            if layer == 0:\n",
    "                config_filename = f\"./output/config_{model_short}_{ts}_{run_id}.yaml\"\n",
    "                with open(config_filename, \"w\") as f:\n",
    "                    yaml.safe_dump(config, f)\n",
    "\n",
    "            torch.save({k: v.cpu() for k, v in dec.module.state_dict().items()},\n",
    "                        ckpt_dir / \"weights.pt\")\n",
    "            with open(ckpt_dir / \"train_stats.json\", \"w\") as f:\n",
    "                json.dump(stats, f)\n",
    "            logger.info(\"Checkpoint for layer %d saved to %s\", layer, ckpt_dir)\n",
    "\n",
    "    if distributed:\n",
    "        dist.destroy_process_group()\n",
    "\n"
   ]
  },
  {
   "cell_type": "code",
   "execution_count": null,
   "metadata": {},
   "outputs": [
    {
     "name": "stdout",
     "output_type": "stream",
     "text": [
      "Launching training on 2 GPUs.\n"
     ]
    },
    {
     "name": "stderr",
     "output_type": "stream",
     "text": [
      "[W721 20:48:59.545498356 socket.cpp:200] [c10d] The hostname of the client socket cannot be retrieved. err=-3\n",
      "[W721 20:48:59.545846066 socket.cpp:200] [c10d] The hostname of the client socket cannot be retrieved. err=-3\n",
      "[W721 20:49:02.089468330 socket.cpp:200] [c10d] The hostname of the client socket cannot be retrieved. err=-3\n",
      "[W721 20:49:02.089938455 socket.cpp:200] [c10d] The hostname of the client socket cannot be retrieved. err=-3\n",
      "[W721 20:49:02.108150847 socket.cpp:200] [c10d] The hostname of the client socket cannot be retrieved. err=-3\n",
      "[W721 20:49:02.108386983 socket.cpp:200] [c10d] The hostname of the client socket cannot be retrieved. err=-3\n",
      "/mnt/home/amir/jupyter-env/lib/python3.11/site-packages/transformers/models/auto/tokenization_auto.py:902: FutureWarning: The `use_auth_token` argument is deprecated and will be removed in v5 of Transformers. Please use `token` instead.\n",
      "  warnings.warn(\n",
      "/mnt/home/amir/jupyter-env/lib/python3.11/site-packages/transformers/models/auto/tokenization_auto.py:902: FutureWarning: The `use_auth_token` argument is deprecated and will be removed in v5 of Transformers. Please use `token` instead.\n",
      "  warnings.warn(\n",
      "/mnt/home/amir/jupyter-env/lib/python3.11/site-packages/transformers/models/auto/auto_factory.py:476: FutureWarning: The `use_auth_token` argument is deprecated and will be removed in v5 of Transformers. Please use `token` instead.\n",
      "  warnings.warn(\n",
      "/mnt/home/amir/jupyter-env/lib/python3.11/site-packages/transformers/models/auto/auto_factory.py:476: FutureWarning: The `use_auth_token` argument is deprecated and will be removed in v5 of Transformers. Please use `token` instead.\n",
      "  warnings.warn(\n"
     ]
    },
    {
     "data": {
      "application/vnd.jupyter.widget-view+json": {
       "model_id": "56b1dde3336e41b28fd3e32608e456fc",
       "version_major": 2,
       "version_minor": 0
      },
      "text/plain": [
       "Loading checkpoint shards:   0%|          | 0/2 [00:00<?, ?it/s]"
      ]
     },
     "metadata": {},
     "output_type": "display_data"
    },
    {
     "data": {
      "application/vnd.jupyter.widget-view+json": {
       "model_id": "54551fcb16e341a8b03f8ae2591874a7",
       "version_major": 2,
       "version_minor": 0
      },
      "text/plain": [
       "Loading checkpoint shards:   0%|          | 0/2 [00:00<?, ?it/s]"
      ]
     },
     "metadata": {},
     "output_type": "display_data"
    },
    {
     "name": "stderr",
     "output_type": "stream",
     "text": [
      "The following generation flags are not valid and may be ignored: ['temperature', 'top_p']. Set `TRANSFORMERS_VERBOSITY=info` for more details.\n",
      "The following generation flags are not valid and may be ignored: ['temperature', 'top_p']. Set `TRANSFORMERS_VERBOSITY=info` for more details.\n",
      "The following generation flags are not valid and may be ignored: ['temperature', 'top_p']. Set `TRANSFORMERS_VERBOSITY=info` for more details.\n",
      "The following generation flags are not valid and may be ignored: ['temperature', 'top_p']. Set `TRANSFORMERS_VERBOSITY=info` for more details.\n"
     ]
    },
    {
     "name": "stdout",
     "output_type": "stream",
     "text": [
      "2025-07-21 20:49:10,121 — INFO — Training decomposer for layer 0\n",
      "2025-07-21 20:49:10,172 — INFO — Training decomposer for layer 0\n"
     ]
    },
    {
     "name": "stderr",
     "output_type": "stream",
     "text": [
      "/mnt/home/amir/framingdecomp/framingDecomp/train_test/decomposer_training.py:113: FutureWarning: `torch.cuda.amp.GradScaler(args...)` is deprecated. Please use `torch.amp.GradScaler('cuda', args...)` instead.\n",
      "  scaler = torch.cuda.amp.GradScaler()\n",
      "/mnt/home/amir/framingdecomp/framingDecomp/train_test/decomposer_training.py:113: FutureWarning: `torch.cuda.amp.GradScaler(args...)` is deprecated. Please use `torch.amp.GradScaler('cuda', args...)` instead.\n",
      "  scaler = torch.cuda.amp.GradScaler()\n",
      "epoch 0, layer 0:   0%|                                                                                              | 0/11016 [00:00<?, ?it/s]/mnt/home/amir/framingdecomp/framingDecomp/train_test/decomposer_training.py:141: FutureWarning: `torch.cuda.amp.autocast(args...)` is deprecated. Please use `torch.amp.autocast('cuda', args...)` instead.\n",
      "  with torch.cuda.amp.autocast():\n",
      "/mnt/home/amir/framingdecomp/framingDecomp/train_test/decomposer_training.py:141: FutureWarning: `torch.cuda.amp.autocast(args...)` is deprecated. Please use `torch.amp.autocast('cuda', args...)` instead.\n",
      "  with torch.cuda.amp.autocast():\n",
      "epoch 0, layer 0:   0%|▎                                                                         | 49/11016 [00:08<27:28,  6.65it/s, loss=19.9]"
     ]
    },
    {
     "name": "stdout",
     "output_type": "stream",
     "text": [
      "2025-07-21 20:49:20,892 — INFO — layer 0, [0:49], loss=19.8306\n",
      "2025-07-21 20:49:20,892 — INFO — layer 0, [0:49], loss=19.5798\n"
     ]
    },
    {
     "name": "stderr",
     "output_type": "stream",
     "text": [
      "epoch 0, layer 0:   1%|▋                                                                         | 99/11016 [00:16<26:57,  6.75it/s, loss=18.7]"
     ]
    },
    {
     "name": "stdout",
     "output_type": "stream",
     "text": [
      "2025-07-21 20:49:28,954 — INFO — layer 0, [0:99], loss=18.9565\n",
      "2025-07-21 20:49:28,954 — INFO — layer 0, [0:99], loss=18.3530\n"
     ]
    },
    {
     "name": "stderr",
     "output_type": "stream",
     "text": [
      "epoch 0, layer 0:   1%|▉                                                                        | 149/11016 [00:24<27:47,  6.52it/s, loss=19.4]"
     ]
    },
    {
     "name": "stdout",
     "output_type": "stream",
     "text": [
      "2025-07-21 20:49:36,625 — INFO — layer 0, [0:149], loss=17.3043\n",
      "2025-07-21 20:49:36,625 — INFO — layer 0, [0:149], loss=17.3058\n"
     ]
    },
    {
     "name": "stderr",
     "output_type": "stream",
     "text": [
      "epoch 0, layer 0:   2%|█▎                                                                       | 199/11016 [00:32<28:26,  6.34it/s, loss=17.1]"
     ]
    },
    {
     "name": "stdout",
     "output_type": "stream",
     "text": [
      "2025-07-21 20:49:44,433 — INFO — layer 0, [0:199], loss=16.3521\n",
      "2025-07-21 20:49:44,433 — INFO — layer 0, [0:199], loss=16.1582\n"
     ]
    },
    {
     "name": "stderr",
     "output_type": "stream",
     "text": [
      "epoch 0, layer 0:   2%|█▋                                                                       | 249/11016 [00:40<26:53,  6.67it/s, loss=15.3]"
     ]
    },
    {
     "name": "stdout",
     "output_type": "stream",
     "text": [
      "2025-07-21 20:49:52,064 — INFO — layer 0, [0:249], loss=14.7017\n",
      "2025-07-21 20:49:52,065 — INFO — layer 0, [0:249], loss=14.9454\n"
     ]
    },
    {
     "name": "stderr",
     "output_type": "stream",
     "text": [
      "epoch 0, layer 0:   3%|█▉                                                                       | 299/11016 [00:47<26:06,  6.84it/s, loss=12.1]"
     ]
    },
    {
     "name": "stdout",
     "output_type": "stream",
     "text": [
      "2025-07-21 20:49:59,768 — INFO — layer 0, [0:299], loss=13.3207\n",
      "2025-07-21 20:49:59,768 — INFO — layer 0, [0:299], loss=14.0869\n"
     ]
    },
    {
     "name": "stderr",
     "output_type": "stream",
     "text": [
      "epoch 0, layer 0:   3%|██▎                                                                      | 349/11016 [00:55<27:48,  6.39it/s, loss=13.5]"
     ]
    },
    {
     "name": "stdout",
     "output_type": "stream",
     "text": [
      "2025-07-21 20:50:07,354 — INFO — layer 0, [0:349], loss=11.8931\n",
      "2025-07-21 20:50:07,354 — INFO — layer 0, [0:349], loss=12.9292\n"
     ]
    },
    {
     "name": "stderr",
     "output_type": "stream",
     "text": [
      "epoch 0, layer 0:   4%|██▋                                                                      | 399/11016 [01:02<26:55,  6.57it/s, loss=12.1]"
     ]
    },
    {
     "name": "stdout",
     "output_type": "stream",
     "text": [
      "2025-07-21 20:50:15,029 — INFO — layer 0, [0:399], loss=11.2510\n",
      "2025-07-21 20:50:15,029 — INFO — layer 0, [0:399], loss=10.6345\n"
     ]
    },
    {
     "name": "stderr",
     "output_type": "stream",
     "text": [
      "epoch 0, layer 0:   4%|██▉                                                                      | 449/11016 [01:10<27:37,  6.37it/s, loss=10.3]"
     ]
    },
    {
     "name": "stdout",
     "output_type": "stream",
     "text": [
      "2025-07-21 20:50:22,609 — INFO — layer 0, [0:449], loss=9.1278\n",
      "2025-07-21 20:50:22,609 — INFO — layer 0, [0:449], loss=12.1300\n"
     ]
    },
    {
     "name": "stderr",
     "output_type": "stream",
     "text": [
      "epoch 0, layer 0:   5%|███▎                                                                     | 499/11016 [01:18<25:31,  6.87it/s, loss=8.75]"
     ]
    },
    {
     "name": "stdout",
     "output_type": "stream",
     "text": [
      "2025-07-21 20:50:30,158 — INFO — layer 0, [0:499], loss=6.9560\n",
      "2025-07-21 20:50:30,159 — INFO — layer 0, [0:499], loss=8.7204\n"
     ]
    },
    {
     "name": "stderr",
     "output_type": "stream",
     "text": [
      "epoch 0, layer 0:   5%|███▋                                                                     | 549/11016 [01:25<28:06,  6.21it/s, loss=9.49]"
     ]
    },
    {
     "name": "stdout",
     "output_type": "stream",
     "text": [
      "2025-07-21 20:50:37,727 — INFO — layer 0, [0:549], loss=6.5973\n",
      "2025-07-21 20:50:37,727 — INFO — layer 0, [0:549], loss=9.6946\n"
     ]
    },
    {
     "name": "stderr",
     "output_type": "stream",
     "text": [
      "epoch 0, layer 0:   5%|███▉                                                                     | 599/11016 [01:33<26:10,  6.63it/s, loss=8.22]"
     ]
    },
    {
     "name": "stdout",
     "output_type": "stream",
     "text": [
      "2025-07-21 20:50:45,354 — INFO — layer 0, [0:599], loss=7.7508\n",
      "2025-07-21 20:50:45,354 — INFO — layer 0, [0:599], loss=8.5765\n"
     ]
    },
    {
     "name": "stderr",
     "output_type": "stream",
     "text": [
      "epoch 0, layer 0:   6%|████▎                                                                    | 649/11016 [01:40<25:32,  6.76it/s, loss=6.84]"
     ]
    },
    {
     "name": "stdout",
     "output_type": "stream",
     "text": [
      "2025-07-21 20:50:52,883 — INFO — layer 0, [0:649], loss=5.6427\n",
      "2025-07-21 20:50:52,883 — INFO — layer 0, [0:649], loss=6.1159\n"
     ]
    },
    {
     "name": "stderr",
     "output_type": "stream",
     "text": [
      "epoch 0, layer 0:   6%|████▋                                                                    | 699/11016 [01:48<26:05,  6.59it/s, loss=6.81]"
     ]
    },
    {
     "name": "stdout",
     "output_type": "stream",
     "text": [
      "2025-07-21 20:51:00,497 — INFO — layer 0, [0:699], loss=4.9298\n",
      "2025-07-21 20:51:00,497 — INFO — layer 0, [0:699], loss=3.0619\n"
     ]
    },
    {
     "name": "stderr",
     "output_type": "stream",
     "text": [
      "epoch 0, layer 0:   7%|████▉                                                                    | 749/11016 [01:56<26:25,  6.47it/s, loss=4.99]"
     ]
    },
    {
     "name": "stdout",
     "output_type": "stream",
     "text": [
      "2025-07-21 20:51:08,063 — INFO — layer 0, [0:749], loss=5.5264\n",
      "2025-07-21 20:51:08,063 — INFO — layer 0, [0:749], loss=4.3181\n"
     ]
    },
    {
     "name": "stderr",
     "output_type": "stream",
     "text": [
      "epoch 0, layer 0:   7%|█████▎                                                                   | 799/11016 [02:03<26:41,  6.38it/s, loss=2.96]"
     ]
    },
    {
     "name": "stdout",
     "output_type": "stream",
     "text": [
      "2025-07-21 20:51:15,773 — INFO — layer 0, [0:799], loss=5.1750\n",
      "2025-07-21 20:51:15,774 — INFO — layer 0, [0:799], loss=-0.7314\n"
     ]
    },
    {
     "name": "stderr",
     "output_type": "stream",
     "text": [
      "epoch 0, layer 0:   8%|█████▋                                                                    | 849/11016 [02:11<26:47,  6.32it/s, loss=2.8]"
     ]
    },
    {
     "name": "stdout",
     "output_type": "stream",
     "text": [
      "2025-07-21 20:51:23,265 — INFO — layer 0, [0:849], loss=1.8336\n",
      "2025-07-21 20:51:23,265 — INFO — layer 0, [0:849], loss=-0.7830\n"
     ]
    },
    {
     "name": "stderr",
     "output_type": "stream",
     "text": [
      "epoch 0, layer 0:   8%|█████▉                                                                   | 899/11016 [02:18<24:42,  6.82it/s, loss=9.36]"
     ]
    },
    {
     "name": "stdout",
     "output_type": "stream",
     "text": [
      "2025-07-21 20:51:30,685 — INFO — layer 0, [0:899], loss=-0.8969\n",
      "2025-07-21 20:51:30,685 — INFO — layer 0, [0:899], loss=-1.6860\n"
     ]
    },
    {
     "name": "stderr",
     "output_type": "stream",
     "text": [
      "epoch 0, layer 0:   9%|██████▎                                                                  | 949/11016 [02:26<24:25,  6.87it/s, loss=1.97]"
     ]
    },
    {
     "name": "stdout",
     "output_type": "stream",
     "text": [
      "2025-07-21 20:51:38,317 — INFO — layer 0, [0:949], loss=1.6257\n",
      "2025-07-21 20:51:38,317 — INFO — layer 0, [0:949], loss=2.1009\n"
     ]
    },
    {
     "name": "stderr",
     "output_type": "stream",
     "text": [
      "epoch 0, layer 0:   9%|██████▌                                                                 | 999/11016 [02:33<26:44,  6.24it/s, loss=-5.73]"
     ]
    },
    {
     "name": "stdout",
     "output_type": "stream",
     "text": [
      "2025-07-21 20:51:46,003 — INFO — layer 0, [0:999], loss=-2.6466\n",
      "2025-07-21 20:51:46,003 — INFO — layer 0, [0:999], loss=8.3173\n"
     ]
    },
    {
     "name": "stderr",
     "output_type": "stream",
     "text": [
      "epoch 0, layer 0:  10%|██████▊                                                                | 1049/11016 [02:41<25:42,  6.46it/s, loss=-2.57]"
     ]
    },
    {
     "name": "stdout",
     "output_type": "stream",
     "text": [
      "2025-07-21 20:51:53,878 — INFO — layer 0, [0:1049], loss=-4.5971\n",
      "2025-07-21 20:51:53,878 — INFO — layer 0, [0:1049], loss=-0.7649\n"
     ]
    },
    {
     "name": "stderr",
     "output_type": "stream",
     "text": [
      "epoch 0, layer 0:  10%|███████                                                                | 1099/11016 [02:49<25:37,  6.45it/s, loss=-5.87]"
     ]
    },
    {
     "name": "stdout",
     "output_type": "stream",
     "text": [
      "2025-07-21 20:52:01,529 — INFO — layer 0, [0:1099], loss=-6.8484\n",
      "2025-07-21 20:52:01,529 — INFO — layer 0, [0:1099], loss=-7.3365\n"
     ]
    },
    {
     "name": "stderr",
     "output_type": "stream",
     "text": [
      "epoch 0, layer 0:  10%|███████▍                                                               | 1149/11016 [02:57<26:23,  6.23it/s, loss=-6.34]"
     ]
    },
    {
     "name": "stdout",
     "output_type": "stream",
     "text": [
      "2025-07-21 20:52:09,237 — INFO — layer 0, [0:1149], loss=7.6549\n",
      "2025-07-21 20:52:09,237 — INFO — layer 0, [0:1149], loss=-8.6818\n"
     ]
    },
    {
     "name": "stderr",
     "output_type": "stream",
     "text": [
      "epoch 0, layer 0:  11%|███████▋                                                               | 1199/11016 [03:04<25:08,  6.51it/s, loss=0.589]"
     ]
    },
    {
     "name": "stdout",
     "output_type": "stream",
     "text": [
      "2025-07-21 20:52:16,697 — INFO — layer 0, [0:1199], loss=-5.8471\n",
      "2025-07-21 20:52:16,697 — INFO — layer 0, [0:1199], loss=0.3137\n"
     ]
    },
    {
     "name": "stderr",
     "output_type": "stream",
     "text": [
      "epoch 0, layer 0:  11%|████████                                                               | 1249/11016 [03:12<24:50,  6.55it/s, loss=-3.45]"
     ]
    },
    {
     "name": "stdout",
     "output_type": "stream",
     "text": [
      "2025-07-21 20:52:24,248 — INFO — layer 0, [0:1249], loss=-1.3872\n",
      "2025-07-21 20:52:24,248 — INFO — layer 0, [0:1249], loss=0.3187\n"
     ]
    },
    {
     "name": "stderr",
     "output_type": "stream",
     "text": [
      "epoch 0, layer 0:  12%|████████▎                                                              | 1299/11016 [03:19<25:05,  6.46it/s, loss=-1.15]"
     ]
    },
    {
     "name": "stdout",
     "output_type": "stream",
     "text": [
      "2025-07-21 20:52:31,932 — INFO — layer 0, [0:1299], loss=-0.1511\n",
      "2025-07-21 20:52:31,932 — INFO — layer 0, [0:1299], loss=-9.9176\n"
     ]
    },
    {
     "name": "stderr",
     "output_type": "stream",
     "text": [
      "epoch 0, layer 0:  12%|████████▋                                                              | 1349/11016 [03:27<23:16,  6.92it/s, loss=-8.78]"
     ]
    },
    {
     "name": "stdout",
     "output_type": "stream",
     "text": [
      "2025-07-21 20:52:39,412 — INFO — layer 0, [0:1349], loss=0.6131\n",
      "2025-07-21 20:52:39,412 — INFO — layer 0, [0:1349], loss=-0.7772\n"
     ]
    },
    {
     "name": "stderr",
     "output_type": "stream",
     "text": [
      "epoch 0, layer 0:  13%|█████████                                                              | 1399/11016 [03:34<23:55,  6.70it/s, loss=-9.73]"
     ]
    },
    {
     "name": "stdout",
     "output_type": "stream",
     "text": [
      "2025-07-21 20:52:46,990 — INFO — layer 0, [0:1399], loss=0.5577\n",
      "2025-07-21 20:52:46,990 — INFO — layer 0, [0:1399], loss=-10.5549\n"
     ]
    },
    {
     "name": "stderr",
     "output_type": "stream",
     "text": [
      "epoch 0, layer 0:  13%|█████████▎                                                             | 1449/11016 [03:42<24:44,  6.44it/s, loss=-5.87]"
     ]
    },
    {
     "name": "stdout",
     "output_type": "stream",
     "text": [
      "2025-07-21 20:52:54,458 — INFO — layer 0, [0:1449], loss=-9.3817\n",
      "2025-07-21 20:52:54,458 — INFO — layer 0, [0:1449], loss=-5.3399\n"
     ]
    },
    {
     "name": "stderr",
     "output_type": "stream",
     "text": [
      "epoch 0, layer 0:  14%|█████████▊                                                              | 1499/11016 [03:49<24:51,  6.38it/s, loss=3.88]"
     ]
    },
    {
     "name": "stdout",
     "output_type": "stream",
     "text": [
      "2025-07-21 20:53:01,898 — INFO — layer 0, [0:1499], loss=-7.3013\n",
      "2025-07-21 20:53:01,898 — INFO — layer 0, [0:1499], loss=-7.9819\n"
     ]
    },
    {
     "name": "stderr",
     "output_type": "stream",
     "text": [
      "epoch 0, layer 0:  14%|█████████▉                                                             | 1549/11016 [03:57<23:59,  6.58it/s, loss=-9.95]"
     ]
    },
    {
     "name": "stdout",
     "output_type": "stream",
     "text": [
      "2025-07-21 20:53:09,627 — INFO — layer 0, [0:1549], loss=-2.7511\n",
      "2025-07-21 20:53:09,627 — INFO — layer 0, [0:1549], loss=-6.1748\n"
     ]
    },
    {
     "name": "stderr",
     "output_type": "stream",
     "text": [
      "epoch 0, layer 0:  15%|██████████▏                                                           | 1599/11016 [04:05<22:32,  6.96it/s, loss=-0.734]"
     ]
    },
    {
     "name": "stdout",
     "output_type": "stream",
     "text": [
      "2025-07-21 20:53:17,086 — INFO — layer 0, [0:1599], loss=2.9781\n",
      "2025-07-21 20:53:17,086 — INFO — layer 0, [0:1599], loss=-5.5024\n"
     ]
    },
    {
     "name": "stderr",
     "output_type": "stream",
     "text": [
      "epoch 0, layer 0:  15%|██████████▋                                                            | 1649/11016 [04:12<23:09,  6.74it/s, loss=-11.2]"
     ]
    },
    {
     "name": "stdout",
     "output_type": "stream",
     "text": [
      "2025-07-21 20:53:24,502 — INFO — layer 0, [0:1649], loss=-14.6796\n",
      "2025-07-21 20:53:24,502 — INFO — layer 0, [0:1649], loss=-6.3522\n"
     ]
    },
    {
     "name": "stderr",
     "output_type": "stream",
     "text": [
      "epoch 0, layer 0:  15%|███████████                                                             | 1699/11016 [04:19<23:35,  6.58it/s, loss=2.55]"
     ]
    },
    {
     "name": "stdout",
     "output_type": "stream",
     "text": [
      "2025-07-21 20:53:31,977 — INFO — layer 0, [0:1699], loss=-2.3634\n",
      "2025-07-21 20:53:31,977 — INFO — layer 0, [0:1699], loss=-4.2456\n"
     ]
    },
    {
     "name": "stderr",
     "output_type": "stream",
     "text": [
      "epoch 0, layer 0:  16%|███████████▎                                                           | 1749/11016 [04:27<23:04,  6.69it/s, loss=-5.91]"
     ]
    },
    {
     "name": "stdout",
     "output_type": "stream",
     "text": [
      "2025-07-21 20:53:39,740 — INFO — layer 0, [0:1749], loss=-7.8196\n",
      "2025-07-21 20:53:39,740 — INFO — layer 0, [0:1749], loss=0.2831\n"
     ]
    },
    {
     "name": "stderr",
     "output_type": "stream",
     "text": [
      "epoch 0, layer 0:  16%|███████████▌                                                           | 1799/11016 [04:35<22:25,  6.85it/s, loss=0.762]"
     ]
    },
    {
     "name": "stdout",
     "output_type": "stream",
     "text": [
      "2025-07-21 20:53:47,181 — INFO — layer 0, [0:1799], loss=-10.1385\n",
      "2025-07-21 20:53:47,181 — INFO — layer 0, [0:1799], loss=-8.7693\n"
     ]
    },
    {
     "name": "stderr",
     "output_type": "stream",
     "text": [
      "epoch 0, layer 0:  17%|███████████▉                                                           | 1849/11016 [04:42<23:05,  6.62it/s, loss=-12.9]"
     ]
    },
    {
     "name": "stdout",
     "output_type": "stream",
     "text": [
      "2025-07-21 20:53:54,829 — INFO — layer 0, [0:1849], loss=-6.6918\n",
      "2025-07-21 20:53:54,829 — INFO — layer 0, [0:1849], loss=-13.2704\n"
     ]
    },
    {
     "name": "stderr",
     "output_type": "stream",
     "text": [
      "epoch 0, layer 0:  17%|████████████▏                                                          | 1899/11016 [04:50<23:33,  6.45it/s, loss=-14.8]"
     ]
    },
    {
     "name": "stdout",
     "output_type": "stream",
     "text": [
      "2025-07-21 20:54:02,459 — INFO — layer 0, [0:1899], loss=-8.8138\n",
      "2025-07-21 20:54:02,459 — INFO — layer 0, [0:1899], loss=-6.3550\n"
     ]
    },
    {
     "name": "stderr",
     "output_type": "stream",
     "text": [
      "epoch 0, layer 0:  18%|████████████▌                                                          | 1949/11016 [04:58<22:07,  6.83it/s, loss=-10.8]"
     ]
    },
    {
     "name": "stdout",
     "output_type": "stream",
     "text": [
      "2025-07-21 20:54:10,043 — INFO — layer 0, [0:1949], loss=-3.8262\n",
      "2025-07-21 20:54:10,043 — INFO — layer 0, [0:1949], loss=-6.9113\n"
     ]
    },
    {
     "name": "stderr",
     "output_type": "stream",
     "text": [
      "epoch 0, layer 0:  18%|████████████▉                                                          | 1999/11016 [05:05<22:52,  6.57it/s, loss=-3.58]"
     ]
    },
    {
     "name": "stdout",
     "output_type": "stream",
     "text": [
      "2025-07-21 20:54:17,460 — INFO — layer 0, [0:1999], loss=-6.8039\n",
      "2025-07-21 20:54:17,460 — INFO — layer 0, [0:1999], loss=-9.7112\n"
     ]
    },
    {
     "name": "stderr",
     "output_type": "stream",
     "text": [
      "epoch 0, layer 0:  19%|█████████████▏                                                         | 2049/11016 [05:12<21:48,  6.85it/s, loss=-9.96]"
     ]
    },
    {
     "name": "stdout",
     "output_type": "stream",
     "text": [
      "2025-07-21 20:54:25,009 — INFO — layer 0, [0:2049], loss=-6.6437\n",
      "2025-07-21 20:54:25,009 — INFO — layer 0, [0:2049], loss=-6.5602\n"
     ]
    },
    {
     "name": "stderr",
     "output_type": "stream",
     "text": [
      "epoch 0, layer 0:  19%|█████████████▌                                                         | 2099/11016 [05:20<22:16,  6.67it/s, loss=-10.9]"
     ]
    },
    {
     "name": "stdout",
     "output_type": "stream",
     "text": [
      "2025-07-21 20:54:32,628 — INFO — layer 0, [0:2099], loss=-16.0970\n",
      "2025-07-21 20:54:32,628 — INFO — layer 0, [0:2099], loss=-0.4321\n"
     ]
    },
    {
     "name": "stderr",
     "output_type": "stream",
     "text": [
      "epoch 0, layer 0:  20%|██████████████                                                          | 2149/11016 [05:28<22:15,  6.64it/s, loss=3.39]"
     ]
    },
    {
     "name": "stdout",
     "output_type": "stream",
     "text": [
      "2025-07-21 20:54:40,268 — INFO — layer 0, [0:2149], loss=-6.7196\n",
      "2025-07-21 20:54:40,268 — INFO — layer 0, [0:2149], loss=1.1045\n"
     ]
    },
    {
     "name": "stderr",
     "output_type": "stream",
     "text": [
      "epoch 0, layer 0:  20%|██████████████▏                                                        | 2199/11016 [05:35<24:16,  6.06it/s, loss=-6.12]"
     ]
    },
    {
     "name": "stdout",
     "output_type": "stream",
     "text": [
      "2025-07-21 20:54:47,850 — INFO — layer 0, [0:2199], loss=-6.0584\n",
      "2025-07-21 20:54:47,850 — INFO — layer 0, [0:2199], loss=-17.8661\n"
     ]
    },
    {
     "name": "stderr",
     "output_type": "stream",
     "text": [
      "epoch 0, layer 0:  20%|██████████████▍                                                        | 2249/11016 [05:43<21:51,  6.68it/s, loss=-9.77]"
     ]
    },
    {
     "name": "stdout",
     "output_type": "stream",
     "text": [
      "2025-07-21 20:54:55,472 — INFO — layer 0, [0:2249], loss=-17.5540\n",
      "2025-07-21 20:54:55,472 — INFO — layer 0, [0:2249], loss=-5.5022\n"
     ]
    },
    {
     "name": "stderr",
     "output_type": "stream",
     "text": [
      "epoch 0, layer 0:  21%|██████████████▊                                                        | 2299/11016 [05:50<21:29,  6.76it/s, loss=-2.46]"
     ]
    },
    {
     "name": "stdout",
     "output_type": "stream",
     "text": [
      "2025-07-21 20:55:02,897 — INFO — layer 0, [0:2299], loss=-16.6526\n",
      "2025-07-21 20:55:02,897 — INFO — layer 0, [0:2299], loss=-8.2010\n"
     ]
    },
    {
     "name": "stderr",
     "output_type": "stream",
     "text": [
      "epoch 0, layer 0:  21%|███████████████▏                                                       | 2349/11016 [05:58<21:36,  6.68it/s, loss=-12.6]"
     ]
    },
    {
     "name": "stdout",
     "output_type": "stream",
     "text": [
      "2025-07-21 20:55:10,543 — INFO — layer 0, [0:2349], loss=-8.1952\n",
      "2025-07-21 20:55:10,543 — INFO — layer 0, [0:2349], loss=-7.2753\n"
     ]
    },
    {
     "name": "stderr",
     "output_type": "stream",
     "text": [
      "epoch 0, layer 0:  22%|███████████████▍                                                       | 2399/11016 [06:06<24:03,  5.97it/s, loss=-12.8]"
     ]
    },
    {
     "name": "stdout",
     "output_type": "stream",
     "text": [
      "2025-07-21 20:55:18,390 — INFO — layer 0, [0:2399], loss=-16.4192\n",
      "2025-07-21 20:55:18,390 — INFO — layer 0, [0:2399], loss=-10.5175\n"
     ]
    },
    {
     "name": "stderr",
     "output_type": "stream",
     "text": [
      "epoch 0, layer 0:  22%|███████████████▊                                                       | 2449/11016 [06:13<22:29,  6.35it/s, loss=-8.09]"
     ]
    },
    {
     "name": "stdout",
     "output_type": "stream",
     "text": [
      "2025-07-21 20:55:26,013 — INFO — layer 0, [0:2449], loss=-8.3084\n",
      "2025-07-21 20:55:26,013 — INFO — layer 0, [0:2449], loss=-15.3395\n"
     ]
    },
    {
     "name": "stderr",
     "output_type": "stream",
     "text": [
      "epoch 0, layer 0:  23%|████████████████▌                                                        | 2499/11016 [06:21<21:00,  6.76it/s, loss=-17]"
     ]
    },
    {
     "name": "stdout",
     "output_type": "stream",
     "text": [
      "2025-07-21 20:55:33,513 — INFO — layer 0, [0:2499], loss=-12.0482\n",
      "2025-07-21 20:55:33,513 — INFO — layer 0, [0:2499], loss=-5.6306\n"
     ]
    },
    {
     "name": "stderr",
     "output_type": "stream",
     "text": [
      "epoch 0, layer 0:  23%|████████████████▍                                                      | 2549/11016 [06:28<20:51,  6.77it/s, loss=-18.3]"
     ]
    },
    {
     "name": "stdout",
     "output_type": "stream",
     "text": [
      "2025-07-21 20:55:41,014 — INFO — layer 0, [0:2549], loss=-10.6103\n",
      "2025-07-21 20:55:41,014 — INFO — layer 0, [0:2549], loss=-12.2643\n"
     ]
    },
    {
     "name": "stderr",
     "output_type": "stream",
     "text": [
      "epoch 0, layer 0:  24%|████████████████▊                                                      | 2599/11016 [06:36<21:37,  6.48it/s, loss=-20.6]"
     ]
    },
    {
     "name": "stdout",
     "output_type": "stream",
     "text": [
      "2025-07-21 20:55:48,690 — INFO — layer 0, [0:2599], loss=-4.7185\n",
      "2025-07-21 20:55:48,690 — INFO — layer 0, [0:2599], loss=-1.9885\n"
     ]
    },
    {
     "name": "stderr",
     "output_type": "stream",
     "text": [
      "epoch 0, layer 0:  24%|████████████████▊                                                     | 2649/11016 [06:44<21:43,  6.42it/s, loss=-0.634]"
     ]
    },
    {
     "name": "stdout",
     "output_type": "stream",
     "text": [
      "2025-07-21 20:55:56,390 — INFO — layer 0, [0:2649], loss=-15.9511\n",
      "2025-07-21 20:55:56,390 — INFO — layer 0, [0:2649], loss=-18.4784\n"
     ]
    },
    {
     "name": "stderr",
     "output_type": "stream",
     "text": [
      "epoch 0, layer 0:  25%|█████████████████▍                                                     | 2699/11016 [06:51<20:03,  6.91it/s, loss=-8.29]"
     ]
    },
    {
     "name": "stdout",
     "output_type": "stream",
     "text": [
      "2025-07-21 20:56:04,026 — INFO — layer 0, [0:2699], loss=-13.5160\n",
      "2025-07-21 20:56:04,026 — INFO — layer 0, [0:2699], loss=-21.3226\n"
     ]
    },
    {
     "name": "stderr",
     "output_type": "stream",
     "text": [
      "epoch 0, layer 0:  25%|█████████████████▋                                                     | 2749/11016 [06:59<20:25,  6.75it/s, loss=-2.71]"
     ]
    },
    {
     "name": "stdout",
     "output_type": "stream",
     "text": [
      "2025-07-21 20:56:11,753 — INFO — layer 0, [0:2749], loss=-3.3812\n",
      "2025-07-21 20:56:11,753 — INFO — layer 0, [0:2749], loss=-8.0996\n"
     ]
    },
    {
     "name": "stderr",
     "output_type": "stream",
     "text": [
      "epoch 0, layer 0:  25%|██████████████████▌                                                      | 2799/11016 [07:07<19:48,  6.91it/s, loss=-14]"
     ]
    },
    {
     "name": "stdout",
     "output_type": "stream",
     "text": [
      "2025-07-21 20:56:19,222 — INFO — layer 0, [0:2799], loss=-11.7489\n",
      "2025-07-21 20:56:19,222 — INFO — layer 0, [0:2799], loss=-19.7750\n"
     ]
    },
    {
     "name": "stderr",
     "output_type": "stream",
     "text": [
      "epoch 0, layer 0:  26%|██████████████████▎                                                    | 2849/11016 [07:14<20:16,  6.71it/s, loss=-7.71]"
     ]
    },
    {
     "name": "stdout",
     "output_type": "stream",
     "text": [
      "2025-07-21 20:56:26,795 — INFO — layer 0, [0:2849], loss=-15.3040\n",
      "2025-07-21 20:56:26,795 — INFO — layer 0, [0:2849], loss=-11.0955\n"
     ]
    },
    {
     "name": "stderr",
     "output_type": "stream",
     "text": [
      "epoch 0, layer 0:  26%|███████████████████▏                                                     | 2899/11016 [07:22<20:30,  6.60it/s, loss=-18]"
     ]
    },
    {
     "name": "stdout",
     "output_type": "stream",
     "text": [
      "2025-07-21 20:56:34,287 — INFO — layer 0, [0:2899], loss=-13.7934\n",
      "2025-07-21 20:56:34,287 — INFO — layer 0, [0:2899], loss=-9.2546\n"
     ]
    },
    {
     "name": "stderr",
     "output_type": "stream",
     "text": [
      "epoch 0, layer 0:  27%|███████████████████                                                    | 2949/11016 [07:29<21:12,  6.34it/s, loss=-16.9]"
     ]
    },
    {
     "name": "stdout",
     "output_type": "stream",
     "text": [
      "2025-07-21 20:56:42,020 — INFO — layer 0, [0:2949], loss=-4.1486\n",
      "2025-07-21 20:56:42,021 — INFO — layer 0, [0:2949], loss=-9.5815\n"
     ]
    },
    {
     "name": "stderr",
     "output_type": "stream",
     "text": [
      "epoch 0, layer 0:  27%|███████████████████▎                                                   | 2999/11016 [07:37<20:29,  6.52it/s, loss=-7.75]"
     ]
    },
    {
     "name": "stdout",
     "output_type": "stream",
     "text": [
      "2025-07-21 20:56:49,834 — INFO — layer 0, [0:2999], loss=-15.4969\n",
      "2025-07-21 20:56:49,834 — INFO — layer 0, [0:2999], loss=-16.3791\n"
     ]
    },
    {
     "name": "stderr",
     "output_type": "stream",
     "text": [
      "epoch 0, layer 0:  28%|███████████████████▋                                                   | 3049/11016 [07:45<20:10,  6.58it/s, loss=-15.8]"
     ]
    },
    {
     "name": "stdout",
     "output_type": "stream",
     "text": [
      "2025-07-21 20:56:57,525 — INFO — layer 0, [0:3049], loss=-2.9985\n",
      "2025-07-21 20:56:57,525 — INFO — layer 0, [0:3049], loss=-18.2044\n"
     ]
    },
    {
     "name": "stderr",
     "output_type": "stream",
     "text": [
      "epoch 0, layer 0:  28%|███████████████████▉                                                   | 3099/11016 [07:53<20:59,  6.29it/s, loss=-5.95]"
     ]
    },
    {
     "name": "stdout",
     "output_type": "stream",
     "text": [
      "2025-07-21 20:57:05,164 — INFO — layer 0, [0:3099], loss=-8.6071\n",
      "2025-07-21 20:57:05,164 — INFO — layer 0, [0:3099], loss=-22.2515\n"
     ]
    },
    {
     "name": "stderr",
     "output_type": "stream",
     "text": [
      "epoch 0, layer 0:  29%|████████████████████▎                                                  | 3149/11016 [08:00<18:43,  7.00it/s, loss=-2.37]"
     ]
    },
    {
     "name": "stdout",
     "output_type": "stream",
     "text": [
      "2025-07-21 20:57:12,672 — INFO — layer 0, [0:3149], loss=-2.0897\n",
      "2025-07-21 20:57:12,672 — INFO — layer 0, [0:3149], loss=-10.9489\n"
     ]
    },
    {
     "name": "stderr",
     "output_type": "stream",
     "text": [
      "epoch 0, layer 0:  29%|████████████████████▌                                                  | 3199/11016 [08:08<20:18,  6.42it/s, loss=-14.1]"
     ]
    },
    {
     "name": "stdout",
     "output_type": "stream",
     "text": [
      "2025-07-21 20:57:20,331 — INFO — layer 0, [0:3199], loss=-13.6267\n",
      "2025-07-21 20:57:20,331 — INFO — layer 0, [0:3199], loss=-11.4744\n"
     ]
    },
    {
     "name": "stderr",
     "output_type": "stream",
     "text": [
      "epoch 0, layer 0:  29%|████████████████████▉                                                  | 3249/11016 [08:15<18:04,  7.16it/s, loss=-12.6]"
     ]
    },
    {
     "name": "stdout",
     "output_type": "stream",
     "text": [
      "2025-07-21 20:57:27,970 — INFO — layer 0, [0:3249], loss=-7.5069\n",
      "2025-07-21 20:57:27,970 — INFO — layer 0, [0:3249], loss=0.1295\n"
     ]
    },
    {
     "name": "stderr",
     "output_type": "stream",
     "text": [
      "epoch 0, layer 0:  30%|█████████████████████▊                                                   | 3299/11016 [08:23<18:59,  6.77it/s, loss=-16]"
     ]
    },
    {
     "name": "stdout",
     "output_type": "stream",
     "text": [
      "2025-07-21 20:57:35,225 — INFO — layer 0, [0:3299], loss=-14.2251\n",
      "2025-07-21 20:57:35,225 — INFO — layer 0, [0:3299], loss=-19.9261\n"
     ]
    },
    {
     "name": "stderr",
     "output_type": "stream",
     "text": [
      "epoch 0, layer 0:  30%|█████████████████████▌                                                 | 3349/11016 [08:30<19:50,  6.44it/s, loss=-2.97]"
     ]
    },
    {
     "name": "stdout",
     "output_type": "stream",
     "text": [
      "2025-07-21 20:57:42,860 — INFO — layer 0, [0:3349], loss=-15.4075\n",
      "2025-07-21 20:57:42,860 — INFO — layer 0, [0:3349], loss=-7.8524\n"
     ]
    },
    {
     "name": "stderr",
     "output_type": "stream",
     "text": [
      "epoch 0, layer 0:  31%|█████████████████████▉                                                 | 3399/11016 [08:38<18:34,  6.84it/s, loss=-2.79]"
     ]
    },
    {
     "name": "stdout",
     "output_type": "stream",
     "text": [
      "2025-07-21 20:57:50,423 — INFO — layer 0, [0:3399], loss=-12.4479\n",
      "2025-07-21 20:57:50,423 — INFO — layer 0, [0:3399], loss=1.8278\n"
     ]
    },
    {
     "name": "stderr",
     "output_type": "stream",
     "text": [
      "epoch 0, layer 0:  31%|██████████████████████▏                                                | 3449/11016 [08:45<19:21,  6.51it/s, loss=-9.18]"
     ]
    },
    {
     "name": "stdout",
     "output_type": "stream",
     "text": [
      "2025-07-21 20:57:57,996 — INFO — layer 0, [0:3449], loss=-12.5939\n",
      "2025-07-21 20:57:57,996 — INFO — layer 0, [0:3449], loss=-22.3177\n"
     ]
    },
    {
     "name": "stderr",
     "output_type": "stream",
     "text": [
      "epoch 0, layer 0:  32%|██████████████████████▌                                                | 3499/11016 [08:53<18:30,  6.77it/s, loss=-14.3]"
     ]
    },
    {
     "name": "stdout",
     "output_type": "stream",
     "text": [
      "2025-07-21 20:58:05,535 — INFO — layer 0, [0:3499], loss=-10.9150\n",
      "2025-07-21 20:58:05,535 — INFO — layer 0, [0:3499], loss=-12.2100\n"
     ]
    },
    {
     "name": "stderr",
     "output_type": "stream",
     "text": [
      "epoch 0, layer 0:  32%|██████████████████████▊                                                | 3549/11016 [09:01<17:52,  6.96it/s, loss=-15.6]"
     ]
    },
    {
     "name": "stdout",
     "output_type": "stream",
     "text": [
      "2025-07-21 20:58:13,114 — INFO — layer 0, [0:3549], loss=-12.7778\n",
      "2025-07-21 20:58:13,114 — INFO — layer 0, [0:3549], loss=-21.3458\n"
     ]
    },
    {
     "name": "stderr",
     "output_type": "stream",
     "text": [
      "epoch 0, layer 0:  33%|███████████████████████▏                                               | 3599/11016 [09:08<20:36,  6.00it/s, loss=-7.95]"
     ]
    },
    {
     "name": "stdout",
     "output_type": "stream",
     "text": [
      "2025-07-21 20:58:20,850 — INFO — layer 0, [0:3599], loss=-17.4790\n",
      "2025-07-21 20:58:20,851 — INFO — layer 0, [0:3599], loss=-11.2513\n"
     ]
    },
    {
     "name": "stderr",
     "output_type": "stream",
     "text": [
      "epoch 0, layer 0:  33%|███████████████████████▌                                               | 3649/11016 [09:16<18:59,  6.47it/s, loss=-6.66]"
     ]
    },
    {
     "name": "stdout",
     "output_type": "stream",
     "text": [
      "2025-07-21 20:58:28,426 — INFO — layer 0, [0:3649], loss=-10.5222\n",
      "2025-07-21 20:58:28,426 — INFO — layer 0, [0:3649], loss=-4.0217\n"
     ]
    },
    {
     "name": "stderr",
     "output_type": "stream",
     "text": [
      "epoch 0, layer 0:  34%|████████████████████████▌                                                | 3699/11016 [09:24<18:34,  6.56it/s, loss=-19]"
     ]
    },
    {
     "name": "stdout",
     "output_type": "stream",
     "text": [
      "2025-07-21 20:58:36,110 — INFO — layer 0, [0:3699], loss=-5.7031\n",
      "2025-07-21 20:58:36,110 — INFO — layer 0, [0:3699], loss=-12.4091\n"
     ]
    },
    {
     "name": "stderr",
     "output_type": "stream",
     "text": [
      "epoch 0, layer 0:  34%|████████████████████████▏                                              | 3749/11016 [09:31<17:13,  7.03it/s, loss=-15.2]"
     ]
    },
    {
     "name": "stdout",
     "output_type": "stream",
     "text": [
      "2025-07-21 20:58:43,740 — INFO — layer 0, [0:3749], loss=-6.6158\n",
      "2025-07-21 20:58:43,740 — INFO — layer 0, [0:3749], loss=-9.1349\n"
     ]
    },
    {
     "name": "stderr",
     "output_type": "stream",
     "text": [
      "epoch 0, layer 0:  34%|████████████████████████▍                                              | 3799/11016 [09:39<17:17,  6.96it/s, loss=-17.4]"
     ]
    },
    {
     "name": "stdout",
     "output_type": "stream",
     "text": [
      "2025-07-21 20:58:51,390 — INFO — layer 0, [0:3799], loss=-12.6042\n",
      "2025-07-21 20:58:51,390 — INFO — layer 0, [0:3799], loss=-7.3105\n"
     ]
    },
    {
     "name": "stderr",
     "output_type": "stream",
     "text": [
      "epoch 0, layer 0:  35%|█████████████████████████▌                                               | 3849/11016 [09:46<18:15,  6.54it/s, loss=-17]"
     ]
    },
    {
     "name": "stdout",
     "output_type": "stream",
     "text": [
      "2025-07-21 20:58:58,983 — INFO — layer 0, [0:3849], loss=-10.0005\n",
      "2025-07-21 20:58:58,983 — INFO — layer 0, [0:3849], loss=-16.0614\n"
     ]
    },
    {
     "name": "stderr",
     "output_type": "stream",
     "text": [
      "epoch 0, layer 0:  35%|█████████████████████████▏                                             | 3899/11016 [09:54<18:39,  6.36it/s, loss=-19.5]"
     ]
    },
    {
     "name": "stdout",
     "output_type": "stream",
     "text": [
      "2025-07-21 20:59:06,603 — INFO — layer 0, [0:3899], loss=-2.7650\n",
      "2025-07-21 20:59:06,603 — INFO — layer 0, [0:3899], loss=-1.3662\n"
     ]
    },
    {
     "name": "stderr",
     "output_type": "stream",
     "text": [
      "epoch 0, layer 0:  36%|█████████████████████████▍                                             | 3949/11016 [10:02<18:04,  6.51it/s, loss=-22.3]"
     ]
    },
    {
     "name": "stdout",
     "output_type": "stream",
     "text": [
      "2025-07-21 20:59:14,244 — INFO — layer 0, [0:3949], loss=-13.4746\n",
      "2025-07-21 20:59:14,244 — INFO — layer 0, [0:3949], loss=-19.4654\n"
     ]
    },
    {
     "name": "stderr",
     "output_type": "stream",
     "text": [
      "epoch 0, layer 0:  36%|█████████████████████████▊                                             | 3999/11016 [10:09<18:05,  6.47it/s, loss=-11.5]"
     ]
    },
    {
     "name": "stdout",
     "output_type": "stream",
     "text": [
      "2025-07-21 20:59:21,713 — INFO — layer 0, [0:3999], loss=-9.7844\n",
      "2025-07-21 20:59:21,713 — INFO — layer 0, [0:3999], loss=-14.5092\n"
     ]
    },
    {
     "name": "stderr",
     "output_type": "stream",
     "text": [
      "epoch 0, layer 0:  37%|██████████████████████████                                             | 4049/11016 [10:17<17:08,  6.78it/s, loss=-11.9]"
     ]
    },
    {
     "name": "stdout",
     "output_type": "stream",
     "text": [
      "2025-07-21 20:59:29,287 — INFO — layer 0, [0:4049], loss=-15.9238\n",
      "2025-07-21 20:59:29,287 — INFO — layer 0, [0:4049], loss=-15.2160\n"
     ]
    },
    {
     "name": "stderr",
     "output_type": "stream",
     "text": [
      "epoch 0, layer 0:  37%|██████████████████████████▍                                            | 4099/11016 [10:24<17:12,  6.70it/s, loss=-18.3]"
     ]
    },
    {
     "name": "stdout",
     "output_type": "stream",
     "text": [
      "2025-07-21 20:59:37,022 — INFO — layer 0, [0:4099], loss=-13.7633\n",
      "2025-07-21 20:59:37,022 — INFO — layer 0, [0:4099], loss=-12.5566\n"
     ]
    },
    {
     "name": "stderr",
     "output_type": "stream",
     "text": [
      "epoch 0, layer 0:  38%|██████████████████████████▋                                            | 4149/11016 [10:32<17:32,  6.53it/s, loss=-5.55]"
     ]
    },
    {
     "name": "stdout",
     "output_type": "stream",
     "text": [
      "2025-07-21 20:59:44,860 — INFO — layer 0, [0:4149], loss=-5.8500\n",
      "2025-07-21 20:59:44,860 — INFO — layer 0, [0:4149], loss=-14.0743\n"
     ]
    },
    {
     "name": "stderr",
     "output_type": "stream",
     "text": [
      "epoch 0, layer 0:  38%|███████████████████████████                                            | 4199/11016 [10:40<17:12,  6.60it/s, loss=-9.24]"
     ]
    },
    {
     "name": "stdout",
     "output_type": "stream",
     "text": [
      "2025-07-21 20:59:52,549 — INFO — layer 0, [0:4199], loss=-13.9087\n",
      "2025-07-21 20:59:52,549 — INFO — layer 0, [0:4199], loss=-3.0192\n"
     ]
    },
    {
     "name": "stderr",
     "output_type": "stream",
     "text": [
      "epoch 0, layer 0:  39%|███████████████████████████▍                                           | 4249/11016 [10:48<16:35,  6.80it/s, loss=-9.22]"
     ]
    },
    {
     "name": "stdout",
     "output_type": "stream",
     "text": [
      "2025-07-21 21:00:00,226 — INFO — layer 0, [0:4249], loss=-9.4635\n",
      "2025-07-21 21:00:00,226 — INFO — layer 0, [0:4249], loss=-19.4267\n"
     ]
    },
    {
     "name": "stderr",
     "output_type": "stream",
     "text": [
      "epoch 0, layer 0:  39%|███████████████████████████▋                                           | 4299/11016 [10:55<17:00,  6.58it/s, loss=-17.3]"
     ]
    },
    {
     "name": "stdout",
     "output_type": "stream",
     "text": [
      "2025-07-21 21:00:07,821 — INFO — layer 0, [0:4299], loss=-12.9812\n",
      "2025-07-21 21:00:07,821 — INFO — layer 0, [0:4299], loss=-12.0852\n"
     ]
    },
    {
     "name": "stderr",
     "output_type": "stream",
     "text": [
      "epoch 0, layer 0:  39%|████████████████████████████                                           | 4349/11016 [11:03<16:04,  6.91it/s, loss=-19.8]"
     ]
    },
    {
     "name": "stdout",
     "output_type": "stream",
     "text": [
      "2025-07-21 21:00:15,453 — INFO — layer 0, [0:4349], loss=-20.5671\n",
      "2025-07-21 21:00:15,453 — INFO — layer 0, [0:4349], loss=-15.0027\n"
     ]
    },
    {
     "name": "stderr",
     "output_type": "stream",
     "text": [
      "epoch 0, layer 0:  40%|████████████████████████████▎                                          | 4399/11016 [11:11<17:43,  6.22it/s, loss=-17.1]"
     ]
    },
    {
     "name": "stdout",
     "output_type": "stream",
     "text": [
      "2025-07-21 21:00:23,234 — INFO — layer 0, [0:4399], loss=-10.8964\n",
      "2025-07-21 21:00:23,234 — INFO — layer 0, [0:4399], loss=-9.4736\n"
     ]
    },
    {
     "name": "stderr",
     "output_type": "stream",
     "text": [
      "epoch 0, layer 0:  40%|████████████████████████████▋                                          | 4449/11016 [11:18<16:15,  6.73it/s, loss=-10.2]"
     ]
    },
    {
     "name": "stdout",
     "output_type": "stream",
     "text": [
      "2025-07-21 21:00:30,910 — INFO — layer 0, [0:4449], loss=-12.6622\n",
      "2025-07-21 21:00:30,910 — INFO — layer 0, [0:4449], loss=-12.2711\n"
     ]
    },
    {
     "name": "stderr",
     "output_type": "stream",
     "text": [
      "epoch 0, layer 0:  41%|████████████████████████████▉                                          | 4499/11016 [11:26<16:40,  6.51it/s, loss=-14.9]"
     ]
    },
    {
     "name": "stdout",
     "output_type": "stream",
     "text": [
      "2025-07-21 21:00:38,644 — INFO — layer 0, [0:4499], loss=-6.2669\n",
      "2025-07-21 21:00:38,644 — INFO — layer 0, [0:4499], loss=-19.9318\n"
     ]
    },
    {
     "name": "stderr",
     "output_type": "stream",
     "text": [
      "epoch 0, layer 0:  41%|█████████████████████████████▎                                         | 4549/11016 [11:34<16:23,  6.58it/s, loss=-9.33]"
     ]
    },
    {
     "name": "stdout",
     "output_type": "stream",
     "text": [
      "2025-07-21 21:00:46,195 — INFO — layer 0, [0:4549], loss=-15.4605\n",
      "2025-07-21 21:00:46,195 — INFO — layer 0, [0:4549], loss=-12.6579\n"
     ]
    },
    {
     "name": "stderr",
     "output_type": "stream",
     "text": [
      "epoch 0, layer 0:  42%|█████████████████████████████▋                                         | 4599/11016 [11:41<16:26,  6.50it/s, loss=-13.2]"
     ]
    },
    {
     "name": "stdout",
     "output_type": "stream",
     "text": [
      "2025-07-21 21:00:53,945 — INFO — layer 0, [0:4599], loss=-15.9155\n",
      "2025-07-21 21:00:53,945 — INFO — layer 0, [0:4599], loss=-15.0845\n"
     ]
    },
    {
     "name": "stderr",
     "output_type": "stream",
     "text": [
      "epoch 0, layer 0:  42%|█████████████████████████████▉                                         | 4649/11016 [11:49<15:54,  6.67it/s, loss=-10.2]"
     ]
    },
    {
     "name": "stdout",
     "output_type": "stream",
     "text": [
      "2025-07-21 21:01:01,408 — INFO — layer 0, [0:4649], loss=-8.0988\n",
      "2025-07-21 21:01:01,408 — INFO — layer 0, [0:4649], loss=-17.1070\n"
     ]
    },
    {
     "name": "stderr",
     "output_type": "stream",
     "text": [
      "epoch 0, layer 0:  43%|██████████████████████████████▎                                        | 4699/11016 [11:56<16:35,  6.35it/s, loss=-13.5]"
     ]
    },
    {
     "name": "stdout",
     "output_type": "stream",
     "text": [
      "2025-07-21 21:01:09,032 — INFO — layer 0, [0:4699], loss=-9.4913\n",
      "2025-07-21 21:01:09,032 — INFO — layer 0, [0:4699], loss=-6.1224\n"
     ]
    },
    {
     "name": "stderr",
     "output_type": "stream",
     "text": [
      "epoch 0, layer 0:  43%|██████████████████████████████▌                                        | 4749/11016 [12:04<15:10,  6.88it/s, loss=-13.8]"
     ]
    },
    {
     "name": "stdout",
     "output_type": "stream",
     "text": [
      "2025-07-21 21:01:16,468 — INFO — layer 0, [0:4749], loss=-19.1602\n",
      "2025-07-21 21:01:16,468 — INFO — layer 0, [0:4749], loss=-12.1822\n"
     ]
    },
    {
     "name": "stderr",
     "output_type": "stream",
     "text": [
      "epoch 0, layer 0:  44%|██████████████████████████████▉                                        | 4799/11016 [12:11<16:06,  6.43it/s, loss=-20.7]"
     ]
    },
    {
     "name": "stdout",
     "output_type": "stream",
     "text": [
      "2025-07-21 21:01:24,042 — INFO — layer 0, [0:4799], loss=-12.9506\n",
      "2025-07-21 21:01:24,042 — INFO — layer 0, [0:4799], loss=-10.1203\n"
     ]
    },
    {
     "name": "stderr",
     "output_type": "stream",
     "text": [
      "epoch 0, layer 0:  44%|███████████████████████████████▎                                       | 4849/11016 [12:19<15:15,  6.73it/s, loss=-7.68]"
     ]
    },
    {
     "name": "stdout",
     "output_type": "stream",
     "text": [
      "2025-07-21 21:01:31,560 — INFO — layer 0, [0:4849], loss=-10.1882\n",
      "2025-07-21 21:01:31,560 — INFO — layer 0, [0:4849], loss=-21.0461\n"
     ]
    },
    {
     "name": "stderr",
     "output_type": "stream",
     "text": [
      "epoch 0, layer 0:  44%|███████████████████████████████▌                                       | 4899/11016 [12:27<15:23,  6.62it/s, loss=-19.8]"
     ]
    },
    {
     "name": "stdout",
     "output_type": "stream",
     "text": [
      "2025-07-21 21:01:39,077 — INFO — layer 0, [0:4899], loss=-14.9353\n",
      "2025-07-21 21:01:39,077 — INFO — layer 0, [0:4899], loss=-22.3890\n"
     ]
    },
    {
     "name": "stderr",
     "output_type": "stream",
     "text": [
      "epoch 0, layer 0:  45%|███████████████████████████████▉                                       | 4949/11016 [12:34<15:58,  6.33it/s, loss=-12.8]"
     ]
    },
    {
     "name": "stdout",
     "output_type": "stream",
     "text": [
      "2025-07-21 21:01:46,765 — INFO — layer 0, [0:4949], loss=-14.4588\n",
      "2025-07-21 21:01:46,766 — INFO — layer 0, [0:4949], loss=-20.7803\n"
     ]
    },
    {
     "name": "stderr",
     "output_type": "stream",
     "text": [
      "epoch 0, layer 0:  45%|████████████████████████████████▏                                      | 4999/11016 [12:42<15:24,  6.51it/s, loss=-13.9]"
     ]
    },
    {
     "name": "stdout",
     "output_type": "stream",
     "text": [
      "2025-07-21 21:01:54,416 — INFO — layer 0, [0:4999], loss=-9.5919\n",
      "2025-07-21 21:01:54,416 — INFO — layer 0, [0:4999], loss=-5.3757\n"
     ]
    },
    {
     "name": "stderr",
     "output_type": "stream",
     "text": [
      "epoch 0, layer 0:  46%|████████████████████████████████▌                                      | 5049/11016 [12:49<15:08,  6.57it/s, loss=-10.3]"
     ]
    },
    {
     "name": "stdout",
     "output_type": "stream",
     "text": [
      "2025-07-21 21:02:01,950 — INFO — layer 0, [0:5049], loss=-1.7678\n",
      "2025-07-21 21:02:01,950 — INFO — layer 0, [0:5049], loss=-13.1594\n"
     ]
    },
    {
     "name": "stderr",
     "output_type": "stream",
     "text": [
      "epoch 0, layer 0:  46%|████████████████████████████████▊                                      | 5099/11016 [12:57<14:25,  6.83it/s, loss=-12.8]"
     ]
    },
    {
     "name": "stdout",
     "output_type": "stream",
     "text": [
      "2025-07-21 21:02:09,511 — INFO — layer 0, [0:5099], loss=-17.5151\n",
      "2025-07-21 21:02:09,512 — INFO — layer 0, [0:5099], loss=-15.6546\n"
     ]
    },
    {
     "name": "stderr",
     "output_type": "stream",
     "text": [
      "epoch 0, layer 0:  47%|█████████████████████████████████▏                                     | 5149/11016 [13:05<14:47,  6.61it/s, loss=-6.85]"
     ]
    },
    {
     "name": "stdout",
     "output_type": "stream",
     "text": [
      "2025-07-21 21:02:17,094 — INFO — layer 0, [0:5149], loss=-14.1211\n",
      "2025-07-21 21:02:17,094 — INFO — layer 0, [0:5149], loss=-9.3100\n"
     ]
    },
    {
     "name": "stderr",
     "output_type": "stream",
     "text": [
      "epoch 0, layer 0:  47%|█████████████████████████████████▌                                     | 5199/11016 [13:12<14:17,  6.78it/s, loss=-17.8]"
     ]
    },
    {
     "name": "stdout",
     "output_type": "stream",
     "text": [
      "2025-07-21 21:02:24,751 — INFO — layer 0, [0:5199], loss=-14.4026\n",
      "2025-07-21 21:02:24,751 — INFO — layer 0, [0:5199], loss=-2.6302\n"
     ]
    },
    {
     "name": "stderr",
     "output_type": "stream",
     "text": [
      "epoch 0, layer 0:  48%|█████████████████████████████████▊                                     | 5249/11016 [13:20<14:24,  6.67it/s, loss=-12.3]"
     ]
    },
    {
     "name": "stdout",
     "output_type": "stream",
     "text": [
      "2025-07-21 21:02:32,394 — INFO — layer 0, [0:5249], loss=-19.0563\n",
      "2025-07-21 21:02:32,394 — INFO — layer 0, [0:5249], loss=-6.5274\n"
     ]
    },
    {
     "name": "stderr",
     "output_type": "stream",
     "text": [
      "epoch 0, layer 0:  48%|██████████████████████████████████▏                                    | 5299/11016 [13:27<14:15,  6.68it/s, loss=-16.8]"
     ]
    },
    {
     "name": "stdout",
     "output_type": "stream",
     "text": [
      "2025-07-21 21:02:39,945 — INFO — layer 0, [0:5299], loss=-11.5960\n",
      "2025-07-21 21:02:39,945 — INFO — layer 0, [0:5299], loss=-20.4267\n"
     ]
    },
    {
     "name": "stderr",
     "output_type": "stream",
     "text": [
      "epoch 0, layer 0:  49%|██████████████████████████████████▍                                    | 5349/11016 [13:35<13:36,  6.94it/s, loss=-14.6]"
     ]
    },
    {
     "name": "stdout",
     "output_type": "stream",
     "text": [
      "2025-07-21 21:02:47,579 — INFO — layer 0, [0:5349], loss=-10.2725\n",
      "2025-07-21 21:02:47,579 — INFO — layer 0, [0:5349], loss=-6.8759\n"
     ]
    },
    {
     "name": "stderr",
     "output_type": "stream",
     "text": [
      "epoch 0, layer 0:  49%|██████████████████████████████████▊                                    | 5399/11016 [13:43<13:42,  6.83it/s, loss=-18.1]"
     ]
    },
    {
     "name": "stdout",
     "output_type": "stream",
     "text": [
      "2025-07-21 21:02:55,113 — INFO — layer 0, [0:5399], loss=-13.4966\n",
      "2025-07-21 21:02:55,113 — INFO — layer 0, [0:5399], loss=-10.8013\n"
     ]
    },
    {
     "name": "stderr",
     "output_type": "stream",
     "text": [
      "epoch 0, layer 0:  49%|███████████████████████████████████                                    | 5449/11016 [13:50<14:19,  6.48it/s, loss=-9.69]"
     ]
    },
    {
     "name": "stdout",
     "output_type": "stream",
     "text": [
      "2025-07-21 21:03:02,716 — INFO — layer 0, [0:5449], loss=-9.6845\n",
      "2025-07-21 21:03:02,716 — INFO — layer 0, [0:5449], loss=-17.7750\n"
     ]
    },
    {
     "name": "stderr",
     "output_type": "stream",
     "text": [
      "epoch 0, layer 0:  50%|███████████████████████████████████▍                                   | 5499/11016 [13:58<13:50,  6.64it/s, loss=-6.15]"
     ]
    },
    {
     "name": "stdout",
     "output_type": "stream",
     "text": [
      "2025-07-21 21:03:10,253 — INFO — layer 0, [0:5499], loss=-23.2048\n",
      "2025-07-21 21:03:10,253 — INFO — layer 0, [0:5499], loss=-28.4997\n"
     ]
    },
    {
     "name": "stderr",
     "output_type": "stream",
     "text": [
      "epoch 0, layer 0:  50%|███████████████████████████████████▊                                   | 5549/11016 [14:05<13:37,  6.69it/s, loss=-4.58]"
     ]
    },
    {
     "name": "stdout",
     "output_type": "stream",
     "text": [
      "2025-07-21 21:03:17,941 — INFO — layer 0, [0:5549], loss=-15.2343\n",
      "2025-07-21 21:03:17,941 — INFO — layer 0, [0:5549], loss=-15.7336\n"
     ]
    },
    {
     "name": "stderr",
     "output_type": "stream",
     "text": [
      "epoch 0, layer 0:  51%|████████████████████████████████████                                   | 5599/11016 [14:13<13:42,  6.59it/s, loss=-12.5]"
     ]
    },
    {
     "name": "stdout",
     "output_type": "stream",
     "text": [
      "2025-07-21 21:03:25,447 — INFO — layer 0, [0:5599], loss=-6.9528\n",
      "2025-07-21 21:03:25,447 — INFO — layer 0, [0:5599], loss=-10.4583\n"
     ]
    },
    {
     "name": "stderr",
     "output_type": "stream",
     "text": [
      "epoch 0, layer 0:  51%|████████████████████████████████████▍                                  | 5649/11016 [14:20<13:36,  6.57it/s, loss=-10.1]"
     ]
    },
    {
     "name": "stdout",
     "output_type": "stream",
     "text": [
      "2025-07-21 21:03:32,966 — INFO — layer 0, [0:5649], loss=-5.8493\n",
      "2025-07-21 21:03:32,966 — INFO — layer 0, [0:5649], loss=-9.9684\n"
     ]
    },
    {
     "name": "stderr",
     "output_type": "stream",
     "text": [
      "epoch 0, layer 0:  52%|█████████████████████████████████████▏                                  | 5699/11016 [14:28<15:20,  5.78it/s, loss=-7.5]"
     ]
    },
    {
     "name": "stdout",
     "output_type": "stream",
     "text": [
      "2025-07-21 21:03:40,593 — INFO — layer 0, [0:5699], loss=-9.2680\n",
      "2025-07-21 21:03:40,593 — INFO — layer 0, [0:5699], loss=-17.1676\n"
     ]
    },
    {
     "name": "stderr",
     "output_type": "stream",
     "text": [
      "epoch 0, layer 0:  52%|█████████████████████████████████████                                  | 5749/11016 [14:36<12:21,  7.10it/s, loss=-13.6]"
     ]
    },
    {
     "name": "stdout",
     "output_type": "stream",
     "text": [
      "2025-07-21 21:03:48,078 — INFO — layer 0, [0:5749], loss=-13.7308\n",
      "2025-07-21 21:03:48,078 — INFO — layer 0, [0:5749], loss=-8.7830\n"
     ]
    },
    {
     "name": "stderr",
     "output_type": "stream",
     "text": [
      "epoch 0, layer 0:  53%|█████████████████████████████████████▍                                 | 5799/11016 [14:43<13:43,  6.33it/s, loss=-5.66]"
     ]
    },
    {
     "name": "stdout",
     "output_type": "stream",
     "text": [
      "2025-07-21 21:03:55,964 — INFO — layer 0, [0:5799], loss=-7.4259\n",
      "2025-07-21 21:03:55,964 — INFO — layer 0, [0:5799], loss=-8.8163\n"
     ]
    },
    {
     "name": "stderr",
     "output_type": "stream",
     "text": [
      "epoch 0, layer 0:  53%|█████████████████████████████████████▋                                 | 5849/11016 [14:51<13:13,  6.51it/s, loss=-1.79]"
     ]
    },
    {
     "name": "stdout",
     "output_type": "stream",
     "text": [
      "2025-07-21 21:04:03,563 — INFO — layer 0, [0:5849], loss=-14.7411\n",
      "2025-07-21 21:04:03,563 — INFO — layer 0, [0:5849], loss=-2.3650\n"
     ]
    },
    {
     "name": "stderr",
     "output_type": "stream",
     "text": [
      "epoch 0, layer 0:  54%|██████████████████████████████████████                                 | 5899/11016 [14:59<13:09,  6.48it/s, loss=-7.18]"
     ]
    },
    {
     "name": "stdout",
     "output_type": "stream",
     "text": [
      "2025-07-21 21:04:11,213 — INFO — layer 0, [0:5899], loss=-5.0186\n",
      "2025-07-21 21:04:11,213 — INFO — layer 0, [0:5899], loss=-14.5544\n"
     ]
    },
    {
     "name": "stderr",
     "output_type": "stream",
     "text": [
      "epoch 0, layer 0:  54%|██████████████████████████████████████▎                                | 5949/11016 [15:06<12:38,  6.68it/s, loss=-14.5]"
     ]
    },
    {
     "name": "stdout",
     "output_type": "stream",
     "text": [
      "2025-07-21 21:04:18,625 — INFO — layer 0, [0:5949], loss=-24.3937\n",
      "2025-07-21 21:04:18,625 — INFO — layer 0, [0:5949], loss=-9.9066\n"
     ]
    },
    {
     "name": "stderr",
     "output_type": "stream",
     "text": [
      "epoch 0, layer 0:  54%|██████████████████████████████████████▋                                | 5999/11016 [15:14<12:08,  6.89it/s, loss=-18.7]"
     ]
    },
    {
     "name": "stdout",
     "output_type": "stream",
     "text": [
      "2025-07-21 21:04:26,335 — INFO — layer 0, [0:5999], loss=-6.4586\n",
      "2025-07-21 21:04:26,335 — INFO — layer 0, [0:5999], loss=-15.0461\n"
     ]
    },
    {
     "name": "stderr",
     "output_type": "stream",
     "text": [
      "epoch 0, layer 0:  55%|██████████████████████████████████████▉                                | 6049/11016 [15:21<12:28,  6.64it/s, loss=-13.3]"
     ]
    },
    {
     "name": "stdout",
     "output_type": "stream",
     "text": [
      "2025-07-21 21:04:33,905 — INFO — layer 0, [0:6049], loss=-13.6451\n",
      "2025-07-21 21:04:33,905 — INFO — layer 0, [0:6049], loss=-2.2312\n"
     ]
    },
    {
     "name": "stderr",
     "output_type": "stream",
     "text": [
      "epoch 0, layer 0:  55%|███████████████████████████████████████▎                               | 6099/11016 [15:29<11:30,  7.12it/s, loss=-16.5]"
     ]
    },
    {
     "name": "stdout",
     "output_type": "stream",
     "text": [
      "2025-07-21 21:04:41,470 — INFO — layer 0, [0:6099], loss=-9.5608\n",
      "2025-07-21 21:04:41,470 — INFO — layer 0, [0:6099], loss=-2.1598\n"
     ]
    },
    {
     "name": "stderr",
     "output_type": "stream",
     "text": [
      "epoch 0, layer 0:  56%|███████████████████████████████████████▋                               | 6149/11016 [15:37<12:29,  6.49it/s, loss=-10.4]"
     ]
    },
    {
     "name": "stdout",
     "output_type": "stream",
     "text": [
      "2025-07-21 21:04:49,117 — INFO — layer 0, [0:6149], loss=-23.4197\n",
      "2025-07-21 21:04:49,117 — INFO — layer 0, [0:6149], loss=-6.1954\n"
     ]
    },
    {
     "name": "stderr",
     "output_type": "stream",
     "text": [
      "epoch 0, layer 0:  56%|███████████████████████████████████████▉                               | 6199/11016 [15:44<12:22,  6.49it/s, loss=-14.8]"
     ]
    },
    {
     "name": "stdout",
     "output_type": "stream",
     "text": [
      "2025-07-21 21:04:56,629 — INFO — layer 0, [0:6199], loss=-16.0898\n",
      "2025-07-21 21:04:56,629 — INFO — layer 0, [0:6199], loss=-8.0539\n"
     ]
    },
    {
     "name": "stderr",
     "output_type": "stream",
     "text": [
      "epoch 0, layer 0:  57%|████████████████████████████████████████▎                              | 6249/11016 [15:52<11:50,  6.70it/s, loss=-8.61]"
     ]
    },
    {
     "name": "stdout",
     "output_type": "stream",
     "text": [
      "2025-07-21 21:05:04,389 — INFO — layer 0, [0:6249], loss=-16.2080\n",
      "2025-07-21 21:05:04,389 — INFO — layer 0, [0:6249], loss=-13.3312\n"
     ]
    },
    {
     "name": "stderr",
     "output_type": "stream",
     "text": [
      "epoch 0, layer 0:  57%|████████████████████████████████████████▌                              | 6299/11016 [15:59<11:28,  6.85it/s, loss=-2.63]"
     ]
    },
    {
     "name": "stdout",
     "output_type": "stream",
     "text": [
      "2025-07-21 21:05:11,930 — INFO — layer 0, [0:6299], loss=-17.8794\n",
      "2025-07-21 21:05:11,930 — INFO — layer 0, [0:6299], loss=-25.7899\n"
     ]
    },
    {
     "name": "stderr",
     "output_type": "stream",
     "text": [
      "epoch 0, layer 0:  58%|████████████████████████████████████████▉                              | 6349/11016 [16:07<11:16,  6.89it/s, loss=-19.3]"
     ]
    },
    {
     "name": "stdout",
     "output_type": "stream",
     "text": [
      "2025-07-21 21:05:19,525 — INFO — layer 0, [0:6349], loss=-8.4253\n",
      "2025-07-21 21:05:19,525 — INFO — layer 0, [0:6349], loss=-16.2157\n"
     ]
    },
    {
     "name": "stderr",
     "output_type": "stream",
     "text": [
      "epoch 0, layer 0:  58%|█████████████████████████████████████████▏                             | 6399/11016 [16:15<12:03,  6.38it/s, loss=-14.9]"
     ]
    },
    {
     "name": "stdout",
     "output_type": "stream",
     "text": [
      "2025-07-21 21:05:27,305 — INFO — layer 0, [0:6399], loss=-14.3421\n",
      "2025-07-21 21:05:27,305 — INFO — layer 0, [0:6399], loss=-24.7496\n"
     ]
    },
    {
     "name": "stderr",
     "output_type": "stream",
     "text": [
      "epoch 0, layer 0:  59%|█████████████████████████████████████████▌                             | 6449/11016 [16:22<11:17,  6.74it/s, loss=-7.76]"
     ]
    },
    {
     "name": "stdout",
     "output_type": "stream",
     "text": [
      "2025-07-21 21:05:34,889 — INFO — layer 0, [0:6449], loss=-17.1794\n",
      "2025-07-21 21:05:34,889 — INFO — layer 0, [0:6449], loss=-10.5296\n"
     ]
    },
    {
     "name": "stderr",
     "output_type": "stream",
     "text": [
      "epoch 0, layer 0:  59%|█████████████████████████████████████████▉                             | 6499/11016 [16:30<12:05,  6.23it/s, loss=-12.3]"
     ]
    },
    {
     "name": "stdout",
     "output_type": "stream",
     "text": [
      "2025-07-21 21:05:42,489 — INFO — layer 0, [0:6499], loss=-9.8385\n",
      "2025-07-21 21:05:42,489 — INFO — layer 0, [0:6499], loss=-8.7199\n"
     ]
    },
    {
     "name": "stderr",
     "output_type": "stream",
     "text": [
      "epoch 0, layer 0:  59%|██████████████████████████████████████████▏                            | 6549/11016 [16:38<11:17,  6.59it/s, loss=-18.4]"
     ]
    },
    {
     "name": "stdout",
     "output_type": "stream",
     "text": [
      "2025-07-21 21:05:50,142 — INFO — layer 0, [0:6549], loss=-10.2951\n",
      "2025-07-21 21:05:50,142 — INFO — layer 0, [0:6549], loss=-2.9689\n"
     ]
    },
    {
     "name": "stderr",
     "output_type": "stream",
     "text": [
      "epoch 0, layer 0:  60%|██████████████████████████████████████████▌                            | 6599/11016 [16:45<11:03,  6.66it/s, loss=-6.55]"
     ]
    },
    {
     "name": "stdout",
     "output_type": "stream",
     "text": [
      "2025-07-21 21:05:57,749 — INFO — layer 0, [0:6599], loss=-11.7948\n",
      "2025-07-21 21:05:57,749 — INFO — layer 0, [0:6599], loss=-11.1341\n"
     ]
    },
    {
     "name": "stderr",
     "output_type": "stream",
     "text": [
      "epoch 0, layer 0:  60%|██████████████████████████████████████████▊                            | 6649/11016 [16:53<11:00,  6.62it/s, loss=-15.4]"
     ]
    },
    {
     "name": "stdout",
     "output_type": "stream",
     "text": [
      "2025-07-21 21:06:05,318 — INFO — layer 0, [0:6649], loss=-4.8696\n",
      "2025-07-21 21:06:05,318 — INFO — layer 0, [0:6649], loss=-17.3523\n"
     ]
    },
    {
     "name": "stderr",
     "output_type": "stream",
     "text": [
      "epoch 0, layer 0:  61%|███████████████████████████████████████████▏                           | 6699/11016 [17:00<11:20,  6.35it/s, loss=-15.6]"
     ]
    },
    {
     "name": "stdout",
     "output_type": "stream",
     "text": [
      "2025-07-21 21:06:12,962 — INFO — layer 0, [0:6699], loss=-25.0303\n",
      "2025-07-21 21:06:12,962 — INFO — layer 0, [0:6699], loss=-11.6429\n"
     ]
    },
    {
     "name": "stderr",
     "output_type": "stream",
     "text": [
      "epoch 0, layer 0:  61%|███████████████████████████████████████████▍                           | 6749/11016 [17:08<10:54,  6.52it/s, loss=-10.8]"
     ]
    },
    {
     "name": "stdout",
     "output_type": "stream",
     "text": [
      "2025-07-21 21:06:20,504 — INFO — layer 0, [0:6749], loss=-7.1678\n",
      "2025-07-21 21:06:20,504 — INFO — layer 0, [0:6749], loss=-23.0017\n"
     ]
    },
    {
     "name": "stderr",
     "output_type": "stream",
     "text": [
      "epoch 0, layer 0:  62%|███████████████████████████████████████████▊                           | 6799/11016 [17:15<10:15,  6.85it/s, loss=-7.86]"
     ]
    },
    {
     "name": "stdout",
     "output_type": "stream",
     "text": [
      "2025-07-21 21:06:27,970 — INFO — layer 0, [0:6799], loss=-10.3041\n",
      "2025-07-21 21:06:27,970 — INFO — layer 0, [0:6799], loss=-16.6643\n"
     ]
    },
    {
     "name": "stderr",
     "output_type": "stream",
     "text": [
      "epoch 0, layer 0:  62%|████████████████████████████████████████████▏                          | 6849/11016 [17:23<10:22,  6.69it/s, loss=-13.7]"
     ]
    },
    {
     "name": "stdout",
     "output_type": "stream",
     "text": [
      "2025-07-21 21:06:35,564 — INFO — layer 0, [0:6849], loss=-16.6550\n",
      "2025-07-21 21:06:35,564 — INFO — layer 0, [0:6849], loss=-13.2295\n"
     ]
    },
    {
     "name": "stderr",
     "output_type": "stream",
     "text": [
      "epoch 0, layer 0:  63%|████████████████████████████████████████████▍                          | 6899/11016 [17:31<10:31,  6.52it/s, loss=-20.8]"
     ]
    },
    {
     "name": "stdout",
     "output_type": "stream",
     "text": [
      "2025-07-21 21:06:43,223 — INFO — layer 0, [0:6899], loss=-13.8490\n",
      "2025-07-21 21:06:43,223 — INFO — layer 0, [0:6899], loss=-16.9751\n"
     ]
    },
    {
     "name": "stderr",
     "output_type": "stream",
     "text": [
      "epoch 0, layer 0:  63%|████████████████████████████████████████████▊                          | 6949/11016 [17:38<10:11,  6.65it/s, loss=-8.56]"
     ]
    },
    {
     "name": "stdout",
     "output_type": "stream",
     "text": [
      "2025-07-21 21:06:50,818 — INFO — layer 0, [0:6949], loss=-13.7873\n",
      "2025-07-21 21:06:50,818 — INFO — layer 0, [0:6949], loss=-16.8297\n"
     ]
    },
    {
     "name": "stderr",
     "output_type": "stream",
     "text": [
      "epoch 0, layer 0:  64%|█████████████████████████████████████████████                          | 6999/11016 [17:46<10:37,  6.30it/s, loss=-23.9]"
     ]
    },
    {
     "name": "stdout",
     "output_type": "stream",
     "text": [
      "2025-07-21 21:06:58,413 — INFO — layer 0, [0:6999], loss=-15.4472\n",
      "2025-07-21 21:06:58,413 — INFO — layer 0, [0:6999], loss=-1.4895\n"
     ]
    },
    {
     "name": "stderr",
     "output_type": "stream",
     "text": [
      "epoch 0, layer 0:  64%|█████████████████████████████████████████████▍                         | 7049/11016 [17:54<10:47,  6.12it/s, loss=-18.7]"
     ]
    },
    {
     "name": "stdout",
     "output_type": "stream",
     "text": [
      "2025-07-21 21:07:06,061 — INFO — layer 0, [0:7049], loss=-11.7563\n",
      "2025-07-21 21:07:06,061 — INFO — layer 0, [0:7049], loss=-7.5177\n"
     ]
    },
    {
     "name": "stderr",
     "output_type": "stream",
     "text": [
      "epoch 0, layer 0:  64%|█████████████████████████████████████████████▊                         | 7099/11016 [18:01<09:37,  6.78it/s, loss=-4.61]"
     ]
    },
    {
     "name": "stdout",
     "output_type": "stream",
     "text": [
      "2025-07-21 21:07:13,736 — INFO — layer 0, [0:7099], loss=-16.5380\n",
      "2025-07-21 21:07:13,736 — INFO — layer 0, [0:7099], loss=-17.5756\n"
     ]
    },
    {
     "name": "stderr",
     "output_type": "stream",
     "text": [
      "epoch 0, layer 0:  65%|██████████████████████████████████████████████                         | 7149/11016 [18:09<10:15,  6.28it/s, loss=-22.6]"
     ]
    },
    {
     "name": "stdout",
     "output_type": "stream",
     "text": [
      "2025-07-21 21:07:21,373 — INFO — layer 0, [0:7149], loss=-9.1658\n",
      "2025-07-21 21:07:21,373 — INFO — layer 0, [0:7149], loss=-15.2090\n"
     ]
    },
    {
     "name": "stderr",
     "output_type": "stream",
     "text": [
      "epoch 0, layer 0:  65%|██████████████████████████████████████████████▍                        | 7199/11016 [18:16<09:08,  6.95it/s, loss=-11.4]"
     ]
    },
    {
     "name": "stdout",
     "output_type": "stream",
     "text": [
      "2025-07-21 21:07:28,844 — INFO — layer 0, [0:7199], loss=-4.9776\n",
      "2025-07-21 21:07:28,844 — INFO — layer 0, [0:7199], loss=-12.2081\n"
     ]
    },
    {
     "name": "stderr",
     "output_type": "stream",
     "text": [
      "epoch 0, layer 0:  66%|██████████████████████████████████████████████▋                        | 7249/11016 [18:24<09:01,  6.96it/s, loss=-9.34]"
     ]
    },
    {
     "name": "stdout",
     "output_type": "stream",
     "text": [
      "2025-07-21 21:07:36,479 — INFO — layer 0, [0:7249], loss=-3.6092\n",
      "2025-07-21 21:07:36,479 — INFO — layer 0, [0:7249], loss=-11.3220\n"
     ]
    },
    {
     "name": "stderr",
     "output_type": "stream",
     "text": [
      "epoch 0, layer 0:  66%|███████████████████████████████████████████████                        | 7299/11016 [18:32<09:40,  6.40it/s, loss=-19.6]"
     ]
    },
    {
     "name": "stdout",
     "output_type": "stream",
     "text": [
      "2025-07-21 21:07:44,157 — INFO — layer 0, [0:7299], loss=-6.2500\n",
      "2025-07-21 21:07:44,157 — INFO — layer 0, [0:7299], loss=-7.2886\n"
     ]
    },
    {
     "name": "stderr",
     "output_type": "stream",
     "text": [
      "epoch 0, layer 0:  67%|███████████████████████████████████████████████▎                       | 7349/11016 [18:39<09:06,  6.71it/s, loss=-7.69]"
     ]
    },
    {
     "name": "stdout",
     "output_type": "stream",
     "text": [
      "2025-07-21 21:07:51,665 — INFO — layer 0, [0:7349], loss=-13.8495\n",
      "2025-07-21 21:07:51,665 — INFO — layer 0, [0:7349], loss=-19.1316\n"
     ]
    },
    {
     "name": "stderr",
     "output_type": "stream",
     "text": [
      "epoch 0, layer 0:  67%|███████████████████████████████████████████████▋                       | 7399/11016 [18:47<08:39,  6.97it/s, loss=-19.6]"
     ]
    },
    {
     "name": "stdout",
     "output_type": "stream",
     "text": [
      "2025-07-21 21:07:59,349 — INFO — layer 0, [0:7399], loss=-21.7071\n",
      "2025-07-21 21:07:59,349 — INFO — layer 0, [0:7399], loss=-2.5774\n"
     ]
    },
    {
     "name": "stderr",
     "output_type": "stream",
     "text": [
      "epoch 0, layer 0:  68%|████████████████████████████████████████████████                       | 7449/11016 [18:54<08:52,  6.70it/s, loss=-7.77]"
     ]
    },
    {
     "name": "stdout",
     "output_type": "stream",
     "text": [
      "2025-07-21 21:08:06,934 — INFO — layer 0, [0:7449], loss=-6.5100\n",
      "2025-07-21 21:08:06,934 — INFO — layer 0, [0:7449], loss=-10.9707\n"
     ]
    },
    {
     "name": "stderr",
     "output_type": "stream",
     "text": [
      "epoch 0, layer 0:  68%|█████████████████████████████████████████████████                       | 7499/11016 [19:02<09:04,  6.46it/s, loss=-9.8]"
     ]
    },
    {
     "name": "stdout",
     "output_type": "stream",
     "text": [
      "2025-07-21 21:08:14,615 — INFO — layer 0, [0:7499], loss=-10.8481\n",
      "2025-07-21 21:08:14,615 — INFO — layer 0, [0:7499], loss=-17.9060\n"
     ]
    },
    {
     "name": "stderr",
     "output_type": "stream",
     "text": [
      "epoch 0, layer 0:  69%|████████████████████████████████████████████████▋                      | 7549/11016 [19:10<08:37,  6.69it/s, loss=-17.1]"
     ]
    },
    {
     "name": "stdout",
     "output_type": "stream",
     "text": [
      "2025-07-21 21:08:22,185 — INFO — layer 0, [0:7549], loss=-6.8668\n",
      "2025-07-21 21:08:22,185 — INFO — layer 0, [0:7549], loss=-4.7546\n"
     ]
    },
    {
     "name": "stderr",
     "output_type": "stream",
     "text": [
      "epoch 0, layer 0:  69%|████████████████████████████████████████████████▉                      | 7599/11016 [19:17<08:54,  6.39it/s, loss=-21.6]"
     ]
    },
    {
     "name": "stdout",
     "output_type": "stream",
     "text": [
      "2025-07-21 21:08:29,613 — INFO — layer 0, [0:7599], loss=-14.3113\n",
      "2025-07-21 21:08:29,614 — INFO — layer 0, [0:7599], loss=-18.1773\n"
     ]
    },
    {
     "name": "stderr",
     "output_type": "stream",
     "text": [
      "epoch 0, layer 0:  69%|█████████████████████████████████████████████████▎                     | 7649/11016 [19:25<08:46,  6.40it/s, loss=-10.3]"
     ]
    },
    {
     "name": "stdout",
     "output_type": "stream",
     "text": [
      "2025-07-21 21:08:37,351 — INFO — layer 0, [0:7649], loss=-14.8477\n",
      "2025-07-21 21:08:37,351 — INFO — layer 0, [0:7649], loss=-14.7391\n"
     ]
    },
    {
     "name": "stderr",
     "output_type": "stream",
     "text": [
      "epoch 0, layer 0:  70%|█████████████████████████████████████████████████▌                     | 7699/11016 [19:32<08:32,  6.48it/s, loss=-16.8]"
     ]
    },
    {
     "name": "stdout",
     "output_type": "stream",
     "text": [
      "2025-07-21 21:08:45,036 — INFO — layer 0, [0:7699], loss=-23.9552\n",
      "2025-07-21 21:08:45,036 — INFO — layer 0, [0:7699], loss=-14.2948\n"
     ]
    },
    {
     "name": "stderr",
     "output_type": "stream",
     "text": [
      "epoch 0, layer 0:  70%|█████████████████████████████████████████████████▉                     | 7749/11016 [19:40<08:35,  6.33it/s, loss=-10.2]"
     ]
    },
    {
     "name": "stdout",
     "output_type": "stream",
     "text": [
      "2025-07-21 21:08:52,708 — INFO — layer 0, [0:7749], loss=-12.0046\n",
      "2025-07-21 21:08:52,708 — INFO — layer 0, [0:7749], loss=-10.2457\n"
     ]
    },
    {
     "name": "stderr",
     "output_type": "stream",
     "text": [
      "epoch 0, layer 0:  71%|██████████████████████████████████████████████████▎                    | 7799/11016 [19:48<08:13,  6.51it/s, loss=-19.9]"
     ]
    },
    {
     "name": "stdout",
     "output_type": "stream",
     "text": [
      "2025-07-21 21:09:00,405 — INFO — layer 0, [0:7799], loss=-14.8594\n",
      "2025-07-21 21:09:00,406 — INFO — layer 0, [0:7799], loss=-15.8016\n"
     ]
    },
    {
     "name": "stderr",
     "output_type": "stream",
     "text": [
      "epoch 0, layer 0:  71%|██████████████████████████████████████████████████▌                    | 7849/11016 [19:55<07:36,  6.93it/s, loss=-9.69]"
     ]
    },
    {
     "name": "stdout",
     "output_type": "stream",
     "text": [
      "2025-07-21 21:09:07,936 — INFO — layer 0, [0:7849], loss=-16.1186\n",
      "2025-07-21 21:09:07,936 — INFO — layer 0, [0:7849], loss=-13.5504\n"
     ]
    },
    {
     "name": "stderr",
     "output_type": "stream",
     "text": [
      "epoch 0, layer 0:  72%|██████████████████████████████████████████████████▉                    | 7899/11016 [20:03<07:51,  6.61it/s, loss=-4.12]"
     ]
    },
    {
     "name": "stdout",
     "output_type": "stream",
     "text": [
      "2025-07-21 21:09:15,475 — INFO — layer 0, [0:7899], loss=-19.7375\n",
      "2025-07-21 21:09:15,475 — INFO — layer 0, [0:7899], loss=-19.5049\n"
     ]
    },
    {
     "name": "stderr",
     "output_type": "stream",
     "text": [
      "epoch 0, layer 0:  72%|███████████████████████████████████████████████████▏                   | 7949/11016 [20:11<07:51,  6.51it/s, loss=-25.9]"
     ]
    },
    {
     "name": "stdout",
     "output_type": "stream",
     "text": [
      "2025-07-21 21:09:23,107 — INFO — layer 0, [0:7949], loss=-10.2069\n",
      "2025-07-21 21:09:23,107 — INFO — layer 0, [0:7949], loss=-7.9635\n"
     ]
    },
    {
     "name": "stderr",
     "output_type": "stream",
     "text": [
      "epoch 0, layer 0:  73%|███████████████████████████████████████████████████▌                   | 7999/11016 [20:18<07:45,  6.48it/s, loss=-7.24]"
     ]
    },
    {
     "name": "stdout",
     "output_type": "stream",
     "text": [
      "2025-07-21 21:09:30,769 — INFO — layer 0, [0:7999], loss=-16.4529\n",
      "2025-07-21 21:09:30,770 — INFO — layer 0, [0:7999], loss=-14.9904\n"
     ]
    },
    {
     "name": "stderr",
     "output_type": "stream",
     "text": [
      "epoch 0, layer 0:  73%|███████████████████████████████████████████████████▉                   | 8049/11016 [20:26<07:17,  6.78it/s, loss=-4.07]"
     ]
    },
    {
     "name": "stdout",
     "output_type": "stream",
     "text": [
      "2025-07-21 21:09:38,425 — INFO — layer 0, [0:8049], loss=-17.1480\n",
      "2025-07-21 21:09:38,425 — INFO — layer 0, [0:8049], loss=-21.2536\n"
     ]
    },
    {
     "name": "stderr",
     "output_type": "stream",
     "text": [
      "epoch 0, layer 0:  74%|████████████████████████████████████████████████████▏                  | 8099/11016 [20:33<07:12,  6.74it/s, loss=-9.38]"
     ]
    },
    {
     "name": "stdout",
     "output_type": "stream",
     "text": [
      "2025-07-21 21:09:46,028 — INFO — layer 0, [0:8099], loss=-12.7194\n",
      "2025-07-21 21:09:46,028 — INFO — layer 0, [0:8099], loss=-27.7869\n"
     ]
    },
    {
     "name": "stderr",
     "output_type": "stream",
     "text": [
      "epoch 0, layer 0:  74%|████████████████████████████████████████████████████▌                  | 8149/11016 [20:41<07:36,  6.28it/s, loss=-14.4]"
     ]
    },
    {
     "name": "stdout",
     "output_type": "stream",
     "text": [
      "2025-07-21 21:09:53,658 — INFO — layer 0, [0:8149], loss=-16.7985\n",
      "2025-07-21 21:09:53,658 — INFO — layer 0, [0:8149], loss=-17.0518\n"
     ]
    },
    {
     "name": "stderr",
     "output_type": "stream",
     "text": [
      "epoch 0, layer 0:  74%|████████████████████████████████████████████████████▊                  | 8199/11016 [20:49<07:02,  6.67it/s, loss=-10.3]"
     ]
    },
    {
     "name": "stdout",
     "output_type": "stream",
     "text": [
      "2025-07-21 21:10:01,242 — INFO — layer 0, [0:8199], loss=-11.9319\n",
      "2025-07-21 21:10:01,243 — INFO — layer 0, [0:8199], loss=-8.5397\n"
     ]
    },
    {
     "name": "stderr",
     "output_type": "stream",
     "text": [
      "epoch 0, layer 0:  75%|█████████████████████████████████████████████████████▏                 | 8249/11016 [20:56<07:01,  6.57it/s, loss=-10.8]"
     ]
    },
    {
     "name": "stdout",
     "output_type": "stream",
     "text": [
      "2025-07-21 21:10:08,958 — INFO — layer 0, [0:8249], loss=-12.6081\n",
      "2025-07-21 21:10:08,958 — INFO — layer 0, [0:8249], loss=-7.8873\n"
     ]
    },
    {
     "name": "stderr",
     "output_type": "stream",
     "text": [
      "epoch 0, layer 0:  75%|█████████████████████████████████████████████████████▍                 | 8299/11016 [21:04<06:56,  6.52it/s, loss=-20.3]"
     ]
    },
    {
     "name": "stdout",
     "output_type": "stream",
     "text": [
      "2025-07-21 21:10:16,496 — INFO — layer 0, [0:8299], loss=-13.4397\n",
      "2025-07-21 21:10:16,496 — INFO — layer 0, [0:8299], loss=-3.5651\n"
     ]
    },
    {
     "name": "stderr",
     "output_type": "stream",
     "text": [
      "epoch 0, layer 0:  76%|█████████████████████████████████████████████████████▊                 | 8349/11016 [21:12<07:04,  6.29it/s, loss=-14.9]"
     ]
    },
    {
     "name": "stdout",
     "output_type": "stream",
     "text": [
      "2025-07-21 21:10:24,157 — INFO — layer 0, [0:8349], loss=-11.2643\n",
      "2025-07-21 21:10:24,157 — INFO — layer 0, [0:8349], loss=-17.5308\n"
     ]
    },
    {
     "name": "stderr",
     "output_type": "stream",
     "text": [
      "epoch 0, layer 0:  76%|██████████████████████████████████████████████████████▏                | 8399/11016 [21:19<06:47,  6.42it/s, loss=-11.5]"
     ]
    },
    {
     "name": "stdout",
     "output_type": "stream",
     "text": [
      "2025-07-21 21:10:31,607 — INFO — layer 0, [0:8399], loss=-13.1623\n",
      "2025-07-21 21:10:31,607 — INFO — layer 0, [0:8399], loss=-20.8823\n"
     ]
    },
    {
     "name": "stderr",
     "output_type": "stream",
     "text": [
      "epoch 0, layer 0:  77%|██████████████████████████████████████████████████████▍                | 8449/11016 [21:27<06:57,  6.16it/s, loss=-10.1]"
     ]
    },
    {
     "name": "stdout",
     "output_type": "stream",
     "text": [
      "2025-07-21 21:10:39,139 — INFO — layer 0, [0:8449], loss=-13.6303\n",
      "2025-07-21 21:10:39,139 — INFO — layer 0, [0:8449], loss=-12.9303\n"
     ]
    },
    {
     "name": "stderr",
     "output_type": "stream",
     "text": [
      "epoch 0, layer 0:  77%|██████████████████████████████████████████████████████▊                | 8499/11016 [21:34<06:48,  6.16it/s, loss=-11.2]"
     ]
    },
    {
     "name": "stdout",
     "output_type": "stream",
     "text": [
      "2025-07-21 21:10:46,772 — INFO — layer 0, [0:8499], loss=-13.8104\n",
      "2025-07-21 21:10:46,772 — INFO — layer 0, [0:8499], loss=-7.1897\n"
     ]
    },
    {
     "name": "stderr",
     "output_type": "stream",
     "text": [
      "epoch 0, layer 0:  78%|███████████████████████████████████████████████████████                | 8549/11016 [21:42<06:21,  6.47it/s, loss=-15.4]"
     ]
    },
    {
     "name": "stdout",
     "output_type": "stream",
     "text": [
      "2025-07-21 21:10:54,276 — INFO — layer 0, [0:8549], loss=-7.5615\n",
      "2025-07-21 21:10:54,277 — INFO — layer 0, [0:8549], loss=-16.2370\n"
     ]
    },
    {
     "name": "stderr",
     "output_type": "stream",
     "text": [
      "epoch 0, layer 0:  78%|███████████████████████████████████████████████████████▍               | 8599/11016 [21:49<06:07,  6.58it/s, loss=-13.1]"
     ]
    },
    {
     "name": "stdout",
     "output_type": "stream",
     "text": [
      "2025-07-21 21:11:01,871 — INFO — layer 0, [0:8599], loss=-9.9802\n",
      "2025-07-21 21:11:01,871 — INFO — layer 0, [0:8599], loss=-11.2910\n"
     ]
    },
    {
     "name": "stderr",
     "output_type": "stream",
     "text": [
      "epoch 0, layer 0:  79%|███████████████████████████████████████████████████████▋               | 8649/11016 [21:57<05:42,  6.92it/s, loss=-13.6]"
     ]
    },
    {
     "name": "stdout",
     "output_type": "stream",
     "text": [
      "2025-07-21 21:11:09,461 — INFO — layer 0, [0:8649], loss=-11.4570\n",
      "2025-07-21 21:11:09,461 — INFO — layer 0, [0:8649], loss=-9.3421\n"
     ]
    },
    {
     "name": "stderr",
     "output_type": "stream",
     "text": [
      "epoch 0, layer 0:  79%|████████████████████████████████████████████████████████               | 8699/11016 [22:05<06:23,  6.04it/s, loss=-18.5]"
     ]
    },
    {
     "name": "stdout",
     "output_type": "stream",
     "text": [
      "2025-07-21 21:11:17,098 — INFO — layer 0, [0:8699], loss=-7.8271\n",
      "2025-07-21 21:11:17,098 — INFO — layer 0, [0:8699], loss=-3.9270\n"
     ]
    },
    {
     "name": "stderr",
     "output_type": "stream",
     "text": [
      "epoch 0, layer 0:  79%|█████████████████████████████████████████████████████████▉               | 8749/11016 [22:12<05:46,  6.54it/s, loss=-14]"
     ]
    },
    {
     "name": "stdout",
     "output_type": "stream",
     "text": [
      "2025-07-21 21:11:24,754 — INFO — layer 0, [0:8749], loss=-15.9534\n",
      "2025-07-21 21:11:24,754 — INFO — layer 0, [0:8749], loss=-17.2270\n"
     ]
    },
    {
     "name": "stderr",
     "output_type": "stream",
     "text": [
      "epoch 0, layer 0:  80%|████████████████████████████████████████████████████████▋              | 8799/11016 [22:20<05:34,  6.63it/s, loss=0.197]"
     ]
    },
    {
     "name": "stdout",
     "output_type": "stream",
     "text": [
      "2025-07-21 21:11:32,308 — INFO — layer 0, [0:8799], loss=-7.5677\n",
      "2025-07-21 21:11:32,309 — INFO — layer 0, [0:8799], loss=-13.5502\n"
     ]
    },
    {
     "name": "stderr",
     "output_type": "stream",
     "text": [
      "epoch 0, layer 0:  80%|█████████████████████████████████████████████████████████              | 8849/11016 [22:27<05:13,  6.92it/s, loss=-14.1]"
     ]
    },
    {
     "name": "stdout",
     "output_type": "stream",
     "text": [
      "2025-07-21 21:11:39,830 — INFO — layer 0, [0:8849], loss=-11.1386\n",
      "2025-07-21 21:11:39,830 — INFO — layer 0, [0:8849], loss=-11.0811\n"
     ]
    },
    {
     "name": "stderr",
     "output_type": "stream",
     "text": [
      "epoch 0, layer 0:  81%|█████████████████████████████████████████████████████████▎             | 8899/11016 [22:35<05:21,  6.59it/s, loss=-15.3]"
     ]
    },
    {
     "name": "stdout",
     "output_type": "stream",
     "text": [
      "2025-07-21 21:11:47,549 — INFO — layer 0, [0:8899], loss=-9.3188\n",
      "2025-07-21 21:11:47,549 — INFO — layer 0, [0:8899], loss=-11.8530\n"
     ]
    },
    {
     "name": "stderr",
     "output_type": "stream",
     "text": [
      "epoch 0, layer 0:  81%|█████████████████████████████████████████████████████████▋             | 8949/11016 [22:42<05:08,  6.71it/s, loss=-14.4]"
     ]
    },
    {
     "name": "stdout",
     "output_type": "stream",
     "text": [
      "2025-07-21 21:11:54,948 — INFO — layer 0, [0:8949], loss=-13.9477\n",
      "2025-07-21 21:11:54,948 — INFO — layer 0, [0:8949], loss=-4.0761\n"
     ]
    },
    {
     "name": "stderr",
     "output_type": "stream",
     "text": [
      "epoch 0, layer 0:  82%|██████████████████████████████████████████████████████████             | 8999/11016 [22:50<05:23,  6.23it/s, loss=-22.3]"
     ]
    },
    {
     "name": "stdout",
     "output_type": "stream",
     "text": [
      "2025-07-21 21:12:02,515 — INFO — layer 0, [0:8999], loss=-17.6593\n",
      "2025-07-21 21:12:02,515 — INFO — layer 0, [0:8999], loss=-23.2509\n"
     ]
    },
    {
     "name": "stderr",
     "output_type": "stream",
     "text": [
      "epoch 0, layer 0:  82%|██████████████████████████████████████████████████████████▎            | 9049/11016 [22:58<04:59,  6.57it/s, loss=-6.15]"
     ]
    },
    {
     "name": "stdout",
     "output_type": "stream",
     "text": [
      "2025-07-21 21:12:10,203 — INFO — layer 0, [0:9049], loss=-13.1929\n",
      "2025-07-21 21:12:10,203 — INFO — layer 0, [0:9049], loss=-24.4051\n"
     ]
    },
    {
     "name": "stderr",
     "output_type": "stream",
     "text": [
      "epoch 0, layer 0:  83%|██████████████████████████████████████████████████████████▋            | 9099/11016 [23:05<05:40,  5.63it/s, loss=-15.2]"
     ]
    },
    {
     "name": "stdout",
     "output_type": "stream",
     "text": [
      "2025-07-21 21:12:17,758 — INFO — layer 0, [0:9099], loss=-16.1241\n",
      "2025-07-21 21:12:17,758 — INFO — layer 0, [0:9099], loss=-7.1454\n"
     ]
    },
    {
     "name": "stderr",
     "output_type": "stream",
     "text": [
      "epoch 0, layer 0:  83%|██████████████████████████████████████████████████████████▉            | 9149/11016 [23:13<04:41,  6.64it/s, loss=-13.7]"
     ]
    },
    {
     "name": "stdout",
     "output_type": "stream",
     "text": [
      "2025-07-21 21:12:25,280 — INFO — layer 0, [0:9149], loss=-8.8044\n",
      "2025-07-21 21:12:25,280 — INFO — layer 0, [0:9149], loss=-21.2036\n"
     ]
    },
    {
     "name": "stderr",
     "output_type": "stream",
     "text": [
      "epoch 0, layer 0:  84%|███████████████████████████████████████████████████████████▎           | 9199/11016 [23:20<04:37,  6.55it/s, loss=-4.82]"
     ]
    },
    {
     "name": "stdout",
     "output_type": "stream",
     "text": [
      "2025-07-21 21:12:32,874 — INFO — layer 0, [0:9199], loss=-3.7267\n",
      "2025-07-21 21:12:32,874 — INFO — layer 0, [0:9199], loss=-14.9570\n"
     ]
    },
    {
     "name": "stderr",
     "output_type": "stream",
     "text": [
      "epoch 0, layer 0:  84%|███████████████████████████████████████████████████████████▌           | 9249/11016 [23:28<04:28,  6.58it/s, loss=-11.2]"
     ]
    },
    {
     "name": "stdout",
     "output_type": "stream",
     "text": [
      "2025-07-21 21:12:40,488 — INFO — layer 0, [0:9249], loss=-20.9073\n",
      "2025-07-21 21:12:40,488 — INFO — layer 0, [0:9249], loss=-14.2436\n"
     ]
    },
    {
     "name": "stderr",
     "output_type": "stream",
     "text": [
      "epoch 0, layer 0:  84%|███████████████████████████████████████████████████████████▉           | 9299/11016 [23:36<04:21,  6.56it/s, loss=-15.6]"
     ]
    },
    {
     "name": "stdout",
     "output_type": "stream",
     "text": [
      "2025-07-21 21:12:48,215 — INFO — layer 0, [0:9299], loss=-18.9307\n",
      "2025-07-21 21:12:48,215 — INFO — layer 0, [0:9299], loss=-13.2480\n"
     ]
    },
    {
     "name": "stderr",
     "output_type": "stream",
     "text": [
      "epoch 0, layer 0:  85%|████████████████████████████████████████████████████████████▎          | 9349/11016 [23:43<04:13,  6.58it/s, loss=-17.1]"
     ]
    },
    {
     "name": "stdout",
     "output_type": "stream",
     "text": [
      "2025-07-21 21:12:55,853 — INFO — layer 0, [0:9349], loss=-13.6882\n",
      "2025-07-21 21:12:55,853 — INFO — layer 0, [0:9349], loss=-20.0222\n"
     ]
    },
    {
     "name": "stderr",
     "output_type": "stream",
     "text": [
      "epoch 0, layer 0:  85%|████████████████████████████████████████████████████████████▌          | 9399/11016 [23:51<04:08,  6.49it/s, loss=-17.6]"
     ]
    },
    {
     "name": "stdout",
     "output_type": "stream",
     "text": [
      "2025-07-21 21:13:03,399 — INFO — layer 0, [0:9399], loss=-6.3562\n",
      "2025-07-21 21:13:03,399 — INFO — layer 0, [0:9399], loss=-9.1875\n"
     ]
    },
    {
     "name": "stderr",
     "output_type": "stream",
     "text": [
      "epoch 0, layer 0:  86%|████████████████████████████████████████████████████████████▉          | 9449/11016 [23:59<04:09,  6.28it/s, loss=-15.9]"
     ]
    },
    {
     "name": "stdout",
     "output_type": "stream",
     "text": [
      "2025-07-21 21:13:11,245 — INFO — layer 0, [0:9449], loss=-7.7774\n",
      "2025-07-21 21:13:11,245 — INFO — layer 0, [0:9449], loss=-9.4402\n"
     ]
    },
    {
     "name": "stderr",
     "output_type": "stream",
     "text": [
      "epoch 0, layer 0:  86%|█████████████████████████████████████████████████████████████▏         | 9499/11016 [24:06<04:00,  6.30it/s, loss=-12.3]"
     ]
    },
    {
     "name": "stdout",
     "output_type": "stream",
     "text": [
      "2025-07-21 21:13:18,791 — INFO — layer 0, [0:9499], loss=-12.7681\n",
      "2025-07-21 21:13:18,791 — INFO — layer 0, [0:9499], loss=-13.8806\n"
     ]
    },
    {
     "name": "stderr",
     "output_type": "stream",
     "text": [
      "epoch 0, layer 0:  87%|█████████████████████████████████████████████████████████████▌         | 9549/11016 [24:14<03:38,  6.70it/s, loss=-7.84]"
     ]
    },
    {
     "name": "stdout",
     "output_type": "stream",
     "text": [
      "2025-07-21 21:13:26,319 — INFO — layer 0, [0:9549], loss=-18.1024\n",
      "2025-07-21 21:13:26,319 — INFO — layer 0, [0:9549], loss=-14.3138\n"
     ]
    },
    {
     "name": "stderr",
     "output_type": "stream",
     "text": [
      "epoch 0, layer 0:  87%|█████████████████████████████████████████████████████████████▊         | 9599/11016 [24:21<03:27,  6.83it/s, loss=-7.33]"
     ]
    },
    {
     "name": "stdout",
     "output_type": "stream",
     "text": [
      "2025-07-21 21:13:33,981 — INFO — layer 0, [0:9599], loss=-18.2141\n",
      "2025-07-21 21:13:33,981 — INFO — layer 0, [0:9599], loss=-12.0918\n"
     ]
    },
    {
     "name": "stderr",
     "output_type": "stream",
     "text": [
      "epoch 0, layer 0:  88%|███████████████████████████████████████████████████████████████▉         | 9649/11016 [24:29<03:27,  6.57it/s, loss=-10]"
     ]
    },
    {
     "name": "stdout",
     "output_type": "stream",
     "text": [
      "2025-07-21 21:13:41,590 — INFO — layer 0, [0:9649], loss=-10.1118\n",
      "2025-07-21 21:13:41,590 — INFO — layer 0, [0:9649], loss=-14.4402\n"
     ]
    },
    {
     "name": "stderr",
     "output_type": "stream",
     "text": [
      "epoch 0, layer 0:  88%|██████████████████████████████████████████████████████████████▌        | 9699/11016 [24:37<03:29,  6.30it/s, loss=-14.7]"
     ]
    },
    {
     "name": "stdout",
     "output_type": "stream",
     "text": [
      "2025-07-21 21:13:49,150 — INFO — layer 0, [0:9699], loss=-12.7885\n",
      "2025-07-21 21:13:49,150 — INFO — layer 0, [0:9699], loss=-17.4863\n"
     ]
    },
    {
     "name": "stderr",
     "output_type": "stream",
     "text": [
      "epoch 0, layer 0:  88%|██████████████████████████████████████████████████████████████▊        | 9749/11016 [24:44<03:14,  6.50it/s, loss=-14.1]"
     ]
    },
    {
     "name": "stdout",
     "output_type": "stream",
     "text": [
      "2025-07-21 21:13:56,593 — INFO — layer 0, [0:9749], loss=-8.1020\n",
      "2025-07-21 21:13:56,593 — INFO — layer 0, [0:9749], loss=-21.8811\n"
     ]
    },
    {
     "name": "stderr",
     "output_type": "stream",
     "text": [
      "epoch 0, layer 0:  89%|████████████████████████████████████████████████████████████████▉        | 9799/11016 [24:52<03:05,  6.54it/s, loss=-12]"
     ]
    },
    {
     "name": "stdout",
     "output_type": "stream",
     "text": [
      "2025-07-21 21:14:04,310 — INFO — layer 0, [0:9799], loss=-16.5026\n",
      "2025-07-21 21:14:04,310 — INFO — layer 0, [0:9799], loss=-15.1242\n"
     ]
    },
    {
     "name": "stderr",
     "output_type": "stream",
     "text": [
      "epoch 0, layer 0:  89%|███████████████████████████████████████████████████████████████▍       | 9849/11016 [24:59<03:02,  6.39it/s, loss=-8.39]"
     ]
    },
    {
     "name": "stdout",
     "output_type": "stream",
     "text": [
      "2025-07-21 21:14:11,886 — INFO — layer 0, [0:9849], loss=-5.7136\n",
      "2025-07-21 21:14:11,886 — INFO — layer 0, [0:9849], loss=-13.6751\n"
     ]
    },
    {
     "name": "stderr",
     "output_type": "stream",
     "text": [
      "epoch 0, layer 0:  90%|███████████████████████████████████████████████████████████████▊       | 9899/11016 [25:07<02:45,  6.73it/s, loss=-14.4]"
     ]
    },
    {
     "name": "stdout",
     "output_type": "stream",
     "text": [
      "2025-07-21 21:14:19,338 — INFO — layer 0, [0:9899], loss=-15.2099\n",
      "2025-07-21 21:14:19,338 — INFO — layer 0, [0:9899], loss=-13.7862\n"
     ]
    },
    {
     "name": "stderr",
     "output_type": "stream",
     "text": [
      "epoch 0, layer 0:  90%|████████████████████████████████████████████████████████████████       | 9949/11016 [25:14<02:46,  6.41it/s, loss=-16.3]"
     ]
    },
    {
     "name": "stdout",
     "output_type": "stream",
     "text": [
      "2025-07-21 21:14:26,837 — INFO — layer 0, [0:9949], loss=-9.7675\n",
      "2025-07-21 21:14:26,837 — INFO — layer 0, [0:9949], loss=-13.1037\n"
     ]
    },
    {
     "name": "stderr",
     "output_type": "stream",
     "text": [
      "epoch 0, layer 0:  91%|████████████████████████████████████████████████████████████████▍      | 9999/11016 [25:22<02:29,  6.83it/s, loss=-6.39]"
     ]
    },
    {
     "name": "stdout",
     "output_type": "stream",
     "text": [
      "2025-07-21 21:14:34,360 — INFO — layer 0, [0:9999], loss=-11.8440\n",
      "2025-07-21 21:14:34,360 — INFO — layer 0, [0:9999], loss=-12.3159\n"
     ]
    },
    {
     "name": "stderr",
     "output_type": "stream",
     "text": [
      "epoch 0, layer 0:  91%|█████████████████████████████████████████████████████████████████▋      | 10049/11016 [25:29<02:22,  6.79it/s, loss=-16]"
     ]
    },
    {
     "name": "stdout",
     "output_type": "stream",
     "text": [
      "2025-07-21 21:14:41,961 — INFO — layer 0, [0:10049], loss=-13.5169\n",
      "2025-07-21 21:14:41,961 — INFO — layer 0, [0:10049], loss=-17.9762\n"
     ]
    },
    {
     "name": "stderr",
     "output_type": "stream",
     "text": [
      "epoch 0, layer 0:  92%|████████████████████████████████████████████████████████████████▏     | 10099/11016 [25:37<02:21,  6.48it/s, loss=-18.3]"
     ]
    },
    {
     "name": "stdout",
     "output_type": "stream",
     "text": [
      "2025-07-21 21:14:49,503 — INFO — layer 0, [0:10099], loss=-17.3512\n",
      "2025-07-21 21:14:49,503 — INFO — layer 0, [0:10099], loss=-10.1412\n"
     ]
    },
    {
     "name": "stderr",
     "output_type": "stream",
     "text": [
      "epoch 0, layer 0:  92%|████████████████████████████████████████████████████████████████▍     | 10149/11016 [25:44<02:15,  6.42it/s, loss=-15.6]"
     ]
    },
    {
     "name": "stdout",
     "output_type": "stream",
     "text": [
      "2025-07-21 21:14:57,030 — INFO — layer 0, [0:10149], loss=-17.5405\n",
      "2025-07-21 21:14:57,030 — INFO — layer 0, [0:10149], loss=-15.3588\n"
     ]
    },
    {
     "name": "stderr",
     "output_type": "stream",
     "text": [
      "epoch 0, layer 0:  93%|████████████████████████████████████████████████████████████████▊     | 10199/11016 [25:52<02:07,  6.39it/s, loss=-5.83]"
     ]
    },
    {
     "name": "stdout",
     "output_type": "stream",
     "text": [
      "2025-07-21 21:15:04,738 — INFO — layer 0, [0:10199], loss=-10.5187\n",
      "2025-07-21 21:15:04,738 — INFO — layer 0, [0:10199], loss=-14.0795\n"
     ]
    },
    {
     "name": "stderr",
     "output_type": "stream",
     "text": [
      "epoch 0, layer 0:  93%|█████████████████████████████████████████████████████████████████▏    | 10249/11016 [26:00<01:55,  6.65it/s, loss=-10.6]"
     ]
    },
    {
     "name": "stdout",
     "output_type": "stream",
     "text": [
      "2025-07-21 21:15:12,430 — INFO — layer 0, [0:10249], loss=-7.3257\n",
      "2025-07-21 21:15:12,430 — INFO — layer 0, [0:10249], loss=-11.7704\n"
     ]
    },
    {
     "name": "stderr",
     "output_type": "stream",
     "text": [
      "epoch 0, layer 0:  93%|█████████████████████████████████████████████████████████████████▍    | 10299/11016 [26:08<01:49,  6.55it/s, loss=-19.6]"
     ]
    },
    {
     "name": "stdout",
     "output_type": "stream",
     "text": [
      "2025-07-21 21:15:20,184 — INFO — layer 0, [0:10299], loss=-7.5525\n",
      "2025-07-21 21:15:20,184 — INFO — layer 0, [0:10299], loss=-19.9114\n"
     ]
    },
    {
     "name": "stderr",
     "output_type": "stream",
     "text": [
      "epoch 0, layer 0:  94%|█████████████████████████████████████████████████████████████████▊    | 10349/11016 [26:15<01:46,  6.28it/s, loss=-11.3]"
     ]
    },
    {
     "name": "stdout",
     "output_type": "stream",
     "text": [
      "2025-07-21 21:15:27,800 — INFO — layer 0, [0:10349], loss=-18.3179\n",
      "2025-07-21 21:15:27,800 — INFO — layer 0, [0:10349], loss=-14.9706\n"
     ]
    },
    {
     "name": "stderr",
     "output_type": "stream",
     "text": [
      "epoch 0, layer 0:  94%|██████████████████████████████████████████████████████████████████    | 10399/11016 [26:23<01:36,  6.41it/s, loss=-7.72]"
     ]
    },
    {
     "name": "stdout",
     "output_type": "stream",
     "text": [
      "2025-07-21 21:15:35,390 — INFO — layer 0, [0:10399], loss=-21.8407\n",
      "2025-07-21 21:15:35,390 — INFO — layer 0, [0:10399], loss=-15.0694\n"
     ]
    },
    {
     "name": "stderr",
     "output_type": "stream",
     "text": [
      "epoch 0, layer 0:  95%|██████████████████████████████████████████████████████████████████▍   | 10449/11016 [26:30<01:23,  6.82it/s, loss=-12.8]"
     ]
    },
    {
     "name": "stdout",
     "output_type": "stream",
     "text": [
      "2025-07-21 21:15:43,022 — INFO — layer 0, [0:10449], loss=-21.1764\n",
      "2025-07-21 21:15:43,022 — INFO — layer 0, [0:10449], loss=-7.1987\n"
     ]
    },
    {
     "name": "stderr",
     "output_type": "stream",
     "text": [
      "epoch 0, layer 0:  95%|██████████████████████████████████████████████████████████████████▋   | 10499/11016 [26:38<01:23,  6.22it/s, loss=-8.61]"
     ]
    },
    {
     "name": "stdout",
     "output_type": "stream",
     "text": [
      "2025-07-21 21:15:50,725 — INFO — layer 0, [0:10499], loss=-20.9179\n",
      "2025-07-21 21:15:50,725 — INFO — layer 0, [0:10499], loss=-20.6800\n"
     ]
    },
    {
     "name": "stderr",
     "output_type": "stream",
     "text": [
      "epoch 0, layer 0:  96%|███████████████████████████████████████████████████████████████████   | 10549/11016 [26:46<01:09,  6.76it/s, loss=-21.2]"
     ]
    },
    {
     "name": "stdout",
     "output_type": "stream",
     "text": [
      "2025-07-21 21:15:58,322 — INFO — layer 0, [0:10549], loss=-4.6079\n",
      "2025-07-21 21:15:58,322 — INFO — layer 0, [0:10549], loss=-6.4063\n"
     ]
    },
    {
     "name": "stderr",
     "output_type": "stream",
     "text": [
      "epoch 0, layer 0:  96%|███████████████████████████████████████████████████████████████████▎  | 10599/11016 [26:54<01:05,  6.35it/s, loss=-11.2]"
     ]
    },
    {
     "name": "stdout",
     "output_type": "stream",
     "text": [
      "2025-07-21 21:16:06,126 — INFO — layer 0, [0:10599], loss=-8.0863\n",
      "2025-07-21 21:16:06,126 — INFO — layer 0, [0:10599], loss=-19.2859\n"
     ]
    },
    {
     "name": "stderr",
     "output_type": "stream",
     "text": [
      "epoch 0, layer 0:  97%|███████████████████████████████████████████████████████████████████▋  | 10649/11016 [27:01<00:54,  6.73it/s, loss=-13.3]"
     ]
    },
    {
     "name": "stdout",
     "output_type": "stream",
     "text": [
      "2025-07-21 21:16:13,723 — INFO — layer 0, [0:10649], loss=0.4617\n",
      "2025-07-21 21:16:13,723 — INFO — layer 0, [0:10649], loss=-10.9753\n"
     ]
    },
    {
     "name": "stderr",
     "output_type": "stream",
     "text": [
      "epoch 0, layer 0:  97%|███████████████████████████████████████████████████████████████████▉  | 10699/11016 [27:09<00:47,  6.67it/s, loss=-13.7]"
     ]
    },
    {
     "name": "stdout",
     "output_type": "stream",
     "text": [
      "2025-07-21 21:16:21,493 — INFO — layer 0, [0:10699], loss=-18.2198\n",
      "2025-07-21 21:16:21,493 — INFO — layer 0, [0:10699], loss=-3.2414\n"
     ]
    },
    {
     "name": "stderr",
     "output_type": "stream",
     "text": [
      "epoch 0, layer 0:  98%|█████████████████████████████████████████████████████████████████████▎ | 10749/11016 [27:16<00:40,  6.53it/s, loss=-5.2]"
     ]
    },
    {
     "name": "stdout",
     "output_type": "stream",
     "text": [
      "2025-07-21 21:16:29,042 — INFO — layer 0, [0:10749], loss=-11.2822\n",
      "2025-07-21 21:16:29,042 — INFO — layer 0, [0:10749], loss=-10.5570\n"
     ]
    },
    {
     "name": "stderr",
     "output_type": "stream",
     "text": [
      "epoch 0, layer 0:  98%|████████████████████████████████████████████████████████████████████▌ | 10799/11016 [27:24<00:32,  6.65it/s, loss=-15.8]"
     ]
    },
    {
     "name": "stdout",
     "output_type": "stream",
     "text": [
      "2025-07-21 21:16:36,482 — INFO — layer 0, [0:10799], loss=-17.0467\n",
      "2025-07-21 21:16:36,482 — INFO — layer 0, [0:10799], loss=-11.9005\n"
     ]
    },
    {
     "name": "stderr",
     "output_type": "stream",
     "text": [
      "epoch 0, layer 0:  98%|████████████████████████████████████████████████████████████████████▉ | 10849/11016 [27:31<00:25,  6.46it/s, loss=-14.3]"
     ]
    },
    {
     "name": "stdout",
     "output_type": "stream",
     "text": [
      "2025-07-21 21:16:43,964 — INFO — layer 0, [0:10849], loss=-18.1735\n",
      "2025-07-21 21:16:43,964 — INFO — layer 0, [0:10849], loss=-21.1916\n"
     ]
    },
    {
     "name": "stderr",
     "output_type": "stream",
     "text": [
      "epoch 0, layer 0:  99%|█████████████████████████████████████████████████████████████████████▎| 10899/11016 [27:39<00:17,  6.82it/s, loss=-5.74]"
     ]
    },
    {
     "name": "stdout",
     "output_type": "stream",
     "text": [
      "2025-07-21 21:16:51,449 — INFO — layer 0, [0:10899], loss=-14.3771\n",
      "2025-07-21 21:16:51,449 — INFO — layer 0, [0:10899], loss=-25.6521\n"
     ]
    },
    {
     "name": "stderr",
     "output_type": "stream",
     "text": [
      "epoch 0, layer 0:  99%|█████████████████████████████████████████████████████████████████████▌| 10949/11016 [27:47<00:10,  6.52it/s, loss=-15.7]"
     ]
    },
    {
     "name": "stdout",
     "output_type": "stream",
     "text": [
      "2025-07-21 21:16:59,210 — INFO — layer 0, [0:10949], loss=-12.6039\n",
      "2025-07-21 21:16:59,210 — INFO — layer 0, [0:10949], loss=-22.0839\n"
     ]
    },
    {
     "name": "stderr",
     "output_type": "stream",
     "text": [
      "epoch 0, layer 0: 100%|█████████████████████████████████████████████████████████████████████▉| 10999/11016 [27:54<00:02,  6.81it/s, loss=-20.8]"
     ]
    },
    {
     "name": "stdout",
     "output_type": "stream",
     "text": [
      "2025-07-21 21:17:06,825 — INFO — layer 0, [0:10999], loss=-5.3987\n",
      "2025-07-21 21:17:06,825 — INFO — layer 0, [0:10999], loss=-18.2786\n"
     ]
    },
    {
     "name": "stderr",
     "output_type": "stream",
     "text": [
      "epoch 1, layer 0:   0%|                                                                                              | 0/11016 [00:00<?, ?it/s]huggingface/tokenizers: The current process just got forked, after parallelism has already been used. Disabling parallelism to avoid deadlocks...\n",
      "To disable this warning, you can either:\n",
      "\t- Avoid using `tokenizers` before the fork if possible\n",
      "\t- Explicitly set the environment variable TOKENIZERS_PARALLELISM=(true | false)\n",
      "huggingface/tokenizers: The current process just got forked, after parallelism has already been used. Disabling parallelism to avoid deadlocks...\n",
      "To disable this warning, you can either:\n",
      "\t- Avoid using `tokenizers` before the fork if possible\n",
      "\t- Explicitly set the environment variable TOKENIZERS_PARALLELISM=(true | false)\n",
      "huggingface/tokenizers: The current process just got forked, after parallelism has already been used. Disabling parallelism to avoid deadlocks...\n",
      "To disable this warning, you can either:\n",
      "\t- Avoid using `tokenizers` before the fork if possible\n",
      "\t- Explicitly set the environment variable TOKENIZERS_PARALLELISM=(true | false)\n",
      "huggingface/tokenizers: The current process just got forked, after parallelism has already been used. Disabling parallelism to avoid deadlocks...\n",
      "To disable this warning, you can either:\n",
      "\t- Avoid using `tokenizers` before the fork if possible\n",
      "\t- Explicitly set the environment variable TOKENIZERS_PARALLELISM=(true | false)\n",
      "huggingface/tokenizers: The current process just got forked, after parallelism has already been used. Disabling parallelism to avoid deadlocks...\n",
      "To disable this warning, you can either:\n",
      "\t- Avoid using `tokenizers` before the fork if possible\n",
      "\t- Explicitly set the environment variable TOKENIZERS_PARALLELISM=(true | false)\n",
      "huggingface/tokenizers: The current process just got forked, after parallelism has already been used. Disabling parallelism to avoid deadlocks...\n",
      "To disable this warning, you can either:\n",
      "\t- Avoid using `tokenizers` before the fork if possible\n",
      "\t- Explicitly set the environment variable TOKENIZERS_PARALLELISM=(true | false)\n",
      "huggingface/tokenizers: The current process just got forked, after parallelism has already been used. Disabling parallelism to avoid deadlocks...\n",
      "To disable this warning, you can either:\n",
      "\t- Avoid using `tokenizers` before the fork if possible\n",
      "\t- Explicitly set the environment variable TOKENIZERS_PARALLELISM=(true | false)\n",
      "huggingface/tokenizers: The current process just got forked, after parallelism has already been used. Disabling parallelism to avoid deadlocks...\n",
      "To disable this warning, you can either:\n",
      "\t- Avoid using `tokenizers` before the fork if possible\n",
      "\t- Explicitly set the environment variable TOKENIZERS_PARALLELISM=(true | false)\n",
      "huggingface/tokenizers: The current process just got forked, after parallelism has already been used. Disabling parallelism to avoid deadlocks...\n",
      "To disable this warning, you can either:\n",
      "\t- Avoid using `tokenizers` before the fork if possible\n",
      "\t- Explicitly set the environment variable TOKENIZERS_PARALLELISM=(true | false)\n",
      "huggingface/tokenizers: The current process just got forked, after parallelism has already been used. Disabling parallelism to avoid deadlocks...\n",
      "To disable this warning, you can either:\n",
      "\t- Avoid using `tokenizers` before the fork if possible\n",
      "\t- Explicitly set the environment variable TOKENIZERS_PARALLELISM=(true | false)\n",
      "huggingface/tokenizers: The current process just got forked, after parallelism has already been used. Disabling parallelism to avoid deadlocks...\n",
      "To disable this warning, you can either:\n",
      "\t- Avoid using `tokenizers` before the fork if possible\n",
      "\t- Explicitly set the environment variable TOKENIZERS_PARALLELISM=(true | false)\n",
      "huggingface/tokenizers: The current process just got forked, after parallelism has already been used. Disabling parallelism to avoid deadlocks...\n",
      "To disable this warning, you can either:\n",
      "\t- Avoid using `tokenizers` before the fork if possible\n",
      "\t- Explicitly set the environment variable TOKENIZERS_PARALLELISM=(true | false)\n",
      "huggingface/tokenizers: The current process just got forked, after parallelism has already been used. Disabling parallelism to avoid deadlocks...\n",
      "To disable this warning, you can either:\n",
      "\t- Avoid using `tokenizers` before the fork if possible\n",
      "\t- Explicitly set the environment variable TOKENIZERS_PARALLELISM=(true | false)\n",
      "huggingface/tokenizers: The current process just got forked, after parallelism has already been used. Disabling parallelism to avoid deadlocks...\n",
      "To disable this warning, you can either:\n",
      "\t- Avoid using `tokenizers` before the fork if possible\n",
      "\t- Explicitly set the environment variable TOKENIZERS_PARALLELISM=(true | false)\n",
      "huggingface/tokenizers: The current process just got forked, after parallelism has already been used. Disabling parallelism to avoid deadlocks...\n",
      "To disable this warning, you can either:\n",
      "\t- Avoid using `tokenizers` before the fork if possible\n",
      "\t- Explicitly set the environment variable TOKENIZERS_PARALLELISM=(true | false)\n",
      "epoch 1, layer 0:   0%|                                                                        | 1/11016 [00:00<1:19:26,  2.31it/s, loss=-25.1]huggingface/tokenizers: The current process just got forked, after parallelism has already been used. Disabling parallelism to avoid deadlocks...\n",
      "To disable this warning, you can either:\n",
      "\t- Avoid using `tokenizers` before the fork if possible\n",
      "\t- Explicitly set the environment variable TOKENIZERS_PARALLELISM=(true | false)\n",
      "epoch 1, layer 0:   0%|▏                                                                        | 33/11016 [00:05<28:14,  6.48it/s, loss=-14.5]"
     ]
    },
    {
     "name": "stdout",
     "output_type": "stream",
     "text": [
      "2025-07-21 21:17:14,888 — INFO — layer 0, [1:33], loss=-14.7787\n",
      "2025-07-21 21:17:14,888 — INFO — layer 0, [1:33], loss=-16.5030\n"
     ]
    },
    {
     "name": "stderr",
     "output_type": "stream",
     "text": [
      "epoch 1, layer 0:   1%|▌                                                                        | 83/11016 [00:12<26:50,  6.79it/s, loss=-15.1]"
     ]
    },
    {
     "name": "stdout",
     "output_type": "stream",
     "text": [
      "2025-07-21 21:17:22,398 — INFO — layer 0, [1:83], loss=-14.0995\n",
      "2025-07-21 21:17:22,398 — INFO — layer 0, [1:83], loss=-2.9718\n"
     ]
    },
    {
     "name": "stderr",
     "output_type": "stream",
     "text": [
      "epoch 1, layer 0:   1%|▊                                                                       | 133/11016 [00:20<27:10,  6.67it/s, loss=-16.5]"
     ]
    },
    {
     "name": "stdout",
     "output_type": "stream",
     "text": [
      "2025-07-21 21:17:30,002 — INFO — layer 0, [1:133], loss=-22.7325\n",
      "2025-07-21 21:17:30,002 — INFO — layer 0, [1:133], loss=-17.5627\n"
     ]
    },
    {
     "name": "stderr",
     "output_type": "stream",
     "text": [
      "epoch 1, layer 0:   2%|█▏                                                                      | 183/11016 [00:28<27:32,  6.56it/s, loss=-14.5]"
     ]
    },
    {
     "name": "stdout",
     "output_type": "stream",
     "text": [
      "2025-07-21 21:17:37,550 — INFO — layer 0, [1:183], loss=-13.6722\n",
      "2025-07-21 21:17:37,550 — INFO — layer 0, [1:183], loss=-10.9560\n"
     ]
    },
    {
     "name": "stderr",
     "output_type": "stream",
     "text": [
      "epoch 1, layer 0:   2%|█▌                                                                      | 233/11016 [00:35<28:06,  6.39it/s, loss=-7.49]"
     ]
    },
    {
     "name": "stdout",
     "output_type": "stream",
     "text": [
      "2025-07-21 21:17:45,180 — INFO — layer 0, [1:233], loss=-6.9802\n",
      "2025-07-21 21:17:45,180 — INFO — layer 0, [1:233], loss=-10.2983\n"
     ]
    },
    {
     "name": "stderr",
     "output_type": "stream",
     "text": [
      "epoch 1, layer 0:   3%|█▊                                                                      | 283/11016 [00:43<27:28,  6.51it/s, loss=-10.1]"
     ]
    },
    {
     "name": "stdout",
     "output_type": "stream",
     "text": [
      "2025-07-21 21:17:52,802 — INFO — layer 0, [1:283], loss=-15.6666\n",
      "2025-07-21 21:17:52,802 — INFO — layer 0, [1:283], loss=-20.9730\n"
     ]
    },
    {
     "name": "stderr",
     "output_type": "stream",
     "text": [
      "epoch 1, layer 0:   3%|██▏                                                                     | 333/11016 [00:50<26:35,  6.70it/s, loss=-18.8]"
     ]
    },
    {
     "name": "stdout",
     "output_type": "stream",
     "text": [
      "2025-07-21 21:18:00,368 — INFO — layer 0, [1:333], loss=-4.6518\n",
      "2025-07-21 21:18:00,368 — INFO — layer 0, [1:333], loss=-11.5006\n"
     ]
    },
    {
     "name": "stderr",
     "output_type": "stream",
     "text": [
      "epoch 1, layer 0:   3%|██▌                                                                     | 383/11016 [00:58<26:19,  6.73it/s, loss=-18.3]"
     ]
    },
    {
     "name": "stdout",
     "output_type": "stream",
     "text": [
      "2025-07-21 21:18:07,906 — INFO — layer 0, [1:383], loss=-19.8590\n",
      "2025-07-21 21:18:07,906 — INFO — layer 0, [1:383], loss=-6.5899\n"
     ]
    },
    {
     "name": "stderr",
     "output_type": "stream",
     "text": [
      "epoch 1, layer 0:   4%|██▊                                                                     | 433/11016 [01:05<26:54,  6.55it/s, loss=-12.7]"
     ]
    },
    {
     "name": "stdout",
     "output_type": "stream",
     "text": [
      "2025-07-21 21:18:15,499 — INFO — layer 0, [1:433], loss=-15.3528\n",
      "2025-07-21 21:18:15,499 — INFO — layer 0, [1:433], loss=-3.6233\n"
     ]
    },
    {
     "name": "stderr",
     "output_type": "stream",
     "text": [
      "epoch 1, layer 0:   4%|███▏                                                                     | 483/11016 [01:13<28:04,  6.25it/s, loss=-8.8]"
     ]
    },
    {
     "name": "stdout",
     "output_type": "stream",
     "text": [
      "2025-07-21 21:18:23,027 — INFO — layer 0, [1:483], loss=-13.2448\n",
      "2025-07-21 21:18:23,027 — INFO — layer 0, [1:483], loss=-17.4371\n"
     ]
    },
    {
     "name": "stderr",
     "output_type": "stream",
     "text": [
      "epoch 1, layer 0:   5%|███▍                                                                    | 533/11016 [01:21<25:54,  6.74it/s, loss=-10.5]"
     ]
    },
    {
     "name": "stdout",
     "output_type": "stream",
     "text": [
      "2025-07-21 21:18:30,569 — INFO — layer 0, [1:533], loss=-19.2887\n",
      "2025-07-21 21:18:30,569 — INFO — layer 0, [1:533], loss=-11.8296\n"
     ]
    },
    {
     "name": "stderr",
     "output_type": "stream",
     "text": [
      "epoch 1, layer 0:   5%|███▊                                                                    | 583/11016 [01:28<25:58,  6.69it/s, loss=-8.88]"
     ]
    },
    {
     "name": "stdout",
     "output_type": "stream",
     "text": [
      "2025-07-21 21:18:38,174 — INFO — layer 0, [1:583], loss=-13.6485\n",
      "2025-07-21 21:18:38,174 — INFO — layer 0, [1:583], loss=-21.4904\n"
     ]
    },
    {
     "name": "stderr",
     "output_type": "stream",
     "text": [
      "epoch 1, layer 0:   6%|████▏                                                                   | 633/11016 [01:36<26:29,  6.53it/s, loss=-9.03]"
     ]
    },
    {
     "name": "stdout",
     "output_type": "stream",
     "text": [
      "2025-07-21 21:18:45,924 — INFO — layer 0, [1:633], loss=-13.5982\n",
      "2025-07-21 21:18:45,924 — INFO — layer 0, [1:633], loss=-2.3022\n"
     ]
    },
    {
     "name": "stderr",
     "output_type": "stream",
     "text": [
      "epoch 1, layer 0:   6%|████▌                                                                    | 683/11016 [01:43<26:12,  6.57it/s, loss=-9.6]"
     ]
    },
    {
     "name": "stdout",
     "output_type": "stream",
     "text": [
      "2025-07-21 21:18:53,489 — INFO — layer 0, [1:683], loss=-7.4960\n",
      "2025-07-21 21:18:53,489 — INFO — layer 0, [1:683], loss=-18.4009\n"
     ]
    },
    {
     "name": "stderr",
     "output_type": "stream",
     "text": [
      "epoch 1, layer 0:   7%|████▊                                                                    | 733/11016 [01:51<26:18,  6.51it/s, loss=-6.8]"
     ]
    },
    {
     "name": "stdout",
     "output_type": "stream",
     "text": [
      "2025-07-21 21:19:00,876 — INFO — layer 0, [1:733], loss=-17.3881\n",
      "2025-07-21 21:19:00,876 — INFO — layer 0, [1:733], loss=-14.2503\n"
     ]
    },
    {
     "name": "stderr",
     "output_type": "stream",
     "text": [
      "epoch 1, layer 0:   7%|█████                                                                   | 783/11016 [01:58<24:58,  6.83it/s, loss=-17.4]"
     ]
    },
    {
     "name": "stdout",
     "output_type": "stream",
     "text": [
      "2025-07-21 21:19:08,385 — INFO — layer 0, [1:783], loss=-11.7870\n",
      "2025-07-21 21:19:08,385 — INFO — layer 0, [1:783], loss=-10.4898\n"
     ]
    },
    {
     "name": "stderr",
     "output_type": "stream",
     "text": [
      "epoch 1, layer 0:   8%|█████▍                                                                  | 833/11016 [02:06<25:27,  6.67it/s, loss=-13.4]"
     ]
    },
    {
     "name": "stdout",
     "output_type": "stream",
     "text": [
      "2025-07-21 21:19:16,006 — INFO — layer 0, [1:833], loss=-8.9337\n",
      "2025-07-21 21:19:16,006 — INFO — layer 0, [1:833], loss=-9.3211\n"
     ]
    },
    {
     "name": "stderr",
     "output_type": "stream",
     "text": [
      "epoch 1, layer 0:   8%|█████▊                                                                  | 883/11016 [02:13<23:44,  7.12it/s, loss=-18.1]"
     ]
    },
    {
     "name": "stdout",
     "output_type": "stream",
     "text": [
      "2025-07-21 21:19:23,530 — INFO — layer 0, [1:883], loss=-17.9911\n",
      "2025-07-21 21:19:23,530 — INFO — layer 0, [1:883], loss=-17.3238\n"
     ]
    },
    {
     "name": "stderr",
     "output_type": "stream",
     "text": [
      "epoch 1, layer 0:   8%|██████                                                                  | 933/11016 [02:21<26:30,  6.34it/s, loss=-7.05]"
     ]
    },
    {
     "name": "stdout",
     "output_type": "stream",
     "text": [
      "2025-07-21 21:19:31,285 — INFO — layer 0, [1:933], loss=-11.0364\n",
      "2025-07-21 21:19:31,285 — INFO — layer 0, [1:933], loss=-19.3539\n"
     ]
    },
    {
     "name": "stderr",
     "output_type": "stream",
     "text": [
      "epoch 1, layer 0:   9%|██████▍                                                                 | 983/11016 [02:29<27:14,  6.14it/s, loss=-17.5]"
     ]
    },
    {
     "name": "stdout",
     "output_type": "stream",
     "text": [
      "2025-07-21 21:19:39,164 — INFO — layer 0, [1:983], loss=-17.7832\n",
      "2025-07-21 21:19:39,164 — INFO — layer 0, [1:983], loss=-14.5961\n"
     ]
    },
    {
     "name": "stderr",
     "output_type": "stream",
     "text": [
      "epoch 1, layer 0:   9%|██████▋                                                                | 1033/11016 [02:37<24:02,  6.92it/s, loss=-23.3]"
     ]
    },
    {
     "name": "stdout",
     "output_type": "stream",
     "text": [
      "2025-07-21 21:19:46,753 — INFO — layer 0, [1:1033], loss=-13.5257\n",
      "2025-07-21 21:19:46,753 — INFO — layer 0, [1:1033], loss=-22.7761\n"
     ]
    },
    {
     "name": "stderr",
     "output_type": "stream",
     "text": [
      "epoch 1, layer 0:  10%|██████▉                                                                | 1083/11016 [02:44<24:04,  6.88it/s, loss=-16.6]"
     ]
    },
    {
     "name": "stdout",
     "output_type": "stream",
     "text": [
      "2025-07-21 21:19:54,395 — INFO — layer 0, [1:1083], loss=-24.6330\n",
      "2025-07-21 21:19:54,395 — INFO — layer 0, [1:1083], loss=-17.6339\n"
     ]
    },
    {
     "name": "stderr",
     "output_type": "stream",
     "text": [
      "epoch 1, layer 0:  10%|███████▎                                                               | 1133/11016 [02:52<25:02,  6.58it/s, loss=-24.1]"
     ]
    },
    {
     "name": "stdout",
     "output_type": "stream",
     "text": [
      "2025-07-21 21:20:01,992 — INFO — layer 0, [1:1133], loss=-18.4207\n",
      "2025-07-21 21:20:01,992 — INFO — layer 0, [1:1133], loss=-16.6070\n"
     ]
    },
    {
     "name": "stderr",
     "output_type": "stream",
     "text": [
      "epoch 1, layer 0:  11%|███████▋                                                                | 1183/11016 [03:00<25:25,  6.44it/s, loss=-8.6]"
     ]
    },
    {
     "name": "stdout",
     "output_type": "stream",
     "text": [
      "2025-07-21 21:20:09,741 — INFO — layer 0, [1:1183], loss=-13.9306\n",
      "2025-07-21 21:20:09,742 — INFO — layer 0, [1:1183], loss=-12.8556\n"
     ]
    },
    {
     "name": "stderr",
     "output_type": "stream",
     "text": [
      "epoch 1, layer 0:  11%|███████▉                                                               | 1233/11016 [03:07<24:27,  6.67it/s, loss=-14.7]"
     ]
    },
    {
     "name": "stdout",
     "output_type": "stream",
     "text": [
      "2025-07-21 21:20:17,367 — INFO — layer 0, [1:1233], loss=-2.7868\n",
      "2025-07-21 21:20:17,367 — INFO — layer 0, [1:1233], loss=-2.5464\n"
     ]
    },
    {
     "name": "stderr",
     "output_type": "stream",
     "text": [
      "epoch 1, layer 0:  12%|████████▎                                                              | 1283/11016 [03:15<24:17,  6.68it/s, loss=-7.24]"
     ]
    },
    {
     "name": "stdout",
     "output_type": "stream",
     "text": [
      "2025-07-21 21:20:24,865 — INFO — layer 0, [1:1283], loss=0.1843\n",
      "2025-07-21 21:20:24,865 — INFO — layer 0, [1:1283], loss=-13.6963\n"
     ]
    },
    {
     "name": "stderr",
     "output_type": "stream",
     "text": [
      "epoch 1, layer 0:  12%|████████▌                                                              | 1333/11016 [03:22<24:35,  6.56it/s, loss=-24.1]"
     ]
    },
    {
     "name": "stdout",
     "output_type": "stream",
     "text": [
      "2025-07-21 21:20:32,392 — INFO — layer 0, [1:1333], loss=-15.7945\n",
      "2025-07-21 21:20:32,392 — INFO — layer 0, [1:1333], loss=-18.8917\n"
     ]
    },
    {
     "name": "stderr",
     "output_type": "stream",
     "text": [
      "epoch 1, layer 0:  13%|████████▉                                                              | 1383/11016 [03:30<23:40,  6.78it/s, loss=-23.9]"
     ]
    },
    {
     "name": "stdout",
     "output_type": "stream",
     "text": [
      "2025-07-21 21:20:39,920 — INFO — layer 0, [1:1383], loss=-15.6687\n",
      "2025-07-21 21:20:39,920 — INFO — layer 0, [1:1383], loss=-23.5657\n"
     ]
    },
    {
     "name": "stderr",
     "output_type": "stream",
     "text": [
      "epoch 1, layer 0:  13%|█████████▏                                                             | 1433/11016 [03:37<23:24,  6.82it/s, loss=-8.91]"
     ]
    },
    {
     "name": "stdout",
     "output_type": "stream",
     "text": [
      "2025-07-21 21:20:47,455 — INFO — layer 0, [1:1433], loss=-12.0229\n",
      "2025-07-21 21:20:47,455 — INFO — layer 0, [1:1433], loss=-14.2942\n"
     ]
    },
    {
     "name": "stderr",
     "output_type": "stream",
     "text": [
      "epoch 1, layer 0:  13%|█████████▌                                                             | 1483/11016 [03:45<24:52,  6.39it/s, loss=-13.8]"
     ]
    },
    {
     "name": "stdout",
     "output_type": "stream",
     "text": [
      "2025-07-21 21:20:55,223 — INFO — layer 0, [1:1483], loss=-11.3063\n",
      "2025-07-21 21:20:55,223 — INFO — layer 0, [1:1483], loss=-10.9463\n"
     ]
    },
    {
     "name": "stderr",
     "output_type": "stream",
     "text": [
      "epoch 1, layer 0:  14%|█████████▉                                                             | 1533/11016 [03:53<23:57,  6.60it/s, loss=-9.87]"
     ]
    },
    {
     "name": "stdout",
     "output_type": "stream",
     "text": [
      "2025-07-21 21:21:02,907 — INFO — layer 0, [1:1533], loss=-11.1845\n",
      "2025-07-21 21:21:02,907 — INFO — layer 0, [1:1533], loss=-8.9053\n"
     ]
    },
    {
     "name": "stderr",
     "output_type": "stream",
     "text": [
      "epoch 1, layer 0:  14%|██████████▏                                                            | 1583/11016 [04:01<24:07,  6.52it/s, loss=-18.1]"
     ]
    },
    {
     "name": "stdout",
     "output_type": "stream",
     "text": [
      "2025-07-21 21:21:10,619 — INFO — layer 0, [1:1583], loss=-12.2253\n",
      "2025-07-21 21:21:10,619 — INFO — layer 0, [1:1583], loss=-15.0478\n"
     ]
    },
    {
     "name": "stderr",
     "output_type": "stream",
     "text": [
      "epoch 1, layer 0:  15%|██████████▌                                                            | 1633/11016 [04:08<22:57,  6.81it/s, loss=-11.5]"
     ]
    },
    {
     "name": "stdout",
     "output_type": "stream",
     "text": [
      "2025-07-21 21:21:18,214 — INFO — layer 0, [1:1633], loss=-24.5913\n",
      "2025-07-21 21:21:18,214 — INFO — layer 0, [1:1633], loss=-11.8166\n"
     ]
    },
    {
     "name": "stderr",
     "output_type": "stream",
     "text": [
      "epoch 1, layer 0:  15%|██████████▊                                                            | 1683/11016 [04:16<24:59,  6.23it/s, loss=-8.14]"
     ]
    },
    {
     "name": "stdout",
     "output_type": "stream",
     "text": [
      "2025-07-21 21:21:25,857 — INFO — layer 0, [1:1683], loss=-12.4724\n",
      "2025-07-21 21:21:25,857 — INFO — layer 0, [1:1683], loss=-7.1364\n"
     ]
    },
    {
     "name": "stderr",
     "output_type": "stream",
     "text": [
      "epoch 1, layer 0:  16%|███████████▏                                                           | 1733/11016 [04:23<23:10,  6.68it/s, loss=-18.3]"
     ]
    },
    {
     "name": "stdout",
     "output_type": "stream",
     "text": [
      "2025-07-21 21:21:33,352 — INFO — layer 0, [1:1733], loss=-15.9997\n",
      "2025-07-21 21:21:33,352 — INFO — layer 0, [1:1733], loss=-4.6523\n"
     ]
    },
    {
     "name": "stderr",
     "output_type": "stream",
     "text": [
      "epoch 1, layer 0:  16%|███████████▍                                                           | 1783/11016 [04:31<22:32,  6.82it/s, loss=-16.1]"
     ]
    },
    {
     "name": "stdout",
     "output_type": "stream",
     "text": [
      "2025-07-21 21:21:40,872 — INFO — layer 0, [1:1783], loss=-10.8636\n",
      "2025-07-21 21:21:40,872 — INFO — layer 0, [1:1783], loss=-14.0258\n"
     ]
    },
    {
     "name": "stderr",
     "output_type": "stream",
     "text": [
      "epoch 1, layer 0:  17%|███████████▊                                                           | 1833/11016 [04:38<22:40,  6.75it/s, loss=-11.1]"
     ]
    },
    {
     "name": "stdout",
     "output_type": "stream",
     "text": [
      "2025-07-21 21:21:48,477 — INFO — layer 0, [1:1833], loss=-18.0744\n",
      "2025-07-21 21:21:48,477 — INFO — layer 0, [1:1833], loss=-17.2188\n"
     ]
    },
    {
     "name": "stderr",
     "output_type": "stream",
     "text": [
      "epoch 1, layer 0:  17%|████████████▏                                                          | 1883/11016 [04:46<22:20,  6.81it/s, loss=-6.07]"
     ]
    },
    {
     "name": "stdout",
     "output_type": "stream",
     "text": [
      "2025-07-21 21:21:55,979 — INFO — layer 0, [1:1883], loss=-14.7947\n",
      "2025-07-21 21:21:55,979 — INFO — layer 0, [1:1883], loss=-10.3728\n"
     ]
    },
    {
     "name": "stderr",
     "output_type": "stream",
     "text": [
      "epoch 1, layer 0:  18%|████████████▍                                                          | 1933/11016 [04:54<22:30,  6.72it/s, loss=-3.92]"
     ]
    },
    {
     "name": "stdout",
     "output_type": "stream",
     "text": [
      "2025-07-21 21:22:03,812 — INFO — layer 0, [1:1933], loss=-23.2053\n",
      "2025-07-21 21:22:03,812 — INFO — layer 0, [1:1933], loss=-6.2627\n"
     ]
    },
    {
     "name": "stderr",
     "output_type": "stream",
     "text": [
      "epoch 1, layer 0:  18%|█████████████▏                                                           | 1983/11016 [05:01<22:03,  6.83it/s, loss=-14]"
     ]
    },
    {
     "name": "stdout",
     "output_type": "stream",
     "text": [
      "2025-07-21 21:22:11,525 — INFO — layer 0, [1:1983], loss=-6.4973\n",
      "2025-07-21 21:22:11,525 — INFO — layer 0, [1:1983], loss=-13.9001\n"
     ]
    },
    {
     "name": "stderr",
     "output_type": "stream",
     "text": [
      "epoch 1, layer 0:  18%|█████████████                                                          | 2033/11016 [05:09<23:44,  6.31it/s, loss=-11.1]"
     ]
    },
    {
     "name": "stdout",
     "output_type": "stream",
     "text": [
      "2025-07-21 21:22:19,332 — INFO — layer 0, [1:2033], loss=-14.7354\n",
      "2025-07-21 21:22:19,332 — INFO — layer 0, [1:2033], loss=-8.5828\n"
     ]
    },
    {
     "name": "stderr",
     "output_type": "stream",
     "text": [
      "epoch 1, layer 0:  19%|█████████████▍                                                         | 2083/11016 [05:17<21:36,  6.89it/s, loss=-16.8]"
     ]
    },
    {
     "name": "stdout",
     "output_type": "stream",
     "text": [
      "2025-07-21 21:22:26,843 — INFO — layer 0, [1:2083], loss=-12.1342\n",
      "2025-07-21 21:22:26,843 — INFO — layer 0, [1:2083], loss=-17.4096\n"
     ]
    },
    {
     "name": "stderr",
     "output_type": "stream",
     "text": [
      "epoch 1, layer 0:  19%|█████████████▋                                                         | 2133/11016 [05:24<22:23,  6.61it/s, loss=-15.8]"
     ]
    },
    {
     "name": "stdout",
     "output_type": "stream",
     "text": [
      "2025-07-21 21:22:34,396 — INFO — layer 0, [1:2133], loss=-21.4767\n",
      "2025-07-21 21:22:34,396 — INFO — layer 0, [1:2133], loss=-14.9172\n"
     ]
    },
    {
     "name": "stderr",
     "output_type": "stream",
     "text": [
      "epoch 1, layer 0:  20%|██████████████                                                         | 2183/11016 [05:32<21:35,  6.82it/s, loss=-4.85]"
     ]
    },
    {
     "name": "stdout",
     "output_type": "stream",
     "text": [
      "2025-07-21 21:22:41,981 — INFO — layer 0, [1:2183], loss=-9.0986\n",
      "2025-07-21 21:22:41,981 — INFO — layer 0, [1:2183], loss=-25.2479\n"
     ]
    },
    {
     "name": "stderr",
     "output_type": "stream",
     "text": [
      "epoch 1, layer 0:  20%|██████████████▍                                                        | 2233/11016 [05:40<22:03,  6.64it/s, loss=-14.8]"
     ]
    },
    {
     "name": "stdout",
     "output_type": "stream",
     "text": [
      "2025-07-21 21:22:49,604 — INFO — layer 0, [1:2233], loss=-9.7310\n",
      "2025-07-21 21:22:49,604 — INFO — layer 0, [1:2233], loss=-8.2776\n"
     ]
    },
    {
     "name": "stderr",
     "output_type": "stream",
     "text": [
      "epoch 1, layer 0:  21%|██████████████▋                                                        | 2283/11016 [05:47<21:08,  6.88it/s, loss=-3.31]"
     ]
    },
    {
     "name": "stdout",
     "output_type": "stream",
     "text": [
      "2025-07-21 21:22:57,087 — INFO — layer 0, [1:2283], loss=-12.0247\n",
      "2025-07-21 21:22:57,087 — INFO — layer 0, [1:2283], loss=-23.0050\n"
     ]
    },
    {
     "name": "stderr",
     "output_type": "stream",
     "text": [
      "epoch 1, layer 0:  21%|███████████████                                                        | 2333/11016 [05:55<22:29,  6.44it/s, loss=-10.8]"
     ]
    },
    {
     "name": "stdout",
     "output_type": "stream",
     "text": [
      "2025-07-21 21:23:04,754 — INFO — layer 0, [1:2333], loss=-20.9846\n",
      "2025-07-21 21:23:04,754 — INFO — layer 0, [1:2333], loss=-18.1975\n"
     ]
    },
    {
     "name": "stderr",
     "output_type": "stream",
     "text": [
      "epoch 1, layer 0:  22%|███████████████▎                                                       | 2383/11016 [06:02<21:17,  6.76it/s, loss=-17.9]"
     ]
    },
    {
     "name": "stdout",
     "output_type": "stream",
     "text": [
      "2025-07-21 21:23:12,350 — INFO — layer 0, [1:2383], loss=-7.4461\n",
      "2025-07-21 21:23:12,350 — INFO — layer 0, [1:2383], loss=-18.2631\n"
     ]
    },
    {
     "name": "stderr",
     "output_type": "stream",
     "text": [
      "epoch 1, layer 0:  22%|███████████████▋                                                       | 2433/11016 [06:10<22:00,  6.50it/s, loss=-10.6]"
     ]
    },
    {
     "name": "stdout",
     "output_type": "stream",
     "text": [
      "2025-07-21 21:23:20,084 — INFO — layer 0, [1:2433], loss=-13.8583\n",
      "2025-07-21 21:23:20,084 — INFO — layer 0, [1:2433], loss=-9.9863\n"
     ]
    },
    {
     "name": "stderr",
     "output_type": "stream",
     "text": [
      "epoch 1, layer 0:  23%|████████████████                                                       | 2483/11016 [06:18<21:15,  6.69it/s, loss=-7.42]"
     ]
    },
    {
     "name": "stdout",
     "output_type": "stream",
     "text": [
      "2025-07-21 21:23:27,699 — INFO — layer 0, [1:2483], loss=-12.3705\n",
      "2025-07-21 21:23:27,699 — INFO — layer 0, [1:2483], loss=-24.6223\n"
     ]
    },
    {
     "name": "stderr",
     "output_type": "stream",
     "text": [
      "epoch 1, layer 0:  23%|████████████████▊                                                        | 2533/11016 [06:25<22:30,  6.28it/s, loss=-14]"
     ]
    },
    {
     "name": "stdout",
     "output_type": "stream",
     "text": [
      "2025-07-21 21:23:35,160 — INFO — layer 0, [1:2533], loss=-3.8849\n",
      "2025-07-21 21:23:35,160 — INFO — layer 0, [1:2533], loss=-11.3204\n"
     ]
    },
    {
     "name": "stderr",
     "output_type": "stream",
     "text": [
      "epoch 1, layer 0:  23%|████████████████▋                                                      | 2583/11016 [06:33<21:17,  6.60it/s, loss=-19.3]"
     ]
    },
    {
     "name": "stdout",
     "output_type": "stream",
     "text": [
      "2025-07-21 21:23:42,856 — INFO — layer 0, [1:2583], loss=-13.1742\n",
      "2025-07-21 21:23:42,856 — INFO — layer 0, [1:2583], loss=-10.4850\n"
     ]
    },
    {
     "name": "stderr",
     "output_type": "stream",
     "text": [
      "epoch 1, layer 0:  24%|████████████████▉                                                      | 2633/11016 [06:40<21:13,  6.58it/s, loss=-23.6]"
     ]
    },
    {
     "name": "stdout",
     "output_type": "stream",
     "text": [
      "2025-07-21 21:23:50,331 — INFO — layer 0, [1:2633], loss=-7.6435\n",
      "2025-07-21 21:23:50,331 — INFO — layer 0, [1:2633], loss=-12.5950\n"
     ]
    },
    {
     "name": "stderr",
     "output_type": "stream",
     "text": [
      "epoch 1, layer 0:  24%|█████████████████▎                                                     | 2683/11016 [06:48<20:26,  6.80it/s, loss=-19.1]"
     ]
    },
    {
     "name": "stdout",
     "output_type": "stream",
     "text": [
      "2025-07-21 21:23:58,014 — INFO — layer 0, [1:2683], loss=-20.5005\n",
      "2025-07-21 21:23:58,014 — INFO — layer 0, [1:2683], loss=-19.9447\n"
     ]
    },
    {
     "name": "stderr",
     "output_type": "stream",
     "text": [
      "epoch 1, layer 0:  25%|█████████████████▌                                                     | 2733/11016 [06:56<22:03,  6.26it/s, loss=-10.5]"
     ]
    },
    {
     "name": "stdout",
     "output_type": "stream",
     "text": [
      "2025-07-21 21:24:05,650 — INFO — layer 0, [1:2733], loss=-13.4366\n",
      "2025-07-21 21:24:05,650 — INFO — layer 0, [1:2733], loss=-15.9056\n"
     ]
    },
    {
     "name": "stderr",
     "output_type": "stream",
     "text": [
      "epoch 1, layer 0:  25%|█████████████████▉                                                     | 2783/11016 [07:03<20:20,  6.74it/s, loss=-8.74]"
     ]
    },
    {
     "name": "stdout",
     "output_type": "stream",
     "text": [
      "2025-07-21 21:24:13,119 — INFO — layer 0, [1:2783], loss=-4.0997\n",
      "2025-07-21 21:24:13,119 — INFO — layer 0, [1:2783], loss=-16.6614\n"
     ]
    },
    {
     "name": "stderr",
     "output_type": "stream",
     "text": [
      "epoch 1, layer 0:  26%|██████████████████▊                                                      | 2833/11016 [07:11<19:53,  6.86it/s, loss=-16]"
     ]
    },
    {
     "name": "stdout",
     "output_type": "stream",
     "text": [
      "2025-07-21 21:24:20,793 — INFO — layer 0, [1:2833], loss=-15.2693\n",
      "2025-07-21 21:24:20,793 — INFO — layer 0, [1:2833], loss=-17.3585\n"
     ]
    },
    {
     "name": "stderr",
     "output_type": "stream",
     "text": [
      "epoch 1, layer 0:  26%|██████████████████▌                                                    | 2883/11016 [07:18<21:30,  6.30it/s, loss=-9.93]"
     ]
    },
    {
     "name": "stdout",
     "output_type": "stream",
     "text": [
      "2025-07-21 21:24:28,428 — INFO — layer 0, [1:2883], loss=-0.1403\n",
      "2025-07-21 21:24:28,428 — INFO — layer 0, [1:2883], loss=-12.3527\n"
     ]
    },
    {
     "name": "stderr",
     "output_type": "stream",
     "text": [
      "epoch 1, layer 0:  27%|██████████████████▉                                                    | 2933/11016 [07:26<20:19,  6.63it/s, loss=-7.18]"
     ]
    },
    {
     "name": "stdout",
     "output_type": "stream",
     "text": [
      "2025-07-21 21:24:36,224 — INFO — layer 0, [1:2933], loss=-6.3034\n",
      "2025-07-21 21:24:36,224 — INFO — layer 0, [1:2933], loss=-9.9237\n"
     ]
    },
    {
     "name": "stderr",
     "output_type": "stream",
     "text": [
      "epoch 1, layer 0:  27%|███████████████████▏                                                   | 2983/11016 [07:34<19:21,  6.91it/s, loss=-17.1]"
     ]
    },
    {
     "name": "stdout",
     "output_type": "stream",
     "text": [
      "2025-07-21 21:24:43,835 — INFO — layer 0, [1:2983], loss=-4.3803\n",
      "2025-07-21 21:24:43,835 — INFO — layer 0, [1:2983], loss=-6.2856\n"
     ]
    },
    {
     "name": "stderr",
     "output_type": "stream",
     "text": [
      "epoch 1, layer 0:  28%|███████████████████▌                                                   | 3033/11016 [07:41<20:15,  6.57it/s, loss=-5.09]"
     ]
    },
    {
     "name": "stdout",
     "output_type": "stream",
     "text": [
      "2025-07-21 21:24:51,344 — INFO — layer 0, [1:3033], loss=-7.0811\n",
      "2025-07-21 21:24:51,344 — INFO — layer 0, [1:3033], loss=-18.8356\n"
     ]
    },
    {
     "name": "stderr",
     "output_type": "stream",
     "text": [
      "epoch 1, layer 0:  28%|███████████████████▊                                                   | 3083/11016 [07:49<20:05,  6.58it/s, loss=-8.11]"
     ]
    },
    {
     "name": "stdout",
     "output_type": "stream",
     "text": [
      "2025-07-21 21:24:58,971 — INFO — layer 0, [1:3083], loss=-12.0168\n",
      "2025-07-21 21:24:58,971 — INFO — layer 0, [1:3083], loss=-5.3619\n"
     ]
    },
    {
     "name": "stderr",
     "output_type": "stream",
     "text": [
      "epoch 1, layer 0:  28%|████████████████████▏                                                  | 3133/11016 [07:56<19:10,  6.85it/s, loss=-10.5]"
     ]
    },
    {
     "name": "stdout",
     "output_type": "stream",
     "text": [
      "2025-07-21 21:25:06,536 — INFO — layer 0, [1:3133], loss=-9.9944\n",
      "2025-07-21 21:25:06,536 — INFO — layer 0, [1:3133], loss=-16.3158\n"
     ]
    },
    {
     "name": "stderr",
     "output_type": "stream",
     "text": [
      "epoch 1, layer 0:  29%|████████████████████▌                                                  | 3183/11016 [08:04<19:42,  6.62it/s, loss=-18.8]"
     ]
    },
    {
     "name": "stdout",
     "output_type": "stream",
     "text": [
      "2025-07-21 21:25:14,212 — INFO — layer 0, [1:3183], loss=-24.3526\n",
      "2025-07-21 21:25:14,212 — INFO — layer 0, [1:3183], loss=-24.4184\n"
     ]
    },
    {
     "name": "stderr",
     "output_type": "stream",
     "text": [
      "epoch 1, layer 0:  29%|████████████████████▊                                                  | 3233/11016 [08:12<19:31,  6.64it/s, loss=-14.2]"
     ]
    },
    {
     "name": "stdout",
     "output_type": "stream",
     "text": [
      "2025-07-21 21:25:21,698 — INFO — layer 0, [1:3233], loss=-20.9308\n",
      "2025-07-21 21:25:21,698 — INFO — layer 0, [1:3233], loss=-5.4145\n"
     ]
    },
    {
     "name": "stderr",
     "output_type": "stream",
     "text": [
      "epoch 1, layer 0:  30%|█████████████████████▏                                                 | 3283/11016 [08:19<20:05,  6.41it/s, loss=-10.1]"
     ]
    },
    {
     "name": "stdout",
     "output_type": "stream",
     "text": [
      "2025-07-21 21:25:29,244 — INFO — layer 0, [1:3283], loss=-18.5924\n",
      "2025-07-21 21:25:29,244 — INFO — layer 0, [1:3283], loss=-15.7640\n"
     ]
    },
    {
     "name": "stderr",
     "output_type": "stream",
     "text": [
      "epoch 1, layer 0:  30%|█████████████████████▍                                                 | 3333/11016 [08:27<19:21,  6.61it/s, loss=-13.8]"
     ]
    },
    {
     "name": "stdout",
     "output_type": "stream",
     "text": [
      "2025-07-21 21:25:36,658 — INFO — layer 0, [1:3333], loss=-9.8117\n",
      "2025-07-21 21:25:36,658 — INFO — layer 0, [1:3333], loss=-16.3689\n"
     ]
    },
    {
     "name": "stderr",
     "output_type": "stream",
     "text": [
      "epoch 1, layer 0:  31%|█████████████████████▊                                                 | 3383/11016 [08:34<19:02,  6.68it/s, loss=-16.6]"
     ]
    },
    {
     "name": "stdout",
     "output_type": "stream",
     "text": [
      "2025-07-21 21:25:44,257 — INFO — layer 0, [1:3383], loss=-6.4639\n",
      "2025-07-21 21:25:44,257 — INFO — layer 0, [1:3383], loss=-11.8309\n"
     ]
    },
    {
     "name": "stderr",
     "output_type": "stream",
     "text": [
      "epoch 1, layer 0:  31%|██████████████████████▏                                                | 3433/11016 [08:42<18:15,  6.92it/s, loss=-18.7]"
     ]
    },
    {
     "name": "stdout",
     "output_type": "stream",
     "text": [
      "2025-07-21 21:25:51,773 — INFO — layer 0, [1:3433], loss=-10.5517\n",
      "2025-07-21 21:25:51,773 — INFO — layer 0, [1:3433], loss=-25.0159\n"
     ]
    },
    {
     "name": "stderr",
     "output_type": "stream",
     "text": [
      "epoch 1, layer 0:  32%|██████████████████████▍                                                | 3483/11016 [08:49<18:49,  6.67it/s, loss=-7.34]"
     ]
    },
    {
     "name": "stdout",
     "output_type": "stream",
     "text": [
      "2025-07-21 21:25:59,409 — INFO — layer 0, [1:3483], loss=-14.8070\n",
      "2025-07-21 21:25:59,409 — INFO — layer 0, [1:3483], loss=-23.7682\n"
     ]
    },
    {
     "name": "stderr",
     "output_type": "stream",
     "text": [
      "epoch 1, layer 0:  32%|██████████████████████▊                                                | 3533/11016 [08:57<18:36,  6.70it/s, loss=-11.6]"
     ]
    },
    {
     "name": "stdout",
     "output_type": "stream",
     "text": [
      "2025-07-21 21:26:07,098 — INFO — layer 0, [1:3533], loss=-26.4365\n",
      "2025-07-21 21:26:07,098 — INFO — layer 0, [1:3533], loss=-26.1911\n"
     ]
    },
    {
     "name": "stderr",
     "output_type": "stream",
     "text": [
      "epoch 1, layer 0:  33%|███████████████████████▋                                                 | 3583/11016 [09:05<18:14,  6.79it/s, loss=-25]"
     ]
    },
    {
     "name": "stdout",
     "output_type": "stream",
     "text": [
      "2025-07-21 21:26:14,783 — INFO — layer 0, [1:3583], loss=-16.9963\n",
      "2025-07-21 21:26:14,783 — INFO — layer 0, [1:3583], loss=-9.7691\n"
     ]
    },
    {
     "name": "stderr",
     "output_type": "stream",
     "text": [
      "epoch 1, layer 0:  33%|███████████████████████▍                                               | 3633/11016 [09:12<18:42,  6.58it/s, loss=-17.5]"
     ]
    },
    {
     "name": "stdout",
     "output_type": "stream",
     "text": [
      "2025-07-21 21:26:22,473 — INFO — layer 0, [1:3633], loss=-13.5336\n",
      "2025-07-21 21:26:22,473 — INFO — layer 0, [1:3633], loss=-3.5910\n"
     ]
    },
    {
     "name": "stderr",
     "output_type": "stream",
     "text": [
      "epoch 1, layer 0:  33%|███████████████████████▋                                               | 3683/11016 [09:20<18:16,  6.69it/s, loss=-15.9]"
     ]
    },
    {
     "name": "stdout",
     "output_type": "stream",
     "text": [
      "2025-07-21 21:26:29,976 — INFO — layer 0, [1:3683], loss=-3.6996\n",
      "2025-07-21 21:26:29,976 — INFO — layer 0, [1:3683], loss=-7.1750\n"
     ]
    },
    {
     "name": "stderr",
     "output_type": "stream",
     "text": [
      "epoch 1, layer 0:  34%|████████████████████████                                               | 3733/11016 [09:27<18:12,  6.67it/s, loss=-17.3]"
     ]
    },
    {
     "name": "stdout",
     "output_type": "stream",
     "text": [
      "2025-07-21 21:26:37,538 — INFO — layer 0, [1:3733], loss=-18.7637\n",
      "2025-07-21 21:26:37,538 — INFO — layer 0, [1:3733], loss=-9.2416\n"
     ]
    },
    {
     "name": "stderr",
     "output_type": "stream",
     "text": [
      "epoch 1, layer 0:  34%|████████████████████████▍                                              | 3783/11016 [09:35<18:35,  6.49it/s, loss=-14.2]"
     ]
    },
    {
     "name": "stdout",
     "output_type": "stream",
     "text": [
      "2025-07-21 21:26:44,978 — INFO — layer 0, [1:3783], loss=-26.1909\n",
      "2025-07-21 21:26:44,978 — INFO — layer 0, [1:3783], loss=-4.9429\n"
     ]
    },
    {
     "name": "stderr",
     "output_type": "stream",
     "text": [
      "epoch 1, layer 0:  35%|████████████████████████▋                                              | 3833/11016 [09:43<18:37,  6.43it/s, loss=-4.81]"
     ]
    },
    {
     "name": "stdout",
     "output_type": "stream",
     "text": [
      "2025-07-21 21:26:52,583 — INFO — layer 0, [1:3833], loss=-7.9118\n",
      "2025-07-21 21:26:52,583 — INFO — layer 0, [1:3833], loss=-18.9993\n"
     ]
    },
    {
     "name": "stderr",
     "output_type": "stream",
     "text": [
      "epoch 1, layer 0:  35%|█████████████████████████                                              | 3883/11016 [09:50<17:49,  6.67it/s, loss=-7.88]"
     ]
    },
    {
     "name": "stdout",
     "output_type": "stream",
     "text": [
      "2025-07-21 21:27:00,086 — INFO — layer 0, [1:3883], loss=-22.5714\n",
      "2025-07-21 21:27:00,086 — INFO — layer 0, [1:3883], loss=-19.5849\n"
     ]
    },
    {
     "name": "stderr",
     "output_type": "stream",
     "text": [
      "epoch 1, layer 0:  36%|█████████████████████████▎                                             | 3933/11016 [09:58<18:32,  6.36it/s, loss=-2.49]"
     ]
    },
    {
     "name": "stdout",
     "output_type": "stream",
     "text": [
      "2025-07-21 21:27:07,969 — INFO — layer 0, [1:3933], loss=-4.8710\n",
      "2025-07-21 21:27:07,969 — INFO — layer 0, [1:3933], loss=-17.3092\n"
     ]
    },
    {
     "name": "stderr",
     "output_type": "stream",
     "text": [
      "epoch 1, layer 0:  36%|██████████████████████████▍                                              | 3983/11016 [10:05<17:49,  6.58it/s, loss=-18]"
     ]
    },
    {
     "name": "stdout",
     "output_type": "stream",
     "text": [
      "2025-07-21 21:27:15,533 — INFO — layer 0, [1:3983], loss=-7.9829\n",
      "2025-07-21 21:27:15,533 — INFO — layer 0, [1:3983], loss=-11.8721\n"
     ]
    },
    {
     "name": "stderr",
     "output_type": "stream",
     "text": [
      "epoch 1, layer 0:  37%|█████████████████████████▉                                             | 4033/11016 [10:13<18:57,  6.14it/s, loss=-4.68]"
     ]
    },
    {
     "name": "stdout",
     "output_type": "stream",
     "text": [
      "2025-07-21 21:27:23,096 — INFO — layer 0, [1:4033], loss=-9.8204\n",
      "2025-07-21 21:27:23,096 — INFO — layer 0, [1:4033], loss=-3.2194\n"
     ]
    },
    {
     "name": "stderr",
     "output_type": "stream",
     "text": [
      "epoch 1, layer 0:  37%|██████████████████████████▎                                            | 4083/11016 [10:21<17:22,  6.65it/s, loss=-5.92]"
     ]
    },
    {
     "name": "stdout",
     "output_type": "stream",
     "text": [
      "2025-07-21 21:27:30,654 — INFO — layer 0, [1:4083], loss=-19.1131\n",
      "2025-07-21 21:27:30,654 — INFO — layer 0, [1:4083], loss=-22.2000\n"
     ]
    },
    {
     "name": "stderr",
     "output_type": "stream",
     "text": [
      "epoch 1, layer 0:  38%|██████████████████████████▋                                            | 4133/11016 [10:28<16:53,  6.79it/s, loss=-4.58]"
     ]
    },
    {
     "name": "stdout",
     "output_type": "stream",
     "text": [
      "2025-07-21 21:27:38,203 — INFO — layer 0, [1:4133], loss=-23.0563\n",
      "2025-07-21 21:27:38,203 — INFO — layer 0, [1:4133], loss=-13.5194\n"
     ]
    },
    {
     "name": "stderr",
     "output_type": "stream",
     "text": [
      "epoch 1, layer 0:  38%|██████████████████████████▉                                            | 4183/11016 [10:36<17:40,  6.44it/s, loss=-18.2]"
     ]
    },
    {
     "name": "stdout",
     "output_type": "stream",
     "text": [
      "2025-07-21 21:27:45,728 — INFO — layer 0, [1:4183], loss=-14.8579\n",
      "2025-07-21 21:27:45,728 — INFO — layer 0, [1:4183], loss=-25.0741\n"
     ]
    },
    {
     "name": "stderr",
     "output_type": "stream",
     "text": [
      "epoch 1, layer 0:  38%|████████████████████████████                                             | 4233/11016 [10:43<16:16,  6.94it/s, loss=-19]"
     ]
    },
    {
     "name": "stdout",
     "output_type": "stream",
     "text": [
      "2025-07-21 21:27:53,359 — INFO — layer 0, [1:4233], loss=-18.9460\n",
      "2025-07-21 21:27:53,359 — INFO — layer 0, [1:4233], loss=-20.8503\n"
     ]
    },
    {
     "name": "stderr",
     "output_type": "stream",
     "text": [
      "epoch 1, layer 0:  39%|███████████████████████████▌                                           | 4283/11016 [10:51<16:29,  6.81it/s, loss=-14.6]"
     ]
    },
    {
     "name": "stdout",
     "output_type": "stream",
     "text": [
      "2025-07-21 21:28:00,854 — INFO — layer 0, [1:4283], loss=-7.2611\n",
      "2025-07-21 21:28:00,854 — INFO — layer 0, [1:4283], loss=-25.2588\n"
     ]
    },
    {
     "name": "stderr",
     "output_type": "stream",
     "text": [
      "epoch 1, layer 0:  39%|███████████████████████████▉                                           | 4333/11016 [10:58<17:23,  6.40it/s, loss=-10.3]"
     ]
    },
    {
     "name": "stdout",
     "output_type": "stream",
     "text": [
      "2025-07-21 21:28:08,435 — INFO — layer 0, [1:4333], loss=-12.2166\n",
      "2025-07-21 21:28:08,435 — INFO — layer 0, [1:4333], loss=-11.9135\n"
     ]
    },
    {
     "name": "stderr",
     "output_type": "stream",
     "text": [
      "epoch 1, layer 0:  40%|████████████████████████████▏                                          | 4383/11016 [11:06<16:54,  6.54it/s, loss=-9.54]"
     ]
    },
    {
     "name": "stdout",
     "output_type": "stream",
     "text": [
      "2025-07-21 21:28:16,096 — INFO — layer 0, [1:4383], loss=-10.4898\n",
      "2025-07-21 21:28:16,096 — INFO — layer 0, [1:4383], loss=-20.8619\n"
     ]
    },
    {
     "name": "stderr",
     "output_type": "stream",
     "text": [
      "epoch 1, layer 0:  40%|████████████████████████████▌                                          | 4433/11016 [11:14<16:52,  6.50it/s, loss=-10.3]"
     ]
    },
    {
     "name": "stdout",
     "output_type": "stream",
     "text": [
      "2025-07-21 21:28:23,668 — INFO — layer 0, [1:4433], loss=-15.3057\n",
      "2025-07-21 21:28:23,668 — INFO — layer 0, [1:4433], loss=-5.6195\n"
     ]
    },
    {
     "name": "stderr",
     "output_type": "stream",
     "text": [
      "epoch 1, layer 0:  41%|████████████████████████████▉                                          | 4483/11016 [11:21<16:09,  6.74it/s, loss=-9.74]"
     ]
    },
    {
     "name": "stdout",
     "output_type": "stream",
     "text": [
      "2025-07-21 21:28:31,245 — INFO — layer 0, [1:4483], loss=-8.8802\n",
      "2025-07-21 21:28:31,245 — INFO — layer 0, [1:4483], loss=-12.4544\n"
     ]
    },
    {
     "name": "stderr",
     "output_type": "stream",
     "text": [
      "epoch 1, layer 0:  41%|█████████████████████████████▋                                          | 4533/11016 [11:29<16:23,  6.59it/s, loss=-7.9]"
     ]
    },
    {
     "name": "stdout",
     "output_type": "stream",
     "text": [
      "2025-07-21 21:28:38,851 — INFO — layer 0, [1:4533], loss=-19.1428\n",
      "2025-07-21 21:28:38,851 — INFO — layer 0, [1:4533], loss=-10.0447\n"
     ]
    },
    {
     "name": "stderr",
     "output_type": "stream",
     "text": [
      "epoch 1, layer 0:  42%|█████████████████████████████▌                                         | 4583/11016 [11:36<15:54,  6.74it/s, loss=-11.2]"
     ]
    },
    {
     "name": "stdout",
     "output_type": "stream",
     "text": [
      "2025-07-21 21:28:46,322 — INFO — layer 0, [1:4583], loss=-2.4096\n",
      "2025-07-21 21:28:46,322 — INFO — layer 0, [1:4583], loss=-8.7383\n"
     ]
    },
    {
     "name": "stderr",
     "output_type": "stream",
     "text": [
      "epoch 1, layer 0:  42%|█████████████████████████████▊                                         | 4633/11016 [11:44<16:47,  6.33it/s, loss=-13.9]"
     ]
    },
    {
     "name": "stdout",
     "output_type": "stream",
     "text": [
      "2025-07-21 21:28:53,907 — INFO — layer 0, [1:4633], loss=-6.4208\n",
      "2025-07-21 21:28:53,907 — INFO — layer 0, [1:4633], loss=-16.5205\n"
     ]
    },
    {
     "name": "stderr",
     "output_type": "stream",
     "text": [
      "epoch 1, layer 0:  43%|██████████████████████████████▏                                        | 4683/11016 [11:51<16:28,  6.41it/s, loss=-8.76]"
     ]
    },
    {
     "name": "stdout",
     "output_type": "stream",
     "text": [
      "2025-07-21 21:29:01,437 — INFO — layer 0, [1:4683], loss=-18.8765\n",
      "2025-07-21 21:29:01,437 — INFO — layer 0, [1:4683], loss=-10.1838\n"
     ]
    },
    {
     "name": "stderr",
     "output_type": "stream",
     "text": [
      "epoch 1, layer 0:  43%|███████████████████████████████▎                                         | 4733/11016 [11:59<15:19,  6.83it/s, loss=-15]"
     ]
    },
    {
     "name": "stdout",
     "output_type": "stream",
     "text": [
      "2025-07-21 21:29:09,093 — INFO — layer 0, [1:4733], loss=-14.0722\n",
      "2025-07-21 21:29:09,093 — INFO — layer 0, [1:4733], loss=-16.8782\n"
     ]
    },
    {
     "name": "stderr",
     "output_type": "stream",
     "text": [
      "epoch 1, layer 0:  43%|██████████████████████████████▊                                        | 4783/11016 [12:07<15:48,  6.57it/s, loss=-18.2]"
     ]
    },
    {
     "name": "stdout",
     "output_type": "stream",
     "text": [
      "2025-07-21 21:29:16,604 — INFO — layer 0, [1:4783], loss=-19.9671\n",
      "2025-07-21 21:29:16,604 — INFO — layer 0, [1:4783], loss=-22.9320\n"
     ]
    },
    {
     "name": "stderr",
     "output_type": "stream",
     "text": [
      "epoch 1, layer 0:  44%|███████████████████████████████▏                                       | 4833/11016 [12:14<15:25,  6.68it/s, loss=-28.9]"
     ]
    },
    {
     "name": "stdout",
     "output_type": "stream",
     "text": [
      "2025-07-21 21:29:24,235 — INFO — layer 0, [1:4833], loss=-24.7240\n",
      "2025-07-21 21:29:24,235 — INFO — layer 0, [1:4833], loss=-23.6658\n"
     ]
    },
    {
     "name": "stderr",
     "output_type": "stream",
     "text": [
      "epoch 1, layer 0:  44%|███████████████████████████████▉                                        | 4883/11016 [12:22<15:28,  6.61it/s, loss=-4.7]"
     ]
    },
    {
     "name": "stdout",
     "output_type": "stream",
     "text": [
      "2025-07-21 21:29:31,783 — INFO — layer 0, [1:4883], loss=-8.3885\n",
      "2025-07-21 21:29:31,783 — INFO — layer 0, [1:4883], loss=-18.4956\n"
     ]
    },
    {
     "name": "stderr",
     "output_type": "stream",
     "text": [
      "epoch 1, layer 0:  45%|███████████████████████████████▊                                       | 4933/11016 [12:29<14:57,  6.78it/s, loss=-22.5]"
     ]
    },
    {
     "name": "stdout",
     "output_type": "stream",
     "text": [
      "2025-07-21 21:29:39,354 — INFO — layer 0, [1:4933], loss=-5.5702\n",
      "2025-07-21 21:29:39,354 — INFO — layer 0, [1:4933], loss=-26.2615\n"
     ]
    },
    {
     "name": "stderr",
     "output_type": "stream",
     "text": [
      "epoch 1, layer 0:  45%|████████████████████████████████                                       | 4983/11016 [12:37<14:47,  6.79it/s, loss=-6.47]"
     ]
    },
    {
     "name": "stdout",
     "output_type": "stream",
     "text": [
      "2025-07-21 21:29:47,227 — INFO — layer 0, [1:4983], loss=-7.9904\n",
      "2025-07-21 21:29:47,227 — INFO — layer 0, [1:4983], loss=-11.6629\n"
     ]
    },
    {
     "name": "stderr",
     "output_type": "stream",
     "text": [
      "epoch 1, layer 0:  46%|████████████████████████████████▍                                      | 5033/11016 [12:45<15:13,  6.55it/s, loss=-22.8]"
     ]
    },
    {
     "name": "stdout",
     "output_type": "stream",
     "text": [
      "2025-07-21 21:29:54,876 — INFO — layer 0, [1:5033], loss=-10.5559\n",
      "2025-07-21 21:29:54,876 — INFO — layer 0, [1:5033], loss=-23.6248\n"
     ]
    },
    {
     "name": "stderr",
     "output_type": "stream",
     "text": [
      "epoch 1, layer 0:  46%|████████████████████████████████▊                                      | 5083/11016 [12:52<14:08,  7.00it/s, loss=-11.8]"
     ]
    },
    {
     "name": "stdout",
     "output_type": "stream",
     "text": [
      "2025-07-21 21:30:02,435 — INFO — layer 0, [1:5083], loss=-14.3542\n",
      "2025-07-21 21:30:02,435 — INFO — layer 0, [1:5083], loss=-14.4103\n"
     ]
    },
    {
     "name": "stderr",
     "output_type": "stream",
     "text": [
      "epoch 1, layer 0:  47%|█████████████████████████████████                                      | 5133/11016 [13:00<16:27,  5.96it/s, loss=-11.4]"
     ]
    },
    {
     "name": "stdout",
     "output_type": "stream",
     "text": [
      "2025-07-21 21:30:10,246 — INFO — layer 0, [1:5133], loss=-18.4998\n",
      "2025-07-21 21:30:10,247 — INFO — layer 0, [1:5133], loss=-12.3575\n"
     ]
    },
    {
     "name": "stderr",
     "output_type": "stream",
     "text": [
      "epoch 1, layer 0:  47%|█████████████████████████████████▍                                     | 5183/11016 [13:08<14:28,  6.72it/s, loss=-16.5]"
     ]
    },
    {
     "name": "stdout",
     "output_type": "stream",
     "text": [
      "2025-07-21 21:30:17,756 — INFO — layer 0, [1:5183], loss=-14.2332\n",
      "2025-07-21 21:30:17,756 — INFO — layer 0, [1:5183], loss=-23.0672\n"
     ]
    },
    {
     "name": "stderr",
     "output_type": "stream",
     "text": [
      "epoch 1, layer 0:  48%|█████████████████████████████████▋                                     | 5233/11016 [13:15<16:54,  5.70it/s, loss=-15.7]"
     ]
    },
    {
     "name": "stdout",
     "output_type": "stream",
     "text": [
      "2025-07-21 21:30:25,408 — INFO — layer 0, [1:5233], loss=-18.7663\n",
      "2025-07-21 21:30:25,408 — INFO — layer 0, [1:5233], loss=-14.0194\n"
     ]
    },
    {
     "name": "stderr",
     "output_type": "stream",
     "text": [
      "epoch 1, layer 0:  48%|██████████████████████████████████                                     | 5283/11016 [13:23<14:28,  6.60it/s, loss=-21.8]"
     ]
    },
    {
     "name": "stdout",
     "output_type": "stream",
     "text": [
      "2025-07-21 21:30:32,986 — INFO — layer 0, [1:5283], loss=-13.5915\n",
      "2025-07-21 21:30:32,986 — INFO — layer 0, [1:5283], loss=-14.2841\n"
     ]
    },
    {
     "name": "stderr",
     "output_type": "stream",
     "text": [
      "epoch 1, layer 0:  48%|██████████████████████████████████▎                                    | 5333/11016 [13:31<13:15,  7.14it/s, loss=-18.7]"
     ]
    },
    {
     "name": "stdout",
     "output_type": "stream",
     "text": [
      "2025-07-21 21:30:40,533 — INFO — layer 0, [1:5333], loss=-11.4584\n",
      "2025-07-21 21:30:40,533 — INFO — layer 0, [1:5333], loss=-15.1393\n"
     ]
    },
    {
     "name": "stderr",
     "output_type": "stream",
     "text": [
      "epoch 1, layer 0:  49%|███████████████████████████████████▋                                     | 5383/11016 [13:38<14:52,  6.31it/s, loss=-15]"
     ]
    },
    {
     "name": "stdout",
     "output_type": "stream",
     "text": [
      "2025-07-21 21:30:48,219 — INFO — layer 0, [1:5383], loss=-8.6162\n",
      "2025-07-21 21:30:48,219 — INFO — layer 0, [1:5383], loss=-13.4500\n"
     ]
    },
    {
     "name": "stderr",
     "output_type": "stream",
     "text": [
      "epoch 1, layer 0:  49%|███████████████████████████████████                                    | 5433/11016 [13:46<13:38,  6.82it/s, loss=-12.2]"
     ]
    },
    {
     "name": "stdout",
     "output_type": "stream",
     "text": [
      "2025-07-21 21:30:55,763 — INFO — layer 0, [1:5433], loss=-19.2321\n",
      "2025-07-21 21:30:55,763 — INFO — layer 0, [1:5433], loss=-19.1757\n"
     ]
    },
    {
     "name": "stderr",
     "output_type": "stream",
     "text": [
      "epoch 1, layer 0:  50%|███████████████████████████████████▎                                   | 5483/11016 [13:53<14:26,  6.39it/s, loss=-21.8]"
     ]
    },
    {
     "name": "stdout",
     "output_type": "stream",
     "text": [
      "2025-07-21 21:31:03,420 — INFO — layer 0, [1:5483], loss=-6.1557\n",
      "2025-07-21 21:31:03,420 — INFO — layer 0, [1:5483], loss=-17.7122\n"
     ]
    },
    {
     "name": "stderr",
     "output_type": "stream",
     "text": [
      "epoch 1, layer 0:  50%|████████████████████████████████████▋                                    | 5533/11016 [14:01<13:18,  6.87it/s, loss=-21]"
     ]
    },
    {
     "name": "stdout",
     "output_type": "stream",
     "text": [
      "2025-07-21 21:31:11,093 — INFO — layer 0, [1:5533], loss=-11.3521\n",
      "2025-07-21 21:31:11,093 — INFO — layer 0, [1:5533], loss=-21.3990\n"
     ]
    },
    {
     "name": "stderr",
     "output_type": "stream",
     "text": [
      "epoch 1, layer 0:  51%|███████████████████████████████████▉                                   | 5583/11016 [14:09<13:37,  6.64it/s, loss=-12.5]"
     ]
    },
    {
     "name": "stdout",
     "output_type": "stream",
     "text": [
      "2025-07-21 21:31:18,685 — INFO — layer 0, [1:5583], loss=-15.9257\n",
      "2025-07-21 21:31:18,685 — INFO — layer 0, [1:5583], loss=-10.6826\n"
     ]
    },
    {
     "name": "stderr",
     "output_type": "stream",
     "text": [
      "epoch 1, layer 0:  51%|████████████████████████████████████▎                                  | 5633/11016 [14:16<14:17,  6.28it/s, loss=-14.2]"
     ]
    },
    {
     "name": "stdout",
     "output_type": "stream",
     "text": [
      "2025-07-21 21:31:26,259 — INFO — layer 0, [1:5633], loss=-7.7807\n",
      "2025-07-21 21:31:26,259 — INFO — layer 0, [1:5633], loss=-18.5324\n"
     ]
    },
    {
     "name": "stderr",
     "output_type": "stream",
     "text": [
      "epoch 1, layer 0:  52%|████████████████████████████████████▋                                  | 5683/11016 [14:24<13:12,  6.73it/s, loss=-23.5]"
     ]
    },
    {
     "name": "stdout",
     "output_type": "stream",
     "text": [
      "2025-07-21 21:31:33,873 — INFO — layer 0, [1:5683], loss=-5.7794\n",
      "2025-07-21 21:31:33,873 — INFO — layer 0, [1:5683], loss=-18.3939\n"
     ]
    },
    {
     "name": "stderr",
     "output_type": "stream",
     "text": [
      "epoch 1, layer 0:  52%|████████████████████████████████████▉                                  | 5733/11016 [14:31<12:39,  6.96it/s, loss=-23.4]"
     ]
    },
    {
     "name": "stdout",
     "output_type": "stream",
     "text": [
      "2025-07-21 21:31:41,351 — INFO — layer 0, [1:5733], loss=-19.5639\n",
      "2025-07-21 21:31:41,351 — INFO — layer 0, [1:5733], loss=-17.9523\n"
     ]
    },
    {
     "name": "stderr",
     "output_type": "stream",
     "text": [
      "epoch 1, layer 0:  52%|█████████████████████████████████████▎                                 | 5783/11016 [14:39<13:05,  6.66it/s, loss=-24.6]"
     ]
    },
    {
     "name": "stdout",
     "output_type": "stream",
     "text": [
      "2025-07-21 21:31:48,932 — INFO — layer 0, [1:5783], loss=-11.0175\n",
      "2025-07-21 21:31:48,932 — INFO — layer 0, [1:5783], loss=-9.7171\n"
     ]
    },
    {
     "name": "stderr",
     "output_type": "stream",
     "text": [
      "epoch 1, layer 0:  53%|█████████████████████████████████████▌                                 | 5833/11016 [14:47<12:58,  6.65it/s, loss=-17.3]"
     ]
    },
    {
     "name": "stdout",
     "output_type": "stream",
     "text": [
      "2025-07-21 21:31:56,521 — INFO — layer 0, [1:5833], loss=-24.4268\n",
      "2025-07-21 21:31:56,521 — INFO — layer 0, [1:5833], loss=-10.6939\n"
     ]
    },
    {
     "name": "stderr",
     "output_type": "stream",
     "text": [
      "epoch 1, layer 0:  53%|█████████████████████████████████████▉                                 | 5883/11016 [14:54<13:00,  6.58it/s, loss=-16.6]"
     ]
    },
    {
     "name": "stdout",
     "output_type": "stream",
     "text": [
      "2025-07-21 21:32:04,083 — INFO — layer 0, [1:5883], loss=-20.3499\n",
      "2025-07-21 21:32:04,083 — INFO — layer 0, [1:5883], loss=-7.4139\n"
     ]
    },
    {
     "name": "stderr",
     "output_type": "stream",
     "text": [
      "epoch 1, layer 0:  54%|███████████████████████████████████████▎                                 | 5933/11016 [15:02<12:37,  6.71it/s, loss=-17]"
     ]
    },
    {
     "name": "stdout",
     "output_type": "stream",
     "text": [
      "2025-07-21 21:32:11,761 — INFO — layer 0, [1:5933], loss=-11.5946\n",
      "2025-07-21 21:32:11,761 — INFO — layer 0, [1:5933], loss=-3.8171\n"
     ]
    },
    {
     "name": "stderr",
     "output_type": "stream",
     "text": [
      "epoch 1, layer 0:  54%|██████████████████████████████████████▌                                | 5983/11016 [15:09<13:12,  6.35it/s, loss=-18.8]"
     ]
    },
    {
     "name": "stdout",
     "output_type": "stream",
     "text": [
      "2025-07-21 21:32:19,441 — INFO — layer 0, [1:5983], loss=-8.7932\n",
      "2025-07-21 21:32:19,441 — INFO — layer 0, [1:5983], loss=-14.8635\n"
     ]
    },
    {
     "name": "stderr",
     "output_type": "stream",
     "text": [
      "epoch 1, layer 0:  55%|███████████████████████████████████████▍                                | 6033/11016 [15:17<12:50,  6.46it/s, loss=-4.8]"
     ]
    },
    {
     "name": "stdout",
     "output_type": "stream",
     "text": [
      "2025-07-21 21:32:27,165 — INFO — layer 0, [1:6033], loss=-18.8658\n",
      "2025-07-21 21:32:27,165 — INFO — layer 0, [1:6033], loss=-10.7819\n"
     ]
    },
    {
     "name": "stderr",
     "output_type": "stream",
     "text": [
      "epoch 1, layer 0:  55%|███████████████████████████████████████▏                               | 6083/11016 [15:25<12:03,  6.82it/s, loss=-14.6]"
     ]
    },
    {
     "name": "stdout",
     "output_type": "stream",
     "text": [
      "2025-07-21 21:32:34,683 — INFO — layer 0, [1:6083], loss=-15.2416\n",
      "2025-07-21 21:32:34,683 — INFO — layer 0, [1:6083], loss=-5.5399\n"
     ]
    },
    {
     "name": "stderr",
     "output_type": "stream",
     "text": [
      "epoch 1, layer 0:  56%|███████████████████████████████████████▌                               | 6133/11016 [15:32<12:47,  6.36it/s, loss=-24.5]"
     ]
    },
    {
     "name": "stdout",
     "output_type": "stream",
     "text": [
      "2025-07-21 21:32:42,302 — INFO — layer 0, [1:6133], loss=-6.0931\n",
      "2025-07-21 21:32:42,302 — INFO — layer 0, [1:6133], loss=-22.1088\n"
     ]
    },
    {
     "name": "stderr",
     "output_type": "stream",
     "text": [
      "epoch 1, layer 0:  56%|███████████████████████████████████████▊                               | 6183/11016 [15:40<13:27,  5.99it/s, loss=-14.5]"
     ]
    },
    {
     "name": "stdout",
     "output_type": "stream",
     "text": [
      "2025-07-21 21:32:49,798 — INFO — layer 0, [1:6183], loss=-12.8028\n",
      "2025-07-21 21:32:49,798 — INFO — layer 0, [1:6183], loss=-11.0718\n"
     ]
    },
    {
     "name": "stderr",
     "output_type": "stream",
     "text": [
      "epoch 1, layer 0:  57%|█████████████████████████████████████████▎                               | 6233/11016 [15:47<11:35,  6.87it/s, loss=-14]"
     ]
    },
    {
     "name": "stdout",
     "output_type": "stream",
     "text": [
      "2025-07-21 21:32:57,260 — INFO — layer 0, [1:6233], loss=-21.4014\n",
      "2025-07-21 21:32:57,260 — INFO — layer 0, [1:6233], loss=-17.8054\n"
     ]
    },
    {
     "name": "stderr",
     "output_type": "stream",
     "text": [
      "epoch 1, layer 0:  57%|████████████████████████████████████████▍                              | 6283/11016 [15:55<12:06,  6.52it/s, loss=-7.07]"
     ]
    },
    {
     "name": "stdout",
     "output_type": "stream",
     "text": [
      "2025-07-21 21:33:04,851 — INFO — layer 0, [1:6283], loss=-18.2341\n",
      "2025-07-21 21:33:04,851 — INFO — layer 0, [1:6283], loss=-20.4985\n"
     ]
    },
    {
     "name": "stderr",
     "output_type": "stream",
     "text": [
      "epoch 1, layer 0:  57%|████████████████████████████████████████▊                              | 6333/11016 [16:03<11:57,  6.53it/s, loss=-5.54]"
     ]
    },
    {
     "name": "stdout",
     "output_type": "stream",
     "text": [
      "2025-07-21 21:33:12,601 — INFO — layer 0, [1:6333], loss=-5.8088\n",
      "2025-07-21 21:33:12,601 — INFO — layer 0, [1:6333], loss=-13.5752\n"
     ]
    },
    {
     "name": "stderr",
     "output_type": "stream",
     "text": [
      "epoch 1, layer 0:  58%|██████████████████████████████████████████▎                              | 6383/11016 [16:10<11:28,  6.73it/s, loss=-11]"
     ]
    },
    {
     "name": "stdout",
     "output_type": "stream",
     "text": [
      "2025-07-21 21:33:20,160 — INFO — layer 0, [1:6383], loss=-8.7810\n",
      "2025-07-21 21:33:20,160 — INFO — layer 0, [1:6383], loss=-15.6166\n"
     ]
    },
    {
     "name": "stderr",
     "output_type": "stream",
     "text": [
      "epoch 1, layer 0:  58%|█████████████████████████████████████████▍                             | 6433/11016 [16:18<11:37,  6.57it/s, loss=-18.8]"
     ]
    },
    {
     "name": "stdout",
     "output_type": "stream",
     "text": [
      "2025-07-21 21:33:27,956 — INFO — layer 0, [1:6433], loss=-14.0146\n",
      "2025-07-21 21:33:27,956 — INFO — layer 0, [1:6433], loss=-23.6406\n"
     ]
    },
    {
     "name": "stderr",
     "output_type": "stream",
     "text": [
      "epoch 1, layer 0:  59%|█████████████████████████████████████████▊                             | 6483/11016 [16:26<11:15,  6.71it/s, loss=-23.8]"
     ]
    },
    {
     "name": "stdout",
     "output_type": "stream",
     "text": [
      "2025-07-21 21:33:35,584 — INFO — layer 0, [1:6483], loss=-21.6478\n",
      "2025-07-21 21:33:35,584 — INFO — layer 0, [1:6483], loss=-10.5733\n"
     ]
    },
    {
     "name": "stderr",
     "output_type": "stream",
     "text": [
      "epoch 1, layer 0:  59%|██████████████████████████████████████████                             | 6533/11016 [16:33<12:34,  5.94it/s, loss=-5.65]"
     ]
    },
    {
     "name": "stdout",
     "output_type": "stream",
     "text": [
      "2025-07-21 21:33:43,236 — INFO — layer 0, [1:6533], loss=-21.3465\n",
      "2025-07-21 21:33:43,236 — INFO — layer 0, [1:6533], loss=-7.8496\n"
     ]
    },
    {
     "name": "stderr",
     "output_type": "stream",
     "text": [
      "epoch 1, layer 0:  60%|██████████████████████████████████████████▍                            | 6583/11016 [16:41<11:50,  6.24it/s, loss=-15.8]"
     ]
    },
    {
     "name": "stdout",
     "output_type": "stream",
     "text": [
      "2025-07-21 21:33:50,765 — INFO — layer 0, [1:6583], loss=-21.6692\n",
      "2025-07-21 21:33:50,765 — INFO — layer 0, [1:6583], loss=-18.4987\n"
     ]
    },
    {
     "name": "stderr",
     "output_type": "stream",
     "text": [
      "epoch 1, layer 0:  60%|██████████████████████████████████████████▊                            | 6633/11016 [16:48<10:29,  6.96it/s, loss=-16.8]"
     ]
    },
    {
     "name": "stdout",
     "output_type": "stream",
     "text": [
      "2025-07-21 21:33:58,324 — INFO — layer 0, [1:6633], loss=-17.5567\n",
      "2025-07-21 21:33:58,324 — INFO — layer 0, [1:6633], loss=-8.9937\n"
     ]
    },
    {
     "name": "stderr",
     "output_type": "stream",
     "text": [
      "epoch 1, layer 0:  61%|███████████████████████████████████████████                            | 6683/11016 [16:56<10:54,  6.62it/s, loss=-7.79]"
     ]
    },
    {
     "name": "stdout",
     "output_type": "stream",
     "text": [
      "2025-07-21 21:34:06,129 — INFO — layer 0, [1:6683], loss=-13.8344\n",
      "2025-07-21 21:34:06,129 — INFO — layer 0, [1:6683], loss=-17.3259\n"
     ]
    },
    {
     "name": "stderr",
     "output_type": "stream",
     "text": [
      "epoch 1, layer 0:  61%|███████████████████████████████████████████▍                           | 6733/11016 [17:04<11:07,  6.42it/s, loss=-11.3]"
     ]
    },
    {
     "name": "stdout",
     "output_type": "stream",
     "text": [
      "2025-07-21 21:34:13,847 — INFO — layer 0, [1:6733], loss=-19.4227\n",
      "2025-07-21 21:34:13,847 — INFO — layer 0, [1:6733], loss=-10.7759\n"
     ]
    },
    {
     "name": "stderr",
     "output_type": "stream",
     "text": [
      "epoch 1, layer 0:  62%|███████████████████████████████████████████▋                           | 6783/11016 [17:11<10:25,  6.77it/s, loss=-9.95]"
     ]
    },
    {
     "name": "stdout",
     "output_type": "stream",
     "text": [
      "2025-07-21 21:34:21,513 — INFO — layer 0, [1:6783], loss=-20.1004\n",
      "2025-07-21 21:34:21,513 — INFO — layer 0, [1:6783], loss=-22.4098\n"
     ]
    },
    {
     "name": "stderr",
     "output_type": "stream",
     "text": [
      "epoch 1, layer 0:  62%|████████████████████████████████████████████                           | 6833/11016 [17:19<10:18,  6.77it/s, loss=-16.8]"
     ]
    },
    {
     "name": "stdout",
     "output_type": "stream",
     "text": [
      "2025-07-21 21:34:29,203 — INFO — layer 0, [1:6833], loss=-8.8100\n",
      "2025-07-21 21:34:29,203 — INFO — layer 0, [1:6833], loss=-6.2088\n"
     ]
    },
    {
     "name": "stderr",
     "output_type": "stream",
     "text": [
      "epoch 1, layer 0:  62%|████████████████████████████████████████████▎                          | 6883/11016 [17:27<09:59,  6.90it/s, loss=-10.1]"
     ]
    },
    {
     "name": "stdout",
     "output_type": "stream",
     "text": [
      "2025-07-21 21:34:36,848 — INFO — layer 0, [1:6883], loss=-10.5761\n",
      "2025-07-21 21:34:36,848 — INFO — layer 0, [1:6883], loss=-12.7360\n"
     ]
    },
    {
     "name": "stderr",
     "output_type": "stream",
     "text": [
      "epoch 1, layer 0:  63%|████████████████████████████████████████████▋                          | 6933/11016 [17:35<10:22,  6.56it/s, loss=-14.7]"
     ]
    },
    {
     "name": "stdout",
     "output_type": "stream",
     "text": [
      "2025-07-21 21:34:44,534 — INFO — layer 0, [1:6933], loss=-19.0038\n",
      "2025-07-21 21:34:44,534 — INFO — layer 0, [1:6933], loss=-18.1211\n"
     ]
    },
    {
     "name": "stderr",
     "output_type": "stream",
     "text": [
      "epoch 1, layer 0:  63%|█████████████████████████████████████████████                          | 6983/11016 [17:42<09:37,  6.98it/s, loss=-7.37]"
     ]
    },
    {
     "name": "stdout",
     "output_type": "stream",
     "text": [
      "2025-07-21 21:34:52,189 — INFO — layer 0, [1:6983], loss=-20.2430\n",
      "2025-07-21 21:34:52,189 — INFO — layer 0, [1:6983], loss=-17.8624\n"
     ]
    },
    {
     "name": "stderr",
     "output_type": "stream",
     "text": [
      "epoch 1, layer 0:  64%|█████████████████████████████████████████████▎                         | 7033/11016 [17:50<10:03,  6.60it/s, loss=-3.65]"
     ]
    },
    {
     "name": "stdout",
     "output_type": "stream",
     "text": [
      "2025-07-21 21:34:59,703 — INFO — layer 0, [1:7033], loss=-11.5530\n",
      "2025-07-21 21:34:59,703 — INFO — layer 0, [1:7033], loss=-11.7114\n"
     ]
    },
    {
     "name": "stderr",
     "output_type": "stream",
     "text": [
      "epoch 1, layer 0:  64%|█████████████████████████████████████████████▋                         | 7083/11016 [17:57<09:41,  6.76it/s, loss=-16.9]"
     ]
    },
    {
     "name": "stdout",
     "output_type": "stream",
     "text": [
      "2025-07-21 21:35:07,250 — INFO — layer 0, [1:7083], loss=-8.3673\n",
      "2025-07-21 21:35:07,250 — INFO — layer 0, [1:7083], loss=-5.2980\n"
     ]
    },
    {
     "name": "stderr",
     "output_type": "stream",
     "text": [
      "epoch 1, layer 0:  65%|█████████████████████████████████████████████▉                         | 7133/11016 [18:05<10:16,  6.30it/s, loss=-19.5]"
     ]
    },
    {
     "name": "stdout",
     "output_type": "stream",
     "text": [
      "2025-07-21 21:35:14,904 — INFO — layer 0, [1:7133], loss=-20.6457\n",
      "2025-07-21 21:35:14,904 — INFO — layer 0, [1:7133], loss=-7.4721\n"
     ]
    },
    {
     "name": "stderr",
     "output_type": "stream",
     "text": [
      "epoch 1, layer 0:  65%|██████████████████████████████████████████████▎                        | 7183/11016 [18:13<10:46,  5.93it/s, loss=-22.2]"
     ]
    },
    {
     "name": "stdout",
     "output_type": "stream",
     "text": [
      "2025-07-21 21:35:22,562 — INFO — layer 0, [1:7183], loss=-17.0690\n",
      "2025-07-21 21:35:22,562 — INFO — layer 0, [1:7183], loss=-11.1469\n"
     ]
    },
    {
     "name": "stderr",
     "output_type": "stream",
     "text": [
      "epoch 1, layer 0:  66%|██████████████████████████████████████████████▌                        | 7233/11016 [18:20<09:46,  6.44it/s, loss=-26.1]"
     ]
    },
    {
     "name": "stdout",
     "output_type": "stream",
     "text": [
      "2025-07-21 21:35:30,081 — INFO — layer 0, [1:7233], loss=-16.3012\n",
      "2025-07-21 21:35:30,081 — INFO — layer 0, [1:7233], loss=-11.3428\n"
     ]
    },
    {
     "name": "stderr",
     "output_type": "stream",
     "text": [
      "epoch 1, layer 0:  66%|██████████████████████████████████████████████▉                        | 7283/11016 [18:28<09:07,  6.82it/s, loss=-8.74]"
     ]
    },
    {
     "name": "stdout",
     "output_type": "stream",
     "text": [
      "2025-07-21 21:35:37,814 — INFO — layer 0, [1:7283], loss=-18.3477\n",
      "2025-07-21 21:35:37,814 — INFO — layer 0, [1:7283], loss=-8.6128\n"
     ]
    },
    {
     "name": "stderr",
     "output_type": "stream",
     "text": [
      "epoch 1, layer 0:  67%|███████████████████████████████████████████████▎                       | 7333/11016 [18:35<09:18,  6.60it/s, loss=-15.2]"
     ]
    },
    {
     "name": "stdout",
     "output_type": "stream",
     "text": [
      "2025-07-21 21:35:45,435 — INFO — layer 0, [1:7333], loss=-16.8428\n",
      "2025-07-21 21:35:45,435 — INFO — layer 0, [1:7333], loss=-13.7940\n"
     ]
    },
    {
     "name": "stderr",
     "output_type": "stream",
     "text": [
      "epoch 1, layer 0:  67%|███████████████████████████████████████████████▌                       | 7383/11016 [18:43<09:16,  6.52it/s, loss=-6.92]"
     ]
    },
    {
     "name": "stdout",
     "output_type": "stream",
     "text": [
      "2025-07-21 21:35:53,114 — INFO — layer 0, [1:7383], loss=-13.8493\n",
      "2025-07-21 21:35:53,114 — INFO — layer 0, [1:7383], loss=-15.3373\n"
     ]
    },
    {
     "name": "stderr",
     "output_type": "stream",
     "text": [
      "epoch 1, layer 0:  67%|███████████████████████████████████████████████▉                       | 7433/11016 [18:51<09:15,  6.45it/s, loss=-17.5]"
     ]
    },
    {
     "name": "stdout",
     "output_type": "stream",
     "text": [
      "2025-07-21 21:36:00,696 — INFO — layer 0, [1:7433], loss=-5.5113\n",
      "2025-07-21 21:36:00,696 — INFO — layer 0, [1:7433], loss=-21.6564\n"
     ]
    },
    {
     "name": "stderr",
     "output_type": "stream",
     "text": [
      "epoch 1, layer 0:  68%|████████████████████████████████████████████████▏                      | 7483/11016 [18:58<09:21,  6.29it/s, loss=-8.24]"
     ]
    },
    {
     "name": "stdout",
     "output_type": "stream",
     "text": [
      "2025-07-21 21:36:08,434 — INFO — layer 0, [1:7483], loss=-7.1144\n",
      "2025-07-21 21:36:08,434 — INFO — layer 0, [1:7483], loss=-8.1199\n"
     ]
    },
    {
     "name": "stderr",
     "output_type": "stream",
     "text": [
      "epoch 1, layer 0:  68%|████████████████████████████████████████████████▌                      | 7533/11016 [19:06<08:34,  6.77it/s, loss=-23.3]"
     ]
    },
    {
     "name": "stdout",
     "output_type": "stream",
     "text": [
      "2025-07-21 21:36:16,072 — INFO — layer 0, [1:7533], loss=-7.5418\n",
      "2025-07-21 21:36:16,072 — INFO — layer 0, [1:7533], loss=-5.9093\n"
     ]
    },
    {
     "name": "stderr",
     "output_type": "stream",
     "text": [
      "epoch 1, layer 0:  69%|████████████████████████████████████████████████▊                      | 7583/11016 [19:14<08:17,  6.90it/s, loss=-19.6]"
     ]
    },
    {
     "name": "stdout",
     "output_type": "stream",
     "text": [
      "2025-07-21 21:36:23,665 — INFO — layer 0, [1:7583], loss=-6.9375\n",
      "2025-07-21 21:36:23,665 — INFO — layer 0, [1:7583], loss=-23.7045\n"
     ]
    },
    {
     "name": "stderr",
     "output_type": "stream",
     "text": [
      "epoch 1, layer 0:  69%|█████████████████████████████████████████████████▏                     | 7633/11016 [19:21<08:24,  6.71it/s, loss=-19.6]"
     ]
    },
    {
     "name": "stdout",
     "output_type": "stream",
     "text": [
      "2025-07-21 21:36:31,265 — INFO — layer 0, [1:7633], loss=-18.9537\n",
      "2025-07-21 21:36:31,265 — INFO — layer 0, [1:7633], loss=-7.2125\n"
     ]
    },
    {
     "name": "stderr",
     "output_type": "stream",
     "text": [
      "epoch 1, layer 0:  70%|█████████████████████████████████████████████████▌                     | 7683/11016 [19:29<08:25,  6.60it/s, loss=-19.3]"
     ]
    },
    {
     "name": "stdout",
     "output_type": "stream",
     "text": [
      "2025-07-21 21:36:38,815 — INFO — layer 0, [1:7683], loss=-24.2976\n",
      "2025-07-21 21:36:38,815 — INFO — layer 0, [1:7683], loss=-16.7673\n"
     ]
    },
    {
     "name": "stderr",
     "output_type": "stream",
     "text": [
      "epoch 1, layer 0:  70%|█████████████████████████████████████████████████▊                     | 7733/11016 [19:37<08:34,  6.38it/s, loss=-10.4]"
     ]
    },
    {
     "name": "stdout",
     "output_type": "stream",
     "text": [
      "2025-07-21 21:36:46,555 — INFO — layer 0, [1:7733], loss=-17.7953\n",
      "2025-07-21 21:36:46,555 — INFO — layer 0, [1:7733], loss=-12.0067\n"
     ]
    },
    {
     "name": "stderr",
     "output_type": "stream",
     "text": [
      "epoch 1, layer 0:  71%|██████████████████████████████████████████████████▏                    | 7783/11016 [19:44<08:19,  6.47it/s, loss=-10.4]"
     ]
    },
    {
     "name": "stdout",
     "output_type": "stream",
     "text": [
      "2025-07-21 21:36:54,214 — INFO — layer 0, [1:7783], loss=-12.3814\n",
      "2025-07-21 21:36:54,214 — INFO — layer 0, [1:7783], loss=-4.5100\n"
     ]
    },
    {
     "name": "stderr",
     "output_type": "stream",
     "text": [
      "epoch 1, layer 0:  71%|██████████████████████████████████████████████████▍                    | 7833/11016 [19:52<08:09,  6.50it/s, loss=-14.2]"
     ]
    },
    {
     "name": "stdout",
     "output_type": "stream",
     "text": [
      "2025-07-21 21:37:01,743 — INFO — layer 0, [1:7833], loss=-11.1327\n",
      "2025-07-21 21:37:01,743 — INFO — layer 0, [1:7833], loss=-8.2679\n"
     ]
    },
    {
     "name": "stderr",
     "output_type": "stream",
     "text": [
      "epoch 1, layer 0:  72%|██████████████████████████████████████████████████▊                    | 7883/11016 [19:59<08:20,  6.26it/s, loss=-21.9]"
     ]
    },
    {
     "name": "stdout",
     "output_type": "stream",
     "text": [
      "2025-07-21 21:37:09,384 — INFO — layer 0, [1:7883], loss=-6.9497\n",
      "2025-07-21 21:37:09,384 — INFO — layer 0, [1:7883], loss=-9.8471\n"
     ]
    },
    {
     "name": "stderr",
     "output_type": "stream",
     "text": [
      "epoch 1, layer 0:  72%|███████████████████████████████████████████████████▏                   | 7933/11016 [20:07<08:46,  5.86it/s, loss=-16.4]"
     ]
    },
    {
     "name": "stdout",
     "output_type": "stream",
     "text": [
      "2025-07-21 21:37:16,810 — INFO — layer 0, [1:7933], loss=-4.9836\n",
      "2025-07-21 21:37:16,810 — INFO — layer 0, [1:7933], loss=-14.5308\n"
     ]
    },
    {
     "name": "stderr",
     "output_type": "stream",
     "text": [
      "epoch 1, layer 0:  72%|███████████████████████████████████████████████████▍                   | 7983/11016 [20:14<07:17,  6.94it/s, loss=-9.96]"
     ]
    },
    {
     "name": "stdout",
     "output_type": "stream",
     "text": [
      "2025-07-21 21:37:24,349 — INFO — layer 0, [1:7983], loss=-19.3546\n",
      "2025-07-21 21:37:24,349 — INFO — layer 0, [1:7983], loss=-8.4750\n"
     ]
    },
    {
     "name": "stderr",
     "output_type": "stream",
     "text": [
      "epoch 1, layer 0:  73%|████████████████████████████████████████████████████▌                   | 8033/11016 [20:22<07:30,  6.63it/s, loss=-2.7]"
     ]
    },
    {
     "name": "stdout",
     "output_type": "stream",
     "text": [
      "2025-07-21 21:37:31,858 — INFO — layer 0, [1:8033], loss=-14.2985\n",
      "2025-07-21 21:37:31,858 — INFO — layer 0, [1:8033], loss=-10.3216\n"
     ]
    },
    {
     "name": "stderr",
     "output_type": "stream",
     "text": [
      "epoch 1, layer 0:  73%|████████████████████████████████████████████████████                   | 8083/11016 [20:29<07:47,  6.28it/s, loss=-11.7]"
     ]
    },
    {
     "name": "stdout",
     "output_type": "stream",
     "text": [
      "2025-07-21 21:37:39,476 — INFO — layer 0, [1:8083], loss=-22.4241\n",
      "2025-07-21 21:37:39,476 — INFO — layer 0, [1:8083], loss=-6.0704\n"
     ]
    },
    {
     "name": "stderr",
     "output_type": "stream",
     "text": [
      "epoch 1, layer 0:  74%|████████████████████████████████████████████████████▍                  | 8133/11016 [20:37<07:34,  6.34it/s, loss=-7.75]"
     ]
    },
    {
     "name": "stdout",
     "output_type": "stream",
     "text": [
      "2025-07-21 21:37:47,041 — INFO — layer 0, [1:8133], loss=-19.1353\n",
      "2025-07-21 21:37:47,041 — INFO — layer 0, [1:8133], loss=-11.0613\n"
     ]
    },
    {
     "name": "stderr",
     "output_type": "stream",
     "text": [
      "epoch 1, layer 0:  74%|████████████████████████████████████████████████████▋                  | 8183/11016 [20:45<07:06,  6.64it/s, loss=-4.84]"
     ]
    },
    {
     "name": "stdout",
     "output_type": "stream",
     "text": [
      "2025-07-21 21:37:54,783 — INFO — layer 0, [1:8183], loss=-6.9157\n",
      "2025-07-21 21:37:54,783 — INFO — layer 0, [1:8183], loss=-10.4969\n"
     ]
    },
    {
     "name": "stderr",
     "output_type": "stream",
     "text": [
      "epoch 1, layer 0:  75%|█████████████████████████████████████████████████████                  | 8233/11016 [20:52<06:30,  7.13it/s, loss=-14.4]"
     ]
    },
    {
     "name": "stdout",
     "output_type": "stream",
     "text": [
      "2025-07-21 21:38:02,391 — INFO — layer 0, [1:8233], loss=-23.1622\n",
      "2025-07-21 21:38:02,391 — INFO — layer 0, [1:8233], loss=-21.7061\n"
     ]
    },
    {
     "name": "stderr",
     "output_type": "stream",
     "text": [
      "epoch 1, layer 0:  75%|█████████████████████████████████████████████████████▍                 | 8283/11016 [21:00<06:48,  6.68it/s, loss=-18.5]"
     ]
    },
    {
     "name": "stdout",
     "output_type": "stream",
     "text": [
      "2025-07-21 21:38:09,900 — INFO — layer 0, [1:8283], loss=-16.5159\n",
      "2025-07-21 21:38:09,900 — INFO — layer 0, [1:8283], loss=-2.6888\n"
     ]
    },
    {
     "name": "stderr",
     "output_type": "stream",
     "text": [
      "epoch 1, layer 0:  76%|███████████████████████████████████████████████████████▏                 | 8333/11016 [21:07<06:45,  6.61it/s, loss=-24]"
     ]
    },
    {
     "name": "stdout",
     "output_type": "stream",
     "text": [
      "2025-07-21 21:38:17,460 — INFO — layer 0, [1:8333], loss=-7.8643\n",
      "2025-07-21 21:38:17,460 — INFO — layer 0, [1:8333], loss=-15.4834\n"
     ]
    },
    {
     "name": "stderr",
     "output_type": "stream",
     "text": [
      "epoch 1, layer 0:  76%|██████████████████████████████████████████████████████                 | 8383/11016 [21:15<06:21,  6.90it/s, loss=-9.39]"
     ]
    },
    {
     "name": "stdout",
     "output_type": "stream",
     "text": [
      "2025-07-21 21:38:25,047 — INFO — layer 0, [1:8383], loss=-10.2535\n",
      "2025-07-21 21:38:25,047 — INFO — layer 0, [1:8383], loss=-3.2572\n"
     ]
    },
    {
     "name": "stderr",
     "output_type": "stream",
     "text": [
      "epoch 1, layer 0:  77%|██████████████████████████████████████████████████████▎                | 8433/11016 [21:23<06:22,  6.76it/s, loss=-14.5]"
     ]
    },
    {
     "name": "stdout",
     "output_type": "stream",
     "text": [
      "2025-07-21 21:38:32,610 — INFO — layer 0, [1:8433], loss=-14.9752\n",
      "2025-07-21 21:38:32,610 — INFO — layer 0, [1:8433], loss=-5.7497\n"
     ]
    },
    {
     "name": "stderr",
     "output_type": "stream",
     "text": [
      "epoch 1, layer 0:  77%|██████████████████████████████████████████████████████▋                | 8483/11016 [21:30<06:46,  6.23it/s, loss=-11.8]"
     ]
    },
    {
     "name": "stdout",
     "output_type": "stream",
     "text": [
      "2025-07-21 21:38:40,163 — INFO — layer 0, [1:8483], loss=-14.8730\n",
      "2025-07-21 21:38:40,163 — INFO — layer 0, [1:8483], loss=-16.5979\n"
     ]
    },
    {
     "name": "stderr",
     "output_type": "stream",
     "text": [
      "epoch 1, layer 0:  77%|██████████████████████████████████████████████████████▉                | 8533/11016 [21:38<06:24,  6.45it/s, loss=0.119]"
     ]
    },
    {
     "name": "stdout",
     "output_type": "stream",
     "text": [
      "2025-07-21 21:38:47,758 — INFO — layer 0, [1:8533], loss=-9.3255\n",
      "2025-07-21 21:38:47,758 — INFO — layer 0, [1:8533], loss=-10.1118\n"
     ]
    },
    {
     "name": "stderr",
     "output_type": "stream",
     "text": [
      "epoch 1, layer 0:  78%|███████████████████████████████████████████████████████▎               | 8583/11016 [21:45<06:11,  6.54it/s, loss=-14.4]"
     ]
    },
    {
     "name": "stdout",
     "output_type": "stream",
     "text": [
      "2025-07-21 21:38:55,439 — INFO — layer 0, [1:8583], loss=-12.2118\n",
      "2025-07-21 21:38:55,439 — INFO — layer 0, [1:8583], loss=-8.8012\n"
     ]
    },
    {
     "name": "stderr",
     "output_type": "stream",
     "text": [
      "epoch 1, layer 0:  78%|███████████████████████████████████████████████████████▋               | 8633/11016 [21:53<05:51,  6.78it/s, loss=-13.4]"
     ]
    },
    {
     "name": "stdout",
     "output_type": "stream",
     "text": [
      "2025-07-21 21:39:03,125 — INFO — layer 0, [1:8633], loss=-9.4876\n",
      "2025-07-21 21:39:03,126 — INFO — layer 0, [1:8633], loss=-23.7893\n"
     ]
    },
    {
     "name": "stderr",
     "output_type": "stream",
     "text": [
      "epoch 1, layer 0:  79%|███████████████████████████████████████████████████████▉               | 8683/11016 [22:01<05:58,  6.51it/s, loss=-6.39]"
     ]
    },
    {
     "name": "stdout",
     "output_type": "stream",
     "text": [
      "2025-07-21 21:39:10,606 — INFO — layer 0, [1:8683], loss=-15.7246\n",
      "2025-07-21 21:39:10,606 — INFO — layer 0, [1:8683], loss=-10.5933\n"
     ]
    },
    {
     "name": "stderr",
     "output_type": "stream",
     "text": [
      "epoch 1, layer 0:  79%|████████████████████████████████████████████████████████▎              | 8733/11016 [22:08<05:37,  6.77it/s, loss=-21.6]"
     ]
    },
    {
     "name": "stdout",
     "output_type": "stream",
     "text": [
      "2025-07-21 21:39:18,126 — INFO — layer 0, [1:8733], loss=-17.1307\n",
      "2025-07-21 21:39:18,126 — INFO — layer 0, [1:8733], loss=-15.0976\n"
     ]
    },
    {
     "name": "stderr",
     "output_type": "stream",
     "text": [
      "epoch 1, layer 0:  80%|██████████████████████████████████████████████████████████▏              | 8783/11016 [22:16<05:32,  6.71it/s, loss=-14]"
     ]
    },
    {
     "name": "stdout",
     "output_type": "stream",
     "text": [
      "2025-07-21 21:39:25,719 — INFO — layer 0, [1:8783], loss=-16.3359\n",
      "2025-07-21 21:39:25,719 — INFO — layer 0, [1:8783], loss=-10.5199\n"
     ]
    },
    {
     "name": "stderr",
     "output_type": "stream",
     "text": [
      "epoch 1, layer 0:  80%|████████████████████████████████████████████████████████▉              | 8833/11016 [22:23<05:20,  6.82it/s, loss=-8.03]"
     ]
    },
    {
     "name": "stdout",
     "output_type": "stream",
     "text": [
      "2025-07-21 21:39:33,129 — INFO — layer 0, [1:8833], loss=-18.5949\n",
      "2025-07-21 21:39:33,129 — INFO — layer 0, [1:8833], loss=-22.5800\n"
     ]
    },
    {
     "name": "stderr",
     "output_type": "stream",
     "text": [
      "epoch 1, layer 0:  81%|█████████████████████████████████████████████████████████▎             | 8883/11016 [22:31<05:14,  6.78it/s, loss=-14.8]"
     ]
    },
    {
     "name": "stdout",
     "output_type": "stream",
     "text": [
      "2025-07-21 21:39:40,790 — INFO — layer 0, [1:8883], loss=-18.9822\n",
      "2025-07-21 21:39:40,790 — INFO — layer 0, [1:8883], loss=-14.7787\n"
     ]
    },
    {
     "name": "stderr",
     "output_type": "stream",
     "text": [
      "epoch 1, layer 0:  81%|█████████████████████████████████████████████████████████▌             | 8933/11016 [22:38<05:25,  6.40it/s, loss=-18.7]"
     ]
    },
    {
     "name": "stdout",
     "output_type": "stream",
     "text": [
      "2025-07-21 21:39:48,427 — INFO — layer 0, [1:8933], loss=-10.5425\n",
      "2025-07-21 21:39:48,427 — INFO — layer 0, [1:8933], loss=-23.3305\n"
     ]
    },
    {
     "name": "stderr",
     "output_type": "stream",
     "text": [
      "epoch 1, layer 0:  82%|█████████████████████████████████████████████████████████▉             | 8983/11016 [22:46<05:01,  6.73it/s, loss=-22.5]"
     ]
    },
    {
     "name": "stdout",
     "output_type": "stream",
     "text": [
      "2025-07-21 21:39:55,802 — INFO — layer 0, [1:8983], loss=-15.0750\n",
      "2025-07-21 21:39:55,802 — INFO — layer 0, [1:8983], loss=-9.1076\n"
     ]
    },
    {
     "name": "stderr",
     "output_type": "stream",
     "text": [
      "epoch 1, layer 0:  82%|██████████████████████████████████████████████████████████▏            | 9033/11016 [22:53<05:03,  6.54it/s, loss=-24.4]"
     ]
    },
    {
     "name": "stdout",
     "output_type": "stream",
     "text": [
      "2025-07-21 21:40:03,246 — INFO — layer 0, [1:9033], loss=-16.5754\n",
      "2025-07-21 21:40:03,246 — INFO — layer 0, [1:9033], loss=-22.2805\n"
     ]
    },
    {
     "name": "stderr",
     "output_type": "stream",
     "text": [
      "epoch 1, layer 0:  82%|██████████████████████████████████████████████████████████▌            | 9083/11016 [23:01<04:59,  6.46it/s, loss=-16.8]"
     ]
    },
    {
     "name": "stdout",
     "output_type": "stream",
     "text": [
      "2025-07-21 21:40:10,930 — INFO — layer 0, [1:9083], loss=-12.7878\n",
      "2025-07-21 21:40:10,930 — INFO — layer 0, [1:9083], loss=-14.3659\n"
     ]
    },
    {
     "name": "stderr",
     "output_type": "stream",
     "text": [
      "epoch 1, layer 0:  83%|██████████████████████████████████████████████████████████▊            | 9133/11016 [23:08<04:52,  6.44it/s, loss=-18.4]"
     ]
    },
    {
     "name": "stdout",
     "output_type": "stream",
     "text": [
      "2025-07-21 21:40:18,483 — INFO — layer 0, [1:9133], loss=-13.2438\n",
      "2025-07-21 21:40:18,483 — INFO — layer 0, [1:9133], loss=-12.9801\n"
     ]
    },
    {
     "name": "stderr",
     "output_type": "stream",
     "text": [
      "epoch 1, layer 0:  83%|███████████████████████████████████████████████████████████▏           | 9183/11016 [23:16<05:38,  5.41it/s, loss=-11.4]"
     ]
    },
    {
     "name": "stdout",
     "output_type": "stream",
     "text": [
      "2025-07-21 21:40:26,295 — INFO — layer 0, [1:9183], loss=-11.8700\n",
      "2025-07-21 21:40:26,295 — INFO — layer 0, [1:9183], loss=-5.9470\n"
     ]
    },
    {
     "name": "stderr",
     "output_type": "stream",
     "text": [
      "epoch 1, layer 0:  84%|███████████████████████████████████████████████████████████▌           | 9233/11016 [23:24<04:25,  6.72it/s, loss=-11.1]"
     ]
    },
    {
     "name": "stdout",
     "output_type": "stream",
     "text": [
      "2025-07-21 21:40:33,762 — INFO — layer 0, [1:9233], loss=-19.1515\n",
      "2025-07-21 21:40:33,762 — INFO — layer 0, [1:9233], loss=-8.2082\n"
     ]
    },
    {
     "name": "stderr",
     "output_type": "stream",
     "text": [
      "epoch 1, layer 0:  84%|███████████████████████████████████████████████████████████▊           | 9283/11016 [23:31<04:32,  6.36it/s, loss=-16.8]"
     ]
    },
    {
     "name": "stdout",
     "output_type": "stream",
     "text": [
      "2025-07-21 21:40:41,416 — INFO — layer 0, [1:9283], loss=-10.0858\n",
      "2025-07-21 21:40:41,416 — INFO — layer 0, [1:9283], loss=-19.0636\n"
     ]
    },
    {
     "name": "stderr",
     "output_type": "stream",
     "text": [
      "epoch 1, layer 0:  85%|████████████████████████████████████████████████████████████▏          | 9333/11016 [23:39<04:07,  6.81it/s, loss=-13.7]"
     ]
    },
    {
     "name": "stdout",
     "output_type": "stream",
     "text": [
      "2025-07-21 21:40:48,963 — INFO — layer 0, [1:9333], loss=-21.8113\n",
      "2025-07-21 21:40:48,963 — INFO — layer 0, [1:9333], loss=-17.4377\n"
     ]
    },
    {
     "name": "stderr",
     "output_type": "stream",
     "text": [
      "epoch 1, layer 0:  85%|████████████████████████████████████████████████████████████▍          | 9383/11016 [23:47<04:22,  6.23it/s, loss=-22.7]"
     ]
    },
    {
     "name": "stdout",
     "output_type": "stream",
     "text": [
      "2025-07-21 21:40:56,530 — INFO — layer 0, [1:9383], loss=-7.7787\n",
      "2025-07-21 21:40:56,531 — INFO — layer 0, [1:9383], loss=-18.7763\n"
     ]
    },
    {
     "name": "stderr",
     "output_type": "stream",
     "text": [
      "epoch 1, layer 0:  86%|████████████████████████████████████████████████████████████▊          | 9433/11016 [23:54<04:03,  6.50it/s, loss=-10.8]"
     ]
    },
    {
     "name": "stdout",
     "output_type": "stream",
     "text": [
      "2025-07-21 21:41:04,176 — INFO — layer 0, [1:9433], loss=-8.0449\n",
      "2025-07-21 21:41:04,176 — INFO — layer 0, [1:9433], loss=-15.5595\n"
     ]
    },
    {
     "name": "stderr",
     "output_type": "stream",
     "text": [
      "epoch 1, layer 0:  86%|█████████████████████████████████████████████████████████████          | 9483/11016 [24:02<03:47,  6.74it/s, loss=-18.1]"
     ]
    },
    {
     "name": "stdout",
     "output_type": "stream",
     "text": [
      "2025-07-21 21:41:11,790 — INFO — layer 0, [1:9483], loss=-15.2091\n",
      "2025-07-21 21:41:11,790 — INFO — layer 0, [1:9483], loss=-7.2793\n"
     ]
    },
    {
     "name": "stderr",
     "output_type": "stream",
     "text": [
      "epoch 1, layer 0:  87%|█████████████████████████████████████████████████████████████▍         | 9533/11016 [24:09<03:49,  6.47it/s, loss=-17.6]"
     ]
    },
    {
     "name": "stdout",
     "output_type": "stream",
     "text": [
      "2025-07-21 21:41:19,414 — INFO — layer 0, [1:9533], loss=-14.8459\n",
      "2025-07-21 21:41:19,414 — INFO — layer 0, [1:9533], loss=-17.4205\n"
     ]
    },
    {
     "name": "stderr",
     "output_type": "stream",
     "text": [
      "epoch 1, layer 0:  87%|█████████████████████████████████████████████████████████████▊         | 9583/11016 [24:17<03:31,  6.78it/s, loss=-21.7]"
     ]
    },
    {
     "name": "stdout",
     "output_type": "stream",
     "text": [
      "2025-07-21 21:41:27,047 — INFO — layer 0, [1:9583], loss=-18.6548\n",
      "2025-07-21 21:41:27,047 — INFO — layer 0, [1:9583], loss=-13.5779\n"
     ]
    },
    {
     "name": "stderr",
     "output_type": "stream",
     "text": [
      "epoch 1, layer 0:  87%|██████████████████████████████████████████████████████████████         | 9633/11016 [24:25<03:40,  6.28it/s, loss=-12.9]"
     ]
    },
    {
     "name": "stdout",
     "output_type": "stream",
     "text": [
      "2025-07-21 21:41:34,738 — INFO — layer 0, [1:9633], loss=-20.7488\n",
      "2025-07-21 21:41:34,738 — INFO — layer 0, [1:9633], loss=-18.1742\n"
     ]
    },
    {
     "name": "stderr",
     "output_type": "stream",
     "text": [
      "epoch 1, layer 0:  88%|██████████████████████████████████████████████████████████████▍        | 9683/11016 [24:32<03:13,  6.90it/s, loss=-14.2]"
     ]
    },
    {
     "name": "stdout",
     "output_type": "stream",
     "text": [
      "2025-07-21 21:41:42,258 — INFO — layer 0, [1:9683], loss=-8.1592\n",
      "2025-07-21 21:41:42,258 — INFO — layer 0, [1:9683], loss=-14.8686\n"
     ]
    },
    {
     "name": "stderr",
     "output_type": "stream",
     "text": [
      "epoch 1, layer 0:  88%|████████████████████████████████████████████████████████████████▍        | 9733/11016 [24:40<03:14,  6.60it/s, loss=-14]"
     ]
    },
    {
     "name": "stdout",
     "output_type": "stream",
     "text": [
      "2025-07-21 21:41:49,839 — INFO — layer 0, [1:9733], loss=-6.0642\n",
      "2025-07-21 21:41:49,839 — INFO — layer 0, [1:9733], loss=-17.6912\n"
     ]
    },
    {
     "name": "stderr",
     "output_type": "stream",
     "text": [
      "epoch 1, layer 0:  89%|███████████████████████████████████████████████████████████████        | 9783/11016 [24:47<03:12,  6.41it/s, loss=-13.8]"
     ]
    },
    {
     "name": "stdout",
     "output_type": "stream",
     "text": [
      "2025-07-21 21:41:57,473 — INFO — layer 0, [1:9783], loss=-16.3933\n",
      "2025-07-21 21:41:57,473 — INFO — layer 0, [1:9783], loss=-14.3017\n"
     ]
    },
    {
     "name": "stderr",
     "output_type": "stream",
     "text": [
      "epoch 1, layer 0:  89%|███████████████████████████████████████████████████████████████▍       | 9833/11016 [24:55<03:01,  6.53it/s, loss=-9.64]"
     ]
    },
    {
     "name": "stdout",
     "output_type": "stream",
     "text": [
      "2025-07-21 21:42:05,023 — INFO — layer 0, [1:9833], loss=-22.8392\n",
      "2025-07-21 21:42:05,023 — INFO — layer 0, [1:9833], loss=-16.3459\n"
     ]
    },
    {
     "name": "stderr",
     "output_type": "stream",
     "text": [
      "epoch 1, layer 0:  90%|███████████████████████████████████████████████████████████████▋       | 9883/11016 [25:03<02:49,  6.68it/s, loss=-27.1]"
     ]
    },
    {
     "name": "stdout",
     "output_type": "stream",
     "text": [
      "2025-07-21 21:42:12,566 — INFO — layer 0, [1:9883], loss=-13.6256\n",
      "2025-07-21 21:42:12,566 — INFO — layer 0, [1:9883], loss=-8.3582\n"
     ]
    },
    {
     "name": "stderr",
     "output_type": "stream",
     "text": [
      "epoch 1, layer 0:  90%|████████████████████████████████████████████████████████████████       | 9933/11016 [25:10<02:43,  6.61it/s, loss=-12.9]"
     ]
    },
    {
     "name": "stdout",
     "output_type": "stream",
     "text": [
      "2025-07-21 21:42:20,192 — INFO — layer 0, [1:9933], loss=-18.1810\n",
      "2025-07-21 21:42:20,192 — INFO — layer 0, [1:9933], loss=-11.2361\n"
     ]
    },
    {
     "name": "stderr",
     "output_type": "stream",
     "text": [
      "epoch 1, layer 0:  91%|████████████████████████████████████████████████████████████████▎      | 9983/11016 [25:18<02:28,  6.97it/s, loss=-18.8]"
     ]
    },
    {
     "name": "stdout",
     "output_type": "stream",
     "text": [
      "2025-07-21 21:42:27,774 — INFO — layer 0, [1:9983], loss=-21.1927\n",
      "2025-07-21 21:42:27,774 — INFO — layer 0, [1:9983], loss=-15.2531\n"
     ]
    },
    {
     "name": "stderr",
     "output_type": "stream",
     "text": [
      "epoch 1, layer 0:  91%|███████████████████████████████████████████████████████████████▊      | 10033/11016 [25:25<02:34,  6.35it/s, loss=-15.1]"
     ]
    },
    {
     "name": "stdout",
     "output_type": "stream",
     "text": [
      "2025-07-21 21:42:35,312 — INFO — layer 0, [1:10033], loss=-7.7365\n",
      "2025-07-21 21:42:35,312 — INFO — layer 0, [1:10033], loss=-6.6712\n"
     ]
    },
    {
     "name": "stderr",
     "output_type": "stream",
     "text": [
      "epoch 1, layer 0:  92%|████████████████████████████████████████████████████████████████      | 10083/11016 [25:33<02:17,  6.81it/s, loss=-14.2]"
     ]
    },
    {
     "name": "stdout",
     "output_type": "stream",
     "text": [
      "2025-07-21 21:42:43,036 — INFO — layer 0, [1:10083], loss=-11.9552\n",
      "2025-07-21 21:42:43,036 — INFO — layer 0, [1:10083], loss=-15.5797\n"
     ]
    },
    {
     "name": "stderr",
     "output_type": "stream",
     "text": [
      "epoch 1, layer 0:  92%|████████████████████████████████████████████████████████████████▍     | 10133/11016 [25:41<02:15,  6.50it/s, loss=-26.6]"
     ]
    },
    {
     "name": "stdout",
     "output_type": "stream",
     "text": [
      "2025-07-21 21:42:50,566 — INFO — layer 0, [1:10133], loss=-26.0911\n",
      "2025-07-21 21:42:50,566 — INFO — layer 0, [1:10133], loss=-5.4670\n"
     ]
    },
    {
     "name": "stderr",
     "output_type": "stream",
     "text": [
      "epoch 1, layer 0:  92%|████████████████████████████████████████████████████████████████▋     | 10183/11016 [25:48<02:01,  6.86it/s, loss=-14.8]"
     ]
    },
    {
     "name": "stdout",
     "output_type": "stream",
     "text": [
      "2025-07-21 21:42:58,078 — INFO — layer 0, [1:10183], loss=-7.0935\n",
      "2025-07-21 21:42:58,078 — INFO — layer 0, [1:10183], loss=-8.4341\n"
     ]
    },
    {
     "name": "stderr",
     "output_type": "stream",
     "text": [
      "epoch 1, layer 0:  93%|█████████████████████████████████████████████████████████████████     | 10233/11016 [25:56<01:50,  7.06it/s, loss=-9.94]"
     ]
    },
    {
     "name": "stdout",
     "output_type": "stream",
     "text": [
      "2025-07-21 21:43:05,642 — INFO — layer 0, [1:10233], loss=-18.3138\n",
      "2025-07-21 21:43:05,642 — INFO — layer 0, [1:10233], loss=-6.3297\n"
     ]
    },
    {
     "name": "stderr",
     "output_type": "stream",
     "text": [
      "epoch 1, layer 0:  93%|█████████████████████████████████████████████████████████████████▎    | 10283/11016 [26:03<01:49,  6.72it/s, loss=-18.8]"
     ]
    },
    {
     "name": "stdout",
     "output_type": "stream",
     "text": [
      "2025-07-21 21:43:13,301 — INFO — layer 0, [1:10283], loss=-16.2447\n",
      "2025-07-21 21:43:13,301 — INFO — layer 0, [1:10283], loss=-15.8739\n"
     ]
    },
    {
     "name": "stderr",
     "output_type": "stream",
     "text": [
      "epoch 1, layer 0:  94%|█████████████████████████████████████████████████████████████████▋    | 10333/11016 [26:11<01:44,  6.52it/s, loss=-8.31]"
     ]
    },
    {
     "name": "stdout",
     "output_type": "stream",
     "text": [
      "2025-07-21 21:43:20,844 — INFO — layer 0, [1:10333], loss=-19.9893\n",
      "2025-07-21 21:43:20,845 — INFO — layer 0, [1:10333], loss=-8.1593\n"
     ]
    },
    {
     "name": "stderr",
     "output_type": "stream",
     "text": [
      "epoch 1, layer 0:  94%|█████████████████████████████████████████████████████████████████▉    | 10383/11016 [26:18<01:38,  6.44it/s, loss=-18.6]"
     ]
    },
    {
     "name": "stdout",
     "output_type": "stream",
     "text": [
      "2025-07-21 21:43:28,484 — INFO — layer 0, [1:10383], loss=-0.1469\n",
      "2025-07-21 21:43:28,484 — INFO — layer 0, [1:10383], loss=-12.7457\n"
     ]
    },
    {
     "name": "stderr",
     "output_type": "stream",
     "text": [
      "epoch 1, layer 0:  95%|██████████████████████████████████████████████████████████████████▎   | 10433/11016 [26:26<01:29,  6.50it/s, loss=-22.8]"
     ]
    },
    {
     "name": "stdout",
     "output_type": "stream",
     "text": [
      "2025-07-21 21:43:36,204 — INFO — layer 0, [1:10433], loss=-8.5450\n",
      "2025-07-21 21:43:36,204 — INFO — layer 0, [1:10433], loss=-21.2685\n"
     ]
    },
    {
     "name": "stderr",
     "output_type": "stream",
     "text": [
      "epoch 1, layer 0:  95%|██████████████████████████████████████████████████████████████████▌   | 10483/11016 [26:34<01:19,  6.69it/s, loss=-5.46]"
     ]
    },
    {
     "name": "stdout",
     "output_type": "stream",
     "text": [
      "2025-07-21 21:43:43,731 — INFO — layer 0, [1:10483], loss=-19.1289\n",
      "2025-07-21 21:43:43,731 — INFO — layer 0, [1:10483], loss=-19.9414\n"
     ]
    },
    {
     "name": "stderr",
     "output_type": "stream",
     "text": [
      "epoch 1, layer 0:  96%|██████████████████████████████████████████████████████████████████▉   | 10533/11016 [26:41<01:12,  6.70it/s, loss=-11.7]"
     ]
    },
    {
     "name": "stdout",
     "output_type": "stream",
     "text": [
      "2025-07-21 21:43:51,212 — INFO — layer 0, [1:10533], loss=-10.9963\n",
      "2025-07-21 21:43:51,212 — INFO — layer 0, [1:10533], loss=-9.9211\n"
     ]
    },
    {
     "name": "stderr",
     "output_type": "stream",
     "text": [
      "epoch 1, layer 0:  96%|███████████████████████████████████████████████████████████████████▏  | 10583/11016 [26:49<01:03,  6.80it/s, loss=-14.6]"
     ]
    },
    {
     "name": "stdout",
     "output_type": "stream",
     "text": [
      "2025-07-21 21:43:58,723 — INFO — layer 0, [1:10583], loss=-10.7563\n",
      "2025-07-21 21:43:58,723 — INFO — layer 0, [1:10583], loss=-11.4001\n"
     ]
    },
    {
     "name": "stderr",
     "output_type": "stream",
     "text": [
      "epoch 1, layer 0:  97%|███████████████████████████████████████████████████████████████████▌  | 10633/11016 [26:56<00:56,  6.74it/s, loss=-21.7]"
     ]
    },
    {
     "name": "stdout",
     "output_type": "stream",
     "text": [
      "2025-07-21 21:44:06,169 — INFO — layer 0, [1:10633], loss=-22.4342\n",
      "2025-07-21 21:44:06,169 — INFO — layer 0, [1:10633], loss=-16.1589\n"
     ]
    },
    {
     "name": "stderr",
     "output_type": "stream",
     "text": [
      "epoch 1, layer 0:  97%|███████████████████████████████████████████████████████████████████▉  | 10683/11016 [27:04<00:49,  6.75it/s, loss=-12.6]"
     ]
    },
    {
     "name": "stdout",
     "output_type": "stream",
     "text": [
      "2025-07-21 21:44:13,745 — INFO — layer 0, [1:10683], loss=-7.7506\n",
      "2025-07-21 21:44:13,745 — INFO — layer 0, [1:10683], loss=-10.3721\n"
     ]
    },
    {
     "name": "stderr",
     "output_type": "stream",
     "text": [
      "epoch 1, layer 0:  97%|████████████████████████████████████████████████████████████████████▏ | 10733/11016 [27:11<00:41,  6.79it/s, loss=-6.16]"
     ]
    },
    {
     "name": "stdout",
     "output_type": "stream",
     "text": [
      "2025-07-21 21:44:21,481 — INFO — layer 0, [1:10733], loss=-10.0468\n",
      "2025-07-21 21:44:21,481 — INFO — layer 0, [1:10733], loss=-11.6645\n"
     ]
    },
    {
     "name": "stderr",
     "output_type": "stream",
     "text": [
      "epoch 1, layer 0:  98%|████████████████████████████████████████████████████████████████████▌ | 10783/11016 [27:19<00:34,  6.72it/s, loss=-15.4]"
     ]
    },
    {
     "name": "stdout",
     "output_type": "stream",
     "text": [
      "2025-07-21 21:44:29,004 — INFO — layer 0, [1:10783], loss=-14.3506\n",
      "2025-07-21 21:44:29,004 — INFO — layer 0, [1:10783], loss=-14.6429\n"
     ]
    },
    {
     "name": "stderr",
     "output_type": "stream",
     "text": [
      "epoch 1, layer 0:  98%|████████████████████████████████████████████████████████████████████▊ | 10833/11016 [27:27<00:28,  6.51it/s, loss=-23.4]"
     ]
    },
    {
     "name": "stdout",
     "output_type": "stream",
     "text": [
      "2025-07-21 21:44:36,687 — INFO — layer 0, [1:10833], loss=-20.6774\n",
      "2025-07-21 21:44:36,687 — INFO — layer 0, [1:10833], loss=-19.9736\n"
     ]
    },
    {
     "name": "stderr",
     "output_type": "stream",
     "text": [
      "epoch 1, layer 0:  99%|█████████████████████████████████████████████████████████████████████▏| 10883/11016 [27:34<00:20,  6.58it/s, loss=-11.6]"
     ]
    },
    {
     "name": "stdout",
     "output_type": "stream",
     "text": [
      "2025-07-21 21:44:44,243 — INFO — layer 0, [1:10883], loss=-18.4578\n",
      "2025-07-21 21:44:44,243 — INFO — layer 0, [1:10883], loss=-17.2672\n"
     ]
    },
    {
     "name": "stderr",
     "output_type": "stream",
     "text": [
      "epoch 1, layer 0:  99%|█████████████████████████████████████████████████████████████████████▍| 10933/11016 [27:42<00:13,  6.23it/s, loss=-19.2]"
     ]
    },
    {
     "name": "stdout",
     "output_type": "stream",
     "text": [
      "2025-07-21 21:44:52,053 — INFO — layer 0, [1:10933], loss=-1.2834\n",
      "2025-07-21 21:44:52,053 — INFO — layer 0, [1:10933], loss=-20.1140\n"
     ]
    },
    {
     "name": "stderr",
     "output_type": "stream",
     "text": [
      "epoch 1, layer 0: 100%|█████████████████████████████████████████████████████████████████████▊| 10983/11016 [27:50<00:05,  6.35it/s, loss=-11.6]"
     ]
    },
    {
     "name": "stdout",
     "output_type": "stream",
     "text": [
      "2025-07-21 21:44:59,780 — INFO — layer 0, [1:10983], loss=-21.0440\n",
      "2025-07-21 21:44:59,780 — INFO — layer 0, [1:10983], loss=-23.6394\n"
     ]
    },
    {
     "name": "stderr",
     "output_type": "stream",
     "text": [
      "epoch 2, layer 0:   0%|                                                                                              | 0/11016 [00:00<?, ?it/s]huggingface/tokenizers: The current process just got forked, after parallelism has already been used. Disabling parallelism to avoid deadlocks...\n",
      "To disable this warning, you can either:\n",
      "\t- Avoid using `tokenizers` before the fork if possible\n",
      "\t- Explicitly set the environment variable TOKENIZERS_PARALLELISM=(true | false)\n",
      "huggingface/tokenizers: The current process just got forked, after parallelism has already been used. Disabling parallelism to avoid deadlocks...\n",
      "To disable this warning, you can either:\n",
      "\t- Avoid using `tokenizers` before the fork if possible\n",
      "\t- Explicitly set the environment variable TOKENIZERS_PARALLELISM=(true | false)\n",
      "huggingface/tokenizers: The current process just got forked, after parallelism has already been used. Disabling parallelism to avoid deadlocks...\n",
      "To disable this warning, you can either:\n",
      "\t- Avoid using `tokenizers` before the fork if possible\n",
      "\t- Explicitly set the environment variable TOKENIZERS_PARALLELISM=(true | false)\n",
      "huggingface/tokenizers: The current process just got forked, after parallelism has already been used. Disabling parallelism to avoid deadlocks...\n",
      "To disable this warning, you can either:\n",
      "\t- Avoid using `tokenizers` before the fork if possible\n",
      "\t- Explicitly set the environment variable TOKENIZERS_PARALLELISM=(true | false)\n",
      "huggingface/tokenizers: The current process just got forked, after parallelism has already been used. Disabling parallelism to avoid deadlocks...\n",
      "To disable this warning, you can either:\n",
      "\t- Avoid using `tokenizers` before the fork if possible\n",
      "\t- Explicitly set the environment variable TOKENIZERS_PARALLELISM=(true | false)\n",
      "huggingface/tokenizers: The current process just got forked, after parallelism has already been used. Disabling parallelism to avoid deadlocks...\n",
      "To disable this warning, you can either:\n",
      "\t- Avoid using `tokenizers` before the fork if possible\n",
      "\t- Explicitly set the environment variable TOKENIZERS_PARALLELISM=(true | false)\n",
      "huggingface/tokenizers: The current process just got forked, after parallelism has already been used. Disabling parallelism to avoid deadlocks...\n",
      "To disable this warning, you can either:\n",
      "\t- Avoid using `tokenizers` before the fork if possible\n",
      "\t- Explicitly set the environment variable TOKENIZERS_PARALLELISM=(true | false)\n",
      "huggingface/tokenizers: The current process just got forked, after parallelism has already been used. Disabling parallelism to avoid deadlocks...\n",
      "To disable this warning, you can either:\n",
      "\t- Avoid using `tokenizers` before the fork if possible\n",
      "\t- Explicitly set the environment variable TOKENIZERS_PARALLELISM=(true | false)\n",
      "huggingface/tokenizers: The current process just got forked, after parallelism has already been used. Disabling parallelism to avoid deadlocks...\n",
      "To disable this warning, you can either:\n",
      "\t- Avoid using `tokenizers` before the fork if possible\n",
      "\t- Explicitly set the environment variable TOKENIZERS_PARALLELISM=(true | false)\n",
      "huggingface/tokenizers: The current process just got forked, after parallelism has already been used. Disabling parallelism to avoid deadlocks...\n",
      "To disable this warning, you can either:\n",
      "\t- Avoid using `tokenizers` before the fork if possible\n",
      "\t- Explicitly set the environment variable TOKENIZERS_PARALLELISM=(true | false)\n",
      "huggingface/tokenizers: The current process just got forked, after parallelism has already been used. Disabling parallelism to avoid deadlocks...\n",
      "To disable this warning, you can either:\n",
      "\t- Avoid using `tokenizers` before the fork if possible\n",
      "\t- Explicitly set the environment variable TOKENIZERS_PARALLELISM=(true | false)\n",
      "huggingface/tokenizers: The current process just got forked, after parallelism has already been used. Disabling parallelism to avoid deadlocks...\n",
      "To disable this warning, you can either:\n",
      "\t- Avoid using `tokenizers` before the fork if possible\n",
      "\t- Explicitly set the environment variable TOKENIZERS_PARALLELISM=(true | false)\n",
      "huggingface/tokenizers: The current process just got forked, after parallelism has already been used. Disabling parallelism to avoid deadlocks...\n",
      "To disable this warning, you can either:\n",
      "\t- Avoid using `tokenizers` before the fork if possible\n",
      "\t- Explicitly set the environment variable TOKENIZERS_PARALLELISM=(true | false)\n",
      "huggingface/tokenizers: The current process just got forked, after parallelism has already been used. Disabling parallelism to avoid deadlocks...\n",
      "To disable this warning, you can either:\n",
      "\t- Avoid using `tokenizers` before the fork if possible\n",
      "\t- Explicitly set the environment variable TOKENIZERS_PARALLELISM=(true | false)\n",
      "huggingface/tokenizers: The current process just got forked, after parallelism has already been used. Disabling parallelism to avoid deadlocks...\n",
      "To disable this warning, you can either:\n",
      "\t- Avoid using `tokenizers` before the fork if possible\n",
      "\t- Explicitly set the environment variable TOKENIZERS_PARALLELISM=(true | false)\n",
      "huggingface/tokenizers: The current process just got forked, after parallelism has already been used. Disabling parallelism to avoid deadlocks...\n",
      "To disable this warning, you can either:\n",
      "\t- Avoid using `tokenizers` before the fork if possible\n",
      "\t- Explicitly set the environment variable TOKENIZERS_PARALLELISM=(true | false)\n",
      "epoch 2, layer 0:   0%|                                                                         | 17/11016 [00:02<27:37,  6.64it/s, loss=-9.95]"
     ]
    },
    {
     "name": "stdout",
     "output_type": "stream",
     "text": [
      "2025-07-21 21:45:07,781 — INFO — layer 0, [2:17], loss=-8.8869\n",
      "2025-07-21 21:45:07,781 — INFO — layer 0, [2:17], loss=-7.8134\n"
     ]
    },
    {
     "name": "stderr",
     "output_type": "stream",
     "text": [
      "epoch 2, layer 0:   1%|▍                                                                        | 67/11016 [00:10<28:21,  6.43it/s, loss=-16.5]"
     ]
    },
    {
     "name": "stdout",
     "output_type": "stream",
     "text": [
      "2025-07-21 21:45:15,305 — INFO — layer 0, [2:67], loss=-6.3735\n",
      "2025-07-21 21:45:15,305 — INFO — layer 0, [2:67], loss=-15.2077\n"
     ]
    },
    {
     "name": "stderr",
     "output_type": "stream",
     "text": [
      "epoch 2, layer 0:   1%|▊                                                                       | 117/11016 [00:17<28:51,  6.29it/s, loss=-12.4]"
     ]
    },
    {
     "name": "stdout",
     "output_type": "stream",
     "text": [
      "2025-07-21 21:45:22,846 — INFO — layer 0, [2:117], loss=-12.6759\n",
      "2025-07-21 21:45:22,846 — INFO — layer 0, [2:117], loss=-16.7328\n"
     ]
    },
    {
     "name": "stderr",
     "output_type": "stream",
     "text": [
      "epoch 2, layer 0:   2%|█                                                                       | 167/11016 [00:25<27:15,  6.63it/s, loss=-20.3]"
     ]
    },
    {
     "name": "stdout",
     "output_type": "stream",
     "text": [
      "2025-07-21 21:45:30,405 — INFO — layer 0, [2:167], loss=-24.2539\n",
      "2025-07-21 21:45:30,405 — INFO — layer 0, [2:167], loss=-16.9133\n"
     ]
    },
    {
     "name": "stderr",
     "output_type": "stream",
     "text": [
      "epoch 2, layer 0:   2%|█▍                                                                      | 217/11016 [00:33<28:47,  6.25it/s, loss=-16.2]"
     ]
    },
    {
     "name": "stdout",
     "output_type": "stream",
     "text": [
      "2025-07-21 21:45:37,974 — INFO — layer 0, [2:217], loss=-18.4443\n",
      "2025-07-21 21:45:37,974 — INFO — layer 0, [2:217], loss=-15.3471\n"
     ]
    },
    {
     "name": "stderr",
     "output_type": "stream",
     "text": [
      "epoch 2, layer 0:   2%|█▋                                                                      | 267/11016 [00:40<26:36,  6.73it/s, loss=-26.2]"
     ]
    },
    {
     "name": "stdout",
     "output_type": "stream",
     "text": [
      "2025-07-21 21:45:45,812 — INFO — layer 0, [2:267], loss=-8.0659\n",
      "2025-07-21 21:45:45,812 — INFO — layer 0, [2:267], loss=-26.1248\n"
     ]
    },
    {
     "name": "stderr",
     "output_type": "stream",
     "text": [
      "epoch 2, layer 0:   3%|██                                                                      | 317/11016 [00:48<25:22,  7.03it/s, loss=-7.25]"
     ]
    },
    {
     "name": "stdout",
     "output_type": "stream",
     "text": [
      "2025-07-21 21:45:53,425 — INFO — layer 0, [2:317], loss=-9.7275\n",
      "2025-07-21 21:45:53,425 — INFO — layer 0, [2:317], loss=-23.5596\n"
     ]
    },
    {
     "name": "stderr",
     "output_type": "stream",
     "text": [
      "epoch 2, layer 0:   3%|██▍                                                                     | 367/11016 [00:55<28:54,  6.14it/s, loss=-25.9]"
     ]
    },
    {
     "name": "stdout",
     "output_type": "stream",
     "text": [
      "2025-07-21 21:46:00,946 — INFO — layer 0, [2:367], loss=-10.6651\n",
      "2025-07-21 21:46:00,947 — INFO — layer 0, [2:367], loss=-10.9257\n"
     ]
    },
    {
     "name": "stderr",
     "output_type": "stream",
     "text": [
      "epoch 2, layer 0:   4%|██▋                                                                     | 417/11016 [01:03<25:05,  7.04it/s, loss=-7.09]"
     ]
    },
    {
     "name": "stdout",
     "output_type": "stream",
     "text": [
      "2025-07-21 21:46:08,548 — INFO — layer 0, [2:417], loss=-4.1269\n",
      "2025-07-21 21:46:08,548 — INFO — layer 0, [2:417], loss=-11.6565\n"
     ]
    },
    {
     "name": "stderr",
     "output_type": "stream",
     "text": [
      "epoch 2, layer 0:   4%|███                                                                     | 467/11016 [01:11<26:37,  6.60it/s, loss=-22.7]"
     ]
    },
    {
     "name": "stdout",
     "output_type": "stream",
     "text": [
      "2025-07-21 21:46:16,191 — INFO — layer 0, [2:467], loss=-22.1369\n",
      "2025-07-21 21:46:16,191 — INFO — layer 0, [2:467], loss=-8.5085\n"
     ]
    },
    {
     "name": "stderr",
     "output_type": "stream",
     "text": [
      "epoch 2, layer 0:   5%|███▍                                                                    | 517/11016 [01:18<26:46,  6.54it/s, loss=-18.1]"
     ]
    },
    {
     "name": "stdout",
     "output_type": "stream",
     "text": [
      "2025-07-21 21:46:23,939 — INFO — layer 0, [2:517], loss=-17.4049\n",
      "2025-07-21 21:46:23,939 — INFO — layer 0, [2:517], loss=-13.3277\n"
     ]
    },
    {
     "name": "stderr",
     "output_type": "stream",
     "text": [
      "epoch 2, layer 0:   5%|███▋                                                                    | 567/11016 [01:26<27:05,  6.43it/s, loss=-12.3]"
     ]
    },
    {
     "name": "stdout",
     "output_type": "stream",
     "text": [
      "2025-07-21 21:46:31,450 — INFO — layer 0, [2:567], loss=-18.8417\n",
      "2025-07-21 21:46:31,450 — INFO — layer 0, [2:567], loss=-10.1507\n"
     ]
    },
    {
     "name": "stderr",
     "output_type": "stream",
     "text": [
      "epoch 2, layer 0:   6%|████                                                                    | 617/11016 [01:34<25:45,  6.73it/s, loss=-15.7]"
     ]
    },
    {
     "name": "stdout",
     "output_type": "stream",
     "text": [
      "2025-07-21 21:46:39,141 — INFO — layer 0, [2:617], loss=-10.8162\n",
      "2025-07-21 21:46:39,141 — INFO — layer 0, [2:617], loss=-15.0865\n"
     ]
    },
    {
     "name": "stderr",
     "output_type": "stream",
     "text": [
      "epoch 2, layer 0:   6%|████▎                                                                   | 667/11016 [01:41<26:33,  6.49it/s, loss=-12.9]"
     ]
    },
    {
     "name": "stdout",
     "output_type": "stream",
     "text": [
      "2025-07-21 21:46:46,701 — INFO — layer 0, [2:667], loss=-17.2105\n",
      "2025-07-21 21:46:46,701 — INFO — layer 0, [2:667], loss=-16.0554\n"
     ]
    },
    {
     "name": "stderr",
     "output_type": "stream",
     "text": [
      "epoch 2, layer 0:   7%|████▋                                                                   | 717/11016 [01:49<28:00,  6.13it/s, loss=-20.3]"
     ]
    },
    {
     "name": "stdout",
     "output_type": "stream",
     "text": [
      "2025-07-21 21:46:54,420 — INFO — layer 0, [2:717], loss=-13.9294\n",
      "2025-07-21 21:46:54,420 — INFO — layer 0, [2:717], loss=-10.6236\n"
     ]
    },
    {
     "name": "stderr",
     "output_type": "stream",
     "text": [
      "epoch 2, layer 0:   7%|█████                                                                   | 767/11016 [01:57<26:04,  6.55it/s, loss=-21.4]"
     ]
    },
    {
     "name": "stdout",
     "output_type": "stream",
     "text": [
      "2025-07-21 21:47:01,975 — INFO — layer 0, [2:767], loss=-22.1302\n",
      "2025-07-21 21:47:01,975 — INFO — layer 0, [2:767], loss=-21.6990\n"
     ]
    },
    {
     "name": "stderr",
     "output_type": "stream",
     "text": [
      "epoch 2, layer 0:   7%|█████▎                                                                  | 817/11016 [02:04<25:44,  6.60it/s, loss=-12.6]"
     ]
    },
    {
     "name": "stdout",
     "output_type": "stream",
     "text": [
      "2025-07-21 21:47:09,489 — INFO — layer 0, [2:817], loss=-25.0898\n",
      "2025-07-21 21:47:09,489 — INFO — layer 0, [2:817], loss=-22.1183\n"
     ]
    },
    {
     "name": "stderr",
     "output_type": "stream",
     "text": [
      "epoch 2, layer 0:   8%|█████▋                                                                  | 867/11016 [02:12<24:29,  6.91it/s, loss=-5.83]"
     ]
    },
    {
     "name": "stdout",
     "output_type": "stream",
     "text": [
      "2025-07-21 21:47:17,055 — INFO — layer 0, [2:867], loss=-11.9504\n",
      "2025-07-21 21:47:17,055 — INFO — layer 0, [2:867], loss=-16.4975\n"
     ]
    },
    {
     "name": "stderr",
     "output_type": "stream",
     "text": [
      "epoch 2, layer 0:   8%|█████▉                                                                  | 917/11016 [02:19<25:53,  6.50it/s, loss=-12.9]"
     ]
    },
    {
     "name": "stdout",
     "output_type": "stream",
     "text": [
      "2025-07-21 21:47:24,688 — INFO — layer 0, [2:917], loss=-5.2586\n",
      "2025-07-21 21:47:24,688 — INFO — layer 0, [2:917], loss=-13.8229\n"
     ]
    },
    {
     "name": "stderr",
     "output_type": "stream",
     "text": [
      "epoch 2, layer 0:   9%|██████▎                                                                 | 967/11016 [02:27<26:53,  6.23it/s, loss=-10.6]"
     ]
    },
    {
     "name": "stdout",
     "output_type": "stream",
     "text": [
      "2025-07-21 21:47:32,299 — INFO — layer 0, [2:967], loss=-16.9840\n",
      "2025-07-21 21:47:32,299 — INFO — layer 0, [2:967], loss=-15.0747\n"
     ]
    },
    {
     "name": "stderr",
     "output_type": "stream",
     "text": [
      "epoch 2, layer 0:   9%|██████▌                                                                | 1017/11016 [02:34<24:13,  6.88it/s, loss=-15.9]"
     ]
    },
    {
     "name": "stdout",
     "output_type": "stream",
     "text": [
      "2025-07-21 21:47:39,743 — INFO — layer 0, [2:1017], loss=-2.1723\n",
      "2025-07-21 21:47:39,743 — INFO — layer 0, [2:1017], loss=-24.8650\n"
     ]
    },
    {
     "name": "stderr",
     "output_type": "stream",
     "text": [
      "epoch 2, layer 0:  10%|██████▉                                                                | 1067/11016 [02:42<26:06,  6.35it/s, loss=-22.2]"
     ]
    },
    {
     "name": "stdout",
     "output_type": "stream",
     "text": [
      "2025-07-21 21:47:47,591 — INFO — layer 0, [2:1067], loss=-12.0342\n",
      "2025-07-21 21:47:47,591 — INFO — layer 0, [2:1067], loss=-13.6470\n"
     ]
    },
    {
     "name": "stderr",
     "output_type": "stream",
     "text": [
      "epoch 2, layer 0:  10%|███████▏                                                               | 1117/11016 [02:50<25:33,  6.46it/s, loss=-19.2]"
     ]
    },
    {
     "name": "stdout",
     "output_type": "stream",
     "text": [
      "2025-07-21 21:47:55,497 — INFO — layer 0, [2:1117], loss=-10.0126\n",
      "2025-07-21 21:47:55,497 — INFO — layer 0, [2:1117], loss=-7.9865\n"
     ]
    },
    {
     "name": "stderr",
     "output_type": "stream",
     "text": [
      "epoch 2, layer 0:  11%|███████▌                                                               | 1167/11016 [02:58<25:14,  6.51it/s, loss=-19.2]"
     ]
    },
    {
     "name": "stdout",
     "output_type": "stream",
     "text": [
      "2025-07-21 21:48:03,111 — INFO — layer 0, [2:1167], loss=-11.8063\n",
      "2025-07-21 21:48:03,111 — INFO — layer 0, [2:1167], loss=-10.1234\n"
     ]
    },
    {
     "name": "stderr",
     "output_type": "stream",
     "text": [
      "epoch 2, layer 0:  11%|███████▊                                                               | 1217/11016 [03:05<24:04,  6.78it/s, loss=-6.17]"
     ]
    },
    {
     "name": "stdout",
     "output_type": "stream",
     "text": [
      "2025-07-21 21:48:10,765 — INFO — layer 0, [2:1217], loss=-7.9876\n",
      "2025-07-21 21:48:10,765 — INFO — layer 0, [2:1217], loss=-9.3313\n"
     ]
    },
    {
     "name": "stderr",
     "output_type": "stream",
     "text": [
      "epoch 2, layer 0:  12%|████████▏                                                              | 1267/11016 [03:13<23:43,  6.85it/s, loss=-19.1]"
     ]
    },
    {
     "name": "stdout",
     "output_type": "stream",
     "text": [
      "2025-07-21 21:48:18,324 — INFO — layer 0, [2:1267], loss=-15.7510\n",
      "2025-07-21 21:48:18,324 — INFO — layer 0, [2:1267], loss=-14.4897\n"
     ]
    },
    {
     "name": "stderr",
     "output_type": "stream",
     "text": [
      "epoch 2, layer 0:  12%|████████▍                                                              | 1317/11016 [03:20<24:47,  6.52it/s, loss=-18.1]"
     ]
    },
    {
     "name": "stdout",
     "output_type": "stream",
     "text": [
      "2025-07-21 21:48:25,833 — INFO — layer 0, [2:1317], loss=-13.2245\n",
      "2025-07-21 21:48:25,833 — INFO — layer 0, [2:1317], loss=-18.9382\n"
     ]
    },
    {
     "name": "stderr",
     "output_type": "stream",
     "text": [
      "epoch 2, layer 0:  12%|█████████                                                                | 1367/11016 [03:28<24:30,  6.56it/s, loss=-20]"
     ]
    },
    {
     "name": "stdout",
     "output_type": "stream",
     "text": [
      "2025-07-21 21:48:33,435 — INFO — layer 0, [2:1367], loss=-12.2070\n",
      "2025-07-21 21:48:33,435 — INFO — layer 0, [2:1367], loss=-21.3059\n"
     ]
    },
    {
     "name": "stderr",
     "output_type": "stream",
     "text": [
      "epoch 2, layer 0:  13%|█████████▏                                                             | 1417/11016 [03:36<25:08,  6.36it/s, loss=-13.3]"
     ]
    },
    {
     "name": "stdout",
     "output_type": "stream",
     "text": [
      "2025-07-21 21:48:41,233 — INFO — layer 0, [2:1417], loss=-10.4295\n",
      "2025-07-21 21:48:41,233 — INFO — layer 0, [2:1417], loss=-2.8442\n"
     ]
    },
    {
     "name": "stderr",
     "output_type": "stream",
     "text": [
      "epoch 2, layer 0:  13%|█████████▍                                                             | 1467/11016 [03:43<23:20,  6.82it/s, loss=-14.6]"
     ]
    },
    {
     "name": "stdout",
     "output_type": "stream",
     "text": [
      "2025-07-21 21:48:48,763 — INFO — layer 0, [2:1467], loss=-7.5180\n",
      "2025-07-21 21:48:48,763 — INFO — layer 0, [2:1467], loss=-22.4955\n"
     ]
    },
    {
     "name": "stderr",
     "output_type": "stream",
     "text": [
      "epoch 2, layer 0:  14%|█████████▊                                                             | 1517/11016 [03:51<23:55,  6.62it/s, loss=-12.2]"
     ]
    },
    {
     "name": "stdout",
     "output_type": "stream",
     "text": [
      "2025-07-21 21:48:56,266 — INFO — layer 0, [2:1517], loss=-15.4947\n",
      "2025-07-21 21:48:56,266 — INFO — layer 0, [2:1517], loss=-8.1927\n"
     ]
    },
    {
     "name": "stderr",
     "output_type": "stream",
     "text": [
      "epoch 2, layer 0:  14%|██████████▍                                                              | 1567/11016 [03:58<24:23,  6.46it/s, loss=-11]"
     ]
    },
    {
     "name": "stdout",
     "output_type": "stream",
     "text": [
      "2025-07-21 21:49:03,819 — INFO — layer 0, [2:1567], loss=-19.9208\n",
      "2025-07-21 21:49:03,819 — INFO — layer 0, [2:1567], loss=-21.9462\n"
     ]
    },
    {
     "name": "stderr",
     "output_type": "stream",
     "text": [
      "epoch 2, layer 0:  15%|██████████▍                                                            | 1617/11016 [04:06<24:50,  6.31it/s, loss=-13.3]"
     ]
    },
    {
     "name": "stdout",
     "output_type": "stream",
     "text": [
      "2025-07-21 21:49:11,565 — INFO — layer 0, [2:1617], loss=-2.2160\n",
      "2025-07-21 21:49:11,565 — INFO — layer 0, [2:1617], loss=-11.2321\n"
     ]
    },
    {
     "name": "stderr",
     "output_type": "stream",
     "text": [
      "epoch 2, layer 0:  15%|██████████▋                                                            | 1667/11016 [04:14<23:56,  6.51it/s, loss=-10.5]"
     ]
    },
    {
     "name": "stdout",
     "output_type": "stream",
     "text": [
      "2025-07-21 21:49:19,157 — INFO — layer 0, [2:1667], loss=-10.5356\n",
      "2025-07-21 21:49:19,157 — INFO — layer 0, [2:1667], loss=-19.2477\n"
     ]
    },
    {
     "name": "stderr",
     "output_type": "stream",
     "text": [
      "epoch 2, layer 0:  16%|███████████                                                            | 1717/11016 [04:21<22:31,  6.88it/s, loss=-5.35]"
     ]
    },
    {
     "name": "stdout",
     "output_type": "stream",
     "text": [
      "2025-07-21 21:49:26,671 — INFO — layer 0, [2:1717], loss=-7.7782\n",
      "2025-07-21 21:49:26,671 — INFO — layer 0, [2:1717], loss=-18.6312\n"
     ]
    },
    {
     "name": "stderr",
     "output_type": "stream",
     "text": [
      "epoch 2, layer 0:  16%|███████████▍                                                           | 1767/11016 [04:29<22:44,  6.78it/s, loss=-23.3]"
     ]
    },
    {
     "name": "stdout",
     "output_type": "stream",
     "text": [
      "2025-07-21 21:49:34,313 — INFO — layer 0, [2:1767], loss=-7.5583\n",
      "2025-07-21 21:49:34,313 — INFO — layer 0, [2:1767], loss=-25.3857\n"
     ]
    },
    {
     "name": "stderr",
     "output_type": "stream",
     "text": [
      "epoch 2, layer 0:  16%|███████████▋                                                           | 1817/11016 [04:36<23:46,  6.45it/s, loss=-22.2]"
     ]
    },
    {
     "name": "stdout",
     "output_type": "stream",
     "text": [
      "2025-07-21 21:49:41,866 — INFO — layer 0, [2:1817], loss=-20.4179\n",
      "2025-07-21 21:49:41,866 — INFO — layer 0, [2:1817], loss=-22.6128\n"
     ]
    },
    {
     "name": "stderr",
     "output_type": "stream",
     "text": [
      "epoch 2, layer 0:  17%|████████████                                                           | 1867/11016 [04:44<23:04,  6.61it/s, loss=-18.5]"
     ]
    },
    {
     "name": "stdout",
     "output_type": "stream",
     "text": [
      "2025-07-21 21:49:49,362 — INFO — layer 0, [2:1867], loss=-21.2427\n",
      "2025-07-21 21:49:49,362 — INFO — layer 0, [2:1867], loss=-8.2800\n"
     ]
    },
    {
     "name": "stderr",
     "output_type": "stream",
     "text": [
      "epoch 2, layer 0:  17%|████████████▎                                                          | 1917/11016 [04:51<21:42,  6.99it/s, loss=-11.8]"
     ]
    },
    {
     "name": "stdout",
     "output_type": "stream",
     "text": [
      "2025-07-21 21:49:56,766 — INFO — layer 0, [2:1917], loss=-14.9351\n",
      "2025-07-21 21:49:56,766 — INFO — layer 0, [2:1917], loss=-24.6915\n"
     ]
    },
    {
     "name": "stderr",
     "output_type": "stream",
     "text": [
      "epoch 2, layer 0:  18%|████████████▋                                                          | 1967/11016 [04:59<22:38,  6.66it/s, loss=-15.9]"
     ]
    },
    {
     "name": "stdout",
     "output_type": "stream",
     "text": [
      "2025-07-21 21:50:04,422 — INFO — layer 0, [2:1967], loss=-14.5274\n",
      "2025-07-21 21:50:04,422 — INFO — layer 0, [2:1967], loss=-21.2896\n"
     ]
    },
    {
     "name": "stderr",
     "output_type": "stream",
     "text": [
      "epoch 2, layer 0:  18%|████████████▉                                                          | 2017/11016 [05:07<23:17,  6.44it/s, loss=-5.24]"
     ]
    },
    {
     "name": "stdout",
     "output_type": "stream",
     "text": [
      "2025-07-21 21:50:12,060 — INFO — layer 0, [2:2017], loss=-4.2984\n",
      "2025-07-21 21:50:12,060 — INFO — layer 0, [2:2017], loss=-9.9498\n"
     ]
    },
    {
     "name": "stderr",
     "output_type": "stream",
     "text": [
      "epoch 2, layer 0:  19%|█████████████▎                                                         | 2067/11016 [05:14<23:38,  6.31it/s, loss=-20.7]"
     ]
    },
    {
     "name": "stdout",
     "output_type": "stream",
     "text": [
      "2025-07-21 21:50:19,625 — INFO — layer 0, [2:2067], loss=-18.4440\n",
      "2025-07-21 21:50:19,625 — INFO — layer 0, [2:2067], loss=-14.7085\n"
     ]
    },
    {
     "name": "stderr",
     "output_type": "stream",
     "text": [
      "epoch 2, layer 0:  19%|█████████████▋                                                         | 2117/11016 [05:22<23:31,  6.30it/s, loss=-9.25]"
     ]
    },
    {
     "name": "stdout",
     "output_type": "stream",
     "text": [
      "2025-07-21 21:50:27,368 — INFO — layer 0, [2:2117], loss=-19.6284\n",
      "2025-07-21 21:50:27,368 — INFO — layer 0, [2:2117], loss=-12.6965\n"
     ]
    },
    {
     "name": "stderr",
     "output_type": "stream",
     "text": [
      "epoch 2, layer 0:  20%|█████████████▉                                                         | 2167/11016 [05:29<23:44,  6.21it/s, loss=-15.5]"
     ]
    },
    {
     "name": "stdout",
     "output_type": "stream",
     "text": [
      "2025-07-21 21:50:34,960 — INFO — layer 0, [2:2167], loss=-12.4012\n",
      "2025-07-21 21:50:34,961 — INFO — layer 0, [2:2167], loss=-12.1993\n"
     ]
    },
    {
     "name": "stderr",
     "output_type": "stream",
     "text": [
      "epoch 2, layer 0:  20%|██████████████▋                                                          | 2217/11016 [05:37<23:42,  6.19it/s, loss=-11]"
     ]
    },
    {
     "name": "stdout",
     "output_type": "stream",
     "text": [
      "2025-07-21 21:50:42,533 — INFO — layer 0, [2:2217], loss=-17.1388\n",
      "2025-07-21 21:50:42,533 — INFO — layer 0, [2:2217], loss=-16.2850\n"
     ]
    },
    {
     "name": "stderr",
     "output_type": "stream",
     "text": [
      "epoch 2, layer 0:  21%|██████████████▌                                                        | 2267/11016 [05:45<21:10,  6.89it/s, loss=-14.8]"
     ]
    },
    {
     "name": "stdout",
     "output_type": "stream",
     "text": [
      "2025-07-21 21:50:50,073 — INFO — layer 0, [2:2267], loss=-20.2669\n",
      "2025-07-21 21:50:50,073 — INFO — layer 0, [2:2267], loss=-18.0494\n"
     ]
    },
    {
     "name": "stderr",
     "output_type": "stream",
     "text": [
      "epoch 2, layer 0:  21%|██████████████▉                                                        | 2317/11016 [05:52<24:14,  5.98it/s, loss=-8.87]"
     ]
    },
    {
     "name": "stdout",
     "output_type": "stream",
     "text": [
      "2025-07-21 21:50:57,797 — INFO — layer 0, [2:2317], loss=-14.0949\n",
      "2025-07-21 21:50:57,797 — INFO — layer 0, [2:2317], loss=-12.4943\n"
     ]
    },
    {
     "name": "stderr",
     "output_type": "stream",
     "text": [
      "epoch 2, layer 0:  21%|███████████████▎                                                       | 2367/11016 [06:00<22:32,  6.40it/s, loss=-17.9]"
     ]
    },
    {
     "name": "stdout",
     "output_type": "stream",
     "text": [
      "2025-07-21 21:51:05,641 — INFO — layer 0, [2:2367], loss=0.1412\n",
      "2025-07-21 21:51:05,641 — INFO — layer 0, [2:2367], loss=-15.7834\n"
     ]
    },
    {
     "name": "stderr",
     "output_type": "stream",
     "text": [
      "epoch 2, layer 0:  22%|███████████████▌                                                       | 2417/11016 [06:08<22:50,  6.27it/s, loss=-15.3]"
     ]
    },
    {
     "name": "stdout",
     "output_type": "stream",
     "text": [
      "2025-07-21 21:51:13,159 — INFO — layer 0, [2:2417], loss=-15.2532\n",
      "2025-07-21 21:51:13,159 — INFO — layer 0, [2:2417], loss=-8.0112\n"
     ]
    },
    {
     "name": "stderr",
     "output_type": "stream",
     "text": [
      "epoch 2, layer 0:  22%|███████████████▉                                                       | 2467/11016 [06:15<21:30,  6.63it/s, loss=-13.9]"
     ]
    },
    {
     "name": "stdout",
     "output_type": "stream",
     "text": [
      "2025-07-21 21:51:20,941 — INFO — layer 0, [2:2467], loss=-30.7174\n",
      "2025-07-21 21:51:20,941 — INFO — layer 0, [2:2467], loss=-13.7873\n"
     ]
    },
    {
     "name": "stderr",
     "output_type": "stream",
     "text": [
      "epoch 2, layer 0:  23%|████████████████▏                                                      | 2517/11016 [06:23<21:10,  6.69it/s, loss=-11.5]"
     ]
    },
    {
     "name": "stdout",
     "output_type": "stream",
     "text": [
      "2025-07-21 21:51:28,575 — INFO — layer 0, [2:2517], loss=-27.4570\n",
      "2025-07-21 21:51:28,575 — INFO — layer 0, [2:2517], loss=-2.3051\n"
     ]
    },
    {
     "name": "stderr",
     "output_type": "stream",
     "text": [
      "epoch 2, layer 0:  23%|████████████████▌                                                      | 2567/11016 [06:31<21:48,  6.46it/s, loss=-14.8]"
     ]
    },
    {
     "name": "stdout",
     "output_type": "stream",
     "text": [
      "2025-07-21 21:51:36,251 — INFO — layer 0, [2:2567], loss=-8.5767\n",
      "2025-07-21 21:51:36,251 — INFO — layer 0, [2:2567], loss=-15.0341\n"
     ]
    },
    {
     "name": "stderr",
     "output_type": "stream",
     "text": [
      "epoch 2, layer 0:  24%|████████████████▊                                                      | 2617/11016 [06:38<20:26,  6.85it/s, loss=-7.11]"
     ]
    },
    {
     "name": "stdout",
     "output_type": "stream",
     "text": [
      "2025-07-21 21:51:43,773 — INFO — layer 0, [2:2617], loss=-12.1955\n",
      "2025-07-21 21:51:43,773 — INFO — layer 0, [2:2617], loss=-19.3191\n"
     ]
    },
    {
     "name": "stderr",
     "output_type": "stream",
     "text": [
      "epoch 2, layer 0:  24%|█████████████████▏                                                     | 2667/11016 [06:46<22:00,  6.32it/s, loss=-12.3]"
     ]
    },
    {
     "name": "stdout",
     "output_type": "stream",
     "text": [
      "2025-07-21 21:51:51,436 — INFO — layer 0, [2:2667], loss=-7.8192\n",
      "2025-07-21 21:51:51,436 — INFO — layer 0, [2:2667], loss=-20.2923\n"
     ]
    },
    {
     "name": "stderr",
     "output_type": "stream",
     "text": [
      "epoch 2, layer 0:  25%|█████████████████▌                                                     | 2717/11016 [06:53<23:37,  5.85it/s, loss=-18.5]"
     ]
    },
    {
     "name": "stdout",
     "output_type": "stream",
     "text": [
      "2025-07-21 21:51:58,942 — INFO — layer 0, [2:2717], loss=-22.3025\n",
      "2025-07-21 21:51:58,942 — INFO — layer 0, [2:2717], loss=-18.0005\n"
     ]
    },
    {
     "name": "stderr",
     "output_type": "stream",
     "text": [
      "epoch 2, layer 0:  25%|█████████████████▊                                                     | 2767/11016 [07:01<21:30,  6.39it/s, loss=-15.8]"
     ]
    },
    {
     "name": "stdout",
     "output_type": "stream",
     "text": [
      "2025-07-21 21:52:06,638 — INFO — layer 0, [2:2767], loss=-12.2284\n",
      "2025-07-21 21:52:06,639 — INFO — layer 0, [2:2767], loss=-6.1903\n"
     ]
    },
    {
     "name": "stderr",
     "output_type": "stream",
     "text": [
      "epoch 2, layer 0:  26%|██████████████████▏                                                    | 2817/11016 [07:09<21:37,  6.32it/s, loss=-7.99]"
     ]
    },
    {
     "name": "stdout",
     "output_type": "stream",
     "text": [
      "2025-07-21 21:52:14,226 — INFO — layer 0, [2:2817], loss=-7.9127\n",
      "2025-07-21 21:52:14,226 — INFO — layer 0, [2:2817], loss=-18.1072\n"
     ]
    },
    {
     "name": "stderr",
     "output_type": "stream",
     "text": [
      "epoch 2, layer 0:  26%|██████████████████▍                                                    | 2867/11016 [07:16<21:56,  6.19it/s, loss=-3.76]"
     ]
    },
    {
     "name": "stdout",
     "output_type": "stream",
     "text": [
      "2025-07-21 21:52:21,949 — INFO — layer 0, [2:2867], loss=-20.0579\n",
      "2025-07-21 21:52:21,949 — INFO — layer 0, [2:2867], loss=-6.1789\n"
     ]
    },
    {
     "name": "stderr",
     "output_type": "stream",
     "text": [
      "epoch 2, layer 0:  26%|██████████████████▊                                                    | 2917/11016 [07:24<20:29,  6.58it/s, loss=-25.5]"
     ]
    },
    {
     "name": "stdout",
     "output_type": "stream",
     "text": [
      "2025-07-21 21:52:29,430 — INFO — layer 0, [2:2917], loss=-14.2351\n",
      "2025-07-21 21:52:29,430 — INFO — layer 0, [2:2917], loss=-9.6669\n"
     ]
    },
    {
     "name": "stderr",
     "output_type": "stream",
     "text": [
      "epoch 2, layer 0:  27%|███████████████████                                                    | 2967/11016 [07:32<20:11,  6.64it/s, loss=-24.8]"
     ]
    },
    {
     "name": "stdout",
     "output_type": "stream",
     "text": [
      "2025-07-21 21:52:37,038 — INFO — layer 0, [2:2967], loss=-17.2580\n",
      "2025-07-21 21:52:37,038 — INFO — layer 0, [2:2967], loss=-13.9785\n"
     ]
    },
    {
     "name": "stderr",
     "output_type": "stream",
     "text": [
      "epoch 2, layer 0:  27%|███████████████████▉                                                     | 3017/11016 [07:39<21:09,  6.30it/s, loss=-21]"
     ]
    },
    {
     "name": "stdout",
     "output_type": "stream",
     "text": [
      "2025-07-21 21:52:44,740 — INFO — layer 0, [2:3017], loss=-14.5026\n",
      "2025-07-21 21:52:44,740 — INFO — layer 0, [2:3017], loss=-12.8551\n"
     ]
    },
    {
     "name": "stderr",
     "output_type": "stream",
     "text": [
      "epoch 2, layer 0:  28%|███████████████████▊                                                   | 3067/11016 [07:47<19:26,  6.81it/s, loss=-27.5]"
     ]
    },
    {
     "name": "stdout",
     "output_type": "stream",
     "text": [
      "2025-07-21 21:52:52,344 — INFO — layer 0, [2:3067], loss=-8.7540\n",
      "2025-07-21 21:52:52,344 — INFO — layer 0, [2:3067], loss=-5.4338\n"
     ]
    },
    {
     "name": "stderr",
     "output_type": "stream",
     "text": [
      "epoch 2, layer 0:  28%|████████████████████▋                                                    | 3117/11016 [07:54<19:10,  6.87it/s, loss=-27]"
     ]
    },
    {
     "name": "stdout",
     "output_type": "stream",
     "text": [
      "2025-07-21 21:52:59,781 — INFO — layer 0, [2:3117], loss=-22.3093\n",
      "2025-07-21 21:52:59,781 — INFO — layer 0, [2:3117], loss=-14.9336\n"
     ]
    },
    {
     "name": "stderr",
     "output_type": "stream",
     "text": [
      "epoch 2, layer 0:  29%|████████████████████▍                                                  | 3167/11016 [08:02<19:43,  6.63it/s, loss=-28.4]"
     ]
    },
    {
     "name": "stdout",
     "output_type": "stream",
     "text": [
      "2025-07-21 21:53:07,271 — INFO — layer 0, [2:3167], loss=-18.8215\n",
      "2025-07-21 21:53:07,271 — INFO — layer 0, [2:3167], loss=-10.6477\n"
     ]
    },
    {
     "name": "stderr",
     "output_type": "stream",
     "text": [
      "epoch 2, layer 0:  29%|█████████████████████▎                                                   | 3217/11016 [08:10<20:55,  6.21it/s, loss=-13]"
     ]
    },
    {
     "name": "stdout",
     "output_type": "stream",
     "text": [
      "2025-07-21 21:53:15,049 — INFO — layer 0, [2:3217], loss=-9.0386\n",
      "2025-07-21 21:53:15,049 — INFO — layer 0, [2:3217], loss=-18.7471\n"
     ]
    },
    {
     "name": "stderr",
     "output_type": "stream",
     "text": [
      "epoch 2, layer 0:  30%|█████████████████████                                                  | 3267/11016 [08:17<20:14,  6.38it/s, loss=-13.8]"
     ]
    },
    {
     "name": "stdout",
     "output_type": "stream",
     "text": [
      "2025-07-21 21:53:22,542 — INFO — layer 0, [2:3267], loss=-9.2278\n",
      "2025-07-21 21:53:22,542 — INFO — layer 0, [2:3267], loss=-8.0979\n"
     ]
    },
    {
     "name": "stderr",
     "output_type": "stream",
     "text": [
      "epoch 2, layer 0:  30%|█████████████████████                                                 | 3317/11016 [08:25<19:12,  6.68it/s, loss=-0.526]"
     ]
    },
    {
     "name": "stdout",
     "output_type": "stream",
     "text": [
      "2025-07-21 21:53:30,163 — INFO — layer 0, [2:3317], loss=-24.8786\n",
      "2025-07-21 21:53:30,163 — INFO — layer 0, [2:3317], loss=-14.3030\n"
     ]
    },
    {
     "name": "stderr",
     "output_type": "stream",
     "text": [
      "epoch 2, layer 0:  31%|█████████████████████▋                                                 | 3367/11016 [08:32<19:53,  6.41it/s, loss=-14.4]"
     ]
    },
    {
     "name": "stdout",
     "output_type": "stream",
     "text": [
      "2025-07-21 21:53:37,713 — INFO — layer 0, [2:3367], loss=-17.5112\n",
      "2025-07-21 21:53:37,713 — INFO — layer 0, [2:3367], loss=-8.6561\n"
     ]
    },
    {
     "name": "stderr",
     "output_type": "stream",
     "text": [
      "epoch 2, layer 0:  31%|██████████████████████                                                 | 3417/11016 [08:40<20:17,  6.24it/s, loss=-12.2]"
     ]
    },
    {
     "name": "stdout",
     "output_type": "stream",
     "text": [
      "2025-07-21 21:53:45,318 — INFO — layer 0, [2:3417], loss=-13.0097\n",
      "2025-07-21 21:53:45,318 — INFO — layer 0, [2:3417], loss=-18.0868\n"
     ]
    },
    {
     "name": "stderr",
     "output_type": "stream",
     "text": [
      "epoch 2, layer 0:  31%|██████████████████████▎                                                | 3467/11016 [08:48<18:58,  6.63it/s, loss=-1.65]"
     ]
    },
    {
     "name": "stdout",
     "output_type": "stream",
     "text": [
      "2025-07-21 21:53:53,059 — INFO — layer 0, [2:3467], loss=-22.1319\n",
      "2025-07-21 21:53:53,059 — INFO — layer 0, [2:3467], loss=-25.5774\n"
     ]
    },
    {
     "name": "stderr",
     "output_type": "stream",
     "text": [
      "epoch 2, layer 0:  32%|██████████████████████▋                                                | 3517/11016 [08:55<19:10,  6.52it/s, loss=-19.6]"
     ]
    },
    {
     "name": "stdout",
     "output_type": "stream",
     "text": [
      "2025-07-21 21:54:00,647 — INFO — layer 0, [2:3517], loss=-16.9989\n",
      "2025-07-21 21:54:00,647 — INFO — layer 0, [2:3517], loss=-22.0953\n"
     ]
    },
    {
     "name": "stderr",
     "output_type": "stream",
     "text": [
      "epoch 2, layer 0:  32%|██████████████████████▉                                                | 3567/11016 [09:03<20:34,  6.03it/s, loss=-9.67]"
     ]
    },
    {
     "name": "stdout",
     "output_type": "stream",
     "text": [
      "2025-07-21 21:54:08,533 — INFO — layer 0, [2:3567], loss=-7.6643\n",
      "2025-07-21 21:54:08,533 — INFO — layer 0, [2:3567], loss=-12.7560\n"
     ]
    },
    {
     "name": "stderr",
     "output_type": "stream",
     "text": [
      "epoch 2, layer 0:  33%|███████████████████████▎                                               | 3617/11016 [09:11<17:57,  6.87it/s, loss=-8.94]"
     ]
    },
    {
     "name": "stdout",
     "output_type": "stream",
     "text": [
      "2025-07-21 21:54:16,074 — INFO — layer 0, [2:3617], loss=-22.2051\n",
      "2025-07-21 21:54:16,074 — INFO — layer 0, [2:3617], loss=-24.9225\n"
     ]
    },
    {
     "name": "stderr",
     "output_type": "stream",
     "text": [
      "epoch 2, layer 0:  33%|███████████████████████▋                                               | 3667/11016 [09:18<19:27,  6.30it/s, loss=-13.8]"
     ]
    },
    {
     "name": "stdout",
     "output_type": "stream",
     "text": [
      "2025-07-21 21:54:23,735 — INFO — layer 0, [2:3667], loss=-5.7252\n",
      "2025-07-21 21:54:23,735 — INFO — layer 0, [2:3667], loss=-12.2546\n"
     ]
    },
    {
     "name": "stderr",
     "output_type": "stream",
     "text": [
      "epoch 2, layer 0:  34%|███████████████████████▉                                               | 3717/11016 [09:26<17:53,  6.80it/s, loss=-22.4]"
     ]
    },
    {
     "name": "stdout",
     "output_type": "stream",
     "text": [
      "2025-07-21 21:54:31,431 — INFO — layer 0, [2:3717], loss=-12.2527\n",
      "2025-07-21 21:54:31,431 — INFO — layer 0, [2:3717], loss=-19.6631\n"
     ]
    },
    {
     "name": "stderr",
     "output_type": "stream",
     "text": [
      "epoch 2, layer 0:  34%|████████████████████████▎                                              | 3767/11016 [09:34<18:43,  6.45it/s, loss=-10.3]"
     ]
    },
    {
     "name": "stdout",
     "output_type": "stream",
     "text": [
      "2025-07-21 21:54:39,011 — INFO — layer 0, [2:3767], loss=-8.9480\n",
      "2025-07-21 21:54:39,011 — INFO — layer 0, [2:3767], loss=-13.5519\n"
     ]
    },
    {
     "name": "stderr",
     "output_type": "stream",
     "text": [
      "epoch 2, layer 0:  35%|████████████████████████▌                                              | 3817/11016 [09:41<18:57,  6.33it/s, loss=-15.8]"
     ]
    },
    {
     "name": "stdout",
     "output_type": "stream",
     "text": [
      "2025-07-21 21:54:46,625 — INFO — layer 0, [2:3817], loss=-14.9749\n",
      "2025-07-21 21:54:46,625 — INFO — layer 0, [2:3817], loss=-3.3766\n"
     ]
    },
    {
     "name": "stderr",
     "output_type": "stream",
     "text": [
      "epoch 2, layer 0:  35%|████████████████████████▉                                              | 3867/11016 [09:49<19:13,  6.20it/s, loss=-11.8]"
     ]
    },
    {
     "name": "stdout",
     "output_type": "stream",
     "text": [
      "2025-07-21 21:54:54,252 — INFO — layer 0, [2:3867], loss=-23.9319\n",
      "2025-07-21 21:54:54,252 — INFO — layer 0, [2:3867], loss=-8.6183\n"
     ]
    },
    {
     "name": "stderr",
     "output_type": "stream",
     "text": [
      "epoch 2, layer 0:  36%|█████████████████████████▏                                             | 3917/11016 [09:56<18:00,  6.57it/s, loss=-11.7]"
     ]
    },
    {
     "name": "stdout",
     "output_type": "stream",
     "text": [
      "2025-07-21 21:55:01,704 — INFO — layer 0, [2:3917], loss=-18.9551\n",
      "2025-07-21 21:55:01,704 — INFO — layer 0, [2:3917], loss=-12.0287\n"
     ]
    },
    {
     "name": "stderr",
     "output_type": "stream",
     "text": [
      "epoch 2, layer 0:  36%|█████████████████████████▌                                             | 3967/11016 [10:04<17:29,  6.72it/s, loss=-5.26]"
     ]
    },
    {
     "name": "stdout",
     "output_type": "stream",
     "text": [
      "2025-07-21 21:55:09,359 — INFO — layer 0, [2:3967], loss=-15.6369\n",
      "2025-07-21 21:55:09,359 — INFO — layer 0, [2:3967], loss=-19.1217\n"
     ]
    },
    {
     "name": "stderr",
     "output_type": "stream",
     "text": [
      "epoch 2, layer 0:  36%|█████████████████████████▉                                             | 4017/11016 [10:11<18:06,  6.44it/s, loss=-5.26]"
     ]
    },
    {
     "name": "stdout",
     "output_type": "stream",
     "text": [
      "2025-07-21 21:55:16,930 — INFO — layer 0, [2:4017], loss=-17.3342\n",
      "2025-07-21 21:55:16,930 — INFO — layer 0, [2:4017], loss=-13.4204\n"
     ]
    },
    {
     "name": "stderr",
     "output_type": "stream",
     "text": [
      "epoch 2, layer 0:  37%|██████████████████████████▏                                            | 4067/11016 [10:19<17:01,  6.80it/s, loss=-17.5]"
     ]
    },
    {
     "name": "stdout",
     "output_type": "stream",
     "text": [
      "2025-07-21 21:55:24,525 — INFO — layer 0, [2:4067], loss=-6.5192\n",
      "2025-07-21 21:55:24,525 — INFO — layer 0, [2:4067], loss=-9.4413\n"
     ]
    },
    {
     "name": "stderr",
     "output_type": "stream",
     "text": [
      "epoch 2, layer 0:  37%|██████████████████████████▌                                            | 4117/11016 [10:27<17:07,  6.71it/s, loss=-7.81]"
     ]
    },
    {
     "name": "stdout",
     "output_type": "stream",
     "text": [
      "2025-07-21 21:55:32,144 — INFO — layer 0, [2:4117], loss=-11.1043\n",
      "2025-07-21 21:55:32,144 — INFO — layer 0, [2:4117], loss=-14.5140\n"
     ]
    },
    {
     "name": "stderr",
     "output_type": "stream",
     "text": [
      "epoch 2, layer 0:  38%|██████████████████████████▊                                            | 4167/11016 [10:34<16:39,  6.85it/s, loss=-14.6]"
     ]
    },
    {
     "name": "stdout",
     "output_type": "stream",
     "text": [
      "2025-07-21 21:55:39,645 — INFO — layer 0, [2:4167], loss=-6.1249\n",
      "2025-07-21 21:55:39,645 — INFO — layer 0, [2:4167], loss=-18.2023\n"
     ]
    },
    {
     "name": "stderr",
     "output_type": "stream",
     "text": [
      "epoch 2, layer 0:  38%|███████████████████████████▏                                           | 4217/11016 [10:42<16:13,  6.98it/s, loss=-9.18]"
     ]
    },
    {
     "name": "stdout",
     "output_type": "stream",
     "text": [
      "2025-07-21 21:55:47,098 — INFO — layer 0, [2:4217], loss=-8.0393\n",
      "2025-07-21 21:55:47,098 — INFO — layer 0, [2:4217], loss=-10.8145\n"
     ]
    },
    {
     "name": "stderr",
     "output_type": "stream",
     "text": [
      "epoch 2, layer 0:  39%|███████████████████████████▌                                           | 4267/11016 [10:49<17:28,  6.44it/s, loss=-8.61]"
     ]
    },
    {
     "name": "stdout",
     "output_type": "stream",
     "text": [
      "2025-07-21 21:55:54,796 — INFO — layer 0, [2:4267], loss=-6.6936\n",
      "2025-07-21 21:55:54,796 — INFO — layer 0, [2:4267], loss=-11.6199\n"
     ]
    },
    {
     "name": "stderr",
     "output_type": "stream",
     "text": [
      "epoch 2, layer 0:  39%|███████████████████████████▊                                           | 4317/11016 [10:57<16:52,  6.62it/s, loss=-14.2]"
     ]
    },
    {
     "name": "stdout",
     "output_type": "stream",
     "text": [
      "2025-07-21 21:56:02,395 — INFO — layer 0, [2:4317], loss=-11.6296\n",
      "2025-07-21 21:56:02,395 — INFO — layer 0, [2:4317], loss=-11.8045\n"
     ]
    },
    {
     "name": "stderr",
     "output_type": "stream",
     "text": [
      "epoch 2, layer 0:  40%|████████████████████████████▏                                          | 4367/11016 [11:05<16:41,  6.64it/s, loss=-8.21]"
     ]
    },
    {
     "name": "stdout",
     "output_type": "stream",
     "text": [
      "2025-07-21 21:56:10,043 — INFO — layer 0, [2:4367], loss=-22.6885\n",
      "2025-07-21 21:56:10,043 — INFO — layer 0, [2:4367], loss=-15.8857\n"
     ]
    },
    {
     "name": "stderr",
     "output_type": "stream",
     "text": [
      "epoch 2, layer 0:  40%|████████████████████████████▍                                          | 4417/11016 [11:12<17:07,  6.42it/s, loss=-22.7]"
     ]
    },
    {
     "name": "stdout",
     "output_type": "stream",
     "text": [
      "2025-07-21 21:56:17,560 — INFO — layer 0, [2:4417], loss=-23.6911\n",
      "2025-07-21 21:56:17,560 — INFO — layer 0, [2:4417], loss=-4.7080\n"
     ]
    },
    {
     "name": "stderr",
     "output_type": "stream",
     "text": [
      "epoch 2, layer 0:  41%|████████████████████████████▊                                          | 4467/11016 [11:20<16:42,  6.53it/s, loss=-19.4]"
     ]
    },
    {
     "name": "stdout",
     "output_type": "stream",
     "text": [
      "2025-07-21 21:56:25,167 — INFO — layer 0, [2:4467], loss=-18.7302\n",
      "2025-07-21 21:56:25,167 — INFO — layer 0, [2:4467], loss=-12.2101\n"
     ]
    },
    {
     "name": "stderr",
     "output_type": "stream",
     "text": [
      "epoch 2, layer 0:  41%|█████████████████████████████                                          | 4517/11016 [11:27<16:19,  6.64it/s, loss=-5.18]"
     ]
    },
    {
     "name": "stdout",
     "output_type": "stream",
     "text": [
      "2025-07-21 21:56:32,862 — INFO — layer 0, [2:4517], loss=-11.0845\n",
      "2025-07-21 21:56:32,862 — INFO — layer 0, [2:4517], loss=-7.1081\n"
     ]
    },
    {
     "name": "stderr",
     "output_type": "stream",
     "text": [
      "epoch 2, layer 0:  41%|█████████████████████████████▍                                         | 4567/11016 [11:35<16:35,  6.48it/s, loss=-9.84]"
     ]
    },
    {
     "name": "stdout",
     "output_type": "stream",
     "text": [
      "2025-07-21 21:56:40,338 — INFO — layer 0, [2:4567], loss=-6.3560\n",
      "2025-07-21 21:56:40,339 — INFO — layer 0, [2:4567], loss=-12.6967\n"
     ]
    },
    {
     "name": "stderr",
     "output_type": "stream",
     "text": [
      "epoch 2, layer 0:  42%|█████████████████████████████▊                                         | 4617/11016 [11:43<16:29,  6.47it/s, loss=-15.9]"
     ]
    },
    {
     "name": "stdout",
     "output_type": "stream",
     "text": [
      "2025-07-21 21:56:47,966 — INFO — layer 0, [2:4617], loss=-21.5449\n",
      "2025-07-21 21:56:47,966 — INFO — layer 0, [2:4617], loss=-15.0651\n"
     ]
    },
    {
     "name": "stderr",
     "output_type": "stream",
     "text": [
      "epoch 2, layer 0:  42%|██████████████████████████████                                         | 4667/11016 [11:50<15:56,  6.64it/s, loss=-15.3]"
     ]
    },
    {
     "name": "stdout",
     "output_type": "stream",
     "text": [
      "2025-07-21 21:56:55,381 — INFO — layer 0, [2:4667], loss=-15.7306\n",
      "2025-07-21 21:56:55,381 — INFO — layer 0, [2:4667], loss=-7.4813\n"
     ]
    },
    {
     "name": "stderr",
     "output_type": "stream",
     "text": [
      "epoch 2, layer 0:  43%|██████████████████████████████▍                                        | 4717/11016 [11:57<16:17,  6.44it/s, loss=-7.83]"
     ]
    },
    {
     "name": "stdout",
     "output_type": "stream",
     "text": [
      "2025-07-21 21:57:02,796 — INFO — layer 0, [2:4717], loss=-8.8126\n",
      "2025-07-21 21:57:02,796 — INFO — layer 0, [2:4717], loss=-8.6917\n"
     ]
    },
    {
     "name": "stderr",
     "output_type": "stream",
     "text": [
      "epoch 2, layer 0:  43%|██████████████████████████████▋                                        | 4767/11016 [12:05<15:26,  6.74it/s, loss=-15.7]"
     ]
    },
    {
     "name": "stdout",
     "output_type": "stream",
     "text": [
      "2025-07-21 21:57:10,456 — INFO — layer 0, [2:4767], loss=-23.3643\n",
      "2025-07-21 21:57:10,456 — INFO — layer 0, [2:4767], loss=-9.9611\n"
     ]
    },
    {
     "name": "stderr",
     "output_type": "stream",
     "text": [
      "epoch 2, layer 0:  44%|███████████████████████████████                                        | 4817/11016 [12:13<16:06,  6.41it/s, loss=-2.15]"
     ]
    },
    {
     "name": "stdout",
     "output_type": "stream",
     "text": [
      "2025-07-21 21:57:18,226 — INFO — layer 0, [2:4817], loss=-14.5505\n",
      "2025-07-21 21:57:18,226 — INFO — layer 0, [2:4817], loss=-15.0481\n"
     ]
    },
    {
     "name": "stderr",
     "output_type": "stream",
     "text": [
      "epoch 2, layer 0:  44%|███████████████████████████████▎                                       | 4867/11016 [12:21<16:53,  6.07it/s, loss=-11.8]"
     ]
    },
    {
     "name": "stdout",
     "output_type": "stream",
     "text": [
      "2025-07-21 21:57:26,054 — INFO — layer 0, [2:4867], loss=-10.8326\n",
      "2025-07-21 21:57:26,054 — INFO — layer 0, [2:4867], loss=-22.8988\n"
     ]
    },
    {
     "name": "stderr",
     "output_type": "stream",
     "text": [
      "epoch 2, layer 0:  45%|███████████████████████████████▋                                       | 4917/11016 [12:28<15:08,  6.71it/s, loss=-15.4]"
     ]
    },
    {
     "name": "stdout",
     "output_type": "stream",
     "text": [
      "2025-07-21 21:57:33,637 — INFO — layer 0, [2:4917], loss=-14.4615\n",
      "2025-07-21 21:57:33,637 — INFO — layer 0, [2:4917], loss=-8.1234\n"
     ]
    },
    {
     "name": "stderr",
     "output_type": "stream",
     "text": [
      "epoch 2, layer 0:  45%|████████████████████████████████                                       | 4967/11016 [12:36<14:49,  6.80it/s, loss=-4.84]"
     ]
    },
    {
     "name": "stdout",
     "output_type": "stream",
     "text": [
      "2025-07-21 21:57:41,194 — INFO — layer 0, [2:4967], loss=-10.7703\n",
      "2025-07-21 21:57:41,194 — INFO — layer 0, [2:4967], loss=-4.1727\n"
     ]
    },
    {
     "name": "stderr",
     "output_type": "stream",
     "text": [
      "epoch 2, layer 0:  46%|████████████████████████████████▎                                      | 5017/11016 [12:43<15:21,  6.51it/s, loss=-9.51]"
     ]
    },
    {
     "name": "stdout",
     "output_type": "stream",
     "text": [
      "2025-07-21 21:57:48,779 — INFO — layer 0, [2:5017], loss=-12.6776\n",
      "2025-07-21 21:57:48,779 — INFO — layer 0, [2:5017], loss=-22.8209\n"
     ]
    },
    {
     "name": "stderr",
     "output_type": "stream",
     "text": [
      "epoch 2, layer 0:  46%|████████████████████████████████▋                                      | 5067/11016 [12:51<15:14,  6.51it/s, loss=-24.5]"
     ]
    },
    {
     "name": "stdout",
     "output_type": "stream",
     "text": [
      "2025-07-21 21:57:56,394 — INFO — layer 0, [2:5067], loss=-19.5007\n",
      "2025-07-21 21:57:56,394 — INFO — layer 0, [2:5067], loss=-13.3647\n"
     ]
    },
    {
     "name": "stderr",
     "output_type": "stream",
     "text": [
      "epoch 2, layer 0:  46%|████████████████████████████████▉                                      | 5117/11016 [12:59<15:38,  6.29it/s, loss=-16.9]"
     ]
    },
    {
     "name": "stdout",
     "output_type": "stream",
     "text": [
      "2025-07-21 21:58:04,176 — INFO — layer 0, [2:5117], loss=-17.9025\n",
      "2025-07-21 21:58:04,176 — INFO — layer 0, [2:5117], loss=-22.5785\n"
     ]
    },
    {
     "name": "stderr",
     "output_type": "stream",
     "text": [
      "epoch 2, layer 0:  47%|█████████████████████████████████▎                                     | 5167/11016 [13:06<14:55,  6.53it/s, loss=-3.19]"
     ]
    },
    {
     "name": "stdout",
     "output_type": "stream",
     "text": [
      "2025-07-21 21:58:11,694 — INFO — layer 0, [2:5167], loss=-8.3411\n",
      "2025-07-21 21:58:11,694 — INFO — layer 0, [2:5167], loss=-5.8149\n"
     ]
    },
    {
     "name": "stderr",
     "output_type": "stream",
     "text": [
      "epoch 2, layer 0:  47%|██████████████████████████████████▌                                      | 5217/11016 [13:14<14:32,  6.65it/s, loss=-18]"
     ]
    },
    {
     "name": "stdout",
     "output_type": "stream",
     "text": [
      "2025-07-21 21:58:19,159 — INFO — layer 0, [2:5217], loss=-13.6006\n",
      "2025-07-21 21:58:19,159 — INFO — layer 0, [2:5217], loss=-11.2349\n"
     ]
    },
    {
     "name": "stderr",
     "output_type": "stream",
     "text": [
      "epoch 2, layer 0:  48%|█████████████████████████████████▉                                     | 5267/11016 [13:21<15:42,  6.10it/s, loss=-21.5]"
     ]
    },
    {
     "name": "stdout",
     "output_type": "stream",
     "text": [
      "2025-07-21 21:58:26,828 — INFO — layer 0, [2:5267], loss=-11.4212\n",
      "2025-07-21 21:58:26,828 — INFO — layer 0, [2:5267], loss=-13.1065\n"
     ]
    },
    {
     "name": "stderr",
     "output_type": "stream",
     "text": [
      "epoch 2, layer 0:  48%|██████████████████████████████████▎                                    | 5317/11016 [13:29<15:32,  6.11it/s, loss=-20.9]"
     ]
    },
    {
     "name": "stdout",
     "output_type": "stream",
     "text": [
      "2025-07-21 21:58:34,760 — INFO — layer 0, [2:5317], loss=-14.8959\n",
      "2025-07-21 21:58:34,760 — INFO — layer 0, [2:5317], loss=-3.7984\n"
     ]
    },
    {
     "name": "stderr",
     "output_type": "stream",
     "text": [
      "epoch 2, layer 0:  49%|███████████████████████████████████▌                                     | 5367/11016 [13:37<14:44,  6.39it/s, loss=-14]"
     ]
    },
    {
     "name": "stdout",
     "output_type": "stream",
     "text": [
      "2025-07-21 21:58:42,640 — INFO — layer 0, [2:5367], loss=-19.6870\n",
      "2025-07-21 21:58:42,640 — INFO — layer 0, [2:5367], loss=-7.1204\n"
     ]
    },
    {
     "name": "stderr",
     "output_type": "stream",
     "text": [
      "epoch 2, layer 0:  49%|██████████████████████████████████▉                                    | 5417/11016 [13:45<14:02,  6.65it/s, loss=-22.5]"
     ]
    },
    {
     "name": "stdout",
     "output_type": "stream",
     "text": [
      "2025-07-21 21:58:50,272 — INFO — layer 0, [2:5417], loss=-17.8994\n",
      "2025-07-21 21:58:50,272 — INFO — layer 0, [2:5417], loss=-15.0626\n"
     ]
    },
    {
     "name": "stderr",
     "output_type": "stream",
     "text": [
      "epoch 2, layer 0:  50%|███████████████████████████████████▏                                   | 5467/11016 [13:52<14:17,  6.47it/s, loss=-5.04]"
     ]
    },
    {
     "name": "stdout",
     "output_type": "stream",
     "text": [
      "2025-07-21 21:58:57,881 — INFO — layer 0, [2:5467], loss=-17.9701\n",
      "2025-07-21 21:58:57,881 — INFO — layer 0, [2:5467], loss=-14.3183\n"
     ]
    },
    {
     "name": "stderr",
     "output_type": "stream",
     "text": [
      "epoch 2, layer 0:  50%|███████████████████████████████████▌                                   | 5517/11016 [14:00<13:37,  6.72it/s, loss=-21.4]"
     ]
    },
    {
     "name": "stdout",
     "output_type": "stream",
     "text": [
      "2025-07-21 21:59:05,406 — INFO — layer 0, [2:5517], loss=-17.8593\n",
      "2025-07-21 21:59:05,406 — INFO — layer 0, [2:5517], loss=-21.2025\n"
     ]
    },
    {
     "name": "stderr",
     "output_type": "stream",
     "text": [
      "epoch 2, layer 0:  51%|███████████████████████████████████▉                                   | 5567/11016 [14:08<13:30,  6.72it/s, loss=-10.7]"
     ]
    },
    {
     "name": "stdout",
     "output_type": "stream",
     "text": [
      "2025-07-21 21:59:13,128 — INFO — layer 0, [2:5567], loss=-25.0969\n",
      "2025-07-21 21:59:13,128 — INFO — layer 0, [2:5567], loss=-19.7632\n"
     ]
    },
    {
     "name": "stderr",
     "output_type": "stream",
     "text": [
      "epoch 2, layer 0:  51%|█████████████████████████████████████▏                                   | 5617/11016 [14:15<13:40,  6.58it/s, loss=-13]"
     ]
    },
    {
     "name": "stdout",
     "output_type": "stream",
     "text": [
      "2025-07-21 21:59:20,862 — INFO — layer 0, [2:5617], loss=-14.9990\n",
      "2025-07-21 21:59:20,863 — INFO — layer 0, [2:5617], loss=-12.2852\n"
     ]
    },
    {
     "name": "stderr",
     "output_type": "stream",
     "text": [
      "epoch 2, layer 0:  51%|████████████████████████████████████▌                                  | 5667/11016 [14:23<13:18,  6.70it/s, loss=-4.88]"
     ]
    },
    {
     "name": "stdout",
     "output_type": "stream",
     "text": [
      "2025-07-21 21:59:28,449 — INFO — layer 0, [2:5667], loss=-17.3503\n",
      "2025-07-21 21:59:28,449 — INFO — layer 0, [2:5667], loss=-28.7167\n"
     ]
    },
    {
     "name": "stderr",
     "output_type": "stream",
     "text": [
      "epoch 2, layer 0:  52%|████████████████████████████████████▊                                  | 5717/11016 [14:31<13:20,  6.62it/s, loss=-10.6]"
     ]
    },
    {
     "name": "stdout",
     "output_type": "stream",
     "text": [
      "2025-07-21 21:59:36,088 — INFO — layer 0, [2:5717], loss=-13.1677\n",
      "2025-07-21 21:59:36,088 — INFO — layer 0, [2:5717], loss=-26.1178\n"
     ]
    },
    {
     "name": "stderr",
     "output_type": "stream",
     "text": [
      "epoch 2, layer 0:  52%|█████████████████████████████████████▏                                 | 5767/11016 [14:38<12:41,  6.89it/s, loss=-15.4]"
     ]
    },
    {
     "name": "stdout",
     "output_type": "stream",
     "text": [
      "2025-07-21 21:59:43,615 — INFO — layer 0, [2:5767], loss=-20.0990\n",
      "2025-07-21 21:59:43,615 — INFO — layer 0, [2:5767], loss=-14.4931\n"
     ]
    },
    {
     "name": "stderr",
     "output_type": "stream",
     "text": [
      "epoch 2, layer 0:  53%|█████████████████████████████████████▍                                 | 5817/11016 [14:46<12:42,  6.82it/s, loss=-13.2]"
     ]
    },
    {
     "name": "stdout",
     "output_type": "stream",
     "text": [
      "2025-07-21 21:59:51,336 — INFO — layer 0, [2:5817], loss=-22.3739\n",
      "2025-07-21 21:59:51,336 — INFO — layer 0, [2:5817], loss=-15.7544\n"
     ]
    },
    {
     "name": "stderr",
     "output_type": "stream",
     "text": [
      "epoch 2, layer 0:  53%|█████████████████████████████████████▊                                 | 5867/11016 [14:54<14:52,  5.77it/s, loss=-14.8]"
     ]
    },
    {
     "name": "stdout",
     "output_type": "stream",
     "text": [
      "2025-07-21 21:59:59,267 — INFO — layer 0, [2:5867], loss=-10.7539\n",
      "2025-07-21 21:59:59,267 — INFO — layer 0, [2:5867], loss=-6.3979\n"
     ]
    },
    {
     "name": "stderr",
     "output_type": "stream",
     "text": [
      "epoch 2, layer 0:  54%|███████████████████████████████████████▏                                 | 5917/11016 [15:01<12:34,  6.75it/s, loss=-20]"
     ]
    },
    {
     "name": "stdout",
     "output_type": "stream",
     "text": [
      "2025-07-21 22:00:06,943 — INFO — layer 0, [2:5917], loss=-15.0522\n",
      "2025-07-21 22:00:06,943 — INFO — layer 0, [2:5917], loss=-16.4806\n"
     ]
    },
    {
     "name": "stderr",
     "output_type": "stream",
     "text": [
      "epoch 2, layer 0:  54%|██████████████████████████████████████▍                                | 5967/11016 [15:09<12:30,  6.73it/s, loss=-8.69]"
     ]
    },
    {
     "name": "stdout",
     "output_type": "stream",
     "text": [
      "2025-07-21 22:00:14,586 — INFO — layer 0, [2:5967], loss=-14.9138\n",
      "2025-07-21 22:00:14,586 — INFO — layer 0, [2:5967], loss=-17.1127\n"
     ]
    },
    {
     "name": "stderr",
     "output_type": "stream",
     "text": [
      "epoch 2, layer 0:  55%|██████████████████████████████████████▊                                | 6017/11016 [15:17<12:30,  6.66it/s, loss=-10.5]"
     ]
    },
    {
     "name": "stdout",
     "output_type": "stream",
     "text": [
      "2025-07-21 22:00:22,243 — INFO — layer 0, [2:6017], loss=-10.2374\n",
      "2025-07-21 22:00:22,243 — INFO — layer 0, [2:6017], loss=-10.3977\n"
     ]
    },
    {
     "name": "stderr",
     "output_type": "stream",
     "text": [
      "epoch 2, layer 0:  55%|███████████████████████████████████████                                | 6067/11016 [15:24<12:22,  6.67it/s, loss=-15.4]"
     ]
    },
    {
     "name": "stdout",
     "output_type": "stream",
     "text": [
      "2025-07-21 22:00:29,904 — INFO — layer 0, [2:6067], loss=-12.4104\n",
      "2025-07-21 22:00:29,904 — INFO — layer 0, [2:6067], loss=-18.2204\n"
     ]
    },
    {
     "name": "stderr",
     "output_type": "stream",
     "text": [
      "epoch 2, layer 0:  56%|███████████████████████████████████████▍                               | 6117/11016 [15:32<12:02,  6.78it/s, loss=-25.6]"
     ]
    },
    {
     "name": "stdout",
     "output_type": "stream",
     "text": [
      "2025-07-21 22:00:37,558 — INFO — layer 0, [2:6117], loss=-7.8761\n",
      "2025-07-21 22:00:37,558 — INFO — layer 0, [2:6117], loss=-13.4528\n"
     ]
    },
    {
     "name": "stderr",
     "output_type": "stream",
     "text": [
      "epoch 2, layer 0:  56%|███████████████████████████████████████▋                               | 6167/11016 [15:40<11:49,  6.84it/s, loss=-22.1]"
     ]
    },
    {
     "name": "stdout",
     "output_type": "stream",
     "text": [
      "2025-07-21 22:00:45,110 — INFO — layer 0, [2:6167], loss=-8.0952\n",
      "2025-07-21 22:00:45,110 — INFO — layer 0, [2:6167], loss=-21.4542\n"
     ]
    },
    {
     "name": "stderr",
     "output_type": "stream",
     "text": [
      "epoch 2, layer 0:  56%|████████████████████████████████████████                               | 6217/11016 [15:47<12:14,  6.54it/s, loss=-3.59]"
     ]
    },
    {
     "name": "stdout",
     "output_type": "stream",
     "text": [
      "2025-07-21 22:00:52,742 — INFO — layer 0, [2:6217], loss=-19.3318\n",
      "2025-07-21 22:00:52,743 — INFO — layer 0, [2:6217], loss=-3.8462\n"
     ]
    },
    {
     "name": "stderr",
     "output_type": "stream",
     "text": [
      "epoch 2, layer 0:  57%|████████████████████████████████████████▍                              | 6267/11016 [15:55<11:59,  6.60it/s, loss=-24.9]"
     ]
    },
    {
     "name": "stdout",
     "output_type": "stream",
     "text": [
      "2025-07-21 22:01:00,351 — INFO — layer 0, [2:6267], loss=-28.4465\n",
      "2025-07-21 22:01:00,351 — INFO — layer 0, [2:6267], loss=-16.1250\n"
     ]
    },
    {
     "name": "stderr",
     "output_type": "stream",
     "text": [
      "epoch 2, layer 0:  57%|████████████████████████████████████████▋                              | 6317/11016 [16:03<11:32,  6.78it/s, loss=-14.8]"
     ]
    },
    {
     "name": "stdout",
     "output_type": "stream",
     "text": [
      "2025-07-21 22:01:08,018 — INFO — layer 0, [2:6317], loss=-11.4115\n",
      "2025-07-21 22:01:08,018 — INFO — layer 0, [2:6317], loss=-8.0501\n"
     ]
    },
    {
     "name": "stderr",
     "output_type": "stream",
     "text": [
      "epoch 2, layer 0:  58%|██████████████████████████████████████████▏                              | 6367/11016 [16:10<11:29,  6.75it/s, loss=-21]"
     ]
    },
    {
     "name": "stdout",
     "output_type": "stream",
     "text": [
      "2025-07-21 22:01:15,565 — INFO — layer 0, [2:6367], loss=-22.5726\n",
      "2025-07-21 22:01:15,565 — INFO — layer 0, [2:6367], loss=-4.9783\n"
     ]
    },
    {
     "name": "stderr",
     "output_type": "stream",
     "text": [
      "epoch 2, layer 0:  58%|█████████████████████████████████████████▎                             | 6417/11016 [16:18<11:26,  6.70it/s, loss=-14.6]"
     ]
    },
    {
     "name": "stdout",
     "output_type": "stream",
     "text": [
      "2025-07-21 22:01:23,101 — INFO — layer 0, [2:6417], loss=-20.1560\n",
      "2025-07-21 22:01:23,101 — INFO — layer 0, [2:6417], loss=-13.9650\n"
     ]
    },
    {
     "name": "stderr",
     "output_type": "stream",
     "text": [
      "epoch 2, layer 0:  59%|█████████████████████████████████████████▋                             | 6467/11016 [16:25<11:36,  6.53it/s, loss=-16.3]"
     ]
    },
    {
     "name": "stdout",
     "output_type": "stream",
     "text": [
      "2025-07-21 22:01:30,738 — INFO — layer 0, [2:6467], loss=-8.1360\n",
      "2025-07-21 22:01:30,738 — INFO — layer 0, [2:6467], loss=-5.3931\n"
     ]
    },
    {
     "name": "stderr",
     "output_type": "stream",
     "text": [
      "epoch 2, layer 0:  59%|██████████████████████████████████████████                             | 6517/11016 [16:33<11:10,  6.71it/s, loss=-3.38]"
     ]
    },
    {
     "name": "stdout",
     "output_type": "stream",
     "text": [
      "2025-07-21 22:01:38,465 — INFO — layer 0, [2:6517], loss=-13.7161\n",
      "2025-07-21 22:01:38,465 — INFO — layer 0, [2:6517], loss=-20.4134\n"
     ]
    },
    {
     "name": "stderr",
     "output_type": "stream",
     "text": [
      "epoch 2, layer 0:  60%|██████████████████████████████████████████▎                            | 6567/11016 [16:41<11:23,  6.51it/s, loss=-14.6]"
     ]
    },
    {
     "name": "stdout",
     "output_type": "stream",
     "text": [
      "2025-07-21 22:01:46,136 — INFO — layer 0, [2:6567], loss=-14.3190\n",
      "2025-07-21 22:01:46,136 — INFO — layer 0, [2:6567], loss=-8.4177\n"
     ]
    },
    {
     "name": "stderr",
     "output_type": "stream",
     "text": [
      "epoch 2, layer 0:  60%|██████████████████████████████████████████▋                            | 6617/11016 [16:48<10:36,  6.91it/s, loss=-18.5]"
     ]
    },
    {
     "name": "stdout",
     "output_type": "stream",
     "text": [
      "2025-07-21 22:01:53,688 — INFO — layer 0, [2:6617], loss=-18.5566\n",
      "2025-07-21 22:01:53,688 — INFO — layer 0, [2:6617], loss=-15.1582\n"
     ]
    },
    {
     "name": "stderr",
     "output_type": "stream",
     "text": [
      "epoch 2, layer 0:  61%|██████████████████████████████████████████▉                            | 6667/11016 [16:56<11:25,  6.35it/s, loss=-21.5]"
     ]
    },
    {
     "name": "stdout",
     "output_type": "stream",
     "text": [
      "2025-07-21 22:02:01,387 — INFO — layer 0, [2:6667], loss=-7.9195\n",
      "2025-07-21 22:02:01,387 — INFO — layer 0, [2:6667], loss=-15.4644\n"
     ]
    },
    {
     "name": "stderr",
     "output_type": "stream",
     "text": [
      "epoch 2, layer 0:  61%|███████████████████████████████████████████▎                           | 6717/11016 [17:04<10:25,  6.87it/s, loss=-15.8]"
     ]
    },
    {
     "name": "stdout",
     "output_type": "stream",
     "text": [
      "2025-07-21 22:02:08,979 — INFO — layer 0, [2:6717], loss=-8.0366\n",
      "2025-07-21 22:02:08,979 — INFO — layer 0, [2:6717], loss=-6.2919\n"
     ]
    },
    {
     "name": "stderr",
     "output_type": "stream",
     "text": [
      "epoch 2, layer 0:  61%|███████████████████████████████████████████▌                           | 6767/11016 [17:11<10:50,  6.53it/s, loss=-14.3]"
     ]
    },
    {
     "name": "stdout",
     "output_type": "stream",
     "text": [
      "2025-07-21 22:02:16,525 — INFO — layer 0, [2:6767], loss=-18.5384\n",
      "2025-07-21 22:02:16,525 — INFO — layer 0, [2:6767], loss=-18.6552\n"
     ]
    },
    {
     "name": "stderr",
     "output_type": "stream",
     "text": [
      "epoch 2, layer 0:  62%|███████████████████████████████████████████▉                           | 6817/11016 [17:19<10:23,  6.73it/s, loss=-17.3]"
     ]
    },
    {
     "name": "stdout",
     "output_type": "stream",
     "text": [
      "2025-07-21 22:02:24,196 — INFO — layer 0, [2:6817], loss=-12.4738\n",
      "2025-07-21 22:02:24,196 — INFO — layer 0, [2:6817], loss=-11.3613\n"
     ]
    },
    {
     "name": "stderr",
     "output_type": "stream",
     "text": [
      "epoch 2, layer 0:  62%|████████████████████████████████████████████▎                          | 6867/11016 [17:26<10:27,  6.61it/s, loss=-15.1]"
     ]
    },
    {
     "name": "stdout",
     "output_type": "stream",
     "text": [
      "2025-07-21 22:02:31,798 — INFO — layer 0, [2:6867], loss=-10.9667\n",
      "2025-07-21 22:02:31,798 — INFO — layer 0, [2:6867], loss=-11.4096\n"
     ]
    },
    {
     "name": "stderr",
     "output_type": "stream",
     "text": [
      "epoch 2, layer 0:  63%|█████████████████████████████████████████████▊                           | 6917/11016 [17:34<10:56,  6.25it/s, loss=-14]"
     ]
    },
    {
     "name": "stdout",
     "output_type": "stream",
     "text": [
      "2025-07-21 22:02:39,431 — INFO — layer 0, [2:6917], loss=-21.2508\n",
      "2025-07-21 22:02:39,431 — INFO — layer 0, [2:6917], loss=-6.3469\n"
     ]
    },
    {
     "name": "stderr",
     "output_type": "stream",
     "text": [
      "epoch 2, layer 0:  63%|████████████████████████████████████████████▉                          | 6967/11016 [17:42<10:35,  6.38it/s, loss=-22.1]"
     ]
    },
    {
     "name": "stdout",
     "output_type": "stream",
     "text": [
      "2025-07-21 22:02:47,137 — INFO — layer 0, [2:6967], loss=-15.3256\n",
      "2025-07-21 22:02:47,137 — INFO — layer 0, [2:6967], loss=-0.1482\n"
     ]
    },
    {
     "name": "stderr",
     "output_type": "stream",
     "text": [
      "epoch 2, layer 0:  64%|█████████████████████████████████████████████▏                         | 7017/11016 [17:49<09:54,  6.73it/s, loss=-22.8]"
     ]
    },
    {
     "name": "stdout",
     "output_type": "stream",
     "text": [
      "2025-07-21 22:02:54,646 — INFO — layer 0, [2:7017], loss=-10.7967\n",
      "2025-07-21 22:02:54,646 — INFO — layer 0, [2:7017], loss=-26.1028\n"
     ]
    },
    {
     "name": "stderr",
     "output_type": "stream",
     "text": [
      "epoch 2, layer 0:  64%|█████████████████████████████████████████████▌                         | 7067/11016 [17:57<09:46,  6.74it/s, loss=-11.3]"
     ]
    },
    {
     "name": "stdout",
     "output_type": "stream",
     "text": [
      "2025-07-21 22:03:02,206 — INFO — layer 0, [2:7067], loss=-5.4648\n",
      "2025-07-21 22:03:02,206 — INFO — layer 0, [2:7067], loss=-7.3417\n"
     ]
    },
    {
     "name": "stderr",
     "output_type": "stream",
     "text": [
      "epoch 2, layer 0:  65%|█████████████████████████████████████████████▊                         | 7117/11016 [18:04<09:45,  6.66it/s, loss=-7.49]"
     ]
    },
    {
     "name": "stdout",
     "output_type": "stream",
     "text": [
      "2025-07-21 22:03:09,750 — INFO — layer 0, [2:7117], loss=-15.1613\n",
      "2025-07-21 22:03:09,750 — INFO — layer 0, [2:7117], loss=-15.4279\n"
     ]
    },
    {
     "name": "stderr",
     "output_type": "stream",
     "text": [
      "epoch 2, layer 0:  65%|██████████████████████████████████████████████▏                        | 7167/11016 [18:12<10:05,  6.35it/s, loss=-13.5]"
     ]
    },
    {
     "name": "stdout",
     "output_type": "stream",
     "text": [
      "2025-07-21 22:03:17,424 — INFO — layer 0, [2:7167], loss=-12.0804\n",
      "2025-07-21 22:03:17,424 — INFO — layer 0, [2:7167], loss=-22.2812\n"
     ]
    },
    {
     "name": "stderr",
     "output_type": "stream",
     "text": [
      "epoch 2, layer 0:  66%|██████████████████████████████████████████████▌                        | 7217/11016 [18:20<10:01,  6.31it/s, loss=-19.2]"
     ]
    },
    {
     "name": "stdout",
     "output_type": "stream",
     "text": [
      "2025-07-21 22:03:25,105 — INFO — layer 0, [2:7217], loss=-12.0542\n",
      "2025-07-21 22:03:25,105 — INFO — layer 0, [2:7217], loss=-12.8347\n"
     ]
    },
    {
     "name": "stderr",
     "output_type": "stream",
     "text": [
      "epoch 2, layer 0:  66%|██████████████████████████████████████████████▊                        | 7267/11016 [18:27<09:38,  6.48it/s, loss=-10.4]"
     ]
    },
    {
     "name": "stdout",
     "output_type": "stream",
     "text": [
      "2025-07-21 22:03:32,846 — INFO — layer 0, [2:7267], loss=-20.1818\n",
      "2025-07-21 22:03:32,846 — INFO — layer 0, [2:7267], loss=-15.6025\n"
     ]
    },
    {
     "name": "stderr",
     "output_type": "stream",
     "text": [
      "epoch 2, layer 0:  66%|███████████████████████████████████████████████▏                       | 7317/11016 [18:35<10:31,  5.86it/s, loss=-17.4]"
     ]
    },
    {
     "name": "stdout",
     "output_type": "stream",
     "text": [
      "2025-07-21 22:03:40,607 — INFO — layer 0, [2:7317], loss=-8.0798\n",
      "2025-07-21 22:03:40,607 — INFO — layer 0, [2:7317], loss=-8.7775\n"
     ]
    },
    {
     "name": "stderr",
     "output_type": "stream",
     "text": [
      "epoch 2, layer 0:  67%|███████████████████████████████████████████████▍                       | 7367/11016 [18:43<09:23,  6.48it/s, loss=-4.42]"
     ]
    },
    {
     "name": "stdout",
     "output_type": "stream",
     "text": [
      "2025-07-21 22:03:48,201 — INFO — layer 0, [2:7367], loss=-20.6423\n",
      "2025-07-21 22:03:48,201 — INFO — layer 0, [2:7367], loss=-6.1126\n"
     ]
    },
    {
     "name": "stderr",
     "output_type": "stream",
     "text": [
      "epoch 2, layer 0:  67%|███████████████████████████████████████████████▊                       | 7417/11016 [18:50<09:09,  6.55it/s, loss=-25.8]"
     ]
    },
    {
     "name": "stdout",
     "output_type": "stream",
     "text": [
      "2025-07-21 22:03:55,697 — INFO — layer 0, [2:7417], loss=-8.5925\n",
      "2025-07-21 22:03:55,697 — INFO — layer 0, [2:7417], loss=-11.3986\n"
     ]
    },
    {
     "name": "stderr",
     "output_type": "stream",
     "text": [
      "epoch 2, layer 0:  68%|████████████████████████████████████████████████▏                      | 7467/11016 [18:58<09:01,  6.56it/s, loss=-12.4]"
     ]
    },
    {
     "name": "stdout",
     "output_type": "stream",
     "text": [
      "2025-07-21 22:04:03,471 — INFO — layer 0, [2:7467], loss=-4.6963\n",
      "2025-07-21 22:04:03,471 — INFO — layer 0, [2:7467], loss=-6.5119\n"
     ]
    },
    {
     "name": "stderr",
     "output_type": "stream",
     "text": [
      "epoch 2, layer 0:  68%|█████████████████████████████████████████████████▊                       | 7517/11016 [19:06<08:52,  6.57it/s, loss=-12]"
     ]
    },
    {
     "name": "stdout",
     "output_type": "stream",
     "text": [
      "2025-07-21 22:04:11,076 — INFO — layer 0, [2:7517], loss=-10.5572\n",
      "2025-07-21 22:04:11,076 — INFO — layer 0, [2:7517], loss=-11.1542\n"
     ]
    },
    {
     "name": "stderr",
     "output_type": "stream",
     "text": [
      "epoch 2, layer 0:  69%|████████████████████████████████████████████████▊                      | 7567/11016 [19:13<08:20,  6.89it/s, loss=-7.65]"
     ]
    },
    {
     "name": "stdout",
     "output_type": "stream",
     "text": [
      "2025-07-21 22:04:18,489 — INFO — layer 0, [2:7567], loss=-10.5165\n",
      "2025-07-21 22:04:18,490 — INFO — layer 0, [2:7567], loss=-8.3116\n"
     ]
    },
    {
     "name": "stderr",
     "output_type": "stream",
     "text": [
      "epoch 2, layer 0:  69%|█████████████████████████████████████████████████                      | 7617/11016 [19:21<08:42,  6.51it/s, loss=-22.4]"
     ]
    },
    {
     "name": "stdout",
     "output_type": "stream",
     "text": [
      "2025-07-21 22:04:26,120 — INFO — layer 0, [2:7617], loss=-20.3315\n",
      "2025-07-21 22:04:26,120 — INFO — layer 0, [2:7617], loss=-16.7576\n"
     ]
    },
    {
     "name": "stderr",
     "output_type": "stream",
     "text": [
      "epoch 2, layer 0:  70%|██████████████████████████████████████████████████▊                      | 7667/11016 [19:28<08:32,  6.53it/s, loss=-12]"
     ]
    },
    {
     "name": "stdout",
     "output_type": "stream",
     "text": [
      "2025-07-21 22:04:33,636 — INFO — layer 0, [2:7667], loss=-6.4343\n",
      "2025-07-21 22:04:33,636 — INFO — layer 0, [2:7667], loss=-12.4433\n"
     ]
    },
    {
     "name": "stderr",
     "output_type": "stream",
     "text": [
      "epoch 2, layer 0:  70%|█████████████████████████████████████████████████▋                     | 7717/11016 [19:36<08:14,  6.68it/s, loss=-26.7]"
     ]
    },
    {
     "name": "stdout",
     "output_type": "stream",
     "text": [
      "2025-07-21 22:04:41,370 — INFO — layer 0, [2:7717], loss=-13.0857\n",
      "2025-07-21 22:04:41,370 — INFO — layer 0, [2:7717], loss=-13.6289\n"
     ]
    },
    {
     "name": "stderr",
     "output_type": "stream",
     "text": [
      "epoch 2, layer 0:  71%|██████████████████████████████████████████████████                     | 7767/11016 [19:43<07:53,  6.85it/s, loss=-14.3]"
     ]
    },
    {
     "name": "stdout",
     "output_type": "stream",
     "text": [
      "2025-07-21 22:04:48,880 — INFO — layer 0, [2:7767], loss=-18.6665\n",
      "2025-07-21 22:04:48,880 — INFO — layer 0, [2:7767], loss=-22.2983\n"
     ]
    },
    {
     "name": "stderr",
     "output_type": "stream",
     "text": [
      "epoch 2, layer 0:  71%|██████████████████████████████████████████████████▍                    | 7817/11016 [19:51<07:36,  7.01it/s, loss=-19.3]"
     ]
    },
    {
     "name": "stdout",
     "output_type": "stream",
     "text": [
      "2025-07-21 22:04:56,468 — INFO — layer 0, [2:7817], loss=-12.6911\n",
      "2025-07-21 22:04:56,468 — INFO — layer 0, [2:7817], loss=-10.6875\n"
     ]
    },
    {
     "name": "stderr",
     "output_type": "stream",
     "text": [
      "epoch 2, layer 0:  71%|██████████████████████████████████████████████████▋                    | 7867/11016 [19:59<08:02,  6.53it/s, loss=-6.43]"
     ]
    },
    {
     "name": "stdout",
     "output_type": "stream",
     "text": [
      "2025-07-21 22:05:04,207 — INFO — layer 0, [2:7867], loss=-18.6183\n",
      "2025-07-21 22:05:04,207 — INFO — layer 0, [2:7867], loss=-19.1351\n"
     ]
    },
    {
     "name": "stderr",
     "output_type": "stream",
     "text": [
      "epoch 2, layer 0:  72%|███████████████████████████████████████████████████                    | 7917/11016 [20:06<07:40,  6.73it/s, loss=-18.3]"
     ]
    },
    {
     "name": "stdout",
     "output_type": "stream",
     "text": [
      "2025-07-21 22:05:11,686 — INFO — layer 0, [2:7917], loss=-15.8458\n",
      "2025-07-21 22:05:11,686 — INFO — layer 0, [2:7917], loss=-14.5569\n"
     ]
    },
    {
     "name": "stderr",
     "output_type": "stream",
     "text": [
      "epoch 2, layer 0:  72%|███████████████████████████████████████████████████▎                   | 7967/11016 [20:14<07:51,  6.47it/s, loss=-11.1]"
     ]
    },
    {
     "name": "stdout",
     "output_type": "stream",
     "text": [
      "2025-07-21 22:05:19,379 — INFO — layer 0, [2:7967], loss=-14.3267\n",
      "2025-07-21 22:05:19,379 — INFO — layer 0, [2:7967], loss=-18.7807\n"
     ]
    },
    {
     "name": "stderr",
     "output_type": "stream",
     "text": [
      "epoch 2, layer 0:  73%|███████████████████████████████████████████████████▋                   | 8017/11016 [20:22<08:51,  5.64it/s, loss=-11.1]"
     ]
    },
    {
     "name": "stdout",
     "output_type": "stream",
     "text": [
      "2025-07-21 22:05:26,995 — INFO — layer 0, [2:8017], loss=-19.2320\n",
      "2025-07-21 22:05:26,995 — INFO — layer 0, [2:8017], loss=-22.1625\n"
     ]
    },
    {
     "name": "stderr",
     "output_type": "stream",
     "text": [
      "epoch 2, layer 0:  73%|███████████████████████████████████████████████████▉                   | 8067/11016 [20:29<07:15,  6.78it/s, loss=-11.5]"
     ]
    },
    {
     "name": "stdout",
     "output_type": "stream",
     "text": [
      "2025-07-21 22:05:34,669 — INFO — layer 0, [2:8067], loss=-11.6825\n",
      "2025-07-21 22:05:34,669 — INFO — layer 0, [2:8067], loss=-15.7810\n"
     ]
    },
    {
     "name": "stderr",
     "output_type": "stream",
     "text": [
      "epoch 2, layer 0:  74%|█████████████████████████████████████████████████████▊                   | 8117/11016 [20:37<07:25,  6.50it/s, loss=-20]"
     ]
    },
    {
     "name": "stdout",
     "output_type": "stream",
     "text": [
      "2025-07-21 22:05:42,274 — INFO — layer 0, [2:8117], loss=-14.6405\n",
      "2025-07-21 22:05:42,274 — INFO — layer 0, [2:8117], loss=-10.5884\n"
     ]
    },
    {
     "name": "stderr",
     "output_type": "stream",
     "text": [
      "epoch 2, layer 0:  74%|████████████████████████████████████████████████████▋                  | 8167/11016 [20:45<07:23,  6.43it/s, loss=-14.4]"
     ]
    },
    {
     "name": "stdout",
     "output_type": "stream",
     "text": [
      "2025-07-21 22:05:49,995 — INFO — layer 0, [2:8167], loss=-16.3954\n",
      "2025-07-21 22:05:49,995 — INFO — layer 0, [2:8167], loss=-11.3699\n"
     ]
    },
    {
     "name": "stderr",
     "output_type": "stream",
     "text": [
      "epoch 2, layer 0:  75%|████████████████████████████████████████████████████▉                  | 8217/11016 [20:52<06:51,  6.80it/s, loss=-21.5]"
     ]
    },
    {
     "name": "stdout",
     "output_type": "stream",
     "text": [
      "2025-07-21 22:05:57,480 — INFO — layer 0, [2:8217], loss=-20.0976\n",
      "2025-07-21 22:05:57,480 — INFO — layer 0, [2:8217], loss=-13.8300\n"
     ]
    },
    {
     "name": "stderr",
     "output_type": "stream",
     "text": [
      "epoch 2, layer 0:  75%|█████████████████████████████████████████████████████▎                 | 8267/11016 [21:00<06:36,  6.93it/s, loss=-6.93]"
     ]
    },
    {
     "name": "stdout",
     "output_type": "stream",
     "text": [
      "2025-07-21 22:06:04,952 — INFO — layer 0, [2:8267], loss=-15.7426\n",
      "2025-07-21 22:06:04,952 — INFO — layer 0, [2:8267], loss=-14.7478\n"
     ]
    },
    {
     "name": "stderr",
     "output_type": "stream",
     "text": [
      "epoch 2, layer 0:  75%|█████████████████████████████████████████████████████▌                 | 8317/11016 [21:07<06:24,  7.03it/s, loss=-16.6]"
     ]
    },
    {
     "name": "stdout",
     "output_type": "stream",
     "text": [
      "2025-07-21 22:06:12,407 — INFO — layer 0, [2:8317], loss=-12.4108\n",
      "2025-07-21 22:06:12,407 — INFO — layer 0, [2:8317], loss=-11.0701\n"
     ]
    },
    {
     "name": "stderr",
     "output_type": "stream",
     "text": [
      "epoch 2, layer 0:  76%|█████████████████████████████████████████████████████▉                 | 8367/11016 [21:15<06:43,  6.57it/s, loss=-3.52]"
     ]
    },
    {
     "name": "stdout",
     "output_type": "stream",
     "text": [
      "2025-07-21 22:06:20,012 — INFO — layer 0, [2:8367], loss=-19.7201\n",
      "2025-07-21 22:06:20,012 — INFO — layer 0, [2:8367], loss=-14.6118\n"
     ]
    },
    {
     "name": "stderr",
     "output_type": "stream",
     "text": [
      "epoch 2, layer 0:  76%|██████████████████████████████████████████████████████▏                | 8417/11016 [21:22<06:46,  6.39it/s, loss=-7.82]"
     ]
    },
    {
     "name": "stdout",
     "output_type": "stream",
     "text": [
      "2025-07-21 22:06:27,484 — INFO — layer 0, [2:8417], loss=-19.2907\n",
      "2025-07-21 22:06:27,484 — INFO — layer 0, [2:8417], loss=-29.8126\n"
     ]
    },
    {
     "name": "stderr",
     "output_type": "stream",
     "text": [
      "epoch 2, layer 0:  77%|██████████████████████████████████████████████████████▌                | 8467/11016 [21:30<06:12,  6.84it/s, loss=-13.5]"
     ]
    },
    {
     "name": "stdout",
     "output_type": "stream",
     "text": [
      "2025-07-21 22:06:34,990 — INFO — layer 0, [2:8467], loss=-23.1927\n",
      "2025-07-21 22:06:34,990 — INFO — layer 0, [2:8467], loss=-13.9263\n"
     ]
    },
    {
     "name": "stderr",
     "output_type": "stream",
     "text": [
      "epoch 2, layer 0:  77%|████████████████████████████████████████████████████████▍                | 8517/11016 [21:37<06:44,  6.17it/s, loss=-15]"
     ]
    },
    {
     "name": "stdout",
     "output_type": "stream",
     "text": [
      "2025-07-21 22:06:42,879 — INFO — layer 0, [2:8517], loss=-16.9473\n",
      "2025-07-21 22:06:42,879 — INFO — layer 0, [2:8517], loss=-7.3553\n"
     ]
    },
    {
     "name": "stderr",
     "output_type": "stream",
     "text": [
      "epoch 2, layer 0:  78%|███████████████████████████████████████████████████████▏               | 8567/11016 [21:45<06:01,  6.78it/s, loss=-13.3]"
     ]
    },
    {
     "name": "stdout",
     "output_type": "stream",
     "text": [
      "2025-07-21 22:06:50,475 — INFO — layer 0, [2:8567], loss=-22.7444\n",
      "2025-07-21 22:06:50,475 — INFO — layer 0, [2:8567], loss=-8.7363\n"
     ]
    },
    {
     "name": "stderr",
     "output_type": "stream",
     "text": [
      "epoch 2, layer 0:  78%|███████████████████████████████████████████████████████▌               | 8617/11016 [21:52<05:47,  6.91it/s, loss=-10.7]"
     ]
    },
    {
     "name": "stdout",
     "output_type": "stream",
     "text": [
      "2025-07-21 22:06:57,867 — INFO — layer 0, [2:8617], loss=-20.2830\n",
      "2025-07-21 22:06:57,867 — INFO — layer 0, [2:8617], loss=-25.0591\n"
     ]
    },
    {
     "name": "stderr",
     "output_type": "stream",
     "text": [
      "epoch 2, layer 0:  79%|███████████████████████████████████████████████████████▊               | 8667/11016 [22:00<05:46,  6.78it/s, loss=-19.1]"
     ]
    },
    {
     "name": "stdout",
     "output_type": "stream",
     "text": [
      "2025-07-21 22:07:05,313 — INFO — layer 0, [2:8667], loss=-2.7906\n",
      "2025-07-21 22:07:05,313 — INFO — layer 0, [2:8667], loss=-19.6713\n"
     ]
    },
    {
     "name": "stderr",
     "output_type": "stream",
     "text": [
      "epoch 2, layer 0:  79%|████████████████████████████████████████████████████████▏              | 8717/11016 [22:08<05:50,  6.55it/s, loss=-18.8]"
     ]
    },
    {
     "name": "stdout",
     "output_type": "stream",
     "text": [
      "2025-07-21 22:07:13,029 — INFO — layer 0, [2:8717], loss=-15.7727\n",
      "2025-07-21 22:07:13,029 — INFO — layer 0, [2:8717], loss=-14.5967\n"
     ]
    },
    {
     "name": "stderr",
     "output_type": "stream",
     "text": [
      "epoch 2, layer 0:  80%|████████████████████████████████████████████████████████▌              | 8767/11016 [22:15<05:37,  6.66it/s, loss=-16.6]"
     ]
    },
    {
     "name": "stdout",
     "output_type": "stream",
     "text": [
      "2025-07-21 22:07:20,634 — INFO — layer 0, [2:8767], loss=-11.4597\n",
      "2025-07-21 22:07:20,634 — INFO — layer 0, [2:8767], loss=-5.6612\n"
     ]
    },
    {
     "name": "stderr",
     "output_type": "stream",
     "text": [
      "epoch 2, layer 0:  80%|████████████████████████████████████████████████████████▊              | 8817/11016 [22:23<05:34,  6.58it/s, loss=-8.47]"
     ]
    },
    {
     "name": "stdout",
     "output_type": "stream",
     "text": [
      "2025-07-21 22:07:28,195 — INFO — layer 0, [2:8817], loss=-11.0332\n",
      "2025-07-21 22:07:28,195 — INFO — layer 0, [2:8817], loss=-18.5053\n"
     ]
    },
    {
     "name": "stderr",
     "output_type": "stream",
     "text": [
      "epoch 2, layer 0:  80%|█████████████████████████████████████████████████████████▏             | 8867/11016 [22:30<05:40,  6.32it/s, loss=-4.26]"
     ]
    },
    {
     "name": "stdout",
     "output_type": "stream",
     "text": [
      "2025-07-21 22:07:35,674 — INFO — layer 0, [2:8867], loss=-18.7296\n",
      "2025-07-21 22:07:35,674 — INFO — layer 0, [2:8867], loss=-14.3486\n"
     ]
    },
    {
     "name": "stderr",
     "output_type": "stream",
     "text": [
      "epoch 2, layer 0:  81%|█████████████████████████████████████████████████████████▍             | 8917/11016 [22:38<05:21,  6.53it/s, loss=-13.9]"
     ]
    },
    {
     "name": "stdout",
     "output_type": "stream",
     "text": [
      "2025-07-21 22:07:43,335 — INFO — layer 0, [2:8917], loss=-13.8979\n",
      "2025-07-21 22:07:43,335 — INFO — layer 0, [2:8917], loss=-19.7260\n"
     ]
    },
    {
     "name": "stderr",
     "output_type": "stream",
     "text": [
      "epoch 2, layer 0:  81%|█████████████████████████████████████████████████████████▊             | 8967/11016 [22:46<05:12,  6.57it/s, loss=-18.8]"
     ]
    },
    {
     "name": "stdout",
     "output_type": "stream",
     "text": [
      "2025-07-21 22:07:51,137 — INFO — layer 0, [2:8967], loss=-5.7365\n",
      "2025-07-21 22:07:51,137 — INFO — layer 0, [2:8967], loss=-14.8779\n"
     ]
    },
    {
     "name": "stderr",
     "output_type": "stream",
     "text": [
      "epoch 2, layer 0:  82%|██████████████████████████████████████████████████████████             | 9017/11016 [22:53<05:06,  6.52it/s, loss=-12.4]"
     ]
    },
    {
     "name": "stdout",
     "output_type": "stream",
     "text": [
      "2025-07-21 22:07:58,743 — INFO — layer 0, [2:9017], loss=-10.9643\n",
      "2025-07-21 22:07:58,743 — INFO — layer 0, [2:9017], loss=-16.0506\n"
     ]
    },
    {
     "name": "stderr",
     "output_type": "stream",
     "text": [
      "epoch 2, layer 0:  82%|██████████████████████████████████████████████████████████▍            | 9067/11016 [23:01<05:00,  6.49it/s, loss=-11.1]"
     ]
    },
    {
     "name": "stdout",
     "output_type": "stream",
     "text": [
      "2025-07-21 22:08:06,373 — INFO — layer 0, [2:9067], loss=-18.6733\n",
      "2025-07-21 22:08:06,373 — INFO — layer 0, [2:9067], loss=-22.5377\n"
     ]
    },
    {
     "name": "stderr",
     "output_type": "stream",
     "text": [
      "epoch 2, layer 0:  83%|██████████████████████████████████████████████████████████▊            | 9117/11016 [23:09<04:45,  6.66it/s, loss=-26.5]"
     ]
    },
    {
     "name": "stdout",
     "output_type": "stream",
     "text": [
      "2025-07-21 22:08:14,071 — INFO — layer 0, [2:9117], loss=-22.0094\n"
     ]
    },
    {
     "name": "stderr",
     "output_type": "stream",
     "text": [
      "epoch 2, layer 0:  83%|████████████████████████████████████████████████████████████▍            | 9118/11016 [23:09<05:15,  6.01it/s, loss=-22]"
     ]
    },
    {
     "name": "stdout",
     "output_type": "stream",
     "text": [
      "2025-07-21 22:08:14,071 — INFO — layer 0, [2:9117], loss=-18.7413\n"
     ]
    },
    {
     "name": "stderr",
     "output_type": "stream",
     "text": [
      "epoch 2, layer 0:  83%|████████████████████████████████████████████████████████████▋            | 9167/11016 [23:17<04:50,  6.36it/s, loss=-18]"
     ]
    },
    {
     "name": "stdout",
     "output_type": "stream",
     "text": [
      "2025-07-21 22:08:22,004 — INFO — layer 0, [2:9167], loss=-17.2236\n",
      "2025-07-21 22:08:22,004 — INFO — layer 0, [2:9167], loss=-14.6673\n"
     ]
    },
    {
     "name": "stderr",
     "output_type": "stream",
     "text": [
      "epoch 2, layer 0:  84%|███████████████████████████████████████████████████████████▍           | 9217/11016 [23:24<04:38,  6.45it/s, loss=-10.5]"
     ]
    },
    {
     "name": "stdout",
     "output_type": "stream",
     "text": [
      "2025-07-21 22:08:29,641 — INFO — layer 0, [2:9217], loss=-6.2538\n",
      "2025-07-21 22:08:29,641 — INFO — layer 0, [2:9217], loss=-18.8559\n"
     ]
    },
    {
     "name": "stderr",
     "output_type": "stream",
     "text": [
      "epoch 2, layer 0:  84%|███████████████████████████████████████████████████████████▋           | 9267/11016 [23:32<04:23,  6.63it/s, loss=-10.3]"
     ]
    },
    {
     "name": "stdout",
     "output_type": "stream",
     "text": [
      "2025-07-21 22:08:37,200 — INFO — layer 0, [2:9267], loss=-26.6555\n",
      "2025-07-21 22:08:37,200 — INFO — layer 0, [2:9267], loss=-14.8075\n"
     ]
    },
    {
     "name": "stderr",
     "output_type": "stream",
     "text": [
      "epoch 2, layer 0:  85%|████████████████████████████████████████████████████████████           | 9317/11016 [23:39<04:25,  6.39it/s, loss=-4.35]"
     ]
    },
    {
     "name": "stdout",
     "output_type": "stream",
     "text": [
      "2025-07-21 22:08:44,843 — INFO — layer 0, [2:9317], loss=-12.1322\n",
      "2025-07-21 22:08:44,843 — INFO — layer 0, [2:9317], loss=-17.0614\n"
     ]
    },
    {
     "name": "stderr",
     "output_type": "stream",
     "text": [
      "epoch 2, layer 0:  85%|████████████████████████████████████████████████████████████▎          | 9367/11016 [23:47<04:18,  6.38it/s, loss=-15.1]"
     ]
    },
    {
     "name": "stdout",
     "output_type": "stream",
     "text": [
      "2025-07-21 22:08:52,407 — INFO — layer 0, [2:9367], loss=-17.5975\n",
      "2025-07-21 22:08:52,407 — INFO — layer 0, [2:9367], loss=-12.1184\n"
     ]
    },
    {
     "name": "stderr",
     "output_type": "stream",
     "text": [
      "epoch 2, layer 0:  85%|████████████████████████████████████████████████████████████▋          | 9417/11016 [23:55<03:52,  6.88it/s, loss=-11.7]"
     ]
    },
    {
     "name": "stdout",
     "output_type": "stream",
     "text": [
      "2025-07-21 22:09:00,023 — INFO — layer 0, [2:9417], loss=-14.3501\n",
      "2025-07-21 22:09:00,023 — INFO — layer 0, [2:9417], loss=-5.8698\n"
     ]
    },
    {
     "name": "stderr",
     "output_type": "stream",
     "text": [
      "epoch 2, layer 0:  86%|█████████████████████████████████████████████████████████████          | 9467/11016 [24:02<04:08,  6.23it/s, loss=-10.1]"
     ]
    },
    {
     "name": "stdout",
     "output_type": "stream",
     "text": [
      "2025-07-21 22:09:07,721 — INFO — layer 0, [2:9467], loss=-11.6783\n",
      "2025-07-21 22:09:07,721 — INFO — layer 0, [2:9467], loss=-14.6322\n"
     ]
    },
    {
     "name": "stderr",
     "output_type": "stream",
     "text": [
      "epoch 2, layer 0:  86%|██████████████████████████████████████████████████████████████▏         | 9517/11016 [24:10<03:48,  6.55it/s, loss=-7.8]"
     ]
    },
    {
     "name": "stdout",
     "output_type": "stream",
     "text": [
      "2025-07-21 22:09:15,313 — INFO — layer 0, [2:9517], loss=-19.9893\n",
      "2025-07-21 22:09:15,313 — INFO — layer 0, [2:9517], loss=-7.6568\n"
     ]
    },
    {
     "name": "stderr",
     "output_type": "stream",
     "text": [
      "epoch 2, layer 0:  87%|█████████████████████████████████████████████████████████████▋         | 9567/11016 [24:17<03:47,  6.37it/s, loss=-4.33]"
     ]
    },
    {
     "name": "stdout",
     "output_type": "stream",
     "text": [
      "2025-07-21 22:09:22,963 — INFO — layer 0, [2:9567], loss=-17.2701\n",
      "2025-07-21 22:09:22,963 — INFO — layer 0, [2:9567], loss=-22.3252\n"
     ]
    },
    {
     "name": "stderr",
     "output_type": "stream",
     "text": [
      "epoch 2, layer 0:  87%|█████████████████████████████████████████████████████████████▉         | 9617/11016 [24:25<03:28,  6.70it/s, loss=-15.6]"
     ]
    },
    {
     "name": "stdout",
     "output_type": "stream",
     "text": [
      "2025-07-21 22:09:30,525 — INFO — layer 0, [2:9617], loss=-6.3503\n",
      "2025-07-21 22:09:30,525 — INFO — layer 0, [2:9617], loss=-22.7785\n"
     ]
    },
    {
     "name": "stderr",
     "output_type": "stream",
     "text": [
      "epoch 2, layer 0:  88%|██████████████████████████████████████████████████████████████▎        | 9667/11016 [24:33<03:19,  6.76it/s, loss=-23.2]"
     ]
    },
    {
     "name": "stdout",
     "output_type": "stream",
     "text": [
      "2025-07-21 22:09:38,184 — INFO — layer 0, [2:9667], loss=-15.4044\n",
      "2025-07-21 22:09:38,184 — INFO — layer 0, [2:9667], loss=-25.4536\n"
     ]
    },
    {
     "name": "stderr",
     "output_type": "stream",
     "text": [
      "epoch 2, layer 0:  88%|██████████████████████████████████████████████████████████████▋        | 9717/11016 [24:41<03:20,  6.47it/s, loss=-14.2]"
     ]
    },
    {
     "name": "stdout",
     "output_type": "stream",
     "text": [
      "2025-07-21 22:09:46,054 — INFO — layer 0, [2:9717], loss=-10.4091\n",
      "2025-07-21 22:09:46,054 — INFO — layer 0, [2:9717], loss=-21.7903\n"
     ]
    },
    {
     "name": "stderr",
     "output_type": "stream",
     "text": [
      "epoch 2, layer 0:  89%|██████████████████████████████████████████████████████████████▉        | 9767/11016 [24:48<03:04,  6.76it/s, loss=-6.52]"
     ]
    },
    {
     "name": "stdout",
     "output_type": "stream",
     "text": [
      "2025-07-21 22:09:53,421 — INFO — layer 0, [2:9767], loss=-10.6986\n",
      "2025-07-21 22:09:53,421 — INFO — layer 0, [2:9767], loss=-15.4436\n"
     ]
    },
    {
     "name": "stderr",
     "output_type": "stream",
     "text": [
      "epoch 2, layer 0:  89%|███████████████████████████████████████████████████████████████▎       | 9817/11016 [24:56<03:00,  6.63it/s, loss=-14.9]"
     ]
    },
    {
     "name": "stdout",
     "output_type": "stream",
     "text": [
      "2025-07-21 22:10:00,955 — INFO — layer 0, [2:9817], loss=-5.6302\n",
      "2025-07-21 22:10:00,955 — INFO — layer 0, [2:9817], loss=-10.4878\n"
     ]
    },
    {
     "name": "stderr",
     "output_type": "stream",
     "text": [
      "epoch 2, layer 0:  90%|███████████████████████████████████████████████████████████████▌       | 9867/11016 [25:03<02:58,  6.45it/s, loss=-22.9]"
     ]
    },
    {
     "name": "stdout",
     "output_type": "stream",
     "text": [
      "2025-07-21 22:10:08,451 — INFO — layer 0, [2:9867], loss=-23.6637\n",
      "2025-07-21 22:10:08,451 — INFO — layer 0, [2:9867], loss=-14.0260\n"
     ]
    },
    {
     "name": "stderr",
     "output_type": "stream",
     "text": [
      "epoch 2, layer 0:  90%|███████████████████████████████████████████████████████████████▉       | 9917/11016 [25:11<02:44,  6.68it/s, loss=-21.3]"
     ]
    },
    {
     "name": "stdout",
     "output_type": "stream",
     "text": [
      "2025-07-21 22:10:16,062 — INFO — layer 0, [2:9917], loss=-9.3407\n",
      "2025-07-21 22:10:16,062 — INFO — layer 0, [2:9917], loss=-4.3218\n"
     ]
    },
    {
     "name": "stderr",
     "output_type": "stream",
     "text": [
      "epoch 2, layer 0:  90%|████████████████████████████████████████████████████████████████▏      | 9967/11016 [25:18<02:32,  6.87it/s, loss=-12.2]"
     ]
    },
    {
     "name": "stdout",
     "output_type": "stream",
     "text": [
      "2025-07-21 22:10:23,894 — INFO — layer 0, [2:9967], loss=-22.4771\n",
      "2025-07-21 22:10:23,894 — INFO — layer 0, [2:9967], loss=-11.3067\n"
     ]
    },
    {
     "name": "stderr",
     "output_type": "stream",
     "text": [
      "epoch 2, layer 0:  91%|███████████████████████████████████████████████████████████████▋      | 10017/11016 [25:26<02:33,  6.52it/s, loss=-23.7]"
     ]
    },
    {
     "name": "stdout",
     "output_type": "stream",
     "text": [
      "2025-07-21 22:10:31,648 — INFO — layer 0, [2:10017], loss=-14.6489\n",
      "2025-07-21 22:10:31,648 — INFO — layer 0, [2:10017], loss=-18.4891\n"
     ]
    },
    {
     "name": "stderr",
     "output_type": "stream",
     "text": [
      "epoch 2, layer 0:  91%|███████████████████████████████████████████████████████████████▉      | 10067/11016 [25:34<02:19,  6.81it/s, loss=-9.95]"
     ]
    },
    {
     "name": "stdout",
     "output_type": "stream",
     "text": [
      "2025-07-21 22:10:39,120 — INFO — layer 0, [2:10067], loss=-11.1587\n",
      "2025-07-21 22:10:39,120 — INFO — layer 0, [2:10067], loss=-16.3870\n"
     ]
    },
    {
     "name": "stderr",
     "output_type": "stream",
     "text": [
      "epoch 2, layer 0:  92%|████████████████████████████████████████████████████████████████▎     | 10117/11016 [25:41<02:11,  6.81it/s, loss=-13.3]"
     ]
    },
    {
     "name": "stdout",
     "output_type": "stream",
     "text": [
      "2025-07-21 22:10:46,745 — INFO — layer 0, [2:10117], loss=-15.0584\n",
      "2025-07-21 22:10:46,746 — INFO — layer 0, [2:10117], loss=-4.2880\n"
     ]
    },
    {
     "name": "stderr",
     "output_type": "stream",
     "text": [
      "epoch 2, layer 0:  92%|████████████████████████████████████████████████████████████████▌     | 10167/11016 [25:49<02:13,  6.34it/s, loss=-10.8]"
     ]
    },
    {
     "name": "stdout",
     "output_type": "stream",
     "text": [
      "2025-07-21 22:10:54,354 — INFO — layer 0, [2:10167], loss=-19.8363\n",
      "2025-07-21 22:10:54,354 — INFO — layer 0, [2:10167], loss=-25.0334\n"
     ]
    },
    {
     "name": "stderr",
     "output_type": "stream",
     "text": [
      "epoch 2, layer 0:  93%|████████████████████████████████████████████████████████████████▉     | 10217/11016 [25:57<01:58,  6.72it/s, loss=-11.4]"
     ]
    },
    {
     "name": "stdout",
     "output_type": "stream",
     "text": [
      "2025-07-21 22:11:01,987 — INFO — layer 0, [2:10217], loss=-3.7585\n",
      "2025-07-21 22:11:01,987 — INFO — layer 0, [2:10217], loss=-11.3411\n"
     ]
    },
    {
     "name": "stderr",
     "output_type": "stream",
     "text": [
      "epoch 2, layer 0:  93%|█████████████████████████████████████████████████████████████████▏    | 10267/11016 [26:04<01:47,  6.97it/s, loss=-8.15]"
     ]
    },
    {
     "name": "stdout",
     "output_type": "stream",
     "text": [
      "2025-07-21 22:11:09,502 — INFO — layer 0, [2:10267], loss=-13.3275\n",
      "2025-07-21 22:11:09,502 — INFO — layer 0, [2:10267], loss=-14.1255\n"
     ]
    },
    {
     "name": "stderr",
     "output_type": "stream",
     "text": [
      "epoch 2, layer 0:  94%|█████████████████████████████████████████████████████████████████▌    | 10317/11016 [26:12<01:43,  6.78it/s, loss=-12.6]"
     ]
    },
    {
     "name": "stdout",
     "output_type": "stream",
     "text": [
      "2025-07-21 22:11:17,012 — INFO — layer 0, [2:10317], loss=-2.4472\n",
      "2025-07-21 22:11:17,012 — INFO — layer 0, [2:10317], loss=-14.3127\n"
     ]
    },
    {
     "name": "stderr",
     "output_type": "stream",
     "text": [
      "epoch 2, layer 0:  94%|█████████████████████████████████████████████████████████████████▉    | 10367/11016 [26:19<01:36,  6.73it/s, loss=-4.39]"
     ]
    },
    {
     "name": "stdout",
     "output_type": "stream",
     "text": [
      "2025-07-21 22:11:24,636 — INFO — layer 0, [2:10367], loss=-10.8267\n",
      "2025-07-21 22:11:24,636 — INFO — layer 0, [2:10367], loss=-22.6557\n"
     ]
    },
    {
     "name": "stderr",
     "output_type": "stream",
     "text": [
      "epoch 2, layer 0:  95%|██████████████████████████████████████████████████████████████████▏   | 10417/11016 [26:27<01:27,  6.83it/s, loss=-24.9]"
     ]
    },
    {
     "name": "stdout",
     "output_type": "stream",
     "text": [
      "2025-07-21 22:11:32,135 — INFO — layer 0, [2:10417], loss=-13.7225\n",
      "2025-07-21 22:11:32,135 — INFO — layer 0, [2:10417], loss=-6.8031\n"
     ]
    },
    {
     "name": "stderr",
     "output_type": "stream",
     "text": [
      "epoch 2, layer 0:  95%|██████████████████████████████████████████████████████████████████▌   | 10467/11016 [26:34<01:24,  6.46it/s, loss=-26.1]"
     ]
    },
    {
     "name": "stdout",
     "output_type": "stream",
     "text": [
      "2025-07-21 22:11:39,867 — INFO — layer 0, [2:10467], loss=-29.7311\n",
      "2025-07-21 22:11:39,867 — INFO — layer 0, [2:10467], loss=-17.2510\n"
     ]
    },
    {
     "name": "stderr",
     "output_type": "stream",
     "text": [
      "epoch 2, layer 0:  95%|██████████████████████████████████████████████████████████████████▊   | 10517/11016 [26:42<01:13,  6.76it/s, loss=-11.5]"
     ]
    },
    {
     "name": "stdout",
     "output_type": "stream",
     "text": [
      "2025-07-21 22:11:47,598 — INFO — layer 0, [2:10517], loss=-11.5734\n",
      "2025-07-21 22:11:47,598 — INFO — layer 0, [2:10517], loss=-21.8053\n"
     ]
    },
    {
     "name": "stderr",
     "output_type": "stream",
     "text": [
      "epoch 2, layer 0:  96%|███████████████████████████████████████████████████████████████████▏  | 10567/11016 [26:50<01:11,  6.25it/s, loss=-6.38]"
     ]
    },
    {
     "name": "stdout",
     "output_type": "stream",
     "text": [
      "2025-07-21 22:11:55,313 — INFO — layer 0, [2:10567], loss=-14.1880\n",
      "2025-07-21 22:11:55,313 — INFO — layer 0, [2:10567], loss=-24.0487\n"
     ]
    },
    {
     "name": "stderr",
     "output_type": "stream",
     "text": [
      "epoch 2, layer 0:  96%|███████████████████████████████████████████████████████████████████▍  | 10617/11016 [26:57<00:57,  6.93it/s, loss=-14.7]"
     ]
    },
    {
     "name": "stdout",
     "output_type": "stream",
     "text": [
      "2025-07-21 22:12:02,791 — INFO — layer 0, [2:10617], loss=-6.1857\n",
      "2025-07-21 22:12:02,791 — INFO — layer 0, [2:10617], loss=-26.1939\n"
     ]
    },
    {
     "name": "stderr",
     "output_type": "stream",
     "text": [
      "epoch 2, layer 0:  97%|███████████████████████████████████████████████████████████████████▊  | 10667/11016 [27:05<00:51,  6.79it/s, loss=-22.6]"
     ]
    },
    {
     "name": "stdout",
     "output_type": "stream",
     "text": [
      "2025-07-21 22:12:10,252 — INFO — layer 0, [2:10667], loss=-8.0523\n",
      "2025-07-21 22:12:10,252 — INFO — layer 0, [2:10667], loss=-13.0301\n"
     ]
    },
    {
     "name": "stderr",
     "output_type": "stream",
     "text": [
      "epoch 2, layer 0:  97%|████████████████████████████████████████████████████████████████████  | 10717/11016 [27:12<00:45,  6.56it/s, loss=-2.51]"
     ]
    },
    {
     "name": "stdout",
     "output_type": "stream",
     "text": [
      "2025-07-21 22:12:17,883 — INFO — layer 0, [2:10717], loss=-13.5245\n",
      "2025-07-21 22:12:17,883 — INFO — layer 0, [2:10717], loss=-14.5888\n"
     ]
    },
    {
     "name": "stderr",
     "output_type": "stream",
     "text": [
      "epoch 2, layer 0:  98%|████████████████████████████████████████████████████████████████████▍ | 10767/11016 [27:20<00:36,  6.75it/s, loss=-8.26]"
     ]
    },
    {
     "name": "stdout",
     "output_type": "stream",
     "text": [
      "2025-07-21 22:12:25,491 — INFO — layer 0, [2:10767], loss=-15.8835\n",
      "2025-07-21 22:12:25,491 — INFO — layer 0, [2:10767], loss=-22.5683\n"
     ]
    },
    {
     "name": "stderr",
     "output_type": "stream",
     "text": [
      "epoch 2, layer 0:  98%|████████████████████████████████████████████████████████████████████▋ | 10817/11016 [27:28<00:27,  7.14it/s, loss=-17.2]"
     ]
    },
    {
     "name": "stdout",
     "output_type": "stream",
     "text": [
      "2025-07-21 22:12:33,139 — INFO — layer 0, [2:10817], loss=-4.4226\n",
      "2025-07-21 22:12:33,139 — INFO — layer 0, [2:10817], loss=-20.2020\n"
     ]
    },
    {
     "name": "stderr",
     "output_type": "stream",
     "text": [
      "epoch 2, layer 0:  99%|███████████████████████████████████████████████████████████████████████ | 10867/11016 [27:35<00:22,  6.55it/s, loss=-12]"
     ]
    },
    {
     "name": "stdout",
     "output_type": "stream",
     "text": [
      "2025-07-21 22:12:40,643 — INFO — layer 0, [2:10867], loss=-18.8873\n",
      "2025-07-21 22:12:40,643 — INFO — layer 0, [2:10867], loss=-15.1437\n"
     ]
    },
    {
     "name": "stderr",
     "output_type": "stream",
     "text": [
      "epoch 2, layer 0:  99%|█████████████████████████████████████████████████████████████████████▎| 10917/11016 [27:43<00:15,  6.35it/s, loss=-7.78]"
     ]
    },
    {
     "name": "stdout",
     "output_type": "stream",
     "text": [
      "2025-07-21 22:12:48,249 — INFO — layer 0, [2:10917], loss=-21.5967\n",
      "2025-07-21 22:12:48,249 — INFO — layer 0, [2:10917], loss=-7.8243\n"
     ]
    },
    {
     "name": "stderr",
     "output_type": "stream",
     "text": [
      "epoch 2, layer 0: 100%|█████████████████████████████████████████████████████████████████████▋| 10967/11016 [27:51<00:07,  6.77it/s, loss=-13.7]"
     ]
    },
    {
     "name": "stdout",
     "output_type": "stream",
     "text": [
      "2025-07-21 22:12:56,000 — INFO — layer 0, [2:10967], loss=-11.1292\n",
      "2025-07-21 22:12:56,000 — INFO — layer 0, [2:10967], loss=-23.4974\n"
     ]
    },
    {
     "name": "stderr",
     "output_type": "stream",
     "text": [
      "                                                                                                                                               \r"
     ]
    },
    {
     "name": "stdout",
     "output_type": "stream",
     "text": [
      "2025-07-21 22:13:03,412 — INFO — Training decomposer for layer 1\n",
      "2025-07-21 22:13:03,503 — INFO — Checkpoint for layer 0 saved to checkpoints/decomposer_simple/decomposer_layer0_20250721_204859_8666ba39-8c81-4293-8a3f-714efcc5f6f9\n",
      "2025-07-21 22:13:03,505 — INFO — Training decomposer for layer 1\n"
     ]
    },
    {
     "name": "stderr",
     "output_type": "stream",
     "text": [
      "epoch 0, layer 1:   0%|                                                                                              | 0/11016 [00:00<?, ?it/s]huggingface/tokenizers: The current process just got forked, after parallelism has already been used. Disabling parallelism to avoid deadlocks...\n",
      "To disable this warning, you can either:\n",
      "\t- Avoid using `tokenizers` before the fork if possible\n",
      "\t- Explicitly set the environment variable TOKENIZERS_PARALLELISM=(true | false)\n",
      "huggingface/tokenizers: The current process just got forked, after parallelism has already been used. Disabling parallelism to avoid deadlocks...\n",
      "To disable this warning, you can either:\n",
      "\t- Avoid using `tokenizers` before the fork if possible\n",
      "\t- Explicitly set the environment variable TOKENIZERS_PARALLELISM=(true | false)\n",
      "huggingface/tokenizers: The current process just got forked, after parallelism has already been used. Disabling parallelism to avoid deadlocks...\n",
      "To disable this warning, you can either:\n",
      "\t- Avoid using `tokenizers` before the fork if possible\n",
      "\t- Explicitly set the environment variable TOKENIZERS_PARALLELISM=(true | false)\n",
      "huggingface/tokenizers: The current process just got forked, after parallelism has already been used. Disabling parallelism to avoid deadlocks...\n",
      "To disable this warning, you can either:\n",
      "\t- Avoid using `tokenizers` before the fork if possible\n",
      "\t- Explicitly set the environment variable TOKENIZERS_PARALLELISM=(true | false)\n",
      "huggingface/tokenizers: The current process just got forked, after parallelism has already been used. Disabling parallelism to avoid deadlocks...\n",
      "To disable this warning, you can either:\n",
      "\t- Avoid using `tokenizers` before the fork if possible\n",
      "\t- Explicitly set the environment variable TOKENIZERS_PARALLELISM=(true | false)\n",
      "huggingface/tokenizers: The current process just got forked, after parallelism has already been used. Disabling parallelism to avoid deadlocks...\n",
      "To disable this warning, you can either:\n",
      "\t- Avoid using `tokenizers` before the fork if possible\n",
      "\t- Explicitly set the environment variable TOKENIZERS_PARALLELISM=(true | false)\n",
      "huggingface/tokenizers: The current process just got forked, after parallelism has already been used. Disabling parallelism to avoid deadlocks...\n",
      "To disable this warning, you can either:\n",
      "\t- Avoid using `tokenizers` before the fork if possible\n",
      "\t- Explicitly set the environment variable TOKENIZERS_PARALLELISM=(true | false)\n",
      "huggingface/tokenizers: The current process just got forked, after parallelism has already been used. Disabling parallelism to avoid deadlocks...\n",
      "To disable this warning, you can either:\n",
      "\t- Avoid using `tokenizers` before the fork if possible\n",
      "\t- Explicitly set the environment variable TOKENIZERS_PARALLELISM=(true | false)\n",
      "huggingface/tokenizers: The current process just got forked, after parallelism has already been used. Disabling parallelism to avoid deadlocks...\n",
      "To disable this warning, you can either:\n",
      "\t- Avoid using `tokenizers` before the fork if possible\n",
      "\t- Explicitly set the environment variable TOKENIZERS_PARALLELISM=(true | false)\n",
      "huggingface/tokenizers: The current process just got forked, after parallelism has already been used. Disabling parallelism to avoid deadlocks...\n",
      "To disable this warning, you can either:\n",
      "\t- Avoid using `tokenizers` before the fork if possible\n",
      "\t- Explicitly set the environment variable TOKENIZERS_PARALLELISM=(true | false)\n",
      "huggingface/tokenizers: The current process just got forked, after parallelism has already been used. Disabling parallelism to avoid deadlocks...\n",
      "To disable this warning, you can either:\n",
      "\t- Avoid using `tokenizers` before the fork if possible\n",
      "\t- Explicitly set the environment variable TOKENIZERS_PARALLELISM=(true | false)\n",
      "huggingface/tokenizers: The current process just got forked, after parallelism has already been used. Disabling parallelism to avoid deadlocks...\n",
      "To disable this warning, you can either:\n",
      "\t- Avoid using `tokenizers` before the fork if possible\n",
      "\t- Explicitly set the environment variable TOKENIZERS_PARALLELISM=(true | false)\n",
      "huggingface/tokenizers: The current process just got forked, after parallelism has already been used. Disabling parallelism to avoid deadlocks...\n",
      "To disable this warning, you can either:\n",
      "\t- Avoid using `tokenizers` before the fork if possible\n",
      "\t- Explicitly set the environment variable TOKENIZERS_PARALLELISM=(true | false)\n",
      "huggingface/tokenizers: The current process just got forked, after parallelism has already been used. Disabling parallelism to avoid deadlocks...\n",
      "To disable this warning, you can either:\n",
      "\t- Avoid using `tokenizers` before the fork if possible\n",
      "\t- Explicitly set the environment variable TOKENIZERS_PARALLELISM=(true | false)\n",
      "epoch 0, layer 1:   0%|                                                                                   | 0/11016 [00:00<?, ?it/s, loss=21.8]huggingface/tokenizers: The current process just got forked, after parallelism has already been used. Disabling parallelism to avoid deadlocks...\n",
      "To disable this warning, you can either:\n",
      "\t- Avoid using `tokenizers` before the fork if possible\n",
      "\t- Explicitly set the environment variable TOKENIZERS_PARALLELISM=(true | false)\n",
      "huggingface/tokenizers: The current process just got forked, after parallelism has already been used. Disabling parallelism to avoid deadlocks...\n",
      "To disable this warning, you can either:\n",
      "\t- Avoid using `tokenizers` before the fork if possible\n",
      "\t- Explicitly set the environment variable TOKENIZERS_PARALLELISM=(true | false)\n",
      "epoch 0, layer 1:   0%|▎                                                                         | 49/11016 [00:07<29:26,  6.21it/s, loss=18.7]"
     ]
    },
    {
     "name": "stdout",
     "output_type": "stream",
     "text": [
      "2025-07-21 22:13:11,516 — INFO — layer 1, [0:49], loss=18.7416\n",
      "2025-07-21 22:13:11,516 — INFO — layer 1, [0:49], loss=18.1663\n"
     ]
    },
    {
     "name": "stderr",
     "output_type": "stream",
     "text": [
      "epoch 0, layer 1:   1%|▋                                                                         | 99/11016 [00:15<28:18,  6.43it/s, loss=17.6]"
     ]
    },
    {
     "name": "stdout",
     "output_type": "stream",
     "text": [
      "2025-07-21 22:13:19,193 — INFO — layer 1, [0:99], loss=15.7219\n",
      "2025-07-21 22:13:19,193 — INFO — layer 1, [0:99], loss=15.7000\n"
     ]
    },
    {
     "name": "stderr",
     "output_type": "stream",
     "text": [
      "epoch 0, layer 1:   1%|▉                                                                        | 149/11016 [00:23<30:31,  5.93it/s, loss=16.4]"
     ]
    },
    {
     "name": "stdout",
     "output_type": "stream",
     "text": [
      "2025-07-21 22:13:26,936 — INFO — layer 1, [0:149], loss=12.7501\n",
      "2025-07-21 22:13:26,936 — INFO — layer 1, [0:149], loss=12.2752\n"
     ]
    },
    {
     "name": "stderr",
     "output_type": "stream",
     "text": [
      "epoch 0, layer 1:   2%|█▎                                                                        | 199/11016 [00:30<26:51,  6.71it/s, loss=5.7]"
     ]
    },
    {
     "name": "stdout",
     "output_type": "stream",
     "text": [
      "2025-07-21 22:13:34,592 — INFO — layer 1, [0:199], loss=14.6453\n",
      "2025-07-21 22:13:34,592 — INFO — layer 1, [0:199], loss=11.4866\n"
     ]
    },
    {
     "name": "stderr",
     "output_type": "stream",
     "text": [
      "epoch 0, layer 1:   2%|█▋                                                                       | 249/11016 [00:38<27:10,  6.60it/s, loss=13.4]"
     ]
    },
    {
     "name": "stdout",
     "output_type": "stream",
     "text": [
      "2025-07-21 22:13:42,261 — INFO — layer 1, [0:249], loss=9.5743\n",
      "2025-07-21 22:13:42,261 — INFO — layer 1, [0:249], loss=9.3018\n"
     ]
    },
    {
     "name": "stderr",
     "output_type": "stream",
     "text": [
      "epoch 0, layer 1:   3%|█▉                                                                       | 299/11016 [00:46<28:03,  6.37it/s, loss=11.3]"
     ]
    },
    {
     "name": "stdout",
     "output_type": "stream",
     "text": [
      "2025-07-21 22:13:49,909 — INFO — layer 1, [0:299], loss=9.7705\n",
      "2025-07-21 22:13:49,909 — INFO — layer 1, [0:299], loss=10.5445\n"
     ]
    },
    {
     "name": "stderr",
     "output_type": "stream",
     "text": [
      "epoch 0, layer 1:   3%|██▎                                                                       | 349/11016 [00:53<26:11,  6.79it/s, loss=5.9]"
     ]
    },
    {
     "name": "stdout",
     "output_type": "stream",
     "text": [
      "2025-07-21 22:13:57,516 — INFO — layer 1, [0:349], loss=8.8799\n",
      "2025-07-21 22:13:57,516 — INFO — layer 1, [0:349], loss=8.9292\n"
     ]
    },
    {
     "name": "stderr",
     "output_type": "stream",
     "text": [
      "epoch 0, layer 1:   4%|██▋                                                                      | 399/11016 [01:01<27:16,  6.49it/s, loss=10.3]"
     ]
    },
    {
     "name": "stdout",
     "output_type": "stream",
     "text": [
      "2025-07-21 22:14:05,133 — INFO — layer 1, [0:399], loss=11.1546\n",
      "2025-07-21 22:14:05,133 — INFO — layer 1, [0:399], loss=11.5997\n"
     ]
    },
    {
     "name": "stderr",
     "output_type": "stream",
     "text": [
      "epoch 0, layer 1:   4%|██▉                                                                      | 449/11016 [01:08<27:10,  6.48it/s, loss=4.12]"
     ]
    },
    {
     "name": "stdout",
     "output_type": "stream",
     "text": [
      "2025-07-21 22:14:12,606 — INFO — layer 1, [0:449], loss=10.8159\n",
      "2025-07-21 22:14:12,606 — INFO — layer 1, [0:449], loss=13.6250\n"
     ]
    },
    {
     "name": "stderr",
     "output_type": "stream",
     "text": [
      "epoch 0, layer 1:   5%|███▎                                                                     | 499/11016 [01:16<25:33,  6.86it/s, loss=12.6]"
     ]
    },
    {
     "name": "stdout",
     "output_type": "stream",
     "text": [
      "2025-07-21 22:14:20,245 — INFO — layer 1, [0:499], loss=11.2569\n",
      "2025-07-21 22:14:20,245 — INFO — layer 1, [0:499], loss=11.2028\n"
     ]
    },
    {
     "name": "stderr",
     "output_type": "stream",
     "text": [
      "epoch 0, layer 1:   5%|███▋                                                                     | 549/11016 [01:24<27:50,  6.27it/s, loss=6.33]"
     ]
    },
    {
     "name": "stdout",
     "output_type": "stream",
     "text": [
      "2025-07-21 22:14:28,043 — INFO — layer 1, [0:549], loss=7.3370\n",
      "2025-07-21 22:14:28,043 — INFO — layer 1, [0:549], loss=1.6059\n"
     ]
    },
    {
     "name": "stderr",
     "output_type": "stream",
     "text": [
      "epoch 0, layer 1:   5%|███▉                                                                     | 599/11016 [01:31<26:25,  6.57it/s, loss=6.05]"
     ]
    },
    {
     "name": "stdout",
     "output_type": "stream",
     "text": [
      "2025-07-21 22:14:35,596 — INFO — layer 1, [0:599], loss=8.1427\n",
      "2025-07-21 22:14:35,596 — INFO — layer 1, [0:599], loss=8.4082\n"
     ]
    },
    {
     "name": "stderr",
     "output_type": "stream",
     "text": [
      "epoch 0, layer 1:   6%|████▎                                                                    | 649/11016 [01:39<25:57,  6.65it/s, loss=7.37]"
     ]
    },
    {
     "name": "stdout",
     "output_type": "stream",
     "text": [
      "2025-07-21 22:14:43,245 — INFO — layer 1, [0:649], loss=12.9186\n",
      "2025-07-21 22:14:43,245 — INFO — layer 1, [0:649], loss=10.4060\n"
     ]
    },
    {
     "name": "stderr",
     "output_type": "stream",
     "text": [
      "epoch 0, layer 1:   6%|████▊                                                                      | 699/11016 [01:47<25:38,  6.71it/s, loss=12]"
     ]
    },
    {
     "name": "stdout",
     "output_type": "stream",
     "text": [
      "2025-07-21 22:14:50,859 — INFO — layer 1, [0:699], loss=5.4449\n",
      "2025-07-21 22:14:50,859 — INFO — layer 1, [0:699], loss=11.2544\n"
     ]
    },
    {
     "name": "stderr",
     "output_type": "stream",
     "text": [
      "epoch 0, layer 1:   7%|█████                                                                      | 749/11016 [01:54<28:43,  5.96it/s, loss=12]"
     ]
    },
    {
     "name": "stdout",
     "output_type": "stream",
     "text": [
      "2025-07-21 22:14:58,576 — INFO — layer 1, [0:749], loss=10.9179\n",
      "2025-07-21 22:14:58,576 — INFO — layer 1, [0:749], loss=11.3974\n"
     ]
    },
    {
     "name": "stderr",
     "output_type": "stream",
     "text": [
      "epoch 0, layer 1:   7%|█████▎                                                                   | 799/11016 [02:02<27:15,  6.25it/s, loss=4.52]"
     ]
    },
    {
     "name": "stdout",
     "output_type": "stream",
     "text": [
      "2025-07-21 22:15:06,138 — INFO — layer 1, [0:799], loss=7.7350\n",
      "2025-07-21 22:15:06,138 — INFO — layer 1, [0:799], loss=11.6587\n"
     ]
    },
    {
     "name": "stderr",
     "output_type": "stream",
     "text": [
      "epoch 0, layer 1:   8%|█████▋                                                                   | 849/11016 [02:09<26:08,  6.48it/s, loss=4.08]"
     ]
    },
    {
     "name": "stdout",
     "output_type": "stream",
     "text": [
      "2025-07-21 22:15:13,766 — INFO — layer 1, [0:849], loss=5.1289\n",
      "2025-07-21 22:15:13,766 — INFO — layer 1, [0:849], loss=3.9130\n"
     ]
    },
    {
     "name": "stderr",
     "output_type": "stream",
     "text": [
      "epoch 0, layer 1:   8%|█████▉                                                                   | 899/11016 [02:17<25:55,  6.50it/s, loss=1.84]"
     ]
    },
    {
     "name": "stdout",
     "output_type": "stream",
     "text": [
      "2025-07-21 22:15:21,413 — INFO — layer 1, [0:899], loss=4.8285\n",
      "2025-07-21 22:15:21,413 — INFO — layer 1, [0:899], loss=1.1724\n"
     ]
    },
    {
     "name": "stderr",
     "output_type": "stream",
     "text": [
      "epoch 0, layer 1:   9%|██████▎                                                                  | 949/11016 [02:25<26:32,  6.32it/s, loss=10.9]"
     ]
    },
    {
     "name": "stdout",
     "output_type": "stream",
     "text": [
      "2025-07-21 22:15:29,037 — INFO — layer 1, [0:949], loss=9.8209\n",
      "2025-07-21 22:15:29,037 — INFO — layer 1, [0:949], loss=6.4557\n"
     ]
    },
    {
     "name": "stderr",
     "output_type": "stream",
     "text": [
      "epoch 0, layer 1:   9%|██████▌                                                                  | 999/11016 [02:32<26:05,  6.40it/s, loss=1.47]"
     ]
    },
    {
     "name": "stdout",
     "output_type": "stream",
     "text": [
      "2025-07-21 22:15:36,759 — INFO — layer 1, [0:999], loss=2.1704\n",
      "2025-07-21 22:15:36,759 — INFO — layer 1, [0:999], loss=9.9508\n"
     ]
    },
    {
     "name": "stderr",
     "output_type": "stream",
     "text": [
      "epoch 0, layer 1:  10%|██████▉                                                                  | 1049/11016 [02:40<25:38,  6.48it/s, loss=9.2]"
     ]
    },
    {
     "name": "stdout",
     "output_type": "stream",
     "text": [
      "2025-07-21 22:15:44,306 — INFO — layer 1, [0:1049], loss=6.4471\n",
      "2025-07-21 22:15:44,306 — INFO — layer 1, [0:1049], loss=5.9985\n"
     ]
    },
    {
     "name": "stderr",
     "output_type": "stream",
     "text": [
      "epoch 0, layer 1:  10%|███████▏                                                                | 1099/11016 [02:48<25:21,  6.52it/s, loss=8.21]"
     ]
    },
    {
     "name": "stdout",
     "output_type": "stream",
     "text": [
      "2025-07-21 22:15:51,853 — INFO — layer 1, [0:1099], loss=7.8003\n",
      "2025-07-21 22:15:51,853 — INFO — layer 1, [0:1099], loss=9.6364\n"
     ]
    },
    {
     "name": "stderr",
     "output_type": "stream",
     "text": [
      "epoch 0, layer 1:  10%|███████▌                                                                | 1149/11016 [02:55<24:38,  6.68it/s, loss=3.06]"
     ]
    },
    {
     "name": "stdout",
     "output_type": "stream",
     "text": [
      "2025-07-21 22:15:59,723 — INFO — layer 1, [0:1149], loss=-2.2660\n",
      "2025-07-21 22:15:59,723 — INFO — layer 1, [0:1149], loss=9.3637\n"
     ]
    },
    {
     "name": "stderr",
     "output_type": "stream",
     "text": [
      "epoch 0, layer 1:  11%|███████▊                                                                | 1199/11016 [03:03<25:54,  6.31it/s, loss=7.86]"
     ]
    },
    {
     "name": "stdout",
     "output_type": "stream",
     "text": [
      "2025-07-21 22:16:07,456 — INFO — layer 1, [0:1199], loss=5.2560\n",
      "2025-07-21 22:16:07,456 — INFO — layer 1, [0:1199], loss=8.7229\n"
     ]
    },
    {
     "name": "stderr",
     "output_type": "stream",
     "text": [
      "epoch 0, layer 1:  11%|████████▏                                                               | 1249/11016 [03:11<24:06,  6.75it/s, loss=4.55]"
     ]
    },
    {
     "name": "stdout",
     "output_type": "stream",
     "text": [
      "2025-07-21 22:16:15,003 — INFO — layer 1, [0:1249], loss=-4.0137\n",
      "2025-07-21 22:16:15,003 — INFO — layer 1, [0:1249], loss=9.0206\n"
     ]
    },
    {
     "name": "stderr",
     "output_type": "stream",
     "text": [
      "epoch 0, layer 1:  12%|████████▍                                                               | 1299/11016 [03:18<23:53,  6.78it/s, loss=2.35]"
     ]
    },
    {
     "name": "stdout",
     "output_type": "stream",
     "text": [
      "2025-07-21 22:16:22,585 — INFO — layer 1, [0:1299], loss=1.6162\n",
      "2025-07-21 22:16:22,585 — INFO — layer 1, [0:1299], loss=4.7840\n"
     ]
    },
    {
     "name": "stderr",
     "output_type": "stream",
     "text": [
      "epoch 0, layer 1:  12%|████████▊                                                               | 1349/11016 [03:26<24:23,  6.60it/s, loss=7.13]"
     ]
    },
    {
     "name": "stdout",
     "output_type": "stream",
     "text": [
      "2025-07-21 22:16:30,166 — INFO — layer 1, [0:1349], loss=6.3473\n",
      "2025-07-21 22:16:30,166 — INFO — layer 1, [0:1349], loss=0.7678\n"
     ]
    },
    {
     "name": "stderr",
     "output_type": "stream",
     "text": [
      "epoch 0, layer 1:  13%|█████████▏                                                              | 1399/11016 [03:34<27:18,  5.87it/s, loss=8.26]"
     ]
    },
    {
     "name": "stdout",
     "output_type": "stream",
     "text": [
      "2025-07-21 22:16:37,861 — INFO — layer 1, [0:1399], loss=6.8266\n",
      "2025-07-21 22:16:37,861 — INFO — layer 1, [0:1399], loss=6.2098\n"
     ]
    },
    {
     "name": "stderr",
     "output_type": "stream",
     "text": [
      "epoch 0, layer 1:  13%|█████████▍                                                              | 1449/11016 [03:41<24:11,  6.59it/s, loss=5.27]"
     ]
    },
    {
     "name": "stdout",
     "output_type": "stream",
     "text": [
      "2025-07-21 22:16:45,495 — INFO — layer 1, [0:1449], loss=0.7858\n",
      "2025-07-21 22:16:45,495 — INFO — layer 1, [0:1449], loss=3.4259\n"
     ]
    },
    {
     "name": "stderr",
     "output_type": "stream",
     "text": [
      "epoch 0, layer 1:  14%|█████████▊                                                              | 1499/11016 [03:49<24:16,  6.53it/s, loss=1.33]"
     ]
    },
    {
     "name": "stdout",
     "output_type": "stream",
     "text": [
      "2025-07-21 22:16:52,985 — INFO — layer 1, [0:1499], loss=2.0753\n",
      "2025-07-21 22:16:52,985 — INFO — layer 1, [0:1499], loss=-3.1207\n"
     ]
    },
    {
     "name": "stderr",
     "output_type": "stream",
     "text": [
      "epoch 0, layer 1:  14%|██████████                                                              | 1549/11016 [03:56<25:16,  6.24it/s, loss=4.39]"
     ]
    },
    {
     "name": "stdout",
     "output_type": "stream",
     "text": [
      "2025-07-21 22:17:00,585 — INFO — layer 1, [0:1549], loss=2.3797\n",
      "2025-07-21 22:17:00,585 — INFO — layer 1, [0:1549], loss=-0.5489\n"
     ]
    },
    {
     "name": "stderr",
     "output_type": "stream",
     "text": [
      "epoch 0, layer 1:  15%|██████████▎                                                            | 1599/11016 [04:04<22:35,  6.94it/s, loss=0.851]"
     ]
    },
    {
     "name": "stdout",
     "output_type": "stream",
     "text": [
      "2025-07-21 22:17:08,128 — INFO — layer 1, [0:1599], loss=4.5299\n",
      "2025-07-21 22:17:08,129 — INFO — layer 1, [0:1599], loss=-4.1100\n"
     ]
    },
    {
     "name": "stderr",
     "output_type": "stream",
     "text": [
      "epoch 0, layer 1:  15%|██████████▋                                                            | 1649/11016 [04:12<23:53,  6.53it/s, loss=0.621]"
     ]
    },
    {
     "name": "stdout",
     "output_type": "stream",
     "text": [
      "2025-07-21 22:17:15,841 — INFO — layer 1, [0:1649], loss=6.8572\n",
      "2025-07-21 22:17:15,841 — INFO — layer 1, [0:1649], loss=0.1687\n"
     ]
    },
    {
     "name": "stderr",
     "output_type": "stream",
     "text": [
      "epoch 0, layer 1:  15%|███████████                                                             | 1699/11016 [04:19<24:38,  6.30it/s, loss=1.31]"
     ]
    },
    {
     "name": "stdout",
     "output_type": "stream",
     "text": [
      "2025-07-21 22:17:23,378 — INFO — layer 1, [0:1699], loss=5.5180\n",
      "2025-07-21 22:17:23,378 — INFO — layer 1, [0:1699], loss=-5.6098\n"
     ]
    },
    {
     "name": "stderr",
     "output_type": "stream",
     "text": [
      "epoch 0, layer 1:  16%|███████████▎                                                           | 1749/11016 [04:27<24:48,  6.23it/s, loss=0.873]"
     ]
    },
    {
     "name": "stdout",
     "output_type": "stream",
     "text": [
      "2025-07-21 22:17:31,003 — INFO — layer 1, [0:1749], loss=0.4730\n",
      "2025-07-21 22:17:31,003 — INFO — layer 1, [0:1749], loss=8.5058\n"
     ]
    },
    {
     "name": "stderr",
     "output_type": "stream",
     "text": [
      "epoch 0, layer 1:  16%|███████████▊                                                            | 1799/11016 [04:34<23:55,  6.42it/s, loss=7.14]"
     ]
    },
    {
     "name": "stdout",
     "output_type": "stream",
     "text": [
      "2025-07-21 22:17:38,601 — INFO — layer 1, [0:1799], loss=0.9473\n",
      "2025-07-21 22:17:38,601 — INFO — layer 1, [0:1799], loss=-2.0071\n"
     ]
    },
    {
     "name": "stderr",
     "output_type": "stream",
     "text": [
      "epoch 0, layer 1:  17%|████████████                                                            | 1849/11016 [04:42<22:37,  6.75it/s, loss=1.43]"
     ]
    },
    {
     "name": "stdout",
     "output_type": "stream",
     "text": [
      "2025-07-21 22:17:46,108 — INFO — layer 1, [0:1849], loss=0.0829\n",
      "2025-07-21 22:17:46,108 — INFO — layer 1, [0:1849], loss=4.5375\n"
     ]
    },
    {
     "name": "stderr",
     "output_type": "stream",
     "text": [
      "epoch 0, layer 1:  17%|████████████                                                          | 1899/11016 [04:49<24:03,  6.32it/s, loss=-0.827]"
     ]
    },
    {
     "name": "stdout",
     "output_type": "stream",
     "text": [
      "2025-07-21 22:17:53,749 — INFO — layer 1, [0:1899], loss=5.1442\n",
      "2025-07-21 22:17:53,749 — INFO — layer 1, [0:1899], loss=0.3892\n"
     ]
    },
    {
     "name": "stderr",
     "output_type": "stream",
     "text": [
      "epoch 0, layer 1:  18%|████████████▋                                                           | 1949/11016 [04:57<23:50,  6.34it/s, loss=8.01]"
     ]
    },
    {
     "name": "stdout",
     "output_type": "stream",
     "text": [
      "2025-07-21 22:18:01,362 — INFO — layer 1, [0:1949], loss=-0.3117\n",
      "2025-07-21 22:18:01,362 — INFO — layer 1, [0:1949], loss=-6.0722\n"
     ]
    },
    {
     "name": "stderr",
     "output_type": "stream",
     "text": [
      "epoch 0, layer 1:  18%|████████████▉                                                          | 1999/11016 [05:05<22:13,  6.76it/s, loss=-9.31]"
     ]
    },
    {
     "name": "stdout",
     "output_type": "stream",
     "text": [
      "2025-07-21 22:18:08,929 — INFO — layer 1, [0:1999], loss=3.1804\n",
      "2025-07-21 22:18:08,929 — INFO — layer 1, [0:1999], loss=8.2048\n"
     ]
    },
    {
     "name": "stderr",
     "output_type": "stream",
     "text": [
      "epoch 0, layer 1:  19%|█████████████▍                                                          | 2049/11016 [05:12<21:37,  6.91it/s, loss=8.72]"
     ]
    },
    {
     "name": "stdout",
     "output_type": "stream",
     "text": [
      "2025-07-21 22:18:16,385 — INFO — layer 1, [0:2049], loss=-0.2989\n",
      "2025-07-21 22:18:16,385 — INFO — layer 1, [0:2049], loss=1.4312\n"
     ]
    },
    {
     "name": "stderr",
     "output_type": "stream",
     "text": [
      "epoch 0, layer 1:  19%|█████████████▌                                                         | 2099/11016 [05:20<22:18,  6.66it/s, loss=-2.59]"
     ]
    },
    {
     "name": "stdout",
     "output_type": "stream",
     "text": [
      "2025-07-21 22:18:23,978 — INFO — layer 1, [0:2099], loss=-3.8713\n",
      "2025-07-21 22:18:23,978 — INFO — layer 1, [0:2099], loss=3.3517\n"
     ]
    },
    {
     "name": "stderr",
     "output_type": "stream",
     "text": [
      "epoch 0, layer 1:  20%|██████████████                                                          | 2149/11016 [05:27<23:54,  6.18it/s, loss=2.61]"
     ]
    },
    {
     "name": "stdout",
     "output_type": "stream",
     "text": [
      "2025-07-21 22:18:31,604 — INFO — layer 1, [0:2149], loss=4.3961\n",
      "2025-07-21 22:18:31,604 — INFO — layer 1, [0:2149], loss=0.0345\n"
     ]
    },
    {
     "name": "stderr",
     "output_type": "stream",
     "text": [
      "epoch 0, layer 1:  20%|██████████████▎                                                         | 2199/11016 [05:35<22:15,  6.60it/s, loss=3.24]"
     ]
    },
    {
     "name": "stdout",
     "output_type": "stream",
     "text": [
      "2025-07-21 22:18:39,210 — INFO — layer 1, [0:2199], loss=-6.1302\n"
     ]
    },
    {
     "name": "stderr",
     "output_type": "stream",
     "text": [
      "epoch 0, layer 1:  20%|██████████████▏                                                        | 2200/11016 [05:35<21:50,  6.73it/s, loss=-6.13]"
     ]
    },
    {
     "name": "stdout",
     "output_type": "stream",
     "text": [
      "2025-07-21 22:18:39,212 — INFO — layer 1, [0:2199], loss=-3.9824\n"
     ]
    },
    {
     "name": "stderr",
     "output_type": "stream",
     "text": [
      "epoch 0, layer 1:  20%|██████████████▋                                                         | 2249/11016 [05:43<21:55,  6.66it/s, loss=0.13]"
     ]
    },
    {
     "name": "stdout",
     "output_type": "stream",
     "text": [
      "2025-07-21 22:18:46,824 — INFO — layer 1, [0:2249], loss=4.7749\n",
      "2025-07-21 22:18:46,824 — INFO — layer 1, [0:2249], loss=-4.7162\n"
     ]
    },
    {
     "name": "stderr",
     "output_type": "stream",
     "text": [
      "epoch 0, layer 1:  21%|██████████████▊                                                        | 2299/11016 [05:50<22:31,  6.45it/s, loss=-7.82]"
     ]
    },
    {
     "name": "stdout",
     "output_type": "stream",
     "text": [
      "2025-07-21 22:18:54,396 — INFO — layer 1, [0:2299], loss=0.7030\n",
      "2025-07-21 22:18:54,396 — INFO — layer 1, [0:2299], loss=-1.6864\n"
     ]
    },
    {
     "name": "stderr",
     "output_type": "stream",
     "text": [
      "epoch 0, layer 1:  21%|██████████████▉                                                       | 2349/11016 [05:58<21:55,  6.59it/s, loss=-0.804]"
     ]
    },
    {
     "name": "stdout",
     "output_type": "stream",
     "text": [
      "2025-07-21 22:19:02,108 — INFO — layer 1, [0:2349], loss=-8.2223\n",
      "2025-07-21 22:19:02,108 — INFO — layer 1, [0:2349], loss=3.0610\n"
     ]
    },
    {
     "name": "stderr",
     "output_type": "stream",
     "text": [
      "epoch 0, layer 1:  22%|███████████████▋                                                        | 2399/11016 [06:05<20:24,  7.04it/s, loss=2.53]"
     ]
    },
    {
     "name": "stdout",
     "output_type": "stream",
     "text": [
      "2025-07-21 22:19:09,631 — INFO — layer 1, [0:2399], loss=-4.4597\n",
      "2025-07-21 22:19:09,631 — INFO — layer 1, [0:2399], loss=3.4007\n"
     ]
    },
    {
     "name": "stderr",
     "output_type": "stream",
     "text": [
      "epoch 0, layer 1:  22%|███████████████▊                                                       | 2449/11016 [06:13<21:50,  6.54it/s, loss=-5.52]"
     ]
    },
    {
     "name": "stdout",
     "output_type": "stream",
     "text": [
      "2025-07-21 22:19:17,352 — INFO — layer 1, [0:2449], loss=8.5405\n",
      "2025-07-21 22:19:17,352 — INFO — layer 1, [0:2449], loss=1.5850\n"
     ]
    },
    {
     "name": "stderr",
     "output_type": "stream",
     "text": [
      "epoch 0, layer 1:  23%|████████████████                                                       | 2499/11016 [06:21<20:49,  6.82it/s, loss=-12.3]"
     ]
    },
    {
     "name": "stdout",
     "output_type": "stream",
     "text": [
      "2025-07-21 22:19:24,977 — INFO — layer 1, [0:2499], loss=1.2851\n",
      "2025-07-21 22:19:24,977 — INFO — layer 1, [0:2499], loss=1.3032\n"
     ]
    },
    {
     "name": "stderr",
     "output_type": "stream",
     "text": [
      "epoch 0, layer 1:  23%|████████████████▋                                                       | 2549/11016 [06:28<21:39,  6.52it/s, loss=6.77]"
     ]
    },
    {
     "name": "stdout",
     "output_type": "stream",
     "text": [
      "2025-07-21 22:19:32,636 — INFO — layer 1, [0:2549], loss=0.8691\n",
      "2025-07-21 22:19:32,636 — INFO — layer 1, [0:2549], loss=-8.6733\n"
     ]
    },
    {
     "name": "stderr",
     "output_type": "stream",
     "text": [
      "epoch 0, layer 1:  24%|████████████████▉                                                       | 2599/11016 [06:36<20:45,  6.76it/s, loss=-3.2]"
     ]
    },
    {
     "name": "stdout",
     "output_type": "stream",
     "text": [
      "2025-07-21 22:19:40,387 — INFO — layer 1, [0:2599], loss=2.9917\n",
      "2025-07-21 22:19:40,387 — INFO — layer 1, [0:2599], loss=-11.6194\n"
     ]
    },
    {
     "name": "stderr",
     "output_type": "stream",
     "text": [
      "epoch 0, layer 1:  24%|█████████████████                                                      | 2649/11016 [06:44<20:55,  6.66it/s, loss=-4.46]"
     ]
    },
    {
     "name": "stdout",
     "output_type": "stream",
     "text": [
      "2025-07-21 22:19:47,920 — INFO — layer 1, [0:2649], loss=-2.1647\n",
      "2025-07-21 22:19:47,920 — INFO — layer 1, [0:2649], loss=-0.3826\n"
     ]
    },
    {
     "name": "stderr",
     "output_type": "stream",
     "text": [
      "epoch 0, layer 1:  25%|█████████████████▏                                                    | 2699/11016 [06:51<20:59,  6.60it/s, loss=-0.345]"
     ]
    },
    {
     "name": "stdout",
     "output_type": "stream",
     "text": [
      "2025-07-21 22:19:55,658 — INFO — layer 1, [0:2699], loss=0.6460\n",
      "2025-07-21 22:19:55,659 — INFO — layer 1, [0:2699], loss=-6.4621\n"
     ]
    },
    {
     "name": "stderr",
     "output_type": "stream",
     "text": [
      "epoch 0, layer 1:  25%|█████████████████▋                                                     | 2749/11016 [06:59<20:52,  6.60it/s, loss=-11.8]"
     ]
    },
    {
     "name": "stdout",
     "output_type": "stream",
     "text": [
      "2025-07-21 22:20:03,427 — INFO — layer 1, [0:2749], loss=-1.2194\n",
      "2025-07-21 22:20:03,427 — INFO — layer 1, [0:2749], loss=6.8406\n"
     ]
    },
    {
     "name": "stderr",
     "output_type": "stream",
     "text": [
      "epoch 0, layer 1:  25%|█████████████████▊                                                    | 2799/11016 [07:07<20:46,  6.59it/s, loss=0.0703]"
     ]
    },
    {
     "name": "stdout",
     "output_type": "stream",
     "text": [
      "2025-07-21 22:20:11,012 — INFO — layer 1, [0:2799], loss=4.2163\n",
      "2025-07-21 22:20:11,012 — INFO — layer 1, [0:2799], loss=2.8183\n"
     ]
    },
    {
     "name": "stderr",
     "output_type": "stream",
     "text": [
      "epoch 0, layer 1:  26%|██████████████████▎                                                    | 2849/11016 [07:14<20:20,  6.69it/s, loss=-1.43]"
     ]
    },
    {
     "name": "stdout",
     "output_type": "stream",
     "text": [
      "2025-07-21 22:20:18,682 — INFO — layer 1, [0:2849], loss=2.8676\n",
      "2025-07-21 22:20:18,682 — INFO — layer 1, [0:2849], loss=0.3158\n"
     ]
    },
    {
     "name": "stderr",
     "output_type": "stream",
     "text": [
      "epoch 0, layer 1:  26%|██████████████████▋                                                    | 2899/11016 [07:22<19:23,  6.98it/s, loss=-5.82]"
     ]
    },
    {
     "name": "stdout",
     "output_type": "stream",
     "text": [
      "2025-07-21 22:20:26,212 — INFO — layer 1, [0:2899], loss=1.1248\n",
      "2025-07-21 22:20:26,212 — INFO — layer 1, [0:2899], loss=4.3083\n"
     ]
    },
    {
     "name": "stderr",
     "output_type": "stream",
     "text": [
      "epoch 0, layer 1:  27%|███████████████████                                                    | 2949/11016 [07:30<20:59,  6.40it/s, loss=-2.88]"
     ]
    },
    {
     "name": "stdout",
     "output_type": "stream",
     "text": [
      "2025-07-21 22:20:34,049 — INFO — layer 1, [0:2949], loss=4.6698\n",
      "2025-07-21 22:20:34,049 — INFO — layer 1, [0:2949], loss=-0.1321\n"
     ]
    },
    {
     "name": "stderr",
     "output_type": "stream",
     "text": [
      "epoch 0, layer 1:  27%|███████████████████▎                                                   | 2999/11016 [07:37<22:26,  5.95it/s, loss=0.983]"
     ]
    },
    {
     "name": "stdout",
     "output_type": "stream",
     "text": [
      "2025-07-21 22:20:41,750 — INFO — layer 1, [0:2999], loss=-4.7731\n",
      "2025-07-21 22:20:41,750 — INFO — layer 1, [0:2999], loss=-3.7894\n"
     ]
    },
    {
     "name": "stderr",
     "output_type": "stream",
     "text": [
      "epoch 0, layer 1:  28%|███████████████████▉                                                    | 3049/11016 [07:45<20:10,  6.58it/s, loss=4.09]"
     ]
    },
    {
     "name": "stdout",
     "output_type": "stream",
     "text": [
      "2025-07-21 22:20:49,424 — INFO — layer 1, [0:3049], loss=0.8469\n",
      "2025-07-21 22:20:49,424 — INFO — layer 1, [0:3049], loss=-8.2545\n"
     ]
    },
    {
     "name": "stderr",
     "output_type": "stream",
     "text": [
      "epoch 0, layer 1:  28%|████████████████████▎                                                   | 3099/11016 [07:53<19:38,  6.72it/s, loss=1.44]"
     ]
    },
    {
     "name": "stdout",
     "output_type": "stream",
     "text": [
      "2025-07-21 22:20:57,178 — INFO — layer 1, [0:3099], loss=-12.1258\n",
      "2025-07-21 22:20:57,178 — INFO — layer 1, [0:3099], loss=-3.2597\n"
     ]
    },
    {
     "name": "stderr",
     "output_type": "stream",
     "text": [
      "epoch 0, layer 1:  29%|████████████████████▌                                                   | 3149/11016 [08:00<20:09,  6.51it/s, loss=3.63]"
     ]
    },
    {
     "name": "stdout",
     "output_type": "stream",
     "text": [
      "2025-07-21 22:21:04,579 — INFO — layer 1, [0:3149], loss=-5.5529\n",
      "2025-07-21 22:21:04,579 — INFO — layer 1, [0:3149], loss=1.4094\n"
     ]
    },
    {
     "name": "stderr",
     "output_type": "stream",
     "text": [
      "epoch 0, layer 1:  29%|████████████████████▉                                                   | 3199/11016 [08:08<19:42,  6.61it/s, loss=0.19]"
     ]
    },
    {
     "name": "stdout",
     "output_type": "stream",
     "text": [
      "2025-07-21 22:21:12,228 — INFO — layer 1, [0:3199], loss=3.1416\n",
      "2025-07-21 22:21:12,228 — INFO — layer 1, [0:3199], loss=-6.3059\n"
     ]
    },
    {
     "name": "stderr",
     "output_type": "stream",
     "text": [
      "epoch 0, layer 1:  29%|████████████████████▉                                                  | 3249/11016 [08:16<18:44,  6.91it/s, loss=-2.09]"
     ]
    },
    {
     "name": "stdout",
     "output_type": "stream",
     "text": [
      "2025-07-21 22:21:19,828 — INFO — layer 1, [0:3249], loss=-1.9541\n",
      "2025-07-21 22:21:19,828 — INFO — layer 1, [0:3249], loss=-7.1142\n"
     ]
    },
    {
     "name": "stderr",
     "output_type": "stream",
     "text": [
      "epoch 0, layer 1:  30%|█████████████████████▌                                                  | 3299/11016 [08:23<19:19,  6.66it/s, loss=1.13]"
     ]
    },
    {
     "name": "stdout",
     "output_type": "stream",
     "text": [
      "2025-07-21 22:21:27,323 — INFO — layer 1, [0:3299], loss=-1.9259\n",
      "2025-07-21 22:21:27,323 — INFO — layer 1, [0:3299], loss=-3.3459\n"
     ]
    },
    {
     "name": "stderr",
     "output_type": "stream",
     "text": [
      "epoch 0, layer 1:  30%|█████████████████████▌                                                 | 3349/11016 [08:31<19:16,  6.63it/s, loss=-9.56]"
     ]
    },
    {
     "name": "stdout",
     "output_type": "stream",
     "text": [
      "2025-07-21 22:21:35,015 — INFO — layer 1, [0:3349], loss=0.0972\n",
      "2025-07-21 22:21:35,015 — INFO — layer 1, [0:3349], loss=-1.4947\n"
     ]
    },
    {
     "name": "stderr",
     "output_type": "stream",
     "text": [
      "epoch 0, layer 1:  31%|█████████████████████▉                                                 | 3399/11016 [08:38<19:06,  6.65it/s, loss=-3.95]"
     ]
    },
    {
     "name": "stdout",
     "output_type": "stream",
     "text": [
      "2025-07-21 22:21:42,581 — INFO — layer 1, [0:3399], loss=-4.9876\n",
      "2025-07-21 22:21:42,581 — INFO — layer 1, [0:3399], loss=-4.4797\n"
     ]
    },
    {
     "name": "stderr",
     "output_type": "stream",
     "text": [
      "epoch 0, layer 1:  31%|██████████████████████▌                                                 | 3449/11016 [08:46<19:20,  6.52it/s, loss=2.26]"
     ]
    },
    {
     "name": "stdout",
     "output_type": "stream",
     "text": [
      "2025-07-21 22:21:50,165 — INFO — layer 1, [0:3449], loss=-6.8771\n",
      "2025-07-21 22:21:50,165 — INFO — layer 1, [0:3449], loss=-2.5885\n"
     ]
    },
    {
     "name": "stderr",
     "output_type": "stream",
     "text": [
      "epoch 0, layer 1:  32%|███████████████████████▊                                                   | 3499/11016 [08:53<18:07,  6.91it/s, loss=2]"
     ]
    },
    {
     "name": "stdout",
     "output_type": "stream",
     "text": [
      "2025-07-21 22:21:57,729 — INFO — layer 1, [0:3499], loss=-7.3666\n",
      "2025-07-21 22:21:57,729 — INFO — layer 1, [0:3499], loss=1.3990\n"
     ]
    },
    {
     "name": "stderr",
     "output_type": "stream",
     "text": [
      "epoch 0, layer 1:  32%|██████████████████████▊                                                | 3549/11016 [09:01<18:34,  6.70it/s, loss=-9.09]"
     ]
    },
    {
     "name": "stdout",
     "output_type": "stream",
     "text": [
      "2025-07-21 22:22:05,415 — INFO — layer 1, [0:3549], loss=0.9032\n",
      "2025-07-21 22:22:05,415 — INFO — layer 1, [0:3549], loss=-13.4641\n"
     ]
    },
    {
     "name": "stderr",
     "output_type": "stream",
     "text": [
      "epoch 0, layer 1:  33%|███████████████████████▏                                               | 3599/11016 [09:09<18:41,  6.62it/s, loss=-13.1]"
     ]
    },
    {
     "name": "stdout",
     "output_type": "stream",
     "text": [
      "2025-07-21 22:22:13,017 — INFO — layer 1, [0:3599], loss=-10.5454\n",
      "2025-07-21 22:22:13,017 — INFO — layer 1, [0:3599], loss=1.0267\n"
     ]
    },
    {
     "name": "stderr",
     "output_type": "stream",
     "text": [
      "epoch 0, layer 1:  33%|███████████████████████▌                                               | 3649/11016 [09:16<18:39,  6.58it/s, loss=-3.85]"
     ]
    },
    {
     "name": "stdout",
     "output_type": "stream",
     "text": [
      "2025-07-21 22:22:20,628 — INFO — layer 1, [0:3649], loss=-1.9541\n",
      "2025-07-21 22:22:20,628 — INFO — layer 1, [0:3649], loss=-0.9520\n"
     ]
    },
    {
     "name": "stderr",
     "output_type": "stream",
     "text": [
      "epoch 0, layer 1:  34%|████████████████████████▌                                                | 3699/11016 [09:24<21:22,  5.71it/s, loss=1.3]"
     ]
    },
    {
     "name": "stdout",
     "output_type": "stream",
     "text": [
      "2025-07-21 22:22:28,346 — INFO — layer 1, [0:3699], loss=-0.0896\n",
      "2025-07-21 22:22:28,346 — INFO — layer 1, [0:3699], loss=3.4811\n"
     ]
    },
    {
     "name": "stderr",
     "output_type": "stream",
     "text": [
      "epoch 0, layer 1:  34%|████████████████████████▌                                               | 3749/11016 [09:32<19:28,  6.22it/s, loss=3.09]"
     ]
    },
    {
     "name": "stdout",
     "output_type": "stream",
     "text": [
      "2025-07-21 22:22:35,904 — INFO — layer 1, [0:3749], loss=-7.4897\n",
      "2025-07-21 22:22:35,904 — INFO — layer 1, [0:3749], loss=0.5949\n"
     ]
    },
    {
     "name": "stderr",
     "output_type": "stream",
     "text": [
      "epoch 0, layer 1:  34%|████████████████████████▍                                              | 3799/11016 [09:39<17:21,  6.93it/s, loss=-1.78]"
     ]
    },
    {
     "name": "stdout",
     "output_type": "stream",
     "text": [
      "2025-07-21 22:22:43,412 — INFO — layer 1, [0:3799], loss=-0.4459\n",
      "2025-07-21 22:22:43,412 — INFO — layer 1, [0:3799], loss=-0.0755\n"
     ]
    },
    {
     "name": "stderr",
     "output_type": "stream",
     "text": [
      "epoch 0, layer 1:  35%|████████████████████████▊                                              | 3849/11016 [09:47<18:02,  6.62it/s, loss=-6.21]"
     ]
    },
    {
     "name": "stdout",
     "output_type": "stream",
     "text": [
      "2025-07-21 22:22:51,129 — INFO — layer 1, [0:3849], loss=0.5332\n",
      "2025-07-21 22:22:51,129 — INFO — layer 1, [0:3849], loss=-7.0509\n"
     ]
    },
    {
     "name": "stderr",
     "output_type": "stream",
     "text": [
      "epoch 0, layer 1:  35%|█████████████████████████▏                                             | 3899/11016 [09:54<18:29,  6.42it/s, loss=-5.62]"
     ]
    },
    {
     "name": "stdout",
     "output_type": "stream",
     "text": [
      "2025-07-21 22:22:58,621 — INFO — layer 1, [0:3899], loss=-1.1676\n",
      "2025-07-21 22:22:58,621 — INFO — layer 1, [0:3899], loss=-13.5449\n"
     ]
    },
    {
     "name": "stderr",
     "output_type": "stream",
     "text": [
      "epoch 0, layer 1:  36%|█████████████████████████                                             | 3949/11016 [10:02<18:01,  6.54it/s, loss=-0.357]"
     ]
    },
    {
     "name": "stdout",
     "output_type": "stream",
     "text": [
      "2025-07-21 22:23:06,148 — INFO — layer 1, [0:3949], loss=7.1321\n",
      "2025-07-21 22:23:06,148 — INFO — layer 1, [0:3949], loss=-0.3133\n"
     ]
    },
    {
     "name": "stderr",
     "output_type": "stream",
     "text": [
      "epoch 0, layer 1:  36%|█████████████████████████▊                                             | 3999/11016 [10:09<16:50,  6.95it/s, loss=-10.9]"
     ]
    },
    {
     "name": "stdout",
     "output_type": "stream",
     "text": [
      "2025-07-21 22:23:13,731 — INFO — layer 1, [0:3999], loss=-8.8632\n",
      "2025-07-21 22:23:13,731 — INFO — layer 1, [0:3999], loss=-16.1852\n"
     ]
    },
    {
     "name": "stderr",
     "output_type": "stream",
     "text": [
      "epoch 0, layer 1:  37%|██████████████████████████                                             | 4049/11016 [10:17<19:30,  5.95it/s, loss=-2.82]"
     ]
    },
    {
     "name": "stdout",
     "output_type": "stream",
     "text": [
      "2025-07-21 22:23:21,609 — INFO — layer 1, [0:4049], loss=-6.2031\n",
      "2025-07-21 22:23:21,609 — INFO — layer 1, [0:4049], loss=-4.0358\n"
     ]
    },
    {
     "name": "stderr",
     "output_type": "stream",
     "text": [
      "epoch 0, layer 1:  37%|██████████████████████████▍                                            | 4099/11016 [10:25<16:04,  7.17it/s, loss=-6.12]"
     ]
    },
    {
     "name": "stdout",
     "output_type": "stream",
     "text": [
      "2025-07-21 22:23:29,088 — INFO — layer 1, [0:4099], loss=0.6195\n",
      "2025-07-21 22:23:29,088 — INFO — layer 1, [0:4099], loss=-1.3503\n"
     ]
    },
    {
     "name": "stderr",
     "output_type": "stream",
     "text": [
      "epoch 0, layer 1:  38%|██████████████████████████▋                                            | 4149/11016 [10:32<16:32,  6.92it/s, loss=0.121]"
     ]
    },
    {
     "name": "stdout",
     "output_type": "stream",
     "text": [
      "2025-07-21 22:23:36,766 — INFO — layer 1, [0:4149], loss=-0.0828\n",
      "2025-07-21 22:23:36,766 — INFO — layer 1, [0:4149], loss=2.7474\n"
     ]
    },
    {
     "name": "stderr",
     "output_type": "stream",
     "text": [
      "epoch 0, layer 1:  38%|███████████████████████████                                            | 4199/11016 [10:40<17:33,  6.47it/s, loss=-10.8]"
     ]
    },
    {
     "name": "stdout",
     "output_type": "stream",
     "text": [
      "2025-07-21 22:23:44,542 — INFO — layer 1, [0:4199], loss=-9.4895\n",
      "2025-07-21 22:23:44,542 — INFO — layer 1, [0:4199], loss=-2.3843\n"
     ]
    },
    {
     "name": "stderr",
     "output_type": "stream",
     "text": [
      "epoch 0, layer 1:  39%|███████████████████████████▍                                           | 4249/11016 [10:48<17:17,  6.52it/s, loss=-10.7]"
     ]
    },
    {
     "name": "stdout",
     "output_type": "stream",
     "text": [
      "2025-07-21 22:23:52,205 — INFO — layer 1, [0:4249], loss=-4.9505\n",
      "2025-07-21 22:23:52,204 — INFO — layer 1, [0:4249], loss=-7.5152\n"
     ]
    },
    {
     "name": "stderr",
     "output_type": "stream",
     "text": [
      "epoch 0, layer 1:  39%|███████████████████████████▋                                           | 4299/11016 [10:56<17:11,  6.51it/s, loss=-7.85]"
     ]
    },
    {
     "name": "stdout",
     "output_type": "stream",
     "text": [
      "2025-07-21 22:23:59,896 — INFO — layer 1, [0:4299], loss=-5.7943\n",
      "2025-07-21 22:23:59,896 — INFO — layer 1, [0:4299], loss=2.1680\n"
     ]
    },
    {
     "name": "stderr",
     "output_type": "stream",
     "text": [
      "epoch 0, layer 1:  39%|████████████████████████████▍                                           | 4349/11016 [11:03<16:58,  6.54it/s, loss=-3.9]"
     ]
    },
    {
     "name": "stdout",
     "output_type": "stream",
     "text": [
      "2025-07-21 22:24:07,460 — INFO — layer 1, [0:4349], loss=-7.2978\n",
      "2025-07-21 22:24:07,460 — INFO — layer 1, [0:4349], loss=-3.9599\n"
     ]
    },
    {
     "name": "stderr",
     "output_type": "stream",
     "text": [
      "epoch 0, layer 1:  40%|████████████████████████████▎                                          | 4399/11016 [11:11<17:11,  6.42it/s, loss=-7.72]"
     ]
    },
    {
     "name": "stdout",
     "output_type": "stream",
     "text": [
      "2025-07-21 22:24:15,257 — INFO — layer 1, [0:4399], loss=-5.2175\n",
      "2025-07-21 22:24:15,257 — INFO — layer 1, [0:4399], loss=3.1247\n"
     ]
    },
    {
     "name": "stderr",
     "output_type": "stream",
     "text": [
      "epoch 0, layer 1:  40%|████████████████████████████▋                                          | 4449/11016 [11:19<16:07,  6.79it/s, loss=-13.9]"
     ]
    },
    {
     "name": "stdout",
     "output_type": "stream",
     "text": [
      "2025-07-21 22:24:22,881 — INFO — layer 1, [0:4449], loss=0.8165\n",
      "2025-07-21 22:24:22,881 — INFO — layer 1, [0:4449], loss=-0.2898\n"
     ]
    },
    {
     "name": "stderr",
     "output_type": "stream",
     "text": [
      "epoch 0, layer 1:  41%|████████████████████████████▉                                          | 4499/11016 [11:26<16:05,  6.75it/s, loss=-4.78]"
     ]
    },
    {
     "name": "stdout",
     "output_type": "stream",
     "text": [
      "2025-07-21 22:24:30,506 — INFO — layer 1, [0:4499], loss=3.4730\n",
      "2025-07-21 22:24:30,506 — INFO — layer 1, [0:4499], loss=7.0771\n"
     ]
    },
    {
     "name": "stderr",
     "output_type": "stream",
     "text": [
      "epoch 0, layer 1:  41%|█████████████████████████████▎                                         | 4549/11016 [11:34<15:21,  7.02it/s, loss=-6.73]"
     ]
    },
    {
     "name": "stdout",
     "output_type": "stream",
     "text": [
      "2025-07-21 22:24:37,954 — INFO — layer 1, [0:4549], loss=-16.8834\n",
      "2025-07-21 22:24:37,954 — INFO — layer 1, [0:4549], loss=-2.9058\n"
     ]
    },
    {
     "name": "stderr",
     "output_type": "stream",
     "text": [
      "epoch 0, layer 1:  42%|██████████████████████████████                                          | 4599/11016 [11:41<16:06,  6.64it/s, loss=5.66]"
     ]
    },
    {
     "name": "stdout",
     "output_type": "stream",
     "text": [
      "2025-07-21 22:24:45,574 — INFO — layer 1, [0:4599], loss=-2.3652\n",
      "2025-07-21 22:24:45,574 — INFO — layer 1, [0:4599], loss=-3.6800\n"
     ]
    },
    {
     "name": "stderr",
     "output_type": "stream",
     "text": [
      "epoch 0, layer 1:  42%|██████████████████████████████▍                                         | 4649/11016 [11:49<16:14,  6.53it/s, loss=-1.1]"
     ]
    },
    {
     "name": "stdout",
     "output_type": "stream",
     "text": [
      "2025-07-21 22:24:53,370 — INFO — layer 1, [0:4649], loss=-8.8497\n",
      "2025-07-21 22:24:53,370 — INFO — layer 1, [0:4649], loss=-6.9547\n"
     ]
    },
    {
     "name": "stderr",
     "output_type": "stream",
     "text": [
      "epoch 0, layer 1:  43%|██████████████████████████████▋                                         | 4699/11016 [11:57<15:30,  6.79it/s, loss=1.31]"
     ]
    },
    {
     "name": "stdout",
     "output_type": "stream",
     "text": [
      "2025-07-21 22:25:00,908 — INFO — layer 1, [0:4699], loss=-10.0090\n",
      "2025-07-21 22:25:00,908 — INFO — layer 1, [0:4699], loss=-11.6246\n"
     ]
    },
    {
     "name": "stderr",
     "output_type": "stream",
     "text": [
      "epoch 0, layer 1:  43%|██████████████████████████████▌                                        | 4749/11016 [12:04<15:25,  6.77it/s, loss=0.723]"
     ]
    },
    {
     "name": "stdout",
     "output_type": "stream",
     "text": [
      "2025-07-21 22:25:08,456 — INFO — layer 1, [0:4749], loss=-6.1274\n",
      "2025-07-21 22:25:08,456 — INFO — layer 1, [0:4749], loss=-4.7528\n"
     ]
    },
    {
     "name": "stderr",
     "output_type": "stream",
     "text": [
      "epoch 0, layer 1:  44%|███████████████████████████████▎                                        | 4799/11016 [12:12<15:58,  6.49it/s, loss=-4.5]"
     ]
    },
    {
     "name": "stdout",
     "output_type": "stream",
     "text": [
      "2025-07-21 22:25:16,284 — INFO — layer 1, [0:4799], loss=0.8708\n",
      "2025-07-21 22:25:16,284 — INFO — layer 1, [0:4799], loss=-0.4683\n"
     ]
    },
    {
     "name": "stderr",
     "output_type": "stream",
     "text": [
      "epoch 0, layer 1:  44%|████████████████████████████████▌                                         | 4849/11016 [12:20<15:24,  6.67it/s, loss=-3]"
     ]
    },
    {
     "name": "stdout",
     "output_type": "stream",
     "text": [
      "2025-07-21 22:25:23,925 — INFO — layer 1, [0:4849], loss=-12.4232\n",
      "2025-07-21 22:25:23,925 — INFO — layer 1, [0:4849], loss=-4.2052\n"
     ]
    },
    {
     "name": "stderr",
     "output_type": "stream",
     "text": [
      "epoch 0, layer 1:  44%|███████████████████████████████▌                                       | 4899/11016 [12:27<15:46,  6.46it/s, loss=-2.13]"
     ]
    },
    {
     "name": "stdout",
     "output_type": "stream",
     "text": [
      "2025-07-21 22:25:31,567 — INFO — layer 1, [0:4899], loss=4.1803\n",
      "2025-07-21 22:25:31,567 — INFO — layer 1, [0:4899], loss=-9.5130\n"
     ]
    },
    {
     "name": "stderr",
     "output_type": "stream",
     "text": [
      "epoch 0, layer 1:  45%|███████████████████████████████▉                                       | 4949/11016 [12:35<15:31,  6.51it/s, loss=-1.98]"
     ]
    },
    {
     "name": "stdout",
     "output_type": "stream",
     "text": [
      "2025-07-21 22:25:39,112 — INFO — layer 1, [0:4949], loss=-3.0645\n",
      "2025-07-21 22:25:39,112 — INFO — layer 1, [0:4949], loss=-1.2612\n"
     ]
    },
    {
     "name": "stderr",
     "output_type": "stream",
     "text": [
      "epoch 0, layer 1:  45%|████████████████████████████████▏                                      | 4999/11016 [12:42<15:26,  6.50it/s, loss=0.928]"
     ]
    },
    {
     "name": "stdout",
     "output_type": "stream",
     "text": [
      "2025-07-21 22:25:46,796 — INFO — layer 1, [0:4999], loss=-4.8989\n",
      "2025-07-21 22:25:46,796 — INFO — layer 1, [0:4999], loss=3.2517\n"
     ]
    },
    {
     "name": "stderr",
     "output_type": "stream",
     "text": [
      "epoch 0, layer 1:  46%|████████████████████████████████▌                                      | 5049/11016 [12:50<14:36,  6.81it/s, loss=-2.79]"
     ]
    },
    {
     "name": "stdout",
     "output_type": "stream",
     "text": [
      "2025-07-21 22:25:54,432 — INFO — layer 1, [0:5049], loss=-14.5304\n",
      "2025-07-21 22:25:54,432 — INFO — layer 1, [0:5049], loss=-0.7093\n"
     ]
    },
    {
     "name": "stderr",
     "output_type": "stream",
     "text": [
      "epoch 0, layer 1:  46%|████████████████████████████████▊                                      | 5099/11016 [12:58<15:05,  6.53it/s, loss=-3.18]"
     ]
    },
    {
     "name": "stdout",
     "output_type": "stream",
     "text": [
      "2025-07-21 22:26:02,099 — INFO — layer 1, [0:5099], loss=-4.2674\n",
      "2025-07-21 22:26:02,099 — INFO — layer 1, [0:5099], loss=-5.9689\n"
     ]
    },
    {
     "name": "stderr",
     "output_type": "stream",
     "text": [
      "epoch 0, layer 1:  47%|█████████████████████████████████▋                                      | 5149/11016 [13:05<15:25,  6.34it/s, loss=2.81]"
     ]
    },
    {
     "name": "stdout",
     "output_type": "stream",
     "text": [
      "2025-07-21 22:26:09,732 — INFO — layer 1, [0:5149], loss=-6.5101\n",
      "2025-07-21 22:26:09,732 — INFO — layer 1, [0:5149], loss=-1.3854\n"
     ]
    },
    {
     "name": "stderr",
     "output_type": "stream",
     "text": [
      "epoch 0, layer 1:  47%|█████████████████████████████████▌                                     | 5199/11016 [13:13<15:36,  6.21it/s, loss=-12.4]"
     ]
    },
    {
     "name": "stdout",
     "output_type": "stream",
     "text": [
      "2025-07-21 22:26:17,444 — INFO — layer 1, [0:5199], loss=-3.1246\n",
      "2025-07-21 22:26:17,444 — INFO — layer 1, [0:5199], loss=-11.3796\n"
     ]
    },
    {
     "name": "stderr",
     "output_type": "stream",
     "text": [
      "epoch 0, layer 1:  48%|█████████████████████████████████▊                                     | 5249/11016 [13:21<14:20,  6.70it/s, loss=-4.21]"
     ]
    },
    {
     "name": "stdout",
     "output_type": "stream",
     "text": [
      "2025-07-21 22:26:25,019 — INFO — layer 1, [0:5249], loss=0.3970\n",
      "2025-07-21 22:26:25,019 — INFO — layer 1, [0:5249], loss=-4.7913\n"
     ]
    },
    {
     "name": "stderr",
     "output_type": "stream",
     "text": [
      "epoch 0, layer 1:  48%|█████████████████████████████████▋                                    | 5299/11016 [13:28<15:33,  6.12it/s, loss=-0.534]"
     ]
    },
    {
     "name": "stdout",
     "output_type": "stream",
     "text": [
      "2025-07-21 22:26:32,706 — INFO — layer 1, [0:5299], loss=0.2097\n",
      "2025-07-21 22:26:32,706 — INFO — layer 1, [0:5299], loss=-5.1365\n"
     ]
    },
    {
     "name": "stderr",
     "output_type": "stream",
     "text": [
      "epoch 0, layer 1:  49%|██████████████████████████████████▉                                     | 5349/11016 [13:36<14:30,  6.51it/s, loss=-5.2]"
     ]
    },
    {
     "name": "stdout",
     "output_type": "stream",
     "text": [
      "2025-07-21 22:26:40,277 — INFO — layer 1, [0:5349], loss=-9.2162\n",
      "2025-07-21 22:26:40,277 — INFO — layer 1, [0:5349], loss=-2.8104\n"
     ]
    },
    {
     "name": "stderr",
     "output_type": "stream",
     "text": [
      "epoch 0, layer 1:  49%|██████████████████████████████████▊                                    | 5399/11016 [13:44<14:18,  6.55it/s, loss=-7.14]"
     ]
    },
    {
     "name": "stdout",
     "output_type": "stream",
     "text": [
      "2025-07-21 22:26:48,090 — INFO — layer 1, [0:5399], loss=-3.0518\n",
      "2025-07-21 22:26:48,090 — INFO — layer 1, [0:5399], loss=-2.0820\n"
     ]
    },
    {
     "name": "stderr",
     "output_type": "stream",
     "text": [
      "epoch 0, layer 1:  49%|███████████████████████████████████▌                                    | 5449/11016 [13:51<14:49,  6.26it/s, loss=2.49]"
     ]
    },
    {
     "name": "stdout",
     "output_type": "stream",
     "text": [
      "2025-07-21 22:26:55,702 — INFO — layer 1, [0:5449], loss=-9.1628\n",
      "2025-07-21 22:26:55,702 — INFO — layer 1, [0:5449], loss=-3.6344\n"
     ]
    },
    {
     "name": "stderr",
     "output_type": "stream",
     "text": [
      "epoch 0, layer 1:  50%|███████████████████████████████████▍                                   | 5499/11016 [13:59<14:17,  6.43it/s, loss=-5.37]"
     ]
    },
    {
     "name": "stdout",
     "output_type": "stream",
     "text": [
      "2025-07-21 22:27:03,233 — INFO — layer 1, [0:5499], loss=-2.3400\n",
      "2025-07-21 22:27:03,233 — INFO — layer 1, [0:5499], loss=-2.5430\n"
     ]
    },
    {
     "name": "stderr",
     "output_type": "stream",
     "text": [
      "epoch 0, layer 1:  50%|███████████████████████████████████▊                                   | 5549/11016 [14:06<13:50,  6.59it/s, loss=-4.74]"
     ]
    },
    {
     "name": "stdout",
     "output_type": "stream",
     "text": [
      "2025-07-21 22:27:10,781 — INFO — layer 1, [0:5549], loss=-2.1109\n",
      "2025-07-21 22:27:10,781 — INFO — layer 1, [0:5549], loss=2.4587\n"
     ]
    },
    {
     "name": "stderr",
     "output_type": "stream",
     "text": [
      "epoch 0, layer 1:  51%|████████████████████████████████████                                   | 5599/11016 [14:14<13:51,  6.51it/s, loss=-1.69]"
     ]
    },
    {
     "name": "stdout",
     "output_type": "stream",
     "text": [
      "2025-07-21 22:27:18,499 — INFO — layer 1, [0:5599], loss=-16.3513\n",
      "2025-07-21 22:27:18,499 — INFO — layer 1, [0:5599], loss=1.6287\n"
     ]
    },
    {
     "name": "stderr",
     "output_type": "stream",
     "text": [
      "epoch 0, layer 1:  51%|████████████████████████████████████▍                                  | 5649/11016 [14:22<13:50,  6.46it/s, loss=-2.71]"
     ]
    },
    {
     "name": "stdout",
     "output_type": "stream",
     "text": [
      "2025-07-21 22:27:26,048 — INFO — layer 1, [0:5649], loss=-4.6392\n",
      "2025-07-21 22:27:26,049 — INFO — layer 1, [0:5649], loss=-10.4457\n"
     ]
    },
    {
     "name": "stderr",
     "output_type": "stream",
     "text": [
      "epoch 0, layer 1:  52%|████████████████████████████████████▋                                  | 5699/11016 [14:29<13:58,  6.34it/s, loss=-5.91]"
     ]
    },
    {
     "name": "stdout",
     "output_type": "stream",
     "text": [
      "2025-07-21 22:27:33,690 — INFO — layer 1, [0:5699], loss=-8.3534\n",
      "2025-07-21 22:27:33,690 — INFO — layer 1, [0:5699], loss=-5.5795\n"
     ]
    },
    {
     "name": "stderr",
     "output_type": "stream",
     "text": [
      "epoch 0, layer 1:  52%|████████████████████████████████████▌                                 | 5749/11016 [14:37<14:01,  6.26it/s, loss=-0.777]"
     ]
    },
    {
     "name": "stdout",
     "output_type": "stream",
     "text": [
      "2025-07-21 22:27:41,213 — INFO — layer 1, [0:5749], loss=-1.0461\n",
      "2025-07-21 22:27:41,213 — INFO — layer 1, [0:5749], loss=-1.6896\n"
     ]
    },
    {
     "name": "stderr",
     "output_type": "stream",
     "text": [
      "epoch 0, layer 1:  53%|█████████████████████████████████████▉                                  | 5799/11016 [14:45<13:15,  6.56it/s, loss=2.12]"
     ]
    },
    {
     "name": "stdout",
     "output_type": "stream",
     "text": [
      "2025-07-21 22:27:48,875 — INFO — layer 1, [0:5799], loss=-15.1603\n",
      "2025-07-21 22:27:48,875 — INFO — layer 1, [0:5799], loss=0.9202\n"
     ]
    },
    {
     "name": "stderr",
     "output_type": "stream",
     "text": [
      "epoch 0, layer 1:  53%|█████████████████████████████████████▋                                 | 5849/11016 [14:52<13:28,  6.39it/s, loss=0.075]"
     ]
    },
    {
     "name": "stdout",
     "output_type": "stream",
     "text": [
      "2025-07-21 22:27:56,487 — INFO — layer 1, [0:5849], loss=1.0840\n",
      "2025-07-21 22:27:56,487 — INFO — layer 1, [0:5849], loss=-10.3465\n"
     ]
    },
    {
     "name": "stderr",
     "output_type": "stream",
     "text": [
      "epoch 0, layer 1:  54%|██████████████████████████████████████                                 | 5899/11016 [15:00<13:02,  6.54it/s, loss=-3.82]"
     ]
    },
    {
     "name": "stdout",
     "output_type": "stream",
     "text": [
      "2025-07-21 22:28:04,114 — INFO — layer 1, [0:5899], loss=-11.7374\n",
      "2025-07-21 22:28:04,114 — INFO — layer 1, [0:5899], loss=-3.3032\n"
     ]
    },
    {
     "name": "stderr",
     "output_type": "stream",
     "text": [
      "epoch 0, layer 1:  54%|██████████████████████████████████████▎                                | 5949/11016 [15:07<12:09,  6.94it/s, loss=-2.27]"
     ]
    },
    {
     "name": "stdout",
     "output_type": "stream",
     "text": [
      "2025-07-21 22:28:11,688 — INFO — layer 1, [0:5949], loss=-2.1041\n",
      "2025-07-21 22:28:11,688 — INFO — layer 1, [0:5949], loss=-3.8074\n"
     ]
    },
    {
     "name": "stderr",
     "output_type": "stream",
     "text": [
      "epoch 0, layer 1:  54%|██████████████████████████████████████▋                                | 5999/11016 [15:15<12:57,  6.45it/s, loss=-5.56]"
     ]
    },
    {
     "name": "stdout",
     "output_type": "stream",
     "text": [
      "2025-07-21 22:28:19,176 — INFO — layer 1, [0:5999], loss=0.4812\n",
      "2025-07-21 22:28:19,176 — INFO — layer 1, [0:5999], loss=-4.3875\n"
     ]
    },
    {
     "name": "stderr",
     "output_type": "stream",
     "text": [
      "epoch 0, layer 1:  55%|██████████████████████████████████████▉                                | 6049/11016 [15:23<13:19,  6.21it/s, loss=-8.82]"
     ]
    },
    {
     "name": "stdout",
     "output_type": "stream",
     "text": [
      "2025-07-21 22:28:26,830 — INFO — layer 1, [0:6049], loss=-6.2444\n",
      "2025-07-21 22:28:26,830 — INFO — layer 1, [0:6049], loss=-3.1378\n"
     ]
    },
    {
     "name": "stderr",
     "output_type": "stream",
     "text": [
      "epoch 0, layer 1:  55%|███████████████████████████████████████▎                               | 6099/11016 [15:30<12:06,  6.77it/s, loss=-2.82]"
     ]
    },
    {
     "name": "stdout",
     "output_type": "stream",
     "text": [
      "2025-07-21 22:28:34,420 — INFO — layer 1, [0:6099], loss=1.7218\n",
      "2025-07-21 22:28:34,420 — INFO — layer 1, [0:6099], loss=0.3554\n"
     ]
    },
    {
     "name": "stderr",
     "output_type": "stream",
     "text": [
      "epoch 0, layer 1:  56%|███████████████████████████████████████▋                               | 6149/11016 [15:38<12:19,  6.58it/s, loss=0.576]"
     ]
    },
    {
     "name": "stdout",
     "output_type": "stream",
     "text": [
      "2025-07-21 22:28:42,050 — INFO — layer 1, [0:6149], loss=-6.7766\n",
      "2025-07-21 22:28:42,050 — INFO — layer 1, [0:6149], loss=-0.5268\n"
     ]
    },
    {
     "name": "stderr",
     "output_type": "stream",
     "text": [
      "epoch 0, layer 1:  56%|███████████████████████████████████████▉                               | 6199/11016 [15:45<12:15,  6.55it/s, loss=-8.71]"
     ]
    },
    {
     "name": "stdout",
     "output_type": "stream",
     "text": [
      "2025-07-21 22:28:49,763 — INFO — layer 1, [0:6199], loss=-16.0858\n",
      "2025-07-21 22:28:49,763 — INFO — layer 1, [0:6199], loss=-3.1287\n"
     ]
    },
    {
     "name": "stderr",
     "output_type": "stream",
     "text": [
      "epoch 0, layer 1:  57%|████████████████████████████████████████▎                              | 6249/11016 [15:53<12:19,  6.44it/s, loss=-12.4]"
     ]
    },
    {
     "name": "stdout",
     "output_type": "stream",
     "text": [
      "2025-07-21 22:28:57,483 — INFO — layer 1, [0:6249], loss=-14.2334\n",
      "2025-07-21 22:28:57,483 — INFO — layer 1, [0:6249], loss=-5.9523\n"
     ]
    },
    {
     "name": "stderr",
     "output_type": "stream",
     "text": [
      "epoch 0, layer 1:  57%|████████████████████████████████████████                              | 6299/11016 [16:01<11:45,  6.69it/s, loss=-0.481]"
     ]
    },
    {
     "name": "stdout",
     "output_type": "stream",
     "text": [
      "2025-07-21 22:29:05,260 — INFO — layer 1, [0:6299], loss=-4.4060\n",
      "2025-07-21 22:29:05,260 — INFO — layer 1, [0:6299], loss=-10.4893\n"
     ]
    },
    {
     "name": "stderr",
     "output_type": "stream",
     "text": [
      "epoch 0, layer 1:  58%|████████████████████████████████████████▉                              | 6349/11016 [16:09<12:11,  6.38it/s, loss=-6.76]"
     ]
    },
    {
     "name": "stdout",
     "output_type": "stream",
     "text": [
      "2025-07-21 22:29:13,025 — INFO — layer 1, [0:6349], loss=-9.4787\n",
      "2025-07-21 22:29:13,025 — INFO — layer 1, [0:6349], loss=-6.3866\n"
     ]
    },
    {
     "name": "stderr",
     "output_type": "stream",
     "text": [
      "epoch 0, layer 1:  58%|█████████████████████████████████████████▏                             | 6399/11016 [16:16<10:57,  7.02it/s, loss=-4.81]"
     ]
    },
    {
     "name": "stdout",
     "output_type": "stream",
     "text": [
      "2025-07-21 22:29:20,489 — INFO — layer 1, [0:6399], loss=1.8429\n",
      "2025-07-21 22:29:20,489 — INFO — layer 1, [0:6399], loss=-4.4355\n"
     ]
    },
    {
     "name": "stderr",
     "output_type": "stream",
     "text": [
      "epoch 0, layer 1:  59%|█████████████████████████████████████████▌                             | 6449/11016 [16:24<11:35,  6.56it/s, loss=-10.7]"
     ]
    },
    {
     "name": "stdout",
     "output_type": "stream",
     "text": [
      "2025-07-21 22:29:28,104 — INFO — layer 1, [0:6449], loss=-2.5364\n",
      "2025-07-21 22:29:28,104 — INFO — layer 1, [0:6449], loss=-8.5059\n"
     ]
    },
    {
     "name": "stderr",
     "output_type": "stream",
     "text": [
      "epoch 0, layer 1:  59%|█████████████████████████████████████████▉                             | 6499/11016 [16:31<11:46,  6.40it/s, loss=-11.2]"
     ]
    },
    {
     "name": "stdout",
     "output_type": "stream",
     "text": [
      "2025-07-21 22:29:35,744 — INFO — layer 1, [0:6499], loss=-0.6242\n",
      "2025-07-21 22:29:35,744 — INFO — layer 1, [0:6499], loss=-4.3069\n"
     ]
    },
    {
     "name": "stderr",
     "output_type": "stream",
     "text": [
      "epoch 0, layer 1:  59%|██████████████████████████████████████████▏                            | 6549/11016 [16:39<11:11,  6.66it/s, loss=-2.58]"
     ]
    },
    {
     "name": "stdout",
     "output_type": "stream",
     "text": [
      "2025-07-21 22:29:43,376 — INFO — layer 1, [0:6549], loss=-8.6906\n",
      "2025-07-21 22:29:43,376 — INFO — layer 1, [0:6549], loss=-8.0046\n"
     ]
    },
    {
     "name": "stderr",
     "output_type": "stream",
     "text": [
      "epoch 0, layer 1:  60%|██████████████████████████████████████████▌                            | 6599/11016 [16:47<10:30,  7.01it/s, loss=-17.6]"
     ]
    },
    {
     "name": "stdout",
     "output_type": "stream",
     "text": [
      "2025-07-21 22:29:50,971 — INFO — layer 1, [0:6599], loss=-12.0231\n",
      "2025-07-21 22:29:50,971 — INFO — layer 1, [0:6599], loss=-3.6771\n"
     ]
    },
    {
     "name": "stderr",
     "output_type": "stream",
     "text": [
      "epoch 0, layer 1:  60%|███████████████████████████████████████████▍                            | 6649/11016 [16:54<11:59,  6.07it/s, loss=2.33]"
     ]
    },
    {
     "name": "stdout",
     "output_type": "stream",
     "text": [
      "2025-07-21 22:29:58,551 — INFO — layer 1, [0:6649], loss=-3.3948\n",
      "2025-07-21 22:29:58,551 — INFO — layer 1, [0:6649], loss=-20.7023\n"
     ]
    },
    {
     "name": "stderr",
     "output_type": "stream",
     "text": [
      "epoch 0, layer 1:  61%|███████████████████████████████████████████▏                           | 6699/11016 [17:02<10:57,  6.56it/s, loss=-13.5]"
     ]
    },
    {
     "name": "stdout",
     "output_type": "stream",
     "text": [
      "2025-07-21 22:30:06,348 — INFO — layer 1, [0:6699], loss=-10.0784\n",
      "2025-07-21 22:30:06,348 — INFO — layer 1, [0:6699], loss=-6.2958\n"
     ]
    },
    {
     "name": "stderr",
     "output_type": "stream",
     "text": [
      "epoch 0, layer 1:  61%|███████████████████████████████████████████▍                           | 6749/11016 [17:10<10:19,  6.89it/s, loss=-3.29]"
     ]
    },
    {
     "name": "stdout",
     "output_type": "stream",
     "text": [
      "2025-07-21 22:30:13,962 — INFO — layer 1, [0:6749], loss=0.2251\n",
      "2025-07-21 22:30:13,962 — INFO — layer 1, [0:6749], loss=-2.6917\n"
     ]
    },
    {
     "name": "stderr",
     "output_type": "stream",
     "text": [
      "epoch 0, layer 1:  62%|███████████████████████████████████████████▊                           | 6799/11016 [17:17<10:15,  6.85it/s, loss=-5.93]"
     ]
    },
    {
     "name": "stdout",
     "output_type": "stream",
     "text": [
      "2025-07-21 22:30:21,712 — INFO — layer 1, [0:6799], loss=-5.8609\n",
      "2025-07-21 22:30:21,712 — INFO — layer 1, [0:6799], loss=-7.9066\n"
     ]
    },
    {
     "name": "stderr",
     "output_type": "stream",
     "text": [
      "epoch 0, layer 1:  62%|████████████████████████████████████████████▏                          | 6849/11016 [17:25<10:18,  6.74it/s, loss=-2.53]"
     ]
    },
    {
     "name": "stdout",
     "output_type": "stream",
     "text": [
      "2025-07-21 22:30:29,449 — INFO — layer 1, [0:6849], loss=-7.7003\n",
      "2025-07-21 22:30:29,449 — INFO — layer 1, [0:6849], loss=-14.3269\n"
     ]
    },
    {
     "name": "stderr",
     "output_type": "stream",
     "text": [
      "epoch 0, layer 1:  63%|████████████████████████████████████████████▍                          | 6899/11016 [17:33<10:02,  6.83it/s, loss=-2.35]"
     ]
    },
    {
     "name": "stdout",
     "output_type": "stream",
     "text": [
      "2025-07-21 22:30:36,916 — INFO — layer 1, [0:6899], loss=-3.7903\n",
      "2025-07-21 22:30:36,916 — INFO — layer 1, [0:6899], loss=-8.9615\n"
     ]
    },
    {
     "name": "stderr",
     "output_type": "stream",
     "text": [
      "epoch 0, layer 1:  63%|████████████████████████████████████████████▊                          | 6949/11016 [17:40<10:09,  6.67it/s, loss=-9.32]"
     ]
    },
    {
     "name": "stdout",
     "output_type": "stream",
     "text": [
      "2025-07-21 22:30:44,465 — INFO — layer 1, [0:6949], loss=-14.4838\n",
      "2025-07-21 22:30:44,465 — INFO — layer 1, [0:6949], loss=-5.8647\n"
     ]
    },
    {
     "name": "stderr",
     "output_type": "stream",
     "text": [
      "epoch 0, layer 1:  64%|█████████████████████████████████████████████                          | 6999/11016 [17:48<09:45,  6.86it/s, loss=-8.28]"
     ]
    },
    {
     "name": "stdout",
     "output_type": "stream",
     "text": [
      "2025-07-21 22:30:52,144 — INFO — layer 1, [0:6999], loss=-18.2699\n",
      "2025-07-21 22:30:52,144 — INFO — layer 1, [0:6999], loss=-3.6310\n"
     ]
    },
    {
     "name": "stderr",
     "output_type": "stream",
     "text": [
      "epoch 0, layer 1:  64%|█████████████████████████████████████████████▍                         | 7049/11016 [17:56<11:03,  5.98it/s, loss=-11.7]"
     ]
    },
    {
     "name": "stdout",
     "output_type": "stream",
     "text": [
      "2025-07-21 22:30:59,902 — INFO — layer 1, [0:7049], loss=-3.4058\n",
      "2025-07-21 22:30:59,902 — INFO — layer 1, [0:7049], loss=-4.8452\n"
     ]
    },
    {
     "name": "stderr",
     "output_type": "stream",
     "text": [
      "epoch 0, layer 1:  64%|██████████████████████████████████████████████▍                         | 7099/11016 [18:03<10:34,  6.18it/s, loss=1.86]"
     ]
    },
    {
     "name": "stdout",
     "output_type": "stream",
     "text": [
      "2025-07-21 22:31:07,518 — INFO — layer 1, [0:7099], loss=-11.6678\n",
      "2025-07-21 22:31:07,518 — INFO — layer 1, [0:7099], loss=-12.4216\n"
     ]
    },
    {
     "name": "stderr",
     "output_type": "stream",
     "text": [
      "epoch 0, layer 1:  65%|██████████████████████████████████████████████▋                         | 7149/11016 [18:11<09:19,  6.91it/s, loss=2.77]"
     ]
    },
    {
     "name": "stdout",
     "output_type": "stream",
     "text": [
      "2025-07-21 22:31:15,071 — INFO — layer 1, [0:7149], loss=-4.3872\n",
      "2025-07-21 22:31:15,071 — INFO — layer 1, [0:7149], loss=-4.3045\n"
     ]
    },
    {
     "name": "stderr",
     "output_type": "stream",
     "text": [
      "epoch 0, layer 1:  65%|██████████████████████████████████████████████▍                        | 7199/11016 [18:18<09:51,  6.45it/s, loss=-1.43]"
     ]
    },
    {
     "name": "stdout",
     "output_type": "stream",
     "text": [
      "2025-07-21 22:31:22,717 — INFO — layer 1, [0:7199], loss=-2.4503\n",
      "2025-07-21 22:31:22,717 — INFO — layer 1, [0:7199], loss=-9.2236\n"
     ]
    },
    {
     "name": "stderr",
     "output_type": "stream",
     "text": [
      "epoch 0, layer 1:  66%|██████████████████████████████████████████████▋                        | 7249/11016 [18:26<09:45,  6.43it/s, loss=-12.7]"
     ]
    },
    {
     "name": "stdout",
     "output_type": "stream",
     "text": [
      "2025-07-21 22:31:30,569 — INFO — layer 1, [0:7249], loss=-3.3272\n",
      "2025-07-21 22:31:30,569 — INFO — layer 1, [0:7249], loss=0.7951\n"
     ]
    },
    {
     "name": "stderr",
     "output_type": "stream",
     "text": [
      "epoch 0, layer 1:  66%|███████████████████████████████████████████████                        | 7299/11016 [18:34<09:12,  6.72it/s, loss=-10.8]"
     ]
    },
    {
     "name": "stdout",
     "output_type": "stream",
     "text": [
      "2025-07-21 22:31:38,256 — INFO — layer 1, [0:7299], loss=-15.1802\n",
      "2025-07-21 22:31:38,256 — INFO — layer 1, [0:7299], loss=-3.7266\n"
     ]
    },
    {
     "name": "stderr",
     "output_type": "stream",
     "text": [
      "epoch 0, layer 1:  67%|███████████████████████████████████████████████▎                       | 7349/11016 [18:42<09:39,  6.33it/s, loss=-10.1]"
     ]
    },
    {
     "name": "stdout",
     "output_type": "stream",
     "text": [
      "2025-07-21 22:31:46,038 — INFO — layer 1, [0:7349], loss=-6.0504\n",
      "2025-07-21 22:31:46,038 — INFO — layer 1, [0:7349], loss=-1.1054\n"
     ]
    },
    {
     "name": "stderr",
     "output_type": "stream",
     "text": [
      "epoch 0, layer 1:  67%|███████████████████████████████████████████████▋                       | 7399/11016 [18:49<08:46,  6.86it/s, loss=-5.62]"
     ]
    },
    {
     "name": "stdout",
     "output_type": "stream",
     "text": [
      "2025-07-21 22:31:53,675 — INFO — layer 1, [0:7399], loss=-1.2591\n",
      "2025-07-21 22:31:53,675 — INFO — layer 1, [0:7399], loss=-10.7243\n"
     ]
    },
    {
     "name": "stderr",
     "output_type": "stream",
     "text": [
      "epoch 0, layer 1:  68%|████████████████████████████████████████████████                       | 7449/11016 [18:57<08:50,  6.73it/s, loss=-7.08]"
     ]
    },
    {
     "name": "stdout",
     "output_type": "stream",
     "text": [
      "2025-07-21 22:32:01,389 — INFO — layer 1, [0:7449], loss=-8.5743\n",
      "2025-07-21 22:32:01,389 — INFO — layer 1, [0:7449], loss=-9.4476\n"
     ]
    },
    {
     "name": "stderr",
     "output_type": "stream",
     "text": [
      "epoch 0, layer 1:  68%|██████████████████████████████████████████████▉                      | 7499/11016 [19:05<09:09,  6.40it/s, loss=-0.0356]"
     ]
    },
    {
     "name": "stdout",
     "output_type": "stream",
     "text": [
      "2025-07-21 22:32:09,077 — INFO — layer 1, [0:7499], loss=-7.9205\n",
      "2025-07-21 22:32:09,077 — INFO — layer 1, [0:7499], loss=-4.6163\n"
     ]
    },
    {
     "name": "stderr",
     "output_type": "stream",
     "text": [
      "epoch 0, layer 1:  69%|████████████████████████████████████████████████▋                      | 7549/11016 [19:12<09:02,  6.39it/s, loss=-2.65]"
     ]
    },
    {
     "name": "stdout",
     "output_type": "stream",
     "text": [
      "2025-07-21 22:32:16,656 — INFO — layer 1, [0:7549], loss=-3.2029\n",
      "2025-07-21 22:32:16,656 — INFO — layer 1, [0:7549], loss=-5.3610\n"
     ]
    },
    {
     "name": "stderr",
     "output_type": "stream",
     "text": [
      "epoch 0, layer 1:  69%|█████████████████████████████████████████████████▋                      | 7599/11016 [19:20<08:36,  6.61it/s, loss=-7.1]"
     ]
    },
    {
     "name": "stdout",
     "output_type": "stream",
     "text": [
      "2025-07-21 22:32:24,310 — INFO — layer 1, [0:7599], loss=-7.2620\n",
      "2025-07-21 22:32:24,310 — INFO — layer 1, [0:7599], loss=-16.1866\n"
     ]
    },
    {
     "name": "stderr",
     "output_type": "stream",
     "text": [
      "epoch 0, layer 1:  69%|█████████████████████████████████████████████████▎                     | 7649/11016 [19:28<08:53,  6.31it/s, loss=-12.8]"
     ]
    },
    {
     "name": "stdout",
     "output_type": "stream",
     "text": [
      "2025-07-21 22:32:31,944 — INFO — layer 1, [0:7649], loss=-11.5766\n",
      "2025-07-21 22:32:31,944 — INFO — layer 1, [0:7649], loss=-5.6477\n"
     ]
    },
    {
     "name": "stderr",
     "output_type": "stream",
     "text": [
      "epoch 0, layer 1:  70%|█████████████████████████████████████████████████▌                     | 7699/11016 [19:35<08:28,  6.52it/s, loss=-19.5]"
     ]
    },
    {
     "name": "stdout",
     "output_type": "stream",
     "text": [
      "2025-07-21 22:32:39,546 — INFO — layer 1, [0:7699], loss=-12.2905\n",
      "2025-07-21 22:32:39,546 — INFO — layer 1, [0:7699], loss=-2.6168\n"
     ]
    },
    {
     "name": "stderr",
     "output_type": "stream",
     "text": [
      "epoch 0, layer 1:  70%|█████████████████████████████████████████████████▉                     | 7749/11016 [19:43<08:32,  6.37it/s, loss=-10.8]"
     ]
    },
    {
     "name": "stdout",
     "output_type": "stream",
     "text": [
      "2025-07-21 22:32:47,128 — INFO — layer 1, [0:7749], loss=-12.6467\n",
      "2025-07-21 22:32:47,128 — INFO — layer 1, [0:7749], loss=-6.7961\n"
     ]
    },
    {
     "name": "stderr",
     "output_type": "stream",
     "text": [
      "epoch 0, layer 1:  71%|██████████████████████████████████████████████████▎                    | 7799/11016 [19:50<08:30,  6.30it/s, loss=-8.51]"
     ]
    },
    {
     "name": "stdout",
     "output_type": "stream",
     "text": [
      "2025-07-21 22:32:54,773 — INFO — layer 1, [0:7799], loss=-13.2561\n",
      "2025-07-21 22:32:54,773 — INFO — layer 1, [0:7799], loss=-9.4913\n"
     ]
    },
    {
     "name": "stderr",
     "output_type": "stream",
     "text": [
      "epoch 0, layer 1:  71%|██████████████████████████████████████████████████▌                    | 7849/11016 [19:58<08:55,  5.92it/s, loss=-5.14]"
     ]
    },
    {
     "name": "stdout",
     "output_type": "stream",
     "text": [
      "2025-07-21 22:33:02,457 — INFO — layer 1, [0:7849], loss=-7.8526\n",
      "2025-07-21 22:33:02,457 — INFO — layer 1, [0:7849], loss=-8.7429\n"
     ]
    },
    {
     "name": "stderr",
     "output_type": "stream",
     "text": [
      "epoch 0, layer 1:  72%|██████████████████████████████████████████████████▉                    | 7899/11016 [20:06<07:40,  6.76it/s, loss=-9.97]"
     ]
    },
    {
     "name": "stdout",
     "output_type": "stream",
     "text": [
      "2025-07-21 22:33:10,045 — INFO — layer 1, [0:7899], loss=-10.7063\n",
      "2025-07-21 22:33:10,046 — INFO — layer 1, [0:7899], loss=-16.3203\n"
     ]
    },
    {
     "name": "stderr",
     "output_type": "stream",
     "text": [
      "epoch 0, layer 1:  72%|███████████████████████████████████████████████████▏                   | 7949/11016 [20:13<07:32,  6.78it/s, loss=-6.27]"
     ]
    },
    {
     "name": "stdout",
     "output_type": "stream",
     "text": [
      "2025-07-21 22:33:17,572 — INFO — layer 1, [0:7949], loss=-14.8038\n",
      "2025-07-21 22:33:17,572 — INFO — layer 1, [0:7949], loss=-13.6636\n"
     ]
    },
    {
     "name": "stderr",
     "output_type": "stream",
     "text": [
      "epoch 0, layer 1:  73%|███████████████████████████████████████████████████▌                   | 7999/11016 [20:21<08:13,  6.11it/s, loss=-16.6]"
     ]
    },
    {
     "name": "stdout",
     "output_type": "stream",
     "text": [
      "2025-07-21 22:33:25,271 — INFO — layer 1, [0:7999], loss=-9.8098\n",
      "2025-07-21 22:33:25,272 — INFO — layer 1, [0:7999], loss=-4.5555\n"
     ]
    },
    {
     "name": "stderr",
     "output_type": "stream",
     "text": [
      "epoch 0, layer 1:  73%|███████████████████████████████████████████████████▉                   | 8049/11016 [20:28<07:15,  6.81it/s, loss=-6.01]"
     ]
    },
    {
     "name": "stdout",
     "output_type": "stream",
     "text": [
      "2025-07-21 22:33:32,755 — INFO — layer 1, [0:8049], loss=2.0710\n",
      "2025-07-21 22:33:32,755 — INFO — layer 1, [0:8049], loss=-10.5225\n"
     ]
    },
    {
     "name": "stderr",
     "output_type": "stream",
     "text": [
      "epoch 0, layer 1:  74%|████████████████████████████████████████████████████▏                  | 8099/11016 [20:36<07:53,  6.16it/s, loss=-7.67]"
     ]
    },
    {
     "name": "stdout",
     "output_type": "stream",
     "text": [
      "2025-07-21 22:33:40,610 — INFO — layer 1, [0:8099], loss=-18.8006\n",
      "2025-07-21 22:33:40,610 — INFO — layer 1, [0:8099], loss=-11.9059\n"
     ]
    },
    {
     "name": "stderr",
     "output_type": "stream",
     "text": [
      "epoch 0, layer 1:  74%|████████████████████████████████████████████████████▌                  | 8149/11016 [20:44<07:12,  6.63it/s, loss=-9.99]"
     ]
    },
    {
     "name": "stdout",
     "output_type": "stream",
     "text": [
      "2025-07-21 22:33:48,182 — INFO — layer 1, [0:8149], loss=-20.2434\n",
      "2025-07-21 22:33:48,182 — INFO — layer 1, [0:8149], loss=-3.8662\n"
     ]
    },
    {
     "name": "stderr",
     "output_type": "stream",
     "text": [
      "epoch 0, layer 1:  74%|██████████████████████████████████████████████████████▎                  | 8199/11016 [20:51<07:03,  6.65it/s, loss=-10]"
     ]
    },
    {
     "name": "stdout",
     "output_type": "stream",
     "text": [
      "2025-07-21 22:33:55,759 — INFO — layer 1, [0:8199], loss=-3.9021\n",
      "2025-07-21 22:33:55,759 — INFO — layer 1, [0:8199], loss=-0.8043\n"
     ]
    },
    {
     "name": "stderr",
     "output_type": "stream",
     "text": [
      "epoch 0, layer 1:  75%|█████████████████████████████████████████████████████▏                 | 8249/11016 [20:59<07:17,  6.32it/s, loss=-15.2]"
     ]
    },
    {
     "name": "stdout",
     "output_type": "stream",
     "text": [
      "2025-07-21 22:34:03,464 — INFO — layer 1, [0:8249], loss=-9.0044\n",
      "2025-07-21 22:34:03,464 — INFO — layer 1, [0:8249], loss=-3.4118\n"
     ]
    },
    {
     "name": "stderr",
     "output_type": "stream",
     "text": [
      "epoch 0, layer 1:  75%|██████████████████████████████████████████████████████▏                 | 8299/11016 [21:07<06:25,  7.05it/s, loss=2.33]"
     ]
    },
    {
     "name": "stdout",
     "output_type": "stream",
     "text": [
      "2025-07-21 22:34:10,930 — INFO — layer 1, [0:8299], loss=1.4955\n",
      "2025-07-21 22:34:10,930 — INFO — layer 1, [0:8299], loss=-16.2292\n"
     ]
    },
    {
     "name": "stderr",
     "output_type": "stream",
     "text": [
      "epoch 0, layer 1:  76%|█████████████████████████████████████████████████████▊                 | 8349/11016 [21:14<06:20,  7.01it/s, loss=-7.59]"
     ]
    },
    {
     "name": "stdout",
     "output_type": "stream",
     "text": [
      "2025-07-21 22:34:18,366 — INFO — layer 1, [0:8349], loss=-14.9123\n",
      "2025-07-21 22:34:18,366 — INFO — layer 1, [0:8349], loss=-15.7417\n"
     ]
    },
    {
     "name": "stderr",
     "output_type": "stream",
     "text": [
      "epoch 0, layer 1:  76%|██████████████████████████████████████████████████████▏                | 8399/11016 [21:22<07:01,  6.21it/s, loss=-6.35]"
     ]
    },
    {
     "name": "stdout",
     "output_type": "stream",
     "text": [
      "2025-07-21 22:34:25,970 — INFO — layer 1, [0:8399], loss=-7.1441\n",
      "2025-07-21 22:34:25,970 — INFO — layer 1, [0:8399], loss=-14.2259\n"
     ]
    },
    {
     "name": "stderr",
     "output_type": "stream",
     "text": [
      "epoch 0, layer 1:  77%|██████████████████████████████████████████████████████▍                | 8449/11016 [21:29<06:35,  6.50it/s, loss=-4.09]"
     ]
    },
    {
     "name": "stdout",
     "output_type": "stream",
     "text": [
      "2025-07-21 22:34:33,702 — INFO — layer 1, [0:8449], loss=-5.2342\n",
      "2025-07-21 22:34:33,702 — INFO — layer 1, [0:8449], loss=-14.8798\n"
     ]
    },
    {
     "name": "stderr",
     "output_type": "stream",
     "text": [
      "epoch 0, layer 1:  77%|██████████████████████████████████████████████████████▊                | 8499/11016 [21:37<06:22,  6.58it/s, loss=-8.55]"
     ]
    },
    {
     "name": "stdout",
     "output_type": "stream",
     "text": [
      "2025-07-21 22:34:41,368 — INFO — layer 1, [0:8499], loss=-6.5099\n",
      "2025-07-21 22:34:41,368 — INFO — layer 1, [0:8499], loss=-13.3513\n"
     ]
    },
    {
     "name": "stderr",
     "output_type": "stream",
     "text": [
      "epoch 0, layer 1:  78%|███████████████████████████████████████████████████████                | 8549/11016 [21:45<06:29,  6.34it/s, loss=-7.74]"
     ]
    },
    {
     "name": "stdout",
     "output_type": "stream",
     "text": [
      "2025-07-21 22:34:48,974 — INFO — layer 1, [0:8549], loss=-4.9070\n",
      "2025-07-21 22:34:48,974 — INFO — layer 1, [0:8549], loss=2.1789\n"
     ]
    },
    {
     "name": "stderr",
     "output_type": "stream",
     "text": [
      "epoch 0, layer 1:  78%|███████████████████████████████████████████████████████▍               | 8599/11016 [21:52<05:50,  6.90it/s, loss=-7.45]"
     ]
    },
    {
     "name": "stdout",
     "output_type": "stream",
     "text": [
      "2025-07-21 22:34:56,471 — INFO — layer 1, [0:8599], loss=-9.9896\n",
      "2025-07-21 22:34:56,471 — INFO — layer 1, [0:8599], loss=-5.1124\n"
     ]
    },
    {
     "name": "stderr",
     "output_type": "stream",
     "text": [
      "epoch 0, layer 1:  79%|███████████████████████████████████████████████████████▋               | 8649/11016 [22:00<05:30,  7.16it/s, loss=-11.1]"
     ]
    },
    {
     "name": "stdout",
     "output_type": "stream",
     "text": [
      "2025-07-21 22:35:04,051 — INFO — layer 1, [0:8649], loss=-4.7435\n",
      "2025-07-21 22:35:04,051 — INFO — layer 1, [0:8649], loss=-1.7022\n"
     ]
    },
    {
     "name": "stderr",
     "output_type": "stream",
     "text": [
      "epoch 0, layer 1:  79%|████████████████████████████████████████████████████████               | 8699/11016 [22:07<05:50,  6.62it/s, loss=-1.97]"
     ]
    },
    {
     "name": "stdout",
     "output_type": "stream",
     "text": [
      "2025-07-21 22:35:11,686 — INFO — layer 1, [0:8699], loss=-6.8521\n",
      "2025-07-21 22:35:11,686 — INFO — layer 1, [0:8699], loss=-5.2272\n"
     ]
    },
    {
     "name": "stderr",
     "output_type": "stream",
     "text": [
      "epoch 0, layer 1:  79%|████████████████████████████████████████████████████████▍              | 8749/11016 [22:15<05:46,  6.53it/s, loss=-6.12]"
     ]
    },
    {
     "name": "stdout",
     "output_type": "stream",
     "text": [
      "2025-07-21 22:35:19,598 — INFO — layer 1, [0:8749], loss=-11.2832\n",
      "2025-07-21 22:35:19,598 — INFO — layer 1, [0:8749], loss=-5.3594\n"
     ]
    },
    {
     "name": "stderr",
     "output_type": "stream",
     "text": [
      "epoch 0, layer 1:  80%|██████████████████████████████████████████████████████████▎              | 8799/11016 [22:23<05:30,  6.70it/s, loss=0.6]"
     ]
    },
    {
     "name": "stdout",
     "output_type": "stream",
     "text": [
      "2025-07-21 22:35:27,448 — INFO — layer 1, [0:8799], loss=-5.0936\n",
      "2025-07-21 22:35:27,448 — INFO — layer 1, [0:8799], loss=-11.9841\n"
     ]
    },
    {
     "name": "stderr",
     "output_type": "stream",
     "text": [
      "epoch 0, layer 1:  80%|█████████████████████████████████████████████████████████              | 8849/11016 [22:31<05:25,  6.66it/s, loss=-11.6]"
     ]
    },
    {
     "name": "stdout",
     "output_type": "stream",
     "text": [
      "2025-07-21 22:35:35,092 — INFO — layer 1, [0:8849], loss=-9.5138\n",
      "2025-07-21 22:35:35,092 — INFO — layer 1, [0:8849], loss=-10.8254\n"
     ]
    },
    {
     "name": "stderr",
     "output_type": "stream",
     "text": [
      "epoch 0, layer 1:  81%|█████████████████████████████████████████████████████████▎             | 8899/11016 [22:38<05:17,  6.67it/s, loss=-8.65]"
     ]
    },
    {
     "name": "stdout",
     "output_type": "stream",
     "text": [
      "2025-07-21 22:35:42,712 — INFO — layer 1, [0:8899], loss=-10.7842\n",
      "2025-07-21 22:35:42,712 — INFO — layer 1, [0:8899], loss=3.5592\n"
     ]
    },
    {
     "name": "stderr",
     "output_type": "stream",
     "text": [
      "epoch 0, layer 1:  81%|█████████████████████████████████████████████████████████▋             | 8949/11016 [22:46<05:11,  6.63it/s, loss=-6.66]"
     ]
    },
    {
     "name": "stdout",
     "output_type": "stream",
     "text": [
      "2025-07-21 22:35:50,364 — INFO — layer 1, [0:8949], loss=-15.2100\n",
      "2025-07-21 22:35:50,364 — INFO — layer 1, [0:8949], loss=-10.4792\n"
     ]
    },
    {
     "name": "stderr",
     "output_type": "stream",
     "text": [
      "epoch 0, layer 1:  82%|██████████████████████████████████████████████████████████             | 8999/11016 [22:54<05:03,  6.65it/s, loss=-6.07]"
     ]
    },
    {
     "name": "stdout",
     "output_type": "stream",
     "text": [
      "2025-07-21 22:35:57,948 — INFO — layer 1, [0:8999], loss=-9.6660\n",
      "2025-07-21 22:35:57,948 — INFO — layer 1, [0:8999], loss=-10.7478\n"
     ]
    },
    {
     "name": "stderr",
     "output_type": "stream",
     "text": [
      "epoch 0, layer 1:  82%|██████████████████████████████████████████████████████████▎            | 9049/11016 [23:01<05:01,  6.53it/s, loss=-12.9]"
     ]
    },
    {
     "name": "stdout",
     "output_type": "stream",
     "text": [
      "2025-07-21 22:36:05,424 — INFO — layer 1, [0:9049], loss=-0.4760\n",
      "2025-07-21 22:36:05,424 — INFO — layer 1, [0:9049], loss=-7.6631\n"
     ]
    },
    {
     "name": "stderr",
     "output_type": "stream",
     "text": [
      "epoch 0, layer 1:  83%|██████████████████████████████████████████████████████████▋            | 9099/11016 [23:09<05:03,  6.31it/s, loss=-2.33]"
     ]
    },
    {
     "name": "stdout",
     "output_type": "stream",
     "text": [
      "2025-07-21 22:36:12,950 — INFO — layer 1, [0:9099], loss=-8.3192\n",
      "2025-07-21 22:36:12,950 — INFO — layer 1, [0:9099], loss=-9.1462\n"
     ]
    },
    {
     "name": "stderr",
     "output_type": "stream",
     "text": [
      "epoch 0, layer 1:  83%|██████████████████████████████████████████████████████████▉            | 9149/11016 [23:16<04:44,  6.55it/s, loss=-13.5]"
     ]
    },
    {
     "name": "stdout",
     "output_type": "stream",
     "text": [
      "2025-07-21 22:36:20,547 — INFO — layer 1, [0:9149], loss=-15.7060\n",
      "2025-07-21 22:36:20,547 — INFO — layer 1, [0:9149], loss=-17.9867\n"
     ]
    },
    {
     "name": "stderr",
     "output_type": "stream",
     "text": [
      "epoch 0, layer 1:  84%|███████████████████████████████████████████████████████████▎           | 9199/11016 [23:24<04:34,  6.63it/s, loss=-4.62]"
     ]
    },
    {
     "name": "stdout",
     "output_type": "stream",
     "text": [
      "2025-07-21 22:36:28,009 — INFO — layer 1, [0:9199], loss=-14.5006\n",
      "2025-07-21 22:36:28,009 — INFO — layer 1, [0:9199], loss=-5.1966\n"
     ]
    },
    {
     "name": "stderr",
     "output_type": "stream",
     "text": [
      "epoch 0, layer 1:  84%|███████████████████████████████████████████████████████████▌           | 9249/11016 [23:31<04:35,  6.41it/s, loss=-15.1]"
     ]
    },
    {
     "name": "stdout",
     "output_type": "stream",
     "text": [
      "2025-07-21 22:36:35,792 — INFO — layer 1, [0:9249], loss=-5.9334\n",
      "2025-07-21 22:36:35,792 — INFO — layer 1, [0:9249], loss=-13.1036\n"
     ]
    },
    {
     "name": "stderr",
     "output_type": "stream",
     "text": [
      "epoch 0, layer 1:  84%|███████████████████████████████████████████████████████████▉           | 9299/11016 [23:39<04:20,  6.59it/s, loss=-3.41]"
     ]
    },
    {
     "name": "stdout",
     "output_type": "stream",
     "text": [
      "2025-07-21 22:36:43,498 — INFO — layer 1, [0:9299], loss=-4.6007\n",
      "2025-07-21 22:36:43,498 — INFO — layer 1, [0:9299], loss=-0.7382\n"
     ]
    },
    {
     "name": "stderr",
     "output_type": "stream",
     "text": [
      "epoch 0, layer 1:  85%|████████████████████████████████████████████████████████████▎          | 9349/11016 [23:47<04:11,  6.64it/s, loss=-5.35]"
     ]
    },
    {
     "name": "stdout",
     "output_type": "stream",
     "text": [
      "2025-07-21 22:36:51,113 — INFO — layer 1, [0:9349], loss=-2.2053\n",
      "2025-07-21 22:36:51,113 — INFO — layer 1, [0:9349], loss=-1.3892\n"
     ]
    },
    {
     "name": "stderr",
     "output_type": "stream",
     "text": [
      "epoch 0, layer 1:  85%|██████████████████████████████████████████████████████████████▎          | 9399/11016 [23:54<03:51,  6.98it/s, loss=-13]"
     ]
    },
    {
     "name": "stdout",
     "output_type": "stream",
     "text": [
      "2025-07-21 22:36:58,630 — INFO — layer 1, [0:9399], loss=-15.8330\n",
      "2025-07-21 22:36:58,630 — INFO — layer 1, [0:9399], loss=-3.6084\n"
     ]
    },
    {
     "name": "stderr",
     "output_type": "stream",
     "text": [
      "epoch 0, layer 1:  86%|████████████████████████████████████████████████████████████▉          | 9449/11016 [24:02<04:05,  6.39it/s, loss=-12.5]"
     ]
    },
    {
     "name": "stdout",
     "output_type": "stream",
     "text": [
      "2025-07-21 22:37:06,131 — INFO — layer 1, [0:9449], loss=-16.9992\n",
      "2025-07-21 22:37:06,131 — INFO — layer 1, [0:9449], loss=-14.4885\n"
     ]
    },
    {
     "name": "stderr",
     "output_type": "stream",
     "text": [
      "epoch 0, layer 1:  86%|█████████████████████████████████████████████████████████████▏         | 9499/11016 [24:09<03:39,  6.92it/s, loss=-17.3]"
     ]
    },
    {
     "name": "stdout",
     "output_type": "stream",
     "text": [
      "2025-07-21 22:37:13,589 — INFO — layer 1, [0:9499], loss=-7.9419\n",
      "2025-07-21 22:37:13,589 — INFO — layer 1, [0:9499], loss=-7.6775\n"
     ]
    },
    {
     "name": "stderr",
     "output_type": "stream",
     "text": [
      "epoch 0, layer 1:  87%|██████████████████████████████████████████████████████████████▍         | 9549/11016 [24:17<03:45,  6.51it/s, loss=1.82]"
     ]
    },
    {
     "name": "stdout",
     "output_type": "stream",
     "text": [
      "2025-07-21 22:37:21,293 — INFO — layer 1, [0:9549], loss=-1.8011\n",
      "2025-07-21 22:37:21,293 — INFO — layer 1, [0:9549], loss=-11.3403\n"
     ]
    },
    {
     "name": "stderr",
     "output_type": "stream",
     "text": [
      "epoch 0, layer 1:  87%|█████████████████████████████████████████████████████████████▊         | 9599/11016 [24:25<03:38,  6.48it/s, loss=-5.97]"
     ]
    },
    {
     "name": "stdout",
     "output_type": "stream",
     "text": [
      "2025-07-21 22:37:28,818 — INFO — layer 1, [0:9599], loss=-4.7112\n",
      "2025-07-21 22:37:28,818 — INFO — layer 1, [0:9599], loss=-2.7692\n"
     ]
    },
    {
     "name": "stderr",
     "output_type": "stream",
     "text": [
      "epoch 0, layer 1:  88%|██████████████████████████████████████████████████████████████▏        | 9649/11016 [24:32<03:48,  5.99it/s, loss=-16.8]"
     ]
    },
    {
     "name": "stdout",
     "output_type": "stream",
     "text": [
      "2025-07-21 22:37:36,586 — INFO — layer 1, [0:9649], loss=-4.6908\n",
      "2025-07-21 22:37:36,586 — INFO — layer 1, [0:9649], loss=-9.9057\n"
     ]
    },
    {
     "name": "stderr",
     "output_type": "stream",
     "text": [
      "epoch 0, layer 1:  88%|██████████████████████████████████████████████████████████████▌        | 9699/11016 [24:40<03:21,  6.53it/s, loss=-6.82]"
     ]
    },
    {
     "name": "stdout",
     "output_type": "stream",
     "text": [
      "2025-07-21 22:37:44,161 — INFO — layer 1, [0:9699], loss=0.3337\n",
      "2025-07-21 22:37:44,161 — INFO — layer 1, [0:9699], loss=-3.1972\n"
     ]
    },
    {
     "name": "stderr",
     "output_type": "stream",
     "text": [
      "epoch 0, layer 1:  88%|█████████████████████████████████████████████████████████████▉        | 9749/11016 [24:47<03:09,  6.68it/s, loss=-0.521]"
     ]
    },
    {
     "name": "stdout",
     "output_type": "stream",
     "text": [
      "2025-07-21 22:37:51,644 — INFO — layer 1, [0:9749], loss=-8.9025\n",
      "2025-07-21 22:37:51,644 — INFO — layer 1, [0:9749], loss=-11.2976\n"
     ]
    },
    {
     "name": "stderr",
     "output_type": "stream",
     "text": [
      "epoch 0, layer 1:  89%|███████████████████████████████████████████████████████████████▏       | 9799/11016 [24:55<02:56,  6.88it/s, loss=-16.4]"
     ]
    },
    {
     "name": "stdout",
     "output_type": "stream",
     "text": [
      "2025-07-21 22:37:59,333 — INFO — layer 1, [0:9799], loss=-12.2564\n",
      "2025-07-21 22:37:59,333 — INFO — layer 1, [0:9799], loss=-9.3847\n"
     ]
    },
    {
     "name": "stderr",
     "output_type": "stream",
     "text": [
      "epoch 0, layer 1:  89%|███████████████████████████████████████████████████████████████▍       | 9849/11016 [25:03<02:53,  6.74it/s, loss=-5.41]"
     ]
    },
    {
     "name": "stdout",
     "output_type": "stream",
     "text": [
      "2025-07-21 22:38:06,864 — INFO — layer 1, [0:9849], loss=1.7556\n",
      "2025-07-21 22:38:06,864 — INFO — layer 1, [0:9849], loss=-6.8019\n"
     ]
    },
    {
     "name": "stderr",
     "output_type": "stream",
     "text": [
      "epoch 0, layer 1:  90%|███████████████████████████████████████████████████████████████▊       | 9899/11016 [25:10<02:51,  6.51it/s, loss=0.147]"
     ]
    },
    {
     "name": "stdout",
     "output_type": "stream",
     "text": [
      "2025-07-21 22:38:14,527 — INFO — layer 1, [0:9899], loss=-8.8100\n",
      "2025-07-21 22:38:14,527 — INFO — layer 1, [0:9899], loss=-7.2762\n"
     ]
    },
    {
     "name": "stderr",
     "output_type": "stream",
     "text": [
      "epoch 0, layer 1:  90%|████████████████████████████████████████████████████████████████       | 9949/11016 [25:18<02:40,  6.66it/s, loss=-14.4]"
     ]
    },
    {
     "name": "stdout",
     "output_type": "stream",
     "text": [
      "2025-07-21 22:38:22,045 — INFO — layer 1, [0:9949], loss=-2.1437\n",
      "2025-07-21 22:38:22,045 — INFO — layer 1, [0:9949], loss=-13.6863\n"
     ]
    },
    {
     "name": "stderr",
     "output_type": "stream",
     "text": [
      "epoch 0, layer 1:  91%|████████████████████████████████████████████████████████████████▍      | 9999/11016 [25:25<02:28,  6.86it/s, loss=-3.78]"
     ]
    },
    {
     "name": "stdout",
     "output_type": "stream",
     "text": [
      "2025-07-21 22:38:29,587 — INFO — layer 1, [0:9999], loss=-16.1401\n",
      "2025-07-21 22:38:29,587 — INFO — layer 1, [0:9999], loss=-13.5272\n"
     ]
    },
    {
     "name": "stderr",
     "output_type": "stream",
     "text": [
      "epoch 0, layer 1:  91%|███████████████████████████████████████████████████████████████▊      | 10049/11016 [25:33<02:22,  6.79it/s, loss=-2.06]"
     ]
    },
    {
     "name": "stdout",
     "output_type": "stream",
     "text": [
      "2025-07-21 22:38:37,332 — INFO — layer 1, [0:10049], loss=1.0515\n",
      "2025-07-21 22:38:37,333 — INFO — layer 1, [0:10049], loss=-11.6679\n"
     ]
    },
    {
     "name": "stderr",
     "output_type": "stream",
     "text": [
      "epoch 0, layer 1:  92%|██████████████████████████████████████████████████████████████████      | 10099/11016 [25:41<02:16,  6.70it/s, loss=-13]"
     ]
    },
    {
     "name": "stdout",
     "output_type": "stream",
     "text": [
      "2025-07-21 22:38:44,962 — INFO — layer 1, [0:10099], loss=-6.2222\n",
      "2025-07-21 22:38:44,962 — INFO — layer 1, [0:10099], loss=-16.6702\n"
     ]
    },
    {
     "name": "stderr",
     "output_type": "stream",
     "text": [
      "epoch 0, layer 1:  92%|████████████████████████████████████████████████████████████████▍     | 10149/11016 [25:48<02:09,  6.68it/s, loss=-6.61]"
     ]
    },
    {
     "name": "stdout",
     "output_type": "stream",
     "text": [
      "2025-07-21 22:38:52,569 — INFO — layer 1, [0:10149], loss=-13.5971\n",
      "2025-07-21 22:38:52,569 — INFO — layer 1, [0:10149], loss=-5.3720\n"
     ]
    },
    {
     "name": "stderr",
     "output_type": "stream",
     "text": [
      "epoch 0, layer 1:  93%|████████████████████████████████████████████████████████████████▊     | 10199/11016 [25:56<02:04,  6.57it/s, loss=-5.51]"
     ]
    },
    {
     "name": "stdout",
     "output_type": "stream",
     "text": [
      "2025-07-21 22:39:00,105 — INFO — layer 1, [0:10199], loss=-11.5079\n",
      "2025-07-21 22:39:00,105 — INFO — layer 1, [0:10199], loss=-11.5450\n"
     ]
    },
    {
     "name": "stderr",
     "output_type": "stream",
     "text": [
      "epoch 0, layer 1:  93%|█████████████████████████████████████████████████████████████████▏    | 10249/11016 [26:03<02:01,  6.31it/s, loss=-15.6]"
     ]
    },
    {
     "name": "stdout",
     "output_type": "stream",
     "text": [
      "2025-07-21 22:39:07,767 — INFO — layer 1, [0:10249], loss=-18.9568\n",
      "2025-07-21 22:39:07,767 — INFO — layer 1, [0:10249], loss=-8.5962\n"
     ]
    },
    {
     "name": "stderr",
     "output_type": "stream",
     "text": [
      "epoch 0, layer 1:  93%|█████████████████████████████████████████████████████████████████▍    | 10299/11016 [26:11<01:46,  6.70it/s, loss=-7.53]"
     ]
    },
    {
     "name": "stdout",
     "output_type": "stream",
     "text": [
      "2025-07-21 22:39:15,441 — INFO — layer 1, [0:10299], loss=-17.0892\n",
      "2025-07-21 22:39:15,441 — INFO — layer 1, [0:10299], loss=-5.6945\n"
     ]
    },
    {
     "name": "stderr",
     "output_type": "stream",
     "text": [
      "epoch 0, layer 1:  94%|█████████████████████████████████████████████████████████████████▊    | 10349/11016 [26:19<01:39,  6.71it/s, loss=-16.2]"
     ]
    },
    {
     "name": "stdout",
     "output_type": "stream",
     "text": [
      "2025-07-21 22:39:23,090 — INFO — layer 1, [0:10349], loss=-5.6248\n",
      "2025-07-21 22:39:23,090 — INFO — layer 1, [0:10349], loss=-14.3487\n"
     ]
    },
    {
     "name": "stderr",
     "output_type": "stream",
     "text": [
      "epoch 0, layer 1:  94%|██████████████████████████████████████████████████████████████████    | 10399/11016 [26:26<01:29,  6.90it/s, loss=-2.72]"
     ]
    },
    {
     "name": "stdout",
     "output_type": "stream",
     "text": [
      "2025-07-21 22:39:30,687 — INFO — layer 1, [0:10399], loss=-14.4489\n",
      "2025-07-21 22:39:30,688 — INFO — layer 1, [0:10399], loss=0.5268\n"
     ]
    },
    {
     "name": "stderr",
     "output_type": "stream",
     "text": [
      "epoch 0, layer 1:  95%|██████████████████████████████████████████████████████████████████▍   | 10449/11016 [26:34<01:23,  6.80it/s, loss=-6.91]"
     ]
    },
    {
     "name": "stdout",
     "output_type": "stream",
     "text": [
      "2025-07-21 22:39:38,283 — INFO — layer 1, [0:10449], loss=-9.6591\n",
      "2025-07-21 22:39:38,283 — INFO — layer 1, [0:10449], loss=-4.8745\n"
     ]
    },
    {
     "name": "stderr",
     "output_type": "stream",
     "text": [
      "epoch 0, layer 1:  95%|██████████████████████████████████████████████████████████████████▋   | 10499/11016 [26:42<01:16,  6.80it/s, loss=-10.1]"
     ]
    },
    {
     "name": "stdout",
     "output_type": "stream",
     "text": [
      "2025-07-21 22:39:45,993 — INFO — layer 1, [0:10499], loss=-13.8345\n",
      "2025-07-21 22:39:45,994 — INFO — layer 1, [0:10499], loss=-14.0847\n"
     ]
    },
    {
     "name": "stderr",
     "output_type": "stream",
     "text": [
      "epoch 0, layer 1:  96%|███████████████████████████████████████████████████████████████████   | 10549/11016 [26:49<01:09,  6.73it/s, loss=-9.13]"
     ]
    },
    {
     "name": "stdout",
     "output_type": "stream",
     "text": [
      "2025-07-21 22:39:53,440 — INFO — layer 1, [0:10549], loss=-5.6987\n",
      "2025-07-21 22:39:53,440 — INFO — layer 1, [0:10549], loss=-13.5608\n"
     ]
    },
    {
     "name": "stderr",
     "output_type": "stream",
     "text": [
      "epoch 0, layer 1:  96%|███████████████████████████████████████████████████████████████████▎  | 10599/11016 [26:57<01:01,  6.80it/s, loss=-5.62]"
     ]
    },
    {
     "name": "stdout",
     "output_type": "stream",
     "text": [
      "2025-07-21 22:40:00,827 — INFO — layer 1, [0:10599], loss=-7.8091\n",
      "2025-07-21 22:40:00,827 — INFO — layer 1, [0:10599], loss=-3.3129\n"
     ]
    },
    {
     "name": "stderr",
     "output_type": "stream",
     "text": [
      "epoch 0, layer 1:  97%|███████████████████████████████████████████████████████████████████▋  | 10649/11016 [27:04<00:55,  6.63it/s, loss=-5.46]"
     ]
    },
    {
     "name": "stdout",
     "output_type": "stream",
     "text": [
      "2025-07-21 22:40:08,467 — INFO — layer 1, [0:10649], loss=-11.5872\n",
      "2025-07-21 22:40:08,467 — INFO — layer 1, [0:10649], loss=-15.3101\n"
     ]
    },
    {
     "name": "stderr",
     "output_type": "stream",
     "text": [
      "epoch 0, layer 1:  97%|███████████████████████████████████████████████████████████████████▉  | 10699/11016 [27:12<00:49,  6.38it/s, loss=-4.57]"
     ]
    },
    {
     "name": "stdout",
     "output_type": "stream",
     "text": [
      "2025-07-21 22:40:16,148 — INFO — layer 1, [0:10699], loss=-12.9254\n",
      "2025-07-21 22:40:16,148 — INFO — layer 1, [0:10699], loss=-9.3169\n"
     ]
    },
    {
     "name": "stderr",
     "output_type": "stream",
     "text": [
      "epoch 0, layer 1:  98%|████████████████████████████████████████████████████████████████████▎ | 10749/11016 [27:19<00:40,  6.59it/s, loss=-8.64]"
     ]
    },
    {
     "name": "stdout",
     "output_type": "stream",
     "text": [
      "2025-07-21 22:40:23,690 — INFO — layer 1, [0:10749], loss=-15.4148\n",
      "2025-07-21 22:40:23,690 — INFO — layer 1, [0:10749], loss=-10.7362\n"
     ]
    },
    {
     "name": "stderr",
     "output_type": "stream",
     "text": [
      "epoch 0, layer 1:  98%|████████████████████████████████████████████████████████████████████▌ | 10799/11016 [27:27<00:32,  6.74it/s, loss=-5.84]"
     ]
    },
    {
     "name": "stdout",
     "output_type": "stream",
     "text": [
      "2025-07-21 22:40:31,480 — INFO — layer 1, [0:10799], loss=-12.3696\n",
      "2025-07-21 22:40:31,480 — INFO — layer 1, [0:10799], loss=-10.4768\n"
     ]
    },
    {
     "name": "stderr",
     "output_type": "stream",
     "text": [
      "epoch 0, layer 1:  98%|██████████████████████████████████████████████████████████████████████▉ | 10849/11016 [27:35<00:26,  6.42it/s, loss=-21]"
     ]
    },
    {
     "name": "stdout",
     "output_type": "stream",
     "text": [
      "2025-07-21 22:40:39,023 — INFO — layer 1, [0:10849], loss=-15.8916\n",
      "2025-07-21 22:40:39,023 — INFO — layer 1, [0:10849], loss=-19.5015\n"
     ]
    },
    {
     "name": "stderr",
     "output_type": "stream",
     "text": [
      "epoch 0, layer 1:  99%|█████████████████████████████████████████████████████████████████████▎| 10899/11016 [27:42<00:17,  6.87it/s, loss=-16.8]"
     ]
    },
    {
     "name": "stdout",
     "output_type": "stream",
     "text": [
      "2025-07-21 22:40:46,611 — INFO — layer 1, [0:10899], loss=-16.1995\n",
      "2025-07-21 22:40:46,611 — INFO — layer 1, [0:10899], loss=-14.6788\n"
     ]
    },
    {
     "name": "stderr",
     "output_type": "stream",
     "text": [
      "epoch 0, layer 1:  99%|█████████████████████████████████████████████████████████████████████▌| 10949/11016 [27:50<00:10,  6.43it/s, loss=-12.6]"
     ]
    },
    {
     "name": "stdout",
     "output_type": "stream",
     "text": [
      "2025-07-21 22:40:54,257 — INFO — layer 1, [0:10949], loss=-10.9518\n",
      "2025-07-21 22:40:54,257 — INFO — layer 1, [0:10949], loss=-0.2541\n"
     ]
    },
    {
     "name": "stderr",
     "output_type": "stream",
     "text": [
      "epoch 0, layer 1: 100%|█████████████████████████████████████████████████████████████████████▉| 10999/11016 [27:58<00:02,  6.56it/s, loss=-14.5]"
     ]
    },
    {
     "name": "stdout",
     "output_type": "stream",
     "text": [
      "2025-07-21 22:41:01,912 — INFO — layer 1, [0:10999], loss=-16.7637\n",
      "2025-07-21 22:41:01,912 — INFO — layer 1, [0:10999], loss=-9.1832\n"
     ]
    },
    {
     "name": "stderr",
     "output_type": "stream",
     "text": [
      "epoch 1, layer 1:   0%|                                                                                              | 0/11016 [00:00<?, ?it/s]huggingface/tokenizers: The current process just got forked, after parallelism has already been used. Disabling parallelism to avoid deadlocks...\n",
      "To disable this warning, you can either:\n",
      "\t- Avoid using `tokenizers` before the fork if possible\n",
      "\t- Explicitly set the environment variable TOKENIZERS_PARALLELISM=(true | false)\n",
      "huggingface/tokenizers: The current process just got forked, after parallelism has already been used. Disabling parallelism to avoid deadlocks...\n",
      "To disable this warning, you can either:\n",
      "\t- Avoid using `tokenizers` before the fork if possible\n",
      "\t- Explicitly set the environment variable TOKENIZERS_PARALLELISM=(true | false)\n",
      "huggingface/tokenizers: The current process just got forked, after parallelism has already been used. Disabling parallelism to avoid deadlocks...\n",
      "To disable this warning, you can either:\n",
      "\t- Avoid using `tokenizers` before the fork if possible\n",
      "\t- Explicitly set the environment variable TOKENIZERS_PARALLELISM=(true | false)\n",
      "huggingface/tokenizers: The current process just got forked, after parallelism has already been used. Disabling parallelism to avoid deadlocks...\n",
      "To disable this warning, you can either:\n",
      "\t- Avoid using `tokenizers` before the fork if possible\n",
      "\t- Explicitly set the environment variable TOKENIZERS_PARALLELISM=(true | false)\n",
      "huggingface/tokenizers: The current process just got forked, after parallelism has already been used. Disabling parallelism to avoid deadlocks...\n",
      "To disable this warning, you can either:\n",
      "\t- Avoid using `tokenizers` before the fork if possible\n",
      "\t- Explicitly set the environment variable TOKENIZERS_PARALLELISM=(true | false)\n",
      "huggingface/tokenizers: The current process just got forked, after parallelism has already been used. Disabling parallelism to avoid deadlocks...\n",
      "To disable this warning, you can either:\n",
      "\t- Avoid using `tokenizers` before the fork if possible\n",
      "\t- Explicitly set the environment variable TOKENIZERS_PARALLELISM=(true | false)\n",
      "huggingface/tokenizers: The current process just got forked, after parallelism has already been used. Disabling parallelism to avoid deadlocks...\n",
      "To disable this warning, you can either:\n",
      "\t- Avoid using `tokenizers` before the fork if possible\n",
      "\t- Explicitly set the environment variable TOKENIZERS_PARALLELISM=(true | false)\n",
      "huggingface/tokenizers: The current process just got forked, after parallelism has already been used. Disabling parallelism to avoid deadlocks...\n",
      "To disable this warning, you can either:\n",
      "\t- Avoid using `tokenizers` before the fork if possible\n",
      "\t- Explicitly set the environment variable TOKENIZERS_PARALLELISM=(true | false)\n",
      "huggingface/tokenizers: The current process just got forked, after parallelism has already been used. Disabling parallelism to avoid deadlocks...\n",
      "To disable this warning, you can either:\n",
      "\t- Avoid using `tokenizers` before the fork if possible\n",
      "\t- Explicitly set the environment variable TOKENIZERS_PARALLELISM=(true | false)\n",
      "huggingface/tokenizers: The current process just got forked, after parallelism has already been used. Disabling parallelism to avoid deadlocks...\n",
      "To disable this warning, you can either:\n",
      "\t- Avoid using `tokenizers` before the fork if possible\n",
      "\t- Explicitly set the environment variable TOKENIZERS_PARALLELISM=(true | false)\n",
      "huggingface/tokenizers: The current process just got forked, after parallelism has already been used. Disabling parallelism to avoid deadlocks...\n",
      "To disable this warning, you can either:\n",
      "\t- Avoid using `tokenizers` before the fork if possible\n",
      "\t- Explicitly set the environment variable TOKENIZERS_PARALLELISM=(true | false)\n",
      "huggingface/tokenizers: The current process just got forked, after parallelism has already been used. Disabling parallelism to avoid deadlocks...\n",
      "To disable this warning, you can either:\n",
      "\t- Avoid using `tokenizers` before the fork if possible\n",
      "\t- Explicitly set the environment variable TOKENIZERS_PARALLELISM=(true | false)\n",
      "huggingface/tokenizers: The current process just got forked, after parallelism has already been used. Disabling parallelism to avoid deadlocks...\n",
      "To disable this warning, you can either:\n",
      "\t- Avoid using `tokenizers` before the fork if possible\n",
      "\t- Explicitly set the environment variable TOKENIZERS_PARALLELISM=(true | false)\n",
      "huggingface/tokenizers: The current process just got forked, after parallelism has already been used. Disabling parallelism to avoid deadlocks...\n",
      "To disable this warning, you can either:\n",
      "\t- Avoid using `tokenizers` before the fork if possible\n",
      "\t- Explicitly set the environment variable TOKENIZERS_PARALLELISM=(true | false)\n",
      "huggingface/tokenizers: The current process just got forked, after parallelism has already been used. Disabling parallelism to avoid deadlocks...\n",
      "To disable this warning, you can either:\n",
      "\t- Avoid using `tokenizers` before the fork if possible\n",
      "\t- Explicitly set the environment variable TOKENIZERS_PARALLELISM=(true | false)\n",
      "epoch 1, layer 1:   0%|                                                                        | 1/11016 [00:00<1:19:11,  2.32it/s, loss=-9.39]huggingface/tokenizers: The current process just got forked, after parallelism has already been used. Disabling parallelism to avoid deadlocks...\n",
      "To disable this warning, you can either:\n",
      "\t- Avoid using `tokenizers` before the fork if possible\n",
      "\t- Explicitly set the environment variable TOKENIZERS_PARALLELISM=(true | false)\n",
      "epoch 1, layer 1:   0%|▏                                                                         | 33/11016 [00:05<28:02,  6.53it/s, loss=-8.5]"
     ]
    },
    {
     "name": "stdout",
     "output_type": "stream",
     "text": [
      "2025-07-21 22:41:09,871 — INFO — layer 1, [1:33], loss=2.5327\n",
      "2025-07-21 22:41:09,871 — INFO — layer 1, [1:33], loss=-4.4483\n"
     ]
    },
    {
     "name": "stderr",
     "output_type": "stream",
     "text": [
      "epoch 1, layer 1:   1%|▌                                                                        | 83/11016 [00:12<27:39,  6.59it/s, loss=-11.3]"
     ]
    },
    {
     "name": "stdout",
     "output_type": "stream",
     "text": [
      "2025-07-21 22:41:17,398 — INFO — layer 1, [1:83], loss=-11.0233\n",
      "2025-07-21 22:41:17,398 — INFO — layer 1, [1:83], loss=-5.1213\n"
     ]
    },
    {
     "name": "stderr",
     "output_type": "stream",
     "text": [
      "epoch 1, layer 1:   1%|▉                                                                        | 133/11016 [00:20<29:10,  6.22it/s, loss=-5.2]"
     ]
    },
    {
     "name": "stdout",
     "output_type": "stream",
     "text": [
      "2025-07-21 22:41:24,859 — INFO — layer 1, [1:133], loss=-21.1289\n",
      "2025-07-21 22:41:24,859 — INFO — layer 1, [1:133], loss=-11.8545\n"
     ]
    },
    {
     "name": "stderr",
     "output_type": "stream",
     "text": [
      "epoch 1, layer 1:   2%|█▏                                                                      | 183/11016 [00:27<28:02,  6.44it/s, loss=-5.88]"
     ]
    },
    {
     "name": "stdout",
     "output_type": "stream",
     "text": [
      "2025-07-21 22:41:32,549 — INFO — layer 1, [1:183], loss=-16.7051\n",
      "2025-07-21 22:41:32,549 — INFO — layer 1, [1:183], loss=-15.3880\n"
     ]
    },
    {
     "name": "stderr",
     "output_type": "stream",
     "text": [
      "epoch 1, layer 1:   2%|█▌                                                                      | 233/11016 [00:35<27:20,  6.57it/s, loss=0.273]"
     ]
    },
    {
     "name": "stdout",
     "output_type": "stream",
     "text": [
      "2025-07-21 22:41:39,996 — INFO — layer 1, [1:233], loss=-12.0667\n",
      "2025-07-21 22:41:39,996 — INFO — layer 1, [1:233], loss=-8.5946\n"
     ]
    },
    {
     "name": "stderr",
     "output_type": "stream",
     "text": [
      "epoch 1, layer 1:   3%|█▊                                                                      | 283/11016 [00:43<26:17,  6.80it/s, loss=-6.81]"
     ]
    },
    {
     "name": "stdout",
     "output_type": "stream",
     "text": [
      "2025-07-21 22:41:47,709 — INFO — layer 1, [1:283], loss=-7.2487\n",
      "2025-07-21 22:41:47,709 — INFO — layer 1, [1:283], loss=-3.5507\n"
     ]
    },
    {
     "name": "stderr",
     "output_type": "stream",
     "text": [
      "epoch 1, layer 1:   3%|██▏                                                                     | 333/11016 [00:50<27:40,  6.43it/s, loss=-9.37]"
     ]
    },
    {
     "name": "stdout",
     "output_type": "stream",
     "text": [
      "2025-07-21 22:41:55,358 — INFO — layer 1, [1:333], loss=-14.9528\n",
      "2025-07-21 22:41:55,358 — INFO — layer 1, [1:333], loss=-10.0000\n"
     ]
    },
    {
     "name": "stderr",
     "output_type": "stream",
     "text": [
      "epoch 1, layer 1:   3%|██▌                                                                      | 383/11016 [00:58<26:08,  6.78it/s, loss=-2.8]"
     ]
    },
    {
     "name": "stdout",
     "output_type": "stream",
     "text": [
      "2025-07-21 22:42:02,950 — INFO — layer 1, [1:383], loss=-5.4960\n",
      "2025-07-21 22:42:02,950 — INFO — layer 1, [1:383], loss=-11.2618\n"
     ]
    },
    {
     "name": "stderr",
     "output_type": "stream",
     "text": [
      "epoch 1, layer 1:   4%|██▊                                                                     | 433/11016 [01:06<26:59,  6.54it/s, loss=-18.2]"
     ]
    },
    {
     "name": "stdout",
     "output_type": "stream",
     "text": [
      "2025-07-21 22:42:10,637 — INFO — layer 1, [1:433], loss=-9.4175\n",
      "2025-07-21 22:42:10,637 — INFO — layer 1, [1:433], loss=-13.1808\n"
     ]
    },
    {
     "name": "stderr",
     "output_type": "stream",
     "text": [
      "epoch 1, layer 1:   4%|███▏                                                                     | 483/11016 [01:13<25:35,  6.86it/s, loss=-6.9]"
     ]
    },
    {
     "name": "stdout",
     "output_type": "stream",
     "text": [
      "2025-07-21 22:42:18,209 — INFO — layer 1, [1:483], loss=-6.2248\n",
      "2025-07-21 22:42:18,209 — INFO — layer 1, [1:483], loss=-12.7552\n"
     ]
    },
    {
     "name": "stderr",
     "output_type": "stream",
     "text": [
      "epoch 1, layer 1:   5%|███▍                                                                    | 533/11016 [01:21<25:01,  6.98it/s, loss=-4.14]"
     ]
    },
    {
     "name": "stdout",
     "output_type": "stream",
     "text": [
      "2025-07-21 22:42:25,914 — INFO — layer 1, [1:533], loss=-16.9464\n",
      "2025-07-21 22:42:25,914 — INFO — layer 1, [1:533], loss=-2.8432\n"
     ]
    },
    {
     "name": "stderr",
     "output_type": "stream",
     "text": [
      "epoch 1, layer 1:   5%|███▊                                                                    | 583/11016 [01:29<26:15,  6.62it/s, loss=-11.2]"
     ]
    },
    {
     "name": "stdout",
     "output_type": "stream",
     "text": [
      "2025-07-21 22:42:33,567 — INFO — layer 1, [1:583], loss=-9.6951\n",
      "2025-07-21 22:42:33,568 — INFO — layer 1, [1:583], loss=-12.7001\n"
     ]
    },
    {
     "name": "stderr",
     "output_type": "stream",
     "text": [
      "epoch 1, layer 1:   6%|████▏                                                                   | 633/11016 [01:36<26:14,  6.59it/s, loss=-15.9]"
     ]
    },
    {
     "name": "stdout",
     "output_type": "stream",
     "text": [
      "2025-07-21 22:42:41,007 — INFO — layer 1, [1:633], loss=-11.0393\n",
      "2025-07-21 22:42:41,007 — INFO — layer 1, [1:633], loss=-14.6325\n"
     ]
    },
    {
     "name": "stderr",
     "output_type": "stream",
     "text": [
      "epoch 1, layer 1:   6%|████▍                                                                   | 683/11016 [01:44<26:11,  6.57it/s, loss=-25.4]"
     ]
    },
    {
     "name": "stdout",
     "output_type": "stream",
     "text": [
      "2025-07-21 22:42:48,674 — INFO — layer 1, [1:683], loss=-9.0635\n",
      "2025-07-21 22:42:48,674 — INFO — layer 1, [1:683], loss=-10.3953\n"
     ]
    },
    {
     "name": "stderr",
     "output_type": "stream",
     "text": [
      "epoch 1, layer 1:   7%|████▊                                                                    | 733/11016 [01:51<27:09,  6.31it/s, loss=-4.8]"
     ]
    },
    {
     "name": "stdout",
     "output_type": "stream",
     "text": [
      "2025-07-21 22:42:56,309 — INFO — layer 1, [1:733], loss=-7.0085\n",
      "2025-07-21 22:42:56,309 — INFO — layer 1, [1:733], loss=-6.0552\n"
     ]
    },
    {
     "name": "stderr",
     "output_type": "stream",
     "text": [
      "epoch 1, layer 1:   7%|█████▎                                                                    | 783/11016 [01:59<25:21,  6.72it/s, loss=-12]"
     ]
    },
    {
     "name": "stdout",
     "output_type": "stream",
     "text": [
      "2025-07-21 22:43:03,807 — INFO — layer 1, [1:783], loss=-0.3795\n",
      "2025-07-21 22:43:03,808 — INFO — layer 1, [1:783], loss=-15.0509\n"
     ]
    },
    {
     "name": "stderr",
     "output_type": "stream",
     "text": [
      "epoch 1, layer 1:   8%|█████▍                                                                  | 833/11016 [02:06<24:36,  6.90it/s, loss=-7.85]"
     ]
    },
    {
     "name": "stdout",
     "output_type": "stream",
     "text": [
      "2025-07-21 22:43:11,494 — INFO — layer 1, [1:833], loss=-11.0604\n",
      "2025-07-21 22:43:11,494 — INFO — layer 1, [1:833], loss=-7.5189\n"
     ]
    },
    {
     "name": "stderr",
     "output_type": "stream",
     "text": [
      "epoch 1, layer 1:   8%|█████▊                                                                  | 883/11016 [02:14<24:48,  6.81it/s, loss=0.594]"
     ]
    },
    {
     "name": "stdout",
     "output_type": "stream",
     "text": [
      "2025-07-21 22:43:18,989 — INFO — layer 1, [1:883], loss=-15.4364\n",
      "2025-07-21 22:43:18,989 — INFO — layer 1, [1:883], loss=-5.1007\n"
     ]
    },
    {
     "name": "stderr",
     "output_type": "stream",
     "text": [
      "epoch 1, layer 1:   8%|██████                                                                  | 933/11016 [02:22<25:51,  6.50it/s, loss=-11.9]"
     ]
    },
    {
     "name": "stdout",
     "output_type": "stream",
     "text": [
      "2025-07-21 22:43:26,672 — INFO — layer 1, [1:933], loss=-17.7309\n",
      "2025-07-21 22:43:26,672 — INFO — layer 1, [1:933], loss=-19.0900\n"
     ]
    },
    {
     "name": "stderr",
     "output_type": "stream",
     "text": [
      "epoch 1, layer 1:   9%|██████▍                                                                 | 983/11016 [02:29<25:06,  6.66it/s, loss=-11.1]"
     ]
    },
    {
     "name": "stdout",
     "output_type": "stream",
     "text": [
      "2025-07-21 22:43:34,242 — INFO — layer 1, [1:983], loss=-15.7189\n",
      "2025-07-21 22:43:34,243 — INFO — layer 1, [1:983], loss=-15.8203\n"
     ]
    },
    {
     "name": "stderr",
     "output_type": "stream",
     "text": [
      "epoch 1, layer 1:   9%|██████▋                                                                | 1033/11016 [02:37<24:44,  6.72it/s, loss=-10.5]"
     ]
    },
    {
     "name": "stdout",
     "output_type": "stream",
     "text": [
      "2025-07-21 22:43:42,015 — INFO — layer 1, [1:1033], loss=-15.5378\n",
      "2025-07-21 22:43:42,015 — INFO — layer 1, [1:1033], loss=-5.7958\n"
     ]
    },
    {
     "name": "stderr",
     "output_type": "stream",
     "text": [
      "epoch 1, layer 1:  10%|██████▉                                                                | 1083/11016 [02:45<25:26,  6.51it/s, loss=-10.5]"
     ]
    },
    {
     "name": "stdout",
     "output_type": "stream",
     "text": [
      "2025-07-21 22:43:49,721 — INFO — layer 1, [1:1083], loss=-11.3036\n",
      "2025-07-21 22:43:49,721 — INFO — layer 1, [1:1083], loss=-16.0704\n"
     ]
    },
    {
     "name": "stderr",
     "output_type": "stream",
     "text": [
      "epoch 1, layer 1:  10%|███████▎                                                               | 1133/11016 [02:52<26:04,  6.32it/s, loss=-8.56]"
     ]
    },
    {
     "name": "stdout",
     "output_type": "stream",
     "text": [
      "2025-07-21 22:43:57,300 — INFO — layer 1, [1:1133], loss=-16.7949\n",
      "2025-07-21 22:43:57,300 — INFO — layer 1, [1:1133], loss=-5.7399\n"
     ]
    },
    {
     "name": "stderr",
     "output_type": "stream",
     "text": [
      "epoch 1, layer 1:  11%|███████▌                                                               | 1183/11016 [03:00<24:54,  6.58it/s, loss=-9.18]"
     ]
    },
    {
     "name": "stdout",
     "output_type": "stream",
     "text": [
      "2025-07-21 22:44:04,902 — INFO — layer 1, [1:1183], loss=-16.5341\n",
      "2025-07-21 22:44:04,902 — INFO — layer 1, [1:1183], loss=-17.6341\n"
     ]
    },
    {
     "name": "stderr",
     "output_type": "stream",
     "text": [
      "epoch 1, layer 1:  11%|███████▉                                                               | 1233/11016 [03:08<25:17,  6.45it/s, loss=-6.44]"
     ]
    },
    {
     "name": "stdout",
     "output_type": "stream",
     "text": [
      "2025-07-21 22:44:12,768 — INFO — layer 1, [1:1233], loss=-10.5440\n",
      "2025-07-21 22:44:12,768 — INFO — layer 1, [1:1233], loss=-8.3361\n"
     ]
    },
    {
     "name": "stderr",
     "output_type": "stream",
     "text": [
      "epoch 1, layer 1:  12%|████████▎                                                              | 1283/11016 [03:15<25:52,  6.27it/s, loss=-12.5]"
     ]
    },
    {
     "name": "stdout",
     "output_type": "stream",
     "text": [
      "2025-07-21 22:44:20,498 — INFO — layer 1, [1:1283], loss=-7.1226\n",
      "2025-07-21 22:44:20,498 — INFO — layer 1, [1:1283], loss=-8.7137\n"
     ]
    },
    {
     "name": "stderr",
     "output_type": "stream",
     "text": [
      "epoch 1, layer 1:  12%|████████▌                                                              | 1333/11016 [03:23<23:47,  6.79it/s, loss=-5.45]"
     ]
    },
    {
     "name": "stdout",
     "output_type": "stream",
     "text": [
      "2025-07-21 22:44:27,998 — INFO — layer 1, [1:1333], loss=0.4031\n",
      "2025-07-21 22:44:27,998 — INFO — layer 1, [1:1333], loss=-6.3786\n"
     ]
    },
    {
     "name": "stderr",
     "output_type": "stream",
     "text": [
      "epoch 1, layer 1:  13%|████████▉                                                              | 1383/11016 [03:30<22:56,  7.00it/s, loss=-5.32]"
     ]
    },
    {
     "name": "stdout",
     "output_type": "stream",
     "text": [
      "2025-07-21 22:44:35,509 — INFO — layer 1, [1:1383], loss=-6.2183\n",
      "2025-07-21 22:44:35,509 — INFO — layer 1, [1:1383], loss=0.1707\n"
     ]
    },
    {
     "name": "stderr",
     "output_type": "stream",
     "text": [
      "epoch 1, layer 1:  13%|█████████▏                                                             | 1433/11016 [03:38<23:39,  6.75it/s, loss=-3.23]"
     ]
    },
    {
     "name": "stdout",
     "output_type": "stream",
     "text": [
      "2025-07-21 22:44:43,167 — INFO — layer 1, [1:1433], loss=-10.8523\n",
      "2025-07-21 22:44:43,167 — INFO — layer 1, [1:1433], loss=-9.2125\n"
     ]
    },
    {
     "name": "stderr",
     "output_type": "stream",
     "text": [
      "epoch 1, layer 1:  13%|█████████▌                                                             | 1483/11016 [03:46<23:06,  6.88it/s, loss=-6.44]"
     ]
    },
    {
     "name": "stdout",
     "output_type": "stream",
     "text": [
      "2025-07-21 22:44:50,894 — INFO — layer 1, [1:1483], loss=-4.3470\n",
      "2025-07-21 22:44:50,894 — INFO — layer 1, [1:1483], loss=-6.6924\n"
     ]
    },
    {
     "name": "stderr",
     "output_type": "stream",
     "text": [
      "epoch 1, layer 1:  14%|█████████▉                                                             | 1533/11016 [03:53<23:03,  6.86it/s, loss=-5.55]"
     ]
    },
    {
     "name": "stdout",
     "output_type": "stream",
     "text": [
      "2025-07-21 22:44:58,431 — INFO — layer 1, [1:1533], loss=-11.4521\n",
      "2025-07-21 22:44:58,431 — INFO — layer 1, [1:1533], loss=-3.8047\n"
     ]
    },
    {
     "name": "stderr",
     "output_type": "stream",
     "text": [
      "epoch 1, layer 1:  14%|██████████▏                                                            | 1583/11016 [04:01<23:13,  6.77it/s, loss=0.351]"
     ]
    },
    {
     "name": "stdout",
     "output_type": "stream",
     "text": [
      "2025-07-21 22:45:06,011 — INFO — layer 1, [1:1583], loss=-13.7917\n",
      "2025-07-21 22:45:06,011 — INFO — layer 1, [1:1583], loss=-1.7152\n"
     ]
    },
    {
     "name": "stderr",
     "output_type": "stream",
     "text": [
      "epoch 1, layer 1:  15%|██████████▊                                                              | 1633/11016 [04:08<23:31,  6.65it/s, loss=-12]"
     ]
    },
    {
     "name": "stdout",
     "output_type": "stream",
     "text": [
      "2025-07-21 22:45:13,519 — INFO — layer 1, [1:1633], loss=-16.3321\n",
      "2025-07-21 22:45:13,519 — INFO — layer 1, [1:1633], loss=-3.8968\n"
     ]
    },
    {
     "name": "stderr",
     "output_type": "stream",
     "text": [
      "epoch 1, layer 1:  15%|██████████▊                                                            | 1683/11016 [04:16<23:49,  6.53it/s, loss=-13.4]"
     ]
    },
    {
     "name": "stdout",
     "output_type": "stream",
     "text": [
      "2025-07-21 22:45:21,185 — INFO — layer 1, [1:1683], loss=-20.2009\n",
      "2025-07-21 22:45:21,185 — INFO — layer 1, [1:1683], loss=-17.8180\n"
     ]
    },
    {
     "name": "stderr",
     "output_type": "stream",
     "text": [
      "epoch 1, layer 1:  16%|███████████▏                                                           | 1733/11016 [04:24<23:58,  6.45it/s, loss=-11.9]"
     ]
    },
    {
     "name": "stdout",
     "output_type": "stream",
     "text": [
      "2025-07-21 22:45:28,913 — INFO — layer 1, [1:1733], loss=-8.4009\n",
      "2025-07-21 22:45:28,913 — INFO — layer 1, [1:1733], loss=-4.6770\n"
     ]
    },
    {
     "name": "stderr",
     "output_type": "stream",
     "text": [
      "epoch 1, layer 1:  16%|███████████▍                                                           | 1783/11016 [04:32<25:20,  6.07it/s, loss=-7.45]"
     ]
    },
    {
     "name": "stdout",
     "output_type": "stream",
     "text": [
      "2025-07-21 22:45:36,689 — INFO — layer 1, [1:1783], loss=-13.0716\n",
      "2025-07-21 22:45:36,689 — INFO — layer 1, [1:1783], loss=-5.8342\n"
     ]
    },
    {
     "name": "stderr",
     "output_type": "stream",
     "text": [
      "epoch 1, layer 1:  17%|███████████▊                                                           | 1833/11016 [04:39<22:03,  6.94it/s, loss=-1.12]"
     ]
    },
    {
     "name": "stdout",
     "output_type": "stream",
     "text": [
      "2025-07-21 22:45:44,277 — INFO — layer 1, [1:1833], loss=-12.3675\n",
      "2025-07-21 22:45:44,277 — INFO — layer 1, [1:1833], loss=-20.0755\n"
     ]
    },
    {
     "name": "stderr",
     "output_type": "stream",
     "text": [
      "epoch 1, layer 1:  17%|████████████▏                                                          | 1883/11016 [04:47<23:01,  6.61it/s, loss=-9.86]"
     ]
    },
    {
     "name": "stdout",
     "output_type": "stream",
     "text": [
      "2025-07-21 22:45:51,889 — INFO — layer 1, [1:1883], loss=-12.0020\n",
      "2025-07-21 22:45:51,889 — INFO — layer 1, [1:1883], loss=-8.9222\n"
     ]
    },
    {
     "name": "stderr",
     "output_type": "stream",
     "text": [
      "epoch 1, layer 1:  18%|████████████▍                                                          | 1933/11016 [04:54<22:32,  6.71it/s, loss=-8.62]"
     ]
    },
    {
     "name": "stdout",
     "output_type": "stream",
     "text": [
      "2025-07-21 22:45:59,415 — INFO — layer 1, [1:1933], loss=-14.2334\n",
      "2025-07-21 22:45:59,415 — INFO — layer 1, [1:1933], loss=-17.6400\n"
     ]
    },
    {
     "name": "stderr",
     "output_type": "stream",
     "text": [
      "epoch 1, layer 1:  18%|████████████▊                                                          | 1983/11016 [05:02<22:49,  6.60it/s, loss=-5.52]"
     ]
    },
    {
     "name": "stdout",
     "output_type": "stream",
     "text": [
      "2025-07-21 22:46:07,018 — INFO — layer 1, [1:1983], loss=-3.6773\n",
      "2025-07-21 22:46:07,018 — INFO — layer 1, [1:1983], loss=-21.1029\n"
     ]
    },
    {
     "name": "stderr",
     "output_type": "stream",
     "text": [
      "epoch 1, layer 1:  18%|█████████████▍                                                           | 2033/11016 [05:10<24:15,  6.17it/s, loss=-13]"
     ]
    },
    {
     "name": "stdout",
     "output_type": "stream",
     "text": [
      "2025-07-21 22:46:14,816 — INFO — layer 1, [1:2033], loss=-9.1676\n",
      "2025-07-21 22:46:14,817 — INFO — layer 1, [1:2033], loss=-11.0748\n"
     ]
    },
    {
     "name": "stderr",
     "output_type": "stream",
     "text": [
      "epoch 1, layer 1:  19%|█████████████▍                                                         | 2083/11016 [05:17<22:47,  6.53it/s, loss=-5.55]"
     ]
    },
    {
     "name": "stdout",
     "output_type": "stream",
     "text": [
      "2025-07-21 22:46:22,461 — INFO — layer 1, [1:2083], loss=-7.4188\n",
      "2025-07-21 22:46:22,461 — INFO — layer 1, [1:2083], loss=-9.1286\n"
     ]
    },
    {
     "name": "stderr",
     "output_type": "stream",
     "text": [
      "epoch 1, layer 1:  19%|█████████████▉                                                          | 2133/11016 [05:25<22:20,  6.63it/s, loss=-6.1]"
     ]
    },
    {
     "name": "stdout",
     "output_type": "stream",
     "text": [
      "2025-07-21 22:46:30,064 — INFO — layer 1, [1:2133], loss=-0.5306\n",
      "2025-07-21 22:46:30,064 — INFO — layer 1, [1:2133], loss=-13.6265\n"
     ]
    },
    {
     "name": "stderr",
     "output_type": "stream",
     "text": [
      "epoch 1, layer 1:  20%|██████████████▎                                                         | 2183/11016 [05:33<21:25,  6.87it/s, loss=-4.4]"
     ]
    },
    {
     "name": "stdout",
     "output_type": "stream",
     "text": [
      "2025-07-21 22:46:37,638 — INFO — layer 1, [1:2183], loss=-10.0394\n",
      "2025-07-21 22:46:37,638 — INFO — layer 1, [1:2183], loss=-0.7874\n"
     ]
    },
    {
     "name": "stderr",
     "output_type": "stream",
     "text": [
      "epoch 1, layer 1:  20%|██████████████▍                                                        | 2233/11016 [05:40<22:27,  6.52it/s, loss=-10.2]"
     ]
    },
    {
     "name": "stdout",
     "output_type": "stream",
     "text": [
      "2025-07-21 22:46:45,213 — INFO — layer 1, [1:2233], loss=-5.6910\n",
      "2025-07-21 22:46:45,213 — INFO — layer 1, [1:2233], loss=-6.7278\n"
     ]
    },
    {
     "name": "stderr",
     "output_type": "stream",
     "text": [
      "epoch 1, layer 1:  21%|██████████████▋                                                        | 2283/11016 [05:48<21:53,  6.65it/s, loss=-3.24]"
     ]
    },
    {
     "name": "stdout",
     "output_type": "stream",
     "text": [
      "2025-07-21 22:46:53,024 — INFO — layer 1, [1:2283], loss=-20.7334\n",
      "2025-07-21 22:46:53,024 — INFO — layer 1, [1:2283], loss=-3.8044\n"
     ]
    },
    {
     "name": "stderr",
     "output_type": "stream",
     "text": [
      "epoch 1, layer 1:  21%|███████████████                                                        | 2333/11016 [05:55<22:09,  6.53it/s, loss=-3.93]"
     ]
    },
    {
     "name": "stdout",
     "output_type": "stream",
     "text": [
      "2025-07-21 22:47:00,576 — INFO — layer 1, [1:2333], loss=-9.0215\n",
      "2025-07-21 22:47:00,576 — INFO — layer 1, [1:2333], loss=-13.6023\n"
     ]
    },
    {
     "name": "stderr",
     "output_type": "stream",
     "text": [
      "epoch 1, layer 1:  22%|███████████████▎                                                       | 2383/11016 [06:03<21:00,  6.85it/s, loss=-12.3]"
     ]
    },
    {
     "name": "stdout",
     "output_type": "stream",
     "text": [
      "2025-07-21 22:47:08,163 — INFO — layer 1, [1:2383], loss=-6.0211\n",
      "2025-07-21 22:47:08,163 — INFO — layer 1, [1:2383], loss=-5.6867\n"
     ]
    },
    {
     "name": "stderr",
     "output_type": "stream",
     "text": [
      "epoch 1, layer 1:  22%|███████████████▋                                                       | 2433/11016 [06:11<21:02,  6.80it/s, loss=-17.6]"
     ]
    },
    {
     "name": "stdout",
     "output_type": "stream",
     "text": [
      "2025-07-21 22:47:15,857 — INFO — layer 1, [1:2433], loss=-6.6126\n",
      "2025-07-21 22:47:15,857 — INFO — layer 1, [1:2433], loss=-9.5498\n"
     ]
    },
    {
     "name": "stderr",
     "output_type": "stream",
     "text": [
      "epoch 1, layer 1:  23%|████████████████                                                       | 2483/11016 [06:18<22:10,  6.41it/s, loss=-10.4]"
     ]
    },
    {
     "name": "stdout",
     "output_type": "stream",
     "text": [
      "2025-07-21 22:47:23,488 — INFO — layer 1, [1:2483], loss=-22.7082\n",
      "2025-07-21 22:47:23,488 — INFO — layer 1, [1:2483], loss=-8.4951\n"
     ]
    },
    {
     "name": "stderr",
     "output_type": "stream",
     "text": [
      "epoch 1, layer 1:  23%|████████████████▎                                                      | 2533/11016 [06:26<20:22,  6.94it/s, loss=-9.57]"
     ]
    },
    {
     "name": "stdout",
     "output_type": "stream",
     "text": [
      "2025-07-21 22:47:30,937 — INFO — layer 1, [1:2533], loss=-14.5350\n",
      "2025-07-21 22:47:30,937 — INFO — layer 1, [1:2533], loss=-11.6562\n"
     ]
    },
    {
     "name": "stderr",
     "output_type": "stream",
     "text": [
      "epoch 1, layer 1:  23%|████████████████▋                                                      | 2583/11016 [06:33<22:17,  6.31it/s, loss=-13.8]"
     ]
    },
    {
     "name": "stdout",
     "output_type": "stream",
     "text": [
      "2025-07-21 22:47:38,531 — INFO — layer 1, [1:2583], loss=-4.9514\n",
      "2025-07-21 22:47:38,531 — INFO — layer 1, [1:2583], loss=-17.4023\n"
     ]
    },
    {
     "name": "stderr",
     "output_type": "stream",
     "text": [
      "epoch 1, layer 1:  24%|████████████████▉                                                      | 2633/11016 [06:41<21:58,  6.36it/s, loss=-9.51]"
     ]
    },
    {
     "name": "stdout",
     "output_type": "stream",
     "text": [
      "2025-07-21 22:47:46,085 — INFO — layer 1, [1:2633], loss=-5.1296\n",
      "2025-07-21 22:47:46,085 — INFO — layer 1, [1:2633], loss=0.9027\n"
     ]
    },
    {
     "name": "stderr",
     "output_type": "stream",
     "text": [
      "epoch 1, layer 1:  24%|█████████████████▎                                                     | 2683/11016 [06:49<20:20,  6.83it/s, loss=-13.2]"
     ]
    },
    {
     "name": "stdout",
     "output_type": "stream",
     "text": [
      "2025-07-21 22:47:53,819 — INFO — layer 1, [1:2683], loss=-9.7497\n",
      "2025-07-21 22:47:53,819 — INFO — layer 1, [1:2683], loss=-15.9176\n"
     ]
    },
    {
     "name": "stderr",
     "output_type": "stream",
     "text": [
      "epoch 1, layer 1:  25%|█████████████████▌                                                     | 2733/11016 [06:56<21:19,  6.47it/s, loss=-10.8]"
     ]
    },
    {
     "name": "stdout",
     "output_type": "stream",
     "text": [
      "2025-07-21 22:48:01,344 — INFO — layer 1, [1:2733], loss=-3.5507\n",
      "2025-07-21 22:48:01,344 — INFO — layer 1, [1:2733], loss=-12.4756\n"
     ]
    },
    {
     "name": "stderr",
     "output_type": "stream",
     "text": [
      "epoch 1, layer 1:  25%|█████████████████▉                                                     | 2783/11016 [07:04<20:26,  6.71it/s, loss=-17.6]"
     ]
    },
    {
     "name": "stdout",
     "output_type": "stream",
     "text": [
      "2025-07-21 22:48:08,998 — INFO — layer 1, [1:2783], loss=-13.2776\n",
      "2025-07-21 22:48:08,999 — INFO — layer 1, [1:2783], loss=-16.2603\n"
     ]
    },
    {
     "name": "stderr",
     "output_type": "stream",
     "text": [
      "epoch 1, layer 1:  26%|██████████████████▎                                                    | 2833/11016 [07:11<20:06,  6.78it/s, loss=-6.27]"
     ]
    },
    {
     "name": "stdout",
     "output_type": "stream",
     "text": [
      "2025-07-21 22:48:16,477 — INFO — layer 1, [1:2833], loss=-10.9928\n",
      "2025-07-21 22:48:16,477 — INFO — layer 1, [1:2833], loss=-9.7781\n"
     ]
    },
    {
     "name": "stderr",
     "output_type": "stream",
     "text": [
      "epoch 1, layer 1:  26%|███████████████████▎                                                      | 2883/11016 [07:19<20:29,  6.61it/s, loss=-4]"
     ]
    },
    {
     "name": "stdout",
     "output_type": "stream",
     "text": [
      "2025-07-21 22:48:24,132 — INFO — layer 1, [1:2883], loss=-1.5336\n",
      "2025-07-21 22:48:24,132 — INFO — layer 1, [1:2883], loss=-5.6150\n"
     ]
    },
    {
     "name": "stderr",
     "output_type": "stream",
     "text": [
      "epoch 1, layer 1:  27%|██████████████████▉                                                    | 2933/11016 [07:27<20:38,  6.53it/s, loss=-19.7]"
     ]
    },
    {
     "name": "stdout",
     "output_type": "stream",
     "text": [
      "2025-07-21 22:48:31,897 — INFO — layer 1, [1:2933], loss=-15.4867\n",
      "2025-07-21 22:48:31,897 — INFO — layer 1, [1:2933], loss=-12.1990\n"
     ]
    },
    {
     "name": "stderr",
     "output_type": "stream",
     "text": [
      "epoch 1, layer 1:  27%|███████████████████▏                                                   | 2983/11016 [07:34<19:32,  6.85it/s, loss=-18.5]"
     ]
    },
    {
     "name": "stdout",
     "output_type": "stream",
     "text": [
      "2025-07-21 22:48:39,381 — INFO — layer 1, [1:2983], loss=-10.2613\n",
      "2025-07-21 22:48:39,381 — INFO — layer 1, [1:2983], loss=-13.0314\n"
     ]
    },
    {
     "name": "stderr",
     "output_type": "stream",
     "text": [
      "epoch 1, layer 1:  28%|███████████████████▌                                                   | 3033/11016 [07:42<21:43,  6.12it/s, loss=-9.54]"
     ]
    },
    {
     "name": "stdout",
     "output_type": "stream",
     "text": [
      "2025-07-21 22:48:47,010 — INFO — layer 1, [1:3033], loss=-11.7568\n",
      "2025-07-21 22:48:47,010 — INFO — layer 1, [1:3033], loss=-11.4998\n"
     ]
    },
    {
     "name": "stderr",
     "output_type": "stream",
     "text": [
      "epoch 1, layer 1:  28%|███████████████████▊                                                   | 3083/11016 [07:50<19:54,  6.64it/s, loss=-15.5]"
     ]
    },
    {
     "name": "stdout",
     "output_type": "stream",
     "text": [
      "2025-07-21 22:48:54,690 — INFO — layer 1, [1:3083], loss=-13.5400\n",
      "2025-07-21 22:48:54,690 — INFO — layer 1, [1:3083], loss=-17.6620\n"
     ]
    },
    {
     "name": "stderr",
     "output_type": "stream",
     "text": [
      "epoch 1, layer 1:  28%|████████████████████▏                                                  | 3133/11016 [07:57<18:47,  6.99it/s, loss=-6.08]"
     ]
    },
    {
     "name": "stdout",
     "output_type": "stream",
     "text": [
      "2025-07-21 22:49:02,154 — INFO — layer 1, [1:3133], loss=-9.5179\n",
      "2025-07-21 22:49:02,154 — INFO — layer 1, [1:3133], loss=-8.2622\n"
     ]
    },
    {
     "name": "stderr",
     "output_type": "stream",
     "text": [
      "epoch 1, layer 1:  29%|████████████████████▌                                                  | 3183/11016 [08:05<19:19,  6.75it/s, loss=-9.16]"
     ]
    },
    {
     "name": "stdout",
     "output_type": "stream",
     "text": [
      "2025-07-21 22:49:09,790 — INFO — layer 1, [1:3183], loss=-0.1099\n",
      "2025-07-21 22:49:09,790 — INFO — layer 1, [1:3183], loss=-16.4428\n"
     ]
    },
    {
     "name": "stderr",
     "output_type": "stream",
     "text": [
      "epoch 1, layer 1:  29%|████████████████████▊                                                  | 3233/11016 [08:12<20:36,  6.29it/s, loss=-7.41]"
     ]
    },
    {
     "name": "stdout",
     "output_type": "stream",
     "text": [
      "2025-07-21 22:49:17,533 — INFO — layer 1, [1:3233], loss=-5.1755\n",
      "2025-07-21 22:49:17,533 — INFO — layer 1, [1:3233], loss=-19.9491\n"
     ]
    },
    {
     "name": "stderr",
     "output_type": "stream",
     "text": [
      "epoch 1, layer 1:  30%|█████████████████████▏                                                 | 3283/11016 [08:20<19:38,  6.56it/s, loss=-8.18]"
     ]
    },
    {
     "name": "stdout",
     "output_type": "stream",
     "text": [
      "2025-07-21 22:49:25,130 — INFO — layer 1, [1:3283], loss=-14.2730\n",
      "2025-07-21 22:49:25,130 — INFO — layer 1, [1:3283], loss=-6.5071\n"
     ]
    },
    {
     "name": "stderr",
     "output_type": "stream",
     "text": [
      "epoch 1, layer 1:  30%|█████████████████████▍                                                 | 3333/11016 [08:28<19:04,  6.72it/s, loss=-5.67]"
     ]
    },
    {
     "name": "stdout",
     "output_type": "stream",
     "text": [
      "2025-07-21 22:49:32,942 — INFO — layer 1, [1:3333], loss=-12.2455\n",
      "2025-07-21 22:49:32,942 — INFO — layer 1, [1:3333], loss=-1.2255\n"
     ]
    },
    {
     "name": "stderr",
     "output_type": "stream",
     "text": [
      "epoch 1, layer 1:  31%|█████████████████████▊                                                 | 3383/11016 [08:35<18:36,  6.84it/s, loss=-6.64]"
     ]
    },
    {
     "name": "stdout",
     "output_type": "stream",
     "text": [
      "2025-07-21 22:49:40,526 — INFO — layer 1, [1:3383], loss=-9.0049\n",
      "2025-07-21 22:49:40,526 — INFO — layer 1, [1:3383], loss=-13.8678\n"
     ]
    },
    {
     "name": "stderr",
     "output_type": "stream",
     "text": [
      "epoch 1, layer 1:  31%|██████████████████████▏                                                | 3433/11016 [08:43<18:40,  6.77it/s, loss=-9.38]"
     ]
    },
    {
     "name": "stdout",
     "output_type": "stream",
     "text": [
      "2025-07-21 22:49:48,162 — INFO — layer 1, [1:3433], loss=0.1706\n",
      "2025-07-21 22:49:48,162 — INFO — layer 1, [1:3433], loss=-5.1214\n"
     ]
    },
    {
     "name": "stderr",
     "output_type": "stream",
     "text": [
      "epoch 1, layer 1:  32%|██████████████████████▍                                                | 3483/11016 [08:51<20:27,  6.14it/s, loss=-18.6]"
     ]
    },
    {
     "name": "stdout",
     "output_type": "stream",
     "text": [
      "2025-07-21 22:49:55,966 — INFO — layer 1, [1:3483], loss=-7.1552\n",
      "2025-07-21 22:49:55,966 — INFO — layer 1, [1:3483], loss=2.2621\n"
     ]
    },
    {
     "name": "stderr",
     "output_type": "stream",
     "text": [
      "epoch 1, layer 1:  32%|██████████████████████▊                                                | 3533/11016 [08:59<18:51,  6.62it/s, loss=-11.1]"
     ]
    },
    {
     "name": "stdout",
     "output_type": "stream",
     "text": [
      "2025-07-21 22:50:03,595 — INFO — layer 1, [1:3533], loss=-8.0942\n",
      "2025-07-21 22:50:03,596 — INFO — layer 1, [1:3533], loss=-10.1403\n"
     ]
    },
    {
     "name": "stderr",
     "output_type": "stream",
     "text": [
      "epoch 1, layer 1:  33%|███████████████████████                                                | 3583/11016 [09:06<19:13,  6.44it/s, loss=-9.61]"
     ]
    },
    {
     "name": "stdout",
     "output_type": "stream",
     "text": [
      "2025-07-21 22:50:11,181 — INFO — layer 1, [1:3583], loss=0.1673\n",
      "2025-07-21 22:50:11,181 — INFO — layer 1, [1:3583], loss=-24.9055\n"
     ]
    },
    {
     "name": "stderr",
     "output_type": "stream",
     "text": [
      "epoch 1, layer 1:  33%|███████████████████████▍                                               | 3633/11016 [09:14<18:42,  6.58it/s, loss=-12.3]"
     ]
    },
    {
     "name": "stdout",
     "output_type": "stream",
     "text": [
      "2025-07-21 22:50:18,787 — INFO — layer 1, [1:3633], loss=-13.0011\n",
      "2025-07-21 22:50:18,787 — INFO — layer 1, [1:3633], loss=-11.1451\n"
     ]
    },
    {
     "name": "stderr",
     "output_type": "stream",
     "text": [
      "epoch 1, layer 1:  33%|███████████████████████▋                                               | 3683/11016 [09:21<18:16,  6.69it/s, loss=-9.45]"
     ]
    },
    {
     "name": "stdout",
     "output_type": "stream",
     "text": [
      "2025-07-21 22:50:26,267 — INFO — layer 1, [1:3683], loss=-16.9268\n",
      "2025-07-21 22:50:26,267 — INFO — layer 1, [1:3683], loss=-16.5562\n"
     ]
    },
    {
     "name": "stderr",
     "output_type": "stream",
     "text": [
      "epoch 1, layer 1:  34%|████████████████████████                                               | 3733/11016 [09:29<18:50,  6.44it/s, loss=-15.2]"
     ]
    },
    {
     "name": "stdout",
     "output_type": "stream",
     "text": [
      "2025-07-21 22:50:33,864 — INFO — layer 1, [1:3733], loss=-2.7014\n",
      "2025-07-21 22:50:33,864 — INFO — layer 1, [1:3733], loss=-13.0154\n"
     ]
    },
    {
     "name": "stderr",
     "output_type": "stream",
     "text": [
      "epoch 1, layer 1:  34%|████████████████████████▍                                              | 3783/11016 [09:36<19:21,  6.23it/s, loss=-15.5]"
     ]
    },
    {
     "name": "stdout",
     "output_type": "stream",
     "text": [
      "2025-07-21 22:50:41,435 — INFO — layer 1, [1:3783], loss=-15.2470\n",
      "2025-07-21 22:50:41,435 — INFO — layer 1, [1:3783], loss=-14.9854\n"
     ]
    },
    {
     "name": "stderr",
     "output_type": "stream",
     "text": [
      "epoch 1, layer 1:  35%|████████████████████████▋                                              | 3833/11016 [09:44<17:52,  6.70it/s, loss=-9.26]"
     ]
    },
    {
     "name": "stdout",
     "output_type": "stream",
     "text": [
      "2025-07-21 22:50:48,884 — INFO — layer 1, [1:3833], loss=-9.2711\n",
      "2025-07-21 22:50:48,884 — INFO — layer 1, [1:3833], loss=-13.2345\n"
     ]
    },
    {
     "name": "stderr",
     "output_type": "stream",
     "text": [
      "epoch 1, layer 1:  35%|█████████████████████████                                              | 3883/11016 [09:51<18:14,  6.51it/s, loss=-9.26]"
     ]
    },
    {
     "name": "stdout",
     "output_type": "stream",
     "text": [
      "2025-07-21 22:50:56,451 — INFO — layer 1, [1:3883], loss=2.1482\n",
      "2025-07-21 22:50:56,451 — INFO — layer 1, [1:3883], loss=-9.3684\n"
     ]
    },
    {
     "name": "stderr",
     "output_type": "stream",
     "text": [
      "epoch 1, layer 1:  36%|█████████████████████████▋                                              | 3933/11016 [09:59<18:16,  6.46it/s, loss=-4.6]"
     ]
    },
    {
     "name": "stdout",
     "output_type": "stream",
     "text": [
      "2025-07-21 22:51:04,156 — INFO — layer 1, [1:3933], loss=-10.2662\n",
      "2025-07-21 22:51:04,156 — INFO — layer 1, [1:3933], loss=-16.5538\n"
     ]
    },
    {
     "name": "stderr",
     "output_type": "stream",
     "text": [
      "epoch 1, layer 1:  36%|██████████████████████████▍                                              | 3983/11016 [10:07<17:51,  6.56it/s, loss=-15]"
     ]
    },
    {
     "name": "stdout",
     "output_type": "stream",
     "text": [
      "2025-07-21 22:51:11,610 — INFO — layer 1, [1:3983], loss=-20.5841\n",
      "2025-07-21 22:51:11,610 — INFO — layer 1, [1:3983], loss=-4.5761\n"
     ]
    },
    {
     "name": "stderr",
     "output_type": "stream",
     "text": [
      "epoch 1, layer 1:  37%|█████████████████████████▉                                             | 4033/11016 [10:14<17:08,  6.79it/s, loss=-2.53]"
     ]
    },
    {
     "name": "stdout",
     "output_type": "stream",
     "text": [
      "2025-07-21 22:51:19,201 — INFO — layer 1, [1:4033], loss=-11.7003\n",
      "2025-07-21 22:51:19,201 — INFO — layer 1, [1:4033], loss=-6.4412\n"
     ]
    },
    {
     "name": "stderr",
     "output_type": "stream",
     "text": [
      "epoch 1, layer 1:  37%|██████████████████████████▎                                            | 4083/11016 [10:22<17:38,  6.55it/s, loss=0.629]"
     ]
    },
    {
     "name": "stdout",
     "output_type": "stream",
     "text": [
      "2025-07-21 22:51:26,795 — INFO — layer 1, [1:4083], loss=-15.1859\n",
      "2025-07-21 22:51:26,795 — INFO — layer 1, [1:4083], loss=-9.3839\n"
     ]
    },
    {
     "name": "stderr",
     "output_type": "stream",
     "text": [
      "epoch 1, layer 1:  38%|██████████████████████████▋                                            | 4133/11016 [10:29<17:19,  6.62it/s, loss=-11.6]"
     ]
    },
    {
     "name": "stdout",
     "output_type": "stream",
     "text": [
      "2025-07-21 22:51:34,368 — INFO — layer 1, [1:4133], loss=-6.9134\n",
      "2025-07-21 22:51:34,368 — INFO — layer 1, [1:4133], loss=-13.0984\n"
     ]
    },
    {
     "name": "stderr",
     "output_type": "stream",
     "text": [
      "epoch 1, layer 1:  38%|██████████████████████████▉                                            | 4183/11016 [10:37<18:03,  6.30it/s, loss=-19.3]"
     ]
    },
    {
     "name": "stdout",
     "output_type": "stream",
     "text": [
      "2025-07-21 22:51:41,998 — INFO — layer 1, [1:4183], loss=-5.8717\n",
      "2025-07-21 22:51:41,998 — INFO — layer 1, [1:4183], loss=-14.4801\n"
     ]
    },
    {
     "name": "stderr",
     "output_type": "stream",
     "text": [
      "epoch 1, layer 1:  38%|███████████████████████████▎                                           | 4233/11016 [10:44<17:07,  6.60it/s, loss=-17.1]"
     ]
    },
    {
     "name": "stdout",
     "output_type": "stream",
     "text": [
      "2025-07-21 22:51:49,564 — INFO — layer 1, [1:4233], loss=-17.0655\n",
      "2025-07-21 22:51:49,564 — INFO — layer 1, [1:4233], loss=-19.3430\n"
     ]
    },
    {
     "name": "stderr",
     "output_type": "stream",
     "text": [
      "epoch 1, layer 1:  39%|███████████████████████████▌                                           | 4283/11016 [10:52<16:45,  6.70it/s, loss=-3.64]"
     ]
    },
    {
     "name": "stdout",
     "output_type": "stream",
     "text": [
      "2025-07-21 22:51:56,945 — INFO — layer 1, [1:4283], loss=-4.8779\n",
      "2025-07-21 22:51:56,945 — INFO — layer 1, [1:4283], loss=-13.3504\n"
     ]
    },
    {
     "name": "stderr",
     "output_type": "stream",
     "text": [
      "epoch 1, layer 1:  39%|███████████████████████████▉                                           | 4333/11016 [11:00<18:04,  6.16it/s, loss=-11.2]"
     ]
    },
    {
     "name": "stdout",
     "output_type": "stream",
     "text": [
      "2025-07-21 22:52:04,616 — INFO — layer 1, [1:4333], loss=-22.0742\n",
      "2025-07-21 22:52:04,616 — INFO — layer 1, [1:4333], loss=-8.8927\n"
     ]
    },
    {
     "name": "stderr",
     "output_type": "stream",
     "text": [
      "epoch 1, layer 1:  40%|████████████████████████████▏                                          | 4383/11016 [11:07<16:49,  6.57it/s, loss=-6.09]"
     ]
    },
    {
     "name": "stdout",
     "output_type": "stream",
     "text": [
      "2025-07-21 22:52:12,351 — INFO — layer 1, [1:4383], loss=-12.4243\n",
      "2025-07-21 22:52:12,351 — INFO — layer 1, [1:4383], loss=-16.4852\n"
     ]
    },
    {
     "name": "stderr",
     "output_type": "stream",
     "text": [
      "epoch 1, layer 1:  40%|████████████████████████████▌                                          | 4433/11016 [11:15<16:51,  6.51it/s, loss=-10.5]"
     ]
    },
    {
     "name": "stdout",
     "output_type": "stream",
     "text": [
      "2025-07-21 22:52:19,860 — INFO — layer 1, [1:4433], loss=-16.5838\n",
      "2025-07-21 22:52:19,860 — INFO — layer 1, [1:4433], loss=-9.8408\n"
     ]
    },
    {
     "name": "stderr",
     "output_type": "stream",
     "text": [
      "epoch 1, layer 1:  41%|████████████████████████████▉                                          | 4483/11016 [11:22<16:20,  6.66it/s, loss=-11.8]"
     ]
    },
    {
     "name": "stdout",
     "output_type": "stream",
     "text": [
      "2025-07-21 22:52:27,515 — INFO — layer 1, [1:4483], loss=-16.3118\n",
      "2025-07-21 22:52:27,515 — INFO — layer 1, [1:4483], loss=-9.4737\n"
     ]
    },
    {
     "name": "stderr",
     "output_type": "stream",
     "text": [
      "epoch 1, layer 1:  41%|█████████████████████████████▏                                         | 4533/11016 [11:30<16:10,  6.68it/s, loss=-16.3]"
     ]
    },
    {
     "name": "stdout",
     "output_type": "stream",
     "text": [
      "2025-07-21 22:52:35,323 — INFO — layer 1, [1:4533], loss=-8.0331\n",
      "2025-07-21 22:52:35,323 — INFO — layer 1, [1:4533], loss=-14.3023\n"
     ]
    },
    {
     "name": "stderr",
     "output_type": "stream",
     "text": [
      "epoch 1, layer 1:  42%|█████████████████████████████▌                                         | 4583/11016 [11:38<16:47,  6.39it/s, loss=-8.77]"
     ]
    },
    {
     "name": "stdout",
     "output_type": "stream",
     "text": [
      "2025-07-21 22:52:43,109 — INFO — layer 1, [1:4583], loss=-2.5741\n",
      "2025-07-21 22:52:43,109 — INFO — layer 1, [1:4583], loss=-17.5491\n"
     ]
    },
    {
     "name": "stderr",
     "output_type": "stream",
     "text": [
      "epoch 1, layer 1:  42%|█████████████████████████████▊                                         | 4633/11016 [11:46<16:41,  6.37it/s, loss=-6.14]"
     ]
    },
    {
     "name": "stdout",
     "output_type": "stream",
     "text": [
      "2025-07-21 22:52:50,861 — INFO — layer 1, [1:4633], loss=-15.7461\n",
      "2025-07-21 22:52:50,861 — INFO — layer 1, [1:4633], loss=-21.3272\n"
     ]
    },
    {
     "name": "stderr",
     "output_type": "stream",
     "text": [
      "epoch 1, layer 1:  43%|██████████████████████████████▏                                        | 4683/11016 [11:53<16:19,  6.47it/s, loss=-13.5]"
     ]
    },
    {
     "name": "stdout",
     "output_type": "stream",
     "text": [
      "2025-07-21 22:52:58,548 — INFO — layer 1, [1:4683], loss=-5.6305\n",
      "2025-07-21 22:52:58,548 — INFO — layer 1, [1:4683], loss=-11.9008\n"
     ]
    },
    {
     "name": "stderr",
     "output_type": "stream",
     "text": [
      "epoch 1, layer 1:  43%|███████████████████████████████▎                                         | 4733/11016 [12:01<14:42,  7.12it/s, loss=-13]"
     ]
    },
    {
     "name": "stdout",
     "output_type": "stream",
     "text": [
      "2025-07-21 22:53:06,127 — INFO — layer 1, [1:4733], loss=-3.9654\n",
      "2025-07-21 22:53:06,127 — INFO — layer 1, [1:4733], loss=-10.7886\n"
     ]
    },
    {
     "name": "stderr",
     "output_type": "stream",
     "text": [
      "epoch 1, layer 1:  43%|██████████████████████████████▊                                        | 4783/11016 [12:09<16:07,  6.44it/s, loss=-13.2]"
     ]
    },
    {
     "name": "stdout",
     "output_type": "stream",
     "text": [
      "2025-07-21 22:53:13,836 — INFO — layer 1, [1:4783], loss=-5.9145\n",
      "2025-07-21 22:53:13,836 — INFO — layer 1, [1:4783], loss=-11.8354\n"
     ]
    },
    {
     "name": "stderr",
     "output_type": "stream",
     "text": [
      "epoch 1, layer 1:  44%|███████████████████████████████▏                                       | 4833/11016 [12:16<17:09,  6.00it/s, loss=-8.43]"
     ]
    },
    {
     "name": "stdout",
     "output_type": "stream",
     "text": [
      "2025-07-21 22:53:21,406 — INFO — layer 1, [1:4833], loss=-9.8127\n",
      "2025-07-21 22:53:21,406 — INFO — layer 1, [1:4833], loss=-7.7144\n"
     ]
    },
    {
     "name": "stderr",
     "output_type": "stream",
     "text": [
      "epoch 1, layer 1:  44%|████████████████████████████████▎                                        | 4883/11016 [12:24<14:36,  6.99it/s, loss=-10]"
     ]
    },
    {
     "name": "stdout",
     "output_type": "stream",
     "text": [
      "2025-07-21 22:53:28,849 — INFO — layer 1, [1:4883], loss=-17.4154\n",
      "2025-07-21 22:53:28,849 — INFO — layer 1, [1:4883], loss=-16.1980\n"
     ]
    },
    {
     "name": "stderr",
     "output_type": "stream",
     "text": [
      "epoch 1, layer 1:  45%|███████████████████████████████▊                                       | 4933/11016 [12:31<14:53,  6.81it/s, loss=-16.4]"
     ]
    },
    {
     "name": "stdout",
     "output_type": "stream",
     "text": [
      "2025-07-21 22:53:36,419 — INFO — layer 1, [1:4933], loss=-1.4695\n",
      "2025-07-21 22:53:36,419 — INFO — layer 1, [1:4933], loss=-11.6817\n"
     ]
    },
    {
     "name": "stderr",
     "output_type": "stream",
     "text": [
      "epoch 1, layer 1:  45%|████████████████████████████████                                       | 4983/11016 [12:39<15:55,  6.31it/s, loss=-20.9]"
     ]
    },
    {
     "name": "stdout",
     "output_type": "stream",
     "text": [
      "2025-07-21 22:53:43,969 — INFO — layer 1, [1:4983], loss=-9.4887\n",
      "2025-07-21 22:53:43,969 — INFO — layer 1, [1:4983], loss=-7.4999\n"
     ]
    },
    {
     "name": "stderr",
     "output_type": "stream",
     "text": [
      "epoch 1, layer 1:  46%|████████████████████████████████▍                                      | 5033/11016 [12:46<14:53,  6.69it/s, loss=-19.7]"
     ]
    },
    {
     "name": "stdout",
     "output_type": "stream",
     "text": [
      "2025-07-21 22:53:51,480 — INFO — layer 1, [1:5033], loss=-13.2963\n",
      "2025-07-21 22:53:51,480 — INFO — layer 1, [1:5033], loss=-7.1213\n"
     ]
    },
    {
     "name": "stderr",
     "output_type": "stream",
     "text": [
      "epoch 1, layer 1:  46%|████████████████████████████████▊                                      | 5083/11016 [12:54<15:19,  6.45it/s, loss=-10.9]"
     ]
    },
    {
     "name": "stdout",
     "output_type": "stream",
     "text": [
      "2025-07-21 22:53:59,137 — INFO — layer 1, [1:5083], loss=-9.2691\n",
      "2025-07-21 22:53:59,137 — INFO — layer 1, [1:5083], loss=-14.8700\n"
     ]
    },
    {
     "name": "stderr",
     "output_type": "stream",
     "text": [
      "epoch 1, layer 1:  47%|█████████████████████████████████                                      | 5133/11016 [13:02<15:15,  6.43it/s, loss=-4.62]"
     ]
    },
    {
     "name": "stdout",
     "output_type": "stream",
     "text": [
      "2025-07-21 22:54:06,761 — INFO — layer 1, [1:5133], loss=-1.3584\n",
      "2025-07-21 22:54:06,761 — INFO — layer 1, [1:5133], loss=-5.7864\n"
     ]
    },
    {
     "name": "stderr",
     "output_type": "stream",
     "text": [
      "epoch 1, layer 1:  47%|█████████████████████████████████▍                                     | 5183/11016 [13:09<14:16,  6.81it/s, loss=-13.7]"
     ]
    },
    {
     "name": "stdout",
     "output_type": "stream",
     "text": [
      "2025-07-21 22:54:14,375 — INFO — layer 1, [1:5183], loss=-13.0450\n",
      "2025-07-21 22:54:14,375 — INFO — layer 1, [1:5183], loss=-12.1870\n"
     ]
    },
    {
     "name": "stderr",
     "output_type": "stream",
     "text": [
      "epoch 1, layer 1:  48%|█████████████████████████████████▋                                     | 5233/11016 [13:17<14:26,  6.67it/s, loss=-5.82]"
     ]
    },
    {
     "name": "stdout",
     "output_type": "stream",
     "text": [
      "2025-07-21 22:54:21,906 — INFO — layer 1, [1:5233], loss=-10.3204\n"
     ]
    },
    {
     "name": "stderr",
     "output_type": "stream",
     "text": [
      "epoch 1, layer 1:  48%|█████████████████████████████████▋                                     | 5234/11016 [13:17<14:56,  6.45it/s, loss=-10.3]"
     ]
    },
    {
     "name": "stdout",
     "output_type": "stream",
     "text": [
      "2025-07-21 22:54:21,906 — INFO — layer 1, [1:5233], loss=-12.7631\n"
     ]
    },
    {
     "name": "stderr",
     "output_type": "stream",
     "text": [
      "epoch 1, layer 1:  48%|██████████████████████████████████                                     | 5283/11016 [13:25<15:42,  6.08it/s, loss=-12.3]"
     ]
    },
    {
     "name": "stdout",
     "output_type": "stream",
     "text": [
      "2025-07-21 22:54:29,610 — INFO — layer 1, [1:5283], loss=-6.1377\n",
      "2025-07-21 22:54:29,610 — INFO — layer 1, [1:5283], loss=-12.6896\n"
     ]
    },
    {
     "name": "stderr",
     "output_type": "stream",
     "text": [
      "epoch 1, layer 1:  48%|██████████████████████████████████▎                                    | 5333/11016 [13:32<14:30,  6.53it/s, loss=-10.7]"
     ]
    },
    {
     "name": "stdout",
     "output_type": "stream",
     "text": [
      "2025-07-21 22:54:37,297 — INFO — layer 1, [1:5333], loss=-17.2903\n",
      "2025-07-21 22:54:37,297 — INFO — layer 1, [1:5333], loss=-16.5055\n"
     ]
    },
    {
     "name": "stderr",
     "output_type": "stream",
     "text": [
      "epoch 1, layer 1:  49%|██████████████████████████████████▋                                    | 5383/11016 [13:40<13:57,  6.73it/s, loss=-13.6]"
     ]
    },
    {
     "name": "stdout",
     "output_type": "stream",
     "text": [
      "2025-07-21 22:54:44,937 — INFO — layer 1, [1:5383], loss=-16.5400\n",
      "2025-07-21 22:54:44,937 — INFO — layer 1, [1:5383], loss=-17.6955\n"
     ]
    },
    {
     "name": "stderr",
     "output_type": "stream",
     "text": [
      "epoch 1, layer 1:  49%|███████████████████████████████████                                    | 5433/11016 [13:48<15:10,  6.13it/s, loss=-14.8]"
     ]
    },
    {
     "name": "stdout",
     "output_type": "stream",
     "text": [
      "2025-07-21 22:54:52,871 — INFO — layer 1, [1:5433], loss=-11.6274\n",
      "2025-07-21 22:54:52,871 — INFO — layer 1, [1:5433], loss=-9.7706\n"
     ]
    },
    {
     "name": "stderr",
     "output_type": "stream",
     "text": [
      "epoch 1, layer 1:  50%|███████████████████████████████████▎                                   | 5483/11016 [13:55<13:23,  6.89it/s, loss=-12.5]"
     ]
    },
    {
     "name": "stdout",
     "output_type": "stream",
     "text": [
      "2025-07-21 22:55:00,371 — INFO — layer 1, [1:5483], loss=-5.6778\n",
      "2025-07-21 22:55:00,371 — INFO — layer 1, [1:5483], loss=-11.5129\n"
     ]
    },
    {
     "name": "stderr",
     "output_type": "stream",
     "text": [
      "epoch 1, layer 1:  50%|███████████████████████████████████▋                                   | 5533/11016 [14:03<13:41,  6.67it/s, loss=-17.2]"
     ]
    },
    {
     "name": "stdout",
     "output_type": "stream",
     "text": [
      "2025-07-21 22:55:07,995 — INFO — layer 1, [1:5533], loss=-6.7511\n",
      "2025-07-21 22:55:07,995 — INFO — layer 1, [1:5533], loss=-5.4349\n"
     ]
    },
    {
     "name": "stderr",
     "output_type": "stream",
     "text": [
      "epoch 1, layer 1:  51%|███████████████████████████████████▉                                   | 5583/11016 [14:10<12:49,  7.06it/s, loss=-13.7]"
     ]
    },
    {
     "name": "stdout",
     "output_type": "stream",
     "text": [
      "2025-07-21 22:55:15,447 — INFO — layer 1, [1:5583], loss=-9.5198\n",
      "2025-07-21 22:55:15,447 — INFO — layer 1, [1:5583], loss=-12.5496\n"
     ]
    },
    {
     "name": "stderr",
     "output_type": "stream",
     "text": [
      "epoch 1, layer 1:  51%|████████████████████████████████████▎                                  | 5633/11016 [14:18<13:56,  6.43it/s, loss=-12.1]"
     ]
    },
    {
     "name": "stdout",
     "output_type": "stream",
     "text": [
      "2025-07-21 22:55:23,059 — INFO — layer 1, [1:5633], loss=-12.4387\n",
      "2025-07-21 22:55:23,060 — INFO — layer 1, [1:5633], loss=-16.9990\n"
     ]
    },
    {
     "name": "stderr",
     "output_type": "stream",
     "text": [
      "epoch 1, layer 1:  52%|████████████████████████████████████▋                                  | 5683/11016 [14:26<13:20,  6.66it/s, loss=-9.14]"
     ]
    },
    {
     "name": "stdout",
     "output_type": "stream",
     "text": [
      "2025-07-21 22:55:30,642 — INFO — layer 1, [1:5683], loss=-18.7292\n",
      "2025-07-21 22:55:30,642 — INFO — layer 1, [1:5683], loss=-7.4671\n"
     ]
    },
    {
     "name": "stderr",
     "output_type": "stream",
     "text": [
      "epoch 1, layer 1:  52%|████████████████████████████████████▉                                  | 5733/11016 [14:33<13:58,  6.30it/s, loss=-18.3]"
     ]
    },
    {
     "name": "stdout",
     "output_type": "stream",
     "text": [
      "2025-07-21 22:55:38,213 — INFO — layer 1, [1:5733], loss=-18.3224\n",
      "2025-07-21 22:55:38,213 — INFO — layer 1, [1:5733], loss=-16.5373\n"
     ]
    },
    {
     "name": "stderr",
     "output_type": "stream",
     "text": [
      "epoch 1, layer 1:  52%|█████████████████████████████████████▎                                 | 5783/11016 [14:41<13:17,  6.56it/s, loss=-6.88]"
     ]
    },
    {
     "name": "stdout",
     "output_type": "stream",
     "text": [
      "2025-07-21 22:55:45,697 — INFO — layer 1, [1:5783], loss=-7.3484\n",
      "2025-07-21 22:55:45,697 — INFO — layer 1, [1:5783], loss=-8.7699\n"
     ]
    },
    {
     "name": "stderr",
     "output_type": "stream",
     "text": [
      "epoch 1, layer 1:  53%|█████████████████████████████████████▌                                 | 5833/11016 [14:48<13:23,  6.45it/s, loss=-7.73]"
     ]
    },
    {
     "name": "stdout",
     "output_type": "stream",
     "text": [
      "2025-07-21 22:55:53,492 — INFO — layer 1, [1:5833], loss=-14.4460\n",
      "2025-07-21 22:55:53,492 — INFO — layer 1, [1:5833], loss=-14.3965\n"
     ]
    },
    {
     "name": "stderr",
     "output_type": "stream",
     "text": [
      "epoch 1, layer 1:  53%|█████████████████████████████████████▉                                 | 5883/11016 [14:56<13:01,  6.57it/s, loss=-15.3]"
     ]
    },
    {
     "name": "stdout",
     "output_type": "stream",
     "text": [
      "2025-07-21 22:56:01,167 — INFO — layer 1, [1:5883], loss=-6.1523\n",
      "2025-07-21 22:56:01,167 — INFO — layer 1, [1:5883], loss=-6.2791\n"
     ]
    },
    {
     "name": "stderr",
     "output_type": "stream",
     "text": [
      "epoch 1, layer 1:  54%|██████████████████████████████████████▏                                | 5933/11016 [15:04<12:31,  6.76it/s, loss=-10.3]"
     ]
    },
    {
     "name": "stdout",
     "output_type": "stream",
     "text": [
      "2025-07-21 22:56:08,826 — INFO — layer 1, [1:5933], loss=-19.9582\n",
      "2025-07-21 22:56:08,826 — INFO — layer 1, [1:5933], loss=-3.2652\n"
     ]
    },
    {
     "name": "stderr",
     "output_type": "stream",
     "text": [
      "epoch 1, layer 1:  54%|███████████████████████████████████████▋                                 | 5983/11016 [15:11<12:47,  6.56it/s, loss=-17]"
     ]
    },
    {
     "name": "stdout",
     "output_type": "stream",
     "text": [
      "2025-07-21 22:56:16,453 — INFO — layer 1, [1:5983], loss=-20.8107\n",
      "2025-07-21 22:56:16,453 — INFO — layer 1, [1:5983], loss=-14.6564\n"
     ]
    },
    {
     "name": "stderr",
     "output_type": "stream",
     "text": [
      "epoch 1, layer 1:  55%|██████████████████████████████████████▉                                | 6033/11016 [15:19<12:00,  6.92it/s, loss=-12.2]"
     ]
    },
    {
     "name": "stdout",
     "output_type": "stream",
     "text": [
      "2025-07-21 22:56:24,046 — INFO — layer 1, [1:6033], loss=-8.4215\n",
      "2025-07-21 22:56:24,046 — INFO — layer 1, [1:6033], loss=-8.9701\n"
     ]
    },
    {
     "name": "stderr",
     "output_type": "stream",
     "text": [
      "epoch 1, layer 1:  55%|███████████████████████████████████████▏                               | 6083/11016 [15:27<13:02,  6.31it/s, loss=-12.5]"
     ]
    },
    {
     "name": "stdout",
     "output_type": "stream",
     "text": [
      "2025-07-21 22:56:31,626 — INFO — layer 1, [1:6083], loss=-15.0266\n",
      "2025-07-21 22:56:31,626 — INFO — layer 1, [1:6083], loss=0.8998\n"
     ]
    },
    {
     "name": "stderr",
     "output_type": "stream",
     "text": [
      "epoch 1, layer 1:  56%|███████████████████████████████████████▌                               | 6133/11016 [15:34<12:43,  6.39it/s, loss=-8.96]"
     ]
    },
    {
     "name": "stdout",
     "output_type": "stream",
     "text": [
      "2025-07-21 22:56:39,201 — INFO — layer 1, [1:6133], loss=-19.9901\n",
      "2025-07-21 22:56:39,201 — INFO — layer 1, [1:6133], loss=-11.6966\n"
     ]
    },
    {
     "name": "stderr",
     "output_type": "stream",
     "text": [
      "epoch 1, layer 1:  56%|███████████████████████████████████████▊                               | 6183/11016 [15:42<12:02,  6.69it/s, loss=-13.7]"
     ]
    },
    {
     "name": "stdout",
     "output_type": "stream",
     "text": [
      "2025-07-21 22:56:46,736 — INFO — layer 1, [1:6183], loss=-19.0761\n",
      "2025-07-21 22:56:46,736 — INFO — layer 1, [1:6183], loss=-17.0567\n"
     ]
    },
    {
     "name": "stderr",
     "output_type": "stream",
     "text": [
      "epoch 1, layer 1:  57%|████████████████████████████████████████▏                              | 6233/11016 [15:49<12:04,  6.60it/s, loss=-17.3]"
     ]
    },
    {
     "name": "stdout",
     "output_type": "stream",
     "text": [
      "2025-07-21 22:56:54,332 — INFO — layer 1, [1:6233], loss=-8.5501\n",
      "2025-07-21 22:56:54,332 — INFO — layer 1, [1:6233], loss=-12.0226\n"
     ]
    },
    {
     "name": "stderr",
     "output_type": "stream",
     "text": [
      "epoch 1, layer 1:  57%|████████████████████████████████████████▍                              | 6283/11016 [15:57<12:50,  6.15it/s, loss=-13.8]"
     ]
    },
    {
     "name": "stdout",
     "output_type": "stream",
     "text": [
      "2025-07-21 22:57:02,044 — INFO — layer 1, [1:6283], loss=-4.4112\n",
      "2025-07-21 22:57:02,044 — INFO — layer 1, [1:6283], loss=-7.3598\n"
     ]
    },
    {
     "name": "stderr",
     "output_type": "stream",
     "text": [
      "epoch 1, layer 1:  57%|████████████████████████████████████████▊                              | 6333/11016 [16:05<12:17,  6.35it/s, loss=-2.54]"
     ]
    },
    {
     "name": "stdout",
     "output_type": "stream",
     "text": [
      "2025-07-21 22:57:09,706 — INFO — layer 1, [1:6333], loss=-14.4891\n",
      "2025-07-21 22:57:09,706 — INFO — layer 1, [1:6333], loss=-17.0920\n"
     ]
    },
    {
     "name": "stderr",
     "output_type": "stream",
     "text": [
      "epoch 1, layer 1:  58%|█████████████████████████████████████████▏                             | 6383/11016 [16:12<11:41,  6.60it/s, loss=-20.8]"
     ]
    },
    {
     "name": "stdout",
     "output_type": "stream",
     "text": [
      "2025-07-21 22:57:17,394 — INFO — layer 1, [1:6383], loss=-14.5842\n",
      "2025-07-21 22:57:17,394 — INFO — layer 1, [1:6383], loss=-10.4780\n"
     ]
    },
    {
     "name": "stderr",
     "output_type": "stream",
     "text": [
      "epoch 1, layer 1:  58%|█████████████████████████████████████████▍                             | 6433/11016 [16:20<11:20,  6.73it/s, loss=-6.89]"
     ]
    },
    {
     "name": "stdout",
     "output_type": "stream",
     "text": [
      "2025-07-21 22:57:25,045 — INFO — layer 1, [1:6433], loss=-15.1051\n",
      "2025-07-21 22:57:25,045 — INFO — layer 1, [1:6433], loss=-12.6886\n"
     ]
    },
    {
     "name": "stderr",
     "output_type": "stream",
     "text": [
      "epoch 1, layer 1:  59%|█████████████████████████████████████████▊                             | 6483/11016 [16:27<11:18,  6.68it/s, loss=-4.39]"
     ]
    },
    {
     "name": "stdout",
     "output_type": "stream",
     "text": [
      "2025-07-21 22:57:32,510 — INFO — layer 1, [1:6483], loss=-12.4711\n",
      "2025-07-21 22:57:32,510 — INFO — layer 1, [1:6483], loss=-20.7077\n"
     ]
    },
    {
     "name": "stderr",
     "output_type": "stream",
     "text": [
      "epoch 1, layer 1:  59%|██████████████████████████████████████████                             | 6533/11016 [16:35<11:19,  6.60it/s, loss=-12.2]"
     ]
    },
    {
     "name": "stdout",
     "output_type": "stream",
     "text": [
      "2025-07-21 22:57:40,020 — INFO — layer 1, [1:6533], loss=-11.7456\n",
      "2025-07-21 22:57:40,020 — INFO — layer 1, [1:6533], loss=-15.4426\n"
     ]
    },
    {
     "name": "stderr",
     "output_type": "stream",
     "text": [
      "epoch 1, layer 1:  60%|███████████████████████████████████████████▌                             | 6583/11016 [16:43<11:43,  6.30it/s, loss=-14]"
     ]
    },
    {
     "name": "stdout",
     "output_type": "stream",
     "text": [
      "2025-07-21 22:57:47,653 — INFO — layer 1, [1:6583], loss=-17.9108\n",
      "2025-07-21 22:57:47,653 — INFO — layer 1, [1:6583], loss=-17.4861\n"
     ]
    },
    {
     "name": "stderr",
     "output_type": "stream",
     "text": [
      "epoch 1, layer 1:  60%|██████████████████████████████████████████▊                            | 6633/11016 [16:50<11:27,  6.37it/s, loss=-9.37]"
     ]
    },
    {
     "name": "stdout",
     "output_type": "stream",
     "text": [
      "2025-07-21 22:57:55,258 — INFO — layer 1, [1:6633], loss=-12.5811\n",
      "2025-07-21 22:57:55,258 — INFO — layer 1, [1:6633], loss=-16.5484\n"
     ]
    },
    {
     "name": "stderr",
     "output_type": "stream",
     "text": [
      "epoch 1, layer 1:  61%|███████████████████████████████████████████                            | 6683/11016 [16:58<11:13,  6.43it/s, loss=-8.69]"
     ]
    },
    {
     "name": "stdout",
     "output_type": "stream",
     "text": [
      "2025-07-21 22:58:02,961 — INFO — layer 1, [1:6683], loss=-12.8255\n",
      "2025-07-21 22:58:02,961 — INFO — layer 1, [1:6683], loss=-16.1270\n"
     ]
    },
    {
     "name": "stderr",
     "output_type": "stream",
     "text": [
      "epoch 1, layer 1:  61%|███████████████████████████████████████████▍                           | 6733/11016 [17:05<10:54,  6.54it/s, loss=-20.7]"
     ]
    },
    {
     "name": "stdout",
     "output_type": "stream",
     "text": [
      "2025-07-21 22:58:10,565 — INFO — layer 1, [1:6733], loss=-14.2984\n",
      "2025-07-21 22:58:10,565 — INFO — layer 1, [1:6733], loss=-9.9891\n"
     ]
    },
    {
     "name": "stderr",
     "output_type": "stream",
     "text": [
      "epoch 1, layer 1:  62%|███████████████████████████████████████████▋                           | 6783/11016 [17:13<10:32,  6.70it/s, loss=-11.6]"
     ]
    },
    {
     "name": "stdout",
     "output_type": "stream",
     "text": [
      "2025-07-21 22:58:18,098 — INFO — layer 1, [1:6783], loss=-13.5907\n",
      "2025-07-21 22:58:18,098 — INFO — layer 1, [1:6783], loss=-3.3714\n"
     ]
    },
    {
     "name": "stderr",
     "output_type": "stream",
     "text": [
      "epoch 1, layer 1:  62%|████████████████████████████████████████████                           | 6833/11016 [17:21<10:54,  6.39it/s, loss=-5.14]"
     ]
    },
    {
     "name": "stdout",
     "output_type": "stream",
     "text": [
      "2025-07-21 22:58:25,721 — INFO — layer 1, [1:6833], loss=-18.3313\n",
      "2025-07-21 22:58:25,721 — INFO — layer 1, [1:6833], loss=-10.7964\n"
     ]
    },
    {
     "name": "stderr",
     "output_type": "stream",
     "text": [
      "epoch 1, layer 1:  62%|████████████████████████████████████████████▎                          | 6883/11016 [17:28<10:48,  6.37it/s, loss=-15.9]"
     ]
    },
    {
     "name": "stdout",
     "output_type": "stream",
     "text": [
      "2025-07-21 22:58:33,424 — INFO — layer 1, [1:6883], loss=-15.3606\n",
      "2025-07-21 22:58:33,424 — INFO — layer 1, [1:6883], loss=-6.5652\n"
     ]
    },
    {
     "name": "stderr",
     "output_type": "stream",
     "text": [
      "epoch 1, layer 1:  63%|████████████████████████████████████████████▋                          | 6933/11016 [17:36<10:20,  6.58it/s, loss=-16.6]"
     ]
    },
    {
     "name": "stdout",
     "output_type": "stream",
     "text": [
      "2025-07-21 22:58:41,050 — INFO — layer 1, [1:6933], loss=-11.1003\n",
      "2025-07-21 22:58:41,050 — INFO — layer 1, [1:6933], loss=-4.8657\n"
     ]
    },
    {
     "name": "stderr",
     "output_type": "stream",
     "text": [
      "epoch 1, layer 1:  63%|█████████████████████████████████████████████                          | 6983/11016 [17:44<10:35,  6.35it/s, loss=-15.7]"
     ]
    },
    {
     "name": "stdout",
     "output_type": "stream",
     "text": [
      "2025-07-21 22:58:48,862 — INFO — layer 1, [1:6983], loss=-20.0507\n",
      "2025-07-21 22:58:48,862 — INFO — layer 1, [1:6983], loss=-22.0974\n"
     ]
    },
    {
     "name": "stderr",
     "output_type": "stream",
     "text": [
      "epoch 1, layer 1:  64%|██████████████████████████████████████████████▌                          | 7033/11016 [17:52<10:50,  6.13it/s, loss=-22]"
     ]
    },
    {
     "name": "stdout",
     "output_type": "stream",
     "text": [
      "2025-07-21 22:58:56,877 — INFO — layer 1, [1:7033], loss=-7.3932\n",
      "2025-07-21 22:58:56,877 — INFO — layer 1, [1:7033], loss=-17.8961\n"
     ]
    },
    {
     "name": "stderr",
     "output_type": "stream",
     "text": [
      "epoch 1, layer 1:  64%|█████████████████████████████████████████████▋                         | 7083/11016 [17:59<09:24,  6.97it/s, loss=-16.7]"
     ]
    },
    {
     "name": "stdout",
     "output_type": "stream",
     "text": [
      "2025-07-21 22:59:04,501 — INFO — layer 1, [1:7083], loss=-6.8519\n",
      "2025-07-21 22:59:04,501 — INFO — layer 1, [1:7083], loss=-7.8660\n"
     ]
    },
    {
     "name": "stderr",
     "output_type": "stream",
     "text": [
      "epoch 1, layer 1:  65%|█████████████████████████████████████████████▉                         | 7133/11016 [18:07<09:29,  6.81it/s, loss=-2.02]"
     ]
    },
    {
     "name": "stdout",
     "output_type": "stream",
     "text": [
      "2025-07-21 22:59:12,203 — INFO — layer 1, [1:7133], loss=-15.2486\n",
      "2025-07-21 22:59:12,203 — INFO — layer 1, [1:7133], loss=-13.7460\n"
     ]
    },
    {
     "name": "stderr",
     "output_type": "stream",
     "text": [
      "epoch 1, layer 1:  65%|██████████████████████████████████████████████▎                        | 7183/11016 [18:15<09:23,  6.81it/s, loss=-13.3]"
     ]
    },
    {
     "name": "stdout",
     "output_type": "stream",
     "text": [
      "2025-07-21 22:59:19,727 — INFO — layer 1, [1:7183], loss=-9.8623\n",
      "2025-07-21 22:59:19,728 — INFO — layer 1, [1:7183], loss=-9.3540\n"
     ]
    },
    {
     "name": "stderr",
     "output_type": "stream",
     "text": [
      "epoch 1, layer 1:  66%|██████████████████████████████████████████████▌                        | 7233/11016 [18:22<09:14,  6.82it/s, loss=-6.54]"
     ]
    },
    {
     "name": "stdout",
     "output_type": "stream",
     "text": [
      "2025-07-21 22:59:27,315 — INFO — layer 1, [1:7233], loss=-7.0390\n",
      "2025-07-21 22:59:27,315 — INFO — layer 1, [1:7233], loss=-13.4298\n"
     ]
    },
    {
     "name": "stderr",
     "output_type": "stream",
     "text": [
      "epoch 1, layer 1:  66%|██████████████████████████████████████████████▉                        | 7283/11016 [18:30<09:51,  6.31it/s, loss=-15.2]"
     ]
    },
    {
     "name": "stdout",
     "output_type": "stream",
     "text": [
      "2025-07-21 22:59:35,084 — INFO — layer 1, [1:7283], loss=-6.8660\n",
      "2025-07-21 22:59:35,084 — INFO — layer 1, [1:7283], loss=-14.6667\n"
     ]
    },
    {
     "name": "stderr",
     "output_type": "stream",
     "text": [
      "epoch 1, layer 1:  67%|███████████████████████████████████████████████▎                       | 7333/11016 [18:38<09:18,  6.60it/s, loss=-18.6]"
     ]
    },
    {
     "name": "stdout",
     "output_type": "stream",
     "text": [
      "2025-07-21 22:59:42,662 — INFO — layer 1, [1:7333], loss=-15.6377\n",
      "2025-07-21 22:59:42,662 — INFO — layer 1, [1:7333], loss=-14.3593\n"
     ]
    },
    {
     "name": "stderr",
     "output_type": "stream",
     "text": [
      "epoch 1, layer 1:  67%|███████████████████████████████████████████████▌                       | 7383/11016 [18:45<09:27,  6.40it/s, loss=-11.3]"
     ]
    },
    {
     "name": "stdout",
     "output_type": "stream",
     "text": [
      "2025-07-21 22:59:50,444 — INFO — layer 1, [1:7383], loss=-24.6991\n",
      "2025-07-21 22:59:50,444 — INFO — layer 1, [1:7383], loss=-16.7730\n"
     ]
    },
    {
     "name": "stderr",
     "output_type": "stream",
     "text": [
      "epoch 1, layer 1:  67%|███████████████████████████████████████████████▉                       | 7433/11016 [18:53<09:01,  6.62it/s, loss=-9.24]"
     ]
    },
    {
     "name": "stdout",
     "output_type": "stream",
     "text": [
      "2025-07-21 22:59:57,875 — INFO — layer 1, [1:7433], loss=-20.1077\n",
      "2025-07-21 22:59:57,875 — INFO — layer 1, [1:7433], loss=-11.8202\n"
     ]
    },
    {
     "name": "stderr",
     "output_type": "stream",
     "text": [
      "epoch 1, layer 1:  68%|████████████████████████████████████████████████▏                      | 7483/11016 [19:00<09:56,  5.92it/s, loss=-10.7]"
     ]
    },
    {
     "name": "stdout",
     "output_type": "stream",
     "text": [
      "2025-07-21 23:00:05,536 — INFO — layer 1, [1:7483], loss=-12.3091\n",
      "2025-07-21 23:00:05,536 — INFO — layer 1, [1:7483], loss=-13.6675\n"
     ]
    },
    {
     "name": "stderr",
     "output_type": "stream",
     "text": [
      "epoch 1, layer 1:  68%|████████████████████████████████████████████████▌                      | 7533/11016 [19:08<08:42,  6.67it/s, loss=-13.3]"
     ]
    },
    {
     "name": "stdout",
     "output_type": "stream",
     "text": [
      "2025-07-21 23:00:13,092 — INFO — layer 1, [1:7533], loss=-7.4290\n",
      "2025-07-21 23:00:13,092 — INFO — layer 1, [1:7533], loss=-11.7596\n"
     ]
    },
    {
     "name": "stderr",
     "output_type": "stream",
     "text": [
      "epoch 1, layer 1:  69%|████████████████████████████████████████████████▊                      | 7583/11016 [19:16<08:47,  6.51it/s, loss=-14.3]"
     ]
    },
    {
     "name": "stdout",
     "output_type": "stream",
     "text": [
      "2025-07-21 23:00:20,696 — INFO — layer 1, [1:7583], loss=-11.4829\n",
      "2025-07-21 23:00:20,696 — INFO — layer 1, [1:7583], loss=-8.0446\n"
     ]
    },
    {
     "name": "stderr",
     "output_type": "stream",
     "text": [
      "epoch 1, layer 1:  69%|█████████████████████████████████████████████████▏                     | 7633/11016 [19:23<07:52,  7.17it/s, loss=-9.93]"
     ]
    },
    {
     "name": "stdout",
     "output_type": "stream",
     "text": [
      "2025-07-21 23:00:28,112 — INFO — layer 1, [1:7633], loss=-23.2620\n",
      "2025-07-21 23:00:28,112 — INFO — layer 1, [1:7633], loss=-21.8081\n"
     ]
    },
    {
     "name": "stderr",
     "output_type": "stream",
     "text": [
      "epoch 1, layer 1:  70%|█████████████████████████████████████████████████▌                     | 7683/11016 [19:31<08:29,  6.54it/s, loss=-24.2]"
     ]
    },
    {
     "name": "stdout",
     "output_type": "stream",
     "text": [
      "2025-07-21 23:00:35,693 — INFO — layer 1, [1:7683], loss=-4.8206\n",
      "2025-07-21 23:00:35,693 — INFO — layer 1, [1:7683], loss=-9.1522\n"
     ]
    },
    {
     "name": "stderr",
     "output_type": "stream",
     "text": [
      "epoch 1, layer 1:  70%|█████████████████████████████████████████████████▊                     | 7733/11016 [19:38<08:37,  6.34it/s, loss=-22.5]"
     ]
    },
    {
     "name": "stdout",
     "output_type": "stream",
     "text": [
      "2025-07-21 23:00:43,344 — INFO — layer 1, [1:7733], loss=-9.0928\n",
      "2025-07-21 23:00:43,344 — INFO — layer 1, [1:7733], loss=-12.8969\n"
     ]
    },
    {
     "name": "stderr",
     "output_type": "stream",
     "text": [
      "epoch 1, layer 1:  71%|██████████████████████████████████████████████████▏                    | 7783/11016 [19:46<07:38,  7.05it/s, loss=-1.69]"
     ]
    },
    {
     "name": "stdout",
     "output_type": "stream",
     "text": [
      "2025-07-21 23:00:51,002 — INFO — layer 1, [1:7783], loss=-16.8554\n",
      "2025-07-21 23:00:51,002 — INFO — layer 1, [1:7783], loss=-16.7570\n"
     ]
    },
    {
     "name": "stderr",
     "output_type": "stream",
     "text": [
      "epoch 1, layer 1:  71%|██████████████████████████████████████████████████▍                    | 7833/11016 [19:53<07:48,  6.80it/s, loss=-17.5]"
     ]
    },
    {
     "name": "stdout",
     "output_type": "stream",
     "text": [
      "2025-07-21 23:00:58,469 — INFO — layer 1, [1:7833], loss=-18.3111\n",
      "2025-07-21 23:00:58,469 — INFO — layer 1, [1:7833], loss=-5.0418\n"
     ]
    },
    {
     "name": "stderr",
     "output_type": "stream",
     "text": [
      "epoch 1, layer 1:  72%|██████████████████████████████████████████████████▊                    | 7883/11016 [20:01<07:47,  6.70it/s, loss=-18.7]"
     ]
    },
    {
     "name": "stdout",
     "output_type": "stream",
     "text": [
      "2025-07-21 23:01:05,915 — INFO — layer 1, [1:7883], loss=-17.4860\n",
      "2025-07-21 23:01:05,915 — INFO — layer 1, [1:7883], loss=-17.3849\n"
     ]
    },
    {
     "name": "stderr",
     "output_type": "stream",
     "text": [
      "epoch 1, layer 1:  72%|███████████████████████████████████████████████████▏                   | 7933/11016 [20:08<07:19,  7.01it/s, loss=-23.6]"
     ]
    },
    {
     "name": "stdout",
     "output_type": "stream",
     "text": [
      "2025-07-21 23:01:13,521 — INFO — layer 1, [1:7933], loss=-17.6905\n",
      "2025-07-21 23:01:13,521 — INFO — layer 1, [1:7933], loss=-17.1947\n"
     ]
    },
    {
     "name": "stderr",
     "output_type": "stream",
     "text": [
      "epoch 1, layer 1:  72%|███████████████████████████████████████████████████▍                   | 7983/11016 [20:16<08:09,  6.20it/s, loss=-7.87]"
     ]
    },
    {
     "name": "stdout",
     "output_type": "stream",
     "text": [
      "2025-07-21 23:01:21,354 — INFO — layer 1, [1:7983], loss=-23.3376\n",
      "2025-07-21 23:01:21,354 — INFO — layer 1, [1:7983], loss=-10.4557\n"
     ]
    },
    {
     "name": "stderr",
     "output_type": "stream",
     "text": [
      "epoch 1, layer 1:  73%|███████████████████████████████████████████████████▊                   | 8033/11016 [20:24<07:44,  6.42it/s, loss=-10.1]"
     ]
    },
    {
     "name": "stdout",
     "output_type": "stream",
     "text": [
      "2025-07-21 23:01:28,856 — INFO — layer 1, [1:8033], loss=-10.3615\n",
      "2025-07-21 23:01:28,856 — INFO — layer 1, [1:8033], loss=-0.6393\n"
     ]
    },
    {
     "name": "stderr",
     "output_type": "stream",
     "text": [
      "epoch 1, layer 1:  73%|████████████████████████████████████████████████████                   | 8083/11016 [20:31<07:01,  6.96it/s, loss=-4.37]"
     ]
    },
    {
     "name": "stdout",
     "output_type": "stream",
     "text": [
      "2025-07-21 23:01:36,483 — INFO — layer 1, [1:8083], loss=-21.4180\n",
      "2025-07-21 23:01:36,483 — INFO — layer 1, [1:8083], loss=-3.9788\n"
     ]
    },
    {
     "name": "stderr",
     "output_type": "stream",
     "text": [
      "epoch 1, layer 1:  74%|████████████████████████████████████████████████████▍                  | 8133/11016 [20:39<07:13,  6.65it/s, loss=-7.74]"
     ]
    },
    {
     "name": "stdout",
     "output_type": "stream",
     "text": [
      "2025-07-21 23:01:44,033 — INFO — layer 1, [1:8133], loss=-12.8120\n",
      "2025-07-21 23:01:44,033 — INFO — layer 1, [1:8133], loss=-11.4579\n"
     ]
    },
    {
     "name": "stderr",
     "output_type": "stream",
     "text": [
      "epoch 1, layer 1:  74%|█████████████████████████████████████████████████████▍                  | 8183/11016 [20:47<07:25,  6.36it/s, loss=-2.2]"
     ]
    },
    {
     "name": "stdout",
     "output_type": "stream",
     "text": [
      "2025-07-21 23:01:51,749 — INFO — layer 1, [1:8183], loss=-3.8723\n",
      "2025-07-21 23:01:51,749 — INFO — layer 1, [1:8183], loss=-20.0292\n"
     ]
    },
    {
     "name": "stderr",
     "output_type": "stream",
     "text": [
      "epoch 1, layer 1:  75%|█████████████████████████████████████████████████████                  | 8233/11016 [20:55<07:24,  6.27it/s, loss=-13.9]"
     ]
    },
    {
     "name": "stdout",
     "output_type": "stream",
     "text": [
      "2025-07-21 23:01:59,590 — INFO — layer 1, [1:8233], loss=-14.4900\n",
      "2025-07-21 23:01:59,590 — INFO — layer 1, [1:8233], loss=-6.4741\n"
     ]
    },
    {
     "name": "stderr",
     "output_type": "stream",
     "text": [
      "epoch 1, layer 1:  75%|██████████████████████████████████████████████████████▉                  | 8283/11016 [21:02<06:49,  6.68it/s, loss=-18]"
     ]
    },
    {
     "name": "stdout",
     "output_type": "stream",
     "text": [
      "2025-07-21 23:02:07,203 — INFO — layer 1, [1:8283], loss=-14.2899\n",
      "2025-07-21 23:02:07,204 — INFO — layer 1, [1:8283], loss=-8.4661\n"
     ]
    },
    {
     "name": "stderr",
     "output_type": "stream",
     "text": [
      "epoch 1, layer 1:  76%|█████████████████████████████████████████████████████▋                 | 8333/11016 [21:10<07:10,  6.23it/s, loss=-17.3]"
     ]
    },
    {
     "name": "stdout",
     "output_type": "stream",
     "text": [
      "2025-07-21 23:02:14,939 — INFO — layer 1, [1:8333], loss=-13.7819\n",
      "2025-07-21 23:02:14,939 — INFO — layer 1, [1:8333], loss=-12.7582\n"
     ]
    },
    {
     "name": "stderr",
     "output_type": "stream",
     "text": [
      "epoch 1, layer 1:  76%|██████████████████████████████████████████████████████                 | 8383/11016 [21:17<06:39,  6.59it/s, loss=-7.27]"
     ]
    },
    {
     "name": "stdout",
     "output_type": "stream",
     "text": [
      "2025-07-21 23:02:22,436 — INFO — layer 1, [1:8383], loss=-8.9501\n",
      "2025-07-21 23:02:22,436 — INFO — layer 1, [1:8383], loss=-3.2881\n"
     ]
    },
    {
     "name": "stderr",
     "output_type": "stream",
     "text": [
      "epoch 1, layer 1:  77%|██████████████████████████████████████████████████████▎                | 8433/11016 [21:25<06:56,  6.20it/s, loss=-16.7]"
     ]
    },
    {
     "name": "stdout",
     "output_type": "stream",
     "text": [
      "2025-07-21 23:02:30,226 — INFO — layer 1, [1:8433], loss=-0.5749\n",
      "2025-07-21 23:02:30,226 — INFO — layer 1, [1:8433], loss=-23.2462\n"
     ]
    },
    {
     "name": "stderr",
     "output_type": "stream",
     "text": [
      "epoch 1, layer 1:  77%|██████████████████████████████████████████████████████▋                | 8483/11016 [21:33<06:35,  6.41it/s, loss=-13.9]"
     ]
    },
    {
     "name": "stdout",
     "output_type": "stream",
     "text": [
      "2025-07-21 23:02:37,904 — INFO — layer 1, [1:8483], loss=-12.3092\n",
      "2025-07-21 23:02:37,905 — INFO — layer 1, [1:8483], loss=-22.4290\n"
     ]
    },
    {
     "name": "stderr",
     "output_type": "stream",
     "text": [
      "epoch 1, layer 1:  77%|██████████████████████████████████████████████████████▉                | 8533/11016 [21:40<06:13,  6.64it/s, loss=-18.3]"
     ]
    },
    {
     "name": "stdout",
     "output_type": "stream",
     "text": [
      "2025-07-21 23:02:45,511 — INFO — layer 1, [1:8533], loss=-14.4328\n",
      "2025-07-21 23:02:45,511 — INFO — layer 1, [1:8533], loss=-12.5985\n"
     ]
    },
    {
     "name": "stderr",
     "output_type": "stream",
     "text": [
      "epoch 1, layer 1:  78%|███████████████████████████████████████████████████████▎               | 8583/11016 [21:48<06:09,  6.58it/s, loss=-13.9]"
     ]
    },
    {
     "name": "stdout",
     "output_type": "stream",
     "text": [
      "2025-07-21 23:02:52,962 — INFO — layer 1, [1:8583], loss=-3.0102\n",
      "2025-07-21 23:02:52,962 — INFO — layer 1, [1:8583], loss=-11.2516\n"
     ]
    },
    {
     "name": "stderr",
     "output_type": "stream",
     "text": [
      "epoch 1, layer 1:  78%|███████████████████████████████████████████████████████▋               | 8633/11016 [21:55<05:51,  6.78it/s, loss=-6.64]"
     ]
    },
    {
     "name": "stdout",
     "output_type": "stream",
     "text": [
      "2025-07-21 23:03:00,564 — INFO — layer 1, [1:8633], loss=-10.5083\n",
      "2025-07-21 23:03:00,564 — INFO — layer 1, [1:8633], loss=-10.4722\n"
     ]
    },
    {
     "name": "stderr",
     "output_type": "stream",
     "text": [
      "epoch 1, layer 1:  79%|███████████████████████████████████████████████████████▉               | 8683/11016 [22:03<05:42,  6.80it/s, loss=-13.4]"
     ]
    },
    {
     "name": "stdout",
     "output_type": "stream",
     "text": [
      "2025-07-21 23:03:08,028 — INFO — layer 1, [1:8683], loss=-13.1698\n",
      "2025-07-21 23:03:08,028 — INFO — layer 1, [1:8683], loss=-5.4764\n"
     ]
    },
    {
     "name": "stderr",
     "output_type": "stream",
     "text": [
      "epoch 1, layer 1:  79%|████████████████████████████████████████████████████████▎              | 8733/11016 [22:11<06:18,  6.03it/s, loss=-12.5]"
     ]
    },
    {
     "name": "stdout",
     "output_type": "stream",
     "text": [
      "2025-07-21 23:03:15,664 — INFO — layer 1, [1:8733], loss=-1.7670\n",
      "2025-07-21 23:03:15,664 — INFO — layer 1, [1:8733], loss=-10.0082\n"
     ]
    },
    {
     "name": "stderr",
     "output_type": "stream",
     "text": [
      "epoch 1, layer 1:  80%|████████████████████████████████████████████████████████▌              | 8783/11016 [22:18<05:43,  6.50it/s, loss=-4.29]"
     ]
    },
    {
     "name": "stdout",
     "output_type": "stream",
     "text": [
      "2025-07-21 23:03:23,366 — INFO — layer 1, [1:8783], loss=-19.7366\n",
      "2025-07-21 23:03:23,366 — INFO — layer 1, [1:8783], loss=-1.4513\n"
     ]
    },
    {
     "name": "stderr",
     "output_type": "stream",
     "text": [
      "epoch 1, layer 1:  80%|██████████████████████████████████████████████████████████▌              | 8833/11016 [22:26<05:46,  6.30it/s, loss=-11]"
     ]
    },
    {
     "name": "stdout",
     "output_type": "stream",
     "text": [
      "2025-07-21 23:03:30,967 — INFO — layer 1, [1:8833], loss=-20.3414\n",
      "2025-07-21 23:03:30,967 — INFO — layer 1, [1:8833], loss=-12.1975\n"
     ]
    },
    {
     "name": "stderr",
     "output_type": "stream",
     "text": [
      "epoch 1, layer 1:  81%|█████████████████████████████████████████████████████████▎             | 8883/11016 [22:33<05:32,  6.42it/s, loss=-22.8]"
     ]
    },
    {
     "name": "stdout",
     "output_type": "stream",
     "text": [
      "2025-07-21 23:03:38,562 — INFO — layer 1, [1:8883], loss=-12.7895\n",
      "2025-07-21 23:03:38,562 — INFO — layer 1, [1:8883], loss=-15.4256\n"
     ]
    },
    {
     "name": "stderr",
     "output_type": "stream",
     "text": [
      "epoch 1, layer 1:  81%|█████████████████████████████████████████████████████████▌             | 8933/11016 [22:41<05:32,  6.26it/s, loss=-23.9]"
     ]
    },
    {
     "name": "stdout",
     "output_type": "stream",
     "text": [
      "2025-07-21 23:03:46,138 — INFO — layer 1, [1:8933], loss=-2.5376\n",
      "2025-07-21 23:03:46,138 — INFO — layer 1, [1:8933], loss=-10.7488\n"
     ]
    },
    {
     "name": "stderr",
     "output_type": "stream",
     "text": [
      "epoch 1, layer 1:  82%|█████████████████████████████████████████████████████████▉             | 8983/11016 [22:49<05:06,  6.64it/s, loss=-4.89]"
     ]
    },
    {
     "name": "stdout",
     "output_type": "stream",
     "text": [
      "2025-07-21 23:03:53,680 — INFO — layer 1, [1:8983], loss=-13.0528\n",
      "2025-07-21 23:03:53,680 — INFO — layer 1, [1:8983], loss=-5.9989\n"
     ]
    },
    {
     "name": "stderr",
     "output_type": "stream",
     "text": [
      "epoch 1, layer 1:  82%|██████████████████████████████████████████████████████████▏            | 9033/11016 [22:56<04:54,  6.74it/s, loss=-12.3]"
     ]
    },
    {
     "name": "stdout",
     "output_type": "stream",
     "text": [
      "2025-07-21 23:04:01,398 — INFO — layer 1, [1:9033], loss=-23.5727\n",
      "2025-07-21 23:04:01,398 — INFO — layer 1, [1:9033], loss=-6.8011\n"
     ]
    },
    {
     "name": "stderr",
     "output_type": "stream",
     "text": [
      "epoch 1, layer 1:  82%|██████████████████████████████████████████████████████████▌            | 9083/11016 [23:04<05:12,  6.19it/s, loss=-21.3]"
     ]
    },
    {
     "name": "stdout",
     "output_type": "stream",
     "text": [
      "2025-07-21 23:04:08,997 — INFO — layer 1, [1:9083], loss=-15.9543\n",
      "2025-07-21 23:04:08,997 — INFO — layer 1, [1:9083], loss=-0.9075\n"
     ]
    },
    {
     "name": "stderr",
     "output_type": "stream",
     "text": [
      "epoch 1, layer 1:  83%|██████████████████████████████████████████████████████████▊            | 9133/11016 [23:12<04:35,  6.84it/s, loss=-10.8]"
     ]
    },
    {
     "name": "stdout",
     "output_type": "stream",
     "text": [
      "2025-07-21 23:04:16,659 — INFO — layer 1, [1:9133], loss=-13.5991\n",
      "2025-07-21 23:04:16,659 — INFO — layer 1, [1:9133], loss=-6.5985\n"
     ]
    },
    {
     "name": "stderr",
     "output_type": "stream",
     "text": [
      "epoch 1, layer 1:  83%|███████████████████████████████████████████████████████████▏           | 9183/11016 [23:19<04:49,  6.32it/s, loss=-10.5]"
     ]
    },
    {
     "name": "stdout",
     "output_type": "stream",
     "text": [
      "2025-07-21 23:04:24,233 — INFO — layer 1, [1:9183], loss=-0.6972\n",
      "2025-07-21 23:04:24,233 — INFO — layer 1, [1:9183], loss=-18.1872\n"
     ]
    },
    {
     "name": "stderr",
     "output_type": "stream",
     "text": [
      "epoch 1, layer 1:  84%|███████████████████████████████████████████████████████████▌           | 9233/11016 [23:27<04:28,  6.63it/s, loss=-14.3]"
     ]
    },
    {
     "name": "stdout",
     "output_type": "stream",
     "text": [
      "2025-07-21 23:04:31,660 — INFO — layer 1, [1:9233], loss=-14.9100\n",
      "2025-07-21 23:04:31,660 — INFO — layer 1, [1:9233], loss=-10.1968\n"
     ]
    },
    {
     "name": "stderr",
     "output_type": "stream",
     "text": [
      "epoch 1, layer 1:  84%|███████████████████████████████████████████████████████████▊           | 9283/11016 [23:34<04:28,  6.45it/s, loss=-9.91]"
     ]
    },
    {
     "name": "stdout",
     "output_type": "stream",
     "text": [
      "2025-07-21 23:04:39,395 — INFO — layer 1, [1:9283], loss=-8.3630\n",
      "2025-07-21 23:04:39,395 — INFO — layer 1, [1:9283], loss=-14.9545\n"
     ]
    },
    {
     "name": "stderr",
     "output_type": "stream",
     "text": [
      "epoch 1, layer 1:  85%|████████████████████████████████████████████████████████████▏          | 9333/11016 [23:42<04:06,  6.83it/s, loss=-15.3]"
     ]
    },
    {
     "name": "stdout",
     "output_type": "stream",
     "text": [
      "2025-07-21 23:04:46,897 — INFO — layer 1, [1:9333], loss=-2.3204\n",
      "2025-07-21 23:04:46,897 — INFO — layer 1, [1:9333], loss=-1.2185\n"
     ]
    },
    {
     "name": "stderr",
     "output_type": "stream",
     "text": [
      "epoch 1, layer 1:  85%|████████████████████████████████████████████████████████████▍          | 9383/11016 [23:49<04:12,  6.46it/s, loss=-16.9]"
     ]
    },
    {
     "name": "stdout",
     "output_type": "stream",
     "text": [
      "2025-07-21 23:04:54,489 — INFO — layer 1, [1:9383], loss=-6.4755\n",
      "2025-07-21 23:04:54,489 — INFO — layer 1, [1:9383], loss=-5.6932\n"
     ]
    },
    {
     "name": "stderr",
     "output_type": "stream",
     "text": [
      "epoch 1, layer 1:  86%|████████████████████████████████████████████████████████████▊          | 9433/11016 [23:57<03:58,  6.65it/s, loss=-8.13]"
     ]
    },
    {
     "name": "stdout",
     "output_type": "stream",
     "text": [
      "2025-07-21 23:05:02,153 — INFO — layer 1, [1:9433], loss=-15.0305\n",
      "2025-07-21 23:05:02,153 — INFO — layer 1, [1:9433], loss=-12.6903\n"
     ]
    },
    {
     "name": "stderr",
     "output_type": "stream",
     "text": [
      "epoch 1, layer 1:  86%|█████████████████████████████████████████████████████████████          | 9483/11016 [24:05<04:08,  6.16it/s, loss=-4.35]"
     ]
    },
    {
     "name": "stdout",
     "output_type": "stream",
     "text": [
      "2025-07-21 23:05:09,816 — INFO — layer 1, [1:9483], loss=-17.7551\n",
      "2025-07-21 23:05:09,816 — INFO — layer 1, [1:9483], loss=-12.9746\n"
     ]
    },
    {
     "name": "stderr",
     "output_type": "stream",
     "text": [
      "epoch 1, layer 1:  87%|█████████████████████████████████████████████████████████████▍         | 9533/11016 [24:13<03:52,  6.38it/s, loss=-12.6]"
     ]
    },
    {
     "name": "stdout",
     "output_type": "stream",
     "text": [
      "2025-07-21 23:05:17,663 — INFO — layer 1, [1:9533], loss=-18.1317\n",
      "2025-07-21 23:05:17,663 — INFO — layer 1, [1:9533], loss=-14.5546\n"
     ]
    },
    {
     "name": "stderr",
     "output_type": "stream",
     "text": [
      "epoch 1, layer 1:  87%|█████████████████████████████████████████████████████████████▊         | 9583/11016 [24:20<03:29,  6.83it/s, loss=-7.35]"
     ]
    },
    {
     "name": "stdout",
     "output_type": "stream",
     "text": [
      "2025-07-21 23:05:25,221 — INFO — layer 1, [1:9583], loss=-17.7227\n",
      "2025-07-21 23:05:25,221 — INFO — layer 1, [1:9583], loss=-11.5854\n"
     ]
    },
    {
     "name": "stderr",
     "output_type": "stream",
     "text": [
      "epoch 1, layer 1:  87%|██████████████████████████████████████████████████████████████         | 9633/11016 [24:28<03:24,  6.77it/s, loss=-19.7]"
     ]
    },
    {
     "name": "stdout",
     "output_type": "stream",
     "text": [
      "2025-07-21 23:05:32,663 — INFO — layer 1, [1:9633], loss=-8.7265\n",
      "2025-07-21 23:05:32,663 — INFO — layer 1, [1:9633], loss=-7.7114\n"
     ]
    },
    {
     "name": "stderr",
     "output_type": "stream",
     "text": [
      "epoch 1, layer 1:  88%|██████████████████████████████████████████████████████████████▍        | 9683/11016 [24:35<03:14,  6.85it/s, loss=-19.3]"
     ]
    },
    {
     "name": "stdout",
     "output_type": "stream",
     "text": [
      "2025-07-21 23:05:40,299 — INFO — layer 1, [1:9683], loss=-17.8283\n",
      "2025-07-21 23:05:40,299 — INFO — layer 1, [1:9683], loss=-20.1234\n"
     ]
    },
    {
     "name": "stderr",
     "output_type": "stream",
     "text": [
      "epoch 1, layer 1:  88%|██████████████████████████████████████████████████████████████▋        | 9733/11016 [24:43<03:09,  6.77it/s, loss=-23.5]"
     ]
    },
    {
     "name": "stdout",
     "output_type": "stream",
     "text": [
      "2025-07-21 23:05:47,737 — INFO — layer 1, [1:9733], loss=-9.9860\n",
      "2025-07-21 23:05:47,737 — INFO — layer 1, [1:9733], loss=-10.0966\n"
     ]
    },
    {
     "name": "stderr",
     "output_type": "stream",
     "text": [
      "epoch 1, layer 1:  89%|███████████████████████████████████████████████████████████████        | 9783/11016 [24:50<03:02,  6.76it/s, loss=-17.2]"
     ]
    },
    {
     "name": "stdout",
     "output_type": "stream",
     "text": [
      "2025-07-21 23:05:55,282 — INFO — layer 1, [1:9783], loss=-8.1222\n",
      "2025-07-21 23:05:55,283 — INFO — layer 1, [1:9783], loss=-14.9330\n"
     ]
    },
    {
     "name": "stderr",
     "output_type": "stream",
     "text": [
      "epoch 1, layer 1:  89%|█████████████████████████████████████████████████████████████████▏       | 9833/11016 [24:58<03:04,  6.43it/s, loss=-15]"
     ]
    },
    {
     "name": "stdout",
     "output_type": "stream",
     "text": [
      "2025-07-21 23:06:03,010 — INFO — layer 1, [1:9833], loss=-2.8504\n",
      "2025-07-21 23:06:03,010 — INFO — layer 1, [1:9833], loss=-13.3986\n"
     ]
    },
    {
     "name": "stderr",
     "output_type": "stream",
     "text": [
      "epoch 1, layer 1:  90%|███████████████████████████████████████████████████████████████▋       | 9883/11016 [25:06<02:52,  6.55it/s, loss=-12.6]"
     ]
    },
    {
     "name": "stdout",
     "output_type": "stream",
     "text": [
      "2025-07-21 23:06:10,668 — INFO — layer 1, [1:9883], loss=-16.8473\n",
      "2025-07-21 23:06:10,668 — INFO — layer 1, [1:9883], loss=-9.7094\n"
     ]
    },
    {
     "name": "stderr",
     "output_type": "stream",
     "text": [
      "epoch 1, layer 1:  90%|████████████████████████████████████████████████████████████████       | 9933/11016 [25:13<02:49,  6.40it/s, loss=-13.3]"
     ]
    },
    {
     "name": "stdout",
     "output_type": "stream",
     "text": [
      "2025-07-21 23:06:18,271 — INFO — layer 1, [1:9933], loss=-21.2149\n",
      "2025-07-21 23:06:18,271 — INFO — layer 1, [1:9933], loss=-19.0214\n"
     ]
    },
    {
     "name": "stderr",
     "output_type": "stream",
     "text": [
      "epoch 1, layer 1:  91%|████████████████████████████████████████████████████████████████▎      | 9983/11016 [25:21<02:39,  6.49it/s, loss=-20.3]"
     ]
    },
    {
     "name": "stdout",
     "output_type": "stream",
     "text": [
      "2025-07-21 23:06:25,829 — INFO — layer 1, [1:9983], loss=-12.4642\n",
      "2025-07-21 23:06:25,829 — INFO — layer 1, [1:9983], loss=-14.8061\n"
     ]
    },
    {
     "name": "stderr",
     "output_type": "stream",
     "text": [
      "epoch 1, layer 1:  91%|███████████████████████████████████████████████████████████████▊      | 10033/11016 [25:28<02:27,  6.67it/s, loss=-12.2]"
     ]
    },
    {
     "name": "stdout",
     "output_type": "stream",
     "text": [
      "2025-07-21 23:06:33,458 — INFO — layer 1, [1:10033], loss=-4.5276\n",
      "2025-07-21 23:06:33,458 — INFO — layer 1, [1:10033], loss=-10.4854\n"
     ]
    },
    {
     "name": "stderr",
     "output_type": "stream",
     "text": [
      "epoch 1, layer 1:  92%|████████████████████████████████████████████████████████████████      | 10083/11016 [25:36<02:28,  6.30it/s, loss=-18.8]"
     ]
    },
    {
     "name": "stdout",
     "output_type": "stream",
     "text": [
      "2025-07-21 23:06:40,973 — INFO — layer 1, [1:10083], loss=-14.3281\n",
      "2025-07-21 23:06:40,973 — INFO — layer 1, [1:10083], loss=-12.4978\n"
     ]
    },
    {
     "name": "stderr",
     "output_type": "stream",
     "text": [
      "epoch 1, layer 1:  92%|██████████████████████████████████████████████████████████████████▏     | 10133/11016 [25:43<02:10,  6.76it/s, loss=-14]"
     ]
    },
    {
     "name": "stdout",
     "output_type": "stream",
     "text": [
      "2025-07-21 23:06:48,496 — INFO — layer 1, [1:10133], loss=-6.9943\n",
      "2025-07-21 23:06:48,496 — INFO — layer 1, [1:10133], loss=-10.1762\n"
     ]
    },
    {
     "name": "stderr",
     "output_type": "stream",
     "text": [
      "epoch 1, layer 1:  92%|████████████████████████████████████████████████████████████████▋     | 10183/11016 [25:51<02:08,  6.48it/s, loss=-8.34]"
     ]
    },
    {
     "name": "stdout",
     "output_type": "stream",
     "text": [
      "2025-07-21 23:06:56,024 — INFO — layer 1, [1:10183], loss=-13.7813\n",
      "2025-07-21 23:06:56,024 — INFO — layer 1, [1:10183], loss=-12.8954\n"
     ]
    },
    {
     "name": "stderr",
     "output_type": "stream",
     "text": [
      "epoch 1, layer 1:  93%|█████████████████████████████████████████████████████████████████     | 10233/11016 [25:58<01:57,  6.69it/s, loss=-12.1]"
     ]
    },
    {
     "name": "stdout",
     "output_type": "stream",
     "text": [
      "2025-07-21 23:07:03,542 — INFO — layer 1, [1:10233], loss=-11.2700\n",
      "2025-07-21 23:07:03,542 — INFO — layer 1, [1:10233], loss=-5.3770\n"
     ]
    },
    {
     "name": "stderr",
     "output_type": "stream",
     "text": [
      "epoch 1, layer 1:  93%|█████████████████████████████████████████████████████████████████▎    | 10283/11016 [26:06<01:56,  6.30it/s, loss=-10.8]"
     ]
    },
    {
     "name": "stdout",
     "output_type": "stream",
     "text": [
      "2025-07-21 23:07:11,139 — INFO — layer 1, [1:10283], loss=-6.5858\n",
      "2025-07-21 23:07:11,139 — INFO — layer 1, [1:10283], loss=-16.0450\n"
     ]
    },
    {
     "name": "stderr",
     "output_type": "stream",
     "text": [
      "epoch 1, layer 1:  94%|█████████████████████████████████████████████████████████████████▋    | 10333/11016 [26:14<01:48,  6.27it/s, loss=-18.4]"
     ]
    },
    {
     "name": "stdout",
     "output_type": "stream",
     "text": [
      "2025-07-21 23:07:18,817 — INFO — layer 1, [1:10333], loss=-13.7923\n",
      "2025-07-21 23:07:18,817 — INFO — layer 1, [1:10333], loss=-11.9868\n"
     ]
    },
    {
     "name": "stderr",
     "output_type": "stream",
     "text": [
      "epoch 1, layer 1:  94%|█████████████████████████████████████████████████████████████████▉    | 10383/11016 [26:21<01:37,  6.51it/s, loss=-9.88]"
     ]
    },
    {
     "name": "stdout",
     "output_type": "stream",
     "text": [
      "2025-07-21 23:07:26,525 — INFO — layer 1, [1:10383], loss=-11.7014\n",
      "2025-07-21 23:07:26,525 — INFO — layer 1, [1:10383], loss=-16.3235\n"
     ]
    },
    {
     "name": "stderr",
     "output_type": "stream",
     "text": [
      "epoch 1, layer 1:  95%|██████████████████████████████████████████████████████████████████▎   | 10433/11016 [26:29<01:34,  6.15it/s, loss=-13.4]"
     ]
    },
    {
     "name": "stdout",
     "output_type": "stream",
     "text": [
      "2025-07-21 23:07:34,270 — INFO — layer 1, [1:10433], loss=-11.0476\n",
      "2025-07-21 23:07:34,270 — INFO — layer 1, [1:10433], loss=-15.6487\n"
     ]
    },
    {
     "name": "stderr",
     "output_type": "stream",
     "text": [
      "epoch 1, layer 1:  95%|████████████████████████████████████████████████████████████████████▌   | 10483/11016 [26:37<01:16,  6.95it/s, loss=-12]"
     ]
    },
    {
     "name": "stdout",
     "output_type": "stream",
     "text": [
      "2025-07-21 23:07:41,815 — INFO — layer 1, [1:10483], loss=-12.0467\n",
      "2025-07-21 23:07:41,815 — INFO — layer 1, [1:10483], loss=-7.9645\n"
     ]
    },
    {
     "name": "stderr",
     "output_type": "stream",
     "text": [
      "epoch 1, layer 1:  96%|██████████████████████████████████████████████████████████████████▉   | 10533/11016 [26:44<01:09,  6.91it/s, loss=-19.8]"
     ]
    },
    {
     "name": "stdout",
     "output_type": "stream",
     "text": [
      "2025-07-21 23:07:49,376 — INFO — layer 1, [1:10533], loss=-5.0797\n",
      "2025-07-21 23:07:49,376 — INFO — layer 1, [1:10533], loss=-2.5602\n"
     ]
    },
    {
     "name": "stderr",
     "output_type": "stream",
     "text": [
      "epoch 1, layer 1:  96%|█████████████████████████████████████████████████████████████████████▏  | 10583/11016 [26:52<01:03,  6.79it/s, loss=-26]"
     ]
    },
    {
     "name": "stdout",
     "output_type": "stream",
     "text": [
      "2025-07-21 23:07:56,808 — INFO — layer 1, [1:10583], loss=-11.6358\n",
      "2025-07-21 23:07:56,809 — INFO — layer 1, [1:10583], loss=-13.8598\n"
     ]
    },
    {
     "name": "stderr",
     "output_type": "stream",
     "text": [
      "epoch 1, layer 1:  97%|███████████████████████████████████████████████████████████████████▌  | 10633/11016 [27:00<01:05,  5.88it/s, loss=-13.7]"
     ]
    },
    {
     "name": "stdout",
     "output_type": "stream",
     "text": [
      "2025-07-21 23:08:04,696 — INFO — layer 1, [1:10633], loss=-13.3751\n",
      "2025-07-21 23:08:04,696 — INFO — layer 1, [1:10633], loss=-14.4885\n"
     ]
    },
    {
     "name": "stderr",
     "output_type": "stream",
     "text": [
      "epoch 1, layer 1:  97%|███████████████████████████████████████████████████████████████████▉  | 10683/11016 [27:07<00:49,  6.67it/s, loss=-10.1]"
     ]
    },
    {
     "name": "stdout",
     "output_type": "stream",
     "text": [
      "2025-07-21 23:08:12,269 — INFO — layer 1, [1:10683], loss=-17.5255\n",
      "2025-07-21 23:08:12,269 — INFO — layer 1, [1:10683], loss=-10.7768\n"
     ]
    },
    {
     "name": "stderr",
     "output_type": "stream",
     "text": [
      "epoch 1, layer 1:  97%|████████████████████████████████████████████████████████████████████▏ | 10733/11016 [27:15<00:44,  6.36it/s, loss=-23.1]"
     ]
    },
    {
     "name": "stdout",
     "output_type": "stream",
     "text": [
      "2025-07-21 23:08:19,819 — INFO — layer 1, [1:10733], loss=-21.4418\n",
      "2025-07-21 23:08:19,819 — INFO — layer 1, [1:10733], loss=-10.2749\n"
     ]
    },
    {
     "name": "stderr",
     "output_type": "stream",
     "text": [
      "epoch 1, layer 1:  98%|████████████████████████████████████████████████████████████████████▌ | 10783/11016 [27:22<00:34,  6.84it/s, loss=-13.5]"
     ]
    },
    {
     "name": "stdout",
     "output_type": "stream",
     "text": [
      "2025-07-21 23:08:27,232 — INFO — layer 1, [1:10783], loss=0.3192\n",
      "2025-07-21 23:08:27,231 — INFO — layer 1, [1:10783], loss=-12.7177\n"
     ]
    },
    {
     "name": "stderr",
     "output_type": "stream",
     "text": [
      "epoch 1, layer 1:  98%|████████████████████████████████████████████████████████████████████▊ | 10833/11016 [27:30<00:27,  6.74it/s, loss=-17.7]"
     ]
    },
    {
     "name": "stdout",
     "output_type": "stream",
     "text": [
      "2025-07-21 23:08:34,843 — INFO — layer 1, [1:10833], loss=-16.4949\n",
      "2025-07-21 23:08:34,843 — INFO — layer 1, [1:10833], loss=-13.1627\n"
     ]
    },
    {
     "name": "stderr",
     "output_type": "stream",
     "text": [
      "epoch 1, layer 1:  99%|█████████████████████████████████████████████████████████████████████▏| 10883/11016 [27:37<00:19,  6.81it/s, loss=-9.48]"
     ]
    },
    {
     "name": "stdout",
     "output_type": "stream",
     "text": [
      "2025-07-21 23:08:42,480 — INFO — layer 1, [1:10883], loss=-8.9237\n",
      "2025-07-21 23:08:42,480 — INFO — layer 1, [1:10883], loss=-1.0904\n"
     ]
    },
    {
     "name": "stderr",
     "output_type": "stream",
     "text": [
      "epoch 1, layer 1:  99%|█████████████████████████████████████████████████████████████████████▍| 10933/11016 [27:45<00:12,  6.57it/s, loss=-9.07]"
     ]
    },
    {
     "name": "stdout",
     "output_type": "stream",
     "text": [
      "2025-07-21 23:08:50,135 — INFO — layer 1, [1:10933], loss=-3.9556\n",
      "2025-07-21 23:08:50,135 — INFO — layer 1, [1:10933], loss=-15.5251\n"
     ]
    },
    {
     "name": "stderr",
     "output_type": "stream",
     "text": [
      "epoch 1, layer 1: 100%|█████████████████████████████████████████████████████████████████████▊| 10983/11016 [27:53<00:04,  6.79it/s, loss=-7.46]"
     ]
    },
    {
     "name": "stdout",
     "output_type": "stream",
     "text": [
      "2025-07-21 23:08:57,745 — INFO — layer 1, [1:10983], loss=-16.4436\n",
      "2025-07-21 23:08:57,745 — INFO — layer 1, [1:10983], loss=-1.1870\n"
     ]
    },
    {
     "name": "stderr",
     "output_type": "stream",
     "text": [
      "epoch 2, layer 1:   0%|                                                                                              | 0/11016 [00:00<?, ?it/s]huggingface/tokenizers: The current process just got forked, after parallelism has already been used. Disabling parallelism to avoid deadlocks...\n",
      "To disable this warning, you can either:\n",
      "\t- Avoid using `tokenizers` before the fork if possible\n",
      "\t- Explicitly set the environment variable TOKENIZERS_PARALLELISM=(true | false)\n",
      "huggingface/tokenizers: The current process just got forked, after parallelism has already been used. Disabling parallelism to avoid deadlocks...\n",
      "To disable this warning, you can either:\n",
      "\t- Avoid using `tokenizers` before the fork if possible\n",
      "\t- Explicitly set the environment variable TOKENIZERS_PARALLELISM=(true | false)\n",
      "huggingface/tokenizers: The current process just got forked, after parallelism has already been used. Disabling parallelism to avoid deadlocks...\n",
      "To disable this warning, you can either:\n",
      "\t- Avoid using `tokenizers` before the fork if possible\n",
      "\t- Explicitly set the environment variable TOKENIZERS_PARALLELISM=(true | false)\n",
      "huggingface/tokenizers: The current process just got forked, after parallelism has already been used. Disabling parallelism to avoid deadlocks...\n",
      "To disable this warning, you can either:\n",
      "\t- Avoid using `tokenizers` before the fork if possible\n",
      "\t- Explicitly set the environment variable TOKENIZERS_PARALLELISM=(true | false)\n",
      "huggingface/tokenizers: The current process just got forked, after parallelism has already been used. Disabling parallelism to avoid deadlocks...\n",
      "To disable this warning, you can either:\n",
      "\t- Avoid using `tokenizers` before the fork if possible\n",
      "\t- Explicitly set the environment variable TOKENIZERS_PARALLELISM=(true | false)\n",
      "huggingface/tokenizers: The current process just got forked, after parallelism has already been used. Disabling parallelism to avoid deadlocks...\n",
      "To disable this warning, you can either:\n",
      "\t- Avoid using `tokenizers` before the fork if possible\n",
      "\t- Explicitly set the environment variable TOKENIZERS_PARALLELISM=(true | false)\n",
      "huggingface/tokenizers: The current process just got forked, after parallelism has already been used. Disabling parallelism to avoid deadlocks...\n",
      "To disable this warning, you can either:\n",
      "\t- Avoid using `tokenizers` before the fork if possible\n",
      "\t- Explicitly set the environment variable TOKENIZERS_PARALLELISM=(true | false)\n",
      "huggingface/tokenizers: The current process just got forked, after parallelism has already been used. Disabling parallelism to avoid deadlocks...\n",
      "To disable this warning, you can either:\n",
      "\t- Avoid using `tokenizers` before the fork if possible\n",
      "\t- Explicitly set the environment variable TOKENIZERS_PARALLELISM=(true | false)\n",
      "huggingface/tokenizers: The current process just got forked, after parallelism has already been used. Disabling parallelism to avoid deadlocks...\n",
      "To disable this warning, you can either:\n",
      "\t- Avoid using `tokenizers` before the fork if possible\n",
      "\t- Explicitly set the environment variable TOKENIZERS_PARALLELISM=(true | false)\n",
      "huggingface/tokenizers: The current process just got forked, after parallelism has already been used. Disabling parallelism to avoid deadlocks...\n",
      "To disable this warning, you can either:\n",
      "\t- Avoid using `tokenizers` before the fork if possible\n",
      "\t- Explicitly set the environment variable TOKENIZERS_PARALLELISM=(true | false)\n",
      "huggingface/tokenizers: The current process just got forked, after parallelism has already been used. Disabling parallelism to avoid deadlocks...\n",
      "To disable this warning, you can either:\n",
      "\t- Avoid using `tokenizers` before the fork if possible\n",
      "\t- Explicitly set the environment variable TOKENIZERS_PARALLELISM=(true | false)\n",
      "huggingface/tokenizers: The current process just got forked, after parallelism has already been used. Disabling parallelism to avoid deadlocks...\n",
      "To disable this warning, you can either:\n",
      "\t- Avoid using `tokenizers` before the fork if possible\n",
      "\t- Explicitly set the environment variable TOKENIZERS_PARALLELISM=(true | false)\n",
      "huggingface/tokenizers: The current process just got forked, after parallelism has already been used. Disabling parallelism to avoid deadlocks...\n",
      "To disable this warning, you can either:\n",
      "\t- Avoid using `tokenizers` before the fork if possible\n",
      "\t- Explicitly set the environment variable TOKENIZERS_PARALLELISM=(true | false)\n",
      "huggingface/tokenizers: The current process just got forked, after parallelism has already been used. Disabling parallelism to avoid deadlocks...\n",
      "To disable this warning, you can either:\n",
      "\t- Avoid using `tokenizers` before the fork if possible\n",
      "\t- Explicitly set the environment variable TOKENIZERS_PARALLELISM=(true | false)\n",
      "huggingface/tokenizers: The current process just got forked, after parallelism has already been used. Disabling parallelism to avoid deadlocks...\n",
      "To disable this warning, you can either:\n",
      "\t- Avoid using `tokenizers` before the fork if possible\n",
      "\t- Explicitly set the environment variable TOKENIZERS_PARALLELISM=(true | false)\n",
      "epoch 2, layer 1:   0%|                                                                        | 1/11016 [00:00<1:14:04,  2.48it/s, loss=-14.6]huggingface/tokenizers: The current process just got forked, after parallelism has already been used. Disabling parallelism to avoid deadlocks...\n",
      "To disable this warning, you can either:\n",
      "\t- Avoid using `tokenizers` before the fork if possible\n",
      "\t- Explicitly set the environment variable TOKENIZERS_PARALLELISM=(true | false)\n",
      "epoch 2, layer 1:   0%|                                                                         | 17/11016 [00:02<27:18,  6.71it/s, loss=-17.2]"
     ]
    },
    {
     "name": "stdout",
     "output_type": "stream",
     "text": [
      "2025-07-21 23:09:05,792 — INFO — layer 1, [2:17], loss=-12.4933\n",
      "2025-07-21 23:09:05,792 — INFO — layer 1, [2:17], loss=-14.8276\n"
     ]
    },
    {
     "name": "stderr",
     "output_type": "stream",
     "text": [
      "epoch 2, layer 1:   1%|▍                                                                        | 67/11016 [00:10<28:23,  6.43it/s, loss=-7.61]"
     ]
    },
    {
     "name": "stdout",
     "output_type": "stream",
     "text": [
      "2025-07-21 23:09:13,392 — INFO — layer 1, [2:67], loss=-6.7768\n",
      "2025-07-21 23:09:13,392 — INFO — layer 1, [2:67], loss=-14.7449\n"
     ]
    },
    {
     "name": "stderr",
     "output_type": "stream",
     "text": [
      "epoch 2, layer 1:   1%|▊                                                                       | 117/11016 [00:18<28:01,  6.48it/s, loss=-5.57]"
     ]
    },
    {
     "name": "stdout",
     "output_type": "stream",
     "text": [
      "2025-07-21 23:09:21,022 — INFO — layer 1, [2:117], loss=-11.7247\n",
      "2025-07-21 23:09:21,022 — INFO — layer 1, [2:117], loss=-21.3038\n"
     ]
    },
    {
     "name": "stderr",
     "output_type": "stream",
     "text": [
      "epoch 2, layer 1:   2%|█                                                                       | 167/11016 [00:25<27:35,  6.55it/s, loss=-4.35]"
     ]
    },
    {
     "name": "stdout",
     "output_type": "stream",
     "text": [
      "2025-07-21 23:09:28,571 — INFO — layer 1, [2:167], loss=-23.7327\n",
      "2025-07-21 23:09:28,571 — INFO — layer 1, [2:167], loss=-18.8752\n"
     ]
    },
    {
     "name": "stderr",
     "output_type": "stream",
     "text": [
      "epoch 2, layer 1:   2%|█▍                                                                      | 217/11016 [00:33<28:03,  6.41it/s, loss=-13.7]"
     ]
    },
    {
     "name": "stdout",
     "output_type": "stream",
     "text": [
      "2025-07-21 23:09:36,292 — INFO — layer 1, [2:217], loss=-9.8215\n",
      "2025-07-21 23:09:36,293 — INFO — layer 1, [2:217], loss=-5.1724\n"
     ]
    },
    {
     "name": "stderr",
     "output_type": "stream",
     "text": [
      "epoch 2, layer 1:   2%|█▋                                                                      | 267/11016 [00:40<26:35,  6.74it/s, loss=-7.48]"
     ]
    },
    {
     "name": "stdout",
     "output_type": "stream",
     "text": [
      "2025-07-21 23:09:43,730 — INFO — layer 1, [2:267], loss=-16.9781\n",
      "2025-07-21 23:09:43,730 — INFO — layer 1, [2:267], loss=-10.7865\n"
     ]
    },
    {
     "name": "stderr",
     "output_type": "stream",
     "text": [
      "epoch 2, layer 1:   3%|██                                                                      | 317/11016 [00:48<27:53,  6.39it/s, loss=-13.9]"
     ]
    },
    {
     "name": "stdout",
     "output_type": "stream",
     "text": [
      "2025-07-21 23:09:51,436 — INFO — layer 1, [2:317], loss=-18.3436\n",
      "2025-07-21 23:09:51,436 — INFO — layer 1, [2:317], loss=-1.4243\n"
     ]
    },
    {
     "name": "stderr",
     "output_type": "stream",
     "text": [
      "epoch 2, layer 1:   3%|██▍                                                                     | 367/11016 [00:56<27:59,  6.34it/s, loss=-11.1]"
     ]
    },
    {
     "name": "stdout",
     "output_type": "stream",
     "text": [
      "2025-07-21 23:09:59,070 — INFO — layer 1, [2:367], loss=0.5931\n",
      "2025-07-21 23:09:59,070 — INFO — layer 1, [2:367], loss=-12.1160\n"
     ]
    },
    {
     "name": "stderr",
     "output_type": "stream",
     "text": [
      "epoch 2, layer 1:   4%|██▋                                                                     | 417/11016 [01:03<26:04,  6.77it/s, loss=-8.86]"
     ]
    },
    {
     "name": "stdout",
     "output_type": "stream",
     "text": [
      "2025-07-21 23:10:06,802 — INFO — layer 1, [2:417], loss=-15.6151\n",
      "2025-07-21 23:10:06,802 — INFO — layer 1, [2:417], loss=-9.9381\n"
     ]
    },
    {
     "name": "stderr",
     "output_type": "stream",
     "text": [
      "epoch 2, layer 1:   4%|███                                                                    | 467/11016 [01:11<25:14,  6.97it/s, loss=-0.443]"
     ]
    },
    {
     "name": "stdout",
     "output_type": "stream",
     "text": [
      "2025-07-21 23:10:14,521 — INFO — layer 1, [2:467], loss=-14.8959\n",
      "2025-07-21 23:10:14,521 — INFO — layer 1, [2:467], loss=-14.4030\n"
     ]
    },
    {
     "name": "stderr",
     "output_type": "stream",
     "text": [
      "epoch 2, layer 1:   5%|███▍                                                                    | 517/11016 [01:19<26:16,  6.66it/s, loss=-20.5]"
     ]
    },
    {
     "name": "stdout",
     "output_type": "stream",
     "text": [
      "2025-07-21 23:10:22,285 — INFO — layer 1, [2:517], loss=-18.4780\n",
      "2025-07-21 23:10:22,285 — INFO — layer 1, [2:517], loss=-13.6325\n"
     ]
    },
    {
     "name": "stderr",
     "output_type": "stream",
     "text": [
      "epoch 2, layer 1:   5%|███▋                                                                    | 567/11016 [01:26<26:29,  6.58it/s, loss=-5.49]"
     ]
    },
    {
     "name": "stdout",
     "output_type": "stream",
     "text": [
      "2025-07-21 23:10:29,742 — INFO — layer 1, [2:567], loss=-14.2496\n",
      "2025-07-21 23:10:29,742 — INFO — layer 1, [2:567], loss=-12.7151\n"
     ]
    },
    {
     "name": "stderr",
     "output_type": "stream",
     "text": [
      "epoch 2, layer 1:   6%|████                                                                    | 617/11016 [01:34<26:02,  6.65it/s, loss=-2.85]"
     ]
    },
    {
     "name": "stdout",
     "output_type": "stream",
     "text": [
      "2025-07-21 23:10:37,256 — INFO — layer 1, [2:617], loss=-6.2201\n",
      "2025-07-21 23:10:37,256 — INFO — layer 1, [2:617], loss=-17.2573\n"
     ]
    },
    {
     "name": "stderr",
     "output_type": "stream",
     "text": [
      "epoch 2, layer 1:   6%|████▎                                                                   | 667/11016 [01:42<25:42,  6.71it/s, loss=-12.9]"
     ]
    },
    {
     "name": "stdout",
     "output_type": "stream",
     "text": [
      "2025-07-21 23:10:44,991 — INFO — layer 1, [2:667], loss=-6.2815\n",
      "2025-07-21 23:10:44,991 — INFO — layer 1, [2:667], loss=-15.5902\n"
     ]
    },
    {
     "name": "stderr",
     "output_type": "stream",
     "text": [
      "epoch 2, layer 1:   7%|████▋                                                                   | 717/11016 [01:49<26:04,  6.58it/s, loss=-10.9]"
     ]
    },
    {
     "name": "stdout",
     "output_type": "stream",
     "text": [
      "2025-07-21 23:10:52,544 — INFO — layer 1, [2:717], loss=-5.8347\n",
      "2025-07-21 23:10:52,544 — INFO — layer 1, [2:717], loss=-7.7077\n"
     ]
    },
    {
     "name": "stderr",
     "output_type": "stream",
     "text": [
      "epoch 2, layer 1:   7%|█████                                                                   | 767/11016 [01:57<28:12,  6.06it/s, loss=-8.99]"
     ]
    },
    {
     "name": "stdout",
     "output_type": "stream",
     "text": [
      "2025-07-21 23:11:00,207 — INFO — layer 1, [2:767], loss=-14.0137\n",
      "2025-07-21 23:11:00,207 — INFO — layer 1, [2:767], loss=-13.4274\n"
     ]
    },
    {
     "name": "stderr",
     "output_type": "stream",
     "text": [
      "epoch 2, layer 1:   7%|█████▎                                                                  | 817/11016 [02:04<25:39,  6.63it/s, loss=-10.6]"
     ]
    },
    {
     "name": "stdout",
     "output_type": "stream",
     "text": [
      "2025-07-21 23:11:07,914 — INFO — layer 1, [2:817], loss=-17.6639\n",
      "2025-07-21 23:11:07,914 — INFO — layer 1, [2:817], loss=-16.5656\n"
     ]
    },
    {
     "name": "stderr",
     "output_type": "stream",
     "text": [
      "epoch 2, layer 1:   8%|█████▋                                                                  | 867/11016 [02:12<26:43,  6.33it/s, loss=-14.3]"
     ]
    },
    {
     "name": "stdout",
     "output_type": "stream",
     "text": [
      "2025-07-21 23:11:15,851 — INFO — layer 1, [2:867], loss=-2.9565\n",
      "2025-07-21 23:11:15,851 — INFO — layer 1, [2:867], loss=-11.5508\n"
     ]
    },
    {
     "name": "stderr",
     "output_type": "stream",
     "text": [
      "epoch 2, layer 1:   8%|█████▉                                                                  | 917/11016 [02:20<25:05,  6.71it/s, loss=-19.3]"
     ]
    },
    {
     "name": "stdout",
     "output_type": "stream",
     "text": [
      "2025-07-21 23:11:23,631 — INFO — layer 1, [2:917], loss=-3.6511\n",
      "2025-07-21 23:11:23,631 — INFO — layer 1, [2:917], loss=-19.7228\n"
     ]
    },
    {
     "name": "stderr",
     "output_type": "stream",
     "text": [
      "epoch 2, layer 1:   9%|██████▎                                                                 | 967/11016 [02:28<24:36,  6.81it/s, loss=-10.9]"
     ]
    },
    {
     "name": "stdout",
     "output_type": "stream",
     "text": [
      "2025-07-21 23:11:31,226 — INFO — layer 1, [2:967], loss=-7.9303\n",
      "2025-07-21 23:11:31,227 — INFO — layer 1, [2:967], loss=-7.0255\n"
     ]
    },
    {
     "name": "stderr",
     "output_type": "stream",
     "text": [
      "epoch 2, layer 1:   9%|██████▋                                                                  | 1017/11016 [02:35<25:46,  6.46it/s, loss=-16]"
     ]
    },
    {
     "name": "stdout",
     "output_type": "stream",
     "text": [
      "2025-07-21 23:11:38,891 — INFO — layer 1, [2:1017], loss=-13.9121\n",
      "2025-07-21 23:11:38,891 — INFO — layer 1, [2:1017], loss=-20.7665\n"
     ]
    },
    {
     "name": "stderr",
     "output_type": "stream",
     "text": [
      "epoch 2, layer 1:  10%|██████▉                                                                 | 1067/11016 [02:43<25:12,  6.58it/s, loss=-4.3]"
     ]
    },
    {
     "name": "stdout",
     "output_type": "stream",
     "text": [
      "2025-07-21 23:11:46,643 — INFO — layer 1, [2:1067], loss=-3.8584\n",
      "2025-07-21 23:11:46,643 — INFO — layer 1, [2:1067], loss=0.0296\n"
     ]
    },
    {
     "name": "stderr",
     "output_type": "stream",
     "text": [
      "epoch 2, layer 1:  10%|███████▏                                                               | 1117/11016 [02:51<24:28,  6.74it/s, loss=-2.99]"
     ]
    },
    {
     "name": "stdout",
     "output_type": "stream",
     "text": [
      "2025-07-21 23:11:54,210 — INFO — layer 1, [2:1117], loss=-12.6272\n",
      "2025-07-21 23:11:54,210 — INFO — layer 1, [2:1117], loss=-11.3441\n"
     ]
    },
    {
     "name": "stderr",
     "output_type": "stream",
     "text": [
      "epoch 2, layer 1:  11%|███████▌                                                               | 1167/11016 [02:58<25:44,  6.38it/s, loss=-9.49]"
     ]
    },
    {
     "name": "stdout",
     "output_type": "stream",
     "text": [
      "2025-07-21 23:12:01,786 — INFO — layer 1, [2:1167], loss=-10.7843\n",
      "2025-07-21 23:12:01,786 — INFO — layer 1, [2:1167], loss=-10.7127\n"
     ]
    },
    {
     "name": "stderr",
     "output_type": "stream",
     "text": [
      "epoch 2, layer 1:  11%|███████▊                                                               | 1217/11016 [03:06<25:19,  6.45it/s, loss=-17.1]"
     ]
    },
    {
     "name": "stdout",
     "output_type": "stream",
     "text": [
      "2025-07-21 23:12:09,421 — INFO — layer 1, [2:1217], loss=-2.0876\n",
      "2025-07-21 23:12:09,422 — INFO — layer 1, [2:1217], loss=-17.7621\n"
     ]
    },
    {
     "name": "stderr",
     "output_type": "stream",
     "text": [
      "epoch 2, layer 1:  12%|████████▏                                                              | 1267/11016 [03:14<25:25,  6.39it/s, loss=-12.2]"
     ]
    },
    {
     "name": "stdout",
     "output_type": "stream",
     "text": [
      "2025-07-21 23:12:17,028 — INFO — layer 1, [2:1267], loss=-16.9058\n",
      "2025-07-21 23:12:17,028 — INFO — layer 1, [2:1267], loss=-0.0947\n"
     ]
    },
    {
     "name": "stderr",
     "output_type": "stream",
     "text": [
      "epoch 2, layer 1:  12%|████████▍                                                              | 1317/11016 [03:21<24:54,  6.49it/s, loss=-13.6]"
     ]
    },
    {
     "name": "stdout",
     "output_type": "stream",
     "text": [
      "2025-07-21 23:12:24,630 — INFO — layer 1, [2:1317], loss=-6.5843\n",
      "2025-07-21 23:12:24,630 — INFO — layer 1, [2:1317], loss=-17.7644\n"
     ]
    },
    {
     "name": "stderr",
     "output_type": "stream",
     "text": [
      "epoch 2, layer 1:  12%|████████▊                                                              | 1367/11016 [03:29<24:38,  6.53it/s, loss=-10.9]"
     ]
    },
    {
     "name": "stdout",
     "output_type": "stream",
     "text": [
      "2025-07-21 23:12:32,151 — INFO — layer 1, [2:1367], loss=-6.7294\n",
      "2025-07-21 23:12:32,151 — INFO — layer 1, [2:1367], loss=-11.8158\n"
     ]
    },
    {
     "name": "stderr",
     "output_type": "stream",
     "text": [
      "epoch 2, layer 1:  13%|█████████▎                                                              | 1417/11016 [03:36<24:32,  6.52it/s, loss=-1.5]"
     ]
    },
    {
     "name": "stdout",
     "output_type": "stream",
     "text": [
      "2025-07-21 23:12:39,686 — INFO — layer 1, [2:1417], loss=-9.9968\n",
      "2025-07-21 23:12:39,686 — INFO — layer 1, [2:1417], loss=-8.9726\n"
     ]
    },
    {
     "name": "stderr",
     "output_type": "stream",
     "text": [
      "epoch 2, layer 1:  13%|█████████▍                                                             | 1467/11016 [03:44<25:48,  6.17it/s, loss=-12.7]"
     ]
    },
    {
     "name": "stdout",
     "output_type": "stream",
     "text": [
      "2025-07-21 23:12:47,166 — INFO — layer 1, [2:1467], loss=-1.8837\n",
      "2025-07-21 23:12:47,166 — INFO — layer 1, [2:1467], loss=-17.8829\n"
     ]
    },
    {
     "name": "stderr",
     "output_type": "stream",
     "text": [
      "epoch 2, layer 1:  14%|█████████▊                                                             | 1517/11016 [03:51<24:02,  6.59it/s, loss=-16.1]"
     ]
    },
    {
     "name": "stdout",
     "output_type": "stream",
     "text": [
      "2025-07-21 23:12:54,819 — INFO — layer 1, [2:1517], loss=-10.3922\n",
      "2025-07-21 23:12:54,819 — INFO — layer 1, [2:1517], loss=-21.5368\n"
     ]
    },
    {
     "name": "stderr",
     "output_type": "stream",
     "text": [
      "epoch 2, layer 1:  14%|██████████                                                             | 1567/11016 [03:59<22:30,  7.00it/s, loss=-15.1]"
     ]
    },
    {
     "name": "stdout",
     "output_type": "stream",
     "text": [
      "2025-07-21 23:13:02,290 — INFO — layer 1, [2:1567], loss=-10.6628\n",
      "2025-07-21 23:13:02,290 — INFO — layer 1, [2:1567], loss=-16.9401\n"
     ]
    },
    {
     "name": "stderr",
     "output_type": "stream",
     "text": [
      "epoch 2, layer 1:  15%|██████████▊                                                               | 1617/11016 [04:06<22:57,  6.82it/s, loss=-7]"
     ]
    },
    {
     "name": "stdout",
     "output_type": "stream",
     "text": [
      "2025-07-21 23:13:09,913 — INFO — layer 1, [2:1617], loss=-13.7477\n",
      "2025-07-21 23:13:09,913 — INFO — layer 1, [2:1617], loss=-17.0890\n"
     ]
    },
    {
     "name": "stderr",
     "output_type": "stream",
     "text": [
      "epoch 2, layer 1:  15%|██████████▋                                                            | 1667/11016 [04:14<22:11,  7.02it/s, loss=-19.5]"
     ]
    },
    {
     "name": "stdout",
     "output_type": "stream",
     "text": [
      "2025-07-21 23:13:17,407 — INFO — layer 1, [2:1667], loss=-19.3318\n",
      "2025-07-21 23:13:17,407 — INFO — layer 1, [2:1667], loss=-10.1597\n"
     ]
    },
    {
     "name": "stderr",
     "output_type": "stream",
     "text": [
      "epoch 2, layer 1:  16%|███████████                                                            | 1717/11016 [04:22<22:49,  6.79it/s, loss=-17.5]"
     ]
    },
    {
     "name": "stdout",
     "output_type": "stream",
     "text": [
      "2025-07-21 23:13:25,055 — INFO — layer 1, [2:1717], loss=-15.6243\n",
      "2025-07-21 23:13:25,055 — INFO — layer 1, [2:1717], loss=-3.7872\n"
     ]
    },
    {
     "name": "stderr",
     "output_type": "stream",
     "text": [
      "epoch 2, layer 1:  16%|███████████▍                                                           | 1767/11016 [04:29<23:16,  6.62it/s, loss=-18.3]"
     ]
    },
    {
     "name": "stdout",
     "output_type": "stream",
     "text": [
      "2025-07-21 23:13:32,712 — INFO — layer 1, [2:1767], loss=-15.4223\n",
      "2025-07-21 23:13:32,712 — INFO — layer 1, [2:1767], loss=-7.1253\n"
     ]
    },
    {
     "name": "stderr",
     "output_type": "stream",
     "text": [
      "epoch 2, layer 1:  16%|███████████▋                                                           | 1817/11016 [04:37<24:42,  6.20it/s, loss=-22.3]"
     ]
    },
    {
     "name": "stdout",
     "output_type": "stream",
     "text": [
      "2025-07-21 23:13:40,382 — INFO — layer 1, [2:1817], loss=-28.4554\n",
      "2025-07-21 23:13:40,382 — INFO — layer 1, [2:1817], loss=-14.1205\n"
     ]
    },
    {
     "name": "stderr",
     "output_type": "stream",
     "text": [
      "epoch 2, layer 1:  17%|████████████▎                                                            | 1867/11016 [04:45<23:04,  6.61it/s, loss=-13]"
     ]
    },
    {
     "name": "stdout",
     "output_type": "stream",
     "text": [
      "2025-07-21 23:13:47,969 — INFO — layer 1, [2:1867], loss=-2.2519\n",
      "2025-07-21 23:13:47,969 — INFO — layer 1, [2:1867], loss=-8.8373\n"
     ]
    },
    {
     "name": "stderr",
     "output_type": "stream",
     "text": [
      "epoch 2, layer 1:  17%|████████████▎                                                          | 1917/11016 [04:52<22:48,  6.65it/s, loss=-3.16]"
     ]
    },
    {
     "name": "stdout",
     "output_type": "stream",
     "text": [
      "2025-07-21 23:13:55,646 — INFO — layer 1, [2:1917], loss=-5.4777\n"
     ]
    },
    {
     "name": "stderr",
     "output_type": "stream",
     "text": [
      "epoch 2, layer 1:  17%|████████████▎                                                          | 1918/11016 [04:52<23:14,  6.53it/s, loss=-5.48]"
     ]
    },
    {
     "name": "stdout",
     "output_type": "stream",
     "text": [
      "2025-07-21 23:13:55,647 — INFO — layer 1, [2:1917], loss=-0.4172\n"
     ]
    },
    {
     "name": "stderr",
     "output_type": "stream",
     "text": [
      "epoch 2, layer 1:  18%|████████████▋                                                          | 1967/11016 [05:00<21:57,  6.87it/s, loss=-22.8]"
     ]
    },
    {
     "name": "stdout",
     "output_type": "stream",
     "text": [
      "2025-07-21 23:14:03,167 — INFO — layer 1, [2:1967], loss=-8.4479\n",
      "2025-07-21 23:14:03,167 — INFO — layer 1, [2:1967], loss=-9.4125\n"
     ]
    },
    {
     "name": "stderr",
     "output_type": "stream",
     "text": [
      "epoch 2, layer 1:  18%|████████████▉                                                          | 2017/11016 [05:07<22:52,  6.56it/s, loss=-16.2]"
     ]
    },
    {
     "name": "stdout",
     "output_type": "stream",
     "text": [
      "2025-07-21 23:14:10,890 — INFO — layer 1, [2:2017], loss=-10.9443\n",
      "2025-07-21 23:14:10,890 — INFO — layer 1, [2:2017], loss=-8.6604\n"
     ]
    },
    {
     "name": "stderr",
     "output_type": "stream",
     "text": [
      "epoch 2, layer 1:  19%|█████████████▎                                                         | 2067/11016 [05:15<22:16,  6.69it/s, loss=-8.88]"
     ]
    },
    {
     "name": "stdout",
     "output_type": "stream",
     "text": [
      "2025-07-21 23:14:18,350 — INFO — layer 1, [2:2067], loss=-10.2153\n",
      "2025-07-21 23:14:18,350 — INFO — layer 1, [2:2067], loss=-18.1916\n"
     ]
    },
    {
     "name": "stderr",
     "output_type": "stream",
     "text": [
      "epoch 2, layer 1:  19%|█████████████▋                                                         | 2117/11016 [05:23<22:57,  6.46it/s, loss=-5.08]"
     ]
    },
    {
     "name": "stdout",
     "output_type": "stream",
     "text": [
      "2025-07-21 23:14:26,124 — INFO — layer 1, [2:2117], loss=-17.2455\n",
      "2025-07-21 23:14:26,124 — INFO — layer 1, [2:2117], loss=-15.8523\n"
     ]
    },
    {
     "name": "stderr",
     "output_type": "stream",
     "text": [
      "epoch 2, layer 1:  20%|█████████████▉                                                         | 2167/11016 [05:30<22:06,  6.67it/s, loss=-11.9]"
     ]
    },
    {
     "name": "stdout",
     "output_type": "stream",
     "text": [
      "2025-07-21 23:14:33,795 — INFO — layer 1, [2:2167], loss=-12.5246\n",
      "2025-07-21 23:14:33,795 — INFO — layer 1, [2:2167], loss=-4.9374\n"
     ]
    },
    {
     "name": "stderr",
     "output_type": "stream",
     "text": [
      "epoch 2, layer 1:  20%|██████████████▎                                                        | 2217/11016 [05:38<24:05,  6.09it/s, loss=-21.1]"
     ]
    },
    {
     "name": "stdout",
     "output_type": "stream",
     "text": [
      "2025-07-21 23:14:41,311 — INFO — layer 1, [2:2217], loss=-15.3642\n",
      "2025-07-21 23:14:41,311 — INFO — layer 1, [2:2217], loss=-9.0552\n"
     ]
    },
    {
     "name": "stderr",
     "output_type": "stream",
     "text": [
      "epoch 2, layer 1:  21%|██████████████▌                                                        | 2267/11016 [05:46<22:19,  6.53it/s, loss=-20.7]"
     ]
    },
    {
     "name": "stdout",
     "output_type": "stream",
     "text": [
      "2025-07-21 23:14:49,000 — INFO — layer 1, [2:2267], loss=-18.1605\n",
      "2025-07-21 23:14:49,000 — INFO — layer 1, [2:2267], loss=-10.3256\n"
     ]
    },
    {
     "name": "stderr",
     "output_type": "stream",
     "text": [
      "epoch 2, layer 1:  21%|██████████████▉                                                        | 2317/11016 [05:53<21:52,  6.63it/s, loss=-17.7]"
     ]
    },
    {
     "name": "stdout",
     "output_type": "stream",
     "text": [
      "2025-07-21 23:14:56,499 — INFO — layer 1, [2:2317], loss=0.2262\n",
      "2025-07-21 23:14:56,499 — INFO — layer 1, [2:2317], loss=-11.7200\n"
     ]
    },
    {
     "name": "stderr",
     "output_type": "stream",
     "text": [
      "epoch 2, layer 1:  21%|███████████████▎                                                       | 2367/11016 [06:01<21:18,  6.76it/s, loss=-17.6]"
     ]
    },
    {
     "name": "stdout",
     "output_type": "stream",
     "text": [
      "2025-07-21 23:15:04,089 — INFO — layer 1, [2:2367], loss=-16.3992\n",
      "2025-07-21 23:15:04,089 — INFO — layer 1, [2:2367], loss=-15.1379\n"
     ]
    },
    {
     "name": "stderr",
     "output_type": "stream",
     "text": [
      "epoch 2, layer 1:  22%|███████████████▌                                                       | 2417/11016 [06:08<22:48,  6.28it/s, loss=-2.97]"
     ]
    },
    {
     "name": "stdout",
     "output_type": "stream",
     "text": [
      "2025-07-21 23:15:11,798 — INFO — layer 1, [2:2417], loss=-3.7727\n",
      "2025-07-21 23:15:11,798 — INFO — layer 1, [2:2417], loss=-17.9543\n"
     ]
    },
    {
     "name": "stderr",
     "output_type": "stream",
     "text": [
      "epoch 2, layer 1:  22%|███████████████▉                                                       | 2467/11016 [06:16<21:29,  6.63it/s, loss=-16.8]"
     ]
    },
    {
     "name": "stdout",
     "output_type": "stream",
     "text": [
      "2025-07-21 23:15:19,556 — INFO — layer 1, [2:2467], loss=-8.1050\n",
      "2025-07-21 23:15:19,556 — INFO — layer 1, [2:2467], loss=-6.7273\n"
     ]
    },
    {
     "name": "stderr",
     "output_type": "stream",
     "text": [
      "epoch 2, layer 1:  23%|████████████████▍                                                       | 2517/11016 [06:24<21:56,  6.46it/s, loss=-7.5]"
     ]
    },
    {
     "name": "stdout",
     "output_type": "stream",
     "text": [
      "2025-07-21 23:15:27,255 — INFO — layer 1, [2:2517], loss=-3.0996\n",
      "2025-07-21 23:15:27,255 — INFO — layer 1, [2:2517], loss=-9.3573\n"
     ]
    },
    {
     "name": "stderr",
     "output_type": "stream",
     "text": [
      "epoch 2, layer 1:  23%|████████████████▌                                                      | 2567/11016 [06:31<21:02,  6.69it/s, loss=-8.07]"
     ]
    },
    {
     "name": "stdout",
     "output_type": "stream",
     "text": [
      "2025-07-21 23:15:34,875 — INFO — layer 1, [2:2567], loss=-23.8159\n",
      "2025-07-21 23:15:34,875 — INFO — layer 1, [2:2567], loss=-11.0189\n"
     ]
    },
    {
     "name": "stderr",
     "output_type": "stream",
     "text": [
      "epoch 2, layer 1:  24%|████████████████▊                                                      | 2617/11016 [06:39<22:09,  6.32it/s, loss=-17.1]"
     ]
    },
    {
     "name": "stdout",
     "output_type": "stream",
     "text": [
      "2025-07-21 23:15:42,481 — INFO — layer 1, [2:2617], loss=-18.9287\n",
      "2025-07-21 23:15:42,481 — INFO — layer 1, [2:2617], loss=-14.5225\n"
     ]
    },
    {
     "name": "stderr",
     "output_type": "stream",
     "text": [
      "epoch 2, layer 1:  24%|█████████████████▏                                                     | 2667/11016 [06:47<20:30,  6.79it/s, loss=-10.2]"
     ]
    },
    {
     "name": "stdout",
     "output_type": "stream",
     "text": [
      "2025-07-21 23:15:50,122 — INFO — layer 1, [2:2667], loss=-13.9007\n",
      "2025-07-21 23:15:50,122 — INFO — layer 1, [2:2667], loss=-14.5638\n"
     ]
    },
    {
     "name": "stderr",
     "output_type": "stream",
     "text": [
      "epoch 2, layer 1:  25%|█████████████████▌                                                     | 2717/11016 [06:54<20:49,  6.64it/s, loss=-14.6]"
     ]
    },
    {
     "name": "stdout",
     "output_type": "stream",
     "text": [
      "2025-07-21 23:15:57,695 — INFO — layer 1, [2:2717], loss=-15.2655\n",
      "2025-07-21 23:15:57,695 — INFO — layer 1, [2:2717], loss=-17.4496\n"
     ]
    },
    {
     "name": "stderr",
     "output_type": "stream",
     "text": [
      "epoch 2, layer 1:  25%|█████████████████▊                                                     | 2767/11016 [07:02<21:12,  6.48it/s, loss=-23.9]"
     ]
    },
    {
     "name": "stdout",
     "output_type": "stream",
     "text": [
      "2025-07-21 23:16:05,177 — INFO — layer 1, [2:2767], loss=-8.8464\n",
      "2025-07-21 23:16:05,177 — INFO — layer 1, [2:2767], loss=-5.1199\n"
     ]
    },
    {
     "name": "stderr",
     "output_type": "stream",
     "text": [
      "epoch 2, layer 1:  26%|██████████████████▋                                                      | 2817/11016 [07:09<21:06,  6.47it/s, loss=-14]"
     ]
    },
    {
     "name": "stdout",
     "output_type": "stream",
     "text": [
      "2025-07-21 23:16:12,788 — INFO — layer 1, [2:2817], loss=-17.4340\n",
      "2025-07-21 23:16:12,788 — INFO — layer 1, [2:2817], loss=-5.0183\n"
     ]
    },
    {
     "name": "stderr",
     "output_type": "stream",
     "text": [
      "epoch 2, layer 1:  26%|██████████████████▍                                                    | 2867/11016 [07:17<20:18,  6.69it/s, loss=-17.7]"
     ]
    },
    {
     "name": "stdout",
     "output_type": "stream",
     "text": [
      "2025-07-21 23:16:20,377 — INFO — layer 1, [2:2867], loss=-21.8725\n",
      "2025-07-21 23:16:20,377 — INFO — layer 1, [2:2867], loss=-3.6751\n"
     ]
    },
    {
     "name": "stderr",
     "output_type": "stream",
     "text": [
      "epoch 2, layer 1:  26%|██████████████████▊                                                    | 2917/11016 [07:25<20:14,  6.67it/s, loss=-16.5]"
     ]
    },
    {
     "name": "stdout",
     "output_type": "stream",
     "text": [
      "2025-07-21 23:16:27,997 — INFO — layer 1, [2:2917], loss=-18.2019\n",
      "2025-07-21 23:16:27,997 — INFO — layer 1, [2:2917], loss=-10.8715\n"
     ]
    },
    {
     "name": "stderr",
     "output_type": "stream",
     "text": [
      "epoch 2, layer 1:  27%|███████████████████                                                    | 2967/11016 [07:32<20:39,  6.49it/s, loss=-10.7]"
     ]
    },
    {
     "name": "stdout",
     "output_type": "stream",
     "text": [
      "2025-07-21 23:16:35,580 — INFO — layer 1, [2:2967], loss=-16.7696\n",
      "2025-07-21 23:16:35,581 — INFO — layer 1, [2:2967], loss=-1.9178\n"
     ]
    },
    {
     "name": "stderr",
     "output_type": "stream",
     "text": [
      "epoch 2, layer 1:  27%|███████████████████▍                                                   | 3017/11016 [07:40<21:03,  6.33it/s, loss=-9.13]"
     ]
    },
    {
     "name": "stdout",
     "output_type": "stream",
     "text": [
      "2025-07-21 23:16:43,331 — INFO — layer 1, [2:3017], loss=-12.1479\n",
      "2025-07-21 23:16:43,331 — INFO — layer 1, [2:3017], loss=-17.9284\n"
     ]
    },
    {
     "name": "stderr",
     "output_type": "stream",
     "text": [
      "epoch 2, layer 1:  28%|███████████████████▊                                                   | 3067/11016 [07:48<20:14,  6.55it/s, loss=-8.88]"
     ]
    },
    {
     "name": "stdout",
     "output_type": "stream",
     "text": [
      "2025-07-21 23:16:51,016 — INFO — layer 1, [2:3067], loss=-11.2410\n",
      "2025-07-21 23:16:51,016 — INFO — layer 1, [2:3067], loss=-7.3318\n"
     ]
    },
    {
     "name": "stderr",
     "output_type": "stream",
     "text": [
      "epoch 2, layer 1:  28%|████████████████████                                                   | 3117/11016 [07:55<19:35,  6.72it/s, loss=-17.3]"
     ]
    },
    {
     "name": "stdout",
     "output_type": "stream",
     "text": [
      "2025-07-21 23:16:58,536 — INFO — layer 1, [2:3117], loss=-15.9798\n",
      "2025-07-21 23:16:58,536 — INFO — layer 1, [2:3117], loss=-16.5924\n"
     ]
    },
    {
     "name": "stderr",
     "output_type": "stream",
     "text": [
      "epoch 2, layer 1:  29%|████████████████████▍                                                  | 3167/11016 [08:03<19:16,  6.79it/s, loss=-6.97]"
     ]
    },
    {
     "name": "stdout",
     "output_type": "stream",
     "text": [
      "2025-07-21 23:17:06,216 — INFO — layer 1, [2:3167], loss=-12.8319\n",
      "2025-07-21 23:17:06,216 — INFO — layer 1, [2:3167], loss=-10.2699\n"
     ]
    },
    {
     "name": "stderr",
     "output_type": "stream",
     "text": [
      "epoch 2, layer 1:  29%|████████████████████▋                                                  | 3217/11016 [08:10<20:29,  6.35it/s, loss=-18.3]"
     ]
    },
    {
     "name": "stdout",
     "output_type": "stream",
     "text": [
      "2025-07-21 23:17:13,861 — INFO — layer 1, [2:3217], loss=-8.5222\n",
      "2025-07-21 23:17:13,861 — INFO — layer 1, [2:3217], loss=-15.9205\n"
     ]
    },
    {
     "name": "stderr",
     "output_type": "stream",
     "text": [
      "epoch 2, layer 1:  30%|█████████████████████                                                  | 3267/11016 [08:18<18:57,  6.81it/s, loss=-10.7]"
     ]
    },
    {
     "name": "stdout",
     "output_type": "stream",
     "text": [
      "2025-07-21 23:17:21,467 — INFO — layer 1, [2:3267], loss=-15.3697\n",
      "2025-07-21 23:17:21,467 — INFO — layer 1, [2:3267], loss=-7.9990\n"
     ]
    },
    {
     "name": "stderr",
     "output_type": "stream",
     "text": [
      "epoch 2, layer 1:  30%|█████████████████████▍                                                 | 3317/11016 [08:26<19:30,  6.58it/s, loss=-21.4]"
     ]
    },
    {
     "name": "stdout",
     "output_type": "stream",
     "text": [
      "2025-07-21 23:17:29,158 — INFO — layer 1, [2:3317], loss=-7.6408\n",
      "2025-07-21 23:17:29,158 — INFO — layer 1, [2:3317], loss=-5.9079\n"
     ]
    },
    {
     "name": "stderr",
     "output_type": "stream",
     "text": [
      "epoch 2, layer 1:  31%|█████████████████████▋                                                 | 3367/11016 [08:33<18:45,  6.80it/s, loss=-5.53]"
     ]
    },
    {
     "name": "stdout",
     "output_type": "stream",
     "text": [
      "2025-07-21 23:17:36,739 — INFO — layer 1, [2:3367], loss=-19.7107\n",
      "2025-07-21 23:17:36,739 — INFO — layer 1, [2:3367], loss=-14.1666\n"
     ]
    },
    {
     "name": "stderr",
     "output_type": "stream",
     "text": [
      "epoch 2, layer 1:  31%|██████████████████████                                                 | 3417/11016 [08:41<17:52,  7.08it/s, loss=-4.88]"
     ]
    },
    {
     "name": "stdout",
     "output_type": "stream",
     "text": [
      "2025-07-21 23:17:44,332 — INFO — layer 1, [2:3417], loss=-3.3243\n",
      "2025-07-21 23:17:44,332 — INFO — layer 1, [2:3417], loss=-13.2111\n"
     ]
    },
    {
     "name": "stderr",
     "output_type": "stream",
     "text": [
      "epoch 2, layer 1:  31%|██████████████████████▎                                                | 3467/11016 [08:48<18:56,  6.64it/s, loss=-11.2]"
     ]
    },
    {
     "name": "stdout",
     "output_type": "stream",
     "text": [
      "2025-07-21 23:17:51,874 — INFO — layer 1, [2:3467], loss=-12.0568\n",
      "2025-07-21 23:17:51,874 — INFO — layer 1, [2:3467], loss=-8.2607\n"
     ]
    },
    {
     "name": "stderr",
     "output_type": "stream",
     "text": [
      "epoch 2, layer 1:  32%|██████████████████████▋                                                | 3517/11016 [08:56<18:53,  6.61it/s, loss=-10.2]"
     ]
    },
    {
     "name": "stdout",
     "output_type": "stream",
     "text": [
      "2025-07-21 23:17:59,405 — INFO — layer 1, [2:3517], loss=-14.3536\n",
      "2025-07-21 23:17:59,406 — INFO — layer 1, [2:3517], loss=-18.4031\n"
     ]
    },
    {
     "name": "stderr",
     "output_type": "stream",
     "text": [
      "epoch 2, layer 1:  32%|██████████████████████▉                                                | 3567/11016 [09:04<18:02,  6.88it/s, loss=-16.5]"
     ]
    },
    {
     "name": "stdout",
     "output_type": "stream",
     "text": [
      "2025-07-21 23:18:07,076 — INFO — layer 1, [2:3567], loss=-8.1903\n",
      "2025-07-21 23:18:07,076 — INFO — layer 1, [2:3567], loss=-6.8075\n"
     ]
    },
    {
     "name": "stderr",
     "output_type": "stream",
     "text": [
      "epoch 2, layer 1:  33%|███████████████████████▎                                               | 3617/11016 [09:11<19:15,  6.41it/s, loss=-18.2]"
     ]
    },
    {
     "name": "stdout",
     "output_type": "stream",
     "text": [
      "2025-07-21 23:18:14,650 — INFO — layer 1, [2:3617], loss=-7.6187\n",
      "2025-07-21 23:18:14,650 — INFO — layer 1, [2:3617], loss=-14.1737\n"
     ]
    },
    {
     "name": "stderr",
     "output_type": "stream",
     "text": [
      "epoch 2, layer 1:  33%|███████████████████████▋                                               | 3667/11016 [09:19<18:49,  6.50it/s, loss=-8.81]"
     ]
    },
    {
     "name": "stdout",
     "output_type": "stream",
     "text": [
      "2025-07-21 23:18:22,339 — INFO — layer 1, [2:3667], loss=-16.5146\n",
      "2025-07-21 23:18:22,339 — INFO — layer 1, [2:3667], loss=-9.1396\n"
     ]
    },
    {
     "name": "stderr",
     "output_type": "stream",
     "text": [
      "epoch 2, layer 1:  34%|███████████████████████▉                                               | 3717/11016 [09:26<18:04,  6.73it/s, loss=-16.4]"
     ]
    },
    {
     "name": "stdout",
     "output_type": "stream",
     "text": [
      "2025-07-21 23:18:29,961 — INFO — layer 1, [2:3717], loss=-13.2648\n",
      "2025-07-21 23:18:29,961 — INFO — layer 1, [2:3717], loss=-6.5080\n"
     ]
    },
    {
     "name": "stderr",
     "output_type": "stream",
     "text": [
      "epoch 2, layer 1:  34%|████████████████████████▎                                              | 3767/11016 [09:34<18:11,  6.64it/s, loss=-11.8]"
     ]
    },
    {
     "name": "stdout",
     "output_type": "stream",
     "text": [
      "2025-07-21 23:18:37,535 — INFO — layer 1, [2:3767], loss=-21.8788\n",
      "2025-07-21 23:18:37,535 — INFO — layer 1, [2:3767], loss=-26.2784\n"
     ]
    },
    {
     "name": "stderr",
     "output_type": "stream",
     "text": [
      "epoch 2, layer 1:  35%|████████████████████████▌                                              | 3817/11016 [09:42<17:41,  6.78it/s, loss=-5.24]"
     ]
    },
    {
     "name": "stdout",
     "output_type": "stream",
     "text": [
      "2025-07-21 23:18:45,124 — INFO — layer 1, [2:3817], loss=-20.9532\n",
      "2025-07-21 23:18:45,124 — INFO — layer 1, [2:3817], loss=-12.6489\n"
     ]
    },
    {
     "name": "stderr",
     "output_type": "stream",
     "text": [
      "epoch 2, layer 1:  35%|████████████████████████▉                                              | 3867/11016 [09:49<18:25,  6.47it/s, loss=-5.95]"
     ]
    },
    {
     "name": "stdout",
     "output_type": "stream",
     "text": [
      "2025-07-21 23:18:52,737 — INFO — layer 1, [2:3867], loss=-19.8142\n",
      "2025-07-21 23:18:52,737 — INFO — layer 1, [2:3867], loss=-16.0943\n"
     ]
    },
    {
     "name": "stderr",
     "output_type": "stream",
     "text": [
      "epoch 2, layer 1:  36%|█████████████████████████▉                                               | 3917/11016 [09:57<16:57,  6.98it/s, loss=-17]"
     ]
    },
    {
     "name": "stdout",
     "output_type": "stream",
     "text": [
      "2025-07-21 23:19:00,447 — INFO — layer 1, [2:3917], loss=-2.9453\n",
      "2025-07-21 23:19:00,446 — INFO — layer 1, [2:3917], loss=-1.3557\n"
     ]
    },
    {
     "name": "stderr",
     "output_type": "stream",
     "text": [
      "epoch 2, layer 1:  36%|█████████████████████████▌                                             | 3967/11016 [10:05<17:25,  6.74it/s, loss=-11.6]"
     ]
    },
    {
     "name": "stdout",
     "output_type": "stream",
     "text": [
      "2025-07-21 23:19:08,050 — INFO — layer 1, [2:3967], loss=-20.8834\n",
      "2025-07-21 23:19:08,050 — INFO — layer 1, [2:3967], loss=-9.3195\n"
     ]
    },
    {
     "name": "stderr",
     "output_type": "stream",
     "text": [
      "epoch 2, layer 1:  36%|█████████████████████████▉                                             | 4017/11016 [10:12<17:38,  6.61it/s, loss=-5.66]"
     ]
    },
    {
     "name": "stdout",
     "output_type": "stream",
     "text": [
      "2025-07-21 23:19:15,626 — INFO — layer 1, [2:4017], loss=-20.6549\n",
      "2025-07-21 23:19:15,626 — INFO — layer 1, [2:4017], loss=-23.3643\n"
     ]
    },
    {
     "name": "stderr",
     "output_type": "stream",
     "text": [
      "epoch 2, layer 1:  37%|██████████████████████████▏                                            | 4067/11016 [10:20<18:05,  6.40it/s, loss=-19.6]"
     ]
    },
    {
     "name": "stdout",
     "output_type": "stream",
     "text": [
      "2025-07-21 23:19:23,278 — INFO — layer 1, [2:4067], loss=-2.6804\n",
      "2025-07-21 23:19:23,278 — INFO — layer 1, [2:4067], loss=-23.2826\n"
     ]
    },
    {
     "name": "stderr",
     "output_type": "stream",
     "text": [
      "epoch 2, layer 1:  37%|██████████████████████████▌                                            | 4117/11016 [10:28<16:56,  6.78it/s, loss=-6.53]"
     ]
    },
    {
     "name": "stdout",
     "output_type": "stream",
     "text": [
      "2025-07-21 23:19:30,914 — INFO — layer 1, [2:4117], loss=-14.7498\n",
      "2025-07-21 23:19:30,914 — INFO — layer 1, [2:4117], loss=-7.1895\n"
     ]
    },
    {
     "name": "stderr",
     "output_type": "stream",
     "text": [
      "epoch 2, layer 1:  38%|██████████████████████████▊                                            | 4167/11016 [10:35<16:55,  6.74it/s, loss=-4.51]"
     ]
    },
    {
     "name": "stdout",
     "output_type": "stream",
     "text": [
      "2025-07-21 23:19:38,636 — INFO — layer 1, [2:4167], loss=-5.3640\n",
      "2025-07-21 23:19:38,637 — INFO — layer 1, [2:4167], loss=-8.8798\n"
     ]
    },
    {
     "name": "stderr",
     "output_type": "stream",
     "text": [
      "epoch 2, layer 1:  38%|███████████████████████████▏                                           | 4217/11016 [10:43<17:06,  6.63it/s, loss=-11.5]"
     ]
    },
    {
     "name": "stdout",
     "output_type": "stream",
     "text": [
      "2025-07-21 23:19:46,373 — INFO — layer 1, [2:4217], loss=-15.3028\n",
      "2025-07-21 23:19:46,374 — INFO — layer 1, [2:4217], loss=-0.2058\n"
     ]
    },
    {
     "name": "stderr",
     "output_type": "stream",
     "text": [
      "epoch 2, layer 1:  39%|███████████████████████████▌                                           | 4267/11016 [10:51<17:22,  6.48it/s, loss=-12.8]"
     ]
    },
    {
     "name": "stdout",
     "output_type": "stream",
     "text": [
      "2025-07-21 23:19:53,979 — INFO — layer 1, [2:4267], loss=-4.2913\n",
      "2025-07-21 23:19:53,979 — INFO — layer 1, [2:4267], loss=-15.4459\n"
     ]
    },
    {
     "name": "stderr",
     "output_type": "stream",
     "text": [
      "epoch 2, layer 1:  39%|████████████████████████████▌                                            | 4317/11016 [10:58<16:25,  6.80it/s, loss=-10]"
     ]
    },
    {
     "name": "stdout",
     "output_type": "stream",
     "text": [
      "2025-07-21 23:20:01,390 — INFO — layer 1, [2:4317], loss=-9.5793\n",
      "2025-07-21 23:20:01,390 — INFO — layer 1, [2:4317], loss=-17.4927\n"
     ]
    },
    {
     "name": "stderr",
     "output_type": "stream",
     "text": [
      "epoch 2, layer 1:  40%|████████████████████████████▏                                          | 4367/11016 [11:06<16:27,  6.73it/s, loss=-13.9]"
     ]
    },
    {
     "name": "stdout",
     "output_type": "stream",
     "text": [
      "2025-07-21 23:20:08,978 — INFO — layer 1, [2:4367], loss=-10.2641\n",
      "2025-07-21 23:20:08,978 — INFO — layer 1, [2:4367], loss=-16.9449\n"
     ]
    },
    {
     "name": "stderr",
     "output_type": "stream",
     "text": [
      "epoch 2, layer 1:  40%|████████████████████████████▍                                          | 4417/11016 [11:13<16:03,  6.85it/s, loss=-18.9]"
     ]
    },
    {
     "name": "stdout",
     "output_type": "stream",
     "text": [
      "2025-07-21 23:20:16,447 — INFO — layer 1, [2:4417], loss=-14.8318\n",
      "2025-07-21 23:20:16,447 — INFO — layer 1, [2:4417], loss=-11.3453\n"
     ]
    },
    {
     "name": "stderr",
     "output_type": "stream",
     "text": [
      "epoch 2, layer 1:  41%|█████████████████████████████▏                                          | 4467/11016 [11:21<15:46,  6.92it/s, loss=-5.8]"
     ]
    },
    {
     "name": "stdout",
     "output_type": "stream",
     "text": [
      "2025-07-21 23:20:24,044 — INFO — layer 1, [2:4467], loss=-1.1050\n",
      "2025-07-21 23:20:24,044 — INFO — layer 1, [2:4467], loss=-9.8177\n"
     ]
    },
    {
     "name": "stderr",
     "output_type": "stream",
     "text": [
      "epoch 2, layer 1:  41%|█████████████████████████████▉                                           | 4517/11016 [11:28<15:45,  6.87it/s, loss=-12]"
     ]
    },
    {
     "name": "stdout",
     "output_type": "stream",
     "text": [
      "2025-07-21 23:20:31,618 — INFO — layer 1, [2:4517], loss=-13.6073\n",
      "2025-07-21 23:20:31,618 — INFO — layer 1, [2:4517], loss=-17.1116\n"
     ]
    },
    {
     "name": "stderr",
     "output_type": "stream",
     "text": [
      "epoch 2, layer 1:  41%|█████████████████████████████▍                                         | 4567/11016 [11:36<16:17,  6.60it/s, loss=-17.4]"
     ]
    },
    {
     "name": "stdout",
     "output_type": "stream",
     "text": [
      "2025-07-21 23:20:39,405 — INFO — layer 1, [2:4567], loss=-10.3916\n",
      "2025-07-21 23:20:39,405 — INFO — layer 1, [2:4567], loss=-15.2860\n"
     ]
    },
    {
     "name": "stderr",
     "output_type": "stream",
     "text": [
      "epoch 2, layer 1:  42%|██████████████████████████████▌                                          | 4617/11016 [11:44<15:46,  6.76it/s, loss=-10]"
     ]
    },
    {
     "name": "stdout",
     "output_type": "stream",
     "text": [
      "2025-07-21 23:20:46,964 — INFO — layer 1, [2:4617], loss=-13.9810\n",
      "2025-07-21 23:20:46,964 — INFO — layer 1, [2:4617], loss=-11.2563\n"
     ]
    },
    {
     "name": "stderr",
     "output_type": "stream",
     "text": [
      "epoch 2, layer 1:  42%|██████████████████████████████                                         | 4667/11016 [11:51<15:37,  6.77it/s, loss=-3.75]"
     ]
    },
    {
     "name": "stdout",
     "output_type": "stream",
     "text": [
      "2025-07-21 23:20:54,448 — INFO — layer 1, [2:4667], loss=-4.8337\n",
      "2025-07-21 23:20:54,448 — INFO — layer 1, [2:4667], loss=-7.5990\n"
     ]
    },
    {
     "name": "stderr",
     "output_type": "stream",
     "text": [
      "epoch 2, layer 1:  43%|██████████████████████████████▍                                        | 4717/11016 [11:59<14:41,  7.14it/s, loss=-7.29]"
     ]
    },
    {
     "name": "stdout",
     "output_type": "stream",
     "text": [
      "2025-07-21 23:21:02,005 — INFO — layer 1, [2:4717], loss=-9.8000\n",
      "2025-07-21 23:21:02,005 — INFO — layer 1, [2:4717], loss=-22.8765\n"
     ]
    },
    {
     "name": "stderr",
     "output_type": "stream",
     "text": [
      "epoch 2, layer 1:  43%|██████████████████████████████▋                                        | 4767/11016 [12:06<16:44,  6.22it/s, loss=-10.3]"
     ]
    },
    {
     "name": "stdout",
     "output_type": "stream",
     "text": [
      "2025-07-21 23:21:09,587 — INFO — layer 1, [2:4767], loss=-16.4155\n",
      "2025-07-21 23:21:09,587 — INFO — layer 1, [2:4767], loss=-11.9138\n"
     ]
    },
    {
     "name": "stderr",
     "output_type": "stream",
     "text": [
      "epoch 2, layer 1:  44%|███████████████████████████████                                        | 4817/11016 [12:14<15:23,  6.71it/s, loss=-7.64]"
     ]
    },
    {
     "name": "stdout",
     "output_type": "stream",
     "text": [
      "2025-07-21 23:21:17,298 — INFO — layer 1, [2:4817], loss=-16.3412\n",
      "2025-07-21 23:21:17,298 — INFO — layer 1, [2:4817], loss=-12.5829\n"
     ]
    },
    {
     "name": "stderr",
     "output_type": "stream",
     "text": [
      "epoch 2, layer 1:  44%|████████████████████████████████▎                                        | 4867/11016 [12:22<14:43,  6.96it/s, loss=-11]"
     ]
    },
    {
     "name": "stdout",
     "output_type": "stream",
     "text": [
      "2025-07-21 23:21:25,021 — INFO — layer 1, [2:4867], loss=-11.7460\n",
      "2025-07-21 23:21:25,021 — INFO — layer 1, [2:4867], loss=-11.1551\n"
     ]
    },
    {
     "name": "stderr",
     "output_type": "stream",
     "text": [
      "epoch 2, layer 1:  45%|███████████████████████████████▋                                       | 4917/11016 [12:29<15:45,  6.45it/s, loss=-12.2]"
     ]
    },
    {
     "name": "stdout",
     "output_type": "stream",
     "text": [
      "2025-07-21 23:21:32,762 — INFO — layer 1, [2:4917], loss=-3.7752\n",
      "2025-07-21 23:21:32,762 — INFO — layer 1, [2:4917], loss=-11.5399\n"
     ]
    },
    {
     "name": "stderr",
     "output_type": "stream",
     "text": [
      "epoch 2, layer 1:  45%|████████████████████████████████                                       | 4967/11016 [12:37<17:02,  5.92it/s, loss=-11.1]"
     ]
    },
    {
     "name": "stdout",
     "output_type": "stream",
     "text": [
      "2025-07-21 23:21:40,495 — INFO — layer 1, [2:4967], loss=-12.4463\n",
      "2025-07-21 23:21:40,495 — INFO — layer 1, [2:4967], loss=-23.4447\n"
     ]
    },
    {
     "name": "stderr",
     "output_type": "stream",
     "text": [
      "epoch 2, layer 1:  46%|████████████████████████████████▎                                      | 5017/11016 [12:45<15:30,  6.45it/s, loss=-14.1]"
     ]
    },
    {
     "name": "stdout",
     "output_type": "stream",
     "text": [
      "2025-07-21 23:21:48,130 — INFO — layer 1, [2:5017], loss=-11.5087\n",
      "2025-07-21 23:21:48,130 — INFO — layer 1, [2:5017], loss=-15.3358\n"
     ]
    },
    {
     "name": "stderr",
     "output_type": "stream",
     "text": [
      "epoch 2, layer 1:  46%|████████████████████████████████▋                                      | 5067/11016 [12:52<14:27,  6.86it/s, loss=-14.5]"
     ]
    },
    {
     "name": "stdout",
     "output_type": "stream",
     "text": [
      "2025-07-21 23:21:55,598 — INFO — layer 1, [2:5067], loss=-9.5281\n",
      "2025-07-21 23:21:55,598 — INFO — layer 1, [2:5067], loss=-16.5459\n"
     ]
    },
    {
     "name": "stderr",
     "output_type": "stream",
     "text": [
      "epoch 2, layer 1:  46%|████████████████████████████████▉                                      | 5117/11016 [13:00<14:14,  6.90it/s, loss=-12.8]"
     ]
    },
    {
     "name": "stdout",
     "output_type": "stream",
     "text": [
      "2025-07-21 23:22:03,257 — INFO — layer 1, [2:5117], loss=-12.7425\n",
      "2025-07-21 23:22:03,257 — INFO — layer 1, [2:5117], loss=-11.6328\n"
     ]
    },
    {
     "name": "stderr",
     "output_type": "stream",
     "text": [
      "epoch 2, layer 1:  47%|█████████████████████████████████▎                                     | 5167/11016 [13:08<15:09,  6.43it/s, loss=-10.8]"
     ]
    },
    {
     "name": "stdout",
     "output_type": "stream",
     "text": [
      "2025-07-21 23:22:11,040 — INFO — layer 1, [2:5167], loss=-13.5762\n",
      "2025-07-21 23:22:11,040 — INFO — layer 1, [2:5167], loss=-11.4983\n"
     ]
    },
    {
     "name": "stderr",
     "output_type": "stream",
     "text": [
      "epoch 2, layer 1:  47%|█████████████████████████████████▌                                     | 5217/11016 [13:15<14:00,  6.90it/s, loss=-19.9]"
     ]
    },
    {
     "name": "stdout",
     "output_type": "stream",
     "text": [
      "2025-07-21 23:22:18,555 — INFO — layer 1, [2:5217], loss=-26.6510\n",
      "2025-07-21 23:22:18,555 — INFO — layer 1, [2:5217], loss=-11.3294\n"
     ]
    },
    {
     "name": "stderr",
     "output_type": "stream",
     "text": [
      "epoch 2, layer 1:  48%|█████████████████████████████████▉                                     | 5267/11016 [13:23<14:24,  6.65it/s, loss=-11.9]"
     ]
    },
    {
     "name": "stdout",
     "output_type": "stream",
     "text": [
      "2025-07-21 23:22:26,298 — INFO — layer 1, [2:5267], loss=-19.9788\n",
      "2025-07-21 23:22:26,298 — INFO — layer 1, [2:5267], loss=-12.9278\n"
     ]
    },
    {
     "name": "stderr",
     "output_type": "stream",
     "text": [
      "epoch 2, layer 1:  48%|██████████████████████████████████▎                                    | 5317/11016 [13:30<14:43,  6.45it/s, loss=-16.3]"
     ]
    },
    {
     "name": "stdout",
     "output_type": "stream",
     "text": [
      "2025-07-21 23:22:33,903 — INFO — layer 1, [2:5317], loss=-20.1597\n",
      "2025-07-21 23:22:33,903 — INFO — layer 1, [2:5317], loss=-17.8084\n"
     ]
    },
    {
     "name": "stderr",
     "output_type": "stream",
     "text": [
      "epoch 2, layer 1:  49%|██████████████████████████████████▌                                    | 5367/11016 [13:38<14:25,  6.53it/s, loss=-17.2]"
     ]
    },
    {
     "name": "stdout",
     "output_type": "stream",
     "text": [
      "2025-07-21 23:22:41,606 — INFO — layer 1, [2:5367], loss=-5.7359\n",
      "2025-07-21 23:22:41,606 — INFO — layer 1, [2:5367], loss=-8.2196\n"
     ]
    },
    {
     "name": "stderr",
     "output_type": "stream",
     "text": [
      "epoch 2, layer 1:  49%|██████████████████████████████████▉                                    | 5417/11016 [13:46<13:59,  6.67it/s, loss=-10.1]"
     ]
    },
    {
     "name": "stdout",
     "output_type": "stream",
     "text": [
      "2025-07-21 23:22:49,308 — INFO — layer 1, [2:5417], loss=-17.5843\n",
      "2025-07-21 23:22:49,308 — INFO — layer 1, [2:5417], loss=-7.1819\n"
     ]
    },
    {
     "name": "stderr",
     "output_type": "stream",
     "text": [
      "epoch 2, layer 1:  50%|███████████████████████████████████▏                                   | 5467/11016 [13:54<14:06,  6.55it/s, loss=-8.54]"
     ]
    },
    {
     "name": "stdout",
     "output_type": "stream",
     "text": [
      "2025-07-21 23:22:57,049 — INFO — layer 1, [2:5467], loss=-15.9976\n",
      "2025-07-21 23:22:57,049 — INFO — layer 1, [2:5467], loss=-10.6985\n"
     ]
    },
    {
     "name": "stderr",
     "output_type": "stream",
     "text": [
      "epoch 2, layer 1:  50%|███████████████████████████████████▌                                   | 5517/11016 [14:01<13:50,  6.62it/s, loss=-11.2]"
     ]
    },
    {
     "name": "stdout",
     "output_type": "stream",
     "text": [
      "2025-07-21 23:23:04,590 — INFO — layer 1, [2:5517], loss=-13.6187\n",
      "2025-07-21 23:23:04,590 — INFO — layer 1, [2:5517], loss=-6.5604\n"
     ]
    },
    {
     "name": "stderr",
     "output_type": "stream",
     "text": [
      "epoch 2, layer 1:  51%|███████████████████████████████████▉                                   | 5567/11016 [14:09<13:36,  6.67it/s, loss=-10.8]"
     ]
    },
    {
     "name": "stdout",
     "output_type": "stream",
     "text": [
      "2025-07-21 23:23:12,125 — INFO — layer 1, [2:5567], loss=-4.0084\n",
      "2025-07-21 23:23:12,125 — INFO — layer 1, [2:5567], loss=-20.3132\n"
     ]
    },
    {
     "name": "stderr",
     "output_type": "stream",
     "text": [
      "epoch 2, layer 1:  51%|████████████████████████████████████▏                                  | 5617/11016 [14:16<13:49,  6.51it/s, loss=-14.5]"
     ]
    },
    {
     "name": "stdout",
     "output_type": "stream",
     "text": [
      "2025-07-21 23:23:19,620 — INFO — layer 1, [2:5617], loss=-6.6401\n",
      "2025-07-21 23:23:19,620 — INFO — layer 1, [2:5617], loss=-14.7062\n"
     ]
    },
    {
     "name": "stderr",
     "output_type": "stream",
     "text": [
      "epoch 2, layer 1:  51%|█████████████████████████████████████▌                                   | 5667/11016 [14:24<14:25,  6.18it/s, loss=-23]"
     ]
    },
    {
     "name": "stdout",
     "output_type": "stream",
     "text": [
      "2025-07-21 23:23:27,175 — INFO — layer 1, [2:5667], loss=-20.8006\n",
      "2025-07-21 23:23:27,175 — INFO — layer 1, [2:5667], loss=-13.4258\n"
     ]
    },
    {
     "name": "stderr",
     "output_type": "stream",
     "text": [
      "epoch 2, layer 1:  52%|████████████████████████████████████▊                                  | 5717/11016 [14:31<13:27,  6.56it/s, loss=-3.67]"
     ]
    },
    {
     "name": "stdout",
     "output_type": "stream",
     "text": [
      "2025-07-21 23:23:34,746 — INFO — layer 1, [2:5717], loss=-6.6819\n",
      "2025-07-21 23:23:34,746 — INFO — layer 1, [2:5717], loss=-7.3785\n"
     ]
    },
    {
     "name": "stderr",
     "output_type": "stream",
     "text": [
      "epoch 2, layer 1:  52%|█████████████████████████████████████▏                                 | 5767/11016 [14:39<12:39,  6.91it/s, loss=-15.3]"
     ]
    },
    {
     "name": "stdout",
     "output_type": "stream",
     "text": [
      "2025-07-21 23:23:42,347 — INFO — layer 1, [2:5767], loss=-8.1000\n",
      "2025-07-21 23:23:42,347 — INFO — layer 1, [2:5767], loss=-14.1822\n"
     ]
    },
    {
     "name": "stderr",
     "output_type": "stream",
     "text": [
      "epoch 2, layer 1:  53%|█████████████████████████████████████▍                                 | 5817/11016 [14:47<13:24,  6.46it/s, loss=-11.7]"
     ]
    },
    {
     "name": "stdout",
     "output_type": "stream",
     "text": [
      "2025-07-21 23:23:50,015 — INFO — layer 1, [2:5817], loss=-4.5865\n",
      "2025-07-21 23:23:50,015 — INFO — layer 1, [2:5817], loss=-20.8207\n"
     ]
    },
    {
     "name": "stderr",
     "output_type": "stream",
     "text": [
      "epoch 2, layer 1:  53%|█████████████████████████████████████▊                                 | 5867/11016 [14:54<13:36,  6.30it/s, loss=-7.62]"
     ]
    },
    {
     "name": "stdout",
     "output_type": "stream",
     "text": [
      "2025-07-21 23:23:57,743 — INFO — layer 1, [2:5867], loss=-17.0145\n",
      "2025-07-21 23:23:57,743 — INFO — layer 1, [2:5867], loss=-19.1161\n"
     ]
    },
    {
     "name": "stderr",
     "output_type": "stream",
     "text": [
      "epoch 2, layer 1:  54%|██████████████████████████████████████▏                                | 5917/11016 [15:02<12:04,  7.03it/s, loss=-16.1]"
     ]
    },
    {
     "name": "stdout",
     "output_type": "stream",
     "text": [
      "2025-07-21 23:24:05,309 — INFO — layer 1, [2:5917], loss=-17.5900\n",
      "2025-07-21 23:24:05,309 — INFO — layer 1, [2:5917], loss=-21.1684\n"
     ]
    },
    {
     "name": "stderr",
     "output_type": "stream",
     "text": [
      "epoch 2, layer 1:  54%|██████████████████████████████████████▍                                | 5967/11016 [15:10<12:45,  6.59it/s, loss=-10.5]"
     ]
    },
    {
     "name": "stdout",
     "output_type": "stream",
     "text": [
      "2025-07-21 23:24:12,996 — INFO — layer 1, [2:5967], loss=-23.0634\n",
      "2025-07-21 23:24:12,997 — INFO — layer 1, [2:5967], loss=-0.5719\n"
     ]
    },
    {
     "name": "stderr",
     "output_type": "stream",
     "text": [
      "epoch 2, layer 1:  55%|██████████████████████████████████████▊                                | 6017/11016 [15:17<13:18,  6.26it/s, loss=-8.33]"
     ]
    },
    {
     "name": "stdout",
     "output_type": "stream",
     "text": [
      "2025-07-21 23:24:20,579 — INFO — layer 1, [2:6017], loss=-15.2033\n",
      "2025-07-21 23:24:20,579 — INFO — layer 1, [2:6017], loss=-18.5742\n"
     ]
    },
    {
     "name": "stderr",
     "output_type": "stream",
     "text": [
      "epoch 2, layer 1:  55%|███████████████████████████████████████                                | 6067/11016 [15:25<12:34,  6.56it/s, loss=-18.1]"
     ]
    },
    {
     "name": "stdout",
     "output_type": "stream",
     "text": [
      "2025-07-21 23:24:28,226 — INFO — layer 1, [2:6067], loss=-14.0963\n",
      "2025-07-21 23:24:28,226 — INFO — layer 1, [2:6067], loss=-7.2251\n"
     ]
    },
    {
     "name": "stderr",
     "output_type": "stream",
     "text": [
      "epoch 2, layer 1:  56%|███████████████████████████████████████▍                               | 6117/11016 [15:33<11:41,  6.99it/s, loss=-14.1]"
     ]
    },
    {
     "name": "stdout",
     "output_type": "stream",
     "text": [
      "2025-07-21 23:24:35,963 — INFO — layer 1, [2:6117], loss=-14.1597\n",
      "2025-07-21 23:24:35,963 — INFO — layer 1, [2:6117], loss=-12.6252\n"
     ]
    },
    {
     "name": "stderr",
     "output_type": "stream",
     "text": [
      "epoch 2, layer 1:  56%|███████████████████████████████████████▋                               | 6167/11016 [15:40<12:28,  6.48it/s, loss=-21.7]"
     ]
    },
    {
     "name": "stdout",
     "output_type": "stream",
     "text": [
      "2025-07-21 23:24:43,450 — INFO — layer 1, [2:6167], loss=-13.4760\n",
      "2025-07-21 23:24:43,450 — INFO — layer 1, [2:6167], loss=-7.0514\n"
     ]
    },
    {
     "name": "stderr",
     "output_type": "stream",
     "text": [
      "epoch 2, layer 1:  56%|████████████████████████████████████████                               | 6217/11016 [15:47<11:58,  6.68it/s, loss=-6.62]"
     ]
    },
    {
     "name": "stdout",
     "output_type": "stream",
     "text": [
      "2025-07-21 23:24:50,920 — INFO — layer 1, [2:6217], loss=-3.4554\n",
      "2025-07-21 23:24:50,920 — INFO — layer 1, [2:6217], loss=-17.9386\n"
     ]
    },
    {
     "name": "stderr",
     "output_type": "stream",
     "text": [
      "epoch 2, layer 1:  57%|████████████████████████████████████████▍                              | 6267/11016 [15:55<11:49,  6.69it/s, loss=-10.3]"
     ]
    },
    {
     "name": "stdout",
     "output_type": "stream",
     "text": [
      "2025-07-21 23:24:58,605 — INFO — layer 1, [2:6267], loss=-16.5336\n",
      "2025-07-21 23:24:58,605 — INFO — layer 1, [2:6267], loss=-4.1684\n"
     ]
    },
    {
     "name": "stderr",
     "output_type": "stream",
     "text": [
      "epoch 2, layer 1:  57%|████████████████████████████████████████▋                              | 6317/11016 [16:03<11:50,  6.61it/s, loss=-6.06]"
     ]
    },
    {
     "name": "stdout",
     "output_type": "stream",
     "text": [
      "2025-07-21 23:25:06,234 — INFO — layer 1, [2:6317], loss=-9.5145\n",
      "2025-07-21 23:25:06,234 — INFO — layer 1, [2:6317], loss=-12.1361\n"
     ]
    },
    {
     "name": "stderr",
     "output_type": "stream",
     "text": [
      "epoch 2, layer 1:  58%|█████████████████████████████████████████                              | 6367/11016 [16:10<11:42,  6.62it/s, loss=-18.4]"
     ]
    },
    {
     "name": "stdout",
     "output_type": "stream",
     "text": [
      "2025-07-21 23:25:13,882 — INFO — layer 1, [2:6367], loss=-15.7819\n",
      "2025-07-21 23:25:13,882 — INFO — layer 1, [2:6367], loss=-21.6064\n"
     ]
    },
    {
     "name": "stderr",
     "output_type": "stream",
     "text": [
      "epoch 2, layer 1:  58%|█████████████████████████████████████████▎                             | 6417/11016 [16:18<12:03,  6.35it/s, loss=-1.99]"
     ]
    },
    {
     "name": "stdout",
     "output_type": "stream",
     "text": [
      "2025-07-21 23:25:21,486 — INFO — layer 1, [2:6417], loss=-16.3092\n",
      "2025-07-21 23:25:21,486 — INFO — layer 1, [2:6417], loss=-12.7666\n"
     ]
    },
    {
     "name": "stderr",
     "output_type": "stream",
     "text": [
      "epoch 2, layer 1:  59%|█████████████████████████████████████████▋                             | 6467/11016 [16:26<10:44,  7.06it/s, loss=-23.4]"
     ]
    },
    {
     "name": "stdout",
     "output_type": "stream",
     "text": [
      "2025-07-21 23:25:29,169 — INFO — layer 1, [2:6467], loss=-8.4603\n",
      "2025-07-21 23:25:29,169 — INFO — layer 1, [2:6467], loss=-11.0299\n"
     ]
    },
    {
     "name": "stderr",
     "output_type": "stream",
     "text": [
      "epoch 2, layer 1:  59%|███████████████████████████████████████████▏                             | 6517/11016 [16:33<11:14,  6.67it/s, loss=-21]"
     ]
    },
    {
     "name": "stdout",
     "output_type": "stream",
     "text": [
      "2025-07-21 23:25:36,764 — INFO — layer 1, [2:6517], loss=-18.1035\n",
      "2025-07-21 23:25:36,764 — INFO — layer 1, [2:6517], loss=-12.0350\n"
     ]
    },
    {
     "name": "stderr",
     "output_type": "stream",
     "text": [
      "epoch 2, layer 1:  60%|██████████████████████████████████████████▎                            | 6567/11016 [16:41<11:09,  6.65it/s, loss=-4.25]"
     ]
    },
    {
     "name": "stdout",
     "output_type": "stream",
     "text": [
      "2025-07-21 23:25:44,328 — INFO — layer 1, [2:6567], loss=-20.5692\n",
      "2025-07-21 23:25:44,328 — INFO — layer 1, [2:6567], loss=-10.9289\n"
     ]
    },
    {
     "name": "stderr",
     "output_type": "stream",
     "text": [
      "epoch 2, layer 1:  60%|██████████████████████████████████████████▋                            | 6617/11016 [16:48<11:10,  6.56it/s, loss=-8.59]"
     ]
    },
    {
     "name": "stdout",
     "output_type": "stream",
     "text": [
      "2025-07-21 23:25:51,793 — INFO — layer 1, [2:6617], loss=-16.1746\n",
      "2025-07-21 23:25:51,793 — INFO — layer 1, [2:6617], loss=-7.4783\n"
     ]
    },
    {
     "name": "stderr",
     "output_type": "stream",
     "text": [
      "epoch 2, layer 1:  61%|██████████████████████████████████████████▉                            | 6667/11016 [16:56<10:35,  6.85it/s, loss=-7.34]"
     ]
    },
    {
     "name": "stdout",
     "output_type": "stream",
     "text": [
      "2025-07-21 23:25:59,502 — INFO — layer 1, [2:6667], loss=-9.7270\n",
      "2025-07-21 23:25:59,502 — INFO — layer 1, [2:6667], loss=-3.6413\n"
     ]
    },
    {
     "name": "stderr",
     "output_type": "stream",
     "text": [
      "epoch 2, layer 1:  61%|███████████████████████████████████████████▉                            | 6717/11016 [17:04<10:50,  6.60it/s, loss=-8.7]"
     ]
    },
    {
     "name": "stdout",
     "output_type": "stream",
     "text": [
      "2025-07-21 23:26:06,964 — INFO — layer 1, [2:6717], loss=-11.3311\n",
      "2025-07-21 23:26:06,965 — INFO — layer 1, [2:6717], loss=-2.5349\n"
     ]
    },
    {
     "name": "stderr",
     "output_type": "stream",
     "text": [
      "epoch 2, layer 1:  61%|███████████████████████████████████████████▌                           | 6767/11016 [17:11<11:11,  6.33it/s, loss=-10.4]"
     ]
    },
    {
     "name": "stdout",
     "output_type": "stream",
     "text": [
      "2025-07-21 23:26:14,684 — INFO — layer 1, [2:6767], loss=-3.7820\n",
      "2025-07-21 23:26:14,684 — INFO — layer 1, [2:6767], loss=-3.3727\n"
     ]
    },
    {
     "name": "stderr",
     "output_type": "stream",
     "text": [
      "epoch 2, layer 1:  62%|███████████████████████████████████████████▉                           | 6817/11016 [17:19<10:10,  6.88it/s, loss=-20.8]"
     ]
    },
    {
     "name": "stdout",
     "output_type": "stream",
     "text": [
      "2025-07-21 23:26:22,281 — INFO — layer 1, [2:6817], loss=-17.8909\n",
      "2025-07-21 23:26:22,281 — INFO — layer 1, [2:6817], loss=-10.8194\n"
     ]
    },
    {
     "name": "stderr",
     "output_type": "stream",
     "text": [
      "epoch 2, layer 1:  62%|████████████████████████████████████████████▎                          | 6867/11016 [17:27<10:05,  6.85it/s, loss=-18.8]"
     ]
    },
    {
     "name": "stdout",
     "output_type": "stream",
     "text": [
      "2025-07-21 23:26:30,004 — INFO — layer 1, [2:6867], loss=-17.9464\n",
      "2025-07-21 23:26:30,004 — INFO — layer 1, [2:6867], loss=-16.6845\n"
     ]
    },
    {
     "name": "stderr",
     "output_type": "stream",
     "text": [
      "epoch 2, layer 1:  63%|████████████████████████████████████████████▌                          | 6917/11016 [17:35<11:25,  5.98it/s, loss=-15.9]"
     ]
    },
    {
     "name": "stdout",
     "output_type": "stream",
     "text": [
      "2025-07-21 23:26:37,926 — INFO — layer 1, [2:6917], loss=-14.3900\n",
      "2025-07-21 23:26:37,926 — INFO — layer 1, [2:6917], loss=-8.7319\n"
     ]
    },
    {
     "name": "stderr",
     "output_type": "stream",
     "text": [
      "epoch 2, layer 1:  63%|████████████████████████████████████████████▉                          | 6967/11016 [17:42<10:18,  6.54it/s, loss=-9.86]"
     ]
    },
    {
     "name": "stdout",
     "output_type": "stream",
     "text": [
      "2025-07-21 23:26:45,555 — INFO — layer 1, [2:6967], loss=-3.5897\n",
      "2025-07-21 23:26:45,555 — INFO — layer 1, [2:6967], loss=-18.8485\n"
     ]
    },
    {
     "name": "stderr",
     "output_type": "stream",
     "text": [
      "epoch 2, layer 1:  64%|█████████████████████████████████████████████▏                         | 7017/11016 [17:50<09:54,  6.73it/s, loss=-3.68]"
     ]
    },
    {
     "name": "stdout",
     "output_type": "stream",
     "text": [
      "2025-07-21 23:26:53,107 — INFO — layer 1, [2:7017], loss=-18.2423\n",
      "2025-07-21 23:26:53,107 — INFO — layer 1, [2:7017], loss=-13.6359\n"
     ]
    },
    {
     "name": "stderr",
     "output_type": "stream",
     "text": [
      "epoch 2, layer 1:  64%|█████████████████████████████████████████████▌                         | 7067/11016 [17:57<10:22,  6.34it/s, loss=-7.12]"
     ]
    },
    {
     "name": "stdout",
     "output_type": "stream",
     "text": [
      "2025-07-21 23:27:00,697 — INFO — layer 1, [2:7067], loss=-19.1553\n",
      "2025-07-21 23:27:00,697 — INFO — layer 1, [2:7067], loss=-14.4179\n"
     ]
    },
    {
     "name": "stderr",
     "output_type": "stream",
     "text": [
      "epoch 2, layer 1:  65%|█████████████████████████████████████████████▊                         | 7117/11016 [18:05<10:12,  6.37it/s, loss=-9.91]"
     ]
    },
    {
     "name": "stdout",
     "output_type": "stream",
     "text": [
      "2025-07-21 23:27:08,263 — INFO — layer 1, [2:7117], loss=-22.9535\n",
      "2025-07-21 23:27:08,263 — INFO — layer 1, [2:7117], loss=-17.3188\n"
     ]
    },
    {
     "name": "stderr",
     "output_type": "stream",
     "text": [
      "epoch 2, layer 1:  65%|██████████████████████████████████████████████▏                        | 7167/11016 [18:12<09:57,  6.44it/s, loss=-8.03]"
     ]
    },
    {
     "name": "stdout",
     "output_type": "stream",
     "text": [
      "2025-07-21 23:27:15,903 — INFO — layer 1, [2:7167], loss=-12.0679\n",
      "2025-07-21 23:27:15,903 — INFO — layer 1, [2:7167], loss=-22.8820\n"
     ]
    },
    {
     "name": "stderr",
     "output_type": "stream",
     "text": [
      "epoch 2, layer 1:  66%|██████████████████████████████████████████████▌                        | 7217/11016 [18:20<09:29,  6.67it/s, loss=-14.2]"
     ]
    },
    {
     "name": "stdout",
     "output_type": "stream",
     "text": [
      "2025-07-21 23:27:23,551 — INFO — layer 1, [2:7217], loss=-16.7928\n",
      "2025-07-21 23:27:23,551 — INFO — layer 1, [2:7217], loss=-5.4396\n"
     ]
    },
    {
     "name": "stderr",
     "output_type": "stream",
     "text": [
      "epoch 2, layer 1:  66%|██████████████████████████████████████████████▊                        | 7267/11016 [18:28<09:55,  6.30it/s, loss=-14.4]"
     ]
    },
    {
     "name": "stdout",
     "output_type": "stream",
     "text": [
      "2025-07-21 23:27:31,264 — INFO — layer 1, [2:7267], loss=-9.6008\n",
      "2025-07-21 23:27:31,264 — INFO — layer 1, [2:7267], loss=-13.6267\n"
     ]
    },
    {
     "name": "stderr",
     "output_type": "stream",
     "text": [
      "epoch 2, layer 1:  66%|██████████████████████████████████████████████▍                       | 7317/11016 [18:36<09:07,  6.76it/s, loss=-0.901]"
     ]
    },
    {
     "name": "stdout",
     "output_type": "stream",
     "text": [
      "2025-07-21 23:27:38,931 — INFO — layer 1, [2:7317], loss=-13.9163\n",
      "2025-07-21 23:27:38,931 — INFO — layer 1, [2:7317], loss=-18.4796\n"
     ]
    },
    {
     "name": "stderr",
     "output_type": "stream",
     "text": [
      "epoch 2, layer 1:  67%|███████████████████████████████████████████████▍                       | 7367/11016 [18:43<09:13,  6.59it/s, loss=-10.8]"
     ]
    },
    {
     "name": "stdout",
     "output_type": "stream",
     "text": [
      "2025-07-21 23:27:46,608 — INFO — layer 1, [2:7367], loss=-20.9594\n",
      "2025-07-21 23:27:46,608 — INFO — layer 1, [2:7367], loss=-10.2329\n"
     ]
    },
    {
     "name": "stderr",
     "output_type": "stream",
     "text": [
      "epoch 2, layer 1:  67%|███████████████████████████████████████████████▊                       | 7417/11016 [18:51<10:02,  5.98it/s, loss=-10.3]"
     ]
    },
    {
     "name": "stdout",
     "output_type": "stream",
     "text": [
      "2025-07-21 23:27:54,249 — INFO — layer 1, [2:7417], loss=-9.6372\n",
      "2025-07-21 23:27:54,249 — INFO — layer 1, [2:7417], loss=-10.0417\n"
     ]
    },
    {
     "name": "stderr",
     "output_type": "stream",
     "text": [
      "epoch 2, layer 1:  68%|████████████████████████████████████████████████▏                      | 7467/11016 [18:59<09:01,  6.55it/s, loss=-15.6]"
     ]
    },
    {
     "name": "stdout",
     "output_type": "stream",
     "text": [
      "2025-07-21 23:28:01,985 — INFO — layer 1, [2:7467], loss=-15.1110\n",
      "2025-07-21 23:28:01,985 — INFO — layer 1, [2:7467], loss=-8.1596\n"
     ]
    },
    {
     "name": "stderr",
     "output_type": "stream",
     "text": [
      "epoch 2, layer 1:  68%|████████████████████████████████████████████████▍                      | 7517/11016 [19:06<08:48,  6.63it/s, loss=-14.1]"
     ]
    },
    {
     "name": "stdout",
     "output_type": "stream",
     "text": [
      "2025-07-21 23:28:09,723 — INFO — layer 1, [2:7517], loss=-8.8439\n",
      "2025-07-21 23:28:09,723 — INFO — layer 1, [2:7517], loss=-9.6033\n"
     ]
    },
    {
     "name": "stderr",
     "output_type": "stream",
     "text": [
      "epoch 2, layer 1:  69%|████████████████████████████████████████████████▊                      | 7567/11016 [19:14<08:52,  6.48it/s, loss=-17.9]"
     ]
    },
    {
     "name": "stdout",
     "output_type": "stream",
     "text": [
      "2025-07-21 23:28:17,322 — INFO — layer 1, [2:7567], loss=-11.5285\n",
      "2025-07-21 23:28:17,322 — INFO — layer 1, [2:7567], loss=-14.9103\n"
     ]
    },
    {
     "name": "stderr",
     "output_type": "stream",
     "text": [
      "epoch 2, layer 1:  69%|█████████████████████████████████████████████████                      | 7617/11016 [19:22<08:54,  6.36it/s, loss=-18.1]"
     ]
    },
    {
     "name": "stdout",
     "output_type": "stream",
     "text": [
      "2025-07-21 23:28:25,008 — INFO — layer 1, [2:7617], loss=-15.8672\n",
      "2025-07-21 23:28:25,008 — INFO — layer 1, [2:7617], loss=-21.7550\n"
     ]
    },
    {
     "name": "stderr",
     "output_type": "stream",
     "text": [
      "epoch 2, layer 1:  70%|█████████████████████████████████████████████████▍                     | 7667/11016 [19:29<08:30,  6.56it/s, loss=-7.26]"
     ]
    },
    {
     "name": "stdout",
     "output_type": "stream",
     "text": [
      "2025-07-21 23:28:32,582 — INFO — layer 1, [2:7667], loss=-8.8530\n",
      "2025-07-21 23:28:32,582 — INFO — layer 1, [2:7667], loss=-10.8989\n"
     ]
    },
    {
     "name": "stderr",
     "output_type": "stream",
     "text": [
      "epoch 2, layer 1:  70%|█████████████████████████████████████████████████▋                     | 7717/11016 [19:37<08:13,  6.68it/s, loss=-10.8]"
     ]
    },
    {
     "name": "stdout",
     "output_type": "stream",
     "text": [
      "2025-07-21 23:28:40,143 — INFO — layer 1, [2:7717], loss=-14.9050\n",
      "2025-07-21 23:28:40,143 — INFO — layer 1, [2:7717], loss=-18.3176\n"
     ]
    },
    {
     "name": "stderr",
     "output_type": "stream",
     "text": [
      "epoch 2, layer 1:  71%|██████████████████████████████████████████████████                     | 7767/11016 [19:44<08:08,  6.64it/s, loss=-12.5]"
     ]
    },
    {
     "name": "stdout",
     "output_type": "stream",
     "text": [
      "2025-07-21 23:28:47,872 — INFO — layer 1, [2:7767], loss=-11.4456\n",
      "2025-07-21 23:28:47,871 — INFO — layer 1, [2:7767], loss=-10.0723\n"
     ]
    },
    {
     "name": "stderr",
     "output_type": "stream",
     "text": [
      "epoch 2, layer 1:  71%|██████████████████████████████████████████████████▍                    | 7817/11016 [19:52<08:06,  6.57it/s, loss=-1.42]"
     ]
    },
    {
     "name": "stdout",
     "output_type": "stream",
     "text": [
      "2025-07-21 23:28:55,488 — INFO — layer 1, [2:7817], loss=-12.7612\n",
      "2025-07-21 23:28:55,488 — INFO — layer 1, [2:7817], loss=-14.4509\n"
     ]
    },
    {
     "name": "stderr",
     "output_type": "stream",
     "text": [
      "epoch 2, layer 1:  71%|██████████████████████████████████████████████████▋                    | 7867/11016 [20:00<07:46,  6.74it/s, loss=-10.3]"
     ]
    },
    {
     "name": "stdout",
     "output_type": "stream",
     "text": [
      "2025-07-21 23:29:03,048 — INFO — layer 1, [2:7867], loss=-4.5462\n",
      "2025-07-21 23:29:03,048 — INFO — layer 1, [2:7867], loss=-2.9550\n"
     ]
    },
    {
     "name": "stderr",
     "output_type": "stream",
     "text": [
      "epoch 2, layer 1:  72%|███████████████████████████████████████████████████                    | 7917/11016 [20:07<08:15,  6.25it/s, loss=-2.82]"
     ]
    },
    {
     "name": "stdout",
     "output_type": "stream",
     "text": [
      "2025-07-21 23:29:10,722 — INFO — layer 1, [2:7917], loss=-1.8467\n",
      "2025-07-21 23:29:10,722 — INFO — layer 1, [2:7917], loss=-12.1851\n"
     ]
    },
    {
     "name": "stderr",
     "output_type": "stream",
     "text": [
      "epoch 2, layer 1:  72%|███████████████████████████████████████████████████▎                   | 7967/11016 [20:15<07:58,  6.38it/s, loss=-25.6]"
     ]
    },
    {
     "name": "stdout",
     "output_type": "stream",
     "text": [
      "2025-07-21 23:29:18,292 — INFO — layer 1, [2:7967], loss=-16.9435\n",
      "2025-07-21 23:29:18,292 — INFO — layer 1, [2:7967], loss=-19.4541\n"
     ]
    },
    {
     "name": "stderr",
     "output_type": "stream",
     "text": [
      "epoch 2, layer 1:  73%|███████████████████████████████████████████████████▋                   | 8017/11016 [20:23<07:33,  6.61it/s, loss=-6.55]"
     ]
    },
    {
     "name": "stdout",
     "output_type": "stream",
     "text": [
      "2025-07-21 23:29:25,929 — INFO — layer 1, [2:8017], loss=-9.1502\n",
      "2025-07-21 23:29:25,930 — INFO — layer 1, [2:8017], loss=-16.6245\n"
     ]
    },
    {
     "name": "stderr",
     "output_type": "stream",
     "text": [
      "epoch 2, layer 1:  73%|███████████████████████████████████████████████████▉                   | 8067/11016 [20:30<07:27,  6.60it/s, loss=-17.6]"
     ]
    },
    {
     "name": "stdout",
     "output_type": "stream",
     "text": [
      "2025-07-21 23:29:33,379 — INFO — layer 1, [2:8067], loss=-18.3223\n",
      "2025-07-21 23:29:33,379 — INFO — layer 1, [2:8067], loss=-6.9092\n"
     ]
    },
    {
     "name": "stderr",
     "output_type": "stream",
     "text": [
      "epoch 2, layer 1:  74%|████████████████████████████████████████████████████▎                  | 8117/11016 [20:38<07:24,  6.53it/s, loss=-8.05]"
     ]
    },
    {
     "name": "stdout",
     "output_type": "stream",
     "text": [
      "2025-07-21 23:29:40,973 — INFO — layer 1, [2:8117], loss=-10.7777\n",
      "2025-07-21 23:29:40,973 — INFO — layer 1, [2:8117], loss=-14.7562\n"
     ]
    },
    {
     "name": "stderr",
     "output_type": "stream",
     "text": [
      "epoch 2, layer 1:  74%|████████████████████████████████████████████████████▋                  | 8167/11016 [20:45<07:07,  6.66it/s, loss=-12.3]"
     ]
    },
    {
     "name": "stdout",
     "output_type": "stream",
     "text": [
      "2025-07-21 23:29:48,597 — INFO — layer 1, [2:8167], loss=-15.9588\n",
      "2025-07-21 23:29:48,597 — INFO — layer 1, [2:8167], loss=-15.6950\n"
     ]
    },
    {
     "name": "stderr",
     "output_type": "stream",
     "text": [
      "epoch 2, layer 1:  75%|████████████████████████████████████████████████████▉                  | 8217/11016 [20:53<06:58,  6.69it/s, loss=-14.7]"
     ]
    },
    {
     "name": "stdout",
     "output_type": "stream",
     "text": [
      "2025-07-21 23:29:56,169 — INFO — layer 1, [2:8217], loss=-16.3929\n",
      "2025-07-21 23:29:56,169 — INFO — layer 1, [2:8217], loss=-15.3726\n"
     ]
    },
    {
     "name": "stderr",
     "output_type": "stream",
     "text": [
      "epoch 2, layer 1:  75%|█████████████████████████████████████████████████████▎                 | 8267/11016 [21:00<06:55,  6.62it/s, loss=-14.5]"
     ]
    },
    {
     "name": "stdout",
     "output_type": "stream",
     "text": [
      "2025-07-21 23:30:03,864 — INFO — layer 1, [2:8267], loss=-20.0054\n",
      "2025-07-21 23:30:03,864 — INFO — layer 1, [2:8267], loss=-14.5753\n"
     ]
    },
    {
     "name": "stderr",
     "output_type": "stream",
     "text": [
      "epoch 2, layer 1:  75%|█████████████████████████████████████████████████████▌                 | 8317/11016 [21:08<07:04,  6.36it/s, loss=-20.9]"
     ]
    },
    {
     "name": "stdout",
     "output_type": "stream",
     "text": [
      "2025-07-21 23:30:11,404 — INFO — layer 1, [2:8317], loss=-9.4160\n",
      "2025-07-21 23:30:11,404 — INFO — layer 1, [2:8317], loss=-15.5296\n"
     ]
    },
    {
     "name": "stderr",
     "output_type": "stream",
     "text": [
      "epoch 2, layer 1:  76%|█████████████████████████████████████████████████████▉                 | 8367/11016 [21:16<06:41,  6.59it/s, loss=-12.1]"
     ]
    },
    {
     "name": "stdout",
     "output_type": "stream",
     "text": [
      "2025-07-21 23:30:18,976 — INFO — layer 1, [2:8367], loss=-15.2285\n",
      "2025-07-21 23:30:18,976 — INFO — layer 1, [2:8367], loss=-25.8349\n"
     ]
    },
    {
     "name": "stderr",
     "output_type": "stream",
     "text": [
      "epoch 2, layer 1:  76%|██████████████████████████████████████████████████████▏                | 8417/11016 [21:23<06:36,  6.55it/s, loss=-14.4]"
     ]
    },
    {
     "name": "stdout",
     "output_type": "stream",
     "text": [
      "2025-07-21 23:30:26,510 — INFO — layer 1, [2:8417], loss=-9.8546\n",
      "2025-07-21 23:30:26,510 — INFO — layer 1, [2:8417], loss=-23.7385\n"
     ]
    },
    {
     "name": "stderr",
     "output_type": "stream",
     "text": [
      "epoch 2, layer 1:  77%|██████████████████████████████████████████████████████▌                | 8467/11016 [21:31<06:17,  6.75it/s, loss=-5.93]"
     ]
    },
    {
     "name": "stdout",
     "output_type": "stream",
     "text": [
      "2025-07-21 23:30:34,028 — INFO — layer 1, [2:8467], loss=-19.9804\n",
      "2025-07-21 23:30:34,028 — INFO — layer 1, [2:8467], loss=-17.4737\n"
     ]
    },
    {
     "name": "stderr",
     "output_type": "stream",
     "text": [
      "epoch 2, layer 1:  77%|██████████████████████████████████████████████████████▉                | 8517/11016 [21:38<06:23,  6.52it/s, loss=-12.8]"
     ]
    },
    {
     "name": "stdout",
     "output_type": "stream",
     "text": [
      "2025-07-21 23:30:41,565 — INFO — layer 1, [2:8517], loss=-10.1083\n",
      "2025-07-21 23:30:41,565 — INFO — layer 1, [2:8517], loss=-10.9317\n"
     ]
    },
    {
     "name": "stderr",
     "output_type": "stream",
     "text": [
      "epoch 2, layer 1:  78%|███████████████████████████████████████████████████████▏               | 8567/11016 [21:46<06:17,  6.48it/s, loss=-10.6]"
     ]
    },
    {
     "name": "stdout",
     "output_type": "stream",
     "text": [
      "2025-07-21 23:30:49,106 — INFO — layer 1, [2:8567], loss=-7.0331\n",
      "2025-07-21 23:30:49,106 — INFO — layer 1, [2:8567], loss=-10.1778\n"
     ]
    },
    {
     "name": "stderr",
     "output_type": "stream",
     "text": [
      "epoch 2, layer 1:  78%|███████████████████████████████████████████████████████▌               | 8617/11016 [21:53<05:54,  6.76it/s, loss=-6.32]"
     ]
    },
    {
     "name": "stdout",
     "output_type": "stream",
     "text": [
      "2025-07-21 23:30:56,619 — INFO — layer 1, [2:8617], loss=-21.1791\n",
      "2025-07-21 23:30:56,619 — INFO — layer 1, [2:8617], loss=-14.1926\n"
     ]
    },
    {
     "name": "stderr",
     "output_type": "stream",
     "text": [
      "epoch 2, layer 1:  79%|███████████████████████████████████████████████████████▊               | 8667/11016 [22:01<05:59,  6.54it/s, loss=-13.2]"
     ]
    },
    {
     "name": "stdout",
     "output_type": "stream",
     "text": [
      "2025-07-21 23:31:04,116 — INFO — layer 1, [2:8667], loss=-17.5861\n",
      "2025-07-21 23:31:04,116 — INFO — layer 1, [2:8667], loss=-20.5142\n"
     ]
    },
    {
     "name": "stderr",
     "output_type": "stream",
     "text": [
      "epoch 2, layer 1:  79%|████████████████████████████████████████████████████████▏              | 8717/11016 [22:08<05:42,  6.72it/s, loss=-12.4]"
     ]
    },
    {
     "name": "stdout",
     "output_type": "stream",
     "text": [
      "2025-07-21 23:31:11,740 — INFO — layer 1, [2:8717], loss=-14.4158\n",
      "2025-07-21 23:31:11,740 — INFO — layer 1, [2:8717], loss=-25.5077\n"
     ]
    },
    {
     "name": "stderr",
     "output_type": "stream",
     "text": [
      "epoch 2, layer 1:  80%|████████████████████████████████████████████████████████▌              | 8767/11016 [22:16<05:46,  6.49it/s, loss=-7.04]"
     ]
    },
    {
     "name": "stdout",
     "output_type": "stream",
     "text": [
      "2025-07-21 23:31:19,385 — INFO — layer 1, [2:8767], loss=-7.7990\n",
      "2025-07-21 23:31:19,385 — INFO — layer 1, [2:8767], loss=-14.1195\n"
     ]
    },
    {
     "name": "stderr",
     "output_type": "stream",
     "text": [
      "epoch 2, layer 1:  80%|████████████████████████████████████████████████████████▊              | 8817/11016 [22:24<05:47,  6.32it/s, loss=-7.46]"
     ]
    },
    {
     "name": "stdout",
     "output_type": "stream",
     "text": [
      "2025-07-21 23:31:26,990 — INFO — layer 1, [2:8817], loss=-17.4323\n",
      "2025-07-21 23:31:26,990 — INFO — layer 1, [2:8817], loss=-11.2506\n"
     ]
    },
    {
     "name": "stderr",
     "output_type": "stream",
     "text": [
      "epoch 2, layer 1:  80%|█████████████████████████████████████████████████████████▏             | 8867/11016 [22:31<05:36,  6.38it/s, loss=-3.79]"
     ]
    },
    {
     "name": "stdout",
     "output_type": "stream",
     "text": [
      "2025-07-21 23:31:34,712 — INFO — layer 1, [2:8867], loss=-12.4958\n",
      "2025-07-21 23:31:34,712 — INFO — layer 1, [2:8867], loss=-10.1335\n"
     ]
    },
    {
     "name": "stderr",
     "output_type": "stream",
     "text": [
      "epoch 2, layer 1:  81%|█████████████████████████████████████████████████████████▍             | 8917/11016 [22:39<04:53,  7.14it/s, loss=-27.5]"
     ]
    },
    {
     "name": "stdout",
     "output_type": "stream",
     "text": [
      "2025-07-21 23:31:42,298 — INFO — layer 1, [2:8917], loss=-17.2313\n",
      "2025-07-21 23:31:42,298 — INFO — layer 1, [2:8917], loss=-3.7663\n"
     ]
    },
    {
     "name": "stderr",
     "output_type": "stream",
     "text": [
      "epoch 2, layer 1:  81%|███████████████████████████████████████████████████████████▍             | 8967/11016 [22:47<05:04,  6.72it/s, loss=-16]"
     ]
    },
    {
     "name": "stdout",
     "output_type": "stream",
     "text": [
      "2025-07-21 23:31:50,042 — INFO — layer 1, [2:8967], loss=-14.7802\n",
      "2025-07-21 23:31:50,043 — INFO — layer 1, [2:8967], loss=-14.1052\n"
     ]
    },
    {
     "name": "stderr",
     "output_type": "stream",
     "text": [
      "epoch 2, layer 1:  82%|██████████████████████████████████████████████████████████             | 9017/11016 [22:54<05:07,  6.49it/s, loss=-15.4]"
     ]
    },
    {
     "name": "stdout",
     "output_type": "stream",
     "text": [
      "2025-07-21 23:31:57,596 — INFO — layer 1, [2:9017], loss=-10.6158\n",
      "2025-07-21 23:31:57,596 — INFO — layer 1, [2:9017], loss=-11.8139\n"
     ]
    },
    {
     "name": "stderr",
     "output_type": "stream",
     "text": [
      "epoch 2, layer 1:  82%|██████████████████████████████████████████████████████████▍            | 9067/11016 [23:02<04:57,  6.55it/s, loss=-12.1]"
     ]
    },
    {
     "name": "stdout",
     "output_type": "stream",
     "text": [
      "2025-07-21 23:32:05,319 — INFO — layer 1, [2:9067], loss=-11.9348\n",
      "2025-07-21 23:32:05,319 — INFO — layer 1, [2:9067], loss=-2.3000\n"
     ]
    },
    {
     "name": "stderr",
     "output_type": "stream",
     "text": [
      "epoch 2, layer 1:  83%|██████████████████████████████████████████████████████████▊            | 9117/11016 [23:10<04:41,  6.74it/s, loss=-8.57]"
     ]
    },
    {
     "name": "stdout",
     "output_type": "stream",
     "text": [
      "2025-07-21 23:32:12,930 — INFO — layer 1, [2:9117], loss=-21.3532\n",
      "2025-07-21 23:32:12,930 — INFO — layer 1, [2:9117], loss=-9.4144\n"
     ]
    },
    {
     "name": "stderr",
     "output_type": "stream",
     "text": [
      "epoch 2, layer 1:  83%|███████████████████████████████████████████████████████████            | 9167/11016 [23:17<04:58,  6.20it/s, loss=-19.7]"
     ]
    },
    {
     "name": "stdout",
     "output_type": "stream",
     "text": [
      "2025-07-21 23:32:20,742 — INFO — layer 1, [2:9167], loss=-0.4943\n",
      "2025-07-21 23:32:20,742 — INFO — layer 1, [2:9167], loss=-6.1754\n"
     ]
    },
    {
     "name": "stderr",
     "output_type": "stream",
     "text": [
      "epoch 2, layer 1:  84%|███████████████████████████████████████████████████████████▍           | 9217/11016 [23:25<04:36,  6.50it/s, loss=-5.94]"
     ]
    },
    {
     "name": "stdout",
     "output_type": "stream",
     "text": [
      "2025-07-21 23:32:28,363 — INFO — layer 1, [2:9217], loss=-14.1970\n",
      "2025-07-21 23:32:28,363 — INFO — layer 1, [2:9217], loss=-12.4045\n"
     ]
    },
    {
     "name": "stderr",
     "output_type": "stream",
     "text": [
      "epoch 2, layer 1:  84%|███████████████████████████████████████████████████████████▋           | 9267/11016 [23:33<04:11,  6.95it/s, loss=-12.7]"
     ]
    },
    {
     "name": "stdout",
     "output_type": "stream",
     "text": [
      "2025-07-21 23:32:36,014 — INFO — layer 1, [2:9267], loss=-13.8292\n",
      "2025-07-21 23:32:36,014 — INFO — layer 1, [2:9267], loss=-5.7566\n"
     ]
    },
    {
     "name": "stderr",
     "output_type": "stream",
     "text": [
      "epoch 2, layer 1:  85%|████████████████████████████████████████████████████████████           | 9317/11016 [23:40<04:10,  6.79it/s, loss=-14.7]"
     ]
    },
    {
     "name": "stdout",
     "output_type": "stream",
     "text": [
      "2025-07-21 23:32:43,784 — INFO — layer 1, [2:9317], loss=-17.3578\n",
      "2025-07-21 23:32:43,784 — INFO — layer 1, [2:9317], loss=-13.4467\n"
     ]
    },
    {
     "name": "stderr",
     "output_type": "stream",
     "text": [
      "epoch 2, layer 1:  85%|████████████████████████████████████████████████████████████▎          | 9367/11016 [23:48<04:10,  6.57it/s, loss=-7.04]"
     ]
    },
    {
     "name": "stdout",
     "output_type": "stream",
     "text": [
      "2025-07-21 23:32:51,365 — INFO — layer 1, [2:9367], loss=-15.0209\n",
      "2025-07-21 23:32:51,365 — INFO — layer 1, [2:9367], loss=-22.8555\n"
     ]
    },
    {
     "name": "stderr",
     "output_type": "stream",
     "text": [
      "epoch 2, layer 1:  85%|████████████████████████████████████████████████████████████▋          | 9417/11016 [23:56<04:33,  5.85it/s, loss=-15.2]"
     ]
    },
    {
     "name": "stdout",
     "output_type": "stream",
     "text": [
      "2025-07-21 23:32:58,989 — INFO — layer 1, [2:9417], loss=-19.5871\n",
      "2025-07-21 23:32:58,989 — INFO — layer 1, [2:9417], loss=-14.6664\n"
     ]
    },
    {
     "name": "stderr",
     "output_type": "stream",
     "text": [
      "epoch 2, layer 1:  86%|█████████████████████████████████████████████████████████████          | 9467/11016 [24:03<04:06,  6.28it/s, loss=-13.4]"
     ]
    },
    {
     "name": "stdout",
     "output_type": "stream",
     "text": [
      "2025-07-21 23:33:06,593 — INFO — layer 1, [2:9467], loss=-3.2345\n",
      "2025-07-21 23:33:06,593 — INFO — layer 1, [2:9467], loss=-10.7143\n"
     ]
    },
    {
     "name": "stderr",
     "output_type": "stream",
     "text": [
      "epoch 2, layer 1:  86%|█████████████████████████████████████████████████████████████▎         | 9517/11016 [24:11<03:46,  6.61it/s, loss=-21.3]"
     ]
    },
    {
     "name": "stdout",
     "output_type": "stream",
     "text": [
      "2025-07-21 23:33:14,130 — INFO — layer 1, [2:9517], loss=-9.8292\n",
      "2025-07-21 23:33:14,130 — INFO — layer 1, [2:9517], loss=-13.7870\n"
     ]
    },
    {
     "name": "stderr",
     "output_type": "stream",
     "text": [
      "epoch 2, layer 1:  87%|█████████████████████████████████████████████████████████████▋         | 9567/11016 [24:18<03:40,  6.58it/s, loss=-20.2]"
     ]
    },
    {
     "name": "stdout",
     "output_type": "stream",
     "text": [
      "2025-07-21 23:33:21,682 — INFO — layer 1, [2:9567], loss=-7.3069\n",
      "2025-07-21 23:33:21,682 — INFO — layer 1, [2:9567], loss=-1.9970\n"
     ]
    },
    {
     "name": "stderr",
     "output_type": "stream",
     "text": [
      "epoch 2, layer 1:  87%|██████████████████████████████████████████████████████████████▊         | 9617/11016 [24:26<03:50,  6.08it/s, loss=1.79]"
     ]
    },
    {
     "name": "stdout",
     "output_type": "stream",
     "text": [
      "2025-07-21 23:33:29,443 — INFO — layer 1, [2:9617], loss=-20.4352\n",
      "2025-07-21 23:33:29,443 — INFO — layer 1, [2:9617], loss=-13.7717\n"
     ]
    },
    {
     "name": "stderr",
     "output_type": "stream",
     "text": [
      "epoch 2, layer 1:  88%|██████████████████████████████████████████████████████████████▎        | 9667/11016 [24:34<03:30,  6.42it/s, loss=-13.9]"
     ]
    },
    {
     "name": "stdout",
     "output_type": "stream",
     "text": [
      "2025-07-21 23:33:37,224 — INFO — layer 1, [2:9667], loss=-2.3561\n",
      "2025-07-21 23:33:37,224 — INFO — layer 1, [2:9667], loss=-24.2706\n"
     ]
    },
    {
     "name": "stderr",
     "output_type": "stream",
     "text": [
      "epoch 2, layer 1:  88%|████████████████████████████████████████████████████████████████▍        | 9717/11016 [24:41<03:17,  6.59it/s, loss=-16]"
     ]
    },
    {
     "name": "stdout",
     "output_type": "stream",
     "text": [
      "2025-07-21 23:33:44,818 — INFO — layer 1, [2:9717], loss=-21.4167\n",
      "2025-07-21 23:33:44,818 — INFO — layer 1, [2:9717], loss=-11.2744\n"
     ]
    },
    {
     "name": "stderr",
     "output_type": "stream",
     "text": [
      "epoch 2, layer 1:  89%|██████████████████████████████████████████████████████████████▉        | 9767/11016 [24:49<03:01,  6.87it/s, loss=-15.2]"
     ]
    },
    {
     "name": "stdout",
     "output_type": "stream",
     "text": [
      "2025-07-21 23:33:52,443 — INFO — layer 1, [2:9767], loss=-9.5820\n",
      "2025-07-21 23:33:52,443 — INFO — layer 1, [2:9767], loss=-5.0280\n"
     ]
    },
    {
     "name": "stderr",
     "output_type": "stream",
     "text": [
      "epoch 2, layer 1:  89%|███████████████████████████████████████████████████████████████▎       | 9817/11016 [24:57<03:15,  6.15it/s, loss=-4.56]"
     ]
    },
    {
     "name": "stdout",
     "output_type": "stream",
     "text": [
      "2025-07-21 23:34:00,240 — INFO — layer 1, [2:9817], loss=-23.6764\n",
      "2025-07-21 23:34:00,240 — INFO — layer 1, [2:9817], loss=-23.7722\n"
     ]
    },
    {
     "name": "stderr",
     "output_type": "stream",
     "text": [
      "epoch 2, layer 1:  90%|███████████████████████████████████████████████████████████████▌       | 9867/11016 [25:04<03:04,  6.22it/s, loss=-19.9]"
     ]
    },
    {
     "name": "stdout",
     "output_type": "stream",
     "text": [
      "2025-07-21 23:34:07,899 — INFO — layer 1, [2:9867], loss=-4.6311\n",
      "2025-07-21 23:34:07,899 — INFO — layer 1, [2:9867], loss=-12.3835\n"
     ]
    },
    {
     "name": "stderr",
     "output_type": "stream",
     "text": [
      "epoch 2, layer 1:  90%|███████████████████████████████████████████████████████████████▉       | 9917/11016 [25:12<02:40,  6.83it/s, loss=-9.29]"
     ]
    },
    {
     "name": "stdout",
     "output_type": "stream",
     "text": [
      "2025-07-21 23:34:15,547 — INFO — layer 1, [2:9917], loss=-22.7899\n",
      "2025-07-21 23:34:15,547 — INFO — layer 1, [2:9917], loss=-12.0648\n"
     ]
    },
    {
     "name": "stderr",
     "output_type": "stream",
     "text": [
      "epoch 2, layer 1:  90%|████████████████████████████████████████████████████████████████▏      | 9967/11016 [25:20<02:39,  6.56it/s, loss=-14.4]"
     ]
    },
    {
     "name": "stdout",
     "output_type": "stream",
     "text": [
      "2025-07-21 23:34:23,123 — INFO — layer 1, [2:9967], loss=-15.0335\n",
      "2025-07-21 23:34:23,123 — INFO — layer 1, [2:9967], loss=-18.2004\n"
     ]
    },
    {
     "name": "stderr",
     "output_type": "stream",
     "text": [
      "epoch 2, layer 1:  91%|█████████████████████████████████████████████████████████████████▍      | 10017/11016 [25:27<02:30,  6.62it/s, loss=-14]"
     ]
    },
    {
     "name": "stdout",
     "output_type": "stream",
     "text": [
      "2025-07-21 23:34:30,662 — INFO — layer 1, [2:10017], loss=-5.8824\n",
      "2025-07-21 23:34:30,662 — INFO — layer 1, [2:10017], loss=-14.3764\n"
     ]
    },
    {
     "name": "stderr",
     "output_type": "stream",
     "text": [
      "epoch 2, layer 1:  91%|███████████████████████████████████████████████████████████████▉      | 10067/11016 [25:35<02:21,  6.71it/s, loss=-12.4]"
     ]
    },
    {
     "name": "stdout",
     "output_type": "stream",
     "text": [
      "2025-07-21 23:34:38,195 — INFO — layer 1, [2:10067], loss=-14.5496\n",
      "2025-07-21 23:34:38,195 — INFO — layer 1, [2:10067], loss=-10.2165\n"
     ]
    },
    {
     "name": "stderr",
     "output_type": "stream",
     "text": [
      "epoch 2, layer 1:  92%|████████████████████████████████████████████████████████████████▎     | 10117/11016 [25:42<02:14,  6.69it/s, loss=-13.6]"
     ]
    },
    {
     "name": "stdout",
     "output_type": "stream",
     "text": [
      "2025-07-21 23:34:45,885 — INFO — layer 1, [2:10117], loss=-9.5261\n",
      "2025-07-21 23:34:45,885 — INFO — layer 1, [2:10117], loss=-18.3392\n"
     ]
    },
    {
     "name": "stderr",
     "output_type": "stream",
     "text": [
      "epoch 2, layer 1:  92%|████████████████████████████████████████████████████████████████▌     | 10167/11016 [25:50<02:03,  6.89it/s, loss=-14.6]"
     ]
    },
    {
     "name": "stdout",
     "output_type": "stream",
     "text": [
      "2025-07-21 23:34:53,480 — INFO — layer 1, [2:10167], loss=-4.6511\n",
      "2025-07-21 23:34:53,480 — INFO — layer 1, [2:10167], loss=-15.2863\n"
     ]
    },
    {
     "name": "stderr",
     "output_type": "stream",
     "text": [
      "epoch 2, layer 1:  93%|████████████████████████████████████████████████████████████████▉     | 10217/11016 [25:58<02:00,  6.61it/s, loss=-17.9]"
     ]
    },
    {
     "name": "stdout",
     "output_type": "stream",
     "text": [
      "2025-07-21 23:35:01,107 — INFO — layer 1, [2:10217], loss=-11.7033\n",
      "2025-07-21 23:35:01,107 — INFO — layer 1, [2:10217], loss=-17.5709\n"
     ]
    },
    {
     "name": "stderr",
     "output_type": "stream",
     "text": [
      "epoch 2, layer 1:  93%|█████████████████████████████████████████████████████████████████▏    | 10267/11016 [26:05<01:52,  6.65it/s, loss=-4.88]"
     ]
    },
    {
     "name": "stdout",
     "output_type": "stream",
     "text": [
      "2025-07-21 23:35:08,740 — INFO — layer 1, [2:10267], loss=-7.1286\n",
      "2025-07-21 23:35:08,740 — INFO — layer 1, [2:10267], loss=-10.4167\n"
     ]
    },
    {
     "name": "stderr",
     "output_type": "stream",
     "text": [
      "epoch 2, layer 1:  94%|█████████████████████████████████████████████████████████████████▌    | 10317/11016 [26:13<01:44,  6.69it/s, loss=-11.8]"
     ]
    },
    {
     "name": "stdout",
     "output_type": "stream",
     "text": [
      "2025-07-21 23:35:16,324 — INFO — layer 1, [2:10317], loss=-14.2464\n",
      "2025-07-21 23:35:16,324 — INFO — layer 1, [2:10317], loss=-16.8746\n"
     ]
    },
    {
     "name": "stderr",
     "output_type": "stream",
     "text": [
      "epoch 2, layer 1:  94%|█████████████████████████████████████████████████████████████████▉    | 10367/11016 [26:21<01:34,  6.84it/s, loss=-19.8]"
     ]
    },
    {
     "name": "stdout",
     "output_type": "stream",
     "text": [
      "2025-07-21 23:35:23,976 — INFO — layer 1, [2:10367], loss=-26.6551\n",
      "2025-07-21 23:35:23,976 — INFO — layer 1, [2:10367], loss=-23.9313\n"
     ]
    },
    {
     "name": "stderr",
     "output_type": "stream",
     "text": [
      "epoch 2, layer 1:  95%|██████████████████████████████████████████████████████████████████▏   | 10417/11016 [26:28<01:32,  6.45it/s, loss=-7.55]"
     ]
    },
    {
     "name": "stdout",
     "output_type": "stream",
     "text": [
      "2025-07-21 23:35:31,672 — INFO — layer 1, [2:10417], loss=-9.7742\n",
      "2025-07-21 23:35:31,673 — INFO — layer 1, [2:10417], loss=-25.7250\n"
     ]
    },
    {
     "name": "stderr",
     "output_type": "stream",
     "text": [
      "epoch 2, layer 1:  95%|██████████████████████████████████████████████████████████████████▌   | 10467/11016 [26:36<01:20,  6.81it/s, loss=-11.2]"
     ]
    },
    {
     "name": "stdout",
     "output_type": "stream",
     "text": [
      "2025-07-21 23:35:39,087 — INFO — layer 1, [2:10467], loss=-16.0532\n",
      "2025-07-21 23:35:39,087 — INFO — layer 1, [2:10467], loss=-5.6300\n"
     ]
    },
    {
     "name": "stderr",
     "output_type": "stream",
     "text": [
      "epoch 2, layer 1:  95%|██████████████████████████████████████████████████████████████████▊   | 10517/11016 [26:43<01:16,  6.55it/s, loss=-11.8]"
     ]
    },
    {
     "name": "stdout",
     "output_type": "stream",
     "text": [
      "2025-07-21 23:35:46,723 — INFO — layer 1, [2:10517], loss=-14.4774\n",
      "2025-07-21 23:35:46,723 — INFO — layer 1, [2:10517], loss=-20.0606\n"
     ]
    },
    {
     "name": "stderr",
     "output_type": "stream",
     "text": [
      "epoch 2, layer 1:  96%|███████████████████████████████████████████████████████████████████▏  | 10567/11016 [26:51<01:05,  6.84it/s, loss=-15.9]"
     ]
    },
    {
     "name": "stdout",
     "output_type": "stream",
     "text": [
      "2025-07-21 23:35:54,269 — INFO — layer 1, [2:10567], loss=-2.2479\n",
      "2025-07-21 23:35:54,269 — INFO — layer 1, [2:10567], loss=-26.1947\n"
     ]
    },
    {
     "name": "stderr",
     "output_type": "stream",
     "text": [
      "epoch 2, layer 1:  96%|█████████████████████████████████████████████████████████████████████▍  | 10617/11016 [26:58<00:56,  7.02it/s, loss=-25]"
     ]
    },
    {
     "name": "stdout",
     "output_type": "stream",
     "text": [
      "2025-07-21 23:36:01,703 — INFO — layer 1, [2:10617], loss=-6.2499\n",
      "2025-07-21 23:36:01,703 — INFO — layer 1, [2:10617], loss=-9.3500\n"
     ]
    },
    {
     "name": "stderr",
     "output_type": "stream",
     "text": [
      "epoch 2, layer 1:  97%|███████████████████████████████████████████████████████████████████▊  | 10667/11016 [27:06<00:52,  6.63it/s, loss=-21.8]"
     ]
    },
    {
     "name": "stdout",
     "output_type": "stream",
     "text": [
      "2025-07-21 23:36:09,254 — INFO — layer 1, [2:10667], loss=-22.5934\n",
      "2025-07-21 23:36:09,254 — INFO — layer 1, [2:10667], loss=-25.0203\n"
     ]
    },
    {
     "name": "stderr",
     "output_type": "stream",
     "text": [
      "epoch 2, layer 1:  97%|████████████████████████████████████████████████████████████████████  | 10717/11016 [27:13<00:47,  6.35it/s, loss=-14.4]"
     ]
    },
    {
     "name": "stdout",
     "output_type": "stream",
     "text": [
      "2025-07-21 23:36:16,867 — INFO — layer 1, [2:10717], loss=-15.7810\n",
      "2025-07-21 23:36:16,867 — INFO — layer 1, [2:10717], loss=-14.8326\n"
     ]
    },
    {
     "name": "stderr",
     "output_type": "stream",
     "text": [
      "epoch 2, layer 1:  98%|████████████████████████████████████████████████████████████████████▍ | 10767/11016 [27:21<00:38,  6.53it/s, loss=-14.1]"
     ]
    },
    {
     "name": "stdout",
     "output_type": "stream",
     "text": [
      "2025-07-21 23:36:24,567 — INFO — layer 1, [2:10767], loss=-14.9749\n",
      "2025-07-21 23:36:24,567 — INFO — layer 1, [2:10767], loss=-10.5376\n"
     ]
    },
    {
     "name": "stderr",
     "output_type": "stream",
     "text": [
      "epoch 2, layer 1:  98%|████████████████████████████████████████████████████████████████████▋ | 10817/11016 [27:29<00:29,  6.79it/s, loss=-8.66]"
     ]
    },
    {
     "name": "stdout",
     "output_type": "stream",
     "text": [
      "2025-07-21 23:36:32,060 — INFO — layer 1, [2:10817], loss=-2.9428\n",
      "2025-07-21 23:36:32,060 — INFO — layer 1, [2:10817], loss=-25.3867\n"
     ]
    },
    {
     "name": "stderr",
     "output_type": "stream",
     "text": [
      "epoch 2, layer 1:  99%|██████████████████████████████████████████████████████████████████████ | 10867/11016 [27:36<00:23,  6.40it/s, loss=-9.9]"
     ]
    },
    {
     "name": "stdout",
     "output_type": "stream",
     "text": [
      "2025-07-21 23:36:39,630 — INFO — layer 1, [2:10867], loss=-13.8537\n",
      "2025-07-21 23:36:39,630 — INFO — layer 1, [2:10867], loss=-11.2623\n"
     ]
    },
    {
     "name": "stderr",
     "output_type": "stream",
     "text": [
      "epoch 2, layer 1:  99%|█████████████████████████████████████████████████████████████████████▎| 10917/11016 [27:44<00:14,  6.61it/s, loss=-20.8]"
     ]
    },
    {
     "name": "stdout",
     "output_type": "stream",
     "text": [
      "2025-07-21 23:36:47,244 — INFO — layer 1, [2:10917], loss=-9.6883\n",
      "2025-07-21 23:36:47,244 — INFO — layer 1, [2:10917], loss=-18.2578\n"
     ]
    },
    {
     "name": "stderr",
     "output_type": "stream",
     "text": [
      "epoch 2, layer 1: 100%|█████████████████████████████████████████████████████████████████████▋| 10967/11016 [27:52<00:07,  6.16it/s, loss=-12.3]"
     ]
    },
    {
     "name": "stdout",
     "output_type": "stream",
     "text": [
      "2025-07-21 23:36:54,991 — INFO — layer 1, [2:10967], loss=-10.9056\n",
      "2025-07-21 23:36:54,991 — INFO — layer 1, [2:10967], loss=-12.7830\n"
     ]
    },
    {
     "name": "stderr",
     "output_type": "stream",
     "text": [
      "                                                                                                                                               "
     ]
    },
    {
     "name": "stdout",
     "output_type": "stream",
     "text": [
      "2025-07-21 23:37:02,363 — INFO — Training decomposer for layer 2\n",
      "2025-07-21 23:37:02,459 — INFO — Checkpoint for layer 1 saved to checkpoints/decomposer_simple/decomposer_layer1_20250721_204859_8666ba39-8c81-4293-8a3f-714efcc5f6f9\n",
      "2025-07-21 23:37:02,461 — INFO — Training decomposer for layer 2\n"
     ]
    },
    {
     "name": "stderr",
     "output_type": "stream",
     "text": [
      "epoch 0, layer 2:   0%|                                                                                              | 0/11016 [00:00<?, ?it/s]huggingface/tokenizers: The current process just got forked, after parallelism has already been used. Disabling parallelism to avoid deadlocks...\n",
      "To disable this warning, you can either:\n",
      "\t- Avoid using `tokenizers` before the fork if possible\n",
      "\t- Explicitly set the environment variable TOKENIZERS_PARALLELISM=(true | false)\n",
      "huggingface/tokenizers: The current process just got forked, after parallelism has already been used. Disabling parallelism to avoid deadlocks...\n",
      "To disable this warning, you can either:\n",
      "\t- Avoid using `tokenizers` before the fork if possible\n",
      "\t- Explicitly set the environment variable TOKENIZERS_PARALLELISM=(true | false)\n",
      "huggingface/tokenizers: The current process just got forked, after parallelism has already been used. Disabling parallelism to avoid deadlocks...\n",
      "To disable this warning, you can either:\n",
      "\t- Avoid using `tokenizers` before the fork if possible\n",
      "\t- Explicitly set the environment variable TOKENIZERS_PARALLELISM=(true | false)\n",
      "huggingface/tokenizers: The current process just got forked, after parallelism has already been used. Disabling parallelism to avoid deadlocks...\n",
      "To disable this warning, you can either:\n",
      "\t- Avoid using `tokenizers` before the fork if possible\n",
      "\t- Explicitly set the environment variable TOKENIZERS_PARALLELISM=(true | false)\n",
      "huggingface/tokenizers: The current process just got forked, after parallelism has already been used. Disabling parallelism to avoid deadlocks...\n",
      "To disable this warning, you can either:\n",
      "\t- Avoid using `tokenizers` before the fork if possible\n",
      "\t- Explicitly set the environment variable TOKENIZERS_PARALLELISM=(true | false)\n",
      "huggingface/tokenizers: The current process just got forked, after parallelism has already been used. Disabling parallelism to avoid deadlocks...\n",
      "To disable this warning, you can either:\n",
      "\t- Avoid using `tokenizers` before the fork if possible\n",
      "\t- Explicitly set the environment variable TOKENIZERS_PARALLELISM=(true | false)\n",
      "huggingface/tokenizers: The current process just got forked, after parallelism has already been used. Disabling parallelism to avoid deadlocks...\n",
      "To disable this warning, you can either:\n",
      "\t- Avoid using `tokenizers` before the fork if possible\n",
      "\t- Explicitly set the environment variable TOKENIZERS_PARALLELISM=(true | false)\n",
      "huggingface/tokenizers: The current process just got forked, after parallelism has already been used. Disabling parallelism to avoid deadlocks...\n",
      "To disable this warning, you can either:\n",
      "\t- Avoid using `tokenizers` before the fork if possible\n",
      "\t- Explicitly set the environment variable TOKENIZERS_PARALLELISM=(true | false)\n",
      "huggingface/tokenizers: The current process just got forked, after parallelism has already been used. Disabling parallelism to avoid deadlocks...\n",
      "To disable this warning, you can either:\n",
      "\t- Avoid using `tokenizers` before the fork if possible\n",
      "\t- Explicitly set the environment variable TOKENIZERS_PARALLELISM=(true | false)\n",
      "huggingface/tokenizers: The current process just got forked, after parallelism has already been used. Disabling parallelism to avoid deadlocks...\n",
      "To disable this warning, you can either:\n",
      "\t- Avoid using `tokenizers` before the fork if possible\n",
      "\t- Explicitly set the environment variable TOKENIZERS_PARALLELISM=(true | false)\n",
      "huggingface/tokenizers: The current process just got forked, after parallelism has already been used. Disabling parallelism to avoid deadlocks...\n",
      "To disable this warning, you can either:\n",
      "\t- Avoid using `tokenizers` before the fork if possible\n",
      "\t- Explicitly set the environment variable TOKENIZERS_PARALLELISM=(true | false)\n",
      "huggingface/tokenizers: The current process just got forked, after parallelism has already been used. Disabling parallelism to avoid deadlocks...\n",
      "To disable this warning, you can either:\n",
      "\t- Avoid using `tokenizers` before the fork if possible\n",
      "\t- Explicitly set the environment variable TOKENIZERS_PARALLELISM=(true | false)\n",
      "huggingface/tokenizers: The current process just got forked, after parallelism has already been used. Disabling parallelism to avoid deadlocks...\n",
      "To disable this warning, you can either:\n",
      "\t- Avoid using `tokenizers` before the fork if possible\n",
      "\t- Explicitly set the environment variable TOKENIZERS_PARALLELISM=(true | false)\n",
      "huggingface/tokenizers: The current process just got forked, after parallelism has already been used. Disabling parallelism to avoid deadlocks...\n",
      "To disable this warning, you can either:\n",
      "\t- Avoid using `tokenizers` before the fork if possible\n",
      "\t- Explicitly set the environment variable TOKENIZERS_PARALLELISM=(true | false)\n",
      "huggingface/tokenizers: The current process just got forked, after parallelism has already been used. Disabling parallelism to avoid deadlocks...\n",
      "To disable this warning, you can either:\n",
      "\t- Avoid using `tokenizers` before the fork if possible\n",
      "\t- Explicitly set the environment variable TOKENIZERS_PARALLELISM=(true | false)\n",
      "huggingface/tokenizers: The current process just got forked, after parallelism has already been used. Disabling parallelism to avoid deadlocks...\n",
      "To disable this warning, you can either:\n",
      "\t- Avoid using `tokenizers` before the fork if possible\n",
      "\t- Explicitly set the environment variable TOKENIZERS_PARALLELISM=(true | false)\n",
      "epoch 0, layer 2:   0%|▎                                                                          | 49/11016 [00:07<27:33,  6.63it/s, loss=620]"
     ]
    },
    {
     "name": "stdout",
     "output_type": "stream",
     "text": [
      "2025-07-21 23:37:10,569 — INFO — layer 2, [0:49], loss=387.7661\n",
      "2025-07-21 23:37:10,570 — INFO — layer 2, [0:49], loss=359.9011\n"
     ]
    },
    {
     "name": "stderr",
     "output_type": "stream",
     "text": [
      "epoch 0, layer 2:   1%|▋                                                                          | 99/11016 [00:15<27:29,  6.62it/s, loss=833]"
     ]
    },
    {
     "name": "stdout",
     "output_type": "stream",
     "text": [
      "2025-07-21 23:37:18,259 — INFO — layer 2, [0:99], loss=1496.3893\n",
      "2025-07-21 23:37:18,259 — INFO — layer 2, [0:99], loss=722.0793\n"
     ]
    },
    {
     "name": "stderr",
     "output_type": "stream",
     "text": [
      "epoch 0, layer 2:   1%|█                                                                         | 149/11016 [00:23<26:45,  6.77it/s, loss=983]"
     ]
    },
    {
     "name": "stdout",
     "output_type": "stream",
     "text": [
      "2025-07-21 23:37:25,992 — INFO — layer 2, [0:149], loss=676.1331\n",
      "2025-07-21 23:37:25,992 — INFO — layer 2, [0:149], loss=1580.4630\n"
     ]
    },
    {
     "name": "stderr",
     "output_type": "stream",
     "text": [
      "epoch 0, layer 2:   2%|█▎                                                                       | 199/11016 [00:30<26:38,  6.77it/s, loss=35.9]"
     ]
    },
    {
     "name": "stdout",
     "output_type": "stream",
     "text": [
      "2025-07-21 23:37:33,582 — INFO — layer 2, [0:199], loss=31.6968\n",
      "2025-07-21 23:37:33,582 — INFO — layer 2, [0:199], loss=27.5235\n"
     ]
    },
    {
     "name": "stderr",
     "output_type": "stream",
     "text": [
      "epoch 0, layer 2:   2%|█▋                                                                       | 249/11016 [00:38<27:09,  6.61it/s, loss=41.2]"
     ]
    },
    {
     "name": "stdout",
     "output_type": "stream",
     "text": [
      "2025-07-21 23:37:41,191 — INFO — layer 2, [0:249], loss=38.1237\n",
      "2025-07-21 23:37:41,191 — INFO — layer 2, [0:249], loss=35.0885\n"
     ]
    },
    {
     "name": "stderr",
     "output_type": "stream",
     "text": [
      "epoch 0, layer 2:   3%|█▉                                                                       | 299/11016 [00:46<26:36,  6.71it/s, loss=21.6]"
     ]
    },
    {
     "name": "stdout",
     "output_type": "stream",
     "text": [
      "2025-07-21 23:37:48,823 — INFO — layer 2, [0:299], loss=21.2789\n",
      "2025-07-21 23:37:48,823 — INFO — layer 2, [0:299], loss=21.2862\n"
     ]
    },
    {
     "name": "stderr",
     "output_type": "stream",
     "text": [
      "epoch 0, layer 2:   3%|██▎                                                                       | 349/11016 [00:53<28:19,  6.28it/s, loss=124]"
     ]
    },
    {
     "name": "stdout",
     "output_type": "stream",
     "text": [
      "2025-07-21 23:37:56,564 — INFO — layer 2, [0:349], loss=177.2069\n",
      "2025-07-21 23:37:56,564 — INFO — layer 2, [0:349], loss=117.9856\n"
     ]
    },
    {
     "name": "stderr",
     "output_type": "stream",
     "text": [
      "epoch 0, layer 2:   4%|██▋                                                                      | 399/11016 [01:01<28:30,  6.21it/s, loss=54.7]"
     ]
    },
    {
     "name": "stdout",
     "output_type": "stream",
     "text": [
      "2025-07-21 23:38:04,320 — INFO — layer 2, [0:399], loss=56.0841\n",
      "2025-07-21 23:38:04,320 — INFO — layer 2, [0:399], loss=69.0899\n"
     ]
    },
    {
     "name": "stderr",
     "output_type": "stream",
     "text": [
      "epoch 0, layer 2:   4%|███                                                                       | 449/11016 [01:09<26:02,  6.76it/s, loss=141]"
     ]
    },
    {
     "name": "stdout",
     "output_type": "stream",
     "text": [
      "2025-07-21 23:38:11,963 — INFO — layer 2, [0:449], loss=176.4581\n",
      "2025-07-21 23:38:11,963 — INFO — layer 2, [0:449], loss=87.7908\n"
     ]
    },
    {
     "name": "stderr",
     "output_type": "stream",
     "text": [
      "epoch 0, layer 2:   5%|███▎                                                                     | 499/11016 [01:16<26:14,  6.68it/s, loss=61.4]"
     ]
    },
    {
     "name": "stdout",
     "output_type": "stream",
     "text": [
      "2025-07-21 23:38:19,501 — INFO — layer 2, [0:499], loss=25.3952\n",
      "2025-07-21 23:38:19,501 — INFO — layer 2, [0:499], loss=51.3431\n"
     ]
    },
    {
     "name": "stderr",
     "output_type": "stream",
     "text": [
      "epoch 0, layer 2:   5%|███▋                                                                      | 549/11016 [01:24<26:14,  6.65it/s, loss=111]"
     ]
    },
    {
     "name": "stdout",
     "output_type": "stream",
     "text": [
      "2025-07-21 23:38:26,995 — INFO — layer 2, [0:549], loss=160.3794\n",
      "2025-07-21 23:38:26,995 — INFO — layer 2, [0:549], loss=118.4962\n"
     ]
    },
    {
     "name": "stderr",
     "output_type": "stream",
     "text": [
      "epoch 0, layer 2:   5%|████                                                                      | 599/11016 [01:31<25:27,  6.82it/s, loss=100]"
     ]
    },
    {
     "name": "stdout",
     "output_type": "stream",
     "text": [
      "2025-07-21 23:38:34,526 — INFO — layer 2, [0:599], loss=64.3706\n",
      "2025-07-21 23:38:34,526 — INFO — layer 2, [0:599], loss=108.6823\n"
     ]
    },
    {
     "name": "stderr",
     "output_type": "stream",
     "text": [
      "epoch 0, layer 2:   6%|████▎                                                                    | 649/11016 [01:39<26:42,  6.47it/s, loss=19.6]"
     ]
    },
    {
     "name": "stdout",
     "output_type": "stream",
     "text": [
      "2025-07-21 23:38:42,266 — INFO — layer 2, [0:649], loss=20.0052\n",
      "2025-07-21 23:38:42,266 — INFO — layer 2, [0:649], loss=20.1369\n"
     ]
    },
    {
     "name": "stderr",
     "output_type": "stream",
     "text": [
      "epoch 0, layer 2:   6%|████▋                                                                    | 699/11016 [01:47<25:51,  6.65it/s, loss=23.8]"
     ]
    },
    {
     "name": "stdout",
     "output_type": "stream",
     "text": [
      "2025-07-21 23:38:49,923 — INFO — layer 2, [0:699], loss=27.5075\n",
      "2025-07-21 23:38:49,923 — INFO — layer 2, [0:699], loss=24.9472\n"
     ]
    },
    {
     "name": "stderr",
     "output_type": "stream",
     "text": [
      "epoch 0, layer 2:   7%|████▉                                                                    | 749/11016 [01:54<25:29,  6.71it/s, loss=41.7]"
     ]
    },
    {
     "name": "stdout",
     "output_type": "stream",
     "text": [
      "2025-07-21 23:38:57,521 — INFO — layer 2, [0:749], loss=35.8299\n",
      "2025-07-21 23:38:57,521 — INFO — layer 2, [0:749], loss=28.8056\n"
     ]
    },
    {
     "name": "stderr",
     "output_type": "stream",
     "text": [
      "epoch 0, layer 2:   7%|█████▎                                                                   | 799/11016 [02:02<26:02,  6.54it/s, loss=21.7]"
     ]
    },
    {
     "name": "stdout",
     "output_type": "stream",
     "text": [
      "2025-07-21 23:39:05,071 — INFO — layer 2, [0:799], loss=20.9255\n",
      "2025-07-21 23:39:05,071 — INFO — layer 2, [0:799], loss=25.8353\n"
     ]
    },
    {
     "name": "stderr",
     "output_type": "stream",
     "text": [
      "epoch 0, layer 2:   8%|█████▋                                                                   | 849/11016 [02:09<25:54,  6.54it/s, loss=18.8]"
     ]
    },
    {
     "name": "stdout",
     "output_type": "stream",
     "text": [
      "2025-07-21 23:39:12,444 — INFO — layer 2, [0:849], loss=18.4226\n",
      "2025-07-21 23:39:12,444 — INFO — layer 2, [0:849], loss=18.7764\n"
     ]
    },
    {
     "name": "stderr",
     "output_type": "stream",
     "text": [
      "epoch 0, layer 2:   8%|█████▉                                                                   | 899/11016 [02:17<26:19,  6.40it/s, loss=33.9]"
     ]
    },
    {
     "name": "stdout",
     "output_type": "stream",
     "text": [
      "2025-07-21 23:39:20,220 — INFO — layer 2, [0:899], loss=34.6712\n",
      "2025-07-21 23:39:20,220 — INFO — layer 2, [0:899], loss=22.5563\n"
     ]
    },
    {
     "name": "stderr",
     "output_type": "stream",
     "text": [
      "epoch 0, layer 2:   9%|██████▎                                                                  | 949/11016 [02:25<26:26,  6.34it/s, loss=33.4]"
     ]
    },
    {
     "name": "stdout",
     "output_type": "stream",
     "text": [
      "2025-07-21 23:39:28,008 — INFO — layer 2, [0:949], loss=26.6638\n",
      "2025-07-21 23:39:28,009 — INFO — layer 2, [0:949], loss=33.0291\n"
     ]
    },
    {
     "name": "stderr",
     "output_type": "stream",
     "text": [
      "epoch 0, layer 2:   9%|██████▌                                                                  | 999/11016 [02:32<24:03,  6.94it/s, loss=18.3]"
     ]
    },
    {
     "name": "stdout",
     "output_type": "stream",
     "text": [
      "2025-07-21 23:39:35,512 — INFO — layer 2, [0:999], loss=17.7801\n",
      "2025-07-21 23:39:35,512 — INFO — layer 2, [0:999], loss=17.3059\n"
     ]
    },
    {
     "name": "stderr",
     "output_type": "stream",
     "text": [
      "epoch 0, layer 2:  10%|██████▊                                                                 | 1049/11016 [02:40<25:15,  6.58it/s, loss=47.2]"
     ]
    },
    {
     "name": "stdout",
     "output_type": "stream",
     "text": [
      "2025-07-21 23:39:43,101 — INFO — layer 2, [0:1049], loss=27.5548\n",
      "2025-07-21 23:39:43,101 — INFO — layer 2, [0:1049], loss=27.4581\n"
     ]
    },
    {
     "name": "stderr",
     "output_type": "stream",
     "text": [
      "epoch 0, layer 2:  10%|███████▏                                                                | 1099/11016 [02:47<25:31,  6.48it/s, loss=48.2]"
     ]
    },
    {
     "name": "stdout",
     "output_type": "stream",
     "text": [
      "2025-07-21 23:39:50,635 — INFO — layer 2, [0:1099], loss=28.7673\n",
      "2025-07-21 23:39:50,635 — INFO — layer 2, [0:1099], loss=26.0081\n"
     ]
    },
    {
     "name": "stderr",
     "output_type": "stream",
     "text": [
      "epoch 0, layer 2:  10%|███████▋                                                                  | 1149/11016 [02:55<24:53,  6.61it/s, loss=55]"
     ]
    },
    {
     "name": "stdout",
     "output_type": "stream",
     "text": [
      "2025-07-21 23:39:58,112 — INFO — layer 2, [0:1149], loss=57.7039\n",
      "2025-07-21 23:39:58,112 — INFO — layer 2, [0:1149], loss=44.7530\n"
     ]
    },
    {
     "name": "stderr",
     "output_type": "stream",
     "text": [
      "epoch 0, layer 2:  11%|███████▊                                                                | 1199/11016 [03:02<23:46,  6.88it/s, loss=41.3]"
     ]
    },
    {
     "name": "stdout",
     "output_type": "stream",
     "text": [
      "2025-07-21 23:40:05,666 — INFO — layer 2, [0:1199], loss=48.2872\n",
      "2025-07-21 23:40:05,666 — INFO — layer 2, [0:1199], loss=51.0189\n"
     ]
    },
    {
     "name": "stderr",
     "output_type": "stream",
     "text": [
      "epoch 0, layer 2:  11%|████████▍                                                                 | 1249/11016 [03:10<24:00,  6.78it/s, loss=20]"
     ]
    },
    {
     "name": "stdout",
     "output_type": "stream",
     "text": [
      "2025-07-21 23:40:13,324 — INFO — layer 2, [0:1249], loss=19.9596\n",
      "2025-07-21 23:40:13,324 — INFO — layer 2, [0:1249], loss=18.4246\n"
     ]
    },
    {
     "name": "stderr",
     "output_type": "stream",
     "text": [
      "epoch 0, layer 2:  12%|████████▍                                                               | 1299/11016 [03:18<26:05,  6.21it/s, loss=21.5]"
     ]
    },
    {
     "name": "stdout",
     "output_type": "stream",
     "text": [
      "2025-07-21 23:40:20,864 — INFO — layer 2, [0:1299], loss=16.1491\n",
      "2025-07-21 23:40:20,864 — INFO — layer 2, [0:1299], loss=19.8837\n"
     ]
    },
    {
     "name": "stderr",
     "output_type": "stream",
     "text": [
      "epoch 0, layer 2:  12%|█████████                                                                 | 1349/11016 [03:25<25:07,  6.41it/s, loss=18]"
     ]
    },
    {
     "name": "stdout",
     "output_type": "stream",
     "text": [
      "2025-07-21 23:40:28,551 — INFO — layer 2, [0:1349], loss=18.3908\n",
      "2025-07-21 23:40:28,551 — INFO — layer 2, [0:1349], loss=18.6124\n"
     ]
    },
    {
     "name": "stderr",
     "output_type": "stream",
     "text": [
      "epoch 0, layer 2:  13%|█████████▏                                                              | 1399/11016 [03:33<23:03,  6.95it/s, loss=16.6]"
     ]
    },
    {
     "name": "stdout",
     "output_type": "stream",
     "text": [
      "2025-07-21 23:40:36,168 — INFO — layer 2, [0:1399], loss=17.2183\n",
      "2025-07-21 23:40:36,168 — INFO — layer 2, [0:1399], loss=16.7683\n"
     ]
    },
    {
     "name": "stderr",
     "output_type": "stream",
     "text": [
      "epoch 0, layer 2:  13%|█████████▍                                                              | 1449/11016 [03:41<23:20,  6.83it/s, loss=36.5]"
     ]
    },
    {
     "name": "stdout",
     "output_type": "stream",
     "text": [
      "2025-07-21 23:40:43,799 — INFO — layer 2, [0:1449], loss=59.6929\n",
      "2025-07-21 23:40:43,799 — INFO — layer 2, [0:1449], loss=74.6653\n"
     ]
    },
    {
     "name": "stderr",
     "output_type": "stream",
     "text": [
      "epoch 0, layer 2:  14%|█████████▊                                                              | 1499/11016 [03:48<22:51,  6.94it/s, loss=33.5]"
     ]
    },
    {
     "name": "stdout",
     "output_type": "stream",
     "text": [
      "2025-07-21 23:40:51,361 — INFO — layer 2, [0:1499], loss=46.5067\n",
      "2025-07-21 23:40:51,361 — INFO — layer 2, [0:1499], loss=74.1083\n"
     ]
    },
    {
     "name": "stderr",
     "output_type": "stream",
     "text": [
      "epoch 0, layer 2:  14%|██████████                                                              | 1549/11016 [03:56<25:27,  6.20it/s, loss=32.7]"
     ]
    },
    {
     "name": "stdout",
     "output_type": "stream",
     "text": [
      "2025-07-21 23:40:58,918 — INFO — layer 2, [0:1549], loss=77.5732\n",
      "2025-07-21 23:40:58,918 — INFO — layer 2, [0:1549], loss=31.3035\n"
     ]
    },
    {
     "name": "stderr",
     "output_type": "stream",
     "text": [
      "epoch 0, layer 2:  15%|██████████▍                                                             | 1599/11016 [04:03<24:18,  6.46it/s, loss=53.6]"
     ]
    },
    {
     "name": "stdout",
     "output_type": "stream",
     "text": [
      "2025-07-21 23:41:06,593 — INFO — layer 2, [0:1599], loss=24.5812\n",
      "2025-07-21 23:41:06,593 — INFO — layer 2, [0:1599], loss=29.2907\n"
     ]
    },
    {
     "name": "stderr",
     "output_type": "stream",
     "text": [
      "epoch 0, layer 2:  15%|██████████▊                                                             | 1649/11016 [04:11<23:36,  6.61it/s, loss=79.8]"
     ]
    },
    {
     "name": "stdout",
     "output_type": "stream",
     "text": [
      "2025-07-21 23:41:14,231 — INFO — layer 2, [0:1649], loss=100.5672\n",
      "2025-07-21 23:41:14,231 — INFO — layer 2, [0:1649], loss=111.4547\n"
     ]
    },
    {
     "name": "stderr",
     "output_type": "stream",
     "text": [
      "epoch 0, layer 2:  15%|███████████                                                             | 1699/11016 [04:19<23:27,  6.62it/s, loss=86.2]"
     ]
    },
    {
     "name": "stdout",
     "output_type": "stream",
     "text": [
      "2025-07-21 23:41:21,923 — INFO — layer 2, [0:1699], loss=51.9462\n",
      "2025-07-21 23:41:21,923 — INFO — layer 2, [0:1699], loss=66.0751\n"
     ]
    },
    {
     "name": "stderr",
     "output_type": "stream",
     "text": [
      "epoch 0, layer 2:  16%|███████████▍                                                            | 1749/11016 [04:26<22:50,  6.76it/s, loss=86.8]"
     ]
    },
    {
     "name": "stdout",
     "output_type": "stream",
     "text": [
      "2025-07-21 23:41:29,487 — INFO — layer 2, [0:1749], loss=76.2864\n",
      "2025-07-21 23:41:29,487 — INFO — layer 2, [0:1749], loss=45.8120\n"
     ]
    },
    {
     "name": "stderr",
     "output_type": "stream",
     "text": [
      "epoch 0, layer 2:  16%|███████████▊                                                            | 1799/11016 [04:34<24:12,  6.35it/s, loss=75.7]"
     ]
    },
    {
     "name": "stdout",
     "output_type": "stream",
     "text": [
      "2025-07-21 23:41:37,059 — INFO — layer 2, [0:1799], loss=42.0899\n",
      "2025-07-21 23:41:37,059 — INFO — layer 2, [0:1799], loss=83.6638\n"
     ]
    },
    {
     "name": "stderr",
     "output_type": "stream",
     "text": [
      "epoch 0, layer 2:  17%|████████████                                                            | 1849/11016 [04:42<23:36,  6.47it/s, loss=32.4]"
     ]
    },
    {
     "name": "stdout",
     "output_type": "stream",
     "text": [
      "2025-07-21 23:41:44,830 — INFO — layer 2, [0:1849], loss=50.1895\n",
      "2025-07-21 23:41:44,830 — INFO — layer 2, [0:1849], loss=59.6188\n"
     ]
    },
    {
     "name": "stderr",
     "output_type": "stream",
     "text": [
      "epoch 0, layer 2:  17%|████████████▊                                                             | 1899/11016 [04:49<23:12,  6.55it/s, loss=50]"
     ]
    },
    {
     "name": "stdout",
     "output_type": "stream",
     "text": [
      "2025-07-21 23:41:52,421 — INFO — layer 2, [0:1899], loss=54.5031\n",
      "2025-07-21 23:41:52,421 — INFO — layer 2, [0:1899], loss=30.6588\n"
     ]
    },
    {
     "name": "stderr",
     "output_type": "stream",
     "text": [
      "epoch 0, layer 2:  18%|████████████▋                                                           | 1949/11016 [04:57<24:16,  6.23it/s, loss=36.9]"
     ]
    },
    {
     "name": "stdout",
     "output_type": "stream",
     "text": [
      "2025-07-21 23:42:00,050 — INFO — layer 2, [0:1949], loss=38.4078\n",
      "2025-07-21 23:42:00,050 — INFO — layer 2, [0:1949], loss=48.7176\n"
     ]
    },
    {
     "name": "stderr",
     "output_type": "stream",
     "text": [
      "epoch 0, layer 2:  18%|█████████████                                                           | 1999/11016 [05:04<21:48,  6.89it/s, loss=34.4]"
     ]
    },
    {
     "name": "stdout",
     "output_type": "stream",
     "text": [
      "2025-07-21 23:42:07,625 — INFO — layer 2, [0:1999], loss=33.1543\n",
      "2025-07-21 23:42:07,625 — INFO — layer 2, [0:1999], loss=45.0122\n"
     ]
    },
    {
     "name": "stderr",
     "output_type": "stream",
     "text": [
      "epoch 0, layer 2:  19%|█████████████▊                                                            | 2049/11016 [05:12<22:45,  6.57it/s, loss=21]"
     ]
    },
    {
     "name": "stdout",
     "output_type": "stream",
     "text": [
      "2025-07-21 23:42:15,250 — INFO — layer 2, [0:2049], loss=20.3117\n",
      "2025-07-21 23:42:15,251 — INFO — layer 2, [0:2049], loss=18.9538\n"
     ]
    },
    {
     "name": "stderr",
     "output_type": "stream",
     "text": [
      "epoch 0, layer 2:  19%|█████████████▋                                                          | 2099/11016 [05:20<21:54,  6.78it/s, loss=16.7]"
     ]
    },
    {
     "name": "stdout",
     "output_type": "stream",
     "text": [
      "2025-07-21 23:42:22,973 — INFO — layer 2, [0:2099], loss=15.4737\n",
      "2025-07-21 23:42:22,973 — INFO — layer 2, [0:2099], loss=18.9568\n"
     ]
    },
    {
     "name": "stderr",
     "output_type": "stream",
     "text": [
      "epoch 0, layer 2:  20%|██████████████                                                          | 2149/11016 [05:27<22:25,  6.59it/s, loss=15.6]"
     ]
    },
    {
     "name": "stdout",
     "output_type": "stream",
     "text": [
      "2025-07-21 23:42:30,447 — INFO — layer 2, [0:2149], loss=18.9048\n",
      "2025-07-21 23:42:30,447 — INFO — layer 2, [0:2149], loss=18.9184\n"
     ]
    },
    {
     "name": "stderr",
     "output_type": "stream",
     "text": [
      "epoch 0, layer 2:  20%|██████████████▊                                                           | 2199/11016 [05:35<23:02,  6.38it/s, loss=24]"
     ]
    },
    {
     "name": "stdout",
     "output_type": "stream",
     "text": [
      "2025-07-21 23:42:38,008 — INFO — layer 2, [0:2199], loss=20.0286\n",
      "2025-07-21 23:42:38,008 — INFO — layer 2, [0:2199], loss=16.8208\n"
     ]
    },
    {
     "name": "stderr",
     "output_type": "stream",
     "text": [
      "epoch 0, layer 2:  20%|██████████████▋                                                         | 2249/11016 [05:42<22:33,  6.48it/s, loss=32.8]"
     ]
    },
    {
     "name": "stdout",
     "output_type": "stream",
     "text": [
      "2025-07-21 23:42:45,591 — INFO — layer 2, [0:2249], loss=25.5432\n",
      "2025-07-21 23:42:45,591 — INFO — layer 2, [0:2249], loss=26.1533\n"
     ]
    },
    {
     "name": "stderr",
     "output_type": "stream",
     "text": [
      "epoch 0, layer 2:  21%|███████████████                                                         | 2299/11016 [05:50<24:18,  5.98it/s, loss=44.5]"
     ]
    },
    {
     "name": "stdout",
     "output_type": "stream",
     "text": [
      "2025-07-21 23:42:53,323 — INFO — layer 2, [0:2299], loss=30.2846\n",
      "2025-07-21 23:42:53,323 — INFO — layer 2, [0:2299], loss=32.6000\n"
     ]
    },
    {
     "name": "stderr",
     "output_type": "stream",
     "text": [
      "epoch 0, layer 2:  21%|███████████████▊                                                          | 2349/11016 [05:58<20:56,  6.90it/s, loss=20]"
     ]
    },
    {
     "name": "stdout",
     "output_type": "stream",
     "text": [
      "2025-07-21 23:43:00,897 — INFO — layer 2, [0:2349], loss=20.6142\n",
      "2025-07-21 23:43:00,897 — INFO — layer 2, [0:2349], loss=28.4133\n"
     ]
    },
    {
     "name": "stderr",
     "output_type": "stream",
     "text": [
      "epoch 0, layer 2:  22%|████████████████                                                          | 2399/11016 [06:05<20:38,  6.96it/s, loss=21]"
     ]
    },
    {
     "name": "stdout",
     "output_type": "stream",
     "text": [
      "2025-07-21 23:43:08,514 — INFO — layer 2, [0:2399], loss=23.9318\n",
      "2025-07-21 23:43:08,514 — INFO — layer 2, [0:2399], loss=24.1315\n"
     ]
    },
    {
     "name": "stderr",
     "output_type": "stream",
     "text": [
      "epoch 0, layer 2:  22%|████████████████                                                        | 2449/11016 [06:13<21:07,  6.76it/s, loss=14.5]"
     ]
    },
    {
     "name": "stdout",
     "output_type": "stream",
     "text": [
      "2025-07-21 23:43:16,063 — INFO — layer 2, [0:2449], loss=15.2057\n",
      "2025-07-21 23:43:16,063 — INFO — layer 2, [0:2449], loss=14.9750\n"
     ]
    },
    {
     "name": "stderr",
     "output_type": "stream",
     "text": [
      "epoch 0, layer 2:  23%|████████████████▎                                                       | 2499/11016 [06:21<22:10,  6.40it/s, loss=14.3]"
     ]
    },
    {
     "name": "stdout",
     "output_type": "stream",
     "text": [
      "2025-07-21 23:43:23,821 — INFO — layer 2, [0:2499], loss=14.4405\n",
      "2025-07-21 23:43:23,821 — INFO — layer 2, [0:2499], loss=14.5381\n"
     ]
    },
    {
     "name": "stderr",
     "output_type": "stream",
     "text": [
      "epoch 0, layer 2:  23%|████████████████▋                                                       | 2549/11016 [06:28<20:52,  6.76it/s, loss=14.6]"
     ]
    },
    {
     "name": "stdout",
     "output_type": "stream",
     "text": [
      "2025-07-21 23:43:31,357 — INFO — layer 2, [0:2549], loss=14.6619\n",
      "2025-07-21 23:43:31,357 — INFO — layer 2, [0:2549], loss=14.4251\n"
     ]
    },
    {
     "name": "stderr",
     "output_type": "stream",
     "text": [
      "epoch 0, layer 2:  24%|████████████████▉                                                       | 2599/11016 [06:36<21:39,  6.48it/s, loss=14.6]"
     ]
    },
    {
     "name": "stdout",
     "output_type": "stream",
     "text": [
      "2025-07-21 23:43:38,974 — INFO — layer 2, [0:2599], loss=15.0141\n",
      "2025-07-21 23:43:38,974 — INFO — layer 2, [0:2599], loss=14.4640\n"
     ]
    },
    {
     "name": "stderr",
     "output_type": "stream",
     "text": [
      "epoch 0, layer 2:  24%|█████████████████▎                                                      | 2649/11016 [06:43<20:24,  6.83it/s, loss=42.8]"
     ]
    },
    {
     "name": "stdout",
     "output_type": "stream",
     "text": [
      "2025-07-21 23:43:46,488 — INFO — layer 2, [0:2649], loss=30.2265\n",
      "2025-07-21 23:43:46,488 — INFO — layer 2, [0:2649], loss=57.0589\n"
     ]
    },
    {
     "name": "stderr",
     "output_type": "stream",
     "text": [
      "epoch 0, layer 2:  25%|█████████████████▋                                                      | 2699/11016 [06:51<20:03,  6.91it/s, loss=33.7]"
     ]
    },
    {
     "name": "stdout",
     "output_type": "stream",
     "text": [
      "2025-07-21 23:43:54,016 — INFO — layer 2, [0:2699], loss=36.9195\n",
      "2025-07-21 23:43:54,016 — INFO — layer 2, [0:2699], loss=72.0309\n"
     ]
    },
    {
     "name": "stderr",
     "output_type": "stream",
     "text": [
      "epoch 0, layer 2:  25%|██████████████████▍                                                       | 2749/11016 [06:58<20:25,  6.74it/s, loss=37]"
     ]
    },
    {
     "name": "stdout",
     "output_type": "stream",
     "text": [
      "2025-07-21 23:44:01,540 — INFO — layer 2, [0:2749], loss=41.7796\n",
      "2025-07-21 23:44:01,540 — INFO — layer 2, [0:2749], loss=55.4013\n"
     ]
    },
    {
     "name": "stderr",
     "output_type": "stream",
     "text": [
      "epoch 0, layer 2:  25%|██████████████████▎                                                     | 2799/11016 [07:06<20:37,  6.64it/s, loss=37.1]"
     ]
    },
    {
     "name": "stdout",
     "output_type": "stream",
     "text": [
      "2025-07-21 23:44:09,248 — INFO — layer 2, [0:2799], loss=51.5238\n",
      "2025-07-21 23:44:09,248 — INFO — layer 2, [0:2799], loss=41.9936\n"
     ]
    },
    {
     "name": "stderr",
     "output_type": "stream",
     "text": [
      "epoch 0, layer 2:  26%|██████████████████▌                                                     | 2849/11016 [07:14<20:54,  6.51it/s, loss=73.4]"
     ]
    },
    {
     "name": "stdout",
     "output_type": "stream",
     "text": [
      "2025-07-21 23:44:16,845 — INFO — layer 2, [0:2849], loss=108.1438\n",
      "2025-07-21 23:44:16,845 — INFO — layer 2, [0:2849], loss=52.3229\n"
     ]
    },
    {
     "name": "stderr",
     "output_type": "stream",
     "text": [
      "epoch 0, layer 2:  26%|██████████████████▉                                                     | 2899/11016 [07:21<19:33,  6.92it/s, loss=54.5]"
     ]
    },
    {
     "name": "stdout",
     "output_type": "stream",
     "text": [
      "2025-07-21 23:44:24,341 — INFO — layer 2, [0:2899], loss=81.5502\n",
      "2025-07-21 23:44:24,341 — INFO — layer 2, [0:2899], loss=49.0800\n"
     ]
    },
    {
     "name": "stderr",
     "output_type": "stream",
     "text": [
      "epoch 0, layer 2:  27%|███████████████████▎                                                    | 2949/11016 [07:29<19:18,  6.96it/s, loss=42.7]"
     ]
    },
    {
     "name": "stdout",
     "output_type": "stream",
     "text": [
      "2025-07-21 23:44:32,058 — INFO — layer 2, [0:2949], loss=44.5004\n",
      "2025-07-21 23:44:32,058 — INFO — layer 2, [0:2949], loss=105.4045\n"
     ]
    },
    {
     "name": "stderr",
     "output_type": "stream",
     "text": [
      "epoch 0, layer 2:  27%|███████████████████▊                                                     | 2999/11016 [07:37<21:32,  6.20it/s, loss=125]"
     ]
    },
    {
     "name": "stdout",
     "output_type": "stream",
     "text": [
      "2025-07-21 23:44:39,809 — INFO — layer 2, [0:2999], loss=44.7301\n",
      "2025-07-21 23:44:39,809 — INFO — layer 2, [0:2999], loss=103.7836\n"
     ]
    },
    {
     "name": "stderr",
     "output_type": "stream",
     "text": [
      "epoch 0, layer 2:  28%|███████████████████▉                                                    | 3049/11016 [07:44<20:02,  6.63it/s, loss=20.5]"
     ]
    },
    {
     "name": "stdout",
     "output_type": "stream",
     "text": [
      "2025-07-21 23:44:47,451 — INFO — layer 2, [0:3049], loss=37.0697\n",
      "2025-07-21 23:44:47,451 — INFO — layer 2, [0:3049], loss=35.1207\n"
     ]
    },
    {
     "name": "stderr",
     "output_type": "stream",
     "text": [
      "epoch 0, layer 2:  28%|████████████████████▎                                                   | 3099/11016 [07:52<19:23,  6.80it/s, loss=28.9]"
     ]
    },
    {
     "name": "stdout",
     "output_type": "stream",
     "text": [
      "2025-07-21 23:44:55,050 — INFO — layer 2, [0:3099], loss=23.2303\n",
      "2025-07-21 23:44:55,050 — INFO — layer 2, [0:3099], loss=22.9806\n"
     ]
    },
    {
     "name": "stderr",
     "output_type": "stream",
     "text": [
      "epoch 0, layer 2:  29%|████████████████████▌                                                   | 3149/11016 [07:59<18:27,  7.10it/s, loss=21.4]"
     ]
    },
    {
     "name": "stdout",
     "output_type": "stream",
     "text": [
      "2025-07-21 23:45:02,703 — INFO — layer 2, [0:3149], loss=23.6335\n",
      "2025-07-21 23:45:02,703 — INFO — layer 2, [0:3149], loss=24.8816\n"
     ]
    },
    {
     "name": "stderr",
     "output_type": "stream",
     "text": [
      "epoch 0, layer 2:  29%|████████████████████▉                                                   | 3199/11016 [08:07<19:09,  6.80it/s, loss=25.6]"
     ]
    },
    {
     "name": "stdout",
     "output_type": "stream",
     "text": [
      "2025-07-21 23:45:10,421 — INFO — layer 2, [0:3199], loss=34.9806\n",
      "2025-07-21 23:45:10,420 — INFO — layer 2, [0:3199], loss=36.4549\n"
     ]
    },
    {
     "name": "stderr",
     "output_type": "stream",
     "text": [
      "epoch 0, layer 2:  29%|█████████████████████▏                                                  | 3249/11016 [08:15<20:00,  6.47it/s, loss=16.4]"
     ]
    },
    {
     "name": "stdout",
     "output_type": "stream",
     "text": [
      "2025-07-21 23:45:18,031 — INFO — layer 2, [0:3249], loss=16.7341\n",
      "2025-07-21 23:45:18,031 — INFO — layer 2, [0:3249], loss=15.7126\n"
     ]
    },
    {
     "name": "stderr",
     "output_type": "stream",
     "text": [
      "epoch 0, layer 2:  30%|█████████████████████▌                                                  | 3299/11016 [08:22<20:03,  6.41it/s, loss=16.6]"
     ]
    },
    {
     "name": "stdout",
     "output_type": "stream",
     "text": [
      "2025-07-21 23:45:25,643 — INFO — layer 2, [0:3299], loss=16.2209\n",
      "2025-07-21 23:45:25,643 — INFO — layer 2, [0:3299], loss=14.8827\n"
     ]
    },
    {
     "name": "stderr",
     "output_type": "stream",
     "text": [
      "epoch 0, layer 2:  30%|█████████████████████▉                                                  | 3349/11016 [08:30<20:50,  6.13it/s, loss=15.9]"
     ]
    },
    {
     "name": "stdout",
     "output_type": "stream",
     "text": [
      "2025-07-21 23:45:33,345 — INFO — layer 2, [0:3349], loss=13.9703\n",
      "2025-07-21 23:45:33,345 — INFO — layer 2, [0:3349], loss=15.6092\n"
     ]
    },
    {
     "name": "stderr",
     "output_type": "stream",
     "text": [
      "epoch 0, layer 2:  31%|██████████████████████▏                                                 | 3399/11016 [08:38<19:41,  6.45it/s, loss=15.1]"
     ]
    },
    {
     "name": "stdout",
     "output_type": "stream",
     "text": [
      "2025-07-21 23:45:40,933 — INFO — layer 2, [0:3399], loss=14.9665\n",
      "2025-07-21 23:45:40,933 — INFO — layer 2, [0:3399], loss=14.1980\n"
     ]
    },
    {
     "name": "stderr",
     "output_type": "stream",
     "text": [
      "epoch 0, layer 2:  31%|██████████████████████▌                                                 | 3449/11016 [08:45<20:13,  6.24it/s, loss=24.3]"
     ]
    },
    {
     "name": "stdout",
     "output_type": "stream",
     "text": [
      "2025-07-21 23:45:48,728 — INFO — layer 2, [0:3449], loss=30.4456\n",
      "2025-07-21 23:45:48,728 — INFO — layer 2, [0:3449], loss=17.0372\n"
     ]
    },
    {
     "name": "stderr",
     "output_type": "stream",
     "text": [
      "epoch 0, layer 2:  32%|██████████████████████▊                                                 | 3499/11016 [08:53<18:08,  6.90it/s, loss=20.8]"
     ]
    },
    {
     "name": "stdout",
     "output_type": "stream",
     "text": [
      "2025-07-21 23:45:56,340 — INFO — layer 2, [0:3499], loss=20.2651\n",
      "2025-07-21 23:45:56,340 — INFO — layer 2, [0:3499], loss=16.0571\n"
     ]
    },
    {
     "name": "stderr",
     "output_type": "stream",
     "text": [
      "epoch 0, layer 2:  32%|███████████████████████▏                                                | 3549/11016 [09:01<18:25,  6.75it/s, loss=20.7]"
     ]
    },
    {
     "name": "stdout",
     "output_type": "stream",
     "text": [
      "2025-07-21 23:46:03,781 — INFO — layer 2, [0:3549], loss=20.8702\n",
      "2025-07-21 23:46:03,781 — INFO — layer 2, [0:3549], loss=21.2651\n"
     ]
    },
    {
     "name": "stderr",
     "output_type": "stream",
     "text": [
      "epoch 0, layer 2:  33%|████████████████████████▏                                                 | 3599/11016 [09:08<18:36,  6.64it/s, loss=19]"
     ]
    },
    {
     "name": "stdout",
     "output_type": "stream",
     "text": [
      "2025-07-21 23:46:11,504 — INFO — layer 2, [0:3599], loss=17.6344\n",
      "2025-07-21 23:46:11,504 — INFO — layer 2, [0:3599], loss=18.4473\n"
     ]
    },
    {
     "name": "stderr",
     "output_type": "stream",
     "text": [
      "epoch 0, layer 2:  33%|████████████████████████▌                                                 | 3649/11016 [09:16<17:28,  7.02it/s, loss=16]"
     ]
    },
    {
     "name": "stdout",
     "output_type": "stream",
     "text": [
      "2025-07-21 23:46:19,015 — INFO — layer 2, [0:3649], loss=18.7632\n",
      "2025-07-21 23:46:19,015 — INFO — layer 2, [0:3649], loss=18.9035\n"
     ]
    },
    {
     "name": "stderr",
     "output_type": "stream",
     "text": [
      "epoch 0, layer 2:  34%|████████████████████████▏                                               | 3699/11016 [09:24<18:48,  6.48it/s, loss=21.5]"
     ]
    },
    {
     "name": "stdout",
     "output_type": "stream",
     "text": [
      "2025-07-21 23:46:26,799 — INFO — layer 2, [0:3699], loss=23.6031\n",
      "2025-07-21 23:46:26,799 — INFO — layer 2, [0:3699], loss=34.1436\n"
     ]
    },
    {
     "name": "stderr",
     "output_type": "stream",
     "text": [
      "epoch 0, layer 2:  34%|████████████████████████▌                                               | 3749/11016 [09:31<17:52,  6.77it/s, loss=17.2]"
     ]
    },
    {
     "name": "stdout",
     "output_type": "stream",
     "text": [
      "2025-07-21 23:46:34,476 — INFO — layer 2, [0:3749], loss=15.8794\n",
      "2025-07-21 23:46:34,476 — INFO — layer 2, [0:3749], loss=16.8725\n"
     ]
    },
    {
     "name": "stderr",
     "output_type": "stream",
     "text": [
      "epoch 0, layer 2:  34%|████████████████████████▊                                               | 3799/11016 [09:39<18:46,  6.40it/s, loss=13.5]"
     ]
    },
    {
     "name": "stdout",
     "output_type": "stream",
     "text": [
      "2025-07-21 23:46:42,069 — INFO — layer 2, [0:3799], loss=14.0588\n",
      "2025-07-21 23:46:42,069 — INFO — layer 2, [0:3799], loss=14.8891\n"
     ]
    },
    {
     "name": "stderr",
     "output_type": "stream",
     "text": [
      "epoch 0, layer 2:  35%|█████████████████████████▊                                                | 3849/11016 [09:47<18:47,  6.36it/s, loss=47]"
     ]
    },
    {
     "name": "stdout",
     "output_type": "stream",
     "text": [
      "2025-07-21 23:46:49,735 — INFO — layer 2, [0:3849], loss=19.7809\n",
      "2025-07-21 23:46:49,735 — INFO — layer 2, [0:3849], loss=26.8927\n"
     ]
    },
    {
     "name": "stderr",
     "output_type": "stream",
     "text": [
      "epoch 0, layer 2:  35%|█████████████████████████▍                                              | 3899/11016 [09:54<18:03,  6.57it/s, loss=33.3]"
     ]
    },
    {
     "name": "stdout",
     "output_type": "stream",
     "text": [
      "2025-07-21 23:46:57,447 — INFO — layer 2, [0:3899], loss=37.9627\n",
      "2025-07-21 23:46:57,447 — INFO — layer 2, [0:3899], loss=62.2982\n"
     ]
    },
    {
     "name": "stderr",
     "output_type": "stream",
     "text": [
      "epoch 0, layer 2:  36%|█████████████████████████▊                                              | 3949/11016 [10:02<18:37,  6.32it/s, loss=31.7]"
     ]
    },
    {
     "name": "stdout",
     "output_type": "stream",
     "text": [
      "2025-07-21 23:47:05,026 — INFO — layer 2, [0:3949], loss=28.9921\n",
      "2025-07-21 23:47:05,026 — INFO — layer 2, [0:3949], loss=45.6892\n"
     ]
    },
    {
     "name": "stderr",
     "output_type": "stream",
     "text": [
      "epoch 0, layer 2:  36%|██████████████████████████▏                                             | 3999/11016 [10:09<17:12,  6.79it/s, loss=44.3]"
     ]
    },
    {
     "name": "stdout",
     "output_type": "stream",
     "text": [
      "2025-07-21 23:47:12,565 — INFO — layer 2, [0:3999], loss=23.2168\n",
      "2025-07-21 23:47:12,565 — INFO — layer 2, [0:3999], loss=49.6804\n"
     ]
    },
    {
     "name": "stderr",
     "output_type": "stream",
     "text": [
      "epoch 0, layer 2:  37%|██████████████████████████▍                                             | 4049/11016 [10:17<17:06,  6.79it/s, loss=13.6]"
     ]
    },
    {
     "name": "stdout",
     "output_type": "stream",
     "text": [
      "2025-07-21 23:47:20,033 — INFO — layer 2, [0:4049], loss=14.2287\n",
      "2025-07-21 23:47:20,033 — INFO — layer 2, [0:4049], loss=13.1242\n"
     ]
    },
    {
     "name": "stderr",
     "output_type": "stream",
     "text": [
      "epoch 0, layer 2:  37%|██████████████████████████▊                                             | 4099/11016 [10:24<17:34,  6.56it/s, loss=18.1]"
     ]
    },
    {
     "name": "stdout",
     "output_type": "stream",
     "text": [
      "2025-07-21 23:47:27,726 — INFO — layer 2, [0:4099], loss=19.8849\n",
      "2025-07-21 23:47:27,726 — INFO — layer 2, [0:4099], loss=29.0768\n"
     ]
    },
    {
     "name": "stderr",
     "output_type": "stream",
     "text": [
      "epoch 0, layer 2:  38%|███████████████████████████                                             | 4149/11016 [10:32<16:58,  6.75it/s, loss=13.7]"
     ]
    },
    {
     "name": "stdout",
     "output_type": "stream",
     "text": [
      "2025-07-21 23:47:35,233 — INFO — layer 2, [0:4149], loss=13.8350\n",
      "2025-07-21 23:47:35,233 — INFO — layer 2, [0:4149], loss=14.0322\n"
     ]
    },
    {
     "name": "stderr",
     "output_type": "stream",
     "text": [
      "epoch 0, layer 2:  38%|███████████████████████████▍                                            | 4199/11016 [10:40<17:13,  6.59it/s, loss=13.5]"
     ]
    },
    {
     "name": "stdout",
     "output_type": "stream",
     "text": [
      "2025-07-21 23:47:42,832 — INFO — layer 2, [0:4199], loss=14.0647\n",
      "2025-07-21 23:47:42,832 — INFO — layer 2, [0:4199], loss=13.4034\n"
     ]
    },
    {
     "name": "stderr",
     "output_type": "stream",
     "text": [
      "epoch 0, layer 2:  39%|███████████████████████████▊                                            | 4249/11016 [10:47<17:01,  6.62it/s, loss=53.8]"
     ]
    },
    {
     "name": "stdout",
     "output_type": "stream",
     "text": [
      "2025-07-21 23:47:50,351 — INFO — layer 2, [0:4249], loss=24.8348\n",
      "2025-07-21 23:47:50,351 — INFO — layer 2, [0:4249], loss=17.4814\n"
     ]
    },
    {
     "name": "stderr",
     "output_type": "stream",
     "text": [
      "epoch 0, layer 2:  39%|████████████████████████████                                            | 4299/11016 [10:55<16:46,  6.67it/s, loss=14.3]"
     ]
    },
    {
     "name": "stdout",
     "output_type": "stream",
     "text": [
      "2025-07-21 23:47:57,800 — INFO — layer 2, [0:4299], loss=13.7772\n",
      "2025-07-21 23:47:57,800 — INFO — layer 2, [0:4299], loss=13.1913\n"
     ]
    },
    {
     "name": "stderr",
     "output_type": "stream",
     "text": [
      "epoch 0, layer 2:  39%|█████████████████████████████▏                                            | 4349/11016 [11:02<17:23,  6.39it/s, loss=13]"
     ]
    },
    {
     "name": "stdout",
     "output_type": "stream",
     "text": [
      "2025-07-21 23:48:05,441 — INFO — layer 2, [0:4349], loss=12.9987\n",
      "2025-07-21 23:48:05,441 — INFO — layer 2, [0:4349], loss=12.5580\n"
     ]
    },
    {
     "name": "stderr",
     "output_type": "stream",
     "text": [
      "epoch 0, layer 2:  40%|████████████████████████████▊                                           | 4399/11016 [11:10<17:15,  6.39it/s, loss=20.3]"
     ]
    },
    {
     "name": "stdout",
     "output_type": "stream",
     "text": [
      "2025-07-21 23:48:13,175 — INFO — layer 2, [0:4399], loss=19.3082\n",
      "2025-07-21 23:48:13,175 — INFO — layer 2, [0:4399], loss=27.8251\n"
     ]
    },
    {
     "name": "stderr",
     "output_type": "stream",
     "text": [
      "epoch 0, layer 2:  40%|█████████████████████████████                                           | 4449/11016 [11:18<16:49,  6.50it/s, loss=15.8]"
     ]
    },
    {
     "name": "stdout",
     "output_type": "stream",
     "text": [
      "2025-07-21 23:48:20,851 — INFO — layer 2, [0:4449], loss=14.7732\n",
      "2025-07-21 23:48:20,851 — INFO — layer 2, [0:4449], loss=16.0745\n"
     ]
    },
    {
     "name": "stderr",
     "output_type": "stream",
     "text": [
      "epoch 0, layer 2:  41%|█████████████████████████████▍                                          | 4499/11016 [11:25<16:26,  6.61it/s, loss=13.6]"
     ]
    },
    {
     "name": "stdout",
     "output_type": "stream",
     "text": [
      "2025-07-21 23:48:28,399 — INFO — layer 2, [0:4499], loss=13.5556\n",
      "2025-07-21 23:48:28,399 — INFO — layer 2, [0:4499], loss=12.8677\n"
     ]
    },
    {
     "name": "stderr",
     "output_type": "stream",
     "text": [
      "epoch 0, layer 2:  41%|█████████████████████████████▋                                          | 4549/11016 [11:33<16:42,  6.45it/s, loss=14.2]"
     ]
    },
    {
     "name": "stdout",
     "output_type": "stream",
     "text": [
      "2025-07-21 23:48:35,906 — INFO — layer 2, [0:4549], loss=14.6960\n",
      "2025-07-21 23:48:35,906 — INFO — layer 2, [0:4549], loss=13.5727\n"
     ]
    },
    {
     "name": "stderr",
     "output_type": "stream",
     "text": [
      "epoch 0, layer 2:  42%|██████████████████████████████                                          | 4599/11016 [11:40<16:55,  6.32it/s, loss=32.3]"
     ]
    },
    {
     "name": "stdout",
     "output_type": "stream",
     "text": [
      "2025-07-21 23:48:43,554 — INFO — layer 2, [0:4599], loss=22.8694\n",
      "2025-07-21 23:48:43,554 — INFO — layer 2, [0:4599], loss=17.8718\n"
     ]
    },
    {
     "name": "stderr",
     "output_type": "stream",
     "text": [
      "epoch 0, layer 2:  42%|██████████████████████████████▍                                         | 4649/11016 [11:48<16:34,  6.40it/s, loss=29.4]"
     ]
    },
    {
     "name": "stdout",
     "output_type": "stream",
     "text": [
      "2025-07-21 23:48:51,209 — INFO — layer 2, [0:4649], loss=22.9949\n",
      "2025-07-21 23:48:51,209 — INFO — layer 2, [0:4649], loss=35.7358\n"
     ]
    },
    {
     "name": "stderr",
     "output_type": "stream",
     "text": [
      "epoch 0, layer 2:  43%|██████████████████████████████▋                                         | 4699/11016 [11:56<15:52,  6.63it/s, loss=33.9]"
     ]
    },
    {
     "name": "stdout",
     "output_type": "stream",
     "text": [
      "2025-07-21 23:48:58,821 — INFO — layer 2, [0:4699], loss=27.1080\n",
      "2025-07-21 23:48:58,821 — INFO — layer 2, [0:4699], loss=24.0243\n"
     ]
    },
    {
     "name": "stderr",
     "output_type": "stream",
     "text": [
      "epoch 0, layer 2:  43%|███████████████████████████████                                         | 4749/11016 [12:03<15:38,  6.68it/s, loss=13.3]"
     ]
    },
    {
     "name": "stdout",
     "output_type": "stream",
     "text": [
      "2025-07-21 23:49:06,421 — INFO — layer 2, [0:4749], loss=14.5014\n",
      "2025-07-21 23:49:06,421 — INFO — layer 2, [0:4749], loss=12.5764\n"
     ]
    },
    {
     "name": "stderr",
     "output_type": "stream",
     "text": [
      "epoch 0, layer 2:  44%|███████████████████████████████▎                                        | 4799/11016 [12:11<16:43,  6.19it/s, loss=12.6]"
     ]
    },
    {
     "name": "stdout",
     "output_type": "stream",
     "text": [
      "2025-07-21 23:49:14,315 — INFO — layer 2, [0:4799], loss=12.2560\n",
      "2025-07-21 23:49:14,315 — INFO — layer 2, [0:4799], loss=12.5070\n"
     ]
    },
    {
     "name": "stderr",
     "output_type": "stream",
     "text": [
      "epoch 0, layer 2:  44%|███████████████████████████████▋                                        | 4849/11016 [12:19<15:58,  6.43it/s, loss=26.8]"
     ]
    },
    {
     "name": "stdout",
     "output_type": "stream",
     "text": [
      "2025-07-21 23:49:21,876 — INFO — layer 2, [0:4849], loss=17.5119\n",
      "2025-07-21 23:49:21,876 — INFO — layer 2, [0:4849], loss=24.0251\n"
     ]
    },
    {
     "name": "stderr",
     "output_type": "stream",
     "text": [
      "epoch 0, layer 2:  44%|████████████████████████████████                                        | 4899/11016 [12:26<15:05,  6.75it/s, loss=15.8]"
     ]
    },
    {
     "name": "stdout",
     "output_type": "stream",
     "text": [
      "2025-07-21 23:49:29,349 — INFO — layer 2, [0:4899], loss=14.2665\n",
      "2025-07-21 23:49:29,349 — INFO — layer 2, [0:4899], loss=14.3702\n"
     ]
    },
    {
     "name": "stderr",
     "output_type": "stream",
     "text": [
      "epoch 0, layer 2:  45%|████████████████████████████████▎                                       | 4949/11016 [12:34<15:22,  6.58it/s, loss=12.2]"
     ]
    },
    {
     "name": "stdout",
     "output_type": "stream",
     "text": [
      "2025-07-21 23:49:36,837 — INFO — layer 2, [0:4949], loss=12.9162\n",
      "2025-07-21 23:49:36,837 — INFO — layer 2, [0:4949], loss=13.3158\n"
     ]
    },
    {
     "name": "stderr",
     "output_type": "stream",
     "text": [
      "epoch 0, layer 2:  45%|████████████████████████████████▋                                       | 4999/11016 [12:41<15:33,  6.45it/s, loss=15.5]"
     ]
    },
    {
     "name": "stdout",
     "output_type": "stream",
     "text": [
      "2025-07-21 23:49:44,389 — INFO — layer 2, [0:4999], loss=16.5141\n",
      "2025-07-21 23:49:44,389 — INFO — layer 2, [0:4999], loss=13.7767\n"
     ]
    },
    {
     "name": "stderr",
     "output_type": "stream",
     "text": [
      "epoch 0, layer 2:  46%|█████████████████████████████████                                       | 5049/11016 [12:49<15:14,  6.53it/s, loss=19.9]"
     ]
    },
    {
     "name": "stdout",
     "output_type": "stream",
     "text": [
      "2025-07-21 23:49:51,936 — INFO — layer 2, [0:5049], loss=19.0839\n",
      "2025-07-21 23:49:51,936 — INFO — layer 2, [0:5049], loss=18.1365\n"
     ]
    },
    {
     "name": "stderr",
     "output_type": "stream",
     "text": [
      "epoch 0, layer 2:  46%|█████████████████████████████████▎                                      | 5099/11016 [12:56<14:50,  6.64it/s, loss=34.9]"
     ]
    },
    {
     "name": "stdout",
     "output_type": "stream",
     "text": [
      "2025-07-21 23:49:59,547 — INFO — layer 2, [0:5099], loss=27.1766\n",
      "2025-07-21 23:49:59,548 — INFO — layer 2, [0:5099], loss=43.9211\n"
     ]
    },
    {
     "name": "stderr",
     "output_type": "stream",
     "text": [
      "epoch 0, layer 2:  47%|█████████████████████████████████▋                                      | 5149/11016 [13:04<14:39,  6.67it/s, loss=57.7]"
     ]
    },
    {
     "name": "stdout",
     "output_type": "stream",
     "text": [
      "2025-07-21 23:50:07,089 — INFO — layer 2, [0:5149], loss=39.9280\n",
      "2025-07-21 23:50:07,089 — INFO — layer 2, [0:5149], loss=22.6592\n"
     ]
    },
    {
     "name": "stderr",
     "output_type": "stream",
     "text": [
      "epoch 0, layer 2:  47%|█████████████████████████████████▉                                      | 5199/11016 [13:11<15:15,  6.35it/s, loss=12.9]"
     ]
    },
    {
     "name": "stdout",
     "output_type": "stream",
     "text": [
      "2025-07-21 23:50:14,733 — INFO — layer 2, [0:5199], loss=13.5285\n",
      "2025-07-21 23:50:14,733 — INFO — layer 2, [0:5199], loss=13.7347\n"
     ]
    },
    {
     "name": "stderr",
     "output_type": "stream",
     "text": [
      "epoch 0, layer 2:  48%|██████████████████████████████████▎                                     | 5249/11016 [13:19<14:52,  6.46it/s, loss=16.1]"
     ]
    },
    {
     "name": "stdout",
     "output_type": "stream",
     "text": [
      "2025-07-21 23:50:22,475 — INFO — layer 2, [0:5249], loss=14.7650\n",
      "2025-07-21 23:50:22,475 — INFO — layer 2, [0:5249], loss=14.6883\n"
     ]
    },
    {
     "name": "stderr",
     "output_type": "stream",
     "text": [
      "epoch 0, layer 2:  48%|██████████████████████████████████▋                                     | 5299/11016 [13:27<14:48,  6.43it/s, loss=12.2]"
     ]
    },
    {
     "name": "stdout",
     "output_type": "stream",
     "text": [
      "2025-07-21 23:50:30,105 — INFO — layer 2, [0:5299], loss=12.3303\n",
      "2025-07-21 23:50:30,105 — INFO — layer 2, [0:5299], loss=12.8866\n"
     ]
    },
    {
     "name": "stderr",
     "output_type": "stream",
     "text": [
      "epoch 0, layer 2:  49%|██████████████████████████████████▉                                     | 5349/11016 [13:34<13:58,  6.76it/s, loss=11.6]"
     ]
    },
    {
     "name": "stdout",
     "output_type": "stream",
     "text": [
      "2025-07-21 23:50:37,695 — INFO — layer 2, [0:5349], loss=11.6253\n",
      "2025-07-21 23:50:37,695 — INFO — layer 2, [0:5349], loss=11.9356\n"
     ]
    },
    {
     "name": "stderr",
     "output_type": "stream",
     "text": [
      "epoch 0, layer 2:  49%|███████████████████████████████████▎                                    | 5399/11016 [13:42<14:32,  6.44it/s, loss=13.7]"
     ]
    },
    {
     "name": "stdout",
     "output_type": "stream",
     "text": [
      "2025-07-21 23:50:45,319 — INFO — layer 2, [0:5399], loss=12.4471\n",
      "2025-07-21 23:50:45,319 — INFO — layer 2, [0:5399], loss=17.7564\n"
     ]
    },
    {
     "name": "stderr",
     "output_type": "stream",
     "text": [
      "epoch 0, layer 2:  49%|███████████████████████████████████▌                                    | 5449/11016 [13:50<14:04,  6.59it/s, loss=15.9]"
     ]
    },
    {
     "name": "stdout",
     "output_type": "stream",
     "text": [
      "2025-07-21 23:50:52,999 — INFO — layer 2, [0:5449], loss=19.9250\n",
      "2025-07-21 23:50:53,000 — INFO — layer 2, [0:5449], loss=14.5478\n"
     ]
    },
    {
     "name": "stderr",
     "output_type": "stream",
     "text": [
      "epoch 0, layer 2:  50%|███████████████████████████████████▉                                    | 5499/11016 [13:57<13:37,  6.75it/s, loss=20.1]"
     ]
    },
    {
     "name": "stdout",
     "output_type": "stream",
     "text": [
      "2025-07-21 23:51:00,610 — INFO — layer 2, [0:5499], loss=19.1180\n",
      "2025-07-21 23:51:00,610 — INFO — layer 2, [0:5499], loss=30.0876\n"
     ]
    },
    {
     "name": "stderr",
     "output_type": "stream",
     "text": [
      "epoch 0, layer 2:  50%|████████████████████████████████████▎                                   | 5549/11016 [14:05<13:47,  6.60it/s, loss=29.8]"
     ]
    },
    {
     "name": "stdout",
     "output_type": "stream",
     "text": [
      "2025-07-21 23:51:08,308 — INFO — layer 2, [0:5549], loss=26.8217\n",
      "2025-07-21 23:51:08,308 — INFO — layer 2, [0:5549], loss=36.8011\n"
     ]
    },
    {
     "name": "stderr",
     "output_type": "stream",
     "text": [
      "epoch 0, layer 2:  51%|████████████████████████████████████▌                                   | 5599/11016 [14:13<14:03,  6.42it/s, loss=11.6]"
     ]
    },
    {
     "name": "stdout",
     "output_type": "stream",
     "text": [
      "2025-07-21 23:51:16,066 — INFO — layer 2, [0:5599], loss=11.6310\n",
      "2025-07-21 23:51:16,066 — INFO — layer 2, [0:5599], loss=11.8447\n"
     ]
    },
    {
     "name": "stderr",
     "output_type": "stream",
     "text": [
      "epoch 0, layer 2:  51%|████████████████████████████████████▉                                   | 5649/11016 [14:20<13:33,  6.60it/s, loss=14.3]"
     ]
    },
    {
     "name": "stdout",
     "output_type": "stream",
     "text": [
      "2025-07-21 23:51:23,750 — INFO — layer 2, [0:5649], loss=36.4222\n",
      "2025-07-21 23:51:23,751 — INFO — layer 2, [0:5649], loss=31.9635\n"
     ]
    },
    {
     "name": "stderr",
     "output_type": "stream",
     "text": [
      "epoch 0, layer 2:  52%|██████████████████████████████████████▎                                   | 5699/11016 [14:28<13:10,  6.72it/s, loss=28]"
     ]
    },
    {
     "name": "stdout",
     "output_type": "stream",
     "text": [
      "2025-07-21 23:51:31,323 — INFO — layer 2, [0:5699], loss=52.2418\n",
      "2025-07-21 23:51:31,323 — INFO — layer 2, [0:5699], loss=37.0578\n"
     ]
    },
    {
     "name": "stderr",
     "output_type": "stream",
     "text": [
      "epoch 0, layer 2:  52%|█████████████████████████████████████▌                                  | 5749/11016 [14:36<14:06,  6.23it/s, loss=12.4]"
     ]
    },
    {
     "name": "stdout",
     "output_type": "stream",
     "text": [
      "2025-07-21 23:51:38,999 — INFO — layer 2, [0:5749], loss=12.5306\n",
      "2025-07-21 23:51:38,999 — INFO — layer 2, [0:5749], loss=11.5813\n"
     ]
    },
    {
     "name": "stderr",
     "output_type": "stream",
     "text": [
      "epoch 0, layer 2:  53%|█████████████████████████████████████▉                                  | 5799/11016 [14:43<13:07,  6.62it/s, loss=20.5]"
     ]
    },
    {
     "name": "stdout",
     "output_type": "stream",
     "text": [
      "2025-07-21 23:51:46,622 — INFO — layer 2, [0:5799], loss=16.7096\n",
      "2025-07-21 23:51:46,622 — INFO — layer 2, [0:5799], loss=14.7561\n"
     ]
    },
    {
     "name": "stderr",
     "output_type": "stream",
     "text": [
      "epoch 0, layer 2:  53%|██████████████████████████████████████▏                                 | 5849/11016 [14:51<14:17,  6.03it/s, loss=66.1]"
     ]
    },
    {
     "name": "stdout",
     "output_type": "stream",
     "text": [
      "2025-07-21 23:51:54,174 — INFO — layer 2, [0:5849], loss=24.3452\n",
      "2025-07-21 23:51:54,174 — INFO — layer 2, [0:5849], loss=14.9391\n"
     ]
    },
    {
     "name": "stderr",
     "output_type": "stream",
     "text": [
      "epoch 0, layer 2:  54%|██████████████████████████████████████▌                                 | 5899/11016 [14:59<13:55,  6.13it/s, loss=13.7]"
     ]
    },
    {
     "name": "stdout",
     "output_type": "stream",
     "text": [
      "2025-07-21 23:52:01,900 — INFO — layer 2, [0:5899], loss=12.8388\n",
      "2025-07-21 23:52:01,900 — INFO — layer 2, [0:5899], loss=12.0149\n"
     ]
    },
    {
     "name": "stderr",
     "output_type": "stream",
     "text": [
      "epoch 0, layer 2:  54%|██████████████████████████████████████▉                                 | 5949/11016 [15:06<12:15,  6.89it/s, loss=28.6]"
     ]
    },
    {
     "name": "stdout",
     "output_type": "stream",
     "text": [
      "2025-07-21 23:52:09,395 — INFO — layer 2, [0:5949], loss=48.9084\n",
      "2025-07-21 23:52:09,395 — INFO — layer 2, [0:5949], loss=33.9226\n"
     ]
    },
    {
     "name": "stderr",
     "output_type": "stream",
     "text": [
      "epoch 0, layer 2:  54%|███████████████████████████████████████▏                                | 5999/11016 [15:14<12:45,  6.55it/s, loss=18.5]"
     ]
    },
    {
     "name": "stdout",
     "output_type": "stream",
     "text": [
      "2025-07-21 23:52:17,068 — INFO — layer 2, [0:5999], loss=15.0349\n",
      "2025-07-21 23:52:17,068 — INFO — layer 2, [0:5999], loss=18.4272\n"
     ]
    },
    {
     "name": "stderr",
     "output_type": "stream",
     "text": [
      "epoch 0, layer 2:  55%|████████████████████████████████████████▋                                 | 6049/11016 [15:21<12:39,  6.54it/s, loss=11]"
     ]
    },
    {
     "name": "stdout",
     "output_type": "stream",
     "text": [
      "2025-07-21 23:52:24,712 — INFO — layer 2, [0:6049], loss=11.1876\n",
      "2025-07-21 23:52:24,712 — INFO — layer 2, [0:6049], loss=10.7855\n"
     ]
    },
    {
     "name": "stderr",
     "output_type": "stream",
     "text": [
      "epoch 0, layer 2:  55%|███████████████████████████████████████▊                                | 6099/11016 [15:29<12:49,  6.39it/s, loss=21.1]"
     ]
    },
    {
     "name": "stdout",
     "output_type": "stream",
     "text": [
      "2025-07-21 23:52:32,307 — INFO — layer 2, [0:6099], loss=27.9890\n",
      "2025-07-21 23:52:32,307 — INFO — layer 2, [0:6099], loss=13.4462\n"
     ]
    },
    {
     "name": "stderr",
     "output_type": "stream",
     "text": [
      "epoch 0, layer 2:  56%|████████████████████████████████████████▏                               | 6149/11016 [15:37<11:59,  6.76it/s, loss=11.7]"
     ]
    },
    {
     "name": "stdout",
     "output_type": "stream",
     "text": [
      "2025-07-21 23:52:39,821 — INFO — layer 2, [0:6149], loss=12.5943\n",
      "2025-07-21 23:52:39,821 — INFO — layer 2, [0:6149], loss=13.0723\n"
     ]
    },
    {
     "name": "stderr",
     "output_type": "stream",
     "text": [
      "epoch 0, layer 2:  56%|████████████████████████████████████████▌                               | 6199/11016 [15:44<12:51,  6.24it/s, loss=11.2]"
     ]
    },
    {
     "name": "stdout",
     "output_type": "stream",
     "text": [
      "2025-07-21 23:52:47,331 — INFO — layer 2, [0:6199], loss=11.0413\n",
      "2025-07-21 23:52:47,331 — INFO — layer 2, [0:6199], loss=11.2197\n"
     ]
    },
    {
     "name": "stderr",
     "output_type": "stream",
     "text": [
      "epoch 0, layer 2:  57%|████████████████████████████████████████▊                               | 6249/11016 [15:51<11:30,  6.91it/s, loss=11.1]"
     ]
    },
    {
     "name": "stdout",
     "output_type": "stream",
     "text": [
      "2025-07-21 23:52:54,765 — INFO — layer 2, [0:6249], loss=10.8478\n",
      "2025-07-21 23:52:54,765 — INFO — layer 2, [0:6249], loss=10.8627\n"
     ]
    },
    {
     "name": "stderr",
     "output_type": "stream",
     "text": [
      "epoch 0, layer 2:  57%|█████████████████████████████████████████▏                              | 6299/11016 [15:59<11:45,  6.69it/s, loss=16.2]"
     ]
    },
    {
     "name": "stdout",
     "output_type": "stream",
     "text": [
      "2025-07-21 23:53:02,308 — INFO — layer 2, [0:6299], loss=14.6197\n",
      "2025-07-21 23:53:02,307 — INFO — layer 2, [0:6299], loss=26.6258\n"
     ]
    },
    {
     "name": "stderr",
     "output_type": "stream",
     "text": [
      "epoch 0, layer 2:  58%|█████████████████████████████████████████▍                              | 6349/11016 [16:07<12:07,  6.42it/s, loss=30.7]"
     ]
    },
    {
     "name": "stdout",
     "output_type": "stream",
     "text": [
      "2025-07-21 23:53:10,015 — INFO — layer 2, [0:6349], loss=22.0632\n",
      "2025-07-21 23:53:10,015 — INFO — layer 2, [0:6349], loss=20.0229\n"
     ]
    },
    {
     "name": "stderr",
     "output_type": "stream",
     "text": [
      "epoch 0, layer 2:  58%|█████████████████████████████████████████▊                              | 6399/11016 [16:14<11:54,  6.47it/s, loss=10.5]"
     ]
    },
    {
     "name": "stdout",
     "output_type": "stream",
     "text": [
      "2025-07-21 23:53:17,674 — INFO — layer 2, [0:6399], loss=10.8967\n",
      "2025-07-21 23:53:17,674 — INFO — layer 2, [0:6399], loss=10.6462\n"
     ]
    },
    {
     "name": "stderr",
     "output_type": "stream",
     "text": [
      "epoch 0, layer 2:  59%|██████████████████████████████████████████▏                             | 6449/11016 [16:22<11:44,  6.48it/s, loss=14.7]"
     ]
    },
    {
     "name": "stdout",
     "output_type": "stream",
     "text": [
      "2025-07-21 23:53:25,456 — INFO — layer 2, [0:6449], loss=13.0286\n",
      "2025-07-21 23:53:25,456 — INFO — layer 2, [0:6449], loss=12.2319\n"
     ]
    },
    {
     "name": "stderr",
     "output_type": "stream",
     "text": [
      "epoch 0, layer 2:  59%|██████████████████████████████████████████▍                             | 6499/11016 [16:30<11:18,  6.65it/s, loss=10.7]"
     ]
    },
    {
     "name": "stdout",
     "output_type": "stream",
     "text": [
      "2025-07-21 23:53:33,016 — INFO — layer 2, [0:6499], loss=10.9089\n",
      "2025-07-21 23:53:33,016 — INFO — layer 2, [0:6499], loss=10.6663\n"
     ]
    },
    {
     "name": "stderr",
     "output_type": "stream",
     "text": [
      "epoch 0, layer 2:  59%|██████████████████████████████████████████▊                             | 6549/11016 [16:37<11:19,  6.58it/s, loss=12.4]"
     ]
    },
    {
     "name": "stdout",
     "output_type": "stream",
     "text": [
      "2025-07-21 23:53:40,624 — INFO — layer 2, [0:6549], loss=10.9059\n",
      "2025-07-21 23:53:40,624 — INFO — layer 2, [0:6549], loss=12.4883\n"
     ]
    },
    {
     "name": "stderr",
     "output_type": "stream",
     "text": [
      "epoch 0, layer 2:  60%|███████████████████████████████████████████▏                            | 6599/11016 [16:45<11:40,  6.31it/s, loss=41.9]"
     ]
    },
    {
     "name": "stdout",
     "output_type": "stream",
     "text": [
      "2025-07-21 23:53:48,306 — INFO — layer 2, [0:6599], loss=17.3996\n",
      "2025-07-21 23:53:48,306 — INFO — layer 2, [0:6599], loss=10.9322\n"
     ]
    },
    {
     "name": "stderr",
     "output_type": "stream",
     "text": [
      "epoch 0, layer 2:  60%|████████████████████████████████████████████▋                             | 6649/11016 [16:53<10:44,  6.78it/s, loss=28]"
     ]
    },
    {
     "name": "stdout",
     "output_type": "stream",
     "text": [
      "2025-07-21 23:53:56,057 — INFO — layer 2, [0:6649], loss=14.7435\n",
      "2025-07-21 23:53:56,057 — INFO — layer 2, [0:6649], loss=14.1975\n"
     ]
    },
    {
     "name": "stderr",
     "output_type": "stream",
     "text": [
      "epoch 0, layer 2:  61%|███████████████████████████████████████████▊                            | 6699/11016 [17:00<10:46,  6.68it/s, loss=10.5]"
     ]
    },
    {
     "name": "stdout",
     "output_type": "stream",
     "text": [
      "2025-07-21 23:54:03,675 — INFO — layer 2, [0:6699], loss=10.8079\n",
      "2025-07-21 23:54:03,675 — INFO — layer 2, [0:6699], loss=10.0844\n"
     ]
    },
    {
     "name": "stderr",
     "output_type": "stream",
     "text": [
      "epoch 0, layer 2:  61%|█████████████████████████████████████████████▎                            | 6749/11016 [17:08<10:58,  6.48it/s, loss=19]"
     ]
    },
    {
     "name": "stdout",
     "output_type": "stream",
     "text": [
      "2025-07-21 23:54:11,191 — INFO — layer 2, [0:6749], loss=14.5791\n",
      "2025-07-21 23:54:11,191 — INFO — layer 2, [0:6749], loss=15.6964\n"
     ]
    },
    {
     "name": "stderr",
     "output_type": "stream",
     "text": [
      "epoch 0, layer 2:  62%|████████████████████████████████████████████▍                           | 6799/11016 [17:16<10:48,  6.50it/s, loss=20.2]"
     ]
    },
    {
     "name": "stdout",
     "output_type": "stream",
     "text": [
      "2025-07-21 23:54:18,805 — INFO — layer 2, [0:6799], loss=22.4546\n",
      "2025-07-21 23:54:18,805 — INFO — layer 2, [0:6799], loss=21.1005\n"
     ]
    },
    {
     "name": "stderr",
     "output_type": "stream",
     "text": [
      "epoch 0, layer 2:  62%|████████████████████████████████████████████▊                           | 6849/11016 [17:23<10:48,  6.43it/s, loss=14.8]"
     ]
    },
    {
     "name": "stdout",
     "output_type": "stream",
     "text": [
      "2025-07-21 23:54:26,584 — INFO — layer 2, [0:6849], loss=12.6612\n",
      "2025-07-21 23:54:26,584 — INFO — layer 2, [0:6849], loss=14.8337\n"
     ]
    },
    {
     "name": "stderr",
     "output_type": "stream",
     "text": [
      "epoch 0, layer 2:  63%|█████████████████████████████████████████████                           | 6899/11016 [17:31<10:30,  6.53it/s, loss=24.8]"
     ]
    },
    {
     "name": "stdout",
     "output_type": "stream",
     "text": [
      "2025-07-21 23:54:34,141 — INFO — layer 2, [0:6899], loss=28.6692\n",
      "2025-07-21 23:54:34,141 — INFO — layer 2, [0:6899], loss=21.9837\n"
     ]
    },
    {
     "name": "stderr",
     "output_type": "stream",
     "text": [
      "epoch 0, layer 2:  63%|█████████████████████████████████████████████▍                          | 6949/11016 [17:39<10:37,  6.38it/s, loss=68.2]"
     ]
    },
    {
     "name": "stdout",
     "output_type": "stream",
     "text": [
      "2025-07-21 23:54:41,784 — INFO — layer 2, [0:6949], loss=27.3652\n",
      "2025-07-21 23:54:41,784 — INFO — layer 2, [0:6949], loss=26.1253\n"
     ]
    },
    {
     "name": "stderr",
     "output_type": "stream",
     "text": [
      "epoch 0, layer 2:  64%|███████████████████████████████████████████████                           | 6999/11016 [17:46<09:43,  6.89it/s, loss=11]"
     ]
    },
    {
     "name": "stdout",
     "output_type": "stream",
     "text": [
      "2025-07-21 23:54:49,270 — INFO — layer 2, [0:6999], loss=10.5540\n",
      "2025-07-21 23:54:49,270 — INFO — layer 2, [0:6999], loss=11.1940\n"
     ]
    },
    {
     "name": "stderr",
     "output_type": "stream",
     "text": [
      "epoch 0, layer 2:  64%|██████████████████████████████████████████████                          | 7049/11016 [17:54<09:46,  6.76it/s, loss=17.2]"
     ]
    },
    {
     "name": "stdout",
     "output_type": "stream",
     "text": [
      "2025-07-21 23:54:56,920 — INFO — layer 2, [0:7049], loss=28.0457\n",
      "2025-07-21 23:54:56,920 — INFO — layer 2, [0:7049], loss=14.4836\n"
     ]
    },
    {
     "name": "stderr",
     "output_type": "stream",
     "text": [
      "epoch 0, layer 2:  64%|██████████████████████████████████████████████▍                         | 7099/11016 [18:01<10:01,  6.52it/s, loss=10.3]"
     ]
    },
    {
     "name": "stdout",
     "output_type": "stream",
     "text": [
      "2025-07-21 23:55:04,588 — INFO — layer 2, [0:7099], loss=9.7100\n",
      "2025-07-21 23:55:04,588 — INFO — layer 2, [0:7099], loss=9.8043\n"
     ]
    },
    {
     "name": "stderr",
     "output_type": "stream",
     "text": [
      "epoch 0, layer 2:  65%|██████████████████████████████████████████████▋                         | 7149/11016 [18:09<09:50,  6.55it/s, loss=16.9]"
     ]
    },
    {
     "name": "stdout",
     "output_type": "stream",
     "text": [
      "2025-07-21 23:55:12,208 — INFO — layer 2, [0:7149], loss=13.8846\n",
      "2025-07-21 23:55:12,208 — INFO — layer 2, [0:7149], loss=35.9638\n"
     ]
    },
    {
     "name": "stderr",
     "output_type": "stream",
     "text": [
      "epoch 0, layer 2:  65%|███████████████████████████████████████████████                         | 7199/11016 [18:17<10:27,  6.08it/s, loss=18.3]"
     ]
    },
    {
     "name": "stdout",
     "output_type": "stream",
     "text": [
      "2025-07-21 23:55:19,929 — INFO — layer 2, [0:7199], loss=22.5114\n",
      "2025-07-21 23:55:19,929 — INFO — layer 2, [0:7199], loss=21.3625\n"
     ]
    },
    {
     "name": "stderr",
     "output_type": "stream",
     "text": [
      "epoch 0, layer 2:  66%|███████████████████████████████████████████████▍                        | 7249/11016 [18:24<09:37,  6.53it/s, loss=11.7]"
     ]
    },
    {
     "name": "stdout",
     "output_type": "stream",
     "text": [
      "2025-07-21 23:55:27,498 — INFO — layer 2, [0:7249], loss=11.2745\n",
      "2025-07-21 23:55:27,498 — INFO — layer 2, [0:7249], loss=10.2161\n"
     ]
    },
    {
     "name": "stderr",
     "output_type": "stream",
     "text": [
      "epoch 0, layer 2:  66%|███████████████████████████████████████████████▋                        | 7299/11016 [18:32<09:54,  6.25it/s, loss=34.8]"
     ]
    },
    {
     "name": "stdout",
     "output_type": "stream",
     "text": [
      "2025-07-21 23:55:35,138 — INFO — layer 2, [0:7299], loss=21.3758\n",
      "2025-07-21 23:55:35,138 — INFO — layer 2, [0:7299], loss=32.6481\n"
     ]
    },
    {
     "name": "stderr",
     "output_type": "stream",
     "text": [
      "epoch 0, layer 2:  67%|████████████████████████████████████████████████                        | 7349/11016 [18:39<09:05,  6.73it/s, loss=9.71]"
     ]
    },
    {
     "name": "stdout",
     "output_type": "stream",
     "text": [
      "2025-07-21 23:55:42,737 — INFO — layer 2, [0:7349], loss=10.1355\n",
      "2025-07-21 23:55:42,737 — INFO — layer 2, [0:7349], loss=9.9709\n"
     ]
    },
    {
     "name": "stderr",
     "output_type": "stream",
     "text": [
      "epoch 0, layer 2:  67%|████████████████████████████████████████████████▎                       | 7399/11016 [18:47<08:58,  6.72it/s, loss=12.8]"
     ]
    },
    {
     "name": "stdout",
     "output_type": "stream",
     "text": [
      "2025-07-21 23:55:50,260 — INFO — layer 2, [0:7399], loss=12.0559\n",
      "2025-07-21 23:55:50,260 — INFO — layer 2, [0:7399], loss=10.6595\n"
     ]
    },
    {
     "name": "stderr",
     "output_type": "stream",
     "text": [
      "epoch 0, layer 2:  68%|████████████████████████████████████████████████▋                       | 7449/11016 [18:55<08:47,  6.76it/s, loss=15.1]"
     ]
    },
    {
     "name": "stdout",
     "output_type": "stream",
     "text": [
      "2025-07-21 23:55:58,020 — INFO — layer 2, [0:7449], loss=21.8034\n",
      "2025-07-21 23:55:58,020 — INFO — layer 2, [0:7449], loss=19.5905\n"
     ]
    },
    {
     "name": "stderr",
     "output_type": "stream",
     "text": [
      "epoch 0, layer 2:  68%|█████████████████████████████████████████████████                       | 7499/11016 [19:02<09:03,  6.48it/s, loss=9.13]"
     ]
    },
    {
     "name": "stdout",
     "output_type": "stream",
     "text": [
      "2025-07-21 23:56:05,638 — INFO — layer 2, [0:7499], loss=9.6136\n",
      "2025-07-21 23:56:05,638 — INFO — layer 2, [0:7499], loss=9.2772\n"
     ]
    },
    {
     "name": "stderr",
     "output_type": "stream",
     "text": [
      "epoch 0, layer 2:  69%|█████████████████████████████████████████████████▎                      | 7549/11016 [19:10<08:33,  6.75it/s, loss=13.9]"
     ]
    },
    {
     "name": "stdout",
     "output_type": "stream",
     "text": [
      "2025-07-21 23:56:13,115 — INFO — layer 2, [0:7549], loss=22.6157\n",
      "2025-07-21 23:56:13,115 — INFO — layer 2, [0:7549], loss=13.6002\n"
     ]
    },
    {
     "name": "stderr",
     "output_type": "stream",
     "text": [
      "epoch 0, layer 2:  69%|█████████████████████████████████████████████████▋                      | 7599/11016 [19:17<08:38,  6.59it/s, loss=29.7]"
     ]
    },
    {
     "name": "stdout",
     "output_type": "stream",
     "text": [
      "2025-07-21 23:56:20,655 — INFO — layer 2, [0:7599], loss=17.9325\n",
      "2025-07-21 23:56:20,655 — INFO — layer 2, [0:7599], loss=36.2625\n"
     ]
    },
    {
     "name": "stderr",
     "output_type": "stream",
     "text": [
      "epoch 0, layer 2:  69%|█████████████████████████████████████████████████▉                      | 7649/11016 [19:25<08:00,  7.01it/s, loss=10.8]"
     ]
    },
    {
     "name": "stdout",
     "output_type": "stream",
     "text": [
      "2025-07-21 23:56:28,356 — INFO — layer 2, [0:7649], loss=11.5206\n",
      "2025-07-21 23:56:28,356 — INFO — layer 2, [0:7649], loss=14.7447\n"
     ]
    },
    {
     "name": "stderr",
     "output_type": "stream",
     "text": [
      "epoch 0, layer 2:  70%|██████████████████████████████████████████████████▎                     | 7699/11016 [19:33<08:39,  6.38it/s, loss=43.6]"
     ]
    },
    {
     "name": "stdout",
     "output_type": "stream",
     "text": [
      "2025-07-21 23:56:35,907 — INFO — layer 2, [0:7699], loss=11.1047\n",
      "2025-07-21 23:56:35,907 — INFO — layer 2, [0:7699], loss=30.3730\n"
     ]
    },
    {
     "name": "stderr",
     "output_type": "stream",
     "text": [
      "epoch 0, layer 2:  70%|██████████████████████████████████████████████████▋                     | 7749/11016 [19:40<08:00,  6.81it/s, loss=9.28]"
     ]
    },
    {
     "name": "stdout",
     "output_type": "stream",
     "text": [
      "2025-07-21 23:56:43,479 — INFO — layer 2, [0:7749], loss=10.2296\n",
      "2025-07-21 23:56:43,480 — INFO — layer 2, [0:7749], loss=9.4097\n"
     ]
    },
    {
     "name": "stderr",
     "output_type": "stream",
     "text": [
      "epoch 0, layer 2:  71%|██████████████████████████████████████████████████▉                     | 7799/11016 [19:48<07:32,  7.10it/s, loss=10.9]"
     ]
    },
    {
     "name": "stdout",
     "output_type": "stream",
     "text": [
      "2025-07-21 23:56:50,873 — INFO — layer 2, [0:7799], loss=12.2882\n"
     ]
    },
    {
     "name": "stderr",
     "output_type": "stream",
     "text": [
      "epoch 0, layer 2:  71%|██████████████████████████████████████████████████▉                     | 7799/11016 [19:48<07:32,  7.11it/s, loss=12.3]"
     ]
    },
    {
     "name": "stdout",
     "output_type": "stream",
     "text": [
      "2025-07-21 23:56:50,873 — INFO — layer 2, [0:7799], loss=9.8404\n"
     ]
    },
    {
     "name": "stderr",
     "output_type": "stream",
     "text": [
      "epoch 0, layer 2:  71%|███████████████████████████████████████████████████▎                    | 7849/11016 [19:55<07:46,  6.79it/s, loss=10.6]"
     ]
    },
    {
     "name": "stdout",
     "output_type": "stream",
     "text": [
      "2025-07-21 23:56:58,559 — INFO — layer 2, [0:7849], loss=9.9199\n",
      "2025-07-21 23:56:58,559 — INFO — layer 2, [0:7849], loss=9.0569\n"
     ]
    },
    {
     "name": "stderr",
     "output_type": "stream",
     "text": [
      "epoch 0, layer 2:  72%|███████████████████████████████████████████████████▋                    | 7899/11016 [20:03<07:50,  6.63it/s, loss=10.1]"
     ]
    },
    {
     "name": "stdout",
     "output_type": "stream",
     "text": [
      "2025-07-21 23:57:06,209 — INFO — layer 2, [0:7899], loss=10.4832\n",
      "2025-07-21 23:57:06,209 — INFO — layer 2, [0:7899], loss=9.7398\n"
     ]
    },
    {
     "name": "stderr",
     "output_type": "stream",
     "text": [
      "epoch 0, layer 2:  72%|███████████████████████████████████████████████████▉                    | 7949/11016 [20:10<07:30,  6.81it/s, loss=26.1]"
     ]
    },
    {
     "name": "stdout",
     "output_type": "stream",
     "text": [
      "2025-07-21 23:57:13,655 — INFO — layer 2, [0:7949], loss=20.7816\n",
      "2025-07-21 23:57:13,656 — INFO — layer 2, [0:7949], loss=16.0380\n"
     ]
    },
    {
     "name": "stderr",
     "output_type": "stream",
     "text": [
      "epoch 0, layer 2:  73%|████████████████████████████████████████████████████▎                   | 7999/11016 [20:18<07:41,  6.54it/s, loss=15.6]"
     ]
    },
    {
     "name": "stdout",
     "output_type": "stream",
     "text": [
      "2025-07-21 23:57:21,236 — INFO — layer 2, [0:7999], loss=15.3715\n",
      "2025-07-21 23:57:21,236 — INFO — layer 2, [0:7999], loss=16.0425\n"
     ]
    },
    {
     "name": "stderr",
     "output_type": "stream",
     "text": [
      "epoch 0, layer 2:  73%|████████████████████████████████████████████████████▌                   | 8049/11016 [20:26<07:49,  6.32it/s, loss=15.3]"
     ]
    },
    {
     "name": "stdout",
     "output_type": "stream",
     "text": [
      "2025-07-21 23:57:28,962 — INFO — layer 2, [0:8049], loss=10.9676\n",
      "2025-07-21 23:57:28,962 — INFO — layer 2, [0:8049], loss=25.0294\n"
     ]
    },
    {
     "name": "stderr",
     "output_type": "stream",
     "text": [
      "epoch 0, layer 2:  74%|████████████████████████████████████████████████████▉                   | 8099/11016 [20:33<07:05,  6.85it/s, loss=52.9]"
     ]
    },
    {
     "name": "stdout",
     "output_type": "stream",
     "text": [
      "2025-07-21 23:57:36,590 — INFO — layer 2, [0:8099], loss=17.0338\n",
      "2025-07-21 23:57:36,590 — INFO — layer 2, [0:8099], loss=18.9391\n"
     ]
    },
    {
     "name": "stderr",
     "output_type": "stream",
     "text": [
      "epoch 0, layer 2:  74%|█████████████████████████████████████████████████████▎                  | 8149/11016 [20:41<07:27,  6.40it/s, loss=23.7]"
     ]
    },
    {
     "name": "stdout",
     "output_type": "stream",
     "text": [
      "2025-07-21 23:57:44,301 — INFO — layer 2, [0:8149], loss=28.1013\n",
      "2025-07-21 23:57:44,301 — INFO — layer 2, [0:8149], loss=22.2971\n"
     ]
    },
    {
     "name": "stderr",
     "output_type": "stream",
     "text": [
      "epoch 0, layer 2:  74%|█████████████████████████████████████████████████████▌                  | 8199/11016 [20:49<07:21,  6.38it/s, loss=8.02]"
     ]
    },
    {
     "name": "stdout",
     "output_type": "stream",
     "text": [
      "2025-07-21 23:57:52,006 — INFO — layer 2, [0:8199], loss=8.0362\n",
      "2025-07-21 23:57:52,006 — INFO — layer 2, [0:8199], loss=8.3913\n"
     ]
    },
    {
     "name": "stderr",
     "output_type": "stream",
     "text": [
      "epoch 0, layer 2:  75%|███████████████████████████████████████████████████████▍                  | 8249/11016 [20:56<06:46,  6.80it/s, loss=11]"
     ]
    },
    {
     "name": "stdout",
     "output_type": "stream",
     "text": [
      "2025-07-21 23:57:59,709 — INFO — layer 2, [0:8249], loss=36.7616\n",
      "2025-07-21 23:57:59,709 — INFO — layer 2, [0:8249], loss=24.2009\n"
     ]
    },
    {
     "name": "stderr",
     "output_type": "stream",
     "text": [
      "epoch 0, layer 2:  75%|██████████████████████████████████████████████████████▏                 | 8299/11016 [21:04<06:46,  6.68it/s, loss=7.69]"
     ]
    },
    {
     "name": "stdout",
     "output_type": "stream",
     "text": [
      "2025-07-21 23:58:07,127 — INFO — layer 2, [0:8299], loss=9.1539\n",
      "2025-07-21 23:58:07,127 — INFO — layer 2, [0:8299], loss=8.1413\n"
     ]
    },
    {
     "name": "stderr",
     "output_type": "stream",
     "text": [
      "epoch 0, layer 2:  76%|██████████████████████████████████████████████████████▌                 | 8349/11016 [21:12<06:52,  6.47it/s, loss=7.42]"
     ]
    },
    {
     "name": "stdout",
     "output_type": "stream",
     "text": [
      "2025-07-21 23:58:14,792 — INFO — layer 2, [0:8349], loss=8.2306\n",
      "2025-07-21 23:58:14,792 — INFO — layer 2, [0:8349], loss=7.3172\n"
     ]
    },
    {
     "name": "stderr",
     "output_type": "stream",
     "text": [
      "epoch 0, layer 2:  76%|██████████████████████████████████████████████████████▉                 | 8399/11016 [21:19<06:24,  6.80it/s, loss=9.72]"
     ]
    },
    {
     "name": "stdout",
     "output_type": "stream",
     "text": [
      "2025-07-21 23:58:22,354 — INFO — layer 2, [0:8399], loss=28.4935\n",
      "2025-07-21 23:58:22,354 — INFO — layer 2, [0:8399], loss=14.7153\n"
     ]
    },
    {
     "name": "stderr",
     "output_type": "stream",
     "text": [
      "epoch 0, layer 2:  77%|███████████████████████████████████████████████████████▏                | 8449/11016 [21:27<06:26,  6.64it/s, loss=10.3]"
     ]
    },
    {
     "name": "stdout",
     "output_type": "stream",
     "text": [
      "2025-07-21 23:58:29,986 — INFO — layer 2, [0:8449], loss=12.0878\n",
      "2025-07-21 23:58:29,987 — INFO — layer 2, [0:8449], loss=28.9840\n"
     ]
    },
    {
     "name": "stderr",
     "output_type": "stream",
     "text": [
      "epoch 0, layer 2:  77%|███████████████████████████████████████████████████████▌                | 8499/11016 [21:34<06:42,  6.26it/s, loss=30.5]"
     ]
    },
    {
     "name": "stdout",
     "output_type": "stream",
     "text": [
      "2025-07-21 23:58:37,664 — INFO — layer 2, [0:8499], loss=90.2870\n",
      "2025-07-21 23:58:37,664 — INFO — layer 2, [0:8499], loss=44.9639\n"
     ]
    },
    {
     "name": "stderr",
     "output_type": "stream",
     "text": [
      "epoch 0, layer 2:  78%|█████████████████████████████████████████████████████████▍                | 8549/11016 [21:42<06:08,  6.70it/s, loss=64]"
     ]
    },
    {
     "name": "stdout",
     "output_type": "stream",
     "text": [
      "2025-07-21 23:58:45,404 — INFO — layer 2, [0:8549], loss=25.1123\n",
      "2025-07-21 23:58:45,404 — INFO — layer 2, [0:8549], loss=121.5804\n"
     ]
    },
    {
     "name": "stderr",
     "output_type": "stream",
     "text": [
      "epoch 0, layer 2:  78%|████████████████████████████████████████████████████████▏               | 8599/11016 [21:50<05:53,  6.84it/s, loss=8.99]"
     ]
    },
    {
     "name": "stdout",
     "output_type": "stream",
     "text": [
      "2025-07-21 23:58:53,272 — INFO — layer 2, [0:8599], loss=9.3591\n",
      "2025-07-21 23:58:53,272 — INFO — layer 2, [0:8599], loss=10.0345\n"
     ]
    },
    {
     "name": "stderr",
     "output_type": "stream",
     "text": [
      "epoch 0, layer 2:  79%|████████████████████████████████████████████████████████▌               | 8649/11016 [21:58<06:01,  6.55it/s, loss=10.9]"
     ]
    },
    {
     "name": "stdout",
     "output_type": "stream",
     "text": [
      "2025-07-21 23:59:00,896 — INFO — layer 2, [0:8649], loss=8.3637\n",
      "2025-07-21 23:59:00,896 — INFO — layer 2, [0:8649], loss=11.0348\n"
     ]
    },
    {
     "name": "stderr",
     "output_type": "stream",
     "text": [
      "epoch 0, layer 2:  79%|████████████████████████████████████████████████████████▊               | 8699/11016 [22:06<06:04,  6.35it/s, loss=6.02]"
     ]
    },
    {
     "name": "stdout",
     "output_type": "stream",
     "text": [
      "2025-07-21 23:59:08,879 — INFO — layer 2, [0:8699], loss=6.3564\n",
      "2025-07-21 23:59:08,879 — INFO — layer 2, [0:8699], loss=6.6531\n"
     ]
    },
    {
     "name": "stderr",
     "output_type": "stream",
     "text": [
      "epoch 0, layer 2:  79%|█████████████████████████████████████████████████████████▏              | 8749/11016 [22:14<07:30,  5.03it/s, loss=9.68]"
     ]
    },
    {
     "name": "stdout",
     "output_type": "stream",
     "text": [
      "2025-07-21 23:59:17,264 — INFO — layer 2, [0:8749], loss=9.0555\n",
      "2025-07-21 23:59:17,264 — INFO — layer 2, [0:8749], loss=6.9580\n"
     ]
    },
    {
     "name": "stderr",
     "output_type": "stream",
     "text": [
      "epoch 0, layer 2:  80%|█████████████████████████████████████████████████████████▌              | 8799/11016 [22:22<05:34,  6.63it/s, loss=6.69]"
     ]
    },
    {
     "name": "stdout",
     "output_type": "stream",
     "text": [
      "2025-07-21 23:59:25,283 — INFO — layer 2, [0:8799], loss=6.0413\n",
      "2025-07-21 23:59:25,283 — INFO — layer 2, [0:8799], loss=6.0108\n"
     ]
    },
    {
     "name": "stderr",
     "output_type": "stream",
     "text": [
      "epoch 0, layer 2:  80%|█████████████████████████████████████████████████████████▊              | 8849/11016 [22:30<05:18,  6.81it/s, loss=14.6]"
     ]
    },
    {
     "name": "stdout",
     "output_type": "stream",
     "text": [
      "2025-07-21 23:59:32,908 — INFO — layer 2, [0:8849], loss=15.1446\n",
      "2025-07-21 23:59:32,908 — INFO — layer 2, [0:8849], loss=24.6970\n"
     ]
    },
    {
     "name": "stderr",
     "output_type": "stream",
     "text": [
      "epoch 0, layer 2:  81%|██████████████████████████████████████████████████████████▏             | 8899/11016 [22:37<05:31,  6.39it/s, loss=7.12]"
     ]
    },
    {
     "name": "stdout",
     "output_type": "stream",
     "text": [
      "2025-07-21 23:59:40,549 — INFO — layer 2, [0:8899], loss=6.8594\n",
      "2025-07-21 23:59:40,549 — INFO — layer 2, [0:8899], loss=6.9456\n"
     ]
    },
    {
     "name": "stderr",
     "output_type": "stream",
     "text": [
      "epoch 0, layer 2:  81%|██████████████████████████████████████████████████████████▍             | 8949/11016 [22:45<05:08,  6.70it/s, loss=6.71]"
     ]
    },
    {
     "name": "stdout",
     "output_type": "stream",
     "text": [
      "2025-07-21 23:59:47,894 — INFO — layer 2, [0:8949], loss=6.2006\n",
      "2025-07-21 23:59:47,894 — INFO — layer 2, [0:8949], loss=7.0697\n"
     ]
    },
    {
     "name": "stderr",
     "output_type": "stream",
     "text": [
      "epoch 0, layer 2:  82%|██████████████████████████████████████████████████████████▊             | 8999/11016 [22:52<05:09,  6.52it/s, loss=9.55]"
     ]
    },
    {
     "name": "stdout",
     "output_type": "stream",
     "text": [
      "2025-07-21 23:59:55,466 — INFO — layer 2, [0:8999], loss=7.6677\n",
      "2025-07-21 23:59:55,466 — INFO — layer 2, [0:8999], loss=12.7461\n"
     ]
    },
    {
     "name": "stderr",
     "output_type": "stream",
     "text": [
      "epoch 0, layer 2:  82%|███████████████████████████████████████████████████████████▉             | 9049/11016 [23:00<05:01,  6.52it/s, loss=6.7]"
     ]
    },
    {
     "name": "stdout",
     "output_type": "stream",
     "text": [
      "2025-07-22 00:00:03,111 — INFO — layer 2, [0:9049], loss=7.1190\n",
      "2025-07-22 00:00:03,111 — INFO — layer 2, [0:9049], loss=7.3662\n"
     ]
    },
    {
     "name": "stderr",
     "output_type": "stream",
     "text": [
      "epoch 0, layer 2:  83%|███████████████████████████████████████████████████████████▍            | 9099/11016 [23:07<04:47,  6.66it/s, loss=5.88]"
     ]
    },
    {
     "name": "stdout",
     "output_type": "stream",
     "text": [
      "2025-07-22 00:00:10,636 — INFO — layer 2, [0:9099], loss=5.7534\n",
      "2025-07-22 00:00:10,636 — INFO — layer 2, [0:9099], loss=5.9442\n"
     ]
    },
    {
     "name": "stderr",
     "output_type": "stream",
     "text": [
      "epoch 0, layer 2:  83%|███████████████████████████████████████████████████████████▊            | 9149/11016 [23:15<04:37,  6.73it/s, loss=6.81]"
     ]
    },
    {
     "name": "stdout",
     "output_type": "stream",
     "text": [
      "2025-07-22 00:00:18,414 — INFO — layer 2, [0:9149], loss=8.0130\n",
      "2025-07-22 00:00:18,414 — INFO — layer 2, [0:9149], loss=6.5878\n"
     ]
    },
    {
     "name": "stderr",
     "output_type": "stream",
     "text": [
      "epoch 0, layer 2:  84%|████████████████████████████████████████████████████████████            | 9199/11016 [23:23<04:23,  6.90it/s, loss=5.55]"
     ]
    },
    {
     "name": "stdout",
     "output_type": "stream",
     "text": [
      "2025-07-22 00:00:25,833 — INFO — layer 2, [0:9199], loss=5.6107\n",
      "2025-07-22 00:00:25,833 — INFO — layer 2, [0:9199], loss=6.4212\n"
     ]
    },
    {
     "name": "stderr",
     "output_type": "stream",
     "text": [
      "epoch 0, layer 2:  84%|████████████████████████████████████████████████████████████▍           | 9249/11016 [23:30<04:48,  6.11it/s, loss=5.44]"
     ]
    },
    {
     "name": "stdout",
     "output_type": "stream",
     "text": [
      "2025-07-22 00:00:33,390 — INFO — layer 2, [0:9249], loss=5.4282\n",
      "2025-07-22 00:00:33,390 — INFO — layer 2, [0:9249], loss=6.1469\n"
     ]
    },
    {
     "name": "stderr",
     "output_type": "stream",
     "text": [
      "epoch 0, layer 2:  84%|██████████████████████████████████████████████████████████████▍           | 9299/11016 [23:38<04:26,  6.43it/s, loss=32]"
     ]
    },
    {
     "name": "stdout",
     "output_type": "stream",
     "text": [
      "2025-07-22 00:00:40,994 — INFO — layer 2, [0:9299], loss=38.8985\n",
      "2025-07-22 00:00:40,994 — INFO — layer 2, [0:9299], loss=15.4339\n"
     ]
    },
    {
     "name": "stderr",
     "output_type": "stream",
     "text": [
      "epoch 0, layer 2:  85%|█████████████████████████████████████████████████████████████           | 9349/11016 [23:45<04:20,  6.40it/s, loss=5.68]"
     ]
    },
    {
     "name": "stdout",
     "output_type": "stream",
     "text": [
      "2025-07-22 00:00:48,650 — INFO — layer 2, [0:9349], loss=4.8619\n",
      "2025-07-22 00:00:48,650 — INFO — layer 2, [0:9349], loss=4.7906\n"
     ]
    },
    {
     "name": "stderr",
     "output_type": "stream",
     "text": [
      "epoch 0, layer 2:  85%|██████████████████████████████████████████████████████████████▎          | 9399/11016 [23:53<04:14,  6.35it/s, loss=4.8]"
     ]
    },
    {
     "name": "stdout",
     "output_type": "stream",
     "text": [
      "2025-07-22 00:00:56,277 — INFO — layer 2, [0:9399], loss=5.0543\n",
      "2025-07-22 00:00:56,278 — INFO — layer 2, [0:9399], loss=5.1309\n"
     ]
    },
    {
     "name": "stderr",
     "output_type": "stream",
     "text": [
      "epoch 0, layer 2:  86%|█████████████████████████████████████████████████████████████▌          | 9427/11016 [23:57<04:07,  6.43it/s, loss=7.31]"
     ]
    }
   ],
   "source": [
    "# ——— launch ———\n",
    "# from random import randint\n",
    "# os.environ[\"MASTER_PORT\"] = str(15000 + randint(0, 10000))\n",
    "\n",
    "# num_proc = torch.cuda.device_count() if USE_MULTIGPU else 1\n",
    "\n",
    "global run_id, ts\n",
    "ts = time.strftime(\"%Y%m%d_%H%M%S\")\n",
    "run_id = str(uuid.uuid4())\n",
    "num_proc=2\n",
    "notebook_launcher(train_worker, num_processes=num_proc)"
   ]
  },
  {
   "cell_type": "code",
   "execution_count": 8,
   "metadata": {},
   "outputs": [
    {
     "data": {
      "text/plain": [
       "<Logger train_decomposer (INFO)>"
      ]
     },
     "execution_count": 8,
     "metadata": {},
     "output_type": "execute_result"
    }
   ],
   "source": [
    "logger"
   ]
  },
  {
   "cell_type": "markdown",
   "metadata": {},
   "source": []
  }
 ],
 "metadata": {
  "kernelspec": {
   "display_name": "My Venv",
   "language": "python",
   "name": "mykernel"
  },
  "language_info": {
   "codemirror_mode": {
    "name": "ipython",
    "version": 3
   },
   "file_extension": ".py",
   "mimetype": "text/x-python",
   "name": "python",
   "nbconvert_exporter": "python",
   "pygments_lexer": "ipython3",
   "version": "3.11.9"
  }
 },
 "nbformat": 4,
 "nbformat_minor": 4
}
