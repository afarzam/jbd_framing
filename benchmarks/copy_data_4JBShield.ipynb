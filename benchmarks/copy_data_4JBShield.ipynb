{
 "cells": [
  {
   "cell_type": "markdown",
   "id": "e135a036",
   "metadata": {},
   "source": [
    "# Detect Benchmarks – JBShield vs NSP\n",
    "*Runs with the same YAML you used for training / NSP.*\n",
    "\n",
    "**Usage inside notebook**\n",
    "1. Edit the `ARGS` dict in **Cell 2** below (cfg path, run-ID, method).\n",
    "2. Run all cells.  \n",
    "3. Results saved under `output/` & metrics printed in the log cell.\n"
   ]
  },
  {
   "cell_type": "markdown",
   "id": "180abdab",
   "metadata": {},
   "source": [
    "## 0. Setup, Imports, & Globals"
   ]
  },
  {
   "cell_type": "code",
   "execution_count": 1,
   "id": "e18b5e47",
   "metadata": {},
   "outputs": [],
   "source": [
    "!export CUDA_LAUNCH_BLOCKING=1\n",
    "\n",
    "import os\n",
    "os.environ[\"CUDA_VISIBLE_DEVICES\"] = \"7\"\n",
    "os.environ[\"CUDA_LAUNCH_BLOCKING\"] = \"1\"\n",
    "os.chdir(\"/mnt/home/amir/framingdecomp/framingDecomp/\")\n",
    "\n",
    "import sys\n",
    "sys.path.append(os.getcwd())"
   ]
  },
  {
   "cell_type": "code",
   "execution_count": 2,
   "id": "d4707651",
   "metadata": {},
   "outputs": [
    {
     "data": {
      "text/plain": [
       "'/mnt/home/amir/framingdecomp/framingDecomp'"
      ]
     },
     "execution_count": 2,
     "metadata": {},
     "output_type": "execute_result"
    }
   ],
   "source": [
    "os.getcwd()"
   ]
  },
  {
   "cell_type": "code",
   "execution_count": 3,
   "id": "8ae6b67c",
   "metadata": {},
   "outputs": [
    {
     "name": "stdout",
     "output_type": "stream",
     "text": [
      "Devices visible: 7\n",
      "torch.cud:a.device_count(): 1\n"
     ]
    }
   ],
   "source": [
    "# Check to make sure there are multiple gpus available\n",
    "import torch, os\n",
    "print(\"Devices visible:\", os.environ.get(\"CUDA_VISIBLE_DEVICES\"))\n",
    "print(\"torch.cud:a.device_count():\", torch.cuda.device_count())\n",
    "\n",
    "device = \"cuda\" if torch.cuda.is_available() else \"cpu\"\n",
    "# device = \"cuda\" if torch.cuda.is_available() else \"cpu\"\n"
   ]
  },
  {
   "cell_type": "code",
   "execution_count": 4,
   "id": "9b94d1b9",
   "metadata": {},
   "outputs": [],
   "source": [
    "# Cell: ## 0. Setup, Imports, & Globals\n",
    "\n",
    "# %%\n",
    "from __future__ import annotations\n",
    "import argparse, logging, sys, time, json, random\n",
    "from pathlib import Path\n",
    "import yaml, numpy as np, torch\n",
    "from sklearn.metrics import (roc_auc_score, accuracy_score,\n",
    "                             precision_recall_fscore_support)\n",
    "\n",
    "# our libs\n",
    "from utils.model_utils import load_model\n",
    "from models.encoder   import HFEncoder_notPooled\n",
    "from models.decomposer import NonlinearDecomposer_tiny\n",
    "from benchmarks.jbshield_core import JBShieldDetector\n",
    "from jailbreak_detect_nsp import _evaluate, detect_worker as nsp_worker\n",
    "\n",
    "LOGGER_NAME = \"detect_benchmarks_nb\"\n",
    "RESULTS = []\n",
    "\n"
   ]
  },
  {
   "cell_type": "markdown",
   "id": "5b3957c8",
   "metadata": {},
   "source": [
    "\n",
    "## 1. Notebook Arguments  \n",
    "*(Edit and re-run this cell each time you want a different run.)*\n"
   ]
  },
  {
   "cell_type": "code",
   "execution_count": 5,
   "id": "4192acbf",
   "metadata": {},
   "outputs": [],
   "source": [
    "# Cell: ## 1. Notebook Arguments  \n",
    "# *(Edit and re-run this cell each time you want a different run.)*\n",
    "\n",
    "ARGS = {\n",
    "    \"cfg_path\":       \"configs/jb_detect.yaml\",\n",
    "    \"dec_unique_id\":  \"20250717_101812_06190f25-e1f1-4ed4-87ae-a51365b6061b\",\n",
    "    \"model\": \"meta-llama/Llama-2-7b-chat-hf\",\n",
    "    \"cfg_unique_id\":  None,          # ← usually same as dec_unique_id\n",
    "    \"method\":         \"jbshield\",    # \"jbshield\" or \"nsp\"\n",
    "    \"batch_size\":     32,\n",
    "}"
   ]
  },
  {
   "cell_type": "markdown",
   "id": "cb083904",
   "metadata": {},
   "source": [
    "## 2. Helper – JSONL Loader\n"
   ]
  },
  {
   "cell_type": "code",
   "execution_count": 6,
   "id": "6fe8e4b8",
   "metadata": {},
   "outputs": [],
   "source": [
    "# Cell: ## 2. Helper – JSONL Loader\n",
    "\n",
    "\n",
    "def load_jsonl(path: str):\n",
    "    with open(path) as f:\n",
    "        return [json.loads(l) for l in f if l.strip() and not l.startswith(\"#\")]\n"
   ]
  },
  {
   "cell_type": "markdown",
   "id": "1b982ace",
   "metadata": {},
   "source": [
    "## 3. Set Up Logging"
   ]
  },
  {
   "cell_type": "code",
   "execution_count": 7,
   "id": "2497dc73",
   "metadata": {},
   "outputs": [
    {
     "name": "stderr",
     "output_type": "stream",
     "text": [
      "INFO:detect_benchmarks_nb:Log → logs/detect_jbshield_20250723_183259_20250717_101812_06190f25-e1f1-4ed4-87ae-a51365b6061b.log\n"
     ]
    }
   ],
   "source": [
    "# Cell: ## 3. Set Up Logging\n",
    "\n",
    "Path(\"logs\").mkdir(exist_ok=True)\n",
    "ts = time.strftime(\"%Y%m%d_%H%M%S\")\n",
    "log_file = Path(f\"logs/detect_{ARGS['method']}_{ts}_{ARGS['dec_unique_id']}.log\")\n",
    "logging.basicConfig(level=logging.INFO,\n",
    "                    format=\"%(asctime)s — %(levelname)s — %(message)s\",\n",
    "                    handlers=[logging.StreamHandler(sys.stdout),\n",
    "                              logging.FileHandler(log_file, mode=\"w\")])\n",
    "logger = logging.getLogger(LOGGER_NAME)\n",
    "logger.info(\"Log → %s\", log_file)\n"
   ]
  },
  {
   "cell_type": "markdown",
   "id": "39972077",
   "metadata": {},
   "source": [
    "## 4. Load Config & Dataset Splits"
   ]
  },
  {
   "cell_type": "markdown",
   "id": "55fb0ba6",
   "metadata": {},
   "source": [
    "### split by category again and reorganize"
   ]
  },
  {
   "cell_type": "code",
   "execution_count": 8,
   "id": "53d73e19",
   "metadata": {},
   "outputs": [
    {
     "name": "stderr",
     "output_type": "stream",
     "text": [
      "INFO:detect_benchmarks_nb:Method: jbshield   | Encoder: meta-llama/Llama-2-7b-chat-hf\n"
     ]
    },
    {
     "name": "stdout",
     "output_type": "stream",
     "text": [
      "CFG['data']  → {'input_path_varyFraming_id': './data/populated_artifacts/PAIR/id/all_populated_prompts_gpt4.1_paraphrases10_maxattempts5_noParaphrase.jsonl', 'input_path_varyGoal_id': './data/populated_artifacts/PAIR/id/all_cleaned_populated_prompts_gpt4.1_goals10_maxattempts5_noParaphrase.jsonl', 'input_path_varyFraming_benign_id': './data/populated_benign_JBB-behaviors/PAIR/id/populated_prompts_gpt4.1_paraphrases10_maxattempts5_noParaphrase.jsonl', 'input_path_varyGoal_benign_id': './data/populated_benign_JBB-behaviors/PAIR/id/cleaned_populated_benign_prompts_gpt4.1_goals10_maxattempts5_noParaphrase.jsonl', 'input_path_varyFraming_ood': './data/populated_artifacts/PAIR/ood/all_populated_prompts_gpt4.1_paraphrases10_maxattempts5_noParaphrase.jsonl', 'input_path_varyGoal_ood': './data/populated_artifacts/PAIR/ood/all_cleaned_populated_prompts_gpt4.1_goals10_maxattempts5_noParaphrase.jsonl', 'input_path_varyFraming_benign_ood': './data/populated_benign_JBB-behaviors/PAIR/ood/populated_prompts_gpt4.1_paraphrases10_maxattempts5_noParaphrase.jsonl', 'input_path_varyGoal_benign_ood': './data/populated_benign_JBB-behaviors/PAIR/ood/cleaned_populated_benign_prompts_gpt4.1_goals10_maxattempts5_noParaphrase.jsonl'}\n",
      "input_path_varyFraming_id: './data/populated_artifacts/PAIR/id/all_populated_prompts_gpt4.1_paraphrases10_maxattempts5_noParaphrase.jsonl'  (type=<class 'str'>)\n",
      "input_path_varyGoal_id: './data/populated_artifacts/PAIR/id/all_cleaned_populated_prompts_gpt4.1_goals10_maxattempts5_noParaphrase.jsonl'  (type=<class 'str'>)\n",
      "input_path_varyFraming_benign_id: './data/populated_benign_JBB-behaviors/PAIR/id/populated_prompts_gpt4.1_paraphrases10_maxattempts5_noParaphrase.jsonl'  (type=<class 'str'>)\n",
      "input_path_varyGoal_benign_id: './data/populated_benign_JBB-behaviors/PAIR/id/cleaned_populated_benign_prompts_gpt4.1_goals10_maxattempts5_noParaphrase.jsonl'  (type=<class 'str'>)\n",
      "input_path_varyFraming_ood: './data/populated_artifacts/PAIR/ood/all_populated_prompts_gpt4.1_paraphrases10_maxattempts5_noParaphrase.jsonl'  (type=<class 'str'>)\n",
      "input_path_varyGoal_ood: './data/populated_artifacts/PAIR/ood/all_cleaned_populated_prompts_gpt4.1_goals10_maxattempts5_noParaphrase.jsonl'  (type=<class 'str'>)\n",
      "input_path_varyFraming_benign_ood: './data/populated_benign_JBB-behaviors/PAIR/ood/populated_prompts_gpt4.1_paraphrases10_maxattempts5_noParaphrase.jsonl'  (type=<class 'str'>)\n",
      "input_path_varyGoal_benign_ood: './data/populated_benign_JBB-behaviors/PAIR/ood/cleaned_populated_benign_prompts_gpt4.1_goals10_maxattempts5_noParaphrase.jsonl'  (type=<class 'str'>)\n"
     ]
    }
   ],
   "source": [
    "# Cell: ## 4 · Load Config & Dataset Splits\n",
    "\n",
    "with open(ARGS[\"cfg_path\"]) as f:\n",
    "    CFG = yaml.safe_load(f)\n",
    "\n",
    "# ---------- model name & (optional) decomposer config ----------\n",
    "if ARGS[\"method\"] == \"nsp\":\n",
    "    # NSP needs the encoder name from the training-phase config\n",
    "    if ARGS[\"cfg_unique_id\"] is None:\n",
    "        ARGS[\"cfg_unique_id\"] = ARGS[\"dec_unique_id\"]   # must be provided\n",
    "    with open(f\"output/config_{ARGS['cfg_unique_id']}.yaml\") as f:\n",
    "        CFG_OUT = yaml.safe_load(f)\n",
    "    enc_name = CFG_OUT[\"model\"][\"name\"]\n",
    "else:                     # JBShield\n",
    "    enc_name = CFG[\"model\"][\"name\"]        # read directly from main YAML\n",
    "\n",
    "# ---------- dataset splits (same for both detectors) ----------\n",
    "paths = CFG[\"data\"]\n",
    "print(\"CFG['data']  →\", CFG[\"data\"])\n",
    "for k, v in CFG[\"data\"].items():\n",
    "    print(f\"{k}: {v!r}  (type={type(v)})\")\n",
    "# AR = {k: load_jsonl(v) for k, v in paths.items()}\n",
    "\n",
    "# paths from config\n",
    "rawF_id            = load_jsonl(paths[\"input_path_varyFraming_id\"])\n",
    "rawG_id            = load_jsonl(paths[\"input_path_varyGoal_id\"])\n",
    "rawF_benign_id     = load_jsonl(paths[\"input_path_varyFraming_benign_id\"])\n",
    "rawG_benign_id     = load_jsonl(paths[\"input_path_varyGoal_benign_id\"])\n",
    "rawF_ood           = load_jsonl(paths[\"input_path_varyFraming_ood\"])\n",
    "rawG_ood           = load_jsonl(paths[\"input_path_varyGoal_ood\"])\n",
    "rawF_benign_ood    = load_jsonl(paths[\"input_path_varyFraming_benign_ood\"])\n",
    "rawG_benign_ood    = load_jsonl(paths[\"input_path_varyGoal_benign_ood\"])\n",
    "\n",
    "\n",
    "all_F_benign   = rawF_benign_id + rawF_benign_ood\n",
    "all_G_benign   = rawG_benign_id + rawG_benign_ood\n",
    "all_F_jailbrks = rawF_id        + rawF_ood\n",
    "all_G_jailbrks = rawG_id        + rawG_ood\n",
    "\n",
    "categories_F_benign = set([x['category'] for x in all_F_benign])\n",
    "categories_G_benign = set([x['category'] for x in all_G_benign])\n",
    "categories_F_jailbrks = set([x['category'] for x in all_F_jailbrks])\n",
    "categories_G_jailbrks = set([x['category'] for x in all_G_jailbrks])\n",
    "intersection = categories_F_benign.intersection(categories_G_benign)\n",
    "intersection = intersection.intersection(categories_F_jailbrks)\n",
    "intersection = intersection.intersection(categories_G_jailbrks)\n",
    "import random\n",
    "random.seed(42)\n",
    "ood_cats = set(random.sample(list(intersection), len(intersection) // 3))\n",
    "id_cats = intersection.difference(ood_cats)\n",
    "\n",
    "\n",
    "rawF_id            = [entry for entry in rawF_id\n",
    "                      if entry['category'] in id_cats]\n",
    "rawG_id            = [entry for entry in rawG_id\n",
    "                      if entry['category'] in id_cats]\n",
    "rawF_benign_id     = [entry for entry in rawF_benign_id\n",
    "                            if entry['category'] in id_cats]\n",
    "rawG_benign_id     = [entry for entry in rawG_benign_id\n",
    "                      if entry['category'] in id_cats]\n",
    "rawF_ood           = [entry for entry in rawF_ood\n",
    "                      if entry['category'] in ood_cats]\n",
    "rawG_ood           = [entry for entry in rawG_ood\n",
    "                      if entry['category'] in ood_cats]\n",
    "rawF_benign_ood    = [entry for entry in rawF_benign_ood\n",
    "                            if entry['category'] in ood_cats]\n",
    "rawG_benign_ood    = [entry for entry in rawG_benign_ood\n",
    "                      if entry['category'] in ood_cats]\n",
    "\n",
    "\n",
    "AR = {\n",
    "    \"F_id\":  rawF_id,\n",
    "    \"G_id\":  rawG_id,\n",
    "    \"Fb_id\": rawF_benign_id,\n",
    "    \"Gb_id\": rawG_benign_id,\n",
    "    \"F_ood\": rawF_ood,\n",
    "    \"G_ood\": rawG_ood,\n",
    "    \"Fb_ood\":rawF_benign_ood,\n",
    "    \"Gb_ood\":rawG_benign_ood,\n",
    "}\n",
    "\n",
    "\n",
    "\n",
    "benign_id  = AR[\"Fb_id\"] + AR[\"Gb_id\"]\n",
    "jail_id    = AR[\"F_id\"]  + AR[\"G_id\"]\n",
    "m = min(len(benign_id), len(jail_id))\n",
    "benign_id, jail_id = random.sample(benign_id, m), random.sample(jail_id, m)\n",
    "\n",
    "benign_ood = AR[\"Fb_ood\"] + AR[\"Gb_ood\"]\n",
    "jail_ood   = AR[\"F_ood\"]  + AR[\"G_ood\"]\n",
    "\n",
    "device = \"cuda\" if torch.cuda.is_available() else \"cpu\"\n",
    "logger.info(\"Method: %s   | Encoder: %s\", ARGS[\"method\"], enc_name)\n",
    "\n"
   ]
  },
  {
   "cell_type": "markdown",
   "id": "fb5374cf",
   "metadata": {},
   "source": [
    "### keep the same splits"
   ]
  },
  {
   "cell_type": "code",
   "execution_count": 8,
   "id": "c76ec702",
   "metadata": {},
   "outputs": [
    {
     "name": "stderr",
     "output_type": "stream",
     "text": [
      "INFO:detect_benchmarks_nb:Method: jbshield   | Encoder: meta-llama/Llama-2-7b-chat-hf\n"
     ]
    },
    {
     "name": "stdout",
     "output_type": "stream",
     "text": [
      "CFG['data']  → {'input_path_varyFraming_id': './data/populated_artifacts/PAIR/id/all_populated_prompts_gpt4.1_paraphrases10_maxattempts5_noParaphrase.jsonl', 'input_path_varyGoal_id': './data/populated_artifacts/PAIR/id/all_cleaned_populated_prompts_gpt4.1_goals10_maxattempts5_noParaphrase.jsonl', 'input_path_varyFraming_benign_id': './data/populated_benign_JBB-behaviors/PAIR/id/populated_prompts_gpt4.1_paraphrases10_maxattempts5_noParaphrase.jsonl', 'input_path_varyGoal_benign_id': './data/populated_benign_JBB-behaviors/PAIR/id/cleaned_populated_benign_prompts_gpt4.1_goals10_maxattempts5_noParaphrase.jsonl', 'input_path_varyFraming_ood': './data/populated_artifacts/PAIR/ood/all_populated_prompts_gpt4.1_paraphrases10_maxattempts5_noParaphrase.jsonl', 'input_path_varyGoal_ood': './data/populated_artifacts/PAIR/ood/all_cleaned_populated_prompts_gpt4.1_goals10_maxattempts5_noParaphrase.jsonl', 'input_path_varyFraming_benign_ood': './data/populated_benign_JBB-behaviors/PAIR/ood/populated_prompts_gpt4.1_paraphrases10_maxattempts5_noParaphrase.jsonl', 'input_path_varyGoal_benign_ood': './data/populated_benign_JBB-behaviors/PAIR/ood/cleaned_populated_benign_prompts_gpt4.1_goals10_maxattempts5_noParaphrase.jsonl'}\n",
      "input_path_varyFraming_id: './data/populated_artifacts/PAIR/id/all_populated_prompts_gpt4.1_paraphrases10_maxattempts5_noParaphrase.jsonl'  (type=<class 'str'>)\n",
      "input_path_varyGoal_id: './data/populated_artifacts/PAIR/id/all_cleaned_populated_prompts_gpt4.1_goals10_maxattempts5_noParaphrase.jsonl'  (type=<class 'str'>)\n",
      "input_path_varyFraming_benign_id: './data/populated_benign_JBB-behaviors/PAIR/id/populated_prompts_gpt4.1_paraphrases10_maxattempts5_noParaphrase.jsonl'  (type=<class 'str'>)\n",
      "input_path_varyGoal_benign_id: './data/populated_benign_JBB-behaviors/PAIR/id/cleaned_populated_benign_prompts_gpt4.1_goals10_maxattempts5_noParaphrase.jsonl'  (type=<class 'str'>)\n",
      "input_path_varyFraming_ood: './data/populated_artifacts/PAIR/ood/all_populated_prompts_gpt4.1_paraphrases10_maxattempts5_noParaphrase.jsonl'  (type=<class 'str'>)\n",
      "input_path_varyGoal_ood: './data/populated_artifacts/PAIR/ood/all_cleaned_populated_prompts_gpt4.1_goals10_maxattempts5_noParaphrase.jsonl'  (type=<class 'str'>)\n",
      "input_path_varyFraming_benign_ood: './data/populated_benign_JBB-behaviors/PAIR/ood/populated_prompts_gpt4.1_paraphrases10_maxattempts5_noParaphrase.jsonl'  (type=<class 'str'>)\n",
      "input_path_varyGoal_benign_ood: './data/populated_benign_JBB-behaviors/PAIR/ood/cleaned_populated_benign_prompts_gpt4.1_goals10_maxattempts5_noParaphrase.jsonl'  (type=<class 'str'>)\n"
     ]
    }
   ],
   "source": [
    "# Cell: ## 4 · Load Config & Dataset Splits\n",
    "\n",
    "with open(ARGS[\"cfg_path\"]) as f:\n",
    "    CFG = yaml.safe_load(f)\n",
    "\n",
    "# ---------- model name & (optional) decomposer config ----------\n",
    "if ARGS[\"method\"] == \"nsp\":\n",
    "    # NSP needs the encoder name from the training-phase config\n",
    "    if ARGS[\"cfg_unique_id\"] is None:\n",
    "        ARGS[\"cfg_unique_id\"] = ARGS[\"dec_unique_id\"]   # must be provided\n",
    "    with open(f\"output/config_{ARGS['cfg_unique_id']}.yaml\") as f:\n",
    "        CFG_OUT = yaml.safe_load(f)\n",
    "    enc_name = CFG_OUT[\"model\"][\"name\"]\n",
    "else:                     # JBShield\n",
    "    enc_name = CFG[\"model\"][\"name\"]        # read directly from main YAML\n",
    "\n",
    "# ---------- dataset splits (same for both detectors) ----------\n",
    "paths = CFG[\"data\"]\n",
    "print(\"CFG['data']  →\", CFG[\"data\"])\n",
    "for k, v in CFG[\"data\"].items():\n",
    "    print(f\"{k}: {v!r}  (type={type(v)})\")\n",
    "# AR = {k: load_jsonl(v) for k, v in paths.items()}\n",
    "AR = {\n",
    "    \"F_id\":  load_jsonl(paths[\"input_path_varyFraming_id\"]),\n",
    "    \"G_id\":  load_jsonl(paths[\"input_path_varyGoal_id\"]),\n",
    "    \"Fb_id\": load_jsonl(paths[\"input_path_varyFraming_benign_id\"]),\n",
    "    \"Gb_id\": load_jsonl(paths[\"input_path_varyGoal_benign_id\"]),\n",
    "    \"F_ood\": load_jsonl(paths[\"input_path_varyFraming_ood\"]),\n",
    "    \"G_ood\": load_jsonl(paths[\"input_path_varyGoal_ood\"]),\n",
    "    \"Fb_ood\":load_jsonl(paths[\"input_path_varyFraming_benign_ood\"]),\n",
    "    \"Gb_ood\":load_jsonl(paths[\"input_path_varyGoal_benign_ood\"]),\n",
    "}\n",
    "\n",
    "benign_id  = AR[\"Fb_id\"] + AR[\"Gb_id\"]\n",
    "jail_id    = AR[\"F_id\"]  + AR[\"G_id\"]\n",
    "m = min(len(benign_id), len(jail_id))\n",
    "benign_id, jail_id = random.sample(benign_id, m), random.sample(jail_id, m)\n",
    "\n",
    "benign_ood = AR[\"Fb_ood\"] + AR[\"Gb_ood\"]\n",
    "jail_ood   = AR[\"F_ood\"]  + AR[\"G_ood\"]\n",
    "\n",
    "device = \"cuda\" if torch.cuda.is_available() else \"cpu\"\n",
    "logger.info(\"Method: %s   | Encoder: %s\", ARGS[\"method\"], enc_name)\n"
   ]
  },
  {
   "cell_type": "code",
   "execution_count": 9,
   "id": "1104bab3",
   "metadata": {},
   "outputs": [
    {
     "data": {
      "text/plain": [
       "'/mnt/home/amir/framingdecomp/framingDecomp'"
      ]
     },
     "execution_count": 9,
     "metadata": {},
     "output_type": "execute_result"
    }
   ],
   "source": [
    "os.getcwd()"
   ]
  },
  {
   "cell_type": "markdown",
   "id": "0ceec015",
   "metadata": {},
   "source": [
    "### with Cal and Test"
   ]
  },
  {
   "cell_type": "code",
   "execution_count": 9,
   "id": "eda4f6b1",
   "metadata": {},
   "outputs": [],
   "source": [
    "import pandas as pd\n",
    "\n",
    "def remove_newlines(input_string: str) -> str:\n",
    "  return input_string.replace('\\n', ' ')\n"
   ]
  },
  {
   "cell_type": "code",
   "execution_count": 12,
   "id": "599dac6c",
   "metadata": {},
   "outputs": [],
   "source": [
    "\n",
    "# --- harmless data\n",
    "df_benign = pd.DataFrame({\n",
    "    \"prompt\": [remove_newlines(e[\"prompt\"]) if '\\n' in e[\"prompt\"] else e[\"prompt\"] \n",
    "               for e in benign_id],\n",
    "    \"label\": [\"harmless\"] * len(benign_id)\n",
    "})\n",
    "out_path = \"../JBShield/data/harmless.csv\"\n",
    "df_benign.to_csv(out_path, index=False)\n",
    "\n",
    "N_CAL = 100\n",
    "shuffled_benign = df_benign.sample(frac=1, random_state=42).reset_index(drop=True)\n",
    "df_benign_cal = shuffled_benign[:N_CAL]\n",
    "out_path = \"../JBShield/data/harmless_calibration.csv\"\n",
    "df_benign_cal.to_csv(out_path, index=False)\n",
    "\n",
    "# df_benign_test = df_benign.sample(n=int(len(benign_id)*.2), random_state=1042)\n",
    "df_benign_test = shuffled_benign[N_CAL:]\n",
    "out_path = \"../JBShield/data/harmless_test.csv\"\n",
    "df_benign_test.to_csv(out_path, index=False)\n",
    "\n",
    "df_benign_ood = pd.DataFrame({\n",
    "    \"prompt\": [remove_newlines(e[\"prompt\"]) if '\\n' in e[\"prompt\"] else e[\"prompt\"] \n",
    "               for e in benign_ood],\n",
    "    \"label\": [\"harmless\"] * len(benign_ood)\n",
    "})\n",
    "out_path = \"../JBShield/data/harmless_test_ood.csv\"\n",
    "df_benign_ood.to_csv(out_path, index=False)\n",
    "\n"
   ]
  },
  {
   "cell_type": "code",
   "execution_count": 13,
   "id": "0cb6cb04",
   "metadata": {},
   "outputs": [],
   "source": [
    "\n",
    "# --- harmful data\n",
    "df_harmful = pd.DataFrame({\n",
    "    \"prompt\": [remove_newlines(e[\"goal\"]) if '\\n' in e[\"goal\"] else e[\"goal\"] \n",
    "               for e in jail_id],\n",
    "    \"label\": [\"harmful\"] * len(jail_id)\n",
    "})\n",
    "out_path = \"../JBShield/data/harmful.csv\"\n",
    "df_harmful.to_csv(out_path, index=False)\n",
    "\n",
    "N_CAL = 100\n",
    "shuffled_harmful = df_harmful.sample(frac=1, random_state=42).reset_index(drop=True)\n",
    "df_harmful_cal = shuffled_harmful[:N_CAL]\n",
    "out_path = \"../JBShield/data/harmful_calibration.csv\"\n",
    "df_harmful_cal.to_csv(out_path, index=False)\n",
    "\n",
    "# df_harmful_test = df_harmful.sample(n=int(len(jail_id)*.2), random_state=1042)\n",
    "df_harmful_test = shuffled_harmful[N_CAL:]\n",
    "out_path = \"../JBShield/data/harmful_test.csv\"\n",
    "df_harmful_test.to_csv(out_path, index=False)\n",
    "\n",
    "df_harmful_ood = pd.DataFrame({\n",
    "    \"prompt\": [remove_newlines(e[\"goal\"]) if '\\n' in e[\"goal\"] else e[\"goal\"] \n",
    "               for e in jail_ood],\n",
    "    \"label\": [\"harmful\"] * len(jail_ood)\n",
    "})\n",
    "out_path = \"../JBShield/data/harmful_test_ood.csv\"\n",
    "df_harmful_ood.to_csv(out_path, index=False)\n",
    "\n",
    "\n"
   ]
  },
  {
   "cell_type": "code",
   "execution_count": 14,
   "id": "1297a217",
   "metadata": {},
   "outputs": [],
   "source": [
    "\n",
    "\n",
    "# ----- jailbreak data\n",
    "\n",
    "# df_jb = pd.DataFrame({\n",
    "#     \"goal\": [remove_newlines(e[\"goal\"]) if '\\n' in e[\"goal\"] else e[\"goal\"]\n",
    "#              for e in jail_id + jail_ood],\n",
    "#     \"prompt\": [remove_newlines(e[\"prompt\"]) if '\\n' in e[\"prompt\"] else e[\"prompt\"] \n",
    "#                for e in jail_id + jail_ood],\n",
    "#     \"label\": [\"harmful\"] * len(jail_id + jail_ood)\n",
    "# })\n",
    "\n",
    "model_names = ['llama-2', 'llama-3', 'mistral', 'vicuna-13b', 'vicuna-7b']\n",
    "name_dict = {'mistral': 'mistral-7b-instruct',\n",
    "             'llama-2': 'llama-2-7b-chat',\n",
    "             'llama-3': 'llama-3-8b-instruct',\n",
    "             'vicuna-13b': 'vicuna-13b',\n",
    "             'vicuna-7b': 'vicuna-7b'}\n",
    "\n",
    "for model_name in model_names:\n",
    "    entries = [{'goal': remove_newlines(e[\"goal\"]), \n",
    "                'jailbreak': remove_newlines(e[\"prompt\"]), \n",
    "                'model': model_name,\n",
    "                'method': 'PAIR',\n",
    "                'target': \"\"}\n",
    "               for e in jail_id + jail_ood]\n",
    "    out_path = f\"../JBShield/data/jailbreak/pair/{model_name}.json\"\n",
    "    with open(out_path, 'w') as f:\n",
    "        f.write(json.dumps(entries) + '\\n')\n",
    "    # for entry in entries[1:]:\n",
    "    #   with open(out_path, \"a\") as fout:\n",
    "    #       fout.write(json.dumps(entry) + \"\\n\")\n",
    "    \n",
    "    entries_id = [{'goal': remove_newlines(e[\"goal\"]), \n",
    "                'jailbreak': remove_newlines(e[\"prompt\"]), \n",
    "                'model': model_name,\n",
    "                'method': 'PAIR',\n",
    "                'target': \"\"}\n",
    "               for e in jail_id]\n",
    "    N_CAL = 100\n",
    "    random.seed(42)  # for reproducibility\n",
    "    entries_cal = random.sample(entries_id, N_CAL)\n",
    "    out_path = f\"../JBShield/data/jailbreak/pair/{model_name}_calibration.json\"\n",
    "    with open(out_path, 'w') as f:\n",
    "        f.write(json.dumps(entries_cal) + '\\n')\n",
    "    # for entry in entries_cal[1:]:\n",
    "    #   with open(out_path, \"a\") as fout:\n",
    "    #       fout.write(json.dumps(entry) + \"\\n\")\n",
    "          \n",
    "    random.seed(1042)  # for reproducibility\n",
    "    entries_test = random.sample(entries_id, int(len(jail_id)*.2))\n",
    "    out_path = f\"../JBShield/data/jailbreak/pair/{model_name}_test.json\"\n",
    "    with open(out_path, 'w') as f:\n",
    "        f.write(json.dumps(entries_test) + '\\n')\n",
    "    # for entry in entries_test[1:]:\n",
    "    #   with open(out_path, \"a\") as fout:\n",
    "    #       fout.write(json.dumps(entry) + \"\\n\")\n",
    "    \n",
    "    entries_ood = [{'goal': remove_newlines(e[\"goal\"]), \n",
    "                'jailbreak': remove_newlines(e[\"prompt\"]), \n",
    "                'model': model_name,\n",
    "                'method': 'PAIR',\n",
    "                'target': \"\"}\n",
    "               for e in jail_ood]\n",
    "    out_path = f\"../JBShield/data/jailbreak/pair/{model_name}_test_ood.json\"\n",
    "    with open(out_path, 'w') as f:\n",
    "        f.write(json.dumps(entries_ood) + '\\n')\n",
    "    # for entry in entries_test[1:]:\n",
    "    #   with open(out_path, \"a\") as fout:\n",
    "    #       fout.write(json.dumps(entry) + \"\\n\")"
   ]
  },
  {
   "cell_type": "markdown",
   "id": "f4531b2b",
   "metadata": {},
   "source": [
    "### with Train and Val "
   ]
  },
  {
   "cell_type": "code",
   "execution_count": 10,
   "id": "fb7ae853",
   "metadata": {},
   "outputs": [],
   "source": [
    "import pandas as pd\n",
    "\n",
    "\n",
    "from sklearn.model_selection import train_test_split\n",
    "from sklearn.metrics import accuracy_score, precision_recall_fscore_support\n",
    "\n",
    "# 1) Split benign ID into train / val\n",
    "ben_ID_train, ben_ID_val = train_test_split(benign_id, test_size=0.2, random_state=42)\n",
    "jb_ID_train,  jb_ID_val  = train_test_split(jail_id,  test_size=0.2, random_state=42)\n",
    "\n",
    "\n",
    "def remove_newlines(input_string: str) -> str:\n",
    "  return input_string.replace('\\n', ' ')\n"
   ]
  },
  {
   "cell_type": "markdown",
   "id": "64ca79b4",
   "metadata": {},
   "source": [
    "#### Hamrless and Harmful"
   ]
  },
  {
   "cell_type": "code",
   "execution_count": null,
   "id": "77a3dc52",
   "metadata": {},
   "outputs": [],
   "source": [
    "\n",
    "# --- harmless data\n",
    "df_benign = pd.DataFrame({\n",
    "    \"prompt\": [remove_newlines(e[\"prompt\"]) if '\\n' in e[\"prompt\"] else e[\"prompt\"] \n",
    "               for e in benign_id],\n",
    "    \"label\": [\"harmless\"] * len(benign_id)\n",
    "})\n",
    "out_path = \"../JBShield/data/harmless.csv\"\n",
    "df_benign.to_csv(out_path, index=False)\n",
    "\n",
    "df_benign_id_train = pd.DataFrame({\n",
    "    \"prompt\": [remove_newlines(e[\"prompt\"]) if '\\n' in e[\"prompt\"] else e[\"prompt\"] \n",
    "               for e in ben_ID_train],\n",
    "    \"label\": [\"harmless\"] * len(ben_ID_train)\n",
    "})\n",
    "# N_CAL = 100\n",
    "# df_benign_cal = df_benign_id_train.sample(n=N_CAL, random_state=42)\n",
    "out_path = \"../JBShield/data/harmless_calibration.csv\"\n",
    "df_benign_id_train.to_csv(out_path, index=False)\n",
    "\n",
    "\n",
    "df_benign_id_val = pd.DataFrame({\n",
    "    \"prompt\": [remove_newlines(e[\"prompt\"]) if '\\n' in e[\"prompt\"] else e[\"prompt\"] \n",
    "               for e in ben_ID_val],\n",
    "    \"label\": [\"harmless\"] * len(ben_ID_val)\n",
    "})\n",
    "out_path = \"../JBShield/data/harmless_test.csv\"\n",
    "df_benign_id_val.to_csv(out_path, index=False)\n",
    "\n",
    "\n",
    "df_benign_ood = pd.DataFrame({\n",
    "    \"prompt\": [remove_newlines(e[\"prompt\"]) if '\\n' in e[\"prompt\"] else e[\"prompt\"] \n",
    "               for e in benign_ood],\n",
    "    \"label\": [\"harmless\"] * len(benign_ood)\n",
    "})\n",
    "out_path = \"../JBShield/data/harmless_test_ood.csv\"\n",
    "df_benign_ood.to_csv(out_path, index=False)\n"
   ]
  },
  {
   "cell_type": "markdown",
   "id": "f91796ff",
   "metadata": {},
   "source": [
    "#### Jailbreak"
   ]
  },
  {
   "cell_type": "code",
   "execution_count": null,
   "id": "66d32614",
   "metadata": {},
   "outputs": [],
   "source": [
    "\n",
    "# ----- jailbreak data\n",
    "\n",
    "\n",
    "model_names = ['llama-2', 'llama-3', 'mistral', 'vicuna-13b', 'vicuna-7b']\n",
    "name_dict = {'mistral': 'mistral-7b-instruct',\n",
    "             'llama-2': 'llama-2-7b-chat',\n",
    "             'llama-3': 'llama-3-8b-instruct',\n",
    "             'vicuna-13b': 'vicuna-13b',\n",
    "             'vicuna-7b': 'vicuna-7b'}\n",
    "\n",
    "for model_name in model_names:\n",
    "    entries = [{'goal': remove_newlines(e[\"goal\"]), \n",
    "                'jailbreak': remove_newlines(e[\"prompt\"]), \n",
    "                'model': model_name,\n",
    "                'method': 'PAIR',\n",
    "                'target': \"\"}\n",
    "               for e in jail_id]\n",
    "    out_path = f\"../JBShield/data/jailbreak/pair/{model_name}.json\"\n",
    "    with open(out_path, 'w') as f:\n",
    "        f.write(json.dumps(entries) + '\\n')\n",
    "        \n",
    "        \n",
    "    entries_id_train = [{'goal': remove_newlines(e[\"goal\"]), \n",
    "                'jailbreak': remove_newlines(e[\"prompt\"]), \n",
    "                'model': model_name,\n",
    "                'method': 'PAIR',\n",
    "                'target': \"\"}\n",
    "               for e in jb_ID_train]\n",
    "    # N_CAL = 100\n",
    "    # random.seed(42)  # for reproducibility\n",
    "    # entries_cal = random.sample(entries_id_train, N_CAL)\n",
    "    out_path = f\"../JBShield/data/jailbreak/pair/{model_name}_calibration.json\"\n",
    "    with open(out_path, 'w') as f:\n",
    "        f.write(json.dumps(entries_id_train) + '\\n')\n",
    "        \n",
    "          \n",
    "    random.seed(1042)  # for reproducibility\n",
    "    entries_id_val = [{'goal': remove_newlines(e[\"goal\"]), \n",
    "                'jailbreak': remove_newlines(e[\"prompt\"]), \n",
    "                'model': model_name,\n",
    "                'method': 'PAIR',\n",
    "                'target': \"\"}\n",
    "               for e in jb_ID_val]\n",
    "    # entries_test = random.sample(entries_id_val, int(len(jail_id)*.2))\n",
    "    out_path = f\"../JBShield/data/jailbreak/pair/{model_name}_test.json\"\n",
    "    with open(out_path, 'w') as f:\n",
    "        f.write(json.dumps(entries_id_val) + '\\n')\n",
    "        \n",
    "    \n",
    "    entries_ood = [{'goal': remove_newlines(e[\"goal\"]), \n",
    "                'jailbreak': remove_newlines(e[\"prompt\"]), \n",
    "                'model': model_name,\n",
    "                'method': 'PAIR',\n",
    "                'target': \"\"}\n",
    "               for e in jail_ood]\n",
    "    random.seed(1042)  # for reproducibility\n",
    "    out_path = f\"../JBShield/data/jailbreak/pair/{model_name}_test_ood.json\"\n",
    "    with open(out_path, 'w') as f:\n",
    "        f.write(json.dumps(entries_ood) + '\\n')"
   ]
  },
  {
   "cell_type": "code",
   "execution_count": null,
   "id": "a27e5736",
   "metadata": {},
   "outputs": [],
   "source": []
  }
 ],
 "metadata": {
  "kernelspec": {
   "display_name": "My Venv",
   "language": "python",
   "name": "mykernel"
  }
 },
 "nbformat": 4,
 "nbformat_minor": 5
}
